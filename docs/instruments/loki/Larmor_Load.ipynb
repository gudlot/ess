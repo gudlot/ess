{
 "cells": [
  {
   "cell_type": "code",
   "execution_count": 1,
   "id": "cfe22d49-1596-44c0-8156-ad45f596a50c",
   "metadata": {},
   "outputs": [],
   "source": [
    "import scipp as sc\n",
    "import scippneutron as scn\n",
    "import numpy as np"
   ]
  },
  {
   "cell_type": "code",
   "execution_count": 2,
   "id": "ba65b3ee-a58b-4ddc-a2fa-a3abccbca95d",
   "metadata": {},
   "outputs": [
    {
     "data": {
      "text/plain": [
       "'0.4.2'"
      ]
     },
     "execution_count": 2,
     "metadata": {},
     "output_type": "execute_result"
    }
   ],
   "source": [
    "scn.__version__"
   ]
  },
  {
   "cell_type": "markdown",
   "id": "47c4fbf0-1bab-4c37-8e2a-c454f1168756",
   "metadata": {},
   "source": [
    "### Load and show data"
   ]
  },
  {
   "cell_type": "code",
   "execution_count": 3,
   "id": "83705f52-944c-4a8c-a2b6-67fe8cb80445",
   "metadata": {},
   "outputs": [
    {
     "name": "stderr",
     "output_type": "stream",
     "text": [
      "/Users/wojciechpotrzebowski/opt/anaconda3/envs/ess/lib/python3.8/site-packages/scippneutron/file_loading/_monitor_data.py:31: UserWarning: Event data present in NXMonitor group /entry/instrument/monitor_1. Histogram-mode monitor data from this group will be ignored.\n",
      "  warnings.warn(f\"Event data present in NXMonitor group {group.name}. \"\n",
      "/Users/wojciechpotrzebowski/opt/anaconda3/envs/ess/lib/python3.8/site-packages/scippneutron/file_loading/_monitor_data.py:31: UserWarning: Event data present in NXMonitor group /entry/instrument/monitor_2. Histogram-mode monitor data from this group will be ignored.\n",
      "  warnings.warn(f\"Event data present in NXMonitor group {group.name}. \"\n"
     ]
    }
   ],
   "source": [
    "path = 'Larmor_data'\n",
    "data = scn.load_nexus(data_file=f'{path}/2022-02-23_1100_edited.nxs')"
   ]
  },
  {
   "cell_type": "code",
   "execution_count": 4,
   "id": "541975c1-0cba-4b1a-a52c-46812187e6ab",
   "metadata": {},
   "outputs": [
    {
     "data": {
      "text/html": [
       "<div><!-- Original source from -->\n",
       "<!-- https://github.com/jsignell/xarray/blob/1d960933ab252e0f79f7e050e6c9261d55568057/xarray/static/html/icons-svg-inline.html -->\n",
       "<svg style=\"position: absolute; width: 0; height: 0; overflow: hidden\">\n",
       "<defs>\n",
       "<symbol id=\"icon-database\" viewBox=\"0 0 32 32\">\n",
       "<title>Show/Hide data repr</title>\n",
       "<path d=\"M16 0c-8.837 0-16 2.239-16 5v4c0 2.761 7.163 5 16 5s16-2.239 16-5v-4c0-2.761-7.163-5-16-5z\"></path>\n",
       "<path d=\"M16 17c-8.837 0-16-2.239-16-5v6c0 2.761 7.163 5 16 5s16-2.239 16-5v-6c0 2.761-7.163 5-16 5z\"></path>\n",
       "<path d=\"M16 26c-8.837 0-16-2.239-16-5v6c0 2.761 7.163 5 16 5s16-2.239 16-5v-6c0 2.761-7.163 5-16 5z\"></path>\n",
       "</symbol>\n",
       "<symbol id=\"icon-file-text2\" viewBox=\"0 0 32 32\">\n",
       "<title>Show/Hide attributes</title>\n",
       "<path d=\"M28.681 7.159c-0.694-0.947-1.662-2.053-2.724-3.116s-2.169-2.030-3.116-2.724c-1.612-1.182-2.393-1.319-2.841-1.319h-15.5c-1.378 0-2.5 1.121-2.5 2.5v27c0 1.378 1.122 2.5 2.5 2.5h23c1.378 0 2.5-1.122 2.5-2.5v-19.5c0-0.448-0.137-1.23-1.319-2.841zM24.543 5.457c0.959 0.959 1.712 1.825 2.268 2.543h-4.811v-4.811c0.718 0.556 1.584 1.309 2.543 2.268zM28 29.5c0 0.271-0.229 0.5-0.5 0.5h-23c-0.271 0-0.5-0.229-0.5-0.5v-27c0-0.271 0.229-0.5 0.5-0.5 0 0 15.499-0 15.5 0v7c0 0.552 0.448 1 1 1h7v19.5z\"></path>\n",
       "<path d=\"M23 26h-14c-0.552 0-1-0.448-1-1s0.448-1 1-1h14c0.552 0 1 0.448 1 1s-0.448 1-1 1z\"></path>\n",
       "<path d=\"M23 22h-14c-0.552 0-1-0.448-1-1s0.448-1 1-1h14c0.552 0 1 0.448 1 1s-0.448 1-1 1z\"></path>\n",
       "<path d=\"M23 18h-14c-0.552 0-1-0.448-1-1s0.448-1 1-1h14c0.552 0 1 0.448 1 1s-0.448 1-1 1z\"></path>\n",
       "</symbol>\n",
       "</defs>\n",
       "</svg><style id=\"scipp-style-sheet\">.sc-root{--sc-background-color0:var(--jp-layout-color0,#fff);--sc-background-color1:var(--jp-layout-color1,#fcfcfc);--sc-background-color2:var(--jp-layout-color2,#efefef);--sc-inverse-background-color0:var(--jp-inverse-layout-color4,#111);--sc-font-color0:var(--jp-content-font-color0,#000);--sc-font-color1:var(--jp-content-font-color1,#555);--sc-font-color2:var(--jp-content-font-color2,#888);--sc-font-color3:var(--jp-content-font-color3,#ccc);--sc-table-data-color:#f6d028;--sc-table-coords-color:#c6e590;--sc-table-masks-color:#c8c8c8;--sc-table-attrs-color:#ff5555;--sc-table-header-font-color:#111111;}.sc-wrap{font-size:14px;min-width:300px;max-width:800px;}.sc-var-attrs .sc-wrap{padding-left:3em;}.sc-header{padding-top:6px;padding-bottom:6px;margin-bottom:4px;border-bottom:solid 1px #ddd;}.sc-header > div,.sc-header > ul{display:inline;margin-top:0;margin-bottom:0;}.sc-obj-type,.sc-array-name{margin-left:2px;margin-right:10px;}.sc-obj-type{color:var(--sc-font-color1);}.sc-underlying-size{color:var(--sc-font-color2);}.sc-sections{padding-left:0 !important;display:grid;grid-template-columns:150px auto auto auto 1fr 20px 20px;}.sc-section-item{display:contents;}.sc-section-item input{display:none;}.sc-section-item input:enabled + label{cursor:pointer;color:var(--sc-font-color1);}.sc-section-item input:enabled + label:hover{color:var(--sc-font-color0);}.sc-section-summary{grid-column:1;font-weight:500;}.sc-section-summary > span{display:inline-block;padding-left:0.5em;}.sc-section-summary-in:disabled + label{color:var(--sc-font-color1);}.sc-section-summary-in + label:before{display:inline-block;content:'►';font-size:11px;width:15px;text-align:center;}.sc-section-summary-in:disabled + label:before{color:var(--sc-font-color3);}.sc-section-summary-in:checked + label:before{content:'▼';}.sc-section-summary-in:checked + label > span{display:none;}.sc-section-summary,.sc-section-inline-details{padding-top:4px;padding-bottom:4px;}.sc-section-inline-details{grid-column:2 / 5;}.sc-section-details{display:none;grid-column:1 / -1;margin-bottom:5px;}.sc-section-summary-in:checked ~ .sc-section-details{display:contents;}.sc-array-wrap{grid-column:1 / -1;display:grid;grid-template-columns:20px auto;}.sc-array-wrap > label{grid-column:1;vertical-align:top;}.sc-preview{color:var(--sc-font-color2);}.sc-array-preview,.sc-array-data{padding:0 5px !important;grid-column:2;}.sc-array-data,.sc-array-in:checked ~ .sc-array-preview{display:none;}.sc-array-in:checked ~ .sc-array-data,.sc-array-preview{display:inline-block;}.sc-dim-list{display:inline-block !important;list-style:none;padding:0 !important;margin:0;}.sc-dim-list li{display:inline-block;padding:0;margin:0!important;}.sc-dim-list:before{content:'(';}.sc-dim-list:after{content:')';}.sc-dim-list li:not(:last-child):after{content:',';padding-right:5px;}.sc-has-index{font-weight:bold;}.sc-var-list,.sc-var-item{display:contents;}.sc-var-item > div,.sc-var-item label,.sc-var-item > .sc-var-name span{background-color:var(--sc-background-color1);margin-bottom:0;}.sc-var-item > .sc-var-name:hover span{padding-right:5px;}.sc-var-list > li:nth-child(odd) > div,.sc-var-list > li:nth-child(odd) > label,.sc-var-list > li:nth-child(odd) > .sc-var-name span{background-color:var(--sc-background-color2);}.sc-var-name{grid-column:1;}.sc-var-dims{grid-column:2;}.sc-var-dtype{grid-column:3;text-align:right;color:var(--sc-font-color2);}.sc-var-unit{grid-column:4;text-align:left;color:var(--sc-font-color1);}.sc-value-preview{grid-column:5;}.sc-var-preview-variances{text-align:right;}.sc-sections .sc-section-item .sc-section-summary,.sc-sections .sc-section-item .sc-section-inline-details,.sc-section-item .sc-var-list .sc-var-item > div,.sc-section-item .sc-var-list .sc-var-item > label,.sc-section-details .sc-var-list .sc-var-item > div,.sc-section-details .sc-var-list .sc-var-item > label{margin-top:0;margin-bottom:0;}.sc-var-name,.sc-var-dims,.sc-var-dtype,.sc-var-unit,.sc-preview,.sc-attrs dt{white-space:nowrap;overflow:hidden;text-overflow:ellipsis;padding-right:10px;}.sc-var-name:hover,.sc-var-dims:hover,.sc-var-dtype:hover,.sc-var-unit:hover,.sc-attrs dt:hover{overflow:visible;width:auto;z-index:1;}.sc-var-attrs{display:block;}.sc-var-data{display:none;}.sc-var-attrs,.sc-var-data{background-color:var(--sc-background-color0) !important;padding-bottom:5px !important;}.sc-var-attrs-in:checked ~ .sc-var-attrs{display:none;}.sc-var-data-in:checked ~ .sc-var-data{display:block;}.sc-var-data > table{float:right;}.sc-var-name span,.sc-var-data{padding-left:25px !important;}.sc-var-attrs,.sc-var-data{grid-column:1 / -1;}dl.sc-attrs{padding:0;margin:0;display:grid;grid-template-columns:125px auto;}.sc-attrs dt,dd{padding:0;margin:0;float:left;padding-right:10px;width:auto;}.sc-attrs dt{font-weight:normal;grid-column:1;}.sc-attrs dt:hover span{display:inline-block;padding-right:10px;}.sc-attrs dd{grid-column:2;white-space:pre-wrap;word-break:break-all;}.sc-icon-database,.sc-icon-file-text2{display:inline-block;vertical-align:middle;width:1em;height:1.5em !important;stroke-width:0;stroke:currentColor;fill:currentColor;}label.sc-hide-icon svg{opacity:0;}.sc-standalone-var-name{grid-column:1/3;}.sc-standalone-var-name span{padding-left:25px;padding-right:10px;}.sc-table{border-collapse:collapse;}.sc-title{font-weight:bold;font-size:1.5em;}.sc-subtitle{font-weight:normal;font-style:italic;text-align:left;font-size:1.2em;padding:1px;}.sc-table th,.sc-table td{border:1px solid var(--sc-inverse-background-color0);padding:0 5px 0 5px;}.sc-table th{text-align:center;}.sc-table tr{background-color:var(--sc-background-color1);text-align:right;}.sc-table tr:hover{background-color:var(--sc-background-color2);}.sc-table th.sc-data{background-color:var(--sc-table-data-color);color:var(--sc-table-header-font-color);}.sc-table th.sc-coords{background-color:var(--sc-table-coords-color);color:var(--sc-table-header-font-color);}.sc-table th.sc-masks{background-color:var(--sc-table-masks-color);color:var(--sc-table-header-font-color);}.sc-table th.sc-attrs{background-color:var(--sc-table-attrs-color);color:var(--sc-table-header-font-color);}.sc-table th.sc-subheader{background-color:var(--sc-background-color2);}.sc-table td.sc-padding{background-color:var(--sc-background-color1);border:0 solid var(--sc-background-color1);height:1.2em;}.sc-label{fill:var(--sc-font-color0,#444444);text-anchor:middle;}.sc-name{fill:var(--sc-font-color0,#111111);}.sc-inset-line{stroke:var(--sc-font-color1);stroke-width:0.05;stroke-dasharray:0.2,0.2;}.sc-log-wrap{height:25ex;resize:vertical;overflow-y:scroll;display:flex;flex-direction:column-reverse;border:1px solid;border-color:var(--jp-border-color2);background-color:var(--sc-background-color1);}div.sc-log{line-height:2.5ex;}table.sc-log{table-layout:auto;border-collapse:collapse;}tr.sc-log:nth-child(even){background-color:var(--sc-background-color0);}tr.sc-log > td{vertical-align:top;padding-bottom:0.5ex;}.sc-log-time-stamp{min-width:22ch;font-family:var(--jp-code-font-family);color:var(--sc-font-color2);}.sc-log-level{min-width:10ch;}tr.sc-log-debug td.sc-log-level{color:var(--jp-accent-color1);}tr.sc-log-info td.sc-log-level{color:var(--jp-info-color1);}tr.sc-log-warning td.sc-log-level{color:var(--jp-warn-color1);}tr.sc-log-error td.sc-log-level{font-weight:bold;color:var(--jp-error-color2);}tr.sc-log-critical td.sc-log-level{font-weight:bold;color:var(--sc-background-color0);background-color:var(--jp-error-color1);}.sc-log-message{white-space:pre-wrap;width:100%;}.sc-log-html-payload{white-space:normal;}.sc-log-name{padding-right:0.5em;text-align:right;white-space:pre-wrap;color:var(--sc-font-color3);}</style><div class='sc-wrap sc-root'><div class='sc-header'><div class='sc-obj-type'>scipp.DataArray (62.36 MB)</div></div><ul class='sc-sections'><li class='sc-section-item'><input id='section-9321d9bf-d667-4e5e-955e-d4edea68f62b' class='sc-section-summary-in' type='checkbox' disabled ><label for='section-9321d9bf-d667-4e5e-955e-d4edea68f62b' class='sc-section-summary'  title='Expand/collapse section'>Dimensions:</label><div class='sc-section-inline-details'><ul class='sc-dim-list'><li><span class='sc-has-index'>detector_id</span>: 401408</li><li><span class='sc-has-index'>tof</span>: 1</li></ul></div><div class='sc-section-details'></div></li><li class='sc-section-item'><input id='section-554712cf-5290-4bac-bd44-9c38cd5d5bf0' class='sc-section-summary-in' type='checkbox'  checked><label for='section-554712cf-5290-4bac-bd44-9c38cd5d5bf0' class='sc-section-summary' >Coordinates: <span>(4)</span></label><div class='sc-section-inline-details'></div><div class='sc-section-details'><ul class='sc-var-list'><li class='sc-var-item'><div class='sc-var-name'><span class='sc-has-index'>detector_id</span></div><div class='sc-var-dims'>(detector_id)</div><div class='sc-var-dtype'>int32</div><div class='sc-var-unit'></div><div class='sc-value-preview sc-preview'><span><div>1, 2, ..., 401407, 401408</div></span></div><input id='attrs-2e449ec8-0aa9-41b1-a1a6-e0d10746807a' class='sc-var-attrs-in' type='checkbox' disabled><label for='attrs-2e449ec8-0aa9-41b1-a1a6-e0d10746807a' class='sc-hide-icon' title='Show/Hide attributes'><svg class='icon sc-icon-file-text2'><use xlink:href='#icon-file-text2'></use></svg></label><input id='data-dded849a-0f79-482c-8e44-f01017a6e053' class='sc-var-data-in' type='checkbox'><label for='data-dded849a-0f79-482c-8e44-f01017a6e053' title='Show/Hide data repr'><svg class='icon sc-icon-database'><use xlink:href='#icon-database'></use></svg></label><pre class='sc-var-data'>Values:<br>array([     1,      2,      3, ..., 401406, 401407, 401408], dtype=int32)</pre></span></li><li class='sc-var-item'><div class='sc-var-name'><span>position</span></div><div class='sc-var-dims'>(detector_id)</div><div class='sc-var-dtype'>vector3</div><div class='sc-var-unit'>m</div><div class='sc-value-preview sc-preview'><span><div>[ 0.4990235   0.41832992 -4.4298605 ], [ 0.50096887  0.41832992 -4.4298605 ], ..., [ 0.99314776  1.97683012 -4.35336242], [ 0.99509314  1.97683012 -4.35336242]</div></span></div><input id='attrs-c44ea2fc-3b46-42e3-8dda-171301613cbb' class='sc-var-attrs-in' type='checkbox' disabled><label for='attrs-c44ea2fc-3b46-42e3-8dda-171301613cbb' class='sc-hide-icon' title='Show/Hide attributes'><svg class='icon sc-icon-file-text2'><use xlink:href='#icon-file-text2'></use></svg></label><input id='data-befa390b-42a6-4a14-93f7-77c091572bfa' class='sc-var-data-in' type='checkbox'><label for='data-befa390b-42a6-4a14-93f7-77c091572bfa' title='Show/Hide data repr'><svg class='icon sc-icon-database'><use xlink:href='#icon-database'></use></svg></label><pre class='sc-var-data'>Values:<br>array([[ 0.4990235 ,  0.41832992, -4.4298605 ],\n",
       "       [ 0.50096887,  0.41832992, -4.4298605 ],\n",
       "       [ 0.50291424,  0.41832992, -4.4298605 ],\n",
       "       ...,\n",
       "       [ 0.99120238,  1.97683012, -4.35336242],\n",
       "       [ 0.99314776,  1.97683012, -4.35336242],\n",
       "       [ 0.99509314,  1.97683012, -4.35336242]])</pre></span></li><li class='sc-var-item'><div class='sc-var-name'><span>source_position</span></div><div class='sc-var-dims'>()</div><div class='sc-var-dtype'>vector3</div><div class='sc-var-unit'>m</div><div class='sc-value-preview sc-preview'><span><div>[ 0.          0.         25.29999924]</div></span></div><input id='attrs-192bd5ed-371d-4b54-b2ab-21994e5a9b1f' class='sc-var-attrs-in' type='checkbox' disabled><label for='attrs-192bd5ed-371d-4b54-b2ab-21994e5a9b1f' class='sc-hide-icon' title='Show/Hide attributes'><svg class='icon sc-icon-file-text2'><use xlink:href='#icon-file-text2'></use></svg></label><input id='data-d8bbe182-38b3-438a-8a83-22745713deb2' class='sc-var-data-in' type='checkbox'><label for='data-d8bbe182-38b3-438a-8a83-22745713deb2' title='Show/Hide data repr'><svg class='icon sc-icon-database'><use xlink:href='#icon-database'></use></svg></label><pre class='sc-var-data'>Values:<br>array([ 0.        ,  0.        , 25.29999924])</pre></span></li><li class='sc-var-item'><div class='sc-var-name'><span class='sc-has-index'>tof</span></div><div class='sc-var-dims'>(tof [bin-edge])</div><div class='sc-var-dtype'>int32</div><div class='sc-var-unit'>ns</div><div class='sc-value-preview sc-preview'><span><div>34, 100004725</div></span></div><input id='attrs-c6e5be1a-01e3-4e19-8101-1ecbe0a539e3' class='sc-var-attrs-in' type='checkbox' disabled><label for='attrs-c6e5be1a-01e3-4e19-8101-1ecbe0a539e3' class='sc-hide-icon' title='Show/Hide attributes'><svg class='icon sc-icon-file-text2'><use xlink:href='#icon-file-text2'></use></svg></label><input id='data-2096b4a4-2491-47d0-8359-44f8bb61ab0a' class='sc-var-data-in' type='checkbox'><label for='data-2096b4a4-2491-47d0-8359-44f8bb61ab0a' title='Show/Hide data repr'><svg class='icon sc-icon-database'><use xlink:href='#icon-database'></use></svg></label><pre class='sc-var-data'>Values:<br>array([       34, 100004725], dtype=int32)</pre></span></li></ul></div></li><li class='sc-section-item'><input id='section-18a23d39-dcf1-441a-89db-82be4e82661e' class='sc-section-summary-in' type='checkbox'  checked><label for='section-18a23d39-dcf1-441a-89db-82be4e82661e' class='sc-section-summary' >Data: <span>(1)</span></label><div class='sc-section-inline-details'></div><div class='sc-section-details'><ul class='sc-var-list'><li class='sc-var-item'><div class='sc-var-name'><span></span></div><div class='sc-var-dims'>(detector_id, tof)</div><div class='sc-var-dtype'>DataArrayView</div><div class='sc-var-unit'></div><div class='sc-value-preview sc-preview'><span><div>binned data [len=0, len=0, ..., len=0, len=0]</div></span></div><input id='attrs-a07e0cb3-2a5c-4594-a174-ef92f1ca7959' class='sc-var-attrs-in' type='checkbox' disabled><label for='attrs-a07e0cb3-2a5c-4594-a174-ef92f1ca7959' class='sc-hide-icon' title='Show/Hide attributes'><svg class='icon sc-icon-file-text2'><use xlink:href='#icon-file-text2'></use></svg></label><input id='data-9e5ba046-62d9-491f-b492-9782bb05a85d' class='sc-var-data-in' type='checkbox'><label for='data-9e5ba046-62d9-491f-b492-9782bb05a85d' title='Show/Hide data repr'><svg class='icon sc-icon-database'><use xlink:href='#icon-database'></use></svg></label><pre class='sc-var-data'>Values:<br>[&lt;scipp.DataArray&gt;\n",
       "Dimensions: Sizes[event:0, ]\n",
       "Coordinates:\n",
       "  pulse_time              datetime64             [ns]  (event)  []\n",
       "  tof                         int32             [ns]  (event)  []\n",
       "Data:\n",
       "                            float32         [counts]  (event)  []  []\n",
       "\n",
       ", &lt;scipp.DataArray&gt;\n",
       "Dimensions: Sizes[event:0, ]\n",
       "Coordinates:\n",
       "  pulse_time              datetime64             [ns]  (event)  []\n",
       "  tof                         int32             [ns]  (event)  []\n",
       "Data:\n",
       "                            float32         [counts]  (event)  []  []\n",
       "\n",
       ", ..., &lt;scipp.DataArray&gt;\n",
       "Dimensions: Sizes[event:0, ]\n",
       "Coordinates:\n",
       "  pulse_time              datetime64             [ns]  (event)  []\n",
       "  tof                         int32             [ns]  (event)  []\n",
       "Data:\n",
       "                            float32         [counts]  (event)  []  []\n",
       "\n",
       ", &lt;scipp.DataArray&gt;\n",
       "Dimensions: Sizes[event:0, ]\n",
       "Coordinates:\n",
       "  pulse_time              datetime64             [ns]  (event)  []\n",
       "  tof                         int32             [ns]  (event)  []\n",
       "Data:\n",
       "                            float32         [counts]  (event)  []  []\n",
       "\n",
       "]</pre></li></ul></div></li><li class='sc-section-item'><input id='section-9ac713ed-d4d5-449e-b61b-7054e1b61fe8' class='sc-section-summary-in' type='checkbox'  checked><label for='section-9ac713ed-d4d5-449e-b61b-7054e1b61fe8' class='sc-section-summary' >Attributes: <span>(6)</span></label><div class='sc-section-inline-details'></div><div class='sc-section-details'><ul class='sc-var-list'><li class='sc-var-item'><div class='sc-var-name'><span>end_time</span></div><div class='sc-var-dims'>()</div><div class='sc-var-dtype'>string</div><div class='sc-var-unit'></div><div class='sc-value-preview sc-preview'><span><div>2022-02-23T10:10:00.000Z</div></span></div><input id='attrs-66d7a917-ec68-467b-8061-7acc728f3a04' class='sc-var-attrs-in' type='checkbox' disabled><label for='attrs-66d7a917-ec68-467b-8061-7acc728f3a04' class='sc-hide-icon' title='Show/Hide attributes'><svg class='icon sc-icon-file-text2'><use xlink:href='#icon-file-text2'></use></svg></label><input id='data-6e3363a3-c674-4ec5-bba9-f8cf4a42a7fc' class='sc-var-data-in' type='checkbox'><label for='data-6e3363a3-c674-4ec5-bba9-f8cf4a42a7fc' title='Show/Hide data repr'><svg class='icon sc-icon-database'><use xlink:href='#icon-database'></use></svg></label><pre class='sc-var-data'>Values:<br>&#x27;2022-02-23T10:10:00.000Z&#x27;</pre></li><li class='sc-var-item'><div class='sc-var-name'><span>experiment_title</span></div><div class='sc-var-dims'>()</div><div class='sc-var-dtype'>string</div><div class='sc-var-unit'></div><div class='sc-value-preview sc-preview'><span><div>My experiment</div></span></div><input id='attrs-aff2169f-f098-48dd-8cfd-f9982068d097' class='sc-var-attrs-in' type='checkbox' disabled><label for='attrs-aff2169f-f098-48dd-8cfd-f9982068d097' class='sc-hide-icon' title='Show/Hide attributes'><svg class='icon sc-icon-file-text2'><use xlink:href='#icon-file-text2'></use></svg></label><input id='data-4362e248-1265-4ad2-9c62-71129176238d' class='sc-var-data-in' type='checkbox'><label for='data-4362e248-1265-4ad2-9c62-71129176238d' title='Show/Hide data repr'><svg class='icon sc-icon-database'><use xlink:href='#icon-database'></use></svg></label><pre class='sc-var-data'>Values:<br>&#x27;My experiment&#x27;</pre></li><li class='sc-var-item'><div class='sc-var-name'><span>instrument_name</span></div><div class='sc-var-dims'>()</div><div class='sc-var-dtype'>string</div><div class='sc-var-unit'></div><div class='sc-value-preview sc-preview'><span><div>LARMOR</div></span></div><input id='attrs-9a18e0be-a915-47e0-a2a7-a592d77a0b64' class='sc-var-attrs-in' type='checkbox' disabled><label for='attrs-9a18e0be-a915-47e0-a2a7-a592d77a0b64' class='sc-hide-icon' title='Show/Hide attributes'><svg class='icon sc-icon-file-text2'><use xlink:href='#icon-file-text2'></use></svg></label><input id='data-f4d6b68d-5991-4589-bb8f-6d36a1f22596' class='sc-var-data-in' type='checkbox'><label for='data-f4d6b68d-5991-4589-bb8f-6d36a1f22596' title='Show/Hide data repr'><svg class='icon sc-icon-database'><use xlink:href='#icon-database'></use></svg></label><pre class='sc-var-data'>Values:<br>&#x27;LARMOR&#x27;</pre></li><li class='sc-var-item'><div class='sc-var-name'><span>monitor_1</span></div><div class='sc-var-dims'>()</div><div class='sc-var-dtype'>DataArray</div><div class='sc-var-unit'></div><div class='sc-value-preview sc-preview'><span><div>{dims=[detector_id: 1, tof: 1], coords=[tof, detector_id]}</div></span></div><input id='attrs-8bdcb42b-33fb-44e7-a9f4-207ebf0624ea' class='sc-var-attrs-in' type='checkbox' disabled><label for='attrs-8bdcb42b-33fb-44e7-a9f4-207ebf0624ea' class='sc-hide-icon' title='Show/Hide attributes'><svg class='icon sc-icon-file-text2'><use xlink:href='#icon-file-text2'></use></svg></label><input id='data-0a8452de-6fa9-4c27-9830-7b909d9e3074' class='sc-var-data-in' type='checkbox'><label for='data-0a8452de-6fa9-4c27-9830-7b909d9e3074' title='Show/Hide data repr'><svg class='icon sc-icon-database'><use xlink:href='#icon-database'></use></svg></label><pre class='sc-var-data'>Values:<br>&lt;scipp.DataArray&gt;\n",
       "Dimensions: Sizes[detector_id:1, tof:1, ]\n",
       "Coordinates:\n",
       "  detector_id                 int32  [dimensionless]  (detector_id)  [1]\n",
       "  tof                         int32             [ns]  (tof [bin-edge])  [3418, 99958163]\n",
       "Data:\n",
       "                          DataArrayView  [dimensionless]  (detector_id, tof)  [&lt;scipp.DataArray&gt;\n",
       "Dimensions: Sizes[event:12020892, ]\n",
       "Coordinates:\n",
       "  pulse_time              datetime64             [ns]  (event)  [2022-02-23T09:59:59.886470753, 2022-02-23T09:59:59.886470753, ..., 2022-02-23T10:10:00.014872502, 2022-02-23T10:10:00.014872502]\n",
       "  tof                         int32             [ns]  (event)  [99808149, 99858153, ..., 44305522, 44355526]\n",
       "Data:\n",
       "                            float32         [counts]  (event)  [1, 1, ..., 1, 1]  [1, 1, ..., 1, 1]\n",
       "\n",
       "]\n",
       "\n",
       "</pre></li><li class='sc-var-item'><div class='sc-var-name'><span>monitor_2</span></div><div class='sc-var-dims'>()</div><div class='sc-var-dtype'>DataArray</div><div class='sc-var-unit'></div><div class='sc-value-preview sc-preview'><span><div>{dims=[detector_id: 1, tof: 1], coords=[tof, detector_id]}</div></span></div><input id='attrs-12404cdc-ed88-47b6-8280-c9c5c18f1fb4' class='sc-var-attrs-in' type='checkbox' disabled><label for='attrs-12404cdc-ed88-47b6-8280-c9c5c18f1fb4' class='sc-hide-icon' title='Show/Hide attributes'><svg class='icon sc-icon-file-text2'><use xlink:href='#icon-file-text2'></use></svg></label><input id='data-ce4aca15-758c-42e1-bd05-20b41725b892' class='sc-var-data-in' type='checkbox'><label for='data-ce4aca15-758c-42e1-bd05-20b41725b892' title='Show/Hide data repr'><svg class='icon sc-icon-database'><use xlink:href='#icon-database'></use></svg></label><pre class='sc-var-data'>Values:<br>&lt;scipp.DataArray&gt;\n",
       "Dimensions: Sizes[detector_id:1, tof:1, ]\n",
       "Coordinates:\n",
       "  detector_id                 int32  [dimensionless]  (detector_id)  [1]\n",
       "  tof                         int32             [ns]  (tof [bin-edge])  [3418, 99958163]\n",
       "Data:\n",
       "                          DataArrayView  [dimensionless]  (detector_id, tof)  [&lt;scipp.DataArray&gt;\n",
       "Dimensions: Sizes[event:12020892, ]\n",
       "Coordinates:\n",
       "  pulse_time              datetime64             [ns]  (event)  [2022-02-23T09:59:59.886470753, 2022-02-23T09:59:59.886470753, ..., 2022-02-23T10:10:00.014872502, 2022-02-23T10:10:00.014872502]\n",
       "  tof                         int32             [ns]  (event)  [99808149, 99858153, ..., 44305522, 44355526]\n",
       "Data:\n",
       "                            float32         [counts]  (event)  [1, 1, ..., 1, 1]  [1, 1, ..., 1, 1]\n",
       "\n",
       "]\n",
       "\n",
       "</pre></li><li class='sc-var-item'><div class='sc-var-name'><span>start_time</span></div><div class='sc-var-dims'>()</div><div class='sc-var-dtype'>string</div><div class='sc-var-unit'></div><div class='sc-value-preview sc-preview'><span><div>2022-02-23T10:00:00.000Z</div></span></div><input id='attrs-186d1b2f-7cc2-4b0e-a9ac-e74eb58457a0' class='sc-var-attrs-in' type='checkbox' disabled><label for='attrs-186d1b2f-7cc2-4b0e-a9ac-e74eb58457a0' class='sc-hide-icon' title='Show/Hide attributes'><svg class='icon sc-icon-file-text2'><use xlink:href='#icon-file-text2'></use></svg></label><input id='data-9a6e785e-f5dd-4438-83b1-293bebf1f9f8' class='sc-var-data-in' type='checkbox'><label for='data-9a6e785e-f5dd-4438-83b1-293bebf1f9f8' title='Show/Hide data repr'><svg class='icon sc-icon-database'><use xlink:href='#icon-database'></use></svg></label><pre class='sc-var-data'>Values:<br>&#x27;2022-02-23T10:00:00.000Z&#x27;</pre></li></ul></div></li></ul></div></div>"
      ],
      "text/plain": [
       "<scipp.DataArray>\n",
       "Dimensions: Sizes[detector_id:401408, tof:1, ]\n",
       "Coordinates:\n",
       "  detector_id                 int32  [dimensionless]  (detector_id)  [1, 2, ..., 401407, 401408]\n",
       "  position                  vector3              [m]  (detector_id)  [(0.499023, 0.41833, -4.42986), (0.500969, 0.41833, -4.42986), ..., (0.993148, 1.97683, -4.35336), (0.995093, 1.97683, -4.35336)]\n",
       "  source_position           vector3              [m]  ()  [(0, 0, 25.3)]\n",
       "  tof                         int32             [ns]  (tof [bin-edge])  [34, 100004725]\n",
       "Data:\n",
       "                          DataArrayView  [dimensionless]  (detector_id, tof)  [<scipp.DataArray>\n",
       "Dimensions: Sizes[event:0, ]\n",
       "Coordinates:\n",
       "  pulse_time              datetime64             [ns]  (event)  []\n",
       "  tof                         int32             [ns]  (event)  []\n",
       "Data:\n",
       "                            float32         [counts]  (event)  []  []\n",
       "\n",
       ", <scipp.DataArray>\n",
       "Dimensions: Sizes[event:0, ]\n",
       "Coordinates:\n",
       "  pulse_time              datetime64             [ns]  (event)  []\n",
       "  tof                         int32             [ns]  (event)  []\n",
       "Data:\n",
       "                            float32         [counts]  (event)  []  []\n",
       "\n",
       ", ..., <scipp.DataArray>\n",
       "Dimensions: Sizes[event:0, ]\n",
       "Coordinates:\n",
       "  pulse_time              datetime64             [ns]  (event)  []\n",
       "  tof                         int32             [ns]  (event)  []\n",
       "Data:\n",
       "                            float32         [counts]  (event)  []  []\n",
       "\n",
       ", <scipp.DataArray>\n",
       "Dimensions: Sizes[event:0, ]\n",
       "Coordinates:\n",
       "  pulse_time              datetime64             [ns]  (event)  []\n",
       "  tof                         int32             [ns]  (event)  []\n",
       "Data:\n",
       "                            float32         [counts]  (event)  []  []\n",
       "\n",
       "]\n",
       "Attributes:\n",
       "  end_time                   string  [dimensionless]  ()  [\"2022-02-23T10:10:00.000Z\"]\n",
       "  experiment_title           string  [dimensionless]  ()  [\"My experiment\"]\n",
       "  instrument_name            string  [dimensionless]  ()  [\"LARMOR\"]\n",
       "  monitor_1               DataArray  [dimensionless]  ()  [<scipp.DataArray>\n",
       "Dimensions: Sizes[detector_id:1, tof:1, ]\n",
       "Coordinates:\n",
       "  detector_id                 int32  [dimensionless]  (detector_id)  [1]\n",
       "  tof                         int32             [ns]  (tof [bin-edge])  [3418, 99958163]\n",
       "Data:\n",
       "                          DataArrayView  [dimensionless]  (detector_id, tof)  [<scipp.DataArray>\n",
       "Dimensions: Sizes[event:12020892, ]\n",
       "Coordinates:\n",
       "  pulse_time              datetime64             [ns]  (event)  [2022-02-23T09:59:59.886470753, 2022-02-23T09:59:59.886470753, ..., 2022-02-23T10:10:00.014872502, 2022-02-23T10:10:00.014872502]\n",
       "  tof                         int32             [ns]  (event)  [99808149, 99858153, ..., 44305522, 44355526]\n",
       "Data:\n",
       "                            float32         [counts]  (event)  [1, 1, ..., 1, 1]  [1, 1, ..., 1, 1]\n",
       "\n",
       "]\n",
       "\n",
       "]\n",
       "  monitor_2               DataArray  [dimensionless]  ()  [<scipp.DataArray>\n",
       "Dimensions: Sizes[detector_id:1, tof:1, ]\n",
       "Coordinates:\n",
       "  detector_id                 int32  [dimensionless]  (detector_id)  [1]\n",
       "  tof                         int32             [ns]  (tof [bin-edge])  [3418, 99958163]\n",
       "Data:\n",
       "                          DataArrayView  [dimensionless]  (detector_id, tof)  [<scipp.DataArray>\n",
       "Dimensions: Sizes[event:12020892, ]\n",
       "Coordinates:\n",
       "  pulse_time              datetime64             [ns]  (event)  [2022-02-23T09:59:59.886470753, 2022-02-23T09:59:59.886470753, ..., 2022-02-23T10:10:00.014872502, 2022-02-23T10:10:00.014872502]\n",
       "  tof                         int32             [ns]  (event)  [99808149, 99858153, ..., 44305522, 44355526]\n",
       "Data:\n",
       "                            float32         [counts]  (event)  [1, 1, ..., 1, 1]  [1, 1, ..., 1, 1]\n",
       "\n",
       "]\n",
       "\n",
       "]\n",
       "  start_time                 string  [dimensionless]  ()  [\"2022-02-23T10:00:00.000Z\"]\n"
      ]
     },
     "execution_count": 4,
     "metadata": {},
     "output_type": "execute_result"
    }
   ],
   "source": [
    "data"
   ]
  },
  {
   "cell_type": "code",
   "execution_count": 5,
   "id": "c661c3af-0e38-4b97-8609-3f56baff22da",
   "metadata": {},
   "outputs": [
    {
     "data": {
      "text/html": [
       "<svg width=40em viewBox=\"-6.1 0 24 16.6\" class=\"sc-root\"><defs><style id=\"scipp-style-sheet\">.sc-root{--sc-background-color0:var(--jp-layout-color0,#fff);--sc-background-color1:var(--jp-layout-color1,#fcfcfc);--sc-background-color2:var(--jp-layout-color2,#efefef);--sc-inverse-background-color0:var(--jp-inverse-layout-color4,#111);--sc-font-color0:var(--jp-content-font-color0,#000);--sc-font-color1:var(--jp-content-font-color1,#555);--sc-font-color2:var(--jp-content-font-color2,#888);--sc-font-color3:var(--jp-content-font-color3,#ccc);--sc-table-data-color:#f6d028;--sc-table-coords-color:#c6e590;--sc-table-masks-color:#c8c8c8;--sc-table-attrs-color:#ff5555;--sc-table-header-font-color:#111111;}.sc-wrap{font-size:14px;min-width:300px;max-width:800px;}.sc-var-attrs .sc-wrap{padding-left:3em;}.sc-header{padding-top:6px;padding-bottom:6px;margin-bottom:4px;border-bottom:solid 1px #ddd;}.sc-header > div,.sc-header > ul{display:inline;margin-top:0;margin-bottom:0;}.sc-obj-type,.sc-array-name{margin-left:2px;margin-right:10px;}.sc-obj-type{color:var(--sc-font-color1);}.sc-underlying-size{color:var(--sc-font-color2);}.sc-sections{padding-left:0 !important;display:grid;grid-template-columns:150px auto auto auto 1fr 20px 20px;}.sc-section-item{display:contents;}.sc-section-item input{display:none;}.sc-section-item input:enabled + label{cursor:pointer;color:var(--sc-font-color1);}.sc-section-item input:enabled + label:hover{color:var(--sc-font-color0);}.sc-section-summary{grid-column:1;font-weight:500;}.sc-section-summary > span{display:inline-block;padding-left:0.5em;}.sc-section-summary-in:disabled + label{color:var(--sc-font-color1);}.sc-section-summary-in + label:before{display:inline-block;content:'►';font-size:11px;width:15px;text-align:center;}.sc-section-summary-in:disabled + label:before{color:var(--sc-font-color3);}.sc-section-summary-in:checked + label:before{content:'▼';}.sc-section-summary-in:checked + label > span{display:none;}.sc-section-summary,.sc-section-inline-details{padding-top:4px;padding-bottom:4px;}.sc-section-inline-details{grid-column:2 / 5;}.sc-section-details{display:none;grid-column:1 / -1;margin-bottom:5px;}.sc-section-summary-in:checked ~ .sc-section-details{display:contents;}.sc-array-wrap{grid-column:1 / -1;display:grid;grid-template-columns:20px auto;}.sc-array-wrap > label{grid-column:1;vertical-align:top;}.sc-preview{color:var(--sc-font-color2);}.sc-array-preview,.sc-array-data{padding:0 5px !important;grid-column:2;}.sc-array-data,.sc-array-in:checked ~ .sc-array-preview{display:none;}.sc-array-in:checked ~ .sc-array-data,.sc-array-preview{display:inline-block;}.sc-dim-list{display:inline-block !important;list-style:none;padding:0 !important;margin:0;}.sc-dim-list li{display:inline-block;padding:0;margin:0!important;}.sc-dim-list:before{content:'(';}.sc-dim-list:after{content:')';}.sc-dim-list li:not(:last-child):after{content:',';padding-right:5px;}.sc-has-index{font-weight:bold;}.sc-var-list,.sc-var-item{display:contents;}.sc-var-item > div,.sc-var-item label,.sc-var-item > .sc-var-name span{background-color:var(--sc-background-color1);margin-bottom:0;}.sc-var-item > .sc-var-name:hover span{padding-right:5px;}.sc-var-list > li:nth-child(odd) > div,.sc-var-list > li:nth-child(odd) > label,.sc-var-list > li:nth-child(odd) > .sc-var-name span{background-color:var(--sc-background-color2);}.sc-var-name{grid-column:1;}.sc-var-dims{grid-column:2;}.sc-var-dtype{grid-column:3;text-align:right;color:var(--sc-font-color2);}.sc-var-unit{grid-column:4;text-align:left;color:var(--sc-font-color1);}.sc-value-preview{grid-column:5;}.sc-var-preview-variances{text-align:right;}.sc-sections .sc-section-item .sc-section-summary,.sc-sections .sc-section-item .sc-section-inline-details,.sc-section-item .sc-var-list .sc-var-item > div,.sc-section-item .sc-var-list .sc-var-item > label,.sc-section-details .sc-var-list .sc-var-item > div,.sc-section-details .sc-var-list .sc-var-item > label{margin-top:0;margin-bottom:0;}.sc-var-name,.sc-var-dims,.sc-var-dtype,.sc-var-unit,.sc-preview,.sc-attrs dt{white-space:nowrap;overflow:hidden;text-overflow:ellipsis;padding-right:10px;}.sc-var-name:hover,.sc-var-dims:hover,.sc-var-dtype:hover,.sc-var-unit:hover,.sc-attrs dt:hover{overflow:visible;width:auto;z-index:1;}.sc-var-attrs{display:block;}.sc-var-data{display:none;}.sc-var-attrs,.sc-var-data{background-color:var(--sc-background-color0) !important;padding-bottom:5px !important;}.sc-var-attrs-in:checked ~ .sc-var-attrs{display:none;}.sc-var-data-in:checked ~ .sc-var-data{display:block;}.sc-var-data > table{float:right;}.sc-var-name span,.sc-var-data{padding-left:25px !important;}.sc-var-attrs,.sc-var-data{grid-column:1 / -1;}dl.sc-attrs{padding:0;margin:0;display:grid;grid-template-columns:125px auto;}.sc-attrs dt,dd{padding:0;margin:0;float:left;padding-right:10px;width:auto;}.sc-attrs dt{font-weight:normal;grid-column:1;}.sc-attrs dt:hover span{display:inline-block;padding-right:10px;}.sc-attrs dd{grid-column:2;white-space:pre-wrap;word-break:break-all;}.sc-icon-database,.sc-icon-file-text2{display:inline-block;vertical-align:middle;width:1em;height:1.5em !important;stroke-width:0;stroke:currentColor;fill:currentColor;}label.sc-hide-icon svg{opacity:0;}.sc-standalone-var-name{grid-column:1/3;}.sc-standalone-var-name span{padding-left:25px;padding-right:10px;}.sc-table{border-collapse:collapse;}.sc-title{font-weight:bold;font-size:1.5em;}.sc-subtitle{font-weight:normal;font-style:italic;text-align:left;font-size:1.2em;padding:1px;}.sc-table th,.sc-table td{border:1px solid var(--sc-inverse-background-color0);padding:0 5px 0 5px;}.sc-table th{text-align:center;}.sc-table tr{background-color:var(--sc-background-color1);text-align:right;}.sc-table tr:hover{background-color:var(--sc-background-color2);}.sc-table th.sc-data{background-color:var(--sc-table-data-color);color:var(--sc-table-header-font-color);}.sc-table th.sc-coords{background-color:var(--sc-table-coords-color);color:var(--sc-table-header-font-color);}.sc-table th.sc-masks{background-color:var(--sc-table-masks-color);color:var(--sc-table-header-font-color);}.sc-table th.sc-attrs{background-color:var(--sc-table-attrs-color);color:var(--sc-table-header-font-color);}.sc-table th.sc-subheader{background-color:var(--sc-background-color2);}.sc-table td.sc-padding{background-color:var(--sc-background-color1);border:0 solid var(--sc-background-color1);height:1.2em;}.sc-label{fill:var(--sc-font-color0,#444444);text-anchor:middle;}.sc-name{fill:var(--sc-font-color0,#111111);}.sc-inset-line{stroke:var(--sc-font-color1);stroke-width:0.05;stroke-dasharray:0.2,0.2;}.sc-log-wrap{height:25ex;resize:vertical;overflow-y:scroll;display:flex;flex-direction:column-reverse;border:1px solid;border-color:var(--jp-border-color2);background-color:var(--sc-background-color1);}div.sc-log{line-height:2.5ex;}table.sc-log{table-layout:auto;border-collapse:collapse;}tr.sc-log:nth-child(even){background-color:var(--sc-background-color0);}tr.sc-log > td{vertical-align:top;padding-bottom:0.5ex;}.sc-log-time-stamp{min-width:22ch;font-family:var(--jp-code-font-family);color:var(--sc-font-color2);}.sc-log-level{min-width:10ch;}tr.sc-log-debug td.sc-log-level{color:var(--jp-accent-color1);}tr.sc-log-info td.sc-log-level{color:var(--jp-info-color1);}tr.sc-log-warning td.sc-log-level{color:var(--jp-warn-color1);}tr.sc-log-error td.sc-log-level{font-weight:bold;color:var(--jp-error-color2);}tr.sc-log-critical td.sc-log-level{font-weight:bold;color:var(--sc-background-color0);background-color:var(--jp-error-color1);}.sc-log-message{white-space:pre-wrap;width:100%;}.sc-log-html-payload{white-space:normal;}.sc-log-name{padding-right:0.5em;text-align:right;white-space:pre-wrap;color:var(--sc-font-color3);}</style></defs><g transform=\"translate(0,0)\"><g><text x=\"0\" y=\"0.6\"                     class=\"sc-name\" style=\"font-size:0.6px\">                     </text><title>(dims=[&#x27;detector_id&#x27;, &#x27;tof&#x27;], shape=[401408, 1], unit=dimensionless, variances=False)</title><g><title>values</title><rect style=\"fill:#ffee46;fill-opacity:1;stroke:#000;stroke-width:0.05\" id=\"rect\" width=\"1\" height=\"1\" x=\"0.5\" y=\"12.3\"/> <path style=\"fill:#f6d028;stroke:#000;stroke-width:0.05;stroke-linejoin:round\" d=\"m 0.5 12.3 l 0.3 -0.3 h 1 l -0.3 0.3 z\" id=\"path1\" /> <path style=\"fill:#cea800;stroke:#000;stroke-width:0.05;stroke-linejoin:round\" d=\"m 0.5 12.3 m 1 0 l 0.3 -0.3 v 1 l -0.3 0.3 z\" id=\"path2\" /><circle cx=\"1.3405349829004636\" cy=\"13.086753984087238\" r=\"0.07\"/><circle cx=\"0.6957985346073008\" cy=\"13.102081698547611\" r=\"0.07\"/><circle cx=\"0.9598583451568253\" cy=\"13.114604005401565\" r=\"0.07\"/><circle cx=\"0.7964972095383052\" cy=\"13.078767104801353\" r=\"0.07\"/><circle cx=\"0.9936409514870505\" cy=\"12.916215111275678\" r=\"0.07\"/><circle cx=\"1.3347739417404045\" cy=\"12.996385378538372\" r=\"0.07\"/><circle cx=\"0.7805925676044181\" cy=\"13.002318976788889\" r=\"0.07\"/><rect style=\"fill:#ffee46;fill-opacity:1;stroke:#000;stroke-width:0.05\" id=\"rect\" width=\"1\" height=\"1\" x=\"0.5\" y=\"11.3\"/> <path style=\"fill:#f6d028;stroke:#000;stroke-width:0.05;stroke-linejoin:round\" d=\"m 0.5 11.3 l 0.3 -0.3 h 1 l -0.3 0.3 z\" id=\"path1\" /> <path style=\"fill:#cea800;stroke:#000;stroke-width:0.05;stroke-linejoin:round\" d=\"m 0.5 11.3 m 1 0 l 0.3 -0.3 v 1 l -0.3 0.3 z\" id=\"path2\" /><circle cx=\"1.217324861756507\" cy=\"11.890240557439688\" r=\"0.07\"/><circle cx=\"0.9501635362654336\" cy=\"11.857488370961757\" r=\"0.07\"/><circle cx=\"1.1349205266551843\" cy=\"11.919076294837184\" r=\"0.07\"/><circle cx=\"1.046592324120288\" cy=\"12.072221774004621\" r=\"0.07\"/><circle cx=\"1.1935110951992967\" cy=\"11.866316970319374\" r=\"0.07\"/><circle cx=\"1.1078842005640839\" cy=\"12.14485756059331\" r=\"0.07\"/><circle cx=\"0.717621095659229\" cy=\"11.842513403072454\" r=\"0.07\"/><rect style=\"fill:#ffee46;fill-opacity:1;stroke:#000;stroke-width:0.05\" id=\"rect\" width=\"1\" height=\"1\" x=\"0.5\" y=\"10.3\"/> <path style=\"fill:#f6d028;stroke:#000;stroke-width:0.05;stroke-linejoin:round\" d=\"m 0.5 10.3 l 0.3 -0.3 h 1 l -0.3 0.3 z\" id=\"path1\" /> <path style=\"fill:#cea800;stroke:#000;stroke-width:0.05;stroke-linejoin:round\" d=\"m 0.5 10.3 m 1 0 l 0.3 -0.3 v 1 l -0.3 0.3 z\" id=\"path2\" /><circle cx=\"0.8134571921890151\" cy=\"10.500411975432042\" r=\"0.07\"/><circle cx=\"0.9550906952178431\" cy=\"10.85506131345057\" r=\"0.07\"/><circle cx=\"0.9542717694327897\" cy=\"10.56173032174918\" r=\"0.07\"/><circle cx=\"0.7410741662682508\" cy=\"11.124680529013006\" r=\"0.07\"/><circle cx=\"0.6915262935351217\" cy=\"10.9026391308985\" r=\"0.07\"/><circle cx=\"1.2487178503452903\" cy=\"11.14747397845986\" r=\"0.07\"/><circle cx=\"1.1241328042409346\" cy=\"10.629567447657319\" r=\"0.07\"/><rect style=\"fill:#ffee46;fill-opacity:1;stroke:#000;stroke-width:0.05\" id=\"rect\" width=\"1\" height=\"1\" x=\"0.5\" y=\"9.3\"/> <path style=\"fill:#f6d028;stroke:#000;stroke-width:0.05;stroke-linejoin:round\" d=\"m 0.5 9.3 l 0.3 -0.3 h 1 l -0.3 0.3 z\" id=\"path1\" /> <path style=\"fill:#cea800;stroke:#000;stroke-width:0.05;stroke-linejoin:round\" d=\"m 0.5 9.3 m 1 0 l 0.3 -0.3 v 1 l -0.3 0.3 z\" id=\"path2\" /><circle cx=\"0.8802204207143532\" cy=\"10.088800083236208\" r=\"0.07\"/><circle cx=\"0.7944801096272063\" cy=\"10.02422370463482\" r=\"0.07\"/><circle cx=\"1.1455464475692019\" cy=\"9.590674630621544\" r=\"0.07\"/><circle cx=\"0.6048292363815678\" cy=\"9.93131495908251\" r=\"0.07\"/><circle cx=\"0.9579796439566126\" cy=\"10.164351154014506\" r=\"0.07\"/><circle cx=\"0.9356154920064543\" cy=\"10.153204998265611\" r=\"0.07\"/><circle cx=\"1.1996389565183803\" cy=\"9.591824496930721\" r=\"0.07\"/><rect style=\"fill:#ffee46;fill-opacity:1;stroke:#000;stroke-width:0.05\" id=\"rect\" width=\"1\" height=\"1\" x=\"0.5\" y=\"8.3\"/> <path style=\"fill:#f6d028;stroke:#000;stroke-width:0.05;stroke-linejoin:round\" d=\"m 0.5 8.3 l 0.3 -0.3 h 1 l -0.3 0.3 z\" id=\"path1\" /> <path style=\"fill:#cea800;stroke:#000;stroke-width:0.05;stroke-linejoin:round\" d=\"m 0.5 8.3 m 1 0 l 0.3 -0.3 v 1 l -0.3 0.3 z\" id=\"path2\" /><circle cx=\"1.31202209587555\" cy=\"9.050326546713007\" r=\"0.07\"/><circle cx=\"1.0962747575426155\" cy=\"8.494024587744493\" r=\"0.07\"/><circle cx=\"1.204384416483307\" cy=\"8.626279580179268\" r=\"0.07\"/><circle cx=\"0.8351889928787589\" cy=\"8.68073140667113\" r=\"0.07\"/><circle cx=\"1.07692406591748\" cy=\"9.028228446980794\" r=\"0.07\"/><circle cx=\"1.1423539157298184\" cy=\"8.895979824730542\" r=\"0.07\"/><circle cx=\"0.6398193712813124\" cy=\"8.824190243674195\" r=\"0.07\"/><rect style=\"fill:#ffee46;fill-opacity:1;stroke:#000;stroke-width:0.05\" id=\"rect\" width=\"1\" height=\"1\" x=\"0.5\" y=\"7.3\"/> <path style=\"fill:#f6d028;stroke:#000;stroke-width:0.05;stroke-linejoin:round\" d=\"m 0.5 7.3 l 0.3 -0.3 h 1 l -0.3 0.3 z\" id=\"path1\" /> <path style=\"fill:#cea800;stroke:#000;stroke-width:0.05;stroke-linejoin:round\" d=\"m 0.5 7.3 m 1 0 l 0.3 -0.3 v 1 l -0.3 0.3 z\" id=\"path2\" /><circle cx=\"0.9349157655616247\" cy=\"7.407021550469356\" r=\"0.07\"/><circle cx=\"1.1128093460931343\" cy=\"7.986743546295063\" r=\"0.07\"/><circle cx=\"1.2415548602409885\" cy=\"7.79170807009305\" r=\"0.07\"/><circle cx=\"1.3375320296003554\" cy=\"7.429524178699848\" r=\"0.07\"/><circle cx=\"0.873528030666772\" cy=\"7.703130008816073\" r=\"0.07\"/><circle cx=\"1.1730130794605822\" cy=\"7.487244555853293\" r=\"0.07\"/><circle cx=\"1.1090525776281928\" cy=\"7.449091668939035\" r=\"0.07\"/><rect style=\"fill:#ffee46;fill-opacity:1;stroke:#000;stroke-width:0.05\" id=\"rect\" width=\"1\" height=\"1\" x=\"0.5\" y=\"6.3\"/> <path style=\"fill:#f6d028;stroke:#000;stroke-width:0.05;stroke-linejoin:round\" d=\"m 0.5 6.3 l 0.3 -0.3 h 1 l -0.3 0.3 z\" id=\"path1\" /> <path style=\"fill:#cea800;stroke:#000;stroke-width:0.05;stroke-linejoin:round\" d=\"m 0.5 6.3 m 1 0 l 0.3 -0.3 v 1 l -0.3 0.3 z\" id=\"path2\" /><circle cx=\"1.1655487489604526\" cy=\"6.956126656343722\" r=\"0.07\"/><circle cx=\"0.6898383082006656\" cy=\"7.104935723490312\" r=\"0.07\"/><circle cx=\"1.2522366800567428\" cy=\"7.010553904165409\" r=\"0.07\"/><circle cx=\"1.1725359016823877\" cy=\"6.559205587224059\" r=\"0.07\"/><circle cx=\"0.6375526853257384\" cy=\"6.55551668824945\" r=\"0.07\"/><circle cx=\"0.8395010078578029\" cy=\"7.13155918320127\" r=\"0.07\"/><circle cx=\"1.1249379180830288\" cy=\"7.08441897393768\" r=\"0.07\"/><rect style=\"fill:#ffee46;fill-opacity:1;stroke:#000;stroke-width:0.05\" id=\"rect\" width=\"1\" height=\"1\" x=\"0.5\" y=\"5.3\"/> <path style=\"fill:#f6d028;stroke:#000;stroke-width:0.05;stroke-linejoin:round\" d=\"m 0.5 5.3 l 0.3 -0.3 h 1 l -0.3 0.3 z\" id=\"path1\" /> <path style=\"fill:#cea800;stroke:#000;stroke-width:0.05;stroke-linejoin:round\" d=\"m 0.5 5.3 m 1 0 l 0.3 -0.3 v 1 l -0.3 0.3 z\" id=\"path2\" /><circle cx=\"1.1169057254615786\" cy=\"5.6646564617337285\" r=\"0.07\"/><circle cx=\"0.6011953182045195\" cy=\"5.680220990543477\" r=\"0.07\"/><circle cx=\"1.1036748856569583\" cy=\"5.990217374334613\" r=\"0.07\"/><circle cx=\"1.2523031249601244\" cy=\"5.718763135050816\" r=\"0.07\"/><circle cx=\"1.3191670194510787\" cy=\"5.69521165881601\" r=\"0.07\"/><circle cx=\"0.6961753970298402\" cy=\"6.063261737830569\" r=\"0.07\"/><circle cx=\"0.8437854990287814\" cy=\"5.760851198298198\" r=\"0.07\"/><rect style=\"fill:#ffee46;fill-opacity:1;stroke:#000;stroke-width:0.05\" id=\"rect\" width=\"1\" height=\"1\" x=\"0.5\" y=\"4.3\"/> <path style=\"fill:#f6d028;stroke:#000;stroke-width:0.05;stroke-linejoin:round\" d=\"m 0.5 4.3 l 0.3 -0.3 h 1 l -0.3 0.3 z\" id=\"path1\" /> <path style=\"fill:#cea800;stroke:#000;stroke-width:0.05;stroke-linejoin:round\" d=\"m 0.5 4.3 m 1 0 l 0.3 -0.3 v 1 l -0.3 0.3 z\" id=\"path2\" /><circle cx=\"1.0424901365383274\" cy=\"4.481691513509309\" r=\"0.07\"/><circle cx=\"1.0944577006704175\" cy=\"4.678914624238667\" r=\"0.07\"/><circle cx=\"0.7899135954358153\" cy=\"5.078672513276272\" r=\"0.07\"/><circle cx=\"0.7939293412713885\" cy=\"4.872071070630653\" r=\"0.07\"/><circle cx=\"0.8937660243549156\" cy=\"4.5047647075933375\" r=\"0.07\"/><circle cx=\"0.8140252844586902\" cy=\"4.816815979616936\" r=\"0.07\"/><circle cx=\"0.7021353276378577\" cy=\"4.631235100906373\" r=\"0.07\"/><rect style=\"fill:#ffee46;fill-opacity:1;stroke:#000;stroke-width:0.05\" id=\"rect\" width=\"1\" height=\"1\" x=\"0.5\" y=\"3.3\"/> <path style=\"fill:#f6d028;stroke:#000;stroke-width:0.05;stroke-linejoin:round\" d=\"m 0.5 3.3 l 0.3 -0.3 h 1 l -0.3 0.3 z\" id=\"path1\" /> <path style=\"fill:#cea800;stroke:#000;stroke-width:0.05;stroke-linejoin:round\" d=\"m 0.5 3.3 m 1 0 l 0.3 -0.3 v 1 l -0.3 0.3 z\" id=\"path2\" /><circle cx=\"0.9142544610647189\" cy=\"3.9242132544865127\" r=\"0.07\"/><circle cx=\"0.825494222936434\" cy=\"3.4089143088513776\" r=\"0.07\"/><circle cx=\"0.9767807032993389\" cy=\"3.589571853195907\" r=\"0.07\"/><circle cx=\"1.280302546412201\" cy=\"3.7554579140891775\" r=\"0.07\"/><circle cx=\"1.2820986586813348\" cy=\"3.5909518358799852\" r=\"0.07\"/><circle cx=\"1.2340448726878188\" cy=\"4.074586737317659\" r=\"0.07\"/><circle cx=\"1.3638527861340033\" cy=\"3.7695329873556167\" r=\"0.07\"/><rect style=\"fill:#ffee46;fill-opacity:1;stroke:#000;stroke-width:0.05\" id=\"rect\" width=\"1\" height=\"1\" x=\"0.5\" y=\"2.3\"/> <path style=\"fill:#f6d028;stroke:#000;stroke-width:0.05;stroke-linejoin:round\" d=\"m 0.5 2.3 l 0.3 -0.3 h 1 l -0.3 0.3 z\" id=\"path1\" /> <path style=\"fill:#cea800;stroke:#000;stroke-width:0.05;stroke-linejoin:round\" d=\"m 0.5 2.3 m 1 0 l 0.3 -0.3 v 1 l -0.3 0.3 z\" id=\"path2\" /><circle cx=\"1.0216548395014056\" cy=\"2.70058549167407\" r=\"0.07\"/><circle cx=\"0.77905574794575\" cy=\"2.8431452799707086\" r=\"0.07\"/><circle cx=\"1.1430413892844358\" cy=\"3.0219361351041756\" r=\"0.07\"/><circle cx=\"0.6894033774133229\" cy=\"3.046804994374516\" r=\"0.07\"/><circle cx=\"0.8726222223124248\" cy=\"3.070321647883073\" r=\"0.07\"/><circle cx=\"0.6714798756110204\" cy=\"2.7019815775307614\" r=\"0.07\"/><circle cx=\"1.340131406751893\" cy=\"2.851495146385091\" r=\"0.07\"/><rect style=\"fill:#ffee46;fill-opacity:1;stroke:#000;stroke-width:0.05\" id=\"rect\" width=\"1\" height=\"1\" x=\"0.5\" y=\"1.3\"/> <path style=\"fill:#f6d028;stroke:#000;stroke-width:0.05;stroke-linejoin:round\" d=\"m 0.5 1.3 l 0.3 -0.3 h 1 l -0.3 0.3 z\" id=\"path1\" /> <path style=\"fill:#cea800;stroke:#000;stroke-width:0.05;stroke-linejoin:round\" d=\"m 0.5 1.3 m 1 0 l 0.3 -0.3 v 1 l -0.3 0.3 z\" id=\"path2\" /><circle cx=\"0.9612804857140211\" cy=\"2.185489247003763\" r=\"0.07\"/><circle cx=\"0.8897634761803025\" cy=\"2.14889201756154\" r=\"0.07\"/><circle cx=\"0.7559934900068397\" cy=\"1.5220522643200054\" r=\"0.07\"/><circle cx=\"0.6573531275230552\" cy=\"1.7054915150197256\" r=\"0.07\"/><circle cx=\"1.07580245720953\" cy=\"1.5464761520748511\" r=\"0.07\"/><circle cx=\"0.7622041807791295\" cy=\"1.5167229175062404\" r=\"0.07\"/><circle cx=\"0.7475152475469261\" cy=\"2.050411978477584\" r=\"0.07\"/></g><text x=\"0.392\" y=\"7.300000000000001\"                     class=\"sc-label\" style=\"font-size:0.36px\"                     transform=\"rotate(-90, 0.392, 7.300000000000001)\">                        detector_id</text><text x=\"1.0\" y=\"13.66\"                         class=\"sc-label\"                          style=\"font-size:0.36px\">tof</text></g><line x1=1.5 y1=1.3 x2=3.5 y2=0.30000000000000004 class=\"sc-inset-line\"/><line x1=1.5 y1=2.3 x2=3.5 y2=4.9 class=\"sc-inset-line\"/><g transform=\"translate(3.3,0) scale(0.5)\"><g transform=\"translate(0,0)\"><g><text x=\"0\" y=\"0.6\"                     class=\"sc-name\" style=\"font-size:0.6px\">                     </text><title>(dims=[&#x27;event&#x27;], shape=[2386596], unit=counts, variances=True)</title><g><title>variances</title><rect style=\"fill:#ffee46;fill-opacity:1;stroke:#000;stroke-width:0.05\" id=\"rect\" width=\"1\" height=\"1\" x=\"1.1\" y=\"1.3\"/> <path style=\"fill:#f6d028;stroke:#000;stroke-width:0.05;stroke-linejoin:round\" d=\"m 1.1 1.3 l 0.3 -0.3 h 1 l -0.3 0.3 z\" id=\"path1\" /> <path style=\"fill:#cea800;stroke:#000;stroke-width:0.05;stroke-linejoin:round\" d=\"m 1.1 1.3 m 1 0 l 0.3 -0.3 v 1 l -0.3 0.3 z\" id=\"path2\" /><rect style=\"fill:#ffee46;fill-opacity:1;stroke:#000;stroke-width:0.05\" id=\"rect\" width=\"1\" height=\"1\" x=\"2.1\" y=\"1.3\"/> <path style=\"fill:#f6d028;stroke:#000;stroke-width:0.05;stroke-linejoin:round\" d=\"m 2.1 1.3 l 0.3 -0.3 h 1 l -0.3 0.3 z\" id=\"path1\" /> <path style=\"fill:#cea800;stroke:#000;stroke-width:0.05;stroke-linejoin:round\" d=\"m 2.1 1.3 m 1 0 l 0.3 -0.3 v 1 l -0.3 0.3 z\" id=\"path2\" /><rect style=\"fill:#ffee46;fill-opacity:1;stroke:#000;stroke-width:0.05\" id=\"rect\" width=\"1\" height=\"1\" x=\"3.1\" y=\"1.3\"/> <path style=\"fill:#f6d028;stroke:#000;stroke-width:0.05;stroke-linejoin:round\" d=\"m 3.1 1.3 l 0.3 -0.3 h 1 l -0.3 0.3 z\" id=\"path1\" /> <path style=\"fill:#cea800;stroke:#000;stroke-width:0.05;stroke-linejoin:round\" d=\"m 3.1 1.3 m 1 0 l 0.3 -0.3 v 1 l -0.3 0.3 z\" id=\"path2\" /><rect style=\"fill:#ffee46;fill-opacity:1;stroke:#000;stroke-width:0.05\" id=\"rect\" width=\"1\" height=\"1\" x=\"4.1\" y=\"1.3\"/> <path style=\"fill:#f6d028;stroke:#000;stroke-width:0.05;stroke-linejoin:round\" d=\"m 4.1 1.3 l 0.3 -0.3 h 1 l -0.3 0.3 z\" id=\"path1\" /> <path style=\"fill:#cea800;stroke:#000;stroke-width:0.05;stroke-linejoin:round\" d=\"m 4.1 1.3 m 1 0 l 0.3 -0.3 v 1 l -0.3 0.3 z\" id=\"path2\" /><rect style=\"fill:#ffee46;fill-opacity:1;stroke:#000;stroke-width:0.05\" id=\"rect\" width=\"1\" height=\"1\" x=\"5.1\" y=\"1.3\"/> <path style=\"fill:#f6d028;stroke:#000;stroke-width:0.05;stroke-linejoin:round\" d=\"m 5.1 1.3 l 0.3 -0.3 h 1 l -0.3 0.3 z\" id=\"path1\" /> <path style=\"fill:#cea800;stroke:#000;stroke-width:0.05;stroke-linejoin:round\" d=\"m 5.1 1.3 m 1 0 l 0.3 -0.3 v 1 l -0.3 0.3 z\" id=\"path2\" /><rect style=\"fill:#ffee46;fill-opacity:1;stroke:#000;stroke-width:0.05\" id=\"rect\" width=\"1\" height=\"1\" x=\"6.1\" y=\"1.3\"/> <path style=\"fill:#f6d028;stroke:#000;stroke-width:0.05;stroke-linejoin:round\" d=\"m 6.1 1.3 l 0.3 -0.3 h 1 l -0.3 0.3 z\" id=\"path1\" /> <path style=\"fill:#cea800;stroke:#000;stroke-width:0.05;stroke-linejoin:round\" d=\"m 6.1 1.3 m 1 0 l 0.3 -0.3 v 1 l -0.3 0.3 z\" id=\"path2\" /><rect style=\"fill:#ffee46;fill-opacity:1;stroke:#000;stroke-width:0.05\" id=\"rect\" width=\"1\" height=\"1\" x=\"7.1\" y=\"1.3\"/> <path style=\"fill:#f6d028;stroke:#000;stroke-width:0.05;stroke-linejoin:round\" d=\"m 7.1 1.3 l 0.3 -0.3 h 1 l -0.3 0.3 z\" id=\"path1\" /> <path style=\"fill:#cea800;stroke:#000;stroke-width:0.05;stroke-linejoin:round\" d=\"m 7.1 1.3 m 1 0 l 0.3 -0.3 v 1 l -0.3 0.3 z\" id=\"path2\" /><rect style=\"fill:#ffee46;fill-opacity:1;stroke:#000;stroke-width:0.05\" id=\"rect\" width=\"1\" height=\"1\" x=\"8.1\" y=\"1.3\"/> <path style=\"fill:#f6d028;stroke:#000;stroke-width:0.05;stroke-linejoin:round\" d=\"m 8.1 1.3 l 0.3 -0.3 h 1 l -0.3 0.3 z\" id=\"path1\" /> <path style=\"fill:#cea800;stroke:#000;stroke-width:0.05;stroke-linejoin:round\" d=\"m 8.1 1.3 m 1 0 l 0.3 -0.3 v 1 l -0.3 0.3 z\" id=\"path2\" /><rect style=\"fill:#ffee46;fill-opacity:1;stroke:#000;stroke-width:0.05\" id=\"rect\" width=\"1\" height=\"1\" x=\"9.1\" y=\"1.3\"/> <path style=\"fill:#f6d028;stroke:#000;stroke-width:0.05;stroke-linejoin:round\" d=\"m 9.1 1.3 l 0.3 -0.3 h 1 l -0.3 0.3 z\" id=\"path1\" /> <path style=\"fill:#cea800;stroke:#000;stroke-width:0.05;stroke-linejoin:round\" d=\"m 9.1 1.3 m 1 0 l 0.3 -0.3 v 1 l -0.3 0.3 z\" id=\"path2\" /><rect style=\"fill:#ffee46;fill-opacity:1;stroke:#000;stroke-width:0.05\" id=\"rect\" width=\"1\" height=\"1\" x=\"10.1\" y=\"1.3\"/> <path style=\"fill:#f6d028;stroke:#000;stroke-width:0.05;stroke-linejoin:round\" d=\"m 10.1 1.3 l 0.3 -0.3 h 1 l -0.3 0.3 z\" id=\"path1\" /> <path style=\"fill:#cea800;stroke:#000;stroke-width:0.05;stroke-linejoin:round\" d=\"m 10.1 1.3 m 1 0 l 0.3 -0.3 v 1 l -0.3 0.3 z\" id=\"path2\" /><rect style=\"fill:#ffee46;fill-opacity:1;stroke:#000;stroke-width:0.05\" id=\"rect\" width=\"1\" height=\"1\" x=\"11.1\" y=\"1.3\"/> <path style=\"fill:#f6d028;stroke:#000;stroke-width:0.05;stroke-linejoin:round\" d=\"m 11.1 1.3 l 0.3 -0.3 h 1 l -0.3 0.3 z\" id=\"path1\" /> <path style=\"fill:#cea800;stroke:#000;stroke-width:0.05;stroke-linejoin:round\" d=\"m 11.1 1.3 m 1 0 l 0.3 -0.3 v 1 l -0.3 0.3 z\" id=\"path2\" /><rect style=\"fill:#ffee46;fill-opacity:1;stroke:#000;stroke-width:0.05\" id=\"rect\" width=\"1\" height=\"1\" x=\"12.1\" y=\"1.3\"/> <path style=\"fill:#f6d028;stroke:#000;stroke-width:0.05;stroke-linejoin:round\" d=\"m 12.1 1.3 l 0.3 -0.3 h 1 l -0.3 0.3 z\" id=\"path1\" /> <path style=\"fill:#cea800;stroke:#000;stroke-width:0.05;stroke-linejoin:round\" d=\"m 12.1 1.3 m 1 0 l 0.3 -0.3 v 1 l -0.3 0.3 z\" id=\"path2\" /></g><text x=\"6.5\" y=\"3.26\"                         class=\"sc-label\"                          style=\"font-size:0.36px\">event</text><g><title>values</title><rect style=\"fill:#ffee46;fill-opacity:1;stroke:#000;stroke-width:0.05\" id=\"rect\" width=\"1\" height=\"1\" x=\"0.5\" y=\"1.9\"/> <path style=\"fill:#f6d028;stroke:#000;stroke-width:0.05;stroke-linejoin:round\" d=\"m 0.5 1.9 l 0.3 -0.3 h 1 l -0.3 0.3 z\" id=\"path1\" /> <path style=\"fill:#cea800;stroke:#000;stroke-width:0.05;stroke-linejoin:round\" d=\"m 0.5 1.9 m 1 0 l 0.3 -0.3 v 1 l -0.3 0.3 z\" id=\"path2\" /><rect style=\"fill:#ffee46;fill-opacity:1;stroke:#000;stroke-width:0.05\" id=\"rect\" width=\"1\" height=\"1\" x=\"1.5\" y=\"1.9\"/> <path style=\"fill:#f6d028;stroke:#000;stroke-width:0.05;stroke-linejoin:round\" d=\"m 1.5 1.9 l 0.3 -0.3 h 1 l -0.3 0.3 z\" id=\"path1\" /> <path style=\"fill:#cea800;stroke:#000;stroke-width:0.05;stroke-linejoin:round\" d=\"m 1.5 1.9 m 1 0 l 0.3 -0.3 v 1 l -0.3 0.3 z\" id=\"path2\" /><rect style=\"fill:#ffee46;fill-opacity:1;stroke:#000;stroke-width:0.05\" id=\"rect\" width=\"1\" height=\"1\" x=\"2.5\" y=\"1.9\"/> <path style=\"fill:#f6d028;stroke:#000;stroke-width:0.05;stroke-linejoin:round\" d=\"m 2.5 1.9 l 0.3 -0.3 h 1 l -0.3 0.3 z\" id=\"path1\" /> <path style=\"fill:#cea800;stroke:#000;stroke-width:0.05;stroke-linejoin:round\" d=\"m 2.5 1.9 m 1 0 l 0.3 -0.3 v 1 l -0.3 0.3 z\" id=\"path2\" /><rect style=\"fill:#ffee46;fill-opacity:1;stroke:#000;stroke-width:0.05\" id=\"rect\" width=\"1\" height=\"1\" x=\"3.5\" y=\"1.9\"/> <path style=\"fill:#f6d028;stroke:#000;stroke-width:0.05;stroke-linejoin:round\" d=\"m 3.5 1.9 l 0.3 -0.3 h 1 l -0.3 0.3 z\" id=\"path1\" /> <path style=\"fill:#cea800;stroke:#000;stroke-width:0.05;stroke-linejoin:round\" d=\"m 3.5 1.9 m 1 0 l 0.3 -0.3 v 1 l -0.3 0.3 z\" id=\"path2\" /><rect style=\"fill:#ffee46;fill-opacity:1;stroke:#000;stroke-width:0.05\" id=\"rect\" width=\"1\" height=\"1\" x=\"4.5\" y=\"1.9\"/> <path style=\"fill:#f6d028;stroke:#000;stroke-width:0.05;stroke-linejoin:round\" d=\"m 4.5 1.9 l 0.3 -0.3 h 1 l -0.3 0.3 z\" id=\"path1\" /> <path style=\"fill:#cea800;stroke:#000;stroke-width:0.05;stroke-linejoin:round\" d=\"m 4.5 1.9 m 1 0 l 0.3 -0.3 v 1 l -0.3 0.3 z\" id=\"path2\" /><rect style=\"fill:#ffee46;fill-opacity:1;stroke:#000;stroke-width:0.05\" id=\"rect\" width=\"1\" height=\"1\" x=\"5.5\" y=\"1.9\"/> <path style=\"fill:#f6d028;stroke:#000;stroke-width:0.05;stroke-linejoin:round\" d=\"m 5.5 1.9 l 0.3 -0.3 h 1 l -0.3 0.3 z\" id=\"path1\" /> <path style=\"fill:#cea800;stroke:#000;stroke-width:0.05;stroke-linejoin:round\" d=\"m 5.5 1.9 m 1 0 l 0.3 -0.3 v 1 l -0.3 0.3 z\" id=\"path2\" /><rect style=\"fill:#ffee46;fill-opacity:1;stroke:#000;stroke-width:0.05\" id=\"rect\" width=\"1\" height=\"1\" x=\"6.5\" y=\"1.9\"/> <path style=\"fill:#f6d028;stroke:#000;stroke-width:0.05;stroke-linejoin:round\" d=\"m 6.5 1.9 l 0.3 -0.3 h 1 l -0.3 0.3 z\" id=\"path1\" /> <path style=\"fill:#cea800;stroke:#000;stroke-width:0.05;stroke-linejoin:round\" d=\"m 6.5 1.9 m 1 0 l 0.3 -0.3 v 1 l -0.3 0.3 z\" id=\"path2\" /><rect style=\"fill:#ffee46;fill-opacity:1;stroke:#000;stroke-width:0.05\" id=\"rect\" width=\"1\" height=\"1\" x=\"7.5\" y=\"1.9\"/> <path style=\"fill:#f6d028;stroke:#000;stroke-width:0.05;stroke-linejoin:round\" d=\"m 7.5 1.9 l 0.3 -0.3 h 1 l -0.3 0.3 z\" id=\"path1\" /> <path style=\"fill:#cea800;stroke:#000;stroke-width:0.05;stroke-linejoin:round\" d=\"m 7.5 1.9 m 1 0 l 0.3 -0.3 v 1 l -0.3 0.3 z\" id=\"path2\" /><rect style=\"fill:#ffee46;fill-opacity:1;stroke:#000;stroke-width:0.05\" id=\"rect\" width=\"1\" height=\"1\" x=\"8.5\" y=\"1.9\"/> <path style=\"fill:#f6d028;stroke:#000;stroke-width:0.05;stroke-linejoin:round\" d=\"m 8.5 1.9 l 0.3 -0.3 h 1 l -0.3 0.3 z\" id=\"path1\" /> <path style=\"fill:#cea800;stroke:#000;stroke-width:0.05;stroke-linejoin:round\" d=\"m 8.5 1.9 m 1 0 l 0.3 -0.3 v 1 l -0.3 0.3 z\" id=\"path2\" /><rect style=\"fill:#ffee46;fill-opacity:1;stroke:#000;stroke-width:0.05\" id=\"rect\" width=\"1\" height=\"1\" x=\"9.5\" y=\"1.9\"/> <path style=\"fill:#f6d028;stroke:#000;stroke-width:0.05;stroke-linejoin:round\" d=\"m 9.5 1.9 l 0.3 -0.3 h 1 l -0.3 0.3 z\" id=\"path1\" /> <path style=\"fill:#cea800;stroke:#000;stroke-width:0.05;stroke-linejoin:round\" d=\"m 9.5 1.9 m 1 0 l 0.3 -0.3 v 1 l -0.3 0.3 z\" id=\"path2\" /><rect style=\"fill:#ffee46;fill-opacity:1;stroke:#000;stroke-width:0.05\" id=\"rect\" width=\"1\" height=\"1\" x=\"10.5\" y=\"1.9\"/> <path style=\"fill:#f6d028;stroke:#000;stroke-width:0.05;stroke-linejoin:round\" d=\"m 10.5 1.9 l 0.3 -0.3 h 1 l -0.3 0.3 z\" id=\"path1\" /> <path style=\"fill:#cea800;stroke:#000;stroke-width:0.05;stroke-linejoin:round\" d=\"m 10.5 1.9 m 1 0 l 0.3 -0.3 v 1 l -0.3 0.3 z\" id=\"path2\" /><rect style=\"fill:#ffee46;fill-opacity:1;stroke:#000;stroke-width:0.05\" id=\"rect\" width=\"1\" height=\"1\" x=\"11.5\" y=\"1.9\"/> <path style=\"fill:#f6d028;stroke:#000;stroke-width:0.05;stroke-linejoin:round\" d=\"m 11.5 1.9 l 0.3 -0.3 h 1 l -0.3 0.3 z\" id=\"path1\" /> <path style=\"fill:#cea800;stroke:#000;stroke-width:0.05;stroke-linejoin:round\" d=\"m 11.5 1.9 m 1 0 l 0.3 -0.3 v 1 l -0.3 0.3 z\" id=\"path2\" /></g><text x=\"6.5\" y=\"3.26\"                         class=\"sc-label\"                          style=\"font-size:0.36px\">event</text></g></g><g transform=\"translate(13.9,3.4)\"></g><g transform=\"translate(0,3.4)\"></g><g transform=\"translate(0,3.4)\"></g><g transform=\"translate(0,3.4)\"><g><text x=\"0\" y=\"0.6\"                     class=\"sc-name\" style=\"font-size:0.6px\">                     tof</text><title>tof(dims=[&#x27;event&#x27;], shape=[2386596], unit=ns, variances=False)</title><g><title>values</title><rect style=\"fill:#e4ffae;fill-opacity:1;stroke:#000;stroke-width:0.05\" id=\"rect\" width=\"1\" height=\"1\" x=\"0.5\" y=\"1.3\"/> <path style=\"fill:#c6e590;stroke:#000;stroke-width:0.05;stroke-linejoin:round\" d=\"m 0.5 1.3 l 0.3 -0.3 h 1 l -0.3 0.3 z\" id=\"path1\" /> <path style=\"fill:#9ebd68;stroke:#000;stroke-width:0.05;stroke-linejoin:round\" d=\"m 0.5 1.3 m 1 0 l 0.3 -0.3 v 1 l -0.3 0.3 z\" id=\"path2\" /><rect style=\"fill:#e4ffae;fill-opacity:1;stroke:#000;stroke-width:0.05\" id=\"rect\" width=\"1\" height=\"1\" x=\"1.5\" y=\"1.3\"/> <path style=\"fill:#c6e590;stroke:#000;stroke-width:0.05;stroke-linejoin:round\" d=\"m 1.5 1.3 l 0.3 -0.3 h 1 l -0.3 0.3 z\" id=\"path1\" /> <path style=\"fill:#9ebd68;stroke:#000;stroke-width:0.05;stroke-linejoin:round\" d=\"m 1.5 1.3 m 1 0 l 0.3 -0.3 v 1 l -0.3 0.3 z\" id=\"path2\" /><rect style=\"fill:#e4ffae;fill-opacity:1;stroke:#000;stroke-width:0.05\" id=\"rect\" width=\"1\" height=\"1\" x=\"2.5\" y=\"1.3\"/> <path style=\"fill:#c6e590;stroke:#000;stroke-width:0.05;stroke-linejoin:round\" d=\"m 2.5 1.3 l 0.3 -0.3 h 1 l -0.3 0.3 z\" id=\"path1\" /> <path style=\"fill:#9ebd68;stroke:#000;stroke-width:0.05;stroke-linejoin:round\" d=\"m 2.5 1.3 m 1 0 l 0.3 -0.3 v 1 l -0.3 0.3 z\" id=\"path2\" /><rect style=\"fill:#e4ffae;fill-opacity:1;stroke:#000;stroke-width:0.05\" id=\"rect\" width=\"1\" height=\"1\" x=\"3.5\" y=\"1.3\"/> <path style=\"fill:#c6e590;stroke:#000;stroke-width:0.05;stroke-linejoin:round\" d=\"m 3.5 1.3 l 0.3 -0.3 h 1 l -0.3 0.3 z\" id=\"path1\" /> <path style=\"fill:#9ebd68;stroke:#000;stroke-width:0.05;stroke-linejoin:round\" d=\"m 3.5 1.3 m 1 0 l 0.3 -0.3 v 1 l -0.3 0.3 z\" id=\"path2\" /><rect style=\"fill:#e4ffae;fill-opacity:1;stroke:#000;stroke-width:0.05\" id=\"rect\" width=\"1\" height=\"1\" x=\"4.5\" y=\"1.3\"/> <path style=\"fill:#c6e590;stroke:#000;stroke-width:0.05;stroke-linejoin:round\" d=\"m 4.5 1.3 l 0.3 -0.3 h 1 l -0.3 0.3 z\" id=\"path1\" /> <path style=\"fill:#9ebd68;stroke:#000;stroke-width:0.05;stroke-linejoin:round\" d=\"m 4.5 1.3 m 1 0 l 0.3 -0.3 v 1 l -0.3 0.3 z\" id=\"path2\" /><rect style=\"fill:#e4ffae;fill-opacity:1;stroke:#000;stroke-width:0.05\" id=\"rect\" width=\"1\" height=\"1\" x=\"5.5\" y=\"1.3\"/> <path style=\"fill:#c6e590;stroke:#000;stroke-width:0.05;stroke-linejoin:round\" d=\"m 5.5 1.3 l 0.3 -0.3 h 1 l -0.3 0.3 z\" id=\"path1\" /> <path style=\"fill:#9ebd68;stroke:#000;stroke-width:0.05;stroke-linejoin:round\" d=\"m 5.5 1.3 m 1 0 l 0.3 -0.3 v 1 l -0.3 0.3 z\" id=\"path2\" /><rect style=\"fill:#e4ffae;fill-opacity:1;stroke:#000;stroke-width:0.05\" id=\"rect\" width=\"1\" height=\"1\" x=\"6.5\" y=\"1.3\"/> <path style=\"fill:#c6e590;stroke:#000;stroke-width:0.05;stroke-linejoin:round\" d=\"m 6.5 1.3 l 0.3 -0.3 h 1 l -0.3 0.3 z\" id=\"path1\" /> <path style=\"fill:#9ebd68;stroke:#000;stroke-width:0.05;stroke-linejoin:round\" d=\"m 6.5 1.3 m 1 0 l 0.3 -0.3 v 1 l -0.3 0.3 z\" id=\"path2\" /><rect style=\"fill:#e4ffae;fill-opacity:1;stroke:#000;stroke-width:0.05\" id=\"rect\" width=\"1\" height=\"1\" x=\"7.5\" y=\"1.3\"/> <path style=\"fill:#c6e590;stroke:#000;stroke-width:0.05;stroke-linejoin:round\" d=\"m 7.5 1.3 l 0.3 -0.3 h 1 l -0.3 0.3 z\" id=\"path1\" /> <path style=\"fill:#9ebd68;stroke:#000;stroke-width:0.05;stroke-linejoin:round\" d=\"m 7.5 1.3 m 1 0 l 0.3 -0.3 v 1 l -0.3 0.3 z\" id=\"path2\" /><rect style=\"fill:#e4ffae;fill-opacity:1;stroke:#000;stroke-width:0.05\" id=\"rect\" width=\"1\" height=\"1\" x=\"8.5\" y=\"1.3\"/> <path style=\"fill:#c6e590;stroke:#000;stroke-width:0.05;stroke-linejoin:round\" d=\"m 8.5 1.3 l 0.3 -0.3 h 1 l -0.3 0.3 z\" id=\"path1\" /> <path style=\"fill:#9ebd68;stroke:#000;stroke-width:0.05;stroke-linejoin:round\" d=\"m 8.5 1.3 m 1 0 l 0.3 -0.3 v 1 l -0.3 0.3 z\" id=\"path2\" /><rect style=\"fill:#e4ffae;fill-opacity:1;stroke:#000;stroke-width:0.05\" id=\"rect\" width=\"1\" height=\"1\" x=\"9.5\" y=\"1.3\"/> <path style=\"fill:#c6e590;stroke:#000;stroke-width:0.05;stroke-linejoin:round\" d=\"m 9.5 1.3 l 0.3 -0.3 h 1 l -0.3 0.3 z\" id=\"path1\" /> <path style=\"fill:#9ebd68;stroke:#000;stroke-width:0.05;stroke-linejoin:round\" d=\"m 9.5 1.3 m 1 0 l 0.3 -0.3 v 1 l -0.3 0.3 z\" id=\"path2\" /><rect style=\"fill:#e4ffae;fill-opacity:1;stroke:#000;stroke-width:0.05\" id=\"rect\" width=\"1\" height=\"1\" x=\"10.5\" y=\"1.3\"/> <path style=\"fill:#c6e590;stroke:#000;stroke-width:0.05;stroke-linejoin:round\" d=\"m 10.5 1.3 l 0.3 -0.3 h 1 l -0.3 0.3 z\" id=\"path1\" /> <path style=\"fill:#9ebd68;stroke:#000;stroke-width:0.05;stroke-linejoin:round\" d=\"m 10.5 1.3 m 1 0 l 0.3 -0.3 v 1 l -0.3 0.3 z\" id=\"path2\" /><rect style=\"fill:#e4ffae;fill-opacity:1;stroke:#000;stroke-width:0.05\" id=\"rect\" width=\"1\" height=\"1\" x=\"11.5\" y=\"1.3\"/> <path style=\"fill:#c6e590;stroke:#000;stroke-width:0.05;stroke-linejoin:round\" d=\"m 11.5 1.3 l 0.3 -0.3 h 1 l -0.3 0.3 z\" id=\"path1\" /> <path style=\"fill:#9ebd68;stroke:#000;stroke-width:0.05;stroke-linejoin:round\" d=\"m 11.5 1.3 m 1 0 l 0.3 -0.3 v 1 l -0.3 0.3 z\" id=\"path2\" /></g><text x=\"6.5\" y=\"2.6599999999999997\"                         class=\"sc-label\"                          style=\"font-size:0.36px\">event</text></g><g><text x=\"0\" y=\"3.4\"                     class=\"sc-name\" style=\"font-size:0.6px\">                     pulse_time</text><title>pulse_time(dims=[&#x27;event&#x27;], shape=[2386596], unit=ns, variances=False)</title><g><title>values</title><rect style=\"fill:#e4ffae;fill-opacity:1;stroke:#000;stroke-width:0.05\" id=\"rect\" width=\"1\" height=\"1\" x=\"0.5\" y=\"4.1\"/> <path style=\"fill:#c6e590;stroke:#000;stroke-width:0.05;stroke-linejoin:round\" d=\"m 0.5 4.1 l 0.3 -0.3 h 1 l -0.3 0.3 z\" id=\"path1\" /> <path style=\"fill:#9ebd68;stroke:#000;stroke-width:0.05;stroke-linejoin:round\" d=\"m 0.5 4.1 m 1 0 l 0.3 -0.3 v 1 l -0.3 0.3 z\" id=\"path2\" /><rect style=\"fill:#e4ffae;fill-opacity:1;stroke:#000;stroke-width:0.05\" id=\"rect\" width=\"1\" height=\"1\" x=\"1.5\" y=\"4.1\"/> <path style=\"fill:#c6e590;stroke:#000;stroke-width:0.05;stroke-linejoin:round\" d=\"m 1.5 4.1 l 0.3 -0.3 h 1 l -0.3 0.3 z\" id=\"path1\" /> <path style=\"fill:#9ebd68;stroke:#000;stroke-width:0.05;stroke-linejoin:round\" d=\"m 1.5 4.1 m 1 0 l 0.3 -0.3 v 1 l -0.3 0.3 z\" id=\"path2\" /><rect style=\"fill:#e4ffae;fill-opacity:1;stroke:#000;stroke-width:0.05\" id=\"rect\" width=\"1\" height=\"1\" x=\"2.5\" y=\"4.1\"/> <path style=\"fill:#c6e590;stroke:#000;stroke-width:0.05;stroke-linejoin:round\" d=\"m 2.5 4.1 l 0.3 -0.3 h 1 l -0.3 0.3 z\" id=\"path1\" /> <path style=\"fill:#9ebd68;stroke:#000;stroke-width:0.05;stroke-linejoin:round\" d=\"m 2.5 4.1 m 1 0 l 0.3 -0.3 v 1 l -0.3 0.3 z\" id=\"path2\" /><rect style=\"fill:#e4ffae;fill-opacity:1;stroke:#000;stroke-width:0.05\" id=\"rect\" width=\"1\" height=\"1\" x=\"3.5\" y=\"4.1\"/> <path style=\"fill:#c6e590;stroke:#000;stroke-width:0.05;stroke-linejoin:round\" d=\"m 3.5 4.1 l 0.3 -0.3 h 1 l -0.3 0.3 z\" id=\"path1\" /> <path style=\"fill:#9ebd68;stroke:#000;stroke-width:0.05;stroke-linejoin:round\" d=\"m 3.5 4.1 m 1 0 l 0.3 -0.3 v 1 l -0.3 0.3 z\" id=\"path2\" /><rect style=\"fill:#e4ffae;fill-opacity:1;stroke:#000;stroke-width:0.05\" id=\"rect\" width=\"1\" height=\"1\" x=\"4.5\" y=\"4.1\"/> <path style=\"fill:#c6e590;stroke:#000;stroke-width:0.05;stroke-linejoin:round\" d=\"m 4.5 4.1 l 0.3 -0.3 h 1 l -0.3 0.3 z\" id=\"path1\" /> <path style=\"fill:#9ebd68;stroke:#000;stroke-width:0.05;stroke-linejoin:round\" d=\"m 4.5 4.1 m 1 0 l 0.3 -0.3 v 1 l -0.3 0.3 z\" id=\"path2\" /><rect style=\"fill:#e4ffae;fill-opacity:1;stroke:#000;stroke-width:0.05\" id=\"rect\" width=\"1\" height=\"1\" x=\"5.5\" y=\"4.1\"/> <path style=\"fill:#c6e590;stroke:#000;stroke-width:0.05;stroke-linejoin:round\" d=\"m 5.5 4.1 l 0.3 -0.3 h 1 l -0.3 0.3 z\" id=\"path1\" /> <path style=\"fill:#9ebd68;stroke:#000;stroke-width:0.05;stroke-linejoin:round\" d=\"m 5.5 4.1 m 1 0 l 0.3 -0.3 v 1 l -0.3 0.3 z\" id=\"path2\" /><rect style=\"fill:#e4ffae;fill-opacity:1;stroke:#000;stroke-width:0.05\" id=\"rect\" width=\"1\" height=\"1\" x=\"6.5\" y=\"4.1\"/> <path style=\"fill:#c6e590;stroke:#000;stroke-width:0.05;stroke-linejoin:round\" d=\"m 6.5 4.1 l 0.3 -0.3 h 1 l -0.3 0.3 z\" id=\"path1\" /> <path style=\"fill:#9ebd68;stroke:#000;stroke-width:0.05;stroke-linejoin:round\" d=\"m 6.5 4.1 m 1 0 l 0.3 -0.3 v 1 l -0.3 0.3 z\" id=\"path2\" /><rect style=\"fill:#e4ffae;fill-opacity:1;stroke:#000;stroke-width:0.05\" id=\"rect\" width=\"1\" height=\"1\" x=\"7.5\" y=\"4.1\"/> <path style=\"fill:#c6e590;stroke:#000;stroke-width:0.05;stroke-linejoin:round\" d=\"m 7.5 4.1 l 0.3 -0.3 h 1 l -0.3 0.3 z\" id=\"path1\" /> <path style=\"fill:#9ebd68;stroke:#000;stroke-width:0.05;stroke-linejoin:round\" d=\"m 7.5 4.1 m 1 0 l 0.3 -0.3 v 1 l -0.3 0.3 z\" id=\"path2\" /><rect style=\"fill:#e4ffae;fill-opacity:1;stroke:#000;stroke-width:0.05\" id=\"rect\" width=\"1\" height=\"1\" x=\"8.5\" y=\"4.1\"/> <path style=\"fill:#c6e590;stroke:#000;stroke-width:0.05;stroke-linejoin:round\" d=\"m 8.5 4.1 l 0.3 -0.3 h 1 l -0.3 0.3 z\" id=\"path1\" /> <path style=\"fill:#9ebd68;stroke:#000;stroke-width:0.05;stroke-linejoin:round\" d=\"m 8.5 4.1 m 1 0 l 0.3 -0.3 v 1 l -0.3 0.3 z\" id=\"path2\" /><rect style=\"fill:#e4ffae;fill-opacity:1;stroke:#000;stroke-width:0.05\" id=\"rect\" width=\"1\" height=\"1\" x=\"9.5\" y=\"4.1\"/> <path style=\"fill:#c6e590;stroke:#000;stroke-width:0.05;stroke-linejoin:round\" d=\"m 9.5 4.1 l 0.3 -0.3 h 1 l -0.3 0.3 z\" id=\"path1\" /> <path style=\"fill:#9ebd68;stroke:#000;stroke-width:0.05;stroke-linejoin:round\" d=\"m 9.5 4.1 m 1 0 l 0.3 -0.3 v 1 l -0.3 0.3 z\" id=\"path2\" /><rect style=\"fill:#e4ffae;fill-opacity:1;stroke:#000;stroke-width:0.05\" id=\"rect\" width=\"1\" height=\"1\" x=\"10.5\" y=\"4.1\"/> <path style=\"fill:#c6e590;stroke:#000;stroke-width:0.05;stroke-linejoin:round\" d=\"m 10.5 4.1 l 0.3 -0.3 h 1 l -0.3 0.3 z\" id=\"path1\" /> <path style=\"fill:#9ebd68;stroke:#000;stroke-width:0.05;stroke-linejoin:round\" d=\"m 10.5 4.1 m 1 0 l 0.3 -0.3 v 1 l -0.3 0.3 z\" id=\"path2\" /><rect style=\"fill:#e4ffae;fill-opacity:1;stroke:#000;stroke-width:0.05\" id=\"rect\" width=\"1\" height=\"1\" x=\"11.5\" y=\"4.1\"/> <path style=\"fill:#c6e590;stroke:#000;stroke-width:0.05;stroke-linejoin:round\" d=\"m 11.5 4.1 l 0.3 -0.3 h 1 l -0.3 0.3 z\" id=\"path1\" /> <path style=\"fill:#9ebd68;stroke:#000;stroke-width:0.05;stroke-linejoin:round\" d=\"m 11.5 4.1 m 1 0 l 0.3 -0.3 v 1 l -0.3 0.3 z\" id=\"path2\" /></g><text x=\"6.5\" y=\"5.46\"                         class=\"sc-label\"                          style=\"font-size:0.36px\">event</text></g></g></g></g><g transform=\"translate(3.3,13.8)\"></g><g transform=\"translate(-4.6,0.0)\"><g><text x=\"0\" y=\"0.6\"                     class=\"sc-name\" style=\"font-size:0.6px\">                     detec..</text><title>detector_id(dims=[&#x27;detector_id&#x27;], shape=[401408], unit=dimensionless, variances=False)</title><g><title>values</title><rect style=\"fill:#e4ffae;fill-opacity:1;stroke:#000;stroke-width:0.05\" id=\"rect\" width=\"1\" height=\"1\" x=\"0.5\" y=\"12.3\"/> <path style=\"fill:#c6e590;stroke:#000;stroke-width:0.05;stroke-linejoin:round\" d=\"m 0.5 12.3 l 0.3 -0.3 h 1 l -0.3 0.3 z\" id=\"path1\" /> <path style=\"fill:#9ebd68;stroke:#000;stroke-width:0.05;stroke-linejoin:round\" d=\"m 0.5 12.3 m 1 0 l 0.3 -0.3 v 1 l -0.3 0.3 z\" id=\"path2\" /><rect style=\"fill:#e4ffae;fill-opacity:1;stroke:#000;stroke-width:0.05\" id=\"rect\" width=\"1\" height=\"1\" x=\"0.5\" y=\"11.3\"/> <path style=\"fill:#c6e590;stroke:#000;stroke-width:0.05;stroke-linejoin:round\" d=\"m 0.5 11.3 l 0.3 -0.3 h 1 l -0.3 0.3 z\" id=\"path1\" /> <path style=\"fill:#9ebd68;stroke:#000;stroke-width:0.05;stroke-linejoin:round\" d=\"m 0.5 11.3 m 1 0 l 0.3 -0.3 v 1 l -0.3 0.3 z\" id=\"path2\" /><rect style=\"fill:#e4ffae;fill-opacity:1;stroke:#000;stroke-width:0.05\" id=\"rect\" width=\"1\" height=\"1\" x=\"0.5\" y=\"10.3\"/> <path style=\"fill:#c6e590;stroke:#000;stroke-width:0.05;stroke-linejoin:round\" d=\"m 0.5 10.3 l 0.3 -0.3 h 1 l -0.3 0.3 z\" id=\"path1\" /> <path style=\"fill:#9ebd68;stroke:#000;stroke-width:0.05;stroke-linejoin:round\" d=\"m 0.5 10.3 m 1 0 l 0.3 -0.3 v 1 l -0.3 0.3 z\" id=\"path2\" /><rect style=\"fill:#e4ffae;fill-opacity:1;stroke:#000;stroke-width:0.05\" id=\"rect\" width=\"1\" height=\"1\" x=\"0.5\" y=\"9.3\"/> <path style=\"fill:#c6e590;stroke:#000;stroke-width:0.05;stroke-linejoin:round\" d=\"m 0.5 9.3 l 0.3 -0.3 h 1 l -0.3 0.3 z\" id=\"path1\" /> <path style=\"fill:#9ebd68;stroke:#000;stroke-width:0.05;stroke-linejoin:round\" d=\"m 0.5 9.3 m 1 0 l 0.3 -0.3 v 1 l -0.3 0.3 z\" id=\"path2\" /><rect style=\"fill:#e4ffae;fill-opacity:1;stroke:#000;stroke-width:0.05\" id=\"rect\" width=\"1\" height=\"1\" x=\"0.5\" y=\"8.3\"/> <path style=\"fill:#c6e590;stroke:#000;stroke-width:0.05;stroke-linejoin:round\" d=\"m 0.5 8.3 l 0.3 -0.3 h 1 l -0.3 0.3 z\" id=\"path1\" /> <path style=\"fill:#9ebd68;stroke:#000;stroke-width:0.05;stroke-linejoin:round\" d=\"m 0.5 8.3 m 1 0 l 0.3 -0.3 v 1 l -0.3 0.3 z\" id=\"path2\" /><rect style=\"fill:#e4ffae;fill-opacity:1;stroke:#000;stroke-width:0.05\" id=\"rect\" width=\"1\" height=\"1\" x=\"0.5\" y=\"7.3\"/> <path style=\"fill:#c6e590;stroke:#000;stroke-width:0.05;stroke-linejoin:round\" d=\"m 0.5 7.3 l 0.3 -0.3 h 1 l -0.3 0.3 z\" id=\"path1\" /> <path style=\"fill:#9ebd68;stroke:#000;stroke-width:0.05;stroke-linejoin:round\" d=\"m 0.5 7.3 m 1 0 l 0.3 -0.3 v 1 l -0.3 0.3 z\" id=\"path2\" /><rect style=\"fill:#e4ffae;fill-opacity:1;stroke:#000;stroke-width:0.05\" id=\"rect\" width=\"1\" height=\"1\" x=\"0.5\" y=\"6.3\"/> <path style=\"fill:#c6e590;stroke:#000;stroke-width:0.05;stroke-linejoin:round\" d=\"m 0.5 6.3 l 0.3 -0.3 h 1 l -0.3 0.3 z\" id=\"path1\" /> <path style=\"fill:#9ebd68;stroke:#000;stroke-width:0.05;stroke-linejoin:round\" d=\"m 0.5 6.3 m 1 0 l 0.3 -0.3 v 1 l -0.3 0.3 z\" id=\"path2\" /><rect style=\"fill:#e4ffae;fill-opacity:1;stroke:#000;stroke-width:0.05\" id=\"rect\" width=\"1\" height=\"1\" x=\"0.5\" y=\"5.3\"/> <path style=\"fill:#c6e590;stroke:#000;stroke-width:0.05;stroke-linejoin:round\" d=\"m 0.5 5.3 l 0.3 -0.3 h 1 l -0.3 0.3 z\" id=\"path1\" /> <path style=\"fill:#9ebd68;stroke:#000;stroke-width:0.05;stroke-linejoin:round\" d=\"m 0.5 5.3 m 1 0 l 0.3 -0.3 v 1 l -0.3 0.3 z\" id=\"path2\" /><rect style=\"fill:#e4ffae;fill-opacity:1;stroke:#000;stroke-width:0.05\" id=\"rect\" width=\"1\" height=\"1\" x=\"0.5\" y=\"4.3\"/> <path style=\"fill:#c6e590;stroke:#000;stroke-width:0.05;stroke-linejoin:round\" d=\"m 0.5 4.3 l 0.3 -0.3 h 1 l -0.3 0.3 z\" id=\"path1\" /> <path style=\"fill:#9ebd68;stroke:#000;stroke-width:0.05;stroke-linejoin:round\" d=\"m 0.5 4.3 m 1 0 l 0.3 -0.3 v 1 l -0.3 0.3 z\" id=\"path2\" /><rect style=\"fill:#e4ffae;fill-opacity:1;stroke:#000;stroke-width:0.05\" id=\"rect\" width=\"1\" height=\"1\" x=\"0.5\" y=\"3.3\"/> <path style=\"fill:#c6e590;stroke:#000;stroke-width:0.05;stroke-linejoin:round\" d=\"m 0.5 3.3 l 0.3 -0.3 h 1 l -0.3 0.3 z\" id=\"path1\" /> <path style=\"fill:#9ebd68;stroke:#000;stroke-width:0.05;stroke-linejoin:round\" d=\"m 0.5 3.3 m 1 0 l 0.3 -0.3 v 1 l -0.3 0.3 z\" id=\"path2\" /><rect style=\"fill:#e4ffae;fill-opacity:1;stroke:#000;stroke-width:0.05\" id=\"rect\" width=\"1\" height=\"1\" x=\"0.5\" y=\"2.3\"/> <path style=\"fill:#c6e590;stroke:#000;stroke-width:0.05;stroke-linejoin:round\" d=\"m 0.5 2.3 l 0.3 -0.3 h 1 l -0.3 0.3 z\" id=\"path1\" /> <path style=\"fill:#9ebd68;stroke:#000;stroke-width:0.05;stroke-linejoin:round\" d=\"m 0.5 2.3 m 1 0 l 0.3 -0.3 v 1 l -0.3 0.3 z\" id=\"path2\" /><rect style=\"fill:#e4ffae;fill-opacity:1;stroke:#000;stroke-width:0.05\" id=\"rect\" width=\"1\" height=\"1\" x=\"0.5\" y=\"1.3\"/> <path style=\"fill:#c6e590;stroke:#000;stroke-width:0.05;stroke-linejoin:round\" d=\"m 0.5 1.3 l 0.3 -0.3 h 1 l -0.3 0.3 z\" id=\"path1\" /> <path style=\"fill:#9ebd68;stroke:#000;stroke-width:0.05;stroke-linejoin:round\" d=\"m 0.5 1.3 m 1 0 l 0.3 -0.3 v 1 l -0.3 0.3 z\" id=\"path2\" /></g><text x=\"0.392\" y=\"7.300000000000001\"                     class=\"sc-label\" style=\"font-size:0.36px\"                     transform=\"rotate(-90, 0.392, 7.300000000000001)\">                        detector_id</text></g><g><text x=\"2.3\" y=\"0.6\"                     class=\"sc-name\" style=\"font-size:0.6px\">                     posit..</text><title>position(dims=[&#x27;detector_id&#x27;], shape=[401408], unit=m, variances=False)</title><g><title>values</title><rect style=\"fill:#e4ffae;fill-opacity:1;stroke:#000;stroke-width:0.05\" id=\"rect\" width=\"1\" height=\"1\" x=\"2.8\" y=\"12.3\"/> <path style=\"fill:#c6e590;stroke:#000;stroke-width:0.05;stroke-linejoin:round\" d=\"m 2.8 12.3 l 0.3 -0.3 h 1 l -0.3 0.3 z\" id=\"path1\" /> <path style=\"fill:#9ebd68;stroke:#000;stroke-width:0.05;stroke-linejoin:round\" d=\"m 2.8 12.3 m 1 0 l 0.3 -0.3 v 1 l -0.3 0.3 z\" id=\"path2\" /><rect style=\"fill:#e4ffae;fill-opacity:1;stroke:#000;stroke-width:0.05\" id=\"rect\" width=\"1\" height=\"1\" x=\"2.8\" y=\"11.3\"/> <path style=\"fill:#c6e590;stroke:#000;stroke-width:0.05;stroke-linejoin:round\" d=\"m 2.8 11.3 l 0.3 -0.3 h 1 l -0.3 0.3 z\" id=\"path1\" /> <path style=\"fill:#9ebd68;stroke:#000;stroke-width:0.05;stroke-linejoin:round\" d=\"m 2.8 11.3 m 1 0 l 0.3 -0.3 v 1 l -0.3 0.3 z\" id=\"path2\" /><rect style=\"fill:#e4ffae;fill-opacity:1;stroke:#000;stroke-width:0.05\" id=\"rect\" width=\"1\" height=\"1\" x=\"2.8\" y=\"10.3\"/> <path style=\"fill:#c6e590;stroke:#000;stroke-width:0.05;stroke-linejoin:round\" d=\"m 2.8 10.3 l 0.3 -0.3 h 1 l -0.3 0.3 z\" id=\"path1\" /> <path style=\"fill:#9ebd68;stroke:#000;stroke-width:0.05;stroke-linejoin:round\" d=\"m 2.8 10.3 m 1 0 l 0.3 -0.3 v 1 l -0.3 0.3 z\" id=\"path2\" /><rect style=\"fill:#e4ffae;fill-opacity:1;stroke:#000;stroke-width:0.05\" id=\"rect\" width=\"1\" height=\"1\" x=\"2.8\" y=\"9.3\"/> <path style=\"fill:#c6e590;stroke:#000;stroke-width:0.05;stroke-linejoin:round\" d=\"m 2.8 9.3 l 0.3 -0.3 h 1 l -0.3 0.3 z\" id=\"path1\" /> <path style=\"fill:#9ebd68;stroke:#000;stroke-width:0.05;stroke-linejoin:round\" d=\"m 2.8 9.3 m 1 0 l 0.3 -0.3 v 1 l -0.3 0.3 z\" id=\"path2\" /><rect style=\"fill:#e4ffae;fill-opacity:1;stroke:#000;stroke-width:0.05\" id=\"rect\" width=\"1\" height=\"1\" x=\"2.8\" y=\"8.3\"/> <path style=\"fill:#c6e590;stroke:#000;stroke-width:0.05;stroke-linejoin:round\" d=\"m 2.8 8.3 l 0.3 -0.3 h 1 l -0.3 0.3 z\" id=\"path1\" /> <path style=\"fill:#9ebd68;stroke:#000;stroke-width:0.05;stroke-linejoin:round\" d=\"m 2.8 8.3 m 1 0 l 0.3 -0.3 v 1 l -0.3 0.3 z\" id=\"path2\" /><rect style=\"fill:#e4ffae;fill-opacity:1;stroke:#000;stroke-width:0.05\" id=\"rect\" width=\"1\" height=\"1\" x=\"2.8\" y=\"7.3\"/> <path style=\"fill:#c6e590;stroke:#000;stroke-width:0.05;stroke-linejoin:round\" d=\"m 2.8 7.3 l 0.3 -0.3 h 1 l -0.3 0.3 z\" id=\"path1\" /> <path style=\"fill:#9ebd68;stroke:#000;stroke-width:0.05;stroke-linejoin:round\" d=\"m 2.8 7.3 m 1 0 l 0.3 -0.3 v 1 l -0.3 0.3 z\" id=\"path2\" /><rect style=\"fill:#e4ffae;fill-opacity:1;stroke:#000;stroke-width:0.05\" id=\"rect\" width=\"1\" height=\"1\" x=\"2.8\" y=\"6.3\"/> <path style=\"fill:#c6e590;stroke:#000;stroke-width:0.05;stroke-linejoin:round\" d=\"m 2.8 6.3 l 0.3 -0.3 h 1 l -0.3 0.3 z\" id=\"path1\" /> <path style=\"fill:#9ebd68;stroke:#000;stroke-width:0.05;stroke-linejoin:round\" d=\"m 2.8 6.3 m 1 0 l 0.3 -0.3 v 1 l -0.3 0.3 z\" id=\"path2\" /><rect style=\"fill:#e4ffae;fill-opacity:1;stroke:#000;stroke-width:0.05\" id=\"rect\" width=\"1\" height=\"1\" x=\"2.8\" y=\"5.3\"/> <path style=\"fill:#c6e590;stroke:#000;stroke-width:0.05;stroke-linejoin:round\" d=\"m 2.8 5.3 l 0.3 -0.3 h 1 l -0.3 0.3 z\" id=\"path1\" /> <path style=\"fill:#9ebd68;stroke:#000;stroke-width:0.05;stroke-linejoin:round\" d=\"m 2.8 5.3 m 1 0 l 0.3 -0.3 v 1 l -0.3 0.3 z\" id=\"path2\" /><rect style=\"fill:#e4ffae;fill-opacity:1;stroke:#000;stroke-width:0.05\" id=\"rect\" width=\"1\" height=\"1\" x=\"2.8\" y=\"4.3\"/> <path style=\"fill:#c6e590;stroke:#000;stroke-width:0.05;stroke-linejoin:round\" d=\"m 2.8 4.3 l 0.3 -0.3 h 1 l -0.3 0.3 z\" id=\"path1\" /> <path style=\"fill:#9ebd68;stroke:#000;stroke-width:0.05;stroke-linejoin:round\" d=\"m 2.8 4.3 m 1 0 l 0.3 -0.3 v 1 l -0.3 0.3 z\" id=\"path2\" /><rect style=\"fill:#e4ffae;fill-opacity:1;stroke:#000;stroke-width:0.05\" id=\"rect\" width=\"1\" height=\"1\" x=\"2.8\" y=\"3.3\"/> <path style=\"fill:#c6e590;stroke:#000;stroke-width:0.05;stroke-linejoin:round\" d=\"m 2.8 3.3 l 0.3 -0.3 h 1 l -0.3 0.3 z\" id=\"path1\" /> <path style=\"fill:#9ebd68;stroke:#000;stroke-width:0.05;stroke-linejoin:round\" d=\"m 2.8 3.3 m 1 0 l 0.3 -0.3 v 1 l -0.3 0.3 z\" id=\"path2\" /><rect style=\"fill:#e4ffae;fill-opacity:1;stroke:#000;stroke-width:0.05\" id=\"rect\" width=\"1\" height=\"1\" x=\"2.8\" y=\"2.3\"/> <path style=\"fill:#c6e590;stroke:#000;stroke-width:0.05;stroke-linejoin:round\" d=\"m 2.8 2.3 l 0.3 -0.3 h 1 l -0.3 0.3 z\" id=\"path1\" /> <path style=\"fill:#9ebd68;stroke:#000;stroke-width:0.05;stroke-linejoin:round\" d=\"m 2.8 2.3 m 1 0 l 0.3 -0.3 v 1 l -0.3 0.3 z\" id=\"path2\" /><rect style=\"fill:#e4ffae;fill-opacity:1;stroke:#000;stroke-width:0.05\" id=\"rect\" width=\"1\" height=\"1\" x=\"2.8\" y=\"1.3\"/> <path style=\"fill:#c6e590;stroke:#000;stroke-width:0.05;stroke-linejoin:round\" d=\"m 2.8 1.3 l 0.3 -0.3 h 1 l -0.3 0.3 z\" id=\"path1\" /> <path style=\"fill:#9ebd68;stroke:#000;stroke-width:0.05;stroke-linejoin:round\" d=\"m 2.8 1.3 m 1 0 l 0.3 -0.3 v 1 l -0.3 0.3 z\" id=\"path2\" /></g><text x=\"2.6919999999999997\" y=\"7.300000000000001\"                     class=\"sc-label\" style=\"font-size:0.36px\"                     transform=\"rotate(-90, 2.6919999999999997, 7.300000000000001)\">                        detector_id</text></g></g><g transform=\"translate(-6.1,13.8)\"><g><text x=\"0\" y=\"0.6\"                     class=\"sc-name\" style=\"font-size:0.6px\">                     exper..</text><title>experiment_title(dims=[], shape=[], unit=dimensionless, variances=False)</title><g><title>values</title><rect style=\"fill:#ff7373;fill-opacity:1;stroke:#000;stroke-width:0.05\" id=\"rect\" width=\"1\" height=\"1\" x=\"0.5\" y=\"1.3\"/> <path style=\"fill:#ff5555;stroke:#000;stroke-width:0.05;stroke-linejoin:round\" d=\"m 0.5 1.3 l 0.3 -0.3 h 1 l -0.3 0.3 z\" id=\"path1\" /> <path style=\"fill:#d72d2d;stroke:#000;stroke-width:0.05;stroke-linejoin:round\" d=\"m 0.5 1.3 m 1 0 l 0.3 -0.3 v 1 l -0.3 0.3 z\" id=\"path2\" /></g></g><text x=\"2.5999999999999996\" y=\"2.0\" class=\"sc-label\"                     style=\"font-size:0.96px\"> ... </text><g><text x=\"3.8\" y=\"0.6\"                     class=\"sc-name\" style=\"font-size:0.6px\">                     sourc..</text><title>source_position(dims=[], shape=[], unit=m, variances=False)</title><g><title>values</title><rect style=\"fill:#e4ffae;fill-opacity:1;stroke:#000;stroke-width:0.05\" id=\"rect\" width=\"1\" height=\"1\" x=\"4.3\" y=\"1.3\"/> <path style=\"fill:#c6e590;stroke:#000;stroke-width:0.05;stroke-linejoin:round\" d=\"m 4.3 1.3 l 0.3 -0.3 h 1 l -0.3 0.3 z\" id=\"path1\" /> <path style=\"fill:#9ebd68;stroke:#000;stroke-width:0.05;stroke-linejoin:round\" d=\"m 4.3 1.3 m 1 0 l 0.3 -0.3 v 1 l -0.3 0.3 z\" id=\"path2\" /></g></g></g><g transform=\"translate(0,13.8)\"><g><text x=\"0\" y=\"0.6\"                     class=\"sc-name\" style=\"font-size:0.6px\">                     tof</text><title>tof(dims=[&#x27;tof&#x27;], shape=[2], unit=ns, variances=False)</title><g><title>values</title><rect style=\"fill:#e4ffae;fill-opacity:1;stroke:#000;stroke-width:0.05\" id=\"rect\" width=\"1\" height=\"1\" x=\"0.5\" y=\"1.3\"/> <path style=\"fill:#c6e590;stroke:#000;stroke-width:0.05;stroke-linejoin:round\" d=\"m 0.5 1.3 l 0.3 -0.3 h 1 l -0.3 0.3 z\" id=\"path1\" /> <path style=\"fill:#9ebd68;stroke:#000;stroke-width:0.05;stroke-linejoin:round\" d=\"m 0.5 1.3 m 1 0 l 0.3 -0.3 v 1 l -0.3 0.3 z\" id=\"path2\" /><rect style=\"fill:#e4ffae;fill-opacity:1;stroke:#000;stroke-width:0.05\" id=\"rect\" width=\"1\" height=\"1\" x=\"1.5\" y=\"1.3\"/> <path style=\"fill:#c6e590;stroke:#000;stroke-width:0.05;stroke-linejoin:round\" d=\"m 1.5 1.3 l 0.3 -0.3 h 1 l -0.3 0.3 z\" id=\"path1\" /> <path style=\"fill:#9ebd68;stroke:#000;stroke-width:0.05;stroke-linejoin:round\" d=\"m 1.5 1.3 m 1 0 l 0.3 -0.3 v 1 l -0.3 0.3 z\" id=\"path2\" /></g><text x=\"1.5\" y=\"2.6599999999999997\"                         class=\"sc-label\"                          style=\"font-size:0.36px\">tof</text></g></g></svg>"
      ],
      "text/plain": [
       "<IPython.core.display.HTML object>"
      ]
     },
     "metadata": {},
     "output_type": "display_data"
    }
   ],
   "source": [
    "sc.show(data)"
   ]
  },
  {
   "cell_type": "code",
   "execution_count": 6,
   "id": "a1ea564e-31d9-4383-a351-15c75fa1d343",
   "metadata": {},
   "outputs": [
    {
     "data": {
      "text/html": [
       "<div><!-- Original source from -->\n",
       "<!-- https://github.com/jsignell/xarray/blob/1d960933ab252e0f79f7e050e6c9261d55568057/xarray/static/html/icons-svg-inline.html -->\n",
       "<svg style=\"position: absolute; width: 0; height: 0; overflow: hidden\">\n",
       "<defs>\n",
       "<symbol id=\"icon-database\" viewBox=\"0 0 32 32\">\n",
       "<title>Show/Hide data repr</title>\n",
       "<path d=\"M16 0c-8.837 0-16 2.239-16 5v4c0 2.761 7.163 5 16 5s16-2.239 16-5v-4c0-2.761-7.163-5-16-5z\"></path>\n",
       "<path d=\"M16 17c-8.837 0-16-2.239-16-5v6c0 2.761 7.163 5 16 5s16-2.239 16-5v-6c0 2.761-7.163 5-16 5z\"></path>\n",
       "<path d=\"M16 26c-8.837 0-16-2.239-16-5v6c0 2.761 7.163 5 16 5s16-2.239 16-5v-6c0 2.761-7.163 5-16 5z\"></path>\n",
       "</symbol>\n",
       "<symbol id=\"icon-file-text2\" viewBox=\"0 0 32 32\">\n",
       "<title>Show/Hide attributes</title>\n",
       "<path d=\"M28.681 7.159c-0.694-0.947-1.662-2.053-2.724-3.116s-2.169-2.030-3.116-2.724c-1.612-1.182-2.393-1.319-2.841-1.319h-15.5c-1.378 0-2.5 1.121-2.5 2.5v27c0 1.378 1.122 2.5 2.5 2.5h23c1.378 0 2.5-1.122 2.5-2.5v-19.5c0-0.448-0.137-1.23-1.319-2.841zM24.543 5.457c0.959 0.959 1.712 1.825 2.268 2.543h-4.811v-4.811c0.718 0.556 1.584 1.309 2.543 2.268zM28 29.5c0 0.271-0.229 0.5-0.5 0.5h-23c-0.271 0-0.5-0.229-0.5-0.5v-27c0-0.271 0.229-0.5 0.5-0.5 0 0 15.499-0 15.5 0v7c0 0.552 0.448 1 1 1h7v19.5z\"></path>\n",
       "<path d=\"M23 26h-14c-0.552 0-1-0.448-1-1s0.448-1 1-1h14c0.552 0 1 0.448 1 1s-0.448 1-1 1z\"></path>\n",
       "<path d=\"M23 22h-14c-0.552 0-1-0.448-1-1s0.448-1 1-1h14c0.552 0 1 0.448 1 1s-0.448 1-1 1z\"></path>\n",
       "<path d=\"M23 18h-14c-0.552 0-1-0.448-1-1s0.448-1 1-1h14c0.552 0 1 0.448 1 1s-0.448 1-1 1z\"></path>\n",
       "</symbol>\n",
       "</defs>\n",
       "</svg><style id=\"scipp-style-sheet\">.sc-root{--sc-background-color0:var(--jp-layout-color0,#fff);--sc-background-color1:var(--jp-layout-color1,#fcfcfc);--sc-background-color2:var(--jp-layout-color2,#efefef);--sc-inverse-background-color0:var(--jp-inverse-layout-color4,#111);--sc-font-color0:var(--jp-content-font-color0,#000);--sc-font-color1:var(--jp-content-font-color1,#555);--sc-font-color2:var(--jp-content-font-color2,#888);--sc-font-color3:var(--jp-content-font-color3,#ccc);--sc-table-data-color:#f6d028;--sc-table-coords-color:#c6e590;--sc-table-masks-color:#c8c8c8;--sc-table-attrs-color:#ff5555;--sc-table-header-font-color:#111111;}.sc-wrap{font-size:14px;min-width:300px;max-width:800px;}.sc-var-attrs .sc-wrap{padding-left:3em;}.sc-header{padding-top:6px;padding-bottom:6px;margin-bottom:4px;border-bottom:solid 1px #ddd;}.sc-header > div,.sc-header > ul{display:inline;margin-top:0;margin-bottom:0;}.sc-obj-type,.sc-array-name{margin-left:2px;margin-right:10px;}.sc-obj-type{color:var(--sc-font-color1);}.sc-underlying-size{color:var(--sc-font-color2);}.sc-sections{padding-left:0 !important;display:grid;grid-template-columns:150px auto auto auto 1fr 20px 20px;}.sc-section-item{display:contents;}.sc-section-item input{display:none;}.sc-section-item input:enabled + label{cursor:pointer;color:var(--sc-font-color1);}.sc-section-item input:enabled + label:hover{color:var(--sc-font-color0);}.sc-section-summary{grid-column:1;font-weight:500;}.sc-section-summary > span{display:inline-block;padding-left:0.5em;}.sc-section-summary-in:disabled + label{color:var(--sc-font-color1);}.sc-section-summary-in + label:before{display:inline-block;content:'►';font-size:11px;width:15px;text-align:center;}.sc-section-summary-in:disabled + label:before{color:var(--sc-font-color3);}.sc-section-summary-in:checked + label:before{content:'▼';}.sc-section-summary-in:checked + label > span{display:none;}.sc-section-summary,.sc-section-inline-details{padding-top:4px;padding-bottom:4px;}.sc-section-inline-details{grid-column:2 / 5;}.sc-section-details{display:none;grid-column:1 / -1;margin-bottom:5px;}.sc-section-summary-in:checked ~ .sc-section-details{display:contents;}.sc-array-wrap{grid-column:1 / -1;display:grid;grid-template-columns:20px auto;}.sc-array-wrap > label{grid-column:1;vertical-align:top;}.sc-preview{color:var(--sc-font-color2);}.sc-array-preview,.sc-array-data{padding:0 5px !important;grid-column:2;}.sc-array-data,.sc-array-in:checked ~ .sc-array-preview{display:none;}.sc-array-in:checked ~ .sc-array-data,.sc-array-preview{display:inline-block;}.sc-dim-list{display:inline-block !important;list-style:none;padding:0 !important;margin:0;}.sc-dim-list li{display:inline-block;padding:0;margin:0!important;}.sc-dim-list:before{content:'(';}.sc-dim-list:after{content:')';}.sc-dim-list li:not(:last-child):after{content:',';padding-right:5px;}.sc-has-index{font-weight:bold;}.sc-var-list,.sc-var-item{display:contents;}.sc-var-item > div,.sc-var-item label,.sc-var-item > .sc-var-name span{background-color:var(--sc-background-color1);margin-bottom:0;}.sc-var-item > .sc-var-name:hover span{padding-right:5px;}.sc-var-list > li:nth-child(odd) > div,.sc-var-list > li:nth-child(odd) > label,.sc-var-list > li:nth-child(odd) > .sc-var-name span{background-color:var(--sc-background-color2);}.sc-var-name{grid-column:1;}.sc-var-dims{grid-column:2;}.sc-var-dtype{grid-column:3;text-align:right;color:var(--sc-font-color2);}.sc-var-unit{grid-column:4;text-align:left;color:var(--sc-font-color1);}.sc-value-preview{grid-column:5;}.sc-var-preview-variances{text-align:right;}.sc-sections .sc-section-item .sc-section-summary,.sc-sections .sc-section-item .sc-section-inline-details,.sc-section-item .sc-var-list .sc-var-item > div,.sc-section-item .sc-var-list .sc-var-item > label,.sc-section-details .sc-var-list .sc-var-item > div,.sc-section-details .sc-var-list .sc-var-item > label{margin-top:0;margin-bottom:0;}.sc-var-name,.sc-var-dims,.sc-var-dtype,.sc-var-unit,.sc-preview,.sc-attrs dt{white-space:nowrap;overflow:hidden;text-overflow:ellipsis;padding-right:10px;}.sc-var-name:hover,.sc-var-dims:hover,.sc-var-dtype:hover,.sc-var-unit:hover,.sc-attrs dt:hover{overflow:visible;width:auto;z-index:1;}.sc-var-attrs{display:block;}.sc-var-data{display:none;}.sc-var-attrs,.sc-var-data{background-color:var(--sc-background-color0) !important;padding-bottom:5px !important;}.sc-var-attrs-in:checked ~ .sc-var-attrs{display:none;}.sc-var-data-in:checked ~ .sc-var-data{display:block;}.sc-var-data > table{float:right;}.sc-var-name span,.sc-var-data{padding-left:25px !important;}.sc-var-attrs,.sc-var-data{grid-column:1 / -1;}dl.sc-attrs{padding:0;margin:0;display:grid;grid-template-columns:125px auto;}.sc-attrs dt,dd{padding:0;margin:0;float:left;padding-right:10px;width:auto;}.sc-attrs dt{font-weight:normal;grid-column:1;}.sc-attrs dt:hover span{display:inline-block;padding-right:10px;}.sc-attrs dd{grid-column:2;white-space:pre-wrap;word-break:break-all;}.sc-icon-database,.sc-icon-file-text2{display:inline-block;vertical-align:middle;width:1em;height:1.5em !important;stroke-width:0;stroke:currentColor;fill:currentColor;}label.sc-hide-icon svg{opacity:0;}.sc-standalone-var-name{grid-column:1/3;}.sc-standalone-var-name span{padding-left:25px;padding-right:10px;}.sc-table{border-collapse:collapse;}.sc-title{font-weight:bold;font-size:1.5em;}.sc-subtitle{font-weight:normal;font-style:italic;text-align:left;font-size:1.2em;padding:1px;}.sc-table th,.sc-table td{border:1px solid var(--sc-inverse-background-color0);padding:0 5px 0 5px;}.sc-table th{text-align:center;}.sc-table tr{background-color:var(--sc-background-color1);text-align:right;}.sc-table tr:hover{background-color:var(--sc-background-color2);}.sc-table th.sc-data{background-color:var(--sc-table-data-color);color:var(--sc-table-header-font-color);}.sc-table th.sc-coords{background-color:var(--sc-table-coords-color);color:var(--sc-table-header-font-color);}.sc-table th.sc-masks{background-color:var(--sc-table-masks-color);color:var(--sc-table-header-font-color);}.sc-table th.sc-attrs{background-color:var(--sc-table-attrs-color);color:var(--sc-table-header-font-color);}.sc-table th.sc-subheader{background-color:var(--sc-background-color2);}.sc-table td.sc-padding{background-color:var(--sc-background-color1);border:0 solid var(--sc-background-color1);height:1.2em;}.sc-label{fill:var(--sc-font-color0,#444444);text-anchor:middle;}.sc-name{fill:var(--sc-font-color0,#111111);}.sc-inset-line{stroke:var(--sc-font-color1);stroke-width:0.05;stroke-dasharray:0.2,0.2;}.sc-log-wrap{height:25ex;resize:vertical;overflow-y:scroll;display:flex;flex-direction:column-reverse;border:1px solid;border-color:var(--jp-border-color2);background-color:var(--sc-background-color1);}div.sc-log{line-height:2.5ex;}table.sc-log{table-layout:auto;border-collapse:collapse;}tr.sc-log:nth-child(even){background-color:var(--sc-background-color0);}tr.sc-log > td{vertical-align:top;padding-bottom:0.5ex;}.sc-log-time-stamp{min-width:22ch;font-family:var(--jp-code-font-family);color:var(--sc-font-color2);}.sc-log-level{min-width:10ch;}tr.sc-log-debug td.sc-log-level{color:var(--jp-accent-color1);}tr.sc-log-info td.sc-log-level{color:var(--jp-info-color1);}tr.sc-log-warning td.sc-log-level{color:var(--jp-warn-color1);}tr.sc-log-error td.sc-log-level{font-weight:bold;color:var(--jp-error-color2);}tr.sc-log-critical td.sc-log-level{font-weight:bold;color:var(--sc-background-color0);background-color:var(--jp-error-color1);}.sc-log-message{white-space:pre-wrap;width:100%;}.sc-log-html-payload{white-space:normal;}.sc-log-name{padding-right:0.5em;text-align:right;white-space:pre-wrap;color:var(--sc-font-color3);}</style><div class='sc-wrap sc-root'><div class='sc-header'><div class='sc-obj-type'>scipp.DataArray (45.52 MB)</div></div><ul class='sc-sections'><li class='sc-section-item'><input id='section-daf1fc9b-85ec-446f-b181-0bbe6c93f6cd' class='sc-section-summary-in' type='checkbox' disabled ><label for='section-daf1fc9b-85ec-446f-b181-0bbe6c93f6cd' class='sc-section-summary'  title='Expand/collapse section'>Dimensions:</label><div class='sc-section-inline-details'><ul class='sc-dim-list'><li><span>event</span>: 2386596</li></ul></div><div class='sc-section-details'></div></li><li class='sc-section-item'><input id='section-afc4242f-00b5-4446-ad7f-735b03c19a14' class='sc-section-summary-in' type='checkbox'  checked><label for='section-afc4242f-00b5-4446-ad7f-735b03c19a14' class='sc-section-summary' >Coordinates: <span>(2)</span></label><div class='sc-section-inline-details'></div><div class='sc-section-details'><ul class='sc-var-list'><li class='sc-var-item'><div class='sc-var-name'><span>pulse_time</span></div><div class='sc-var-dims'>(event)</div><div class='sc-var-dtype'>datetime64</div><div class='sc-var-unit'>ns</div><div class='sc-value-preview sc-preview'><span><div>2022-02-23T09:59:59.686461281, 2022-02-23T09:59:59.686461281, ..., 2022-02-23T10:10:00.114877238, 2022-02-23T10:10:00.114877238</div></span></div><input id='attrs-3685531b-d226-4b77-82c7-5ec832b3747e' class='sc-var-attrs-in' type='checkbox' disabled><label for='attrs-3685531b-d226-4b77-82c7-5ec832b3747e' class='sc-hide-icon' title='Show/Hide attributes'><svg class='icon sc-icon-file-text2'><use xlink:href='#icon-file-text2'></use></svg></label><input id='data-ad2a8669-7380-4620-8c74-1789d71ee278' class='sc-var-data-in' type='checkbox'><label for='data-ad2a8669-7380-4620-8c74-1789d71ee278' title='Show/Hide data repr'><svg class='icon sc-icon-database'><use xlink:href='#icon-database'></use></svg></label><pre class='sc-var-data'>Values:<br>array([&#x27;2022-02-23T09:59:59.686461281&#x27;, &#x27;2022-02-23T09:59:59.686461281&#x27;,\n",
       "       &#x27;2022-02-23T09:59:59.686461281&#x27;, ...,\n",
       "       &#x27;2022-02-23T10:10:00.114877238&#x27;, &#x27;2022-02-23T10:10:00.114877238&#x27;,\n",
       "       &#x27;2022-02-23T10:10:00.114877238&#x27;], dtype=&#x27;datetime64[ns]&#x27;)</pre></span></li><li class='sc-var-item'><div class='sc-var-name'><span>tof</span></div><div class='sc-var-dims'>(event)</div><div class='sc-var-dtype'>int32</div><div class='sc-var-unit'>ns</div><div class='sc-value-preview sc-preview'><span><div>2393935, 54005337, ..., 95860776, 81947440</div></span></div><input id='attrs-8f30ef00-32cd-4fe9-88be-14fec2f096e2' class='sc-var-attrs-in' type='checkbox' disabled><label for='attrs-8f30ef00-32cd-4fe9-88be-14fec2f096e2' class='sc-hide-icon' title='Show/Hide attributes'><svg class='icon sc-icon-file-text2'><use xlink:href='#icon-file-text2'></use></svg></label><input id='data-d7709bd3-3bc0-40c4-8687-831888316368' class='sc-var-data-in' type='checkbox'><label for='data-d7709bd3-3bc0-40c4-8687-831888316368' title='Show/Hide data repr'><svg class='icon sc-icon-database'><use xlink:href='#icon-database'></use></svg></label><pre class='sc-var-data'>Values:<br>array([ 2393935, 54005337, 60343999, ..., 78490548, 95860776, 81947440],\n",
       "      dtype=int32)</pre></span></li></ul></div></li><li class='sc-section-item'><input id='section-cef35899-4be8-4521-b737-9a3a82141a73' class='sc-section-summary-in' type='checkbox'  checked><label for='section-cef35899-4be8-4521-b737-9a3a82141a73' class='sc-section-summary' >Data: <span>(1)</span></label><div class='sc-section-inline-details'></div><div class='sc-section-details'><ul class='sc-var-list'><li class='sc-var-item'><div class='sc-var-name'><span></span></div><div class='sc-var-dims'>(event)</div><div class='sc-var-dtype'>float32</div><div class='sc-var-unit'>counts</div><div class='sc-value-preview sc-preview'><span><div>1.0, 1.0, ..., 1.0, 1.0</div></span><span><div>σ = 1.0, 1.0, ..., 1.0, 1.0</div></span></div><input id='attrs-a7be2582-747d-4817-827d-8a498c802244' class='sc-var-attrs-in' type='checkbox' disabled><label for='attrs-a7be2582-747d-4817-827d-8a498c802244' class='sc-hide-icon' title='Show/Hide attributes'><svg class='icon sc-icon-file-text2'><use xlink:href='#icon-file-text2'></use></svg></label><input id='data-50a808ad-9d7b-46df-bf6f-71dc5af044bb' class='sc-var-data-in' type='checkbox'><label for='data-50a808ad-9d7b-46df-bf6f-71dc5af044bb' title='Show/Hide data repr'><svg class='icon sc-icon-database'><use xlink:href='#icon-database'></use></svg></label><pre class='sc-var-data'>Values:<br>array([1., 1., 1., ..., 1., 1., 1.], dtype=float32)<br><br>Variances (σ²):<br>array([1., 1., 1., ..., 1., 1., 1.], dtype=float32)</pre></li></ul></div></li></ul></div></div>"
      ],
      "text/plain": [
       "<scipp.DataArray>\n",
       "Dimensions: Sizes[event:2386596, ]\n",
       "Coordinates:\n",
       "  pulse_time              datetime64             [ns]  (event)  [2022-02-23T09:59:59.686461281, 2022-02-23T09:59:59.686461281, ..., 2022-02-23T10:10:00.114877238, 2022-02-23T10:10:00.114877238]\n",
       "  tof                         int32             [ns]  (event)  [2393935, 54005337, ..., 95860776, 81947440]\n",
       "Data:\n",
       "                            float32         [counts]  (event)  [1, 1, ..., 1, 1]  [1, 1, ..., 1, 1]\n"
      ]
     },
     "execution_count": 6,
     "metadata": {},
     "output_type": "execute_result"
    }
   ],
   "source": [
    "#How many events?\n",
    "data.bins.constituents['data']"
   ]
  },
  {
   "cell_type": "code",
   "execution_count": 7,
   "id": "092e005e-5acd-4e70-a133-09689c711d52",
   "metadata": {},
   "outputs": [
    {
     "data": {
      "application/vnd.jupyter.widget-view+json": {
       "model_id": "7a1cce06e419424c8cb570ca37910927",
       "version_major": 2,
       "version_minor": 0
      },
      "text/plain": [
       "VBox(children=(HBox(children=(VBox(children=(Button(icon='home', layout=Layout(padding='0px 0px 0px 0px', widt…"
      ]
     },
     "metadata": {},
     "output_type": "display_data"
    }
   ],
   "source": [
    "data.plot()"
   ]
  },
  {
   "cell_type": "markdown",
   "id": "309557e7-194d-4858-bae8-b4fa1b444af9",
   "metadata": {},
   "source": [
    "### Instrument view"
   ]
  },
  {
   "cell_type": "code",
   "execution_count": 8,
   "id": "fab6ede5-b9f7-44bc-832d-9dd9569b0617",
   "metadata": {},
   "outputs": [],
   "source": [
    "data.coords['sample_position'] = sc.vector(value = np.array([0, 0, 0]), unit = sc.units.m)"
   ]
  },
  {
   "cell_type": "code",
   "execution_count": 9,
   "id": "bb60cca6-7690-455d-b8eb-f06b5b9ebb80",
   "metadata": {},
   "outputs": [
    {
     "data": {
      "text/html": [
       "<div><!-- Original source from -->\n",
       "<!-- https://github.com/jsignell/xarray/blob/1d960933ab252e0f79f7e050e6c9261d55568057/xarray/static/html/icons-svg-inline.html -->\n",
       "<svg style=\"position: absolute; width: 0; height: 0; overflow: hidden\">\n",
       "<defs>\n",
       "<symbol id=\"icon-database\" viewBox=\"0 0 32 32\">\n",
       "<title>Show/Hide data repr</title>\n",
       "<path d=\"M16 0c-8.837 0-16 2.239-16 5v4c0 2.761 7.163 5 16 5s16-2.239 16-5v-4c0-2.761-7.163-5-16-5z\"></path>\n",
       "<path d=\"M16 17c-8.837 0-16-2.239-16-5v6c0 2.761 7.163 5 16 5s16-2.239 16-5v-6c0 2.761-7.163 5-16 5z\"></path>\n",
       "<path d=\"M16 26c-8.837 0-16-2.239-16-5v6c0 2.761 7.163 5 16 5s16-2.239 16-5v-6c0 2.761-7.163 5-16 5z\"></path>\n",
       "</symbol>\n",
       "<symbol id=\"icon-file-text2\" viewBox=\"0 0 32 32\">\n",
       "<title>Show/Hide attributes</title>\n",
       "<path d=\"M28.681 7.159c-0.694-0.947-1.662-2.053-2.724-3.116s-2.169-2.030-3.116-2.724c-1.612-1.182-2.393-1.319-2.841-1.319h-15.5c-1.378 0-2.5 1.121-2.5 2.5v27c0 1.378 1.122 2.5 2.5 2.5h23c1.378 0 2.5-1.122 2.5-2.5v-19.5c0-0.448-0.137-1.23-1.319-2.841zM24.543 5.457c0.959 0.959 1.712 1.825 2.268 2.543h-4.811v-4.811c0.718 0.556 1.584 1.309 2.543 2.268zM28 29.5c0 0.271-0.229 0.5-0.5 0.5h-23c-0.271 0-0.5-0.229-0.5-0.5v-27c0-0.271 0.229-0.5 0.5-0.5 0 0 15.499-0 15.5 0v7c0 0.552 0.448 1 1 1h7v19.5z\"></path>\n",
       "<path d=\"M23 26h-14c-0.552 0-1-0.448-1-1s0.448-1 1-1h14c0.552 0 1 0.448 1 1s-0.448 1-1 1z\"></path>\n",
       "<path d=\"M23 22h-14c-0.552 0-1-0.448-1-1s0.448-1 1-1h14c0.552 0 1 0.448 1 1s-0.448 1-1 1z\"></path>\n",
       "<path d=\"M23 18h-14c-0.552 0-1-0.448-1-1s0.448-1 1-1h14c0.552 0 1 0.448 1 1s-0.448 1-1 1z\"></path>\n",
       "</symbol>\n",
       "</defs>\n",
       "</svg><style id=\"scipp-style-sheet\">.sc-root{--sc-background-color0:var(--jp-layout-color0,#fff);--sc-background-color1:var(--jp-layout-color1,#fcfcfc);--sc-background-color2:var(--jp-layout-color2,#efefef);--sc-inverse-background-color0:var(--jp-inverse-layout-color4,#111);--sc-font-color0:var(--jp-content-font-color0,#000);--sc-font-color1:var(--jp-content-font-color1,#555);--sc-font-color2:var(--jp-content-font-color2,#888);--sc-font-color3:var(--jp-content-font-color3,#ccc);--sc-table-data-color:#f6d028;--sc-table-coords-color:#c6e590;--sc-table-masks-color:#c8c8c8;--sc-table-attrs-color:#ff5555;--sc-table-header-font-color:#111111;}.sc-wrap{font-size:14px;min-width:300px;max-width:800px;}.sc-var-attrs .sc-wrap{padding-left:3em;}.sc-header{padding-top:6px;padding-bottom:6px;margin-bottom:4px;border-bottom:solid 1px #ddd;}.sc-header > div,.sc-header > ul{display:inline;margin-top:0;margin-bottom:0;}.sc-obj-type,.sc-array-name{margin-left:2px;margin-right:10px;}.sc-obj-type{color:var(--sc-font-color1);}.sc-underlying-size{color:var(--sc-font-color2);}.sc-sections{padding-left:0 !important;display:grid;grid-template-columns:150px auto auto auto 1fr 20px 20px;}.sc-section-item{display:contents;}.sc-section-item input{display:none;}.sc-section-item input:enabled + label{cursor:pointer;color:var(--sc-font-color1);}.sc-section-item input:enabled + label:hover{color:var(--sc-font-color0);}.sc-section-summary{grid-column:1;font-weight:500;}.sc-section-summary > span{display:inline-block;padding-left:0.5em;}.sc-section-summary-in:disabled + label{color:var(--sc-font-color1);}.sc-section-summary-in + label:before{display:inline-block;content:'►';font-size:11px;width:15px;text-align:center;}.sc-section-summary-in:disabled + label:before{color:var(--sc-font-color3);}.sc-section-summary-in:checked + label:before{content:'▼';}.sc-section-summary-in:checked + label > span{display:none;}.sc-section-summary,.sc-section-inline-details{padding-top:4px;padding-bottom:4px;}.sc-section-inline-details{grid-column:2 / 5;}.sc-section-details{display:none;grid-column:1 / -1;margin-bottom:5px;}.sc-section-summary-in:checked ~ .sc-section-details{display:contents;}.sc-array-wrap{grid-column:1 / -1;display:grid;grid-template-columns:20px auto;}.sc-array-wrap > label{grid-column:1;vertical-align:top;}.sc-preview{color:var(--sc-font-color2);}.sc-array-preview,.sc-array-data{padding:0 5px !important;grid-column:2;}.sc-array-data,.sc-array-in:checked ~ .sc-array-preview{display:none;}.sc-array-in:checked ~ .sc-array-data,.sc-array-preview{display:inline-block;}.sc-dim-list{display:inline-block !important;list-style:none;padding:0 !important;margin:0;}.sc-dim-list li{display:inline-block;padding:0;margin:0!important;}.sc-dim-list:before{content:'(';}.sc-dim-list:after{content:')';}.sc-dim-list li:not(:last-child):after{content:',';padding-right:5px;}.sc-has-index{font-weight:bold;}.sc-var-list,.sc-var-item{display:contents;}.sc-var-item > div,.sc-var-item label,.sc-var-item > .sc-var-name span{background-color:var(--sc-background-color1);margin-bottom:0;}.sc-var-item > .sc-var-name:hover span{padding-right:5px;}.sc-var-list > li:nth-child(odd) > div,.sc-var-list > li:nth-child(odd) > label,.sc-var-list > li:nth-child(odd) > .sc-var-name span{background-color:var(--sc-background-color2);}.sc-var-name{grid-column:1;}.sc-var-dims{grid-column:2;}.sc-var-dtype{grid-column:3;text-align:right;color:var(--sc-font-color2);}.sc-var-unit{grid-column:4;text-align:left;color:var(--sc-font-color1);}.sc-value-preview{grid-column:5;}.sc-var-preview-variances{text-align:right;}.sc-sections .sc-section-item .sc-section-summary,.sc-sections .sc-section-item .sc-section-inline-details,.sc-section-item .sc-var-list .sc-var-item > div,.sc-section-item .sc-var-list .sc-var-item > label,.sc-section-details .sc-var-list .sc-var-item > div,.sc-section-details .sc-var-list .sc-var-item > label{margin-top:0;margin-bottom:0;}.sc-var-name,.sc-var-dims,.sc-var-dtype,.sc-var-unit,.sc-preview,.sc-attrs dt{white-space:nowrap;overflow:hidden;text-overflow:ellipsis;padding-right:10px;}.sc-var-name:hover,.sc-var-dims:hover,.sc-var-dtype:hover,.sc-var-unit:hover,.sc-attrs dt:hover{overflow:visible;width:auto;z-index:1;}.sc-var-attrs{display:block;}.sc-var-data{display:none;}.sc-var-attrs,.sc-var-data{background-color:var(--sc-background-color0) !important;padding-bottom:5px !important;}.sc-var-attrs-in:checked ~ .sc-var-attrs{display:none;}.sc-var-data-in:checked ~ .sc-var-data{display:block;}.sc-var-data > table{float:right;}.sc-var-name span,.sc-var-data{padding-left:25px !important;}.sc-var-attrs,.sc-var-data{grid-column:1 / -1;}dl.sc-attrs{padding:0;margin:0;display:grid;grid-template-columns:125px auto;}.sc-attrs dt,dd{padding:0;margin:0;float:left;padding-right:10px;width:auto;}.sc-attrs dt{font-weight:normal;grid-column:1;}.sc-attrs dt:hover span{display:inline-block;padding-right:10px;}.sc-attrs dd{grid-column:2;white-space:pre-wrap;word-break:break-all;}.sc-icon-database,.sc-icon-file-text2{display:inline-block;vertical-align:middle;width:1em;height:1.5em !important;stroke-width:0;stroke:currentColor;fill:currentColor;}label.sc-hide-icon svg{opacity:0;}.sc-standalone-var-name{grid-column:1/3;}.sc-standalone-var-name span{padding-left:25px;padding-right:10px;}.sc-table{border-collapse:collapse;}.sc-title{font-weight:bold;font-size:1.5em;}.sc-subtitle{font-weight:normal;font-style:italic;text-align:left;font-size:1.2em;padding:1px;}.sc-table th,.sc-table td{border:1px solid var(--sc-inverse-background-color0);padding:0 5px 0 5px;}.sc-table th{text-align:center;}.sc-table tr{background-color:var(--sc-background-color1);text-align:right;}.sc-table tr:hover{background-color:var(--sc-background-color2);}.sc-table th.sc-data{background-color:var(--sc-table-data-color);color:var(--sc-table-header-font-color);}.sc-table th.sc-coords{background-color:var(--sc-table-coords-color);color:var(--sc-table-header-font-color);}.sc-table th.sc-masks{background-color:var(--sc-table-masks-color);color:var(--sc-table-header-font-color);}.sc-table th.sc-attrs{background-color:var(--sc-table-attrs-color);color:var(--sc-table-header-font-color);}.sc-table th.sc-subheader{background-color:var(--sc-background-color2);}.sc-table td.sc-padding{background-color:var(--sc-background-color1);border:0 solid var(--sc-background-color1);height:1.2em;}.sc-label{fill:var(--sc-font-color0,#444444);text-anchor:middle;}.sc-name{fill:var(--sc-font-color0,#111111);}.sc-inset-line{stroke:var(--sc-font-color1);stroke-width:0.05;stroke-dasharray:0.2,0.2;}.sc-log-wrap{height:25ex;resize:vertical;overflow-y:scroll;display:flex;flex-direction:column-reverse;border:1px solid;border-color:var(--jp-border-color2);background-color:var(--sc-background-color1);}div.sc-log{line-height:2.5ex;}table.sc-log{table-layout:auto;border-collapse:collapse;}tr.sc-log:nth-child(even){background-color:var(--sc-background-color0);}tr.sc-log > td{vertical-align:top;padding-bottom:0.5ex;}.sc-log-time-stamp{min-width:22ch;font-family:var(--jp-code-font-family);color:var(--sc-font-color2);}.sc-log-level{min-width:10ch;}tr.sc-log-debug td.sc-log-level{color:var(--jp-accent-color1);}tr.sc-log-info td.sc-log-level{color:var(--jp-info-color1);}tr.sc-log-warning td.sc-log-level{color:var(--jp-warn-color1);}tr.sc-log-error td.sc-log-level{font-weight:bold;color:var(--jp-error-color2);}tr.sc-log-critical td.sc-log-level{font-weight:bold;color:var(--sc-background-color0);background-color:var(--jp-error-color1);}.sc-log-message{white-space:pre-wrap;width:100%;}.sc-log-html-payload{white-space:normal;}.sc-log-name{padding-right:0.5em;text-align:right;white-space:pre-wrap;color:var(--sc-font-color3);}</style><div class='sc-wrap sc-root'><div class='sc-header'><div class='sc-obj-type'>scipp.DataArray (62.36 MB)</div></div><ul class='sc-sections'><li class='sc-section-item'><input id='section-15e85715-d9e3-44ca-b9a1-1da51b9081bc' class='sc-section-summary-in' type='checkbox' disabled ><label for='section-15e85715-d9e3-44ca-b9a1-1da51b9081bc' class='sc-section-summary'  title='Expand/collapse section'>Dimensions:</label><div class='sc-section-inline-details'><ul class='sc-dim-list'><li><span class='sc-has-index'>detector_id</span>: 401408</li><li><span class='sc-has-index'>tof</span>: 1</li></ul></div><div class='sc-section-details'></div></li><li class='sc-section-item'><input id='section-12a28f80-d90c-41f0-b2d3-5632ac498700' class='sc-section-summary-in' type='checkbox'  checked><label for='section-12a28f80-d90c-41f0-b2d3-5632ac498700' class='sc-section-summary' >Coordinates: <span>(5)</span></label><div class='sc-section-inline-details'></div><div class='sc-section-details'><ul class='sc-var-list'><li class='sc-var-item'><div class='sc-var-name'><span class='sc-has-index'>detector_id</span></div><div class='sc-var-dims'>(detector_id)</div><div class='sc-var-dtype'>int32</div><div class='sc-var-unit'></div><div class='sc-value-preview sc-preview'><span><div>1, 2, ..., 401407, 401408</div></span></div><input id='attrs-be8d0eeb-7490-43e6-a84d-6dc4857b2683' class='sc-var-attrs-in' type='checkbox' disabled><label for='attrs-be8d0eeb-7490-43e6-a84d-6dc4857b2683' class='sc-hide-icon' title='Show/Hide attributes'><svg class='icon sc-icon-file-text2'><use xlink:href='#icon-file-text2'></use></svg></label><input id='data-d7954b25-cf08-42d8-b1ae-bcfbcdb62f68' class='sc-var-data-in' type='checkbox'><label for='data-d7954b25-cf08-42d8-b1ae-bcfbcdb62f68' title='Show/Hide data repr'><svg class='icon sc-icon-database'><use xlink:href='#icon-database'></use></svg></label><pre class='sc-var-data'>Values:<br>array([     1,      2,      3, ..., 401406, 401407, 401408], dtype=int32)</pre></span></li><li class='sc-var-item'><div class='sc-var-name'><span>position</span></div><div class='sc-var-dims'>(detector_id)</div><div class='sc-var-dtype'>vector3</div><div class='sc-var-unit'>m</div><div class='sc-value-preview sc-preview'><span><div>[ 0.4990235   0.41832992 -4.4298605 ], [ 0.50096887  0.41832992 -4.4298605 ], ..., [ 0.99314776  1.97683012 -4.35336242], [ 0.99509314  1.97683012 -4.35336242]</div></span></div><input id='attrs-5230a3df-862e-4b03-ab6d-9a72079bf446' class='sc-var-attrs-in' type='checkbox' disabled><label for='attrs-5230a3df-862e-4b03-ab6d-9a72079bf446' class='sc-hide-icon' title='Show/Hide attributes'><svg class='icon sc-icon-file-text2'><use xlink:href='#icon-file-text2'></use></svg></label><input id='data-f8ba23f2-aaac-4865-a212-f4e5ceaf2764' class='sc-var-data-in' type='checkbox'><label for='data-f8ba23f2-aaac-4865-a212-f4e5ceaf2764' title='Show/Hide data repr'><svg class='icon sc-icon-database'><use xlink:href='#icon-database'></use></svg></label><pre class='sc-var-data'>Values:<br>array([[ 0.4990235 ,  0.41832992, -4.4298605 ],\n",
       "       [ 0.50096887,  0.41832992, -4.4298605 ],\n",
       "       [ 0.50291424,  0.41832992, -4.4298605 ],\n",
       "       ...,\n",
       "       [ 0.99120238,  1.97683012, -4.35336242],\n",
       "       [ 0.99314776,  1.97683012, -4.35336242],\n",
       "       [ 0.99509314,  1.97683012, -4.35336242]])</pre></span></li><li class='sc-var-item'><div class='sc-var-name'><span>sample_position</span></div><div class='sc-var-dims'>()</div><div class='sc-var-dtype'>vector3</div><div class='sc-var-unit'>m</div><div class='sc-value-preview sc-preview'><span><div>[0. 0. 0.]</div></span></div><input id='attrs-18631e20-f86a-408b-8cbd-8c06a652877e' class='sc-var-attrs-in' type='checkbox' disabled><label for='attrs-18631e20-f86a-408b-8cbd-8c06a652877e' class='sc-hide-icon' title='Show/Hide attributes'><svg class='icon sc-icon-file-text2'><use xlink:href='#icon-file-text2'></use></svg></label><input id='data-6cfdaae0-d8b5-446e-9459-936d162e49c7' class='sc-var-data-in' type='checkbox'><label for='data-6cfdaae0-d8b5-446e-9459-936d162e49c7' title='Show/Hide data repr'><svg class='icon sc-icon-database'><use xlink:href='#icon-database'></use></svg></label><pre class='sc-var-data'>Values:<br>array([0., 0., 0.])</pre></span></li><li class='sc-var-item'><div class='sc-var-name'><span>source_position</span></div><div class='sc-var-dims'>()</div><div class='sc-var-dtype'>vector3</div><div class='sc-var-unit'>m</div><div class='sc-value-preview sc-preview'><span><div>[ 0.          0.         25.29999924]</div></span></div><input id='attrs-57c402ec-c7df-4613-b825-a2b2e2487c7a' class='sc-var-attrs-in' type='checkbox' disabled><label for='attrs-57c402ec-c7df-4613-b825-a2b2e2487c7a' class='sc-hide-icon' title='Show/Hide attributes'><svg class='icon sc-icon-file-text2'><use xlink:href='#icon-file-text2'></use></svg></label><input id='data-ac34ae02-eb30-476e-affd-ceb2357e833f' class='sc-var-data-in' type='checkbox'><label for='data-ac34ae02-eb30-476e-affd-ceb2357e833f' title='Show/Hide data repr'><svg class='icon sc-icon-database'><use xlink:href='#icon-database'></use></svg></label><pre class='sc-var-data'>Values:<br>array([ 0.        ,  0.        , 25.29999924])</pre></span></li><li class='sc-var-item'><div class='sc-var-name'><span class='sc-has-index'>tof</span></div><div class='sc-var-dims'>(tof [bin-edge])</div><div class='sc-var-dtype'>int32</div><div class='sc-var-unit'>ns</div><div class='sc-value-preview sc-preview'><span><div>34, 100004725</div></span></div><input id='attrs-ab56e87a-3a94-4b29-91a5-24512a057ca4' class='sc-var-attrs-in' type='checkbox' disabled><label for='attrs-ab56e87a-3a94-4b29-91a5-24512a057ca4' class='sc-hide-icon' title='Show/Hide attributes'><svg class='icon sc-icon-file-text2'><use xlink:href='#icon-file-text2'></use></svg></label><input id='data-51722667-dddf-4776-8bf1-604a54671662' class='sc-var-data-in' type='checkbox'><label for='data-51722667-dddf-4776-8bf1-604a54671662' title='Show/Hide data repr'><svg class='icon sc-icon-database'><use xlink:href='#icon-database'></use></svg></label><pre class='sc-var-data'>Values:<br>array([       34, 100004725], dtype=int32)</pre></span></li></ul></div></li><li class='sc-section-item'><input id='section-2ca098d7-da3f-44df-898b-a4c2c792b229' class='sc-section-summary-in' type='checkbox'  checked><label for='section-2ca098d7-da3f-44df-898b-a4c2c792b229' class='sc-section-summary' >Data: <span>(1)</span></label><div class='sc-section-inline-details'></div><div class='sc-section-details'><ul class='sc-var-list'><li class='sc-var-item'><div class='sc-var-name'><span></span></div><div class='sc-var-dims'>(detector_id, tof)</div><div class='sc-var-dtype'>DataArrayView</div><div class='sc-var-unit'></div><div class='sc-value-preview sc-preview'><span><div>binned data [len=0, len=0, ..., len=0, len=0]</div></span></div><input id='attrs-1069643d-6b0d-48b3-ba63-3bff447dd7eb' class='sc-var-attrs-in' type='checkbox' disabled><label for='attrs-1069643d-6b0d-48b3-ba63-3bff447dd7eb' class='sc-hide-icon' title='Show/Hide attributes'><svg class='icon sc-icon-file-text2'><use xlink:href='#icon-file-text2'></use></svg></label><input id='data-b44d6204-a4ca-405e-836d-67ff728d1de2' class='sc-var-data-in' type='checkbox'><label for='data-b44d6204-a4ca-405e-836d-67ff728d1de2' title='Show/Hide data repr'><svg class='icon sc-icon-database'><use xlink:href='#icon-database'></use></svg></label><pre class='sc-var-data'>Values:<br>[&lt;scipp.DataArray&gt;\n",
       "Dimensions: Sizes[event:0, ]\n",
       "Coordinates:\n",
       "  pulse_time              datetime64             [ns]  (event)  []\n",
       "  tof                         int32             [ns]  (event)  []\n",
       "Data:\n",
       "                            float32         [counts]  (event)  []  []\n",
       "\n",
       ", &lt;scipp.DataArray&gt;\n",
       "Dimensions: Sizes[event:0, ]\n",
       "Coordinates:\n",
       "  pulse_time              datetime64             [ns]  (event)  []\n",
       "  tof                         int32             [ns]  (event)  []\n",
       "Data:\n",
       "                            float32         [counts]  (event)  []  []\n",
       "\n",
       ", ..., &lt;scipp.DataArray&gt;\n",
       "Dimensions: Sizes[event:0, ]\n",
       "Coordinates:\n",
       "  pulse_time              datetime64             [ns]  (event)  []\n",
       "  tof                         int32             [ns]  (event)  []\n",
       "Data:\n",
       "                            float32         [counts]  (event)  []  []\n",
       "\n",
       ", &lt;scipp.DataArray&gt;\n",
       "Dimensions: Sizes[event:0, ]\n",
       "Coordinates:\n",
       "  pulse_time              datetime64             [ns]  (event)  []\n",
       "  tof                         int32             [ns]  (event)  []\n",
       "Data:\n",
       "                            float32         [counts]  (event)  []  []\n",
       "\n",
       "]</pre></li></ul></div></li><li class='sc-section-item'><input id='section-270c1957-d03d-49c1-bef1-5a798761920d' class='sc-section-summary-in' type='checkbox'  checked><label for='section-270c1957-d03d-49c1-bef1-5a798761920d' class='sc-section-summary' >Attributes: <span>(6)</span></label><div class='sc-section-inline-details'></div><div class='sc-section-details'><ul class='sc-var-list'><li class='sc-var-item'><div class='sc-var-name'><span>end_time</span></div><div class='sc-var-dims'>()</div><div class='sc-var-dtype'>string</div><div class='sc-var-unit'></div><div class='sc-value-preview sc-preview'><span><div>2022-02-23T10:10:00.000Z</div></span></div><input id='attrs-9bf03055-0f9d-428b-8bd8-e1c413fe3c01' class='sc-var-attrs-in' type='checkbox' disabled><label for='attrs-9bf03055-0f9d-428b-8bd8-e1c413fe3c01' class='sc-hide-icon' title='Show/Hide attributes'><svg class='icon sc-icon-file-text2'><use xlink:href='#icon-file-text2'></use></svg></label><input id='data-1912c025-2d56-422a-be9f-2e94c748b6ea' class='sc-var-data-in' type='checkbox'><label for='data-1912c025-2d56-422a-be9f-2e94c748b6ea' title='Show/Hide data repr'><svg class='icon sc-icon-database'><use xlink:href='#icon-database'></use></svg></label><pre class='sc-var-data'>Values:<br>&#x27;2022-02-23T10:10:00.000Z&#x27;</pre></li><li class='sc-var-item'><div class='sc-var-name'><span>experiment_title</span></div><div class='sc-var-dims'>()</div><div class='sc-var-dtype'>string</div><div class='sc-var-unit'></div><div class='sc-value-preview sc-preview'><span><div>My experiment</div></span></div><input id='attrs-a075d52a-de9f-4c5f-b291-633e89f5c338' class='sc-var-attrs-in' type='checkbox' disabled><label for='attrs-a075d52a-de9f-4c5f-b291-633e89f5c338' class='sc-hide-icon' title='Show/Hide attributes'><svg class='icon sc-icon-file-text2'><use xlink:href='#icon-file-text2'></use></svg></label><input id='data-70a2320f-e44a-4736-905d-df48c1d47162' class='sc-var-data-in' type='checkbox'><label for='data-70a2320f-e44a-4736-905d-df48c1d47162' title='Show/Hide data repr'><svg class='icon sc-icon-database'><use xlink:href='#icon-database'></use></svg></label><pre class='sc-var-data'>Values:<br>&#x27;My experiment&#x27;</pre></li><li class='sc-var-item'><div class='sc-var-name'><span>instrument_name</span></div><div class='sc-var-dims'>()</div><div class='sc-var-dtype'>string</div><div class='sc-var-unit'></div><div class='sc-value-preview sc-preview'><span><div>LARMOR</div></span></div><input id='attrs-c7287880-0a2f-4048-bb7a-850a4c47e764' class='sc-var-attrs-in' type='checkbox' disabled><label for='attrs-c7287880-0a2f-4048-bb7a-850a4c47e764' class='sc-hide-icon' title='Show/Hide attributes'><svg class='icon sc-icon-file-text2'><use xlink:href='#icon-file-text2'></use></svg></label><input id='data-8310504d-b7e3-45e9-8d44-4193cf635273' class='sc-var-data-in' type='checkbox'><label for='data-8310504d-b7e3-45e9-8d44-4193cf635273' title='Show/Hide data repr'><svg class='icon sc-icon-database'><use xlink:href='#icon-database'></use></svg></label><pre class='sc-var-data'>Values:<br>&#x27;LARMOR&#x27;</pre></li><li class='sc-var-item'><div class='sc-var-name'><span>monitor_1</span></div><div class='sc-var-dims'>()</div><div class='sc-var-dtype'>DataArray</div><div class='sc-var-unit'></div><div class='sc-value-preview sc-preview'><span><div>{dims=[detector_id: 1, tof: 1], coords=[tof, detector_id]}</div></span></div><input id='attrs-6d8ddd95-c83a-430e-b2f1-010d5d5be0b5' class='sc-var-attrs-in' type='checkbox' disabled><label for='attrs-6d8ddd95-c83a-430e-b2f1-010d5d5be0b5' class='sc-hide-icon' title='Show/Hide attributes'><svg class='icon sc-icon-file-text2'><use xlink:href='#icon-file-text2'></use></svg></label><input id='data-ae080473-a556-499e-a368-ae77cad83a91' class='sc-var-data-in' type='checkbox'><label for='data-ae080473-a556-499e-a368-ae77cad83a91' title='Show/Hide data repr'><svg class='icon sc-icon-database'><use xlink:href='#icon-database'></use></svg></label><pre class='sc-var-data'>Values:<br>&lt;scipp.DataArray&gt;\n",
       "Dimensions: Sizes[detector_id:1, tof:1, ]\n",
       "Coordinates:\n",
       "  detector_id                 int32  [dimensionless]  (detector_id)  [1]\n",
       "  tof                         int32             [ns]  (tof [bin-edge])  [3418, 99958163]\n",
       "Data:\n",
       "                          DataArrayView  [dimensionless]  (detector_id, tof)  [&lt;scipp.DataArray&gt;\n",
       "Dimensions: Sizes[event:12020892, ]\n",
       "Coordinates:\n",
       "  pulse_time              datetime64             [ns]  (event)  [2022-02-23T09:59:59.886470753, 2022-02-23T09:59:59.886470753, ..., 2022-02-23T10:10:00.014872502, 2022-02-23T10:10:00.014872502]\n",
       "  tof                         int32             [ns]  (event)  [99808149, 99858153, ..., 44305522, 44355526]\n",
       "Data:\n",
       "                            float32         [counts]  (event)  [1, 1, ..., 1, 1]  [1, 1, ..., 1, 1]\n",
       "\n",
       "]\n",
       "\n",
       "</pre></li><li class='sc-var-item'><div class='sc-var-name'><span>monitor_2</span></div><div class='sc-var-dims'>()</div><div class='sc-var-dtype'>DataArray</div><div class='sc-var-unit'></div><div class='sc-value-preview sc-preview'><span><div>{dims=[detector_id: 1, tof: 1], coords=[tof, detector_id]}</div></span></div><input id='attrs-ffa21f36-4555-4ba2-a6ec-b41d4483ca68' class='sc-var-attrs-in' type='checkbox' disabled><label for='attrs-ffa21f36-4555-4ba2-a6ec-b41d4483ca68' class='sc-hide-icon' title='Show/Hide attributes'><svg class='icon sc-icon-file-text2'><use xlink:href='#icon-file-text2'></use></svg></label><input id='data-6e6e1046-e4af-4fe9-97f1-f18ad15cec7a' class='sc-var-data-in' type='checkbox'><label for='data-6e6e1046-e4af-4fe9-97f1-f18ad15cec7a' title='Show/Hide data repr'><svg class='icon sc-icon-database'><use xlink:href='#icon-database'></use></svg></label><pre class='sc-var-data'>Values:<br>&lt;scipp.DataArray&gt;\n",
       "Dimensions: Sizes[detector_id:1, tof:1, ]\n",
       "Coordinates:\n",
       "  detector_id                 int32  [dimensionless]  (detector_id)  [1]\n",
       "  tof                         int32             [ns]  (tof [bin-edge])  [3418, 99958163]\n",
       "Data:\n",
       "                          DataArrayView  [dimensionless]  (detector_id, tof)  [&lt;scipp.DataArray&gt;\n",
       "Dimensions: Sizes[event:12020892, ]\n",
       "Coordinates:\n",
       "  pulse_time              datetime64             [ns]  (event)  [2022-02-23T09:59:59.886470753, 2022-02-23T09:59:59.886470753, ..., 2022-02-23T10:10:00.014872502, 2022-02-23T10:10:00.014872502]\n",
       "  tof                         int32             [ns]  (event)  [99808149, 99858153, ..., 44305522, 44355526]\n",
       "Data:\n",
       "                            float32         [counts]  (event)  [1, 1, ..., 1, 1]  [1, 1, ..., 1, 1]\n",
       "\n",
       "]\n",
       "\n",
       "</pre></li><li class='sc-var-item'><div class='sc-var-name'><span>start_time</span></div><div class='sc-var-dims'>()</div><div class='sc-var-dtype'>string</div><div class='sc-var-unit'></div><div class='sc-value-preview sc-preview'><span><div>2022-02-23T10:00:00.000Z</div></span></div><input id='attrs-2aba2745-7568-4a31-b10c-1b5fb7cfccdf' class='sc-var-attrs-in' type='checkbox' disabled><label for='attrs-2aba2745-7568-4a31-b10c-1b5fb7cfccdf' class='sc-hide-icon' title='Show/Hide attributes'><svg class='icon sc-icon-file-text2'><use xlink:href='#icon-file-text2'></use></svg></label><input id='data-1bf690ae-d631-4a88-867d-2cd8d40c526d' class='sc-var-data-in' type='checkbox'><label for='data-1bf690ae-d631-4a88-867d-2cd8d40c526d' title='Show/Hide data repr'><svg class='icon sc-icon-database'><use xlink:href='#icon-database'></use></svg></label><pre class='sc-var-data'>Values:<br>&#x27;2022-02-23T10:00:00.000Z&#x27;</pre></li></ul></div></li></ul></div></div>"
      ],
      "text/plain": [
       "<scipp.DataArray>\n",
       "Dimensions: Sizes[detector_id:401408, tof:1, ]\n",
       "Coordinates:\n",
       "  detector_id                 int32  [dimensionless]  (detector_id)  [1, 2, ..., 401407, 401408]\n",
       "  position                  vector3              [m]  (detector_id)  [(0.499023, 0.41833, -4.42986), (0.500969, 0.41833, -4.42986), ..., (0.993148, 1.97683, -4.35336), (0.995093, 1.97683, -4.35336)]\n",
       "  sample_position           vector3              [m]  ()  [(0, 0, 0)]\n",
       "  source_position           vector3              [m]  ()  [(0, 0, 25.3)]\n",
       "  tof                         int32             [ns]  (tof [bin-edge])  [34, 100004725]\n",
       "Data:\n",
       "                          DataArrayView  [dimensionless]  (detector_id, tof)  [<scipp.DataArray>\n",
       "Dimensions: Sizes[event:0, ]\n",
       "Coordinates:\n",
       "  pulse_time              datetime64             [ns]  (event)  []\n",
       "  tof                         int32             [ns]  (event)  []\n",
       "Data:\n",
       "                            float32         [counts]  (event)  []  []\n",
       "\n",
       ", <scipp.DataArray>\n",
       "Dimensions: Sizes[event:0, ]\n",
       "Coordinates:\n",
       "  pulse_time              datetime64             [ns]  (event)  []\n",
       "  tof                         int32             [ns]  (event)  []\n",
       "Data:\n",
       "                            float32         [counts]  (event)  []  []\n",
       "\n",
       ", ..., <scipp.DataArray>\n",
       "Dimensions: Sizes[event:0, ]\n",
       "Coordinates:\n",
       "  pulse_time              datetime64             [ns]  (event)  []\n",
       "  tof                         int32             [ns]  (event)  []\n",
       "Data:\n",
       "                            float32         [counts]  (event)  []  []\n",
       "\n",
       ", <scipp.DataArray>\n",
       "Dimensions: Sizes[event:0, ]\n",
       "Coordinates:\n",
       "  pulse_time              datetime64             [ns]  (event)  []\n",
       "  tof                         int32             [ns]  (event)  []\n",
       "Data:\n",
       "                            float32         [counts]  (event)  []  []\n",
       "\n",
       "]\n",
       "Attributes:\n",
       "  end_time                   string  [dimensionless]  ()  [\"2022-02-23T10:10:00.000Z\"]\n",
       "  experiment_title           string  [dimensionless]  ()  [\"My experiment\"]\n",
       "  instrument_name            string  [dimensionless]  ()  [\"LARMOR\"]\n",
       "  monitor_1               DataArray  [dimensionless]  ()  [<scipp.DataArray>\n",
       "Dimensions: Sizes[detector_id:1, tof:1, ]\n",
       "Coordinates:\n",
       "  detector_id                 int32  [dimensionless]  (detector_id)  [1]\n",
       "  tof                         int32             [ns]  (tof [bin-edge])  [3418, 99958163]\n",
       "Data:\n",
       "                          DataArrayView  [dimensionless]  (detector_id, tof)  [<scipp.DataArray>\n",
       "Dimensions: Sizes[event:12020892, ]\n",
       "Coordinates:\n",
       "  pulse_time              datetime64             [ns]  (event)  [2022-02-23T09:59:59.886470753, 2022-02-23T09:59:59.886470753, ..., 2022-02-23T10:10:00.014872502, 2022-02-23T10:10:00.014872502]\n",
       "  tof                         int32             [ns]  (event)  [99808149, 99858153, ..., 44305522, 44355526]\n",
       "Data:\n",
       "                            float32         [counts]  (event)  [1, 1, ..., 1, 1]  [1, 1, ..., 1, 1]\n",
       "\n",
       "]\n",
       "\n",
       "]\n",
       "  monitor_2               DataArray  [dimensionless]  ()  [<scipp.DataArray>\n",
       "Dimensions: Sizes[detector_id:1, tof:1, ]\n",
       "Coordinates:\n",
       "  detector_id                 int32  [dimensionless]  (detector_id)  [1]\n",
       "  tof                         int32             [ns]  (tof [bin-edge])  [3418, 99958163]\n",
       "Data:\n",
       "                          DataArrayView  [dimensionless]  (detector_id, tof)  [<scipp.DataArray>\n",
       "Dimensions: Sizes[event:12020892, ]\n",
       "Coordinates:\n",
       "  pulse_time              datetime64             [ns]  (event)  [2022-02-23T09:59:59.886470753, 2022-02-23T09:59:59.886470753, ..., 2022-02-23T10:10:00.014872502, 2022-02-23T10:10:00.014872502]\n",
       "  tof                         int32             [ns]  (event)  [99808149, 99858153, ..., 44305522, 44355526]\n",
       "Data:\n",
       "                            float32         [counts]  (event)  [1, 1, ..., 1, 1]  [1, 1, ..., 1, 1]\n",
       "\n",
       "]\n",
       "\n",
       "]\n",
       "  start_time                 string  [dimensionless]  ()  [\"2022-02-23T10:00:00.000Z\"]\n"
      ]
     },
     "execution_count": 9,
     "metadata": {},
     "output_type": "execute_result"
    }
   ],
   "source": [
    "data"
   ]
  },
  {
   "cell_type": "code",
   "execution_count": 10,
   "id": "1bfed756-515f-421e-b11c-106766a1eb6b",
   "metadata": {},
   "outputs": [
    {
     "data": {
      "application/vnd.jupyter.widget-view+json": {
       "model_id": "c1a041685e3849c390c1c8153316a36a",
       "version_major": 2,
       "version_minor": 0
      },
      "text/plain": [
       "VBox(children=(HBox(children=(VBox(children=(Button(icon='home', layout=Layout(padding='0px 0px 0px 0px', widt…"
      ]
     },
     "metadata": {},
     "output_type": "display_data"
    }
   ],
   "source": [
    "scn.instrument_view(data)"
   ]
  },
  {
   "cell_type": "code",
   "execution_count": 11,
   "id": "d58aedaa-1da0-492d-a8f4-49238d066f64",
   "metadata": {},
   "outputs": [],
   "source": [
    "binned_data = data.bins.sum()"
   ]
  },
  {
   "cell_type": "code",
   "execution_count": 12,
   "id": "1aebf443-43f9-4199-a9dd-c2ad2220143f",
   "metadata": {},
   "outputs": [
    {
     "data": {
      "text/html": [
       "<div><!-- Original source from -->\n",
       "<!-- https://github.com/jsignell/xarray/blob/1d960933ab252e0f79f7e050e6c9261d55568057/xarray/static/html/icons-svg-inline.html -->\n",
       "<svg style=\"position: absolute; width: 0; height: 0; overflow: hidden\">\n",
       "<defs>\n",
       "<symbol id=\"icon-database\" viewBox=\"0 0 32 32\">\n",
       "<title>Show/Hide data repr</title>\n",
       "<path d=\"M16 0c-8.837 0-16 2.239-16 5v4c0 2.761 7.163 5 16 5s16-2.239 16-5v-4c0-2.761-7.163-5-16-5z\"></path>\n",
       "<path d=\"M16 17c-8.837 0-16-2.239-16-5v6c0 2.761 7.163 5 16 5s16-2.239 16-5v-6c0 2.761-7.163 5-16 5z\"></path>\n",
       "<path d=\"M16 26c-8.837 0-16-2.239-16-5v6c0 2.761 7.163 5 16 5s16-2.239 16-5v-6c0 2.761-7.163 5-16 5z\"></path>\n",
       "</symbol>\n",
       "<symbol id=\"icon-file-text2\" viewBox=\"0 0 32 32\">\n",
       "<title>Show/Hide attributes</title>\n",
       "<path d=\"M28.681 7.159c-0.694-0.947-1.662-2.053-2.724-3.116s-2.169-2.030-3.116-2.724c-1.612-1.182-2.393-1.319-2.841-1.319h-15.5c-1.378 0-2.5 1.121-2.5 2.5v27c0 1.378 1.122 2.5 2.5 2.5h23c1.378 0 2.5-1.122 2.5-2.5v-19.5c0-0.448-0.137-1.23-1.319-2.841zM24.543 5.457c0.959 0.959 1.712 1.825 2.268 2.543h-4.811v-4.811c0.718 0.556 1.584 1.309 2.543 2.268zM28 29.5c0 0.271-0.229 0.5-0.5 0.5h-23c-0.271 0-0.5-0.229-0.5-0.5v-27c0-0.271 0.229-0.5 0.5-0.5 0 0 15.499-0 15.5 0v7c0 0.552 0.448 1 1 1h7v19.5z\"></path>\n",
       "<path d=\"M23 26h-14c-0.552 0-1-0.448-1-1s0.448-1 1-1h14c0.552 0 1 0.448 1 1s-0.448 1-1 1z\"></path>\n",
       "<path d=\"M23 22h-14c-0.552 0-1-0.448-1-1s0.448-1 1-1h14c0.552 0 1 0.448 1 1s-0.448 1-1 1z\"></path>\n",
       "<path d=\"M23 18h-14c-0.552 0-1-0.448-1-1s0.448-1 1-1h14c0.552 0 1 0.448 1 1s-0.448 1-1 1z\"></path>\n",
       "</symbol>\n",
       "</defs>\n",
       "</svg><style id=\"scipp-style-sheet\">.sc-root{--sc-background-color0:var(--jp-layout-color0,#fff);--sc-background-color1:var(--jp-layout-color1,#fcfcfc);--sc-background-color2:var(--jp-layout-color2,#efefef);--sc-inverse-background-color0:var(--jp-inverse-layout-color4,#111);--sc-font-color0:var(--jp-content-font-color0,#000);--sc-font-color1:var(--jp-content-font-color1,#555);--sc-font-color2:var(--jp-content-font-color2,#888);--sc-font-color3:var(--jp-content-font-color3,#ccc);--sc-table-data-color:#f6d028;--sc-table-coords-color:#c6e590;--sc-table-masks-color:#c8c8c8;--sc-table-attrs-color:#ff5555;--sc-table-header-font-color:#111111;}.sc-wrap{font-size:14px;min-width:300px;max-width:800px;}.sc-var-attrs .sc-wrap{padding-left:3em;}.sc-header{padding-top:6px;padding-bottom:6px;margin-bottom:4px;border-bottom:solid 1px #ddd;}.sc-header > div,.sc-header > ul{display:inline;margin-top:0;margin-bottom:0;}.sc-obj-type,.sc-array-name{margin-left:2px;margin-right:10px;}.sc-obj-type{color:var(--sc-font-color1);}.sc-underlying-size{color:var(--sc-font-color2);}.sc-sections{padding-left:0 !important;display:grid;grid-template-columns:150px auto auto auto 1fr 20px 20px;}.sc-section-item{display:contents;}.sc-section-item input{display:none;}.sc-section-item input:enabled + label{cursor:pointer;color:var(--sc-font-color1);}.sc-section-item input:enabled + label:hover{color:var(--sc-font-color0);}.sc-section-summary{grid-column:1;font-weight:500;}.sc-section-summary > span{display:inline-block;padding-left:0.5em;}.sc-section-summary-in:disabled + label{color:var(--sc-font-color1);}.sc-section-summary-in + label:before{display:inline-block;content:'►';font-size:11px;width:15px;text-align:center;}.sc-section-summary-in:disabled + label:before{color:var(--sc-font-color3);}.sc-section-summary-in:checked + label:before{content:'▼';}.sc-section-summary-in:checked + label > span{display:none;}.sc-section-summary,.sc-section-inline-details{padding-top:4px;padding-bottom:4px;}.sc-section-inline-details{grid-column:2 / 5;}.sc-section-details{display:none;grid-column:1 / -1;margin-bottom:5px;}.sc-section-summary-in:checked ~ .sc-section-details{display:contents;}.sc-array-wrap{grid-column:1 / -1;display:grid;grid-template-columns:20px auto;}.sc-array-wrap > label{grid-column:1;vertical-align:top;}.sc-preview{color:var(--sc-font-color2);}.sc-array-preview,.sc-array-data{padding:0 5px !important;grid-column:2;}.sc-array-data,.sc-array-in:checked ~ .sc-array-preview{display:none;}.sc-array-in:checked ~ .sc-array-data,.sc-array-preview{display:inline-block;}.sc-dim-list{display:inline-block !important;list-style:none;padding:0 !important;margin:0;}.sc-dim-list li{display:inline-block;padding:0;margin:0!important;}.sc-dim-list:before{content:'(';}.sc-dim-list:after{content:')';}.sc-dim-list li:not(:last-child):after{content:',';padding-right:5px;}.sc-has-index{font-weight:bold;}.sc-var-list,.sc-var-item{display:contents;}.sc-var-item > div,.sc-var-item label,.sc-var-item > .sc-var-name span{background-color:var(--sc-background-color1);margin-bottom:0;}.sc-var-item > .sc-var-name:hover span{padding-right:5px;}.sc-var-list > li:nth-child(odd) > div,.sc-var-list > li:nth-child(odd) > label,.sc-var-list > li:nth-child(odd) > .sc-var-name span{background-color:var(--sc-background-color2);}.sc-var-name{grid-column:1;}.sc-var-dims{grid-column:2;}.sc-var-dtype{grid-column:3;text-align:right;color:var(--sc-font-color2);}.sc-var-unit{grid-column:4;text-align:left;color:var(--sc-font-color1);}.sc-value-preview{grid-column:5;}.sc-var-preview-variances{text-align:right;}.sc-sections .sc-section-item .sc-section-summary,.sc-sections .sc-section-item .sc-section-inline-details,.sc-section-item .sc-var-list .sc-var-item > div,.sc-section-item .sc-var-list .sc-var-item > label,.sc-section-details .sc-var-list .sc-var-item > div,.sc-section-details .sc-var-list .sc-var-item > label{margin-top:0;margin-bottom:0;}.sc-var-name,.sc-var-dims,.sc-var-dtype,.sc-var-unit,.sc-preview,.sc-attrs dt{white-space:nowrap;overflow:hidden;text-overflow:ellipsis;padding-right:10px;}.sc-var-name:hover,.sc-var-dims:hover,.sc-var-dtype:hover,.sc-var-unit:hover,.sc-attrs dt:hover{overflow:visible;width:auto;z-index:1;}.sc-var-attrs{display:block;}.sc-var-data{display:none;}.sc-var-attrs,.sc-var-data{background-color:var(--sc-background-color0) !important;padding-bottom:5px !important;}.sc-var-attrs-in:checked ~ .sc-var-attrs{display:none;}.sc-var-data-in:checked ~ .sc-var-data{display:block;}.sc-var-data > table{float:right;}.sc-var-name span,.sc-var-data{padding-left:25px !important;}.sc-var-attrs,.sc-var-data{grid-column:1 / -1;}dl.sc-attrs{padding:0;margin:0;display:grid;grid-template-columns:125px auto;}.sc-attrs dt,dd{padding:0;margin:0;float:left;padding-right:10px;width:auto;}.sc-attrs dt{font-weight:normal;grid-column:1;}.sc-attrs dt:hover span{display:inline-block;padding-right:10px;}.sc-attrs dd{grid-column:2;white-space:pre-wrap;word-break:break-all;}.sc-icon-database,.sc-icon-file-text2{display:inline-block;vertical-align:middle;width:1em;height:1.5em !important;stroke-width:0;stroke:currentColor;fill:currentColor;}label.sc-hide-icon svg{opacity:0;}.sc-standalone-var-name{grid-column:1/3;}.sc-standalone-var-name span{padding-left:25px;padding-right:10px;}.sc-table{border-collapse:collapse;}.sc-title{font-weight:bold;font-size:1.5em;}.sc-subtitle{font-weight:normal;font-style:italic;text-align:left;font-size:1.2em;padding:1px;}.sc-table th,.sc-table td{border:1px solid var(--sc-inverse-background-color0);padding:0 5px 0 5px;}.sc-table th{text-align:center;}.sc-table tr{background-color:var(--sc-background-color1);text-align:right;}.sc-table tr:hover{background-color:var(--sc-background-color2);}.sc-table th.sc-data{background-color:var(--sc-table-data-color);color:var(--sc-table-header-font-color);}.sc-table th.sc-coords{background-color:var(--sc-table-coords-color);color:var(--sc-table-header-font-color);}.sc-table th.sc-masks{background-color:var(--sc-table-masks-color);color:var(--sc-table-header-font-color);}.sc-table th.sc-attrs{background-color:var(--sc-table-attrs-color);color:var(--sc-table-header-font-color);}.sc-table th.sc-subheader{background-color:var(--sc-background-color2);}.sc-table td.sc-padding{background-color:var(--sc-background-color1);border:0 solid var(--sc-background-color1);height:1.2em;}.sc-label{fill:var(--sc-font-color0,#444444);text-anchor:middle;}.sc-name{fill:var(--sc-font-color0,#111111);}.sc-inset-line{stroke:var(--sc-font-color1);stroke-width:0.05;stroke-dasharray:0.2,0.2;}.sc-log-wrap{height:25ex;resize:vertical;overflow-y:scroll;display:flex;flex-direction:column-reverse;border:1px solid;border-color:var(--jp-border-color2);background-color:var(--sc-background-color1);}div.sc-log{line-height:2.5ex;}table.sc-log{table-layout:auto;border-collapse:collapse;}tr.sc-log:nth-child(even){background-color:var(--sc-background-color0);}tr.sc-log > td{vertical-align:top;padding-bottom:0.5ex;}.sc-log-time-stamp{min-width:22ch;font-family:var(--jp-code-font-family);color:var(--sc-font-color2);}.sc-log-level{min-width:10ch;}tr.sc-log-debug td.sc-log-level{color:var(--jp-accent-color1);}tr.sc-log-info td.sc-log-level{color:var(--jp-info-color1);}tr.sc-log-warning td.sc-log-level{color:var(--jp-warn-color1);}tr.sc-log-error td.sc-log-level{font-weight:bold;color:var(--jp-error-color2);}tr.sc-log-critical td.sc-log-level{font-weight:bold;color:var(--sc-background-color0);background-color:var(--jp-error-color1);}.sc-log-message{white-space:pre-wrap;width:100%;}.sc-log-html-payload{white-space:normal;}.sc-log-name{padding-right:0.5em;text-align:right;white-space:pre-wrap;color:var(--sc-font-color3);}</style><div class='sc-wrap sc-root'><div class='sc-header'><div class='sc-obj-type'>scipp.DataArray (13.78 MB)</div></div><ul class='sc-sections'><li class='sc-section-item'><input id='section-e4fd9c42-f631-4b7b-a773-21b3b407841d' class='sc-section-summary-in' type='checkbox' disabled ><label for='section-e4fd9c42-f631-4b7b-a773-21b3b407841d' class='sc-section-summary'  title='Expand/collapse section'>Dimensions:</label><div class='sc-section-inline-details'><ul class='sc-dim-list'><li><span class='sc-has-index'>detector_id</span>: 401408</li><li><span class='sc-has-index'>tof</span>: 1</li></ul></div><div class='sc-section-details'></div></li><li class='sc-section-item'><input id='section-c554906d-cd2e-43c3-b92c-6d8178ed5ac0' class='sc-section-summary-in' type='checkbox'  checked><label for='section-c554906d-cd2e-43c3-b92c-6d8178ed5ac0' class='sc-section-summary' >Coordinates: <span>(5)</span></label><div class='sc-section-inline-details'></div><div class='sc-section-details'><ul class='sc-var-list'><li class='sc-var-item'><div class='sc-var-name'><span class='sc-has-index'>detector_id</span></div><div class='sc-var-dims'>(detector_id)</div><div class='sc-var-dtype'>int32</div><div class='sc-var-unit'></div><div class='sc-value-preview sc-preview'><span><div>1, 2, ..., 401407, 401408</div></span></div><input id='attrs-f0d1b3fa-cf1d-498c-8e77-d49e4a4cf746' class='sc-var-attrs-in' type='checkbox' disabled><label for='attrs-f0d1b3fa-cf1d-498c-8e77-d49e4a4cf746' class='sc-hide-icon' title='Show/Hide attributes'><svg class='icon sc-icon-file-text2'><use xlink:href='#icon-file-text2'></use></svg></label><input id='data-7cdacc15-9501-4a7a-8d5e-4b9deb9c351d' class='sc-var-data-in' type='checkbox'><label for='data-7cdacc15-9501-4a7a-8d5e-4b9deb9c351d' title='Show/Hide data repr'><svg class='icon sc-icon-database'><use xlink:href='#icon-database'></use></svg></label><pre class='sc-var-data'>Values:<br>array([     1,      2,      3, ..., 401406, 401407, 401408], dtype=int32)</pre></span></li><li class='sc-var-item'><div class='sc-var-name'><span>position</span></div><div class='sc-var-dims'>(detector_id)</div><div class='sc-var-dtype'>vector3</div><div class='sc-var-unit'>m</div><div class='sc-value-preview sc-preview'><span><div>[ 0.4990235   0.41832992 -4.4298605 ], [ 0.50096887  0.41832992 -4.4298605 ], ..., [ 0.99314776  1.97683012 -4.35336242], [ 0.99509314  1.97683012 -4.35336242]</div></span></div><input id='attrs-b76e825d-5221-404d-876b-6aa0ae9d043e' class='sc-var-attrs-in' type='checkbox' disabled><label for='attrs-b76e825d-5221-404d-876b-6aa0ae9d043e' class='sc-hide-icon' title='Show/Hide attributes'><svg class='icon sc-icon-file-text2'><use xlink:href='#icon-file-text2'></use></svg></label><input id='data-e3cff309-84ba-4b1d-823d-825687ae813a' class='sc-var-data-in' type='checkbox'><label for='data-e3cff309-84ba-4b1d-823d-825687ae813a' title='Show/Hide data repr'><svg class='icon sc-icon-database'><use xlink:href='#icon-database'></use></svg></label><pre class='sc-var-data'>Values:<br>array([[ 0.4990235 ,  0.41832992, -4.4298605 ],\n",
       "       [ 0.50096887,  0.41832992, -4.4298605 ],\n",
       "       [ 0.50291424,  0.41832992, -4.4298605 ],\n",
       "       ...,\n",
       "       [ 0.99120238,  1.97683012, -4.35336242],\n",
       "       [ 0.99314776,  1.97683012, -4.35336242],\n",
       "       [ 0.99509314,  1.97683012, -4.35336242]])</pre></span></li><li class='sc-var-item'><div class='sc-var-name'><span>sample_position</span></div><div class='sc-var-dims'>()</div><div class='sc-var-dtype'>vector3</div><div class='sc-var-unit'>m</div><div class='sc-value-preview sc-preview'><span><div>[0. 0. 0.]</div></span></div><input id='attrs-fce720f2-2633-4337-923b-edee2ce84c90' class='sc-var-attrs-in' type='checkbox' disabled><label for='attrs-fce720f2-2633-4337-923b-edee2ce84c90' class='sc-hide-icon' title='Show/Hide attributes'><svg class='icon sc-icon-file-text2'><use xlink:href='#icon-file-text2'></use></svg></label><input id='data-21cdead0-7754-4a74-a834-e4e1b46e1827' class='sc-var-data-in' type='checkbox'><label for='data-21cdead0-7754-4a74-a834-e4e1b46e1827' title='Show/Hide data repr'><svg class='icon sc-icon-database'><use xlink:href='#icon-database'></use></svg></label><pre class='sc-var-data'>Values:<br>array([0., 0., 0.])</pre></span></li><li class='sc-var-item'><div class='sc-var-name'><span>source_position</span></div><div class='sc-var-dims'>()</div><div class='sc-var-dtype'>vector3</div><div class='sc-var-unit'>m</div><div class='sc-value-preview sc-preview'><span><div>[ 0.          0.         25.29999924]</div></span></div><input id='attrs-aed96ae6-46d4-40d4-a046-d80b27759b5c' class='sc-var-attrs-in' type='checkbox' disabled><label for='attrs-aed96ae6-46d4-40d4-a046-d80b27759b5c' class='sc-hide-icon' title='Show/Hide attributes'><svg class='icon sc-icon-file-text2'><use xlink:href='#icon-file-text2'></use></svg></label><input id='data-5be1e8a7-2aa0-400f-afd3-881685f74b36' class='sc-var-data-in' type='checkbox'><label for='data-5be1e8a7-2aa0-400f-afd3-881685f74b36' title='Show/Hide data repr'><svg class='icon sc-icon-database'><use xlink:href='#icon-database'></use></svg></label><pre class='sc-var-data'>Values:<br>array([ 0.        ,  0.        , 25.29999924])</pre></span></li><li class='sc-var-item'><div class='sc-var-name'><span class='sc-has-index'>tof</span></div><div class='sc-var-dims'>(tof [bin-edge])</div><div class='sc-var-dtype'>int32</div><div class='sc-var-unit'>ns</div><div class='sc-value-preview sc-preview'><span><div>34, 100004725</div></span></div><input id='attrs-1e7da41c-9679-4ae2-b641-f840a95d7b6c' class='sc-var-attrs-in' type='checkbox' disabled><label for='attrs-1e7da41c-9679-4ae2-b641-f840a95d7b6c' class='sc-hide-icon' title='Show/Hide attributes'><svg class='icon sc-icon-file-text2'><use xlink:href='#icon-file-text2'></use></svg></label><input id='data-15c034a3-e178-4ae4-b2a1-282e907a936f' class='sc-var-data-in' type='checkbox'><label for='data-15c034a3-e178-4ae4-b2a1-282e907a936f' title='Show/Hide data repr'><svg class='icon sc-icon-database'><use xlink:href='#icon-database'></use></svg></label><pre class='sc-var-data'>Values:<br>array([       34, 100004725], dtype=int32)</pre></span></li></ul></div></li><li class='sc-section-item'><input id='section-5cdd484c-8216-48c5-b72c-0856f6d2885a' class='sc-section-summary-in' type='checkbox'  checked><label for='section-5cdd484c-8216-48c5-b72c-0856f6d2885a' class='sc-section-summary' >Data: <span>(1)</span></label><div class='sc-section-inline-details'></div><div class='sc-section-details'><ul class='sc-var-list'><li class='sc-var-item'><div class='sc-var-name'><span></span></div><div class='sc-var-dims'>(detector_id, tof)</div><div class='sc-var-dtype'>float32</div><div class='sc-var-unit'>counts</div><div class='sc-value-preview sc-preview'><span><div>0.0, 0.0, ..., 0.0, 0.0</div></span><span><div>σ = 0.0, 0.0, ..., 0.0, 0.0</div></span></div><input id='attrs-a842c6e2-fdab-4148-a81d-524e0122f002' class='sc-var-attrs-in' type='checkbox' disabled><label for='attrs-a842c6e2-fdab-4148-a81d-524e0122f002' class='sc-hide-icon' title='Show/Hide attributes'><svg class='icon sc-icon-file-text2'><use xlink:href='#icon-file-text2'></use></svg></label><input id='data-20b68a8e-cc40-4f61-bc5b-84fac1baab2b' class='sc-var-data-in' type='checkbox'><label for='data-20b68a8e-cc40-4f61-bc5b-84fac1baab2b' title='Show/Hide data repr'><svg class='icon sc-icon-database'><use xlink:href='#icon-database'></use></svg></label><pre class='sc-var-data'>Values:<br>array([[0.],\n",
       "       [0.],\n",
       "       [0.],\n",
       "       ...,\n",
       "       [0.],\n",
       "       [0.],\n",
       "       [0.]], dtype=float32)<br><br>Variances (σ²):<br>array([[0.],\n",
       "       [0.],\n",
       "       [0.],\n",
       "       ...,\n",
       "       [0.],\n",
       "       [0.],\n",
       "       [0.]], dtype=float32)</pre></li></ul></div></li><li class='sc-section-item'><input id='section-5848daf3-d65d-410e-92bf-92815e0d143e' class='sc-section-summary-in' type='checkbox'  checked><label for='section-5848daf3-d65d-410e-92bf-92815e0d143e' class='sc-section-summary' >Attributes: <span>(6)</span></label><div class='sc-section-inline-details'></div><div class='sc-section-details'><ul class='sc-var-list'><li class='sc-var-item'><div class='sc-var-name'><span>end_time</span></div><div class='sc-var-dims'>()</div><div class='sc-var-dtype'>string</div><div class='sc-var-unit'></div><div class='sc-value-preview sc-preview'><span><div>2022-02-23T10:10:00.000Z</div></span></div><input id='attrs-32150e4d-780a-4e8e-9b33-223c8315ef00' class='sc-var-attrs-in' type='checkbox' disabled><label for='attrs-32150e4d-780a-4e8e-9b33-223c8315ef00' class='sc-hide-icon' title='Show/Hide attributes'><svg class='icon sc-icon-file-text2'><use xlink:href='#icon-file-text2'></use></svg></label><input id='data-7785c76d-188f-475f-b8d5-a0e7dfd8ce0b' class='sc-var-data-in' type='checkbox'><label for='data-7785c76d-188f-475f-b8d5-a0e7dfd8ce0b' title='Show/Hide data repr'><svg class='icon sc-icon-database'><use xlink:href='#icon-database'></use></svg></label><pre class='sc-var-data'>Values:<br>&#x27;2022-02-23T10:10:00.000Z&#x27;</pre></li><li class='sc-var-item'><div class='sc-var-name'><span>experiment_title</span></div><div class='sc-var-dims'>()</div><div class='sc-var-dtype'>string</div><div class='sc-var-unit'></div><div class='sc-value-preview sc-preview'><span><div>My experiment</div></span></div><input id='attrs-3af77fa5-a9e2-4d6c-b806-7b02172e7485' class='sc-var-attrs-in' type='checkbox' disabled><label for='attrs-3af77fa5-a9e2-4d6c-b806-7b02172e7485' class='sc-hide-icon' title='Show/Hide attributes'><svg class='icon sc-icon-file-text2'><use xlink:href='#icon-file-text2'></use></svg></label><input id='data-f9be8678-1989-4f5b-ba07-2a3d73490afd' class='sc-var-data-in' type='checkbox'><label for='data-f9be8678-1989-4f5b-ba07-2a3d73490afd' title='Show/Hide data repr'><svg class='icon sc-icon-database'><use xlink:href='#icon-database'></use></svg></label><pre class='sc-var-data'>Values:<br>&#x27;My experiment&#x27;</pre></li><li class='sc-var-item'><div class='sc-var-name'><span>instrument_name</span></div><div class='sc-var-dims'>()</div><div class='sc-var-dtype'>string</div><div class='sc-var-unit'></div><div class='sc-value-preview sc-preview'><span><div>LARMOR</div></span></div><input id='attrs-0bbb9b79-9fb4-41f3-8b2f-3fa89b5371f9' class='sc-var-attrs-in' type='checkbox' disabled><label for='attrs-0bbb9b79-9fb4-41f3-8b2f-3fa89b5371f9' class='sc-hide-icon' title='Show/Hide attributes'><svg class='icon sc-icon-file-text2'><use xlink:href='#icon-file-text2'></use></svg></label><input id='data-0f073bd6-a9ad-4802-ba73-5f858ab72dc5' class='sc-var-data-in' type='checkbox'><label for='data-0f073bd6-a9ad-4802-ba73-5f858ab72dc5' title='Show/Hide data repr'><svg class='icon sc-icon-database'><use xlink:href='#icon-database'></use></svg></label><pre class='sc-var-data'>Values:<br>&#x27;LARMOR&#x27;</pre></li><li class='sc-var-item'><div class='sc-var-name'><span>monitor_1</span></div><div class='sc-var-dims'>()</div><div class='sc-var-dtype'>DataArray</div><div class='sc-var-unit'></div><div class='sc-value-preview sc-preview'><span><div>{dims=[detector_id: 1, tof: 1], coords=[tof, detector_id]}</div></span></div><input id='attrs-2a412f13-f7ca-4800-924d-89775d270e03' class='sc-var-attrs-in' type='checkbox' disabled><label for='attrs-2a412f13-f7ca-4800-924d-89775d270e03' class='sc-hide-icon' title='Show/Hide attributes'><svg class='icon sc-icon-file-text2'><use xlink:href='#icon-file-text2'></use></svg></label><input id='data-3faaa689-5842-4871-b34a-23468e5b4fb0' class='sc-var-data-in' type='checkbox'><label for='data-3faaa689-5842-4871-b34a-23468e5b4fb0' title='Show/Hide data repr'><svg class='icon sc-icon-database'><use xlink:href='#icon-database'></use></svg></label><pre class='sc-var-data'>Values:<br>&lt;scipp.DataArray&gt;\n",
       "Dimensions: Sizes[detector_id:1, tof:1, ]\n",
       "Coordinates:\n",
       "  detector_id                 int32  [dimensionless]  (detector_id)  [1]\n",
       "  tof                         int32             [ns]  (tof [bin-edge])  [3418, 99958163]\n",
       "Data:\n",
       "                          DataArrayView  [dimensionless]  (detector_id, tof)  [&lt;scipp.DataArray&gt;\n",
       "Dimensions: Sizes[event:12020892, ]\n",
       "Coordinates:\n",
       "  pulse_time              datetime64             [ns]  (event)  [2022-02-23T09:59:59.886470753, 2022-02-23T09:59:59.886470753, ..., 2022-02-23T10:10:00.014872502, 2022-02-23T10:10:00.014872502]\n",
       "  tof                         int32             [ns]  (event)  [99808149, 99858153, ..., 44305522, 44355526]\n",
       "Data:\n",
       "                            float32         [counts]  (event)  [1, 1, ..., 1, 1]  [1, 1, ..., 1, 1]\n",
       "\n",
       "]\n",
       "\n",
       "</pre></li><li class='sc-var-item'><div class='sc-var-name'><span>monitor_2</span></div><div class='sc-var-dims'>()</div><div class='sc-var-dtype'>DataArray</div><div class='sc-var-unit'></div><div class='sc-value-preview sc-preview'><span><div>{dims=[detector_id: 1, tof: 1], coords=[tof, detector_id]}</div></span></div><input id='attrs-c1d5b897-2e8d-4b6e-84ff-9860accd8cfb' class='sc-var-attrs-in' type='checkbox' disabled><label for='attrs-c1d5b897-2e8d-4b6e-84ff-9860accd8cfb' class='sc-hide-icon' title='Show/Hide attributes'><svg class='icon sc-icon-file-text2'><use xlink:href='#icon-file-text2'></use></svg></label><input id='data-1c585104-4edb-4699-abe5-deec55e00557' class='sc-var-data-in' type='checkbox'><label for='data-1c585104-4edb-4699-abe5-deec55e00557' title='Show/Hide data repr'><svg class='icon sc-icon-database'><use xlink:href='#icon-database'></use></svg></label><pre class='sc-var-data'>Values:<br>&lt;scipp.DataArray&gt;\n",
       "Dimensions: Sizes[detector_id:1, tof:1, ]\n",
       "Coordinates:\n",
       "  detector_id                 int32  [dimensionless]  (detector_id)  [1]\n",
       "  tof                         int32             [ns]  (tof [bin-edge])  [3418, 99958163]\n",
       "Data:\n",
       "                          DataArrayView  [dimensionless]  (detector_id, tof)  [&lt;scipp.DataArray&gt;\n",
       "Dimensions: Sizes[event:12020892, ]\n",
       "Coordinates:\n",
       "  pulse_time              datetime64             [ns]  (event)  [2022-02-23T09:59:59.886470753, 2022-02-23T09:59:59.886470753, ..., 2022-02-23T10:10:00.014872502, 2022-02-23T10:10:00.014872502]\n",
       "  tof                         int32             [ns]  (event)  [99808149, 99858153, ..., 44305522, 44355526]\n",
       "Data:\n",
       "                            float32         [counts]  (event)  [1, 1, ..., 1, 1]  [1, 1, ..., 1, 1]\n",
       "\n",
       "]\n",
       "\n",
       "</pre></li><li class='sc-var-item'><div class='sc-var-name'><span>start_time</span></div><div class='sc-var-dims'>()</div><div class='sc-var-dtype'>string</div><div class='sc-var-unit'></div><div class='sc-value-preview sc-preview'><span><div>2022-02-23T10:00:00.000Z</div></span></div><input id='attrs-79ff65e3-2d46-46e1-b878-75875e13d6cc' class='sc-var-attrs-in' type='checkbox' disabled><label for='attrs-79ff65e3-2d46-46e1-b878-75875e13d6cc' class='sc-hide-icon' title='Show/Hide attributes'><svg class='icon sc-icon-file-text2'><use xlink:href='#icon-file-text2'></use></svg></label><input id='data-1b151cca-50f6-410b-ae2f-4699c7f2106e' class='sc-var-data-in' type='checkbox'><label for='data-1b151cca-50f6-410b-ae2f-4699c7f2106e' title='Show/Hide data repr'><svg class='icon sc-icon-database'><use xlink:href='#icon-database'></use></svg></label><pre class='sc-var-data'>Values:<br>&#x27;2022-02-23T10:00:00.000Z&#x27;</pre></li></ul></div></li></ul></div></div>"
      ],
      "text/plain": [
       "<scipp.DataArray>\n",
       "Dimensions: Sizes[detector_id:401408, tof:1, ]\n",
       "Coordinates:\n",
       "  detector_id                 int32  [dimensionless]  (detector_id)  [1, 2, ..., 401407, 401408]\n",
       "  position                  vector3              [m]  (detector_id)  [(0.499023, 0.41833, -4.42986), (0.500969, 0.41833, -4.42986), ..., (0.993148, 1.97683, -4.35336), (0.995093, 1.97683, -4.35336)]\n",
       "  sample_position           vector3              [m]  ()  [(0, 0, 0)]\n",
       "  source_position           vector3              [m]  ()  [(0, 0, 25.3)]\n",
       "  tof                         int32             [ns]  (tof [bin-edge])  [34, 100004725]\n",
       "Data:\n",
       "                            float32         [counts]  (detector_id, tof)  [0, 0, ..., 0, 0]  [0, 0, ..., 0, 0]\n",
       "Attributes:\n",
       "  end_time                   string  [dimensionless]  ()  [\"2022-02-23T10:10:00.000Z\"]\n",
       "  experiment_title           string  [dimensionless]  ()  [\"My experiment\"]\n",
       "  instrument_name            string  [dimensionless]  ()  [\"LARMOR\"]\n",
       "  monitor_1               DataArray  [dimensionless]  ()  [<scipp.DataArray>\n",
       "Dimensions: Sizes[detector_id:1, tof:1, ]\n",
       "Coordinates:\n",
       "  detector_id                 int32  [dimensionless]  (detector_id)  [1]\n",
       "  tof                         int32             [ns]  (tof [bin-edge])  [3418, 99958163]\n",
       "Data:\n",
       "                          DataArrayView  [dimensionless]  (detector_id, tof)  [<scipp.DataArray>\n",
       "Dimensions: Sizes[event:12020892, ]\n",
       "Coordinates:\n",
       "  pulse_time              datetime64             [ns]  (event)  [2022-02-23T09:59:59.886470753, 2022-02-23T09:59:59.886470753, ..., 2022-02-23T10:10:00.014872502, 2022-02-23T10:10:00.014872502]\n",
       "  tof                         int32             [ns]  (event)  [99808149, 99858153, ..., 44305522, 44355526]\n",
       "Data:\n",
       "                            float32         [counts]  (event)  [1, 1, ..., 1, 1]  [1, 1, ..., 1, 1]\n",
       "\n",
       "]\n",
       "\n",
       "]\n",
       "  monitor_2               DataArray  [dimensionless]  ()  [<scipp.DataArray>\n",
       "Dimensions: Sizes[detector_id:1, tof:1, ]\n",
       "Coordinates:\n",
       "  detector_id                 int32  [dimensionless]  (detector_id)  [1]\n",
       "  tof                         int32             [ns]  (tof [bin-edge])  [3418, 99958163]\n",
       "Data:\n",
       "                          DataArrayView  [dimensionless]  (detector_id, tof)  [<scipp.DataArray>\n",
       "Dimensions: Sizes[event:12020892, ]\n",
       "Coordinates:\n",
       "  pulse_time              datetime64             [ns]  (event)  [2022-02-23T09:59:59.886470753, 2022-02-23T09:59:59.886470753, ..., 2022-02-23T10:10:00.014872502, 2022-02-23T10:10:00.014872502]\n",
       "  tof                         int32             [ns]  (event)  [99808149, 99858153, ..., 44305522, 44355526]\n",
       "Data:\n",
       "                            float32         [counts]  (event)  [1, 1, ..., 1, 1]  [1, 1, ..., 1, 1]\n",
       "\n",
       "]\n",
       "\n",
       "]\n",
       "  start_time                 string  [dimensionless]  ()  [\"2022-02-23T10:00:00.000Z\"]\n"
      ]
     },
     "execution_count": 12,
     "metadata": {},
     "output_type": "execute_result"
    }
   ],
   "source": [
    "binned_data"
   ]
  },
  {
   "cell_type": "code",
   "execution_count": 13,
   "id": "a49db673-df96-4848-85fe-d5d937d2476d",
   "metadata": {},
   "outputs": [
    {
     "data": {
      "application/vnd.jupyter.widget-view+json": {
       "model_id": "4ad2f948d93b462fb7fc7170da8c46dd",
       "version_major": 2,
       "version_minor": 0
      },
      "text/plain": [
       "VBox(children=(HBox(children=(VBox(children=(Button(icon='home', layout=Layout(padding='0px 0px 0px 0px', widt…"
      ]
     },
     "metadata": {},
     "output_type": "display_data"
    }
   ],
   "source": [
    "binned_data.sum('tof').plot(marker='.')"
   ]
  },
  {
   "cell_type": "markdown",
   "id": "71d6611d-35ba-469f-8082-8ec4a1fbe59e",
   "metadata": {},
   "source": [
    "### Some additional checks for data reduction"
   ]
  },
  {
   "cell_type": "code",
   "execution_count": 14,
   "id": "13270566-e4e8-40f3-b0db-c53a3b2f3b1c",
   "metadata": {},
   "outputs": [
    {
     "data": {
      "application/vnd.jupyter.widget-view+json": {
       "model_id": "17b216981bf144539bb3c31f3591d0eb",
       "version_major": 2,
       "version_minor": 0
      },
      "text/plain": [
       "VBox(children=(HBox(children=(VBox(children=(Button(icon='home', layout=Layout(padding='0px 0px 0px 0px', widt…"
      ]
     },
     "metadata": {},
     "output_type": "display_data"
    }
   ],
   "source": [
    "tof_edges = sc.linspace(dim='tof', start=34, stop=100004725, num=100, unit='ns')\n",
    "sc.histogram(data, bins=tof_edges).plot()"
   ]
  },
  {
   "cell_type": "code",
   "execution_count": 15,
   "id": "c1d2cd55-1b3b-41c0-9874-a4a44fa596ca",
   "metadata": {},
   "outputs": [],
   "source": [
    "data_wave_event = scn.convert(data, 'tof', 'wavelength', scatter='True')"
   ]
  },
  {
   "cell_type": "code",
   "execution_count": 16,
   "id": "da263fe9-737d-415d-ac6e-e78105f3fd85",
   "metadata": {},
   "outputs": [
    {
     "data": {
      "text/html": [
       "<div><!-- Original source from -->\n",
       "<!-- https://github.com/jsignell/xarray/blob/1d960933ab252e0f79f7e050e6c9261d55568057/xarray/static/html/icons-svg-inline.html -->\n",
       "<svg style=\"position: absolute; width: 0; height: 0; overflow: hidden\">\n",
       "<defs>\n",
       "<symbol id=\"icon-database\" viewBox=\"0 0 32 32\">\n",
       "<title>Show/Hide data repr</title>\n",
       "<path d=\"M16 0c-8.837 0-16 2.239-16 5v4c0 2.761 7.163 5 16 5s16-2.239 16-5v-4c0-2.761-7.163-5-16-5z\"></path>\n",
       "<path d=\"M16 17c-8.837 0-16-2.239-16-5v6c0 2.761 7.163 5 16 5s16-2.239 16-5v-6c0 2.761-7.163 5-16 5z\"></path>\n",
       "<path d=\"M16 26c-8.837 0-16-2.239-16-5v6c0 2.761 7.163 5 16 5s16-2.239 16-5v-6c0 2.761-7.163 5-16 5z\"></path>\n",
       "</symbol>\n",
       "<symbol id=\"icon-file-text2\" viewBox=\"0 0 32 32\">\n",
       "<title>Show/Hide attributes</title>\n",
       "<path d=\"M28.681 7.159c-0.694-0.947-1.662-2.053-2.724-3.116s-2.169-2.030-3.116-2.724c-1.612-1.182-2.393-1.319-2.841-1.319h-15.5c-1.378 0-2.5 1.121-2.5 2.5v27c0 1.378 1.122 2.5 2.5 2.5h23c1.378 0 2.5-1.122 2.5-2.5v-19.5c0-0.448-0.137-1.23-1.319-2.841zM24.543 5.457c0.959 0.959 1.712 1.825 2.268 2.543h-4.811v-4.811c0.718 0.556 1.584 1.309 2.543 2.268zM28 29.5c0 0.271-0.229 0.5-0.5 0.5h-23c-0.271 0-0.5-0.229-0.5-0.5v-27c0-0.271 0.229-0.5 0.5-0.5 0 0 15.499-0 15.5 0v7c0 0.552 0.448 1 1 1h7v19.5z\"></path>\n",
       "<path d=\"M23 26h-14c-0.552 0-1-0.448-1-1s0.448-1 1-1h14c0.552 0 1 0.448 1 1s-0.448 1-1 1z\"></path>\n",
       "<path d=\"M23 22h-14c-0.552 0-1-0.448-1-1s0.448-1 1-1h14c0.552 0 1 0.448 1 1s-0.448 1-1 1z\"></path>\n",
       "<path d=\"M23 18h-14c-0.552 0-1-0.448-1-1s0.448-1 1-1h14c0.552 0 1 0.448 1 1s-0.448 1-1 1z\"></path>\n",
       "</symbol>\n",
       "</defs>\n",
       "</svg><style id=\"scipp-style-sheet\">.sc-root{--sc-background-color0:var(--jp-layout-color0,#fff);--sc-background-color1:var(--jp-layout-color1,#fcfcfc);--sc-background-color2:var(--jp-layout-color2,#efefef);--sc-inverse-background-color0:var(--jp-inverse-layout-color4,#111);--sc-font-color0:var(--jp-content-font-color0,#000);--sc-font-color1:var(--jp-content-font-color1,#555);--sc-font-color2:var(--jp-content-font-color2,#888);--sc-font-color3:var(--jp-content-font-color3,#ccc);--sc-table-data-color:#f6d028;--sc-table-coords-color:#c6e590;--sc-table-masks-color:#c8c8c8;--sc-table-attrs-color:#ff5555;--sc-table-header-font-color:#111111;}.sc-wrap{font-size:14px;min-width:300px;max-width:800px;}.sc-var-attrs .sc-wrap{padding-left:3em;}.sc-header{padding-top:6px;padding-bottom:6px;margin-bottom:4px;border-bottom:solid 1px #ddd;}.sc-header > div,.sc-header > ul{display:inline;margin-top:0;margin-bottom:0;}.sc-obj-type,.sc-array-name{margin-left:2px;margin-right:10px;}.sc-obj-type{color:var(--sc-font-color1);}.sc-underlying-size{color:var(--sc-font-color2);}.sc-sections{padding-left:0 !important;display:grid;grid-template-columns:150px auto auto auto 1fr 20px 20px;}.sc-section-item{display:contents;}.sc-section-item input{display:none;}.sc-section-item input:enabled + label{cursor:pointer;color:var(--sc-font-color1);}.sc-section-item input:enabled + label:hover{color:var(--sc-font-color0);}.sc-section-summary{grid-column:1;font-weight:500;}.sc-section-summary > span{display:inline-block;padding-left:0.5em;}.sc-section-summary-in:disabled + label{color:var(--sc-font-color1);}.sc-section-summary-in + label:before{display:inline-block;content:'►';font-size:11px;width:15px;text-align:center;}.sc-section-summary-in:disabled + label:before{color:var(--sc-font-color3);}.sc-section-summary-in:checked + label:before{content:'▼';}.sc-section-summary-in:checked + label > span{display:none;}.sc-section-summary,.sc-section-inline-details{padding-top:4px;padding-bottom:4px;}.sc-section-inline-details{grid-column:2 / 5;}.sc-section-details{display:none;grid-column:1 / -1;margin-bottom:5px;}.sc-section-summary-in:checked ~ .sc-section-details{display:contents;}.sc-array-wrap{grid-column:1 / -1;display:grid;grid-template-columns:20px auto;}.sc-array-wrap > label{grid-column:1;vertical-align:top;}.sc-preview{color:var(--sc-font-color2);}.sc-array-preview,.sc-array-data{padding:0 5px !important;grid-column:2;}.sc-array-data,.sc-array-in:checked ~ .sc-array-preview{display:none;}.sc-array-in:checked ~ .sc-array-data,.sc-array-preview{display:inline-block;}.sc-dim-list{display:inline-block !important;list-style:none;padding:0 !important;margin:0;}.sc-dim-list li{display:inline-block;padding:0;margin:0!important;}.sc-dim-list:before{content:'(';}.sc-dim-list:after{content:')';}.sc-dim-list li:not(:last-child):after{content:',';padding-right:5px;}.sc-has-index{font-weight:bold;}.sc-var-list,.sc-var-item{display:contents;}.sc-var-item > div,.sc-var-item label,.sc-var-item > .sc-var-name span{background-color:var(--sc-background-color1);margin-bottom:0;}.sc-var-item > .sc-var-name:hover span{padding-right:5px;}.sc-var-list > li:nth-child(odd) > div,.sc-var-list > li:nth-child(odd) > label,.sc-var-list > li:nth-child(odd) > .sc-var-name span{background-color:var(--sc-background-color2);}.sc-var-name{grid-column:1;}.sc-var-dims{grid-column:2;}.sc-var-dtype{grid-column:3;text-align:right;color:var(--sc-font-color2);}.sc-var-unit{grid-column:4;text-align:left;color:var(--sc-font-color1);}.sc-value-preview{grid-column:5;}.sc-var-preview-variances{text-align:right;}.sc-sections .sc-section-item .sc-section-summary,.sc-sections .sc-section-item .sc-section-inline-details,.sc-section-item .sc-var-list .sc-var-item > div,.sc-section-item .sc-var-list .sc-var-item > label,.sc-section-details .sc-var-list .sc-var-item > div,.sc-section-details .sc-var-list .sc-var-item > label{margin-top:0;margin-bottom:0;}.sc-var-name,.sc-var-dims,.sc-var-dtype,.sc-var-unit,.sc-preview,.sc-attrs dt{white-space:nowrap;overflow:hidden;text-overflow:ellipsis;padding-right:10px;}.sc-var-name:hover,.sc-var-dims:hover,.sc-var-dtype:hover,.sc-var-unit:hover,.sc-attrs dt:hover{overflow:visible;width:auto;z-index:1;}.sc-var-attrs{display:block;}.sc-var-data{display:none;}.sc-var-attrs,.sc-var-data{background-color:var(--sc-background-color0) !important;padding-bottom:5px !important;}.sc-var-attrs-in:checked ~ .sc-var-attrs{display:none;}.sc-var-data-in:checked ~ .sc-var-data{display:block;}.sc-var-data > table{float:right;}.sc-var-name span,.sc-var-data{padding-left:25px !important;}.sc-var-attrs,.sc-var-data{grid-column:1 / -1;}dl.sc-attrs{padding:0;margin:0;display:grid;grid-template-columns:125px auto;}.sc-attrs dt,dd{padding:0;margin:0;float:left;padding-right:10px;width:auto;}.sc-attrs dt{font-weight:normal;grid-column:1;}.sc-attrs dt:hover span{display:inline-block;padding-right:10px;}.sc-attrs dd{grid-column:2;white-space:pre-wrap;word-break:break-all;}.sc-icon-database,.sc-icon-file-text2{display:inline-block;vertical-align:middle;width:1em;height:1.5em !important;stroke-width:0;stroke:currentColor;fill:currentColor;}label.sc-hide-icon svg{opacity:0;}.sc-standalone-var-name{grid-column:1/3;}.sc-standalone-var-name span{padding-left:25px;padding-right:10px;}.sc-table{border-collapse:collapse;}.sc-title{font-weight:bold;font-size:1.5em;}.sc-subtitle{font-weight:normal;font-style:italic;text-align:left;font-size:1.2em;padding:1px;}.sc-table th,.sc-table td{border:1px solid var(--sc-inverse-background-color0);padding:0 5px 0 5px;}.sc-table th{text-align:center;}.sc-table tr{background-color:var(--sc-background-color1);text-align:right;}.sc-table tr:hover{background-color:var(--sc-background-color2);}.sc-table th.sc-data{background-color:var(--sc-table-data-color);color:var(--sc-table-header-font-color);}.sc-table th.sc-coords{background-color:var(--sc-table-coords-color);color:var(--sc-table-header-font-color);}.sc-table th.sc-masks{background-color:var(--sc-table-masks-color);color:var(--sc-table-header-font-color);}.sc-table th.sc-attrs{background-color:var(--sc-table-attrs-color);color:var(--sc-table-header-font-color);}.sc-table th.sc-subheader{background-color:var(--sc-background-color2);}.sc-table td.sc-padding{background-color:var(--sc-background-color1);border:0 solid var(--sc-background-color1);height:1.2em;}.sc-label{fill:var(--sc-font-color0,#444444);text-anchor:middle;}.sc-name{fill:var(--sc-font-color0,#111111);}.sc-inset-line{stroke:var(--sc-font-color1);stroke-width:0.05;stroke-dasharray:0.2,0.2;}.sc-log-wrap{height:25ex;resize:vertical;overflow-y:scroll;display:flex;flex-direction:column-reverse;border:1px solid;border-color:var(--jp-border-color2);background-color:var(--sc-background-color1);}div.sc-log{line-height:2.5ex;}table.sc-log{table-layout:auto;border-collapse:collapse;}tr.sc-log:nth-child(even){background-color:var(--sc-background-color0);}tr.sc-log > td{vertical-align:top;padding-bottom:0.5ex;}.sc-log-time-stamp{min-width:22ch;font-family:var(--jp-code-font-family);color:var(--sc-font-color2);}.sc-log-level{min-width:10ch;}tr.sc-log-debug td.sc-log-level{color:var(--jp-accent-color1);}tr.sc-log-info td.sc-log-level{color:var(--jp-info-color1);}tr.sc-log-warning td.sc-log-level{color:var(--jp-warn-color1);}tr.sc-log-error td.sc-log-level{font-weight:bold;color:var(--jp-error-color2);}tr.sc-log-critical td.sc-log-level{font-weight:bold;color:var(--sc-background-color0);background-color:var(--jp-error-color1);}.sc-log-message{white-space:pre-wrap;width:100%;}.sc-log-html-payload{white-space:normal;}.sc-log-name{padding-right:0.5em;text-align:right;white-space:pre-wrap;color:var(--sc-font-color3);}</style><div class='sc-wrap sc-root'><div class='sc-header'><div class='sc-obj-type'>scipp.DataArray (102.01 MB)</div></div><ul class='sc-sections'><li class='sc-section-item'><input id='section-433c1f89-5068-4c17-9b50-d41f604e584a' class='sc-section-summary-in' type='checkbox' disabled ><label for='section-433c1f89-5068-4c17-9b50-d41f604e584a' class='sc-section-summary'  title='Expand/collapse section'>Dimensions:</label><div class='sc-section-inline-details'><ul class='sc-dim-list'><li><span class='sc-has-index'>detector_id</span>: 401408</li><li><span class='sc-has-index'>wavelength</span>: 1</li></ul></div><div class='sc-section-details'></div></li><li class='sc-section-item'><input id='section-8f1fb99b-4776-4f92-bd5c-e8a03facddb6' class='sc-section-summary-in' type='checkbox'  checked><label for='section-8f1fb99b-4776-4f92-bd5c-e8a03facddb6' class='sc-section-summary' >Coordinates: <span>(2)</span></label><div class='sc-section-inline-details'></div><div class='sc-section-details'><ul class='sc-var-list'><li class='sc-var-item'><div class='sc-var-name'><span class='sc-has-index'>detector_id</span></div><div class='sc-var-dims'>(detector_id)</div><div class='sc-var-dtype'>int32</div><div class='sc-var-unit'></div><div class='sc-value-preview sc-preview'><span><div>1, 2, ..., 401407, 401408</div></span></div><input id='attrs-b177e13e-e934-4d56-86b9-9beeba7330f6' class='sc-var-attrs-in' type='checkbox' disabled><label for='attrs-b177e13e-e934-4d56-86b9-9beeba7330f6' class='sc-hide-icon' title='Show/Hide attributes'><svg class='icon sc-icon-file-text2'><use xlink:href='#icon-file-text2'></use></svg></label><input id='data-40ce91c7-f31c-4bd5-8b03-8856057ec869' class='sc-var-data-in' type='checkbox'><label for='data-40ce91c7-f31c-4bd5-8b03-8856057ec869' title='Show/Hide data repr'><svg class='icon sc-icon-database'><use xlink:href='#icon-database'></use></svg></label><pre class='sc-var-data'>Values:<br>array([     1,      2,      3, ..., 401406, 401407, 401408], dtype=int32)</pre></span></li><li class='sc-var-item'><div class='sc-var-name'><span class='sc-has-index'>wavelength</span></div><div class='sc-var-dims'>(detector_id, wavelength [bin-edge])</div><div class='sc-var-dtype'>float64</div><div class='sc-var-unit'>Å</div><div class='sc-value-preview sc-preview'><span><div>4.517e-06, 13.286, ..., 4.456e-06, 13.107</div></span></div><input id='attrs-1f1c35b8-15f3-42bc-8bee-5d9f5c6cab1c' class='sc-var-attrs-in' type='checkbox' disabled><label for='attrs-1f1c35b8-15f3-42bc-8bee-5d9f5c6cab1c' class='sc-hide-icon' title='Show/Hide attributes'><svg class='icon sc-icon-file-text2'><use xlink:href='#icon-file-text2'></use></svg></label><input id='data-578b11d8-7be6-44bb-9bc0-f911d0a96564' class='sc-var-data-in' type='checkbox'><label for='data-578b11d8-7be6-44bb-9bc0-f911d0a96564' title='Show/Hide data repr'><svg class='icon sc-icon-database'><use xlink:href='#icon-database'></use></svg></label><pre class='sc-var-data'>Values:<br>array([[4.51701184e-06, 1.32859567e+01],\n",
       "       [4.51697889e-06, 1.32858598e+01],\n",
       "       [4.51694581e-06, 1.32857625e+01],\n",
       "       ...,\n",
       "       [4.45634573e-06, 1.31075185e+01],\n",
       "       [4.45628737e-06, 1.31073468e+01],\n",
       "       [4.45622890e-06, 1.31071749e+01]])</pre></span></li></ul></div></li><li class='sc-section-item'><input id='section-83427c36-253d-4fab-ae80-2a8cd2252765' class='sc-section-summary-in' type='checkbox'  checked><label for='section-83427c36-253d-4fab-ae80-2a8cd2252765' class='sc-section-summary' >Data: <span>(1)</span></label><div class='sc-section-inline-details'></div><div class='sc-section-details'><ul class='sc-var-list'><li class='sc-var-item'><div class='sc-var-name'><span></span></div><div class='sc-var-dims'>(detector_id, wavelength)</div><div class='sc-var-dtype'>DataArrayView</div><div class='sc-var-unit'></div><div class='sc-value-preview sc-preview'><span><div>binned data [len=0, len=0, ..., len=0, len=0]</div></span></div><input id='attrs-46dc4705-10dd-43af-ae0f-2ec7fcf77a5e' class='sc-var-attrs-in' type='checkbox' disabled><label for='attrs-46dc4705-10dd-43af-ae0f-2ec7fcf77a5e' class='sc-hide-icon' title='Show/Hide attributes'><svg class='icon sc-icon-file-text2'><use xlink:href='#icon-file-text2'></use></svg></label><input id='data-22e5211b-5211-4c4c-b85e-0976ed6ecbc2' class='sc-var-data-in' type='checkbox'><label for='data-22e5211b-5211-4c4c-b85e-0976ed6ecbc2' title='Show/Hide data repr'><svg class='icon sc-icon-database'><use xlink:href='#icon-database'></use></svg></label><pre class='sc-var-data'>Values:<br>[&lt;scipp.DataArray&gt;\n",
       "Dimensions: Sizes[event:0, ]\n",
       "Coordinates:\n",
       "  pulse_time              datetime64             [ns]  (event)  []\n",
       "  wavelength                float64             [Å]  (event)  []\n",
       "Data:\n",
       "                            float32         [counts]  (event)  []  []\n",
       "Attributes:\n",
       "  tof                         int32             [ns]  (event)  []\n",
       "\n",
       ", &lt;scipp.DataArray&gt;\n",
       "Dimensions: Sizes[event:0, ]\n",
       "Coordinates:\n",
       "  pulse_time              datetime64             [ns]  (event)  []\n",
       "  wavelength                float64             [Å]  (event)  []\n",
       "Data:\n",
       "                            float32         [counts]  (event)  []  []\n",
       "Attributes:\n",
       "  tof                         int32             [ns]  (event)  []\n",
       "\n",
       ", ..., &lt;scipp.DataArray&gt;\n",
       "Dimensions: Sizes[event:0, ]\n",
       "Coordinates:\n",
       "  pulse_time              datetime64             [ns]  (event)  []\n",
       "  wavelength                float64             [Å]  (event)  []\n",
       "Data:\n",
       "                            float32         [counts]  (event)  []  []\n",
       "Attributes:\n",
       "  tof                         int32             [ns]  (event)  []\n",
       "\n",
       ", &lt;scipp.DataArray&gt;\n",
       "Dimensions: Sizes[event:0, ]\n",
       "Coordinates:\n",
       "  pulse_time              datetime64             [ns]  (event)  []\n",
       "  wavelength                float64             [Å]  (event)  []\n",
       "Data:\n",
       "                            float32         [counts]  (event)  []  []\n",
       "Attributes:\n",
       "  tof                         int32             [ns]  (event)  []\n",
       "\n",
       "]</pre></li></ul></div></li><li class='sc-section-item'><input id='section-81ddee9f-d09c-4bbb-86c7-69c4a94631bc' class='sc-section-summary-in' type='checkbox'  ><label for='section-81ddee9f-d09c-4bbb-86c7-69c4a94631bc' class='sc-section-summary' >Attributes: <span>(15)</span></label><div class='sc-section-inline-details'></div><div class='sc-section-details'><ul class='sc-var-list'><li class='sc-var-item'><div class='sc-var-name'><span>L1</span></div><div class='sc-var-dims'>()</div><div class='sc-var-dtype'>float64</div><div class='sc-var-unit'>m</div><div class='sc-value-preview sc-preview'><span><div>25.299999237060547</div></span></div><input id='attrs-b6d40bfb-c89f-40bc-83d2-3d2079da9dbd' class='sc-var-attrs-in' type='checkbox' disabled><label for='attrs-b6d40bfb-c89f-40bc-83d2-3d2079da9dbd' class='sc-hide-icon' title='Show/Hide attributes'><svg class='icon sc-icon-file-text2'><use xlink:href='#icon-file-text2'></use></svg></label><input id='data-1f5a5c00-1fbe-4a97-b90a-8a7b7d34c7fd' class='sc-var-data-in' type='checkbox'><label for='data-1f5a5c00-1fbe-4a97-b90a-8a7b7d34c7fd' title='Show/Hide data repr'><svg class='icon sc-icon-database'><use xlink:href='#icon-database'></use></svg></label><pre class='sc-var-data'>Values:<br>array(25.29999924)</pre></li><li class='sc-var-item'><div class='sc-var-name'><span>L2</span></div><div class='sc-var-dims'>(detector_id)</div><div class='sc-var-dtype'>float64</div><div class='sc-var-unit'>m</div><div class='sc-value-preview sc-preview'><span><div>4.477, 4.478, ..., 4.883, 4.884</div></span></div><input id='attrs-88a8dc38-a6de-4bfb-9123-42499eeb3927' class='sc-var-attrs-in' type='checkbox' disabled><label for='attrs-88a8dc38-a6de-4bfb-9123-42499eeb3927' class='sc-hide-icon' title='Show/Hide attributes'><svg class='icon sc-icon-file-text2'><use xlink:href='#icon-file-text2'></use></svg></label><input id='data-01657f83-a3cd-4454-abd8-8dc47d2bc435' class='sc-var-data-in' type='checkbox'><label for='data-01657f83-a3cd-4454-abd8-8dc47d2bc435' title='Show/Hide data repr'><svg class='icon sc-icon-database'><use xlink:href='#icon-database'></use></svg></label><pre class='sc-var-data'>Values:<br>array([4.47746451, 4.47768174, 4.47789981, ..., 4.88283769, 4.88323297,\n",
       "       4.88362899])</pre></li><li class='sc-var-item'><div class='sc-var-name'><span>Ltotal</span></div><div class='sc-var-dims'>(detector_id)</div><div class='sc-var-dtype'>float64</div><div class='sc-var-unit'>m</div><div class='sc-value-preview sc-preview'><span><div>29.777, 29.778, ..., 30.183, 30.184</div></span></div><input id='attrs-9a76532b-223d-4e00-83d5-f0c976021c31' class='sc-var-attrs-in' type='checkbox' disabled><label for='attrs-9a76532b-223d-4e00-83d5-f0c976021c31' class='sc-hide-icon' title='Show/Hide attributes'><svg class='icon sc-icon-file-text2'><use xlink:href='#icon-file-text2'></use></svg></label><input id='data-e86c9bab-0535-41b5-b115-e323f3551a21' class='sc-var-data-in' type='checkbox'><label for='data-e86c9bab-0535-41b5-b115-e323f3551a21' title='Show/Hide data repr'><svg class='icon sc-icon-database'><use xlink:href='#icon-database'></use></svg></label><pre class='sc-var-data'>Values:<br>array([29.77746375, 29.77768098, 29.77789905, ..., 30.18283693,\n",
       "       30.1832322 , 30.18362822])</pre></li><li class='sc-var-item'><div class='sc-var-name'><span>end_time</span></div><div class='sc-var-dims'>()</div><div class='sc-var-dtype'>string</div><div class='sc-var-unit'></div><div class='sc-value-preview sc-preview'><span><div>2022-02-23T10:10:00.000Z</div></span></div><input id='attrs-e1011af9-161e-4b35-be0c-3129dfd50cea' class='sc-var-attrs-in' type='checkbox' disabled><label for='attrs-e1011af9-161e-4b35-be0c-3129dfd50cea' class='sc-hide-icon' title='Show/Hide attributes'><svg class='icon sc-icon-file-text2'><use xlink:href='#icon-file-text2'></use></svg></label><input id='data-8fa801f4-f26c-4269-9814-8ff84cf1c3d8' class='sc-var-data-in' type='checkbox'><label for='data-8fa801f4-f26c-4269-9814-8ff84cf1c3d8' title='Show/Hide data repr'><svg class='icon sc-icon-database'><use xlink:href='#icon-database'></use></svg></label><pre class='sc-var-data'>Values:<br>&#x27;2022-02-23T10:10:00.000Z&#x27;</pre></li><li class='sc-var-item'><div class='sc-var-name'><span>experiment_title</span></div><div class='sc-var-dims'>()</div><div class='sc-var-dtype'>string</div><div class='sc-var-unit'></div><div class='sc-value-preview sc-preview'><span><div>My experiment</div></span></div><input id='attrs-f963af02-5180-43da-a645-bc73bcb52f8e' class='sc-var-attrs-in' type='checkbox' disabled><label for='attrs-f963af02-5180-43da-a645-bc73bcb52f8e' class='sc-hide-icon' title='Show/Hide attributes'><svg class='icon sc-icon-file-text2'><use xlink:href='#icon-file-text2'></use></svg></label><input id='data-5c4e647f-9bd0-49a5-a744-9a9a7d119f5e' class='sc-var-data-in' type='checkbox'><label for='data-5c4e647f-9bd0-49a5-a744-9a9a7d119f5e' title='Show/Hide data repr'><svg class='icon sc-icon-database'><use xlink:href='#icon-database'></use></svg></label><pre class='sc-var-data'>Values:<br>&#x27;My experiment&#x27;</pre></li><li class='sc-var-item'><div class='sc-var-name'><span>incident_beam</span></div><div class='sc-var-dims'>()</div><div class='sc-var-dtype'>vector3</div><div class='sc-var-unit'>m</div><div class='sc-value-preview sc-preview'><span><div>[  0.           0.         -25.29999924]</div></span></div><input id='attrs-e960872f-0043-47ab-97cc-c7c3ca62390d' class='sc-var-attrs-in' type='checkbox' disabled><label for='attrs-e960872f-0043-47ab-97cc-c7c3ca62390d' class='sc-hide-icon' title='Show/Hide attributes'><svg class='icon sc-icon-file-text2'><use xlink:href='#icon-file-text2'></use></svg></label><input id='data-4ba97326-bbdc-4ccb-8dfa-40c5c0cf81d2' class='sc-var-data-in' type='checkbox'><label for='data-4ba97326-bbdc-4ccb-8dfa-40c5c0cf81d2' title='Show/Hide data repr'><svg class='icon sc-icon-database'><use xlink:href='#icon-database'></use></svg></label><pre class='sc-var-data'>Values:<br>array([  0.        ,   0.        , -25.29999924])</pre></li><li class='sc-var-item'><div class='sc-var-name'><span>instrument_name</span></div><div class='sc-var-dims'>()</div><div class='sc-var-dtype'>string</div><div class='sc-var-unit'></div><div class='sc-value-preview sc-preview'><span><div>LARMOR</div></span></div><input id='attrs-eb925fb8-495b-4858-828c-62557444b075' class='sc-var-attrs-in' type='checkbox' disabled><label for='attrs-eb925fb8-495b-4858-828c-62557444b075' class='sc-hide-icon' title='Show/Hide attributes'><svg class='icon sc-icon-file-text2'><use xlink:href='#icon-file-text2'></use></svg></label><input id='data-8d12b6e1-a0f5-4f95-9ef4-1e8b7917c853' class='sc-var-data-in' type='checkbox'><label for='data-8d12b6e1-a0f5-4f95-9ef4-1e8b7917c853' title='Show/Hide data repr'><svg class='icon sc-icon-database'><use xlink:href='#icon-database'></use></svg></label><pre class='sc-var-data'>Values:<br>&#x27;LARMOR&#x27;</pre></li><li class='sc-var-item'><div class='sc-var-name'><span>monitor_1</span></div><div class='sc-var-dims'>()</div><div class='sc-var-dtype'>DataArray</div><div class='sc-var-unit'></div><div class='sc-value-preview sc-preview'><span><div>{dims=[detector_id: 1, tof: 1], coords=[tof, detector_id]}</div></span></div><input id='attrs-12cfe754-8a87-4759-94a8-935eb615a365' class='sc-var-attrs-in' type='checkbox' disabled><label for='attrs-12cfe754-8a87-4759-94a8-935eb615a365' class='sc-hide-icon' title='Show/Hide attributes'><svg class='icon sc-icon-file-text2'><use xlink:href='#icon-file-text2'></use></svg></label><input id='data-493ba2d1-589d-4575-8423-eb1b233e59b3' class='sc-var-data-in' type='checkbox'><label for='data-493ba2d1-589d-4575-8423-eb1b233e59b3' title='Show/Hide data repr'><svg class='icon sc-icon-database'><use xlink:href='#icon-database'></use></svg></label><pre class='sc-var-data'>Values:<br>&lt;scipp.DataArray&gt;\n",
       "Dimensions: Sizes[detector_id:1, tof:1, ]\n",
       "Coordinates:\n",
       "  detector_id                 int32  [dimensionless]  (detector_id)  [1]\n",
       "  tof                         int32             [ns]  (tof [bin-edge])  [3418, 99958163]\n",
       "Data:\n",
       "                          DataArrayView  [dimensionless]  (detector_id, tof)  [&lt;scipp.DataArray&gt;\n",
       "Dimensions: Sizes[event:12020892, ]\n",
       "Coordinates:\n",
       "  pulse_time              datetime64             [ns]  (event)  [2022-02-23T09:59:59.886470753, 2022-02-23T09:59:59.886470753, ..., 2022-02-23T10:10:00.014872502, 2022-02-23T10:10:00.014872502]\n",
       "  tof                         int32             [ns]  (event)  [99808149, 99858153, ..., 44305522, 44355526]\n",
       "Data:\n",
       "                            float32         [counts]  (event)  [1, 1, ..., 1, 1]  [1, 1, ..., 1, 1]\n",
       "\n",
       "]\n",
       "\n",
       "</pre></li><li class='sc-var-item'><div class='sc-var-name'><span>monitor_2</span></div><div class='sc-var-dims'>()</div><div class='sc-var-dtype'>DataArray</div><div class='sc-var-unit'></div><div class='sc-value-preview sc-preview'><span><div>{dims=[detector_id: 1, tof: 1], coords=[tof, detector_id]}</div></span></div><input id='attrs-6dc6c19a-ddf7-4a12-b3a4-61b41d507754' class='sc-var-attrs-in' type='checkbox' disabled><label for='attrs-6dc6c19a-ddf7-4a12-b3a4-61b41d507754' class='sc-hide-icon' title='Show/Hide attributes'><svg class='icon sc-icon-file-text2'><use xlink:href='#icon-file-text2'></use></svg></label><input id='data-757fb688-844a-4c49-a890-d4260b5c2e1b' class='sc-var-data-in' type='checkbox'><label for='data-757fb688-844a-4c49-a890-d4260b5c2e1b' title='Show/Hide data repr'><svg class='icon sc-icon-database'><use xlink:href='#icon-database'></use></svg></label><pre class='sc-var-data'>Values:<br>&lt;scipp.DataArray&gt;\n",
       "Dimensions: Sizes[detector_id:1, tof:1, ]\n",
       "Coordinates:\n",
       "  detector_id                 int32  [dimensionless]  (detector_id)  [1]\n",
       "  tof                         int32             [ns]  (tof [bin-edge])  [3418, 99958163]\n",
       "Data:\n",
       "                          DataArrayView  [dimensionless]  (detector_id, tof)  [&lt;scipp.DataArray&gt;\n",
       "Dimensions: Sizes[event:12020892, ]\n",
       "Coordinates:\n",
       "  pulse_time              datetime64             [ns]  (event)  [2022-02-23T09:59:59.886470753, 2022-02-23T09:59:59.886470753, ..., 2022-02-23T10:10:00.014872502, 2022-02-23T10:10:00.014872502]\n",
       "  tof                         int32             [ns]  (event)  [99808149, 99858153, ..., 44305522, 44355526]\n",
       "Data:\n",
       "                            float32         [counts]  (event)  [1, 1, ..., 1, 1]  [1, 1, ..., 1, 1]\n",
       "\n",
       "]\n",
       "\n",
       "</pre></li><li class='sc-var-item'><div class='sc-var-name'><span>position</span></div><div class='sc-var-dims'>(detector_id)</div><div class='sc-var-dtype'>vector3</div><div class='sc-var-unit'>m</div><div class='sc-value-preview sc-preview'><span><div>[ 0.4990235   0.41832992 -4.4298605 ], [ 0.50096887  0.41832992 -4.4298605 ], ..., [ 0.99314776  1.97683012 -4.35336242], [ 0.99509314  1.97683012 -4.35336242]</div></span></div><input id='attrs-26f90227-3073-4cfe-a9df-b07e4bb22941' class='sc-var-attrs-in' type='checkbox' disabled><label for='attrs-26f90227-3073-4cfe-a9df-b07e4bb22941' class='sc-hide-icon' title='Show/Hide attributes'><svg class='icon sc-icon-file-text2'><use xlink:href='#icon-file-text2'></use></svg></label><input id='data-2fcd96e1-60b3-4dce-99cd-f281affeb8b8' class='sc-var-data-in' type='checkbox'><label for='data-2fcd96e1-60b3-4dce-99cd-f281affeb8b8' title='Show/Hide data repr'><svg class='icon sc-icon-database'><use xlink:href='#icon-database'></use></svg></label><pre class='sc-var-data'>Values:<br>array([[ 0.4990235 ,  0.41832992, -4.4298605 ],\n",
       "       [ 0.50096887,  0.41832992, -4.4298605 ],\n",
       "       [ 0.50291424,  0.41832992, -4.4298605 ],\n",
       "       ...,\n",
       "       [ 0.99120238,  1.97683012, -4.35336242],\n",
       "       [ 0.99314776,  1.97683012, -4.35336242],\n",
       "       [ 0.99509314,  1.97683012, -4.35336242]])</pre></li><li class='sc-var-item'><div class='sc-var-name'><span>sample_position</span></div><div class='sc-var-dims'>()</div><div class='sc-var-dtype'>vector3</div><div class='sc-var-unit'>m</div><div class='sc-value-preview sc-preview'><span><div>[0. 0. 0.]</div></span></div><input id='attrs-0b5f7d4a-df78-4f10-a1bd-3ea7dbe97466' class='sc-var-attrs-in' type='checkbox' disabled><label for='attrs-0b5f7d4a-df78-4f10-a1bd-3ea7dbe97466' class='sc-hide-icon' title='Show/Hide attributes'><svg class='icon sc-icon-file-text2'><use xlink:href='#icon-file-text2'></use></svg></label><input id='data-eb817d06-9bca-462b-b2ca-5c13b1508959' class='sc-var-data-in' type='checkbox'><label for='data-eb817d06-9bca-462b-b2ca-5c13b1508959' title='Show/Hide data repr'><svg class='icon sc-icon-database'><use xlink:href='#icon-database'></use></svg></label><pre class='sc-var-data'>Values:<br>array([0., 0., 0.])</pre></li><li class='sc-var-item'><div class='sc-var-name'><span>scattered_beam</span></div><div class='sc-var-dims'>(detector_id)</div><div class='sc-var-dtype'>vector3</div><div class='sc-var-unit'>m</div><div class='sc-value-preview sc-preview'><span><div>[ 0.4990235   0.41832992 -4.4298605 ], [ 0.50096887  0.41832992 -4.4298605 ], ..., [ 0.99314776  1.97683012 -4.35336242], [ 0.99509314  1.97683012 -4.35336242]</div></span></div><input id='attrs-f3bea2a9-f3f6-4e7d-9a69-f2c300b32427' class='sc-var-attrs-in' type='checkbox' disabled><label for='attrs-f3bea2a9-f3f6-4e7d-9a69-f2c300b32427' class='sc-hide-icon' title='Show/Hide attributes'><svg class='icon sc-icon-file-text2'><use xlink:href='#icon-file-text2'></use></svg></label><input id='data-ef681af9-086d-436a-b7c2-669e6c8695ed' class='sc-var-data-in' type='checkbox'><label for='data-ef681af9-086d-436a-b7c2-669e6c8695ed' title='Show/Hide data repr'><svg class='icon sc-icon-database'><use xlink:href='#icon-database'></use></svg></label><pre class='sc-var-data'>Values:<br>array([[ 0.4990235 ,  0.41832992, -4.4298605 ],\n",
       "       [ 0.50096887,  0.41832992, -4.4298605 ],\n",
       "       [ 0.50291424,  0.41832992, -4.4298605 ],\n",
       "       ...,\n",
       "       [ 0.99120238,  1.97683012, -4.35336242],\n",
       "       [ 0.99314776,  1.97683012, -4.35336242],\n",
       "       [ 0.99509314,  1.97683012, -4.35336242]])</pre></li><li class='sc-var-item'><div class='sc-var-name'><span>source_position</span></div><div class='sc-var-dims'>()</div><div class='sc-var-dtype'>vector3</div><div class='sc-var-unit'>m</div><div class='sc-value-preview sc-preview'><span><div>[ 0.          0.         25.29999924]</div></span></div><input id='attrs-59fe1394-1513-4043-abd3-349348aace4e' class='sc-var-attrs-in' type='checkbox' disabled><label for='attrs-59fe1394-1513-4043-abd3-349348aace4e' class='sc-hide-icon' title='Show/Hide attributes'><svg class='icon sc-icon-file-text2'><use xlink:href='#icon-file-text2'></use></svg></label><input id='data-2c2c9f0b-60e8-4b28-a427-1fa6ddf8c3ec' class='sc-var-data-in' type='checkbox'><label for='data-2c2c9f0b-60e8-4b28-a427-1fa6ddf8c3ec' title='Show/Hide data repr'><svg class='icon sc-icon-database'><use xlink:href='#icon-database'></use></svg></label><pre class='sc-var-data'>Values:<br>array([ 0.        ,  0.        , 25.29999924])</pre></li><li class='sc-var-item'><div class='sc-var-name'><span>start_time</span></div><div class='sc-var-dims'>()</div><div class='sc-var-dtype'>string</div><div class='sc-var-unit'></div><div class='sc-value-preview sc-preview'><span><div>2022-02-23T10:00:00.000Z</div></span></div><input id='attrs-29f30150-6396-4abc-b878-62e664cb3da3' class='sc-var-attrs-in' type='checkbox' disabled><label for='attrs-29f30150-6396-4abc-b878-62e664cb3da3' class='sc-hide-icon' title='Show/Hide attributes'><svg class='icon sc-icon-file-text2'><use xlink:href='#icon-file-text2'></use></svg></label><input id='data-64115cce-0407-4009-ba62-013983fcee63' class='sc-var-data-in' type='checkbox'><label for='data-64115cce-0407-4009-ba62-013983fcee63' title='Show/Hide data repr'><svg class='icon sc-icon-database'><use xlink:href='#icon-database'></use></svg></label><pre class='sc-var-data'>Values:<br>&#x27;2022-02-23T10:00:00.000Z&#x27;</pre></li><li class='sc-var-item'><div class='sc-var-name'><span>tof</span></div><div class='sc-var-dims'>(wavelength [bin-edge])</div><div class='sc-var-dtype'>int32</div><div class='sc-var-unit'>ns</div><div class='sc-value-preview sc-preview'><span><div>34, 100004725</div></span></div><input id='attrs-c6581e34-e59c-45c8-a8b2-ecfe457d5195' class='sc-var-attrs-in' type='checkbox' disabled><label for='attrs-c6581e34-e59c-45c8-a8b2-ecfe457d5195' class='sc-hide-icon' title='Show/Hide attributes'><svg class='icon sc-icon-file-text2'><use xlink:href='#icon-file-text2'></use></svg></label><input id='data-28076787-7bba-4185-b8ca-3b8753611ffe' class='sc-var-data-in' type='checkbox'><label for='data-28076787-7bba-4185-b8ca-3b8753611ffe' title='Show/Hide data repr'><svg class='icon sc-icon-database'><use xlink:href='#icon-database'></use></svg></label><pre class='sc-var-data'>Values:<br>array([       34, 100004725], dtype=int32)</pre></li></ul></div></li></ul></div></div>"
      ],
      "text/plain": [
       "<scipp.DataArray>\n",
       "Dimensions: Sizes[detector_id:401408, wavelength:1, ]\n",
       "Coordinates:\n",
       "  detector_id                 int32  [dimensionless]  (detector_id)  [1, 2, ..., 401407, 401408]\n",
       "  wavelength                float64             [Å]  (detector_id, wavelength [bin-edge])  [4.51701e-06, 13.286, ..., 4.45623e-06, 13.1072]\n",
       "Data:\n",
       "                          DataArrayView  [dimensionless]  (detector_id, wavelength)  [<scipp.DataArray>\n",
       "Dimensions: Sizes[event:0, ]\n",
       "Coordinates:\n",
       "  pulse_time              datetime64             [ns]  (event)  []\n",
       "  wavelength                float64             [Å]  (event)  []\n",
       "Data:\n",
       "                            float32         [counts]  (event)  []  []\n",
       "Attributes:\n",
       "  tof                         int32             [ns]  (event)  []\n",
       "\n",
       ", <scipp.DataArray>\n",
       "Dimensions: Sizes[event:0, ]\n",
       "Coordinates:\n",
       "  pulse_time              datetime64             [ns]  (event)  []\n",
       "  wavelength                float64             [Å]  (event)  []\n",
       "Data:\n",
       "                            float32         [counts]  (event)  []  []\n",
       "Attributes:\n",
       "  tof                         int32             [ns]  (event)  []\n",
       "\n",
       ", ..., <scipp.DataArray>\n",
       "Dimensions: Sizes[event:0, ]\n",
       "Coordinates:\n",
       "  pulse_time              datetime64             [ns]  (event)  []\n",
       "  wavelength                float64             [Å]  (event)  []\n",
       "Data:\n",
       "                            float32         [counts]  (event)  []  []\n",
       "Attributes:\n",
       "  tof                         int32             [ns]  (event)  []\n",
       "\n",
       ", <scipp.DataArray>\n",
       "Dimensions: Sizes[event:0, ]\n",
       "Coordinates:\n",
       "  pulse_time              datetime64             [ns]  (event)  []\n",
       "  wavelength                float64             [Å]  (event)  []\n",
       "Data:\n",
       "                            float32         [counts]  (event)  []  []\n",
       "Attributes:\n",
       "  tof                         int32             [ns]  (event)  []\n",
       "\n",
       "]\n",
       "Attributes:\n",
       "  L1                        float64              [m]  ()  [25.3]\n",
       "  L2                        float64              [m]  (detector_id)  [4.47746, 4.47768, ..., 4.88323, 4.88363]\n",
       "  Ltotal                    float64              [m]  (detector_id)  [29.7775, 29.7777, ..., 30.1832, 30.1836]\n",
       "  end_time                   string  [dimensionless]  ()  [\"2022-02-23T10:10:00.000Z\"]\n",
       "  experiment_title           string  [dimensionless]  ()  [\"My experiment\"]\n",
       "  incident_beam             vector3              [m]  ()  [(0, 0, -25.3)]\n",
       "  instrument_name            string  [dimensionless]  ()  [\"LARMOR\"]\n",
       "  monitor_1               DataArray  [dimensionless]  ()  [<scipp.DataArray>\n",
       "Dimensions: Sizes[detector_id:1, tof:1, ]\n",
       "Coordinates:\n",
       "  detector_id                 int32  [dimensionless]  (detector_id)  [1]\n",
       "  tof                         int32             [ns]  (tof [bin-edge])  [3418, 99958163]\n",
       "Data:\n",
       "                          DataArrayView  [dimensionless]  (detector_id, tof)  [<scipp.DataArray>\n",
       "Dimensions: Sizes[event:12020892, ]\n",
       "Coordinates:\n",
       "  pulse_time              datetime64             [ns]  (event)  [2022-02-23T09:59:59.886470753, 2022-02-23T09:59:59.886470753, ..., 2022-02-23T10:10:00.014872502, 2022-02-23T10:10:00.014872502]\n",
       "  tof                         int32             [ns]  (event)  [99808149, 99858153, ..., 44305522, 44355526]\n",
       "Data:\n",
       "                            float32         [counts]  (event)  [1, 1, ..., 1, 1]  [1, 1, ..., 1, 1]\n",
       "\n",
       "]\n",
       "\n",
       "]\n",
       "  monitor_2               DataArray  [dimensionless]  ()  [<scipp.DataArray>\n",
       "Dimensions: Sizes[detector_id:1, tof:1, ]\n",
       "Coordinates:\n",
       "  detector_id                 int32  [dimensionless]  (detector_id)  [1]\n",
       "  tof                         int32             [ns]  (tof [bin-edge])  [3418, 99958163]\n",
       "Data:\n",
       "                          DataArrayView  [dimensionless]  (detector_id, tof)  [<scipp.DataArray>\n",
       "Dimensions: Sizes[event:12020892, ]\n",
       "Coordinates:\n",
       "  pulse_time              datetime64             [ns]  (event)  [2022-02-23T09:59:59.886470753, 2022-02-23T09:59:59.886470753, ..., 2022-02-23T10:10:00.014872502, 2022-02-23T10:10:00.014872502]\n",
       "  tof                         int32             [ns]  (event)  [99808149, 99858153, ..., 44305522, 44355526]\n",
       "Data:\n",
       "                            float32         [counts]  (event)  [1, 1, ..., 1, 1]  [1, 1, ..., 1, 1]\n",
       "\n",
       "]\n",
       "\n",
       "]\n",
       "  position                  vector3              [m]  (detector_id)  [(0.499023, 0.41833, -4.42986), (0.500969, 0.41833, -4.42986), ..., (0.993148, 1.97683, -4.35336), (0.995093, 1.97683, -4.35336)]\n",
       "  sample_position           vector3              [m]  ()  [(0, 0, 0)]\n",
       "  scattered_beam            vector3              [m]  (detector_id)  [(0.499023, 0.41833, -4.42986), (0.500969, 0.41833, -4.42986), ..., (0.993148, 1.97683, -4.35336), (0.995093, 1.97683, -4.35336)]\n",
       "  source_position           vector3              [m]  ()  [(0, 0, 25.3)]\n",
       "  start_time                 string  [dimensionless]  ()  [\"2022-02-23T10:00:00.000Z\"]\n",
       "  tof                         int32             [ns]  (wavelength [bin-edge])  [34, 100004725]\n"
      ]
     },
     "execution_count": 16,
     "metadata": {},
     "output_type": "execute_result"
    }
   ],
   "source": [
    "data_wave_event"
   ]
  },
  {
   "cell_type": "markdown",
   "id": "1295c79d-e26f-4181-9ff8-a1a81051d835",
   "metadata": {},
   "source": [
    "### Show monitor values"
   ]
  },
  {
   "cell_type": "code",
   "execution_count": null,
   "id": "9b641ef9-f34b-4225-9c25-714c60e341dd",
   "metadata": {},
   "outputs": [],
   "source": [
    "monitor1 = data.attrs['monitor_1'].value"
   ]
  },
  {
   "cell_type": "markdown",
   "id": "8dc2a75a-618b-4403-a44b-f1e82566b089",
   "metadata": {},
   "source": [
    "### This is not working "
   ]
  },
  {
   "cell_type": "code",
   "execution_count": 17,
   "id": "9cb440c6-4b40-47c7-9b5a-8fe5810da7db",
   "metadata": {},
   "outputs": [
    {
     "name": "stdout",
     "output_type": "stream",
     "text": [
      "FrameworkManager-[Notice] Welcome to Mantid 6.0.20210412.848\n",
      "FrameworkManager-[Notice] Please cite: http://dx.doi.org/10.1016/j.nima.2014.07.029 and this release: http://dx.doi.org/10.5286/Software/Mantid\n",
      "CheckMantidVersion-[Notice] A new version of Mantid(6.3.0) is available for download from https://download.mantidproject.org\n",
      "DownloadInstrument-[Notice] All instrument definitions up to date\n",
      "LoadEventNexus-[Notice] LoadEventNexus started\n",
      "Run-[Warning] proton_charge log was not a time series property. The value of the total proton charge has not been set\n",
      "Run-[Warning] gd_prtn_chrg log was not found. Proton Charge set to 0.0\n",
      "LoadEventNexus-[Warning] Empty proton_charge sample log. You will not be able to filter by time.\n",
      "LogParser-[Warning] Cannot process ICPevent log. Period 1 assumed for all data.\n",
      "LoadInstrument-[Warning] The instrument definition filename does not contain _Definition. Your instrument name will be set to: 2022-02-23_1100_edited.nxs\n",
      "LoadInstrument-[Error] Error in execution of algorithm LoadInstrument:\n",
      "LoadInstrument-[Error] Could not find group class NXsample\n",
      "LoadEventNexus-[Error] Error loading Instrument definition file\n",
      "LoadEventNexus-[Error] Error in execution of algorithm LoadEventNexus:\n",
      "LoadEventNexus-[Error] Instrument was not initialized correctly! Loading cannot continue.\n"
     ]
    },
    {
     "ename": "RuntimeError",
     "evalue": "LoadEventNexus-v1: Instrument was not initialized correctly! Loading cannot continue.",
     "output_type": "error",
     "traceback": [
      "\u001b[0;31m---------------------------------------------------------------------------\u001b[0m",
      "\u001b[0;31mRuntimeError\u001b[0m                              Traceback (most recent call last)",
      "\u001b[0;32m~/opt/anaconda3/envs/ess/lib/python3.8/site-packages/mantid/simpleapi.py\u001b[0m in \u001b[0;36m__call__\u001b[0;34m(self, *args, **kwargs)\u001b[0m\n\u001b[1;32m   1041\u001b[0m                 \u001b[0;32mtry\u001b[0m\u001b[0;34m:\u001b[0m\u001b[0;34m\u001b[0m\u001b[0;34m\u001b[0m\u001b[0m\n\u001b[0;32m-> 1042\u001b[0;31m                     \u001b[0malgm\u001b[0m\u001b[0;34m.\u001b[0m\u001b[0mexecute\u001b[0m\u001b[0;34m(\u001b[0m\u001b[0;34m)\u001b[0m\u001b[0;34m\u001b[0m\u001b[0;34m\u001b[0m\u001b[0m\n\u001b[0m\u001b[1;32m   1043\u001b[0m                 \u001b[0;32mexcept\u001b[0m \u001b[0mRuntimeError\u001b[0m \u001b[0;32mas\u001b[0m \u001b[0me\u001b[0m\u001b[0;34m:\u001b[0m\u001b[0;34m\u001b[0m\u001b[0;34m\u001b[0m\u001b[0m\n",
      "\u001b[0;31mRuntimeError\u001b[0m: Instrument was not initialized correctly! Loading cannot continue.",
      "\nThe above exception was the direct cause of the following exception:\n",
      "\u001b[0;31mRuntimeError\u001b[0m                              Traceback (most recent call last)",
      "\u001b[0;32m/var/folders/q3/5vy4nct93wg03ynnn836g49m0000gq/T/ipykernel_31584/3426833174.py\u001b[0m in \u001b[0;36m<module>\u001b[0;34m\u001b[0m\n\u001b[1;32m      1\u001b[0m \u001b[0mpath\u001b[0m \u001b[0;34m=\u001b[0m \u001b[0;34m'Larmor_data'\u001b[0m\u001b[0;34m\u001b[0m\u001b[0;34m\u001b[0m\u001b[0m\n\u001b[0;32m----> 2\u001b[0;31m \u001b[0mscn\u001b[0m\u001b[0;34m.\u001b[0m\u001b[0mload\u001b[0m\u001b[0;34m(\u001b[0m\u001b[0mfilename\u001b[0m\u001b[0;34m=\u001b[0m\u001b[0;34mf'{path}/2022-02-23_1100_edited.nxs'\u001b[0m\u001b[0;34m,\u001b[0m \u001b[0mmantid_alg\u001b[0m\u001b[0;34m=\u001b[0m\u001b[0;34m'LoadEventNexus'\u001b[0m\u001b[0;34m)\u001b[0m\u001b[0;34m\u001b[0m\u001b[0;34m\u001b[0m\u001b[0m\n\u001b[0m",
      "\u001b[0;32m~/opt/anaconda3/envs/ess/lib/python3.8/site-packages/scippneutron/mantid.py\u001b[0m in \u001b[0;36mload\u001b[0;34m(filename, load_pulse_times, instrument_filename, error_connection, mantid_alg, mantid_args, advanced_geometry)\u001b[0m\n\u001b[1;32m    866\u001b[0m     \u001b[0m_check_file_path\u001b[0m\u001b[0;34m(\u001b[0m\u001b[0mstr\u001b[0m\u001b[0;34m(\u001b[0m\u001b[0mfilename\u001b[0m\u001b[0;34m)\u001b[0m\u001b[0;34m,\u001b[0m \u001b[0mmantid_alg\u001b[0m\u001b[0;34m)\u001b[0m\u001b[0;34m\u001b[0m\u001b[0;34m\u001b[0m\u001b[0m\n\u001b[1;32m    867\u001b[0m \u001b[0;34m\u001b[0m\u001b[0m\n\u001b[0;32m--> 868\u001b[0;31m     \u001b[0;32mwith\u001b[0m \u001b[0mrun_mantid_alg\u001b[0m\u001b[0;34m(\u001b[0m\u001b[0mmantid_alg\u001b[0m\u001b[0;34m,\u001b[0m \u001b[0mstr\u001b[0m\u001b[0;34m(\u001b[0m\u001b[0mfilename\u001b[0m\u001b[0;34m)\u001b[0m\u001b[0;34m,\u001b[0m \u001b[0;34m**\u001b[0m\u001b[0mmantid_args\u001b[0m\u001b[0;34m)\u001b[0m \u001b[0;32mas\u001b[0m \u001b[0mloaded\u001b[0m\u001b[0;34m:\u001b[0m\u001b[0;34m\u001b[0m\u001b[0;34m\u001b[0m\u001b[0m\n\u001b[0m\u001b[1;32m    869\u001b[0m         \u001b[0;31m# Determine what Load has provided us\u001b[0m\u001b[0;34m\u001b[0m\u001b[0;34m\u001b[0m\u001b[0;34m\u001b[0m\u001b[0m\n\u001b[1;32m    870\u001b[0m         \u001b[0;32mfrom\u001b[0m \u001b[0mmantid\u001b[0m\u001b[0;34m.\u001b[0m\u001b[0mapi\u001b[0m \u001b[0;32mimport\u001b[0m \u001b[0mWorkspace\u001b[0m\u001b[0;34m\u001b[0m\u001b[0;34m\u001b[0m\u001b[0m\n",
      "\u001b[0;32m~/opt/anaconda3/envs/ess/lib/python3.8/contextlib.py\u001b[0m in \u001b[0;36m__enter__\u001b[0;34m(self)\u001b[0m\n\u001b[1;32m    111\u001b[0m         \u001b[0;32mdel\u001b[0m \u001b[0mself\u001b[0m\u001b[0;34m.\u001b[0m\u001b[0margs\u001b[0m\u001b[0;34m,\u001b[0m \u001b[0mself\u001b[0m\u001b[0;34m.\u001b[0m\u001b[0mkwds\u001b[0m\u001b[0;34m,\u001b[0m \u001b[0mself\u001b[0m\u001b[0;34m.\u001b[0m\u001b[0mfunc\u001b[0m\u001b[0;34m\u001b[0m\u001b[0;34m\u001b[0m\u001b[0m\n\u001b[1;32m    112\u001b[0m         \u001b[0;32mtry\u001b[0m\u001b[0;34m:\u001b[0m\u001b[0;34m\u001b[0m\u001b[0;34m\u001b[0m\u001b[0m\n\u001b[0;32m--> 113\u001b[0;31m             \u001b[0;32mreturn\u001b[0m \u001b[0mnext\u001b[0m\u001b[0;34m(\u001b[0m\u001b[0mself\u001b[0m\u001b[0;34m.\u001b[0m\u001b[0mgen\u001b[0m\u001b[0;34m)\u001b[0m\u001b[0;34m\u001b[0m\u001b[0;34m\u001b[0m\u001b[0m\n\u001b[0m\u001b[1;32m    114\u001b[0m         \u001b[0;32mexcept\u001b[0m \u001b[0mStopIteration\u001b[0m\u001b[0;34m:\u001b[0m\u001b[0;34m\u001b[0m\u001b[0;34m\u001b[0m\u001b[0m\n\u001b[1;32m    115\u001b[0m             \u001b[0;32mraise\u001b[0m \u001b[0mRuntimeError\u001b[0m\u001b[0;34m(\u001b[0m\u001b[0;34m\"generator didn't yield\"\u001b[0m\u001b[0;34m)\u001b[0m \u001b[0;32mfrom\u001b[0m \u001b[0;32mNone\u001b[0m\u001b[0;34m\u001b[0m\u001b[0;34m\u001b[0m\u001b[0m\n",
      "\u001b[0;32m~/opt/anaconda3/envs/ess/lib/python3.8/site-packages/scippneutron/mantid.py\u001b[0m in \u001b[0;36mrun_mantid_alg\u001b[0;34m(alg, *args, **kwargs)\u001b[0m\n\u001b[1;32m     35\u001b[0m     \u001b[0;32melse\u001b[0m\u001b[0;34m:\u001b[0m\u001b[0;34m\u001b[0m\u001b[0;34m\u001b[0m\u001b[0m\n\u001b[1;32m     36\u001b[0m         \u001b[0mkwargs\u001b[0m\u001b[0;34m[\u001b[0m\u001b[0;34m'OutputWorkspace'\u001b[0m\u001b[0;34m]\u001b[0m \u001b[0;34m=\u001b[0m \u001b[0mws_name\u001b[0m\u001b[0;34m\u001b[0m\u001b[0;34m\u001b[0m\u001b[0m\n\u001b[0;32m---> 37\u001b[0;31m     \u001b[0mws\u001b[0m \u001b[0;34m=\u001b[0m \u001b[0mgetattr\u001b[0m\u001b[0;34m(\u001b[0m\u001b[0mmantid\u001b[0m\u001b[0;34m,\u001b[0m \u001b[0malg\u001b[0m\u001b[0;34m)\u001b[0m\u001b[0;34m(\u001b[0m\u001b[0;34m*\u001b[0m\u001b[0margs\u001b[0m\u001b[0;34m,\u001b[0m \u001b[0;34m**\u001b[0m\u001b[0mkwargs\u001b[0m\u001b[0;34m)\u001b[0m\u001b[0;34m\u001b[0m\u001b[0;34m\u001b[0m\u001b[0m\n\u001b[0m\u001b[1;32m     38\u001b[0m     \u001b[0;32mtry\u001b[0m\u001b[0;34m:\u001b[0m\u001b[0;34m\u001b[0m\u001b[0;34m\u001b[0m\u001b[0m\n\u001b[1;32m     39\u001b[0m         \u001b[0;32myield\u001b[0m \u001b[0mws\u001b[0m\u001b[0;34m\u001b[0m\u001b[0;34m\u001b[0m\u001b[0m\n",
      "\u001b[0;32m~/opt/anaconda3/envs/ess/lib/python3.8/site-packages/mantid/simpleapi.py\u001b[0m in \u001b[0;36m__call__\u001b[0;34m(self, *args, **kwargs)\u001b[0m\n\u001b[1;32m   1047\u001b[0m                     \u001b[0;32melse\u001b[0m\u001b[0;34m:\u001b[0m\u001b[0;34m\u001b[0m\u001b[0;34m\u001b[0m\u001b[0m\n\u001b[1;32m   1048\u001b[0m                         \u001b[0mmsg\u001b[0m \u001b[0;34m=\u001b[0m \u001b[0;34m'{}-v{}: {}'\u001b[0m\u001b[0;34m.\u001b[0m\u001b[0mformat\u001b[0m\u001b[0;34m(\u001b[0m\u001b[0malgm\u001b[0m\u001b[0;34m.\u001b[0m\u001b[0mname\u001b[0m\u001b[0;34m(\u001b[0m\u001b[0;34m)\u001b[0m\u001b[0;34m,\u001b[0m \u001b[0malgm\u001b[0m\u001b[0;34m.\u001b[0m\u001b[0mversion\u001b[0m\u001b[0;34m(\u001b[0m\u001b[0;34m)\u001b[0m\u001b[0;34m,\u001b[0m \u001b[0mstr\u001b[0m\u001b[0;34m(\u001b[0m\u001b[0me\u001b[0m\u001b[0;34m)\u001b[0m\u001b[0;34m)\u001b[0m\u001b[0;34m\u001b[0m\u001b[0;34m\u001b[0m\u001b[0m\n\u001b[0;32m-> 1049\u001b[0;31m                         \u001b[0;32mraise\u001b[0m \u001b[0mRuntimeError\u001b[0m\u001b[0;34m(\u001b[0m\u001b[0mmsg\u001b[0m\u001b[0;34m)\u001b[0m \u001b[0;32mfrom\u001b[0m \u001b[0me\u001b[0m\u001b[0;34m\u001b[0m\u001b[0;34m\u001b[0m\u001b[0m\n\u001b[0m\u001b[1;32m   1050\u001b[0m \u001b[0;34m\u001b[0m\u001b[0m\n\u001b[1;32m   1051\u001b[0m                 \u001b[0;32mreturn\u001b[0m \u001b[0m_gather_returns\u001b[0m\u001b[0;34m(\u001b[0m\u001b[0mname\u001b[0m\u001b[0;34m,\u001b[0m \u001b[0mlhs\u001b[0m\u001b[0;34m,\u001b[0m \u001b[0malgm\u001b[0m\u001b[0;34m)\u001b[0m\u001b[0;34m\u001b[0m\u001b[0;34m\u001b[0m\u001b[0m\n",
      "\u001b[0;31mRuntimeError\u001b[0m: LoadEventNexus-v1: Instrument was not initialized correctly! Loading cannot continue."
     ]
    }
   ],
   "source": [
    "path = 'Larmor_data'\n",
    "scn.load(filename=f'{path}/2022-02-23_1100_edited.nxs', mantid_alg='LoadEventNexus')"
   ]
  },
  {
   "cell_type": "code",
   "execution_count": null,
   "id": "531b23d0-c8d5-4d10-9d4e-33f9cad662d5",
   "metadata": {},
   "outputs": [],
   "source": []
  },
  {
   "cell_type": "code",
   "execution_count": null,
   "id": "bf9b8695-ac41-447b-89a5-cb4ee566efc3",
   "metadata": {},
   "outputs": [],
   "source": []
  }
 ],
 "metadata": {
  "kernelspec": {
   "display_name": "Python 3 (ipykernel)",
   "language": "python",
   "name": "python3"
  },
  "language_info": {
   "codemirror_mode": {
    "name": "ipython",
    "version": 3
   },
   "file_extension": ".py",
   "mimetype": "text/x-python",
   "name": "python",
   "nbconvert_exporter": "python",
   "pygments_lexer": "ipython3",
   "version": "3.8.12"
  }
 },
 "nbformat": 4,
 "nbformat_minor": 5
}
