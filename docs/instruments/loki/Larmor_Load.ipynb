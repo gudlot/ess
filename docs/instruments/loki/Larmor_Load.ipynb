{
 "cells": [
  {
   "cell_type": "code",
   "execution_count": 1,
   "id": "cfe22d49-1596-44c0-8156-ad45f596a50c",
   "metadata": {},
   "outputs": [],
   "source": [
    "import scipp as sc\n",
    "import scippneutron as scn\n",
    "import numpy as np\n",
    "import h5py as h5\n",
    "from shutil import copyfile\n",
    "import sys\n",
    "from ipyfilechooser import FileChooser"
   ]
  },
  {
   "cell_type": "code",
   "execution_count": 2,
   "id": "2dfb5ec4-7e13-4777-b996-7cdea816498f",
   "metadata": {},
   "outputs": [],
   "source": [
    "def fix_nexus_file(infile, outfile):\n",
    "    \"\"\"\n",
    "    Currently there are some tweaks to make file working in scipp. This function won't be necessary in the future\n",
    "    \"\"\"\n",
    "\n",
    "    copyfile(infile, outfile)\n",
    "    with h5.File(outfile, 'r+') as f:\n",
    "        \n",
    "        #For loading in Mantid instrument name, sample position and detector_ids for monitors are needed\n",
    "        f['entry/instrument/name'] = 'LARMOR'\n",
    "        \n",
    "        group_entry = f['entry']\n",
    "        nx_class = group_entry.create_group('sample')\n",
    "        nx_class.attrs[\"NX_class\"] = 'NXsample'\n",
    "       \n",
    "        ##Adding detector_id\n",
    "        #f['entry']['instrument']['monitor_1']['detector_number'] = np.array(458753)\n",
    "        #f['entry']['instrument']['monitor_2']['detector_number'] = np.array(458754)\n",
    "        group = f['entry/instrument']\n",
    "        for monitor_name in filter(lambda k: k.startswith('monitor'), group):\n",
    "            monitor_group = group[monitor_name]\n",
    "            monitor_event_group = monitor_group[f'{monitor_name}_events']\n",
    "            for key in list(monitor_event_group):\n",
    "                monitor_group[key] = monitor_event_group.pop(key)\n",
    "            del monitor_group[f'{monitor_name}_events']\n"
   ]
  },
  {
   "cell_type": "code",
   "execution_count": 3,
   "id": "5a37efeb-5294-41ed-a80c-b6f3e4bf68ef",
   "metadata": {},
   "outputs": [
    {
     "data": {
      "application/vnd.jupyter.widget-view+json": {
       "model_id": "a899a1d7d9c246a78a4fe70edb6c295f",
       "version_major": 2,
       "version_minor": 0
      },
      "text/plain": [
       "FileChooser(path='/Users/wojciechpotrzebowski/SCIPP_SPACE/loki_detector_test/ess/docs/instruments/loki/Larmor_…"
      ]
     },
     "metadata": {},
     "output_type": "display_data"
    }
   ],
   "source": [
    "# Create and display a FileChooser widget\n",
    "fc = FileChooser('/Users/wojciechpotrzebowski/SCIPP_SPACE/loki_detector_test/ess/docs/instruments/loki/Larmor_data')\n",
    "display(fc)"
   ]
  },
  {
   "cell_type": "markdown",
   "id": "47c4fbf0-1bab-4c37-8e2a-c454f1168756",
   "metadata": {},
   "source": [
    "### Load and show data"
   ]
  },
  {
   "cell_type": "code",
   "execution_count": 52,
   "id": "64523d8e-d265-4598-8712-7d316f2c8a5e",
   "metadata": {},
   "outputs": [],
   "source": [
    "input_file = fc.selected\n",
    "fixed_file = f'{input_file[:-4]}_fixed.nxs'"
   ]
  },
  {
   "cell_type": "code",
   "execution_count": 53,
   "id": "a8e6c586-deae-4afa-bae2-aee73792ff76",
   "metadata": {},
   "outputs": [],
   "source": [
    "fix_nexus_file(input_file, fixed_file)"
   ]
  },
  {
   "cell_type": "code",
   "execution_count": 54,
   "id": "83705f52-944c-4a8c-a2b6-67fe8cb80445",
   "metadata": {},
   "outputs": [
    {
     "name": "stderr",
     "output_type": "stream",
     "text": [
      "/Users/wojciechpotrzebowski/opt/anaconda3/envs/ess_0.4/lib/python3.8/site-packages/scippneutron/file_loading/_monitor_data.py:66: UserWarning: Event data present in NXmonitor group /entry/instrument/monitor_1. Histogram-mode monitor data from this group will be ignored.\n",
      "  warnings.warn(f\"Event data present in NXmonitor group {group.name}. \"\n",
      "/Users/wojciechpotrzebowski/opt/anaconda3/envs/ess_0.4/lib/python3.8/site-packages/scippneutron/file_loading/_monitor_data.py:66: UserWarning: Event data present in NXmonitor group /entry/instrument/monitor_2. Histogram-mode monitor data from this group will be ignored.\n",
      "  warnings.warn(f\"Event data present in NXmonitor group {group.name}. \"\n"
     ]
    }
   ],
   "source": [
    "data = scn.load_nexus(data_file=fixed_file)"
   ]
  },
  {
   "cell_type": "markdown",
   "id": "83ab3deb-26e2-4de2-9308-5b88c19a35e7",
   "metadata": {},
   "source": [
    "### Plot data and show how many events and pixels do we have"
   ]
  },
  {
   "cell_type": "code",
   "execution_count": 55,
   "id": "53639cd5-5b7c-423c-9e17-e4f648ae9712",
   "metadata": {},
   "outputs": [
    {
     "data": {
      "text/html": [
       "<div><!-- Original source from -->\n",
       "<!-- https://github.com/jsignell/xarray/blob/1d960933ab252e0f79f7e050e6c9261d55568057/xarray/static/html/icons-svg-inline.html -->\n",
       "<svg style=\"position: absolute; width: 0; height: 0; overflow: hidden\">\n",
       "<defs>\n",
       "<symbol id=\"icon-database\" viewBox=\"0 0 32 32\">\n",
       "<title>Show/Hide data repr</title>\n",
       "<path d=\"M16 0c-8.837 0-16 2.239-16 5v4c0 2.761 7.163 5 16 5s16-2.239 16-5v-4c0-2.761-7.163-5-16-5z\"></path>\n",
       "<path d=\"M16 17c-8.837 0-16-2.239-16-5v6c0 2.761 7.163 5 16 5s16-2.239 16-5v-6c0 2.761-7.163 5-16 5z\"></path>\n",
       "<path d=\"M16 26c-8.837 0-16-2.239-16-5v6c0 2.761 7.163 5 16 5s16-2.239 16-5v-6c0 2.761-7.163 5-16 5z\"></path>\n",
       "</symbol>\n",
       "<symbol id=\"icon-file-text2\" viewBox=\"0 0 32 32\">\n",
       "<title>Show/Hide attributes</title>\n",
       "<path d=\"M28.681 7.159c-0.694-0.947-1.662-2.053-2.724-3.116s-2.169-2.030-3.116-2.724c-1.612-1.182-2.393-1.319-2.841-1.319h-15.5c-1.378 0-2.5 1.121-2.5 2.5v27c0 1.378 1.122 2.5 2.5 2.5h23c1.378 0 2.5-1.122 2.5-2.5v-19.5c0-0.448-0.137-1.23-1.319-2.841zM24.543 5.457c0.959 0.959 1.712 1.825 2.268 2.543h-4.811v-4.811c0.718 0.556 1.584 1.309 2.543 2.268zM28 29.5c0 0.271-0.229 0.5-0.5 0.5h-23c-0.271 0-0.5-0.229-0.5-0.5v-27c0-0.271 0.229-0.5 0.5-0.5 0 0 15.499-0 15.5 0v7c0 0.552 0.448 1 1 1h7v19.5z\"></path>\n",
       "<path d=\"M23 26h-14c-0.552 0-1-0.448-1-1s0.448-1 1-1h14c0.552 0 1 0.448 1 1s-0.448 1-1 1z\"></path>\n",
       "<path d=\"M23 22h-14c-0.552 0-1-0.448-1-1s0.448-1 1-1h14c0.552 0 1 0.448 1 1s-0.448 1-1 1z\"></path>\n",
       "<path d=\"M23 18h-14c-0.552 0-1-0.448-1-1s0.448-1 1-1h14c0.552 0 1 0.448 1 1s-0.448 1-1 1z\"></path>\n",
       "</symbol>\n",
       "</defs>\n",
       "</svg><style id=\"scipp-style-sheet\">.sc-root{--sc-background-color0:var(--jp-layout-color0,#fff);--sc-background-color1:var(--jp-layout-color1,#fcfcfc);--sc-background-color2:var(--jp-layout-color2,#efefef);--sc-inverse-background-color0:var(--jp-inverse-layout-color4,#111);--sc-font-color0:var(--jp-content-font-color0,#000);--sc-font-color1:var(--jp-content-font-color1,#555);--sc-font-color2:var(--jp-content-font-color2,#888);--sc-font-color3:var(--jp-content-font-color3,#ccc);--sc-table-data-color:#f6d028;--sc-table-coords-color:#c6e590;--sc-table-masks-color:#c8c8c8;--sc-table-attrs-color:#ff5555;--sc-table-header-font-color:#111111;}.sc-wrap{font-size:14px;min-width:300px;max-width:800px;}.sc-var-attrs .sc-wrap{padding-left:3em;}.sc-header{padding-top:6px;padding-bottom:6px;margin-bottom:4px;border-bottom:solid 1px #ddd;}.sc-header > div,.sc-header > ul{display:inline;margin-top:0;margin-bottom:0;}.sc-obj-type,.sc-array-name{margin-left:2px;margin-right:10px;}.sc-obj-type{color:var(--sc-font-color1);}.sc-underlying-size{color:var(--sc-font-color2);}.sc-sections{padding-left:0 !important;display:grid;grid-template-columns:150px auto auto auto 1fr 20px 20px;}.sc-section-item{display:contents;}.sc-section-item input{display:none;}.sc-section-item input:enabled + label{cursor:pointer;color:var(--sc-font-color1);}.sc-section-item input:enabled + label:hover{color:var(--sc-font-color0);}.sc-section-summary{grid-column:1;font-weight:500;}.sc-section-summary > span{display:inline-block;padding-left:0.5em;}.sc-section-summary-in:disabled + label{color:var(--sc-font-color1);}.sc-section-summary-in + label:before{display:inline-block;content:'►';font-size:11px;width:15px;text-align:center;}.sc-section-summary-in:disabled + label:before{color:var(--sc-font-color3);}.sc-section-summary-in:checked + label:before{content:'▼';}.sc-section-summary-in:checked + label > span{display:none;}.sc-section-summary,.sc-section-inline-details{padding-top:4px;padding-bottom:4px;}.sc-section-inline-details{grid-column:2 / 6;}.sc-section-details{display:none;grid-column:1 / -1;margin-bottom:5px;}.sc-section-summary-in:checked ~ .sc-section-details{display:contents;}.sc-array-wrap{grid-column:1 / -1;display:grid;grid-template-columns:20px auto;}.sc-array-wrap > label{grid-column:1;vertical-align:top;}.sc-preview{color:var(--sc-font-color2);}.sc-array-preview,.sc-array-data{padding:0 5px !important;grid-column:2;}.sc-array-data,.sc-array-in:checked ~ .sc-array-preview{display:none;}.sc-array-in:checked ~ .sc-array-data,.sc-array-preview{display:inline-block;}.sc-dim-list{display:inline-block !important;list-style:none;padding:0 !important;margin:0;}.sc-dim-list li{display:inline-block;padding:0;margin:0!important;}.sc-dim-list:before{content:'(';}.sc-dim-list:after{content:')';}.sc-dim-list li:not(:last-child):after{content:',';padding-right:5px;}.sc-has-index{font-weight:bold;}.sc-var-list,.sc-var-item{display:contents;}.sc-var-item > div,.sc-var-item label,.sc-var-item > .sc-var-name span{background-color:var(--sc-background-color1);margin-bottom:0;}.sc-var-item > .sc-var-name:hover span{padding-right:5px;}.sc-var-list > li:nth-child(odd) > div,.sc-var-list > li:nth-child(odd) > label,.sc-var-list > li:nth-child(odd) > .sc-var-name span{background-color:var(--sc-background-color2);}.sc-var-name{grid-column:1;}.sc-var-dims{grid-column:2;}.sc-var-dtype{grid-column:3;text-align:right;color:var(--sc-font-color2);}.sc-var-unit{grid-column:4;text-align:left;color:var(--sc-font-color1);max-width:50pt;text-overflow:ellipsis;}.sc-value-preview{grid-column:5;}.sc-var-preview-variances{text-align:right;}.sc-sections .sc-section-item .sc-section-summary,.sc-sections .sc-section-item .sc-section-inline-details,.sc-section-item .sc-var-list .sc-var-item > div,.sc-section-item .sc-var-list .sc-var-item > label,.sc-section-details .sc-var-list .sc-var-item > div,.sc-section-details .sc-var-list .sc-var-item > label{margin-top:0;margin-bottom:0;}.sc-var-name,.sc-var-dims,.sc-var-dtype,.sc-var-unit,.sc-preview,.sc-attrs dt{white-space:nowrap;overflow:hidden;text-overflow:ellipsis;padding-right:10px;}.sc-var-name:hover,.sc-var-dims:hover,.sc-var-dtype:hover,.sc-var-unit:hover,.sc-attrs dt:hover{overflow:visible;width:auto;z-index:1;}.sc-var-attrs{display:block;}.sc-var-data{display:none;}.sc-var-attrs,.sc-var-data{background-color:var(--sc-background-color0) !important;padding-bottom:5px !important;}.sc-var-attrs-in:checked ~ .sc-var-attrs{display:none;}.sc-var-data-in:checked ~ .sc-var-data{display:block;}.sc-var-data > table{float:right;}.sc-var-name span,.sc-var-data{padding-left:25px !important;}.sc-var-attrs,.sc-var-data{grid-column:1 / -1;}dl.sc-attrs{padding:0;margin:0;display:grid;grid-template-columns:125px auto;}.sc-attrs dt,dd{padding:0;margin:0;float:left;padding-right:10px;width:auto;}.sc-attrs dt{font-weight:normal;grid-column:1;}.sc-attrs dt:hover span{display:inline-block;padding-right:10px;}.sc-attrs dd{grid-column:2;white-space:pre-wrap;word-break:break-all;}.sc-icon-database,.sc-icon-file-text2{display:inline-block;vertical-align:middle;width:1em;height:1.5em !important;stroke-width:0;stroke:currentColor;fill:currentColor;}label.sc-hide-icon svg{opacity:0;}.sc-standalone-var-name{grid-column:1/3;}.sc-standalone-var-name span{padding-left:25px;padding-right:10px;}.sc-table{border-collapse:collapse;}.sc-title{font-weight:bold;font-size:1.5em;}.sc-subtitle{font-weight:normal;font-style:italic;text-align:left;font-size:1.2em;padding:1px;}.sc-table th,.sc-table td{border:1px solid var(--sc-inverse-background-color0);padding:0 5px 0 5px;}.sc-table th{text-align:center;}.sc-table tr{background-color:var(--sc-background-color1);text-align:right;}.sc-table tr:hover{background-color:var(--sc-background-color2);}.sc-table th.sc-data{background-color:var(--sc-table-data-color);color:var(--sc-table-header-font-color);}.sc-table th.sc-coords{background-color:var(--sc-table-coords-color);color:var(--sc-table-header-font-color);}.sc-table th.sc-masks{background-color:var(--sc-table-masks-color);color:var(--sc-table-header-font-color);}.sc-table th.sc-attrs{background-color:var(--sc-table-attrs-color);color:var(--sc-table-header-font-color);}.sc-table th.sc-subheader{background-color:var(--sc-background-color2);}.sc-table td.sc-padding{background-color:var(--sc-background-color1);border:0 solid var(--sc-background-color1);height:1.2em;}.sc-label{fill:var(--sc-font-color0,#444444);text-anchor:middle;}.sc-name{fill:var(--sc-font-color0,#111111);}.sc-inset-line{stroke:var(--sc-font-color1);stroke-width:0.05;stroke-dasharray:0.2,0.2;}.sc-log-wrap{height:25ex;resize:vertical;overflow-y:scroll;display:flex;flex-direction:column-reverse;border:1px solid;border-color:var(--jp-border-color2);background-color:var(--sc-background-color1);}div.sc-log{line-height:2.5ex;}table.sc-log{table-layout:auto;border-collapse:collapse;}tr.sc-log:nth-child(even){background-color:var(--sc-background-color0);}tr.sc-log > td{vertical-align:top;padding-bottom:0.5ex;}.sc-log-time-stamp{min-width:22ch;font-family:var(--jp-code-font-family);color:var(--sc-font-color2);}.sc-log-level{min-width:10ch;}tr.sc-log-debug td.sc-log-level{color:var(--jp-accent-color1);}tr.sc-log-info td.sc-log-level{color:var(--jp-info-color1);}tr.sc-log-warning td.sc-log-level{color:var(--jp-warn-color1);}tr.sc-log-error td.sc-log-level{font-weight:bold;color:var(--jp-error-color2);}tr.sc-log-critical td.sc-log-level{font-weight:bold;color:var(--sc-background-color0);background-color:var(--jp-error-color1);}.sc-log-message{white-space:pre-wrap;width:100%;}.sc-log-html-payload{white-space:normal;}.sc-log-name{padding-right:0.5em;text-align:right;white-space:pre-wrap;color:var(--sc-font-color3);}</style><div class='sc-wrap sc-root'><div class='sc-header'><div class='sc-obj-type'>scipp.DataArray (37.07 MB)</div></div><ul class='sc-sections'><li class='sc-section-item'><input id='section-f6003160-4116-4c54-96c0-213bd08cd52f' class='sc-section-summary-in' type='checkbox' disabled ><label for='section-f6003160-4116-4c54-96c0-213bd08cd52f' class='sc-section-summary'  title='Expand/collapse section'>Dimensions:</label><div class='sc-section-inline-details'><ul class='sc-dim-list'><li><span class='sc-has-index'>detector_id</span>: 458752</li><li><span class='sc-has-index'>tof</span>: 1</li></ul></div><div class='sc-section-details'></div></li><li class='sc-section-item'><input id='section-5b43bc6e-e7e5-4b12-83fd-aaea831284ae' class='sc-section-summary-in' type='checkbox'  checked><label for='section-5b43bc6e-e7e5-4b12-83fd-aaea831284ae' class='sc-section-summary' >Coordinates: <span>(5)</span></label><div class='sc-section-inline-details'></div><div class='sc-section-details'><ul class='sc-var-list'><li class='sc-var-item'><div class='sc-var-name'><span class='sc-has-index'>detector_id</span></div><div class='sc-var-dims'>(detector_id)</div><div class='sc-var-dtype'>int32</div><div class='sc-var-unit'></div><div class='sc-value-preview sc-preview'><span><div>1, 2, ..., 458751, 458752</div></span></div><input id='attrs-e1cc38e2-8858-4525-9bbf-5b19bcef8847' class='sc-var-attrs-in' type='checkbox' disabled><label for='attrs-e1cc38e2-8858-4525-9bbf-5b19bcef8847' class='sc-hide-icon' title='Show/Hide attributes'><svg class='icon sc-icon-file-text2'><use xlink:href='#icon-file-text2'></use></svg></label><input id='data-16261adc-ff7a-4ccc-aeb8-9946e09ed822' class='sc-var-data-in' type='checkbox'><label for='data-16261adc-ff7a-4ccc-aeb8-9946e09ed822' title='Show/Hide data repr'><svg class='icon sc-icon-database'><use xlink:href='#icon-database'></use></svg></label><pre class='sc-var-data'>Values:<br>array([     1,      2,      3, ..., 458750, 458751, 458752], dtype=int32)</pre></span></li><li class='sc-var-item'><div class='sc-var-name'><span>position</span></div><div class='sc-var-dims'>(detector_id)</div><div class='sc-var-dtype'>vector3</div><div class='sc-var-unit'>m</div><div class='sc-value-preview sc-preview'><span><div>[-0.49902348  0.45325998  4.42332983], [-0.49707429  0.45325998  4.42332983], ..., [ 0.49506118 -0.44370004  4.51744683], [ 0.49701031 -0.44370004  4.51744683]</div></span></div><input id='attrs-31f7c207-1505-4607-ab31-4825c95a0a95' class='sc-var-attrs-in' type='checkbox' disabled><label for='attrs-31f7c207-1505-4607-ab31-4825c95a0a95' class='sc-hide-icon' title='Show/Hide attributes'><svg class='icon sc-icon-file-text2'><use xlink:href='#icon-file-text2'></use></svg></label><input id='data-17abb42f-ce53-44f3-8e65-87a0c1516734' class='sc-var-data-in' type='checkbox'><label for='data-17abb42f-ce53-44f3-8e65-87a0c1516734' title='Show/Hide data repr'><svg class='icon sc-icon-database'><use xlink:href='#icon-database'></use></svg></label><pre class='sc-var-data'>Values:<br>array([[-0.49902348,  0.45325998,  4.42332983],\n",
       "       [-0.49707429,  0.45325998,  4.42332983],\n",
       "       [-0.49512511,  0.45325998,  4.42332983],\n",
       "       ...,\n",
       "       [ 0.49311198, -0.44370004,  4.51744683],\n",
       "       [ 0.49506118, -0.44370004,  4.51744683],\n",
       "       [ 0.49701031, -0.44370004,  4.51744683]])</pre></span></li><li class='sc-var-item'><div class='sc-var-name'><span>sample_position</span></div><div class='sc-var-dims'>()</div><div class='sc-var-dtype'>vector3</div><div class='sc-var-unit'>m</div><div class='sc-value-preview sc-preview'><span><div>[0. 0. 0.]</div></span></div><input id='attrs-ffc343a0-42ad-4cf2-bb24-475b22af98fb' class='sc-var-attrs-in' type='checkbox' disabled><label for='attrs-ffc343a0-42ad-4cf2-bb24-475b22af98fb' class='sc-hide-icon' title='Show/Hide attributes'><svg class='icon sc-icon-file-text2'><use xlink:href='#icon-file-text2'></use></svg></label><input id='data-7529bc38-4b59-4c9a-bc72-cc32ad9db24b' class='sc-var-data-in' type='checkbox'><label for='data-7529bc38-4b59-4c9a-bc72-cc32ad9db24b' title='Show/Hide data repr'><svg class='icon sc-icon-database'><use xlink:href='#icon-database'></use></svg></label><pre class='sc-var-data'>Values:<br>array([0., 0., 0.])</pre></span></li><li class='sc-var-item'><div class='sc-var-name'><span>source_position</span></div><div class='sc-var-dims'>()</div><div class='sc-var-dtype'>vector3</div><div class='sc-var-unit'>m</div><div class='sc-value-preview sc-preview'><span><div>[  0.           0.         -25.29999924]</div></span></div><input id='attrs-4fd17f40-8eef-47fe-b695-5857fc68a94a' class='sc-var-attrs-in' type='checkbox' disabled><label for='attrs-4fd17f40-8eef-47fe-b695-5857fc68a94a' class='sc-hide-icon' title='Show/Hide attributes'><svg class='icon sc-icon-file-text2'><use xlink:href='#icon-file-text2'></use></svg></label><input id='data-700366b6-9aae-4871-85e0-c0c7fd08dffc' class='sc-var-data-in' type='checkbox'><label for='data-700366b6-9aae-4871-85e0-c0c7fd08dffc' title='Show/Hide data repr'><svg class='icon sc-icon-database'><use xlink:href='#icon-database'></use></svg></label><pre class='sc-var-data'>Values:<br>array([  0.        ,   0.        , -25.29999924])</pre></span></li><li class='sc-var-item'><div class='sc-var-name'><span class='sc-has-index'>tof</span></div><div class='sc-var-dims'>(tof [bin-edge])</div><div class='sc-var-dtype'>int32</div><div class='sc-var-unit'>ns</div><div class='sc-value-preview sc-preview'><span><div>56, 99999728</div></span></div><input id='attrs-7ed23c88-26ea-4027-ae74-811887a5a1ca' class='sc-var-attrs-in' type='checkbox' disabled><label for='attrs-7ed23c88-26ea-4027-ae74-811887a5a1ca' class='sc-hide-icon' title='Show/Hide attributes'><svg class='icon sc-icon-file-text2'><use xlink:href='#icon-file-text2'></use></svg></label><input id='data-53ec22e8-f240-4320-8ccf-7d9232a87442' class='sc-var-data-in' type='checkbox'><label for='data-53ec22e8-f240-4320-8ccf-7d9232a87442' title='Show/Hide data repr'><svg class='icon sc-icon-database'><use xlink:href='#icon-database'></use></svg></label><pre class='sc-var-data'>Values:<br>array([      56, 99999728], dtype=int32)</pre></span></li></ul></div></li><li class='sc-section-item'><input id='section-6601d32e-6f2c-4a37-98df-c2f59e0cfa27' class='sc-section-summary-in' type='checkbox'  checked><label for='section-6601d32e-6f2c-4a37-98df-c2f59e0cfa27' class='sc-section-summary' >Data: <span>(1)</span></label><div class='sc-section-inline-details'></div><div class='sc-section-details'><ul class='sc-var-list'><li class='sc-var-item'><div class='sc-var-name'><span></span></div><div class='sc-var-dims'>(detector_id, tof)</div><div class='sc-var-dtype'>DataArrayView</div><div class='sc-var-unit'></div><div class='sc-value-preview sc-preview'><span><div>binned data [len=0, len=0, ..., len=0, len=0]</div></span></div><input id='attrs-25990dee-e07b-4a06-9d93-4d455d231ec1' class='sc-var-attrs-in' type='checkbox' disabled><label for='attrs-25990dee-e07b-4a06-9d93-4d455d231ec1' class='sc-hide-icon' title='Show/Hide attributes'><svg class='icon sc-icon-file-text2'><use xlink:href='#icon-file-text2'></use></svg></label><input id='data-5347cdf6-0e38-4d59-9e94-f721a0504b6d' class='sc-var-data-in' type='checkbox'><label for='data-5347cdf6-0e38-4d59-9e94-f721a0504b6d' title='Show/Hide data repr'><svg class='icon sc-icon-database'><use xlink:href='#icon-database'></use></svg></label><pre class='sc-var-data'>Values:<br>[&lt;scipp.DataArray&gt;\n",
       "Dimensions: Sizes[event:0, ]\n",
       "Coordinates:\n",
       "  pulse_time              datetime64             [ns]  (event)  []\n",
       "  tof                         int32             [ns]  (event)  []\n",
       "Data:\n",
       "                            float32         [counts]  (event)  []  []\n",
       "\n",
       ", &lt;scipp.DataArray&gt;\n",
       "Dimensions: Sizes[event:0, ]\n",
       "Coordinates:\n",
       "  pulse_time              datetime64             [ns]  (event)  []\n",
       "  tof                         int32             [ns]  (event)  []\n",
       "Data:\n",
       "                            float32         [counts]  (event)  []  []\n",
       "\n",
       ", ..., &lt;scipp.DataArray&gt;\n",
       "Dimensions: Sizes[event:0, ]\n",
       "Coordinates:\n",
       "  pulse_time              datetime64             [ns]  (event)  []\n",
       "  tof                         int32             [ns]  (event)  []\n",
       "Data:\n",
       "                            float32         [counts]  (event)  []  []\n",
       "\n",
       ", &lt;scipp.DataArray&gt;\n",
       "Dimensions: Sizes[event:0, ]\n",
       "Coordinates:\n",
       "  pulse_time              datetime64             [ns]  (event)  []\n",
       "  tof                         int32             [ns]  (event)  []\n",
       "Data:\n",
       "                            float32         [counts]  (event)  []  []\n",
       "\n",
       "]</pre></li></ul></div></li><li class='sc-section-item'><input id='section-14a62743-3d4e-48f3-b4fc-439da1fecf2c' class='sc-section-summary-in' type='checkbox'  ><label for='section-14a62743-3d4e-48f3-b4fc-439da1fecf2c' class='sc-section-summary' >Attributes: <span>(12)</span></label><div class='sc-section-inline-details'></div><div class='sc-section-details'><ul class='sc-var-list'><li class='sc-var-item'><div class='sc-var-name'><span>base_position</span></div><div class='sc-var-dims'>(detector_id)</div><div class='sc-var-dtype'>vector3</div><div class='sc-var-unit'>m</div><div class='sc-value-preview sc-preview'><span><div>[ 0.      -0.00114 -0.00767], [ 0.00194919 -0.00114    -0.00767   ], ..., [ 0.99408466 -0.89810002  0.086447  ], [ 0.99603379 -0.89810002  0.086447  ]</div></span></div><input id='attrs-095c7b18-91a7-4ab0-b662-ceb233b440c8' class='sc-var-attrs-in' type='checkbox' disabled><label for='attrs-095c7b18-91a7-4ab0-b662-ceb233b440c8' class='sc-hide-icon' title='Show/Hide attributes'><svg class='icon sc-icon-file-text2'><use xlink:href='#icon-file-text2'></use></svg></label><input id='data-407830bf-b138-4ed9-b4f7-92648ad1b0b4' class='sc-var-data-in' type='checkbox'><label for='data-407830bf-b138-4ed9-b4f7-92648ad1b0b4' title='Show/Hide data repr'><svg class='icon sc-icon-database'><use xlink:href='#icon-database'></use></svg></label><pre class='sc-var-data'>Values:<br>array([[ 0.        , -0.00114   , -0.00767   ],\n",
       "       [ 0.00194919, -0.00114   , -0.00767   ],\n",
       "       [ 0.00389837, -0.00114   , -0.00767   ],\n",
       "       ...,\n",
       "       [ 0.99213547, -0.89810002,  0.086447  ],\n",
       "       [ 0.99408466, -0.89810002,  0.086447  ],\n",
       "       [ 0.99603379, -0.89810002,  0.086447  ]])</pre></li><li class='sc-var-item'><div class='sc-var-name'><span>end_time</span></div><div class='sc-var-dims'>()</div><div class='sc-var-dtype'>string</div><div class='sc-var-unit'></div><div class='sc-value-preview sc-preview'><span><div>2032-03-02T10:17:12.656Z</div></span></div><input id='attrs-2b770d03-e715-41cd-9804-31cfa986d556' class='sc-var-attrs-in' type='checkbox' disabled><label for='attrs-2b770d03-e715-41cd-9804-31cfa986d556' class='sc-hide-icon' title='Show/Hide attributes'><svg class='icon sc-icon-file-text2'><use xlink:href='#icon-file-text2'></use></svg></label><input id='data-52afe142-4487-4485-98e9-a4c3790fb9fa' class='sc-var-data-in' type='checkbox'><label for='data-52afe142-4487-4485-98e9-a4c3790fb9fa' title='Show/Hide data repr'><svg class='icon sc-icon-database'><use xlink:href='#icon-database'></use></svg></label><pre class='sc-var-data'>Values:<br>&#x27;2032-03-02T10:17:12.656Z&#x27;</pre></li><li class='sc-var-item'><div class='sc-var-name'><span>experiment_title</span></div><div class='sc-var-dims'>()</div><div class='sc-var-dtype'>string</div><div class='sc-var-unit'></div><div class='sc-value-preview sc-preview'><span><div>My experiment</div></span></div><input id='attrs-c3a9182d-4f1c-438e-b541-14e97c4dc3a7' class='sc-var-attrs-in' type='checkbox' disabled><label for='attrs-c3a9182d-4f1c-438e-b541-14e97c4dc3a7' class='sc-hide-icon' title='Show/Hide attributes'><svg class='icon sc-icon-file-text2'><use xlink:href='#icon-file-text2'></use></svg></label><input id='data-d359ce3b-6064-4058-a878-8c1ec54f7757' class='sc-var-data-in' type='checkbox'><label for='data-d359ce3b-6064-4058-a878-8c1ec54f7757' title='Show/Hide data repr'><svg class='icon sc-icon-database'><use xlink:href='#icon-database'></use></svg></label><pre class='sc-var-data'>Values:<br>&#x27;My experiment&#x27;</pre></li><li class='sc-var-item'><div class='sc-var-name'><span>instrument_name</span></div><div class='sc-var-dims'>()</div><div class='sc-var-dtype'>string</div><div class='sc-var-unit'></div><div class='sc-value-preview sc-preview'><span><div>LARMOR</div></span></div><input id='attrs-b79f55dd-f6a4-4069-a1bc-47ae6617f2ac' class='sc-var-attrs-in' type='checkbox' disabled><label for='attrs-b79f55dd-f6a4-4069-a1bc-47ae6617f2ac' class='sc-hide-icon' title='Show/Hide attributes'><svg class='icon sc-icon-file-text2'><use xlink:href='#icon-file-text2'></use></svg></label><input id='data-b302c716-9e3a-47aa-b419-04c14550d80c' class='sc-var-data-in' type='checkbox'><label for='data-b302c716-9e3a-47aa-b419-04c14550d80c' title='Show/Hide data repr'><svg class='icon sc-icon-database'><use xlink:href='#icon-database'></use></svg></label><pre class='sc-var-data'>Values:<br>&#x27;LARMOR&#x27;</pre></li><li class='sc-var-item'><div class='sc-var-name'><span>monitor_1</span></div><div class='sc-var-dims'>()</div><div class='sc-var-dtype'>DataArray</div><div class='sc-var-unit'></div><div class='sc-value-preview sc-preview'><span><div>{dims=[detector_id: 1, tof: 1], unit=None, coords=[tof, detector_id]}</div></span></div><input id='attrs-4a5998d7-4049-421e-a912-de8bfbd65779' class='sc-var-attrs-in' type='checkbox' disabled><label for='attrs-4a5998d7-4049-421e-a912-de8bfbd65779' class='sc-hide-icon' title='Show/Hide attributes'><svg class='icon sc-icon-file-text2'><use xlink:href='#icon-file-text2'></use></svg></label><input id='data-0ab436ab-0871-4bd6-80fc-57c706c9e765' class='sc-var-data-in' type='checkbox'><label for='data-0ab436ab-0871-4bd6-80fc-57c706c9e765' title='Show/Hide data repr'><svg class='icon sc-icon-database'><use xlink:href='#icon-database'></use></svg></label><pre class='sc-var-data'>Values:<br>&lt;scipp.DataArray&gt;\n",
       "Dimensions: Sizes[detector_id:1, tof:1, ]\n",
       "Coordinates:\n",
       "  detector_id                 int32           [None]  (detector_id)  [1]\n",
       "  tof                         int32             [ns]  (tof [bin-edge])  [23679, 99998968]\n",
       "Data:\n",
       "                          DataArrayView           [None]  (detector_id, tof)  [&lt;scipp.DataArray&gt;\n",
       "Dimensions: Sizes[event:2761297, ]\n",
       "Coordinates:\n",
       "  pulse_time              datetime64             [ns]  (event)  [2022-03-02T22:17:12.106361659, 2022-03-02T22:17:12.106361659, ..., 2022-03-02T22:25:02.506346157, 2022-03-02T22:25:02.506346157]\n",
       "  tof                         int32             [ns]  (event)  [11346719, 11364868, ..., 31172130, 31738849]\n",
       "Data:\n",
       "                            float32         [counts]  (event)  [1, 1, ..., 1, 1]  [1, 1, ..., 1, 1]\n",
       "\n",
       "]\n",
       "\n",
       "</pre></li><li class='sc-var-item'><div class='sc-var-name'><span>monitor_2</span></div><div class='sc-var-dims'>()</div><div class='sc-var-dtype'>DataArray</div><div class='sc-var-unit'></div><div class='sc-value-preview sc-preview'><span><div>{dims=[detector_id: 1, tof: 1], unit=None, coords=[tof, detector_id]}</div></span></div><input id='attrs-87a956c3-da77-4dea-a96f-f08560568a97' class='sc-var-attrs-in' type='checkbox' disabled><label for='attrs-87a956c3-da77-4dea-a96f-f08560568a97' class='sc-hide-icon' title='Show/Hide attributes'><svg class='icon sc-icon-file-text2'><use xlink:href='#icon-file-text2'></use></svg></label><input id='data-e022d0f7-f890-4501-a748-67346ebb7564' class='sc-var-data-in' type='checkbox'><label for='data-e022d0f7-f890-4501-a748-67346ebb7564' title='Show/Hide data repr'><svg class='icon sc-icon-database'><use xlink:href='#icon-database'></use></svg></label><pre class='sc-var-data'>Values:<br>&lt;scipp.DataArray&gt;\n",
       "Dimensions: Sizes[detector_id:1, tof:1, ]\n",
       "Coordinates:\n",
       "  detector_id                 int32           [None]  (detector_id)  [2]\n",
       "  tof                         int32             [ns]  (tof [bin-edge])  [4271, 99999706]\n",
       "Data:\n",
       "                          DataArrayView           [None]  (detector_id, tof)  [&lt;scipp.DataArray&gt;\n",
       "Dimensions: Sizes[event:11181303, ]\n",
       "Coordinates:\n",
       "  pulse_time              datetime64             [ns]  (event)  [2022-03-02T22:17:12.106361659, 2022-03-02T22:17:12.106361659, ..., 2022-03-02T22:25:02.506346157, 2022-03-02T22:25:02.506346157]\n",
       "  tof                         int32             [ns]  (event)  [11363198, 11478845, ..., 85878402, 86371028]\n",
       "Data:\n",
       "                            float32         [counts]  (event)  [1, 1, ..., 1, 1]  [1, 1, ..., 1, 1]\n",
       "\n",
       "]\n",
       "\n",
       "</pre></li><li class='sc-var-item'><div class='sc-var-name'><span>position_transformations</span></div><div class='sc-var-dims'>()</div><div class='sc-var-dtype'>Variable</div><div class='sc-var-unit'></div><div class='sc-value-preview sc-preview'><span><div>&lt;scipp.Variable&gt; ()  affine_transform3              [m]  [        1         0         0 -0.499023\n",
       "        0         1         0    0.4544\n",
       "        0         0         1     4.431\n",
       "        0         0         0         1]</div></span></div><input id='attrs-8f45c55c-236e-4a3b-9081-4625f6e8b46f' class='sc-var-attrs-in' type='checkbox' disabled><label for='attrs-8f45c55c-236e-4a3b-9081-4625f6e8b46f' class='sc-hide-icon' title='Show/Hide attributes'><svg class='icon sc-icon-file-text2'><use xlink:href='#icon-file-text2'></use></svg></label><input id='data-2ac5d353-32e5-43aa-9896-b01545aa3c9d' class='sc-var-data-in' type='checkbox'><label for='data-2ac5d353-32e5-43aa-9896-b01545aa3c9d' title='Show/Hide data repr'><svg class='icon sc-icon-database'><use xlink:href='#icon-database'></use></svg></label><pre class='sc-var-data'>Values:<br>&lt;scipp.Variable&gt; ()  affine_transform3              [m]  [        1         0         0 -0.499023\n",
       "        0         1         0    0.4544\n",
       "        0         0         1     4.431\n",
       "        0         0         0         1]</pre></li><li class='sc-var-item'><div class='sc-var-name'><span>sample_base_position</span></div><div class='sc-var-dims'>()</div><div class='sc-var-dtype'>vector3</div><div class='sc-var-unit'>m</div><div class='sc-value-preview sc-preview'><span><div>[0. 0. 0.]</div></span></div><input id='attrs-9bc9e328-8ef7-476e-8011-0a1ad93e44de' class='sc-var-attrs-in' type='checkbox' disabled><label for='attrs-9bc9e328-8ef7-476e-8011-0a1ad93e44de' class='sc-hide-icon' title='Show/Hide attributes'><svg class='icon sc-icon-file-text2'><use xlink:href='#icon-file-text2'></use></svg></label><input id='data-ddb675e5-71fa-4a69-a097-d4f8fa2a38c5' class='sc-var-data-in' type='checkbox'><label for='data-ddb675e5-71fa-4a69-a097-d4f8fa2a38c5' title='Show/Hide data repr'><svg class='icon sc-icon-database'><use xlink:href='#icon-database'></use></svg></label><pre class='sc-var-data'>Values:<br>array([0., 0., 0.])</pre></li><li class='sc-var-item'><div class='sc-var-name'><span>sample_transform</span></div><div class='sc-var-dims'>()</div><div class='sc-var-dtype'>Variable</div><div class='sc-var-unit'></div><div class='sc-value-preview sc-preview'><span><div>&lt;scipp.Variable&gt; ()  translation3              [m]  [(0, 0, 0)]</div></span></div><input id='attrs-06ab0316-6a70-46d3-97fb-2fe8474f1313' class='sc-var-attrs-in' type='checkbox' disabled><label for='attrs-06ab0316-6a70-46d3-97fb-2fe8474f1313' class='sc-hide-icon' title='Show/Hide attributes'><svg class='icon sc-icon-file-text2'><use xlink:href='#icon-file-text2'></use></svg></label><input id='data-3d55ec68-36a5-4ec7-8a52-c396dea3d362' class='sc-var-data-in' type='checkbox'><label for='data-3d55ec68-36a5-4ec7-8a52-c396dea3d362' title='Show/Hide data repr'><svg class='icon sc-icon-database'><use xlink:href='#icon-database'></use></svg></label><pre class='sc-var-data'>Values:<br>&lt;scipp.Variable&gt; ()  translation3              [m]  [(0, 0, 0)]</pre></li><li class='sc-var-item'><div class='sc-var-name'><span>source_base_position</span></div><div class='sc-var-dims'>()</div><div class='sc-var-dtype'>vector3</div><div class='sc-var-unit'>m</div><div class='sc-value-preview sc-preview'><span><div>[0. 0. 0.]</div></span></div><input id='attrs-eec514f9-f371-4bfd-a898-84c4c61e935d' class='sc-var-attrs-in' type='checkbox' disabled><label for='attrs-eec514f9-f371-4bfd-a898-84c4c61e935d' class='sc-hide-icon' title='Show/Hide attributes'><svg class='icon sc-icon-file-text2'><use xlink:href='#icon-file-text2'></use></svg></label><input id='data-4dea35d2-921e-4439-8b94-2e3df49837f8' class='sc-var-data-in' type='checkbox'><label for='data-4dea35d2-921e-4439-8b94-2e3df49837f8' title='Show/Hide data repr'><svg class='icon sc-icon-database'><use xlink:href='#icon-database'></use></svg></label><pre class='sc-var-data'>Values:<br>array([0., 0., 0.])</pre></li><li class='sc-var-item'><div class='sc-var-name'><span>source_transform</span></div><div class='sc-var-dims'>()</div><div class='sc-var-dtype'>Variable</div><div class='sc-var-unit'></div><div class='sc-value-preview sc-preview'><span><div>&lt;scipp.Variable&gt; ()  affine_transform3              [m]  [    1     0     0     0\n",
       "    0     1     0     0\n",
       "    0     0     1 -25.3\n",
       "    0     0     0     1]</div></span></div><input id='attrs-f52a6edb-36d3-4d8e-9b4e-6dd49ef7bb02' class='sc-var-attrs-in' type='checkbox' disabled><label for='attrs-f52a6edb-36d3-4d8e-9b4e-6dd49ef7bb02' class='sc-hide-icon' title='Show/Hide attributes'><svg class='icon sc-icon-file-text2'><use xlink:href='#icon-file-text2'></use></svg></label><input id='data-2c3c3f9e-f480-4291-9033-86104a3604c2' class='sc-var-data-in' type='checkbox'><label for='data-2c3c3f9e-f480-4291-9033-86104a3604c2' title='Show/Hide data repr'><svg class='icon sc-icon-database'><use xlink:href='#icon-database'></use></svg></label><pre class='sc-var-data'>Values:<br>&lt;scipp.Variable&gt; ()  affine_transform3              [m]  [    1     0     0     0\n",
       "    0     1     0     0\n",
       "    0     0     1 -25.3\n",
       "    0     0     0     1]</pre></li><li class='sc-var-item'><div class='sc-var-name'><span>start_time</span></div><div class='sc-var-dims'>()</div><div class='sc-var-dtype'>string</div><div class='sc-var-unit'></div><div class='sc-value-preview sc-preview'><span><div>2022-03-02T22:17:12.656Z</div></span></div><input id='attrs-9afbb096-dc47-44d2-8b62-4b994bc45fe6' class='sc-var-attrs-in' type='checkbox' disabled><label for='attrs-9afbb096-dc47-44d2-8b62-4b994bc45fe6' class='sc-hide-icon' title='Show/Hide attributes'><svg class='icon sc-icon-file-text2'><use xlink:href='#icon-file-text2'></use></svg></label><input id='data-4faf942d-f60d-4208-b9b4-fa2b0e6a0ce4' class='sc-var-data-in' type='checkbox'><label for='data-4faf942d-f60d-4208-b9b4-fa2b0e6a0ce4' title='Show/Hide data repr'><svg class='icon sc-icon-database'><use xlink:href='#icon-database'></use></svg></label><pre class='sc-var-data'>Values:<br>&#x27;2022-03-02T22:17:12.656Z&#x27;</pre></li></ul></div></li></ul></div></div>"
      ],
      "text/plain": [
       "<scipp.DataArray>\n",
       "Dimensions: Sizes[detector_id:458752, tof:1, ]\n",
       "Coordinates:\n",
       "  detector_id                 int32           [None]  (detector_id)  [1, 2, ..., 458751, 458752]\n",
       "  position                  vector3              [m]  (detector_id)  [(-0.499023, 0.45326, 4.42333), (-0.497074, 0.45326, 4.42333), ..., (0.495061, -0.4437, 4.51745), (0.49701, -0.4437, 4.51745)]\n",
       "  sample_position           vector3              [m]  ()  [(0, 0, 0)]\n",
       "  source_position           vector3              [m]  ()  [(0, 0, -25.3)]\n",
       "  tof                         int32             [ns]  (tof [bin-edge])  [56, 99999728]\n",
       "Data:\n",
       "                          DataArrayView           [None]  (detector_id, tof)  [<scipp.DataArray>\n",
       "Dimensions: Sizes[event:0, ]\n",
       "Coordinates:\n",
       "  pulse_time              datetime64             [ns]  (event)  []\n",
       "  tof                         int32             [ns]  (event)  []\n",
       "Data:\n",
       "                            float32         [counts]  (event)  []  []\n",
       "\n",
       ", <scipp.DataArray>\n",
       "Dimensions: Sizes[event:0, ]\n",
       "Coordinates:\n",
       "  pulse_time              datetime64             [ns]  (event)  []\n",
       "  tof                         int32             [ns]  (event)  []\n",
       "Data:\n",
       "                            float32         [counts]  (event)  []  []\n",
       "\n",
       ", ..., <scipp.DataArray>\n",
       "Dimensions: Sizes[event:0, ]\n",
       "Coordinates:\n",
       "  pulse_time              datetime64             [ns]  (event)  []\n",
       "  tof                         int32             [ns]  (event)  []\n",
       "Data:\n",
       "                            float32         [counts]  (event)  []  []\n",
       "\n",
       ", <scipp.DataArray>\n",
       "Dimensions: Sizes[event:0, ]\n",
       "Coordinates:\n",
       "  pulse_time              datetime64             [ns]  (event)  []\n",
       "  tof                         int32             [ns]  (event)  []\n",
       "Data:\n",
       "                            float32         [counts]  (event)  []  []\n",
       "\n",
       "]\n",
       "Attributes:\n",
       "  base_position             vector3              [m]  (detector_id)  [(0, -0.00114, -0.00767), (0.00194919, -0.00114, -0.00767), ..., (0.994085, -0.8981, 0.086447), (0.996034, -0.8981, 0.086447)]\n",
       "  end_time                   string           [None]  ()  [\"2032-03-02T10:17:12.656Z\"]\n",
       "  experiment_title           string           [None]  ()  [\"My experiment\"]\n",
       "  instrument_name            string           [None]  ()  [\"LARMOR\"]\n",
       "  monitor_1               DataArray           [None]  ()  [<scipp.DataArray>\n",
       "Dimensions: Sizes[detector_id:1, tof:1, ]\n",
       "Coordinates:\n",
       "  detector_id                 int32           [None]  (detector_id)  [1]\n",
       "  tof                         int32             [ns]  (tof [bin-edge])  [23679, 99998968]\n",
       "Data:\n",
       "                          DataArrayView           [None]  (detector_id, tof)  [<scipp.DataArray>\n",
       "Dimensions: Sizes[event:2761297, ]\n",
       "Coordinates:\n",
       "  pulse_time              datetime64             [ns]  (event)  [2022-03-02T22:17:12.106361659, 2022-03-02T22:17:12.106361659, ..., 2022-03-02T22:25:02.506346157, 2022-03-02T22:25:02.506346157]\n",
       "  tof                         int32             [ns]  (event)  [11346719, 11364868, ..., 31172130, 31738849]\n",
       "Data:\n",
       "                            float32         [counts]  (event)  [1, 1, ..., 1, 1]  [1, 1, ..., 1, 1]\n",
       "\n",
       "]\n",
       "\n",
       "]\n",
       "  monitor_2               DataArray           [None]  ()  [<scipp.DataArray>\n",
       "Dimensions: Sizes[detector_id:1, tof:1, ]\n",
       "Coordinates:\n",
       "  detector_id                 int32           [None]  (detector_id)  [2]\n",
       "  tof                         int32             [ns]  (tof [bin-edge])  [4271, 99999706]\n",
       "Data:\n",
       "                          DataArrayView           [None]  (detector_id, tof)  [<scipp.DataArray>\n",
       "Dimensions: Sizes[event:11181303, ]\n",
       "Coordinates:\n",
       "  pulse_time              datetime64             [ns]  (event)  [2022-03-02T22:17:12.106361659, 2022-03-02T22:17:12.106361659, ..., 2022-03-02T22:25:02.506346157, 2022-03-02T22:25:02.506346157]\n",
       "  tof                         int32             [ns]  (event)  [11363198, 11478845, ..., 85878402, 86371028]\n",
       "Data:\n",
       "                            float32         [counts]  (event)  [1, 1, ..., 1, 1]  [1, 1, ..., 1, 1]\n",
       "\n",
       "]\n",
       "\n",
       "]\n",
       "  position_transformations Variable           [None]  ()  [<scipp.Variable> ()  affine_transform3              [m]  [        1         0         0 -0.499023\n",
       "        0         1         0    0.4544\n",
       "        0         0         1     4.431\n",
       "        0         0         0         1]]\n",
       "  sample_base_position      vector3              [m]  ()  [(0, 0, 0)]\n",
       "  sample_transform         Variable           [None]  ()  [<scipp.Variable> ()  translation3              [m]  [(0, 0, 0)]]\n",
       "  source_base_position      vector3              [m]  ()  [(0, 0, 0)]\n",
       "  source_transform         Variable           [None]  ()  [<scipp.Variable> ()  affine_transform3              [m]  [    1     0     0     0\n",
       "    0     1     0     0\n",
       "    0     0     1 -25.3\n",
       "    0     0     0     1]]\n",
       "  start_time                 string           [None]  ()  [\"2022-03-02T22:17:12.656Z\"]\n"
      ]
     },
     "execution_count": 55,
     "metadata": {},
     "output_type": "execute_result"
    }
   ],
   "source": [
    "data"
   ]
  },
  {
   "cell_type": "code",
   "execution_count": 56,
   "id": "a1ea564e-31d9-4383-a351-15c75fa1d343",
   "metadata": {},
   "outputs": [
    {
     "data": {
      "text/html": [
       "<div><!-- Original source from -->\n",
       "<!-- https://github.com/jsignell/xarray/blob/1d960933ab252e0f79f7e050e6c9261d55568057/xarray/static/html/icons-svg-inline.html -->\n",
       "<svg style=\"position: absolute; width: 0; height: 0; overflow: hidden\">\n",
       "<defs>\n",
       "<symbol id=\"icon-database\" viewBox=\"0 0 32 32\">\n",
       "<title>Show/Hide data repr</title>\n",
       "<path d=\"M16 0c-8.837 0-16 2.239-16 5v4c0 2.761 7.163 5 16 5s16-2.239 16-5v-4c0-2.761-7.163-5-16-5z\"></path>\n",
       "<path d=\"M16 17c-8.837 0-16-2.239-16-5v6c0 2.761 7.163 5 16 5s16-2.239 16-5v-6c0 2.761-7.163 5-16 5z\"></path>\n",
       "<path d=\"M16 26c-8.837 0-16-2.239-16-5v6c0 2.761 7.163 5 16 5s16-2.239 16-5v-6c0 2.761-7.163 5-16 5z\"></path>\n",
       "</symbol>\n",
       "<symbol id=\"icon-file-text2\" viewBox=\"0 0 32 32\">\n",
       "<title>Show/Hide attributes</title>\n",
       "<path d=\"M28.681 7.159c-0.694-0.947-1.662-2.053-2.724-3.116s-2.169-2.030-3.116-2.724c-1.612-1.182-2.393-1.319-2.841-1.319h-15.5c-1.378 0-2.5 1.121-2.5 2.5v27c0 1.378 1.122 2.5 2.5 2.5h23c1.378 0 2.5-1.122 2.5-2.5v-19.5c0-0.448-0.137-1.23-1.319-2.841zM24.543 5.457c0.959 0.959 1.712 1.825 2.268 2.543h-4.811v-4.811c0.718 0.556 1.584 1.309 2.543 2.268zM28 29.5c0 0.271-0.229 0.5-0.5 0.5h-23c-0.271 0-0.5-0.229-0.5-0.5v-27c0-0.271 0.229-0.5 0.5-0.5 0 0 15.499-0 15.5 0v7c0 0.552 0.448 1 1 1h7v19.5z\"></path>\n",
       "<path d=\"M23 26h-14c-0.552 0-1-0.448-1-1s0.448-1 1-1h14c0.552 0 1 0.448 1 1s-0.448 1-1 1z\"></path>\n",
       "<path d=\"M23 22h-14c-0.552 0-1-0.448-1-1s0.448-1 1-1h14c0.552 0 1 0.448 1 1s-0.448 1-1 1z\"></path>\n",
       "<path d=\"M23 18h-14c-0.552 0-1-0.448-1-1s0.448-1 1-1h14c0.552 0 1 0.448 1 1s-0.448 1-1 1z\"></path>\n",
       "</symbol>\n",
       "</defs>\n",
       "</svg><style id=\"scipp-style-sheet\">.sc-root{--sc-background-color0:var(--jp-layout-color0,#fff);--sc-background-color1:var(--jp-layout-color1,#fcfcfc);--sc-background-color2:var(--jp-layout-color2,#efefef);--sc-inverse-background-color0:var(--jp-inverse-layout-color4,#111);--sc-font-color0:var(--jp-content-font-color0,#000);--sc-font-color1:var(--jp-content-font-color1,#555);--sc-font-color2:var(--jp-content-font-color2,#888);--sc-font-color3:var(--jp-content-font-color3,#ccc);--sc-table-data-color:#f6d028;--sc-table-coords-color:#c6e590;--sc-table-masks-color:#c8c8c8;--sc-table-attrs-color:#ff5555;--sc-table-header-font-color:#111111;}.sc-wrap{font-size:14px;min-width:300px;max-width:800px;}.sc-var-attrs .sc-wrap{padding-left:3em;}.sc-header{padding-top:6px;padding-bottom:6px;margin-bottom:4px;border-bottom:solid 1px #ddd;}.sc-header > div,.sc-header > ul{display:inline;margin-top:0;margin-bottom:0;}.sc-obj-type,.sc-array-name{margin-left:2px;margin-right:10px;}.sc-obj-type{color:var(--sc-font-color1);}.sc-underlying-size{color:var(--sc-font-color2);}.sc-sections{padding-left:0 !important;display:grid;grid-template-columns:150px auto auto auto 1fr 20px 20px;}.sc-section-item{display:contents;}.sc-section-item input{display:none;}.sc-section-item input:enabled + label{cursor:pointer;color:var(--sc-font-color1);}.sc-section-item input:enabled + label:hover{color:var(--sc-font-color0);}.sc-section-summary{grid-column:1;font-weight:500;}.sc-section-summary > span{display:inline-block;padding-left:0.5em;}.sc-section-summary-in:disabled + label{color:var(--sc-font-color1);}.sc-section-summary-in + label:before{display:inline-block;content:'►';font-size:11px;width:15px;text-align:center;}.sc-section-summary-in:disabled + label:before{color:var(--sc-font-color3);}.sc-section-summary-in:checked + label:before{content:'▼';}.sc-section-summary-in:checked + label > span{display:none;}.sc-section-summary,.sc-section-inline-details{padding-top:4px;padding-bottom:4px;}.sc-section-inline-details{grid-column:2 / 6;}.sc-section-details{display:none;grid-column:1 / -1;margin-bottom:5px;}.sc-section-summary-in:checked ~ .sc-section-details{display:contents;}.sc-array-wrap{grid-column:1 / -1;display:grid;grid-template-columns:20px auto;}.sc-array-wrap > label{grid-column:1;vertical-align:top;}.sc-preview{color:var(--sc-font-color2);}.sc-array-preview,.sc-array-data{padding:0 5px !important;grid-column:2;}.sc-array-data,.sc-array-in:checked ~ .sc-array-preview{display:none;}.sc-array-in:checked ~ .sc-array-data,.sc-array-preview{display:inline-block;}.sc-dim-list{display:inline-block !important;list-style:none;padding:0 !important;margin:0;}.sc-dim-list li{display:inline-block;padding:0;margin:0!important;}.sc-dim-list:before{content:'(';}.sc-dim-list:after{content:')';}.sc-dim-list li:not(:last-child):after{content:',';padding-right:5px;}.sc-has-index{font-weight:bold;}.sc-var-list,.sc-var-item{display:contents;}.sc-var-item > div,.sc-var-item label,.sc-var-item > .sc-var-name span{background-color:var(--sc-background-color1);margin-bottom:0;}.sc-var-item > .sc-var-name:hover span{padding-right:5px;}.sc-var-list > li:nth-child(odd) > div,.sc-var-list > li:nth-child(odd) > label,.sc-var-list > li:nth-child(odd) > .sc-var-name span{background-color:var(--sc-background-color2);}.sc-var-name{grid-column:1;}.sc-var-dims{grid-column:2;}.sc-var-dtype{grid-column:3;text-align:right;color:var(--sc-font-color2);}.sc-var-unit{grid-column:4;text-align:left;color:var(--sc-font-color1);max-width:50pt;text-overflow:ellipsis;}.sc-value-preview{grid-column:5;}.sc-var-preview-variances{text-align:right;}.sc-sections .sc-section-item .sc-section-summary,.sc-sections .sc-section-item .sc-section-inline-details,.sc-section-item .sc-var-list .sc-var-item > div,.sc-section-item .sc-var-list .sc-var-item > label,.sc-section-details .sc-var-list .sc-var-item > div,.sc-section-details .sc-var-list .sc-var-item > label{margin-top:0;margin-bottom:0;}.sc-var-name,.sc-var-dims,.sc-var-dtype,.sc-var-unit,.sc-preview,.sc-attrs dt{white-space:nowrap;overflow:hidden;text-overflow:ellipsis;padding-right:10px;}.sc-var-name:hover,.sc-var-dims:hover,.sc-var-dtype:hover,.sc-var-unit:hover,.sc-attrs dt:hover{overflow:visible;width:auto;z-index:1;}.sc-var-attrs{display:block;}.sc-var-data{display:none;}.sc-var-attrs,.sc-var-data{background-color:var(--sc-background-color0) !important;padding-bottom:5px !important;}.sc-var-attrs-in:checked ~ .sc-var-attrs{display:none;}.sc-var-data-in:checked ~ .sc-var-data{display:block;}.sc-var-data > table{float:right;}.sc-var-name span,.sc-var-data{padding-left:25px !important;}.sc-var-attrs,.sc-var-data{grid-column:1 / -1;}dl.sc-attrs{padding:0;margin:0;display:grid;grid-template-columns:125px auto;}.sc-attrs dt,dd{padding:0;margin:0;float:left;padding-right:10px;width:auto;}.sc-attrs dt{font-weight:normal;grid-column:1;}.sc-attrs dt:hover span{display:inline-block;padding-right:10px;}.sc-attrs dd{grid-column:2;white-space:pre-wrap;word-break:break-all;}.sc-icon-database,.sc-icon-file-text2{display:inline-block;vertical-align:middle;width:1em;height:1.5em !important;stroke-width:0;stroke:currentColor;fill:currentColor;}label.sc-hide-icon svg{opacity:0;}.sc-standalone-var-name{grid-column:1/3;}.sc-standalone-var-name span{padding-left:25px;padding-right:10px;}.sc-table{border-collapse:collapse;}.sc-title{font-weight:bold;font-size:1.5em;}.sc-subtitle{font-weight:normal;font-style:italic;text-align:left;font-size:1.2em;padding:1px;}.sc-table th,.sc-table td{border:1px solid var(--sc-inverse-background-color0);padding:0 5px 0 5px;}.sc-table th{text-align:center;}.sc-table tr{background-color:var(--sc-background-color1);text-align:right;}.sc-table tr:hover{background-color:var(--sc-background-color2);}.sc-table th.sc-data{background-color:var(--sc-table-data-color);color:var(--sc-table-header-font-color);}.sc-table th.sc-coords{background-color:var(--sc-table-coords-color);color:var(--sc-table-header-font-color);}.sc-table th.sc-masks{background-color:var(--sc-table-masks-color);color:var(--sc-table-header-font-color);}.sc-table th.sc-attrs{background-color:var(--sc-table-attrs-color);color:var(--sc-table-header-font-color);}.sc-table th.sc-subheader{background-color:var(--sc-background-color2);}.sc-table td.sc-padding{background-color:var(--sc-background-color1);border:0 solid var(--sc-background-color1);height:1.2em;}.sc-label{fill:var(--sc-font-color0,#444444);text-anchor:middle;}.sc-name{fill:var(--sc-font-color0,#111111);}.sc-inset-line{stroke:var(--sc-font-color1);stroke-width:0.05;stroke-dasharray:0.2,0.2;}.sc-log-wrap{height:25ex;resize:vertical;overflow-y:scroll;display:flex;flex-direction:column-reverse;border:1px solid;border-color:var(--jp-border-color2);background-color:var(--sc-background-color1);}div.sc-log{line-height:2.5ex;}table.sc-log{table-layout:auto;border-collapse:collapse;}tr.sc-log:nth-child(even){background-color:var(--sc-background-color0);}tr.sc-log > td{vertical-align:top;padding-bottom:0.5ex;}.sc-log-time-stamp{min-width:22ch;font-family:var(--jp-code-font-family);color:var(--sc-font-color2);}.sc-log-level{min-width:10ch;}tr.sc-log-debug td.sc-log-level{color:var(--jp-accent-color1);}tr.sc-log-info td.sc-log-level{color:var(--jp-info-color1);}tr.sc-log-warning td.sc-log-level{color:var(--jp-warn-color1);}tr.sc-log-error td.sc-log-level{font-weight:bold;color:var(--jp-error-color2);}tr.sc-log-critical td.sc-log-level{font-weight:bold;color:var(--sc-background-color0);background-color:var(--jp-error-color1);}.sc-log-message{white-space:pre-wrap;width:100%;}.sc-log-html-payload{white-space:normal;}.sc-log-name{padding-right:0.5em;text-align:right;white-space:pre-wrap;color:var(--sc-font-color3);}</style><div class='sc-wrap sc-root'><div class='sc-header'><div class='sc-obj-type'>scipp.DataArray (7.32 MB)</div></div><ul class='sc-sections'><li class='sc-section-item'><input id='section-05c3587a-ea23-4bf6-9142-6ba8c68eed38' class='sc-section-summary-in' type='checkbox' disabled ><label for='section-05c3587a-ea23-4bf6-9142-6ba8c68eed38' class='sc-section-summary'  title='Expand/collapse section'>Dimensions:</label><div class='sc-section-inline-details'><ul class='sc-dim-list'><li><span>event</span>: 383638</li></ul></div><div class='sc-section-details'></div></li><li class='sc-section-item'><input id='section-5c92e298-8a6a-4187-8e54-63a98fb3daa4' class='sc-section-summary-in' type='checkbox'  checked><label for='section-5c92e298-8a6a-4187-8e54-63a98fb3daa4' class='sc-section-summary' >Coordinates: <span>(2)</span></label><div class='sc-section-inline-details'></div><div class='sc-section-details'><ul class='sc-var-list'><li class='sc-var-item'><div class='sc-var-name'><span>pulse_time</span></div><div class='sc-var-dims'>(event)</div><div class='sc-var-dtype'>datetime64</div><div class='sc-var-unit'>ns</div><div class='sc-value-preview sc-preview'><span><div>2022-03-02T22:23:16.906349291, 2022-03-02T22:23:54.806348212, ..., 2022-03-02T22:23:10.306349655, 2022-03-02T22:19:16.006357286</div></span></div><input id='attrs-3fca5f73-e051-44e7-b4fb-514f01b23764' class='sc-var-attrs-in' type='checkbox' disabled><label for='attrs-3fca5f73-e051-44e7-b4fb-514f01b23764' class='sc-hide-icon' title='Show/Hide attributes'><svg class='icon sc-icon-file-text2'><use xlink:href='#icon-file-text2'></use></svg></label><input id='data-f2c41ffb-a218-436d-a55f-e12ce5deff8f' class='sc-var-data-in' type='checkbox'><label for='data-f2c41ffb-a218-436d-a55f-e12ce5deff8f' title='Show/Hide data repr'><svg class='icon sc-icon-database'><use xlink:href='#icon-database'></use></svg></label><pre class='sc-var-data'>Values:<br>array([&#x27;2022-03-02T22:23:16.906349291&#x27;, &#x27;2022-03-02T22:23:54.806348212&#x27;,\n",
       "       &#x27;2022-03-02T22:22:28.906350779&#x27;, ...,\n",
       "       &#x27;2022-03-02T22:17:13.906361750&#x27;, &#x27;2022-03-02T22:23:10.306349655&#x27;,\n",
       "       &#x27;2022-03-02T22:19:16.006357286&#x27;], dtype=&#x27;datetime64[ns]&#x27;)</pre></span></li><li class='sc-var-item'><div class='sc-var-name'><span>tof</span></div><div class='sc-var-dims'>(event)</div><div class='sc-var-dtype'>int32</div><div class='sc-var-unit'>ns</div><div class='sc-value-preview sc-preview'><span><div>47054019, 50937305, ..., 21730320, 10313995</div></span></div><input id='attrs-c73bc5a7-1393-4faa-b7eb-79f0fb83c0e0' class='sc-var-attrs-in' type='checkbox' disabled><label for='attrs-c73bc5a7-1393-4faa-b7eb-79f0fb83c0e0' class='sc-hide-icon' title='Show/Hide attributes'><svg class='icon sc-icon-file-text2'><use xlink:href='#icon-file-text2'></use></svg></label><input id='data-888d3a86-67a0-4c82-8878-0ab3b6a260fa' class='sc-var-data-in' type='checkbox'><label for='data-888d3a86-67a0-4c82-8878-0ab3b6a260fa' title='Show/Hide data repr'><svg class='icon sc-icon-database'><use xlink:href='#icon-database'></use></svg></label><pre class='sc-var-data'>Values:<br>array([47054019, 50937305, 11622748, ..., 13002720, 21730320, 10313995],\n",
       "      dtype=int32)</pre></span></li></ul></div></li><li class='sc-section-item'><input id='section-0c7f657d-f9fc-45a2-89ee-dfed88443237' class='sc-section-summary-in' type='checkbox'  checked><label for='section-0c7f657d-f9fc-45a2-89ee-dfed88443237' class='sc-section-summary' >Data: <span>(1)</span></label><div class='sc-section-inline-details'></div><div class='sc-section-details'><ul class='sc-var-list'><li class='sc-var-item'><div class='sc-var-name'><span></span></div><div class='sc-var-dims'>(event)</div><div class='sc-var-dtype'>float32</div><div class='sc-var-unit'>counts</div><div class='sc-value-preview sc-preview'><span><div>1.0, 1.0, ..., 1.0, 1.0</div></span><span><div>σ = 1.0, 1.0, ..., 1.0, 1.0</div></span></div><input id='attrs-77b3541f-466d-48a9-96f9-96bcdaa5c715' class='sc-var-attrs-in' type='checkbox' disabled><label for='attrs-77b3541f-466d-48a9-96f9-96bcdaa5c715' class='sc-hide-icon' title='Show/Hide attributes'><svg class='icon sc-icon-file-text2'><use xlink:href='#icon-file-text2'></use></svg></label><input id='data-dae1b016-678b-407f-bf63-6d053ecbb0a9' class='sc-var-data-in' type='checkbox'><label for='data-dae1b016-678b-407f-bf63-6d053ecbb0a9' title='Show/Hide data repr'><svg class='icon sc-icon-database'><use xlink:href='#icon-database'></use></svg></label><pre class='sc-var-data'>Values:<br>array([1., 1., 1., ..., 1., 1., 1.], dtype=float32)<br><br>Variances (σ²):<br>array([1., 1., 1., ..., 1., 1., 1.], dtype=float32)</pre></li></ul></div></li></ul></div></div>"
      ],
      "text/plain": [
       "<scipp.DataArray>\n",
       "Dimensions: Sizes[event:383638, ]\n",
       "Coordinates:\n",
       "  pulse_time              datetime64             [ns]  (event)  [2022-03-02T22:23:16.906349291, 2022-03-02T22:23:54.806348212, ..., 2022-03-02T22:23:10.306349655, 2022-03-02T22:19:16.006357286]\n",
       "  tof                         int32             [ns]  (event)  [47054019, 50937305, ..., 21730320, 10313995]\n",
       "Data:\n",
       "                            float32         [counts]  (event)  [1, 1, ..., 1, 1]  [1, 1, ..., 1, 1]\n"
      ]
     },
     "execution_count": 56,
     "metadata": {},
     "output_type": "execute_result"
    }
   ],
   "source": [
    "#How many events?\n",
    "data.bins.constituents['data']"
   ]
  },
  {
   "cell_type": "code",
   "execution_count": 57,
   "id": "c7574278-b280-48d4-be5c-78fa010371ec",
   "metadata": {},
   "outputs": [
    {
     "data": {
      "text/plain": [
       "458752"
      ]
     },
     "execution_count": 57,
     "metadata": {},
     "output_type": "execute_result"
    }
   ],
   "source": [
    "len(data.coords['position'])"
   ]
  },
  {
   "cell_type": "code",
   "execution_count": 58,
   "id": "a331db4f-3bd1-4656-ba6c-f5db345b8476",
   "metadata": {},
   "outputs": [
    {
     "data": {
      "application/vnd.jupyter.widget-view+json": {
       "model_id": "c7d7218e34904c88aefad65688ef13b5",
       "version_major": 2,
       "version_minor": 0
      },
      "text/plain": [
       "VBox(children=(HBox(children=(VBox(children=(Button(icon='home', layout=Layout(padding='0px 0px 0px 0px', widt…"
      ]
     },
     "metadata": {},
     "output_type": "display_data"
    }
   ],
   "source": [
    "data.plot()"
   ]
  },
  {
   "cell_type": "markdown",
   "id": "309557e7-194d-4858-bae8-b4fa1b444af9",
   "metadata": {},
   "source": [
    "### Instrument view"
   ]
  },
  {
   "cell_type": "code",
   "execution_count": 59,
   "id": "1bfed756-515f-421e-b11c-106766a1eb6b",
   "metadata": {},
   "outputs": [
    {
     "data": {
      "application/vnd.jupyter.widget-view+json": {
       "model_id": "d9bb731551154764a35b79b46d8c85f7",
       "version_major": 2,
       "version_minor": 0
      },
      "text/plain": [
       "VBox(children=(HBox(children=(VBox(children=(Button(icon='home', layout=Layout(padding='0px 0px 0px 0px', widt…"
      ]
     },
     "metadata": {},
     "output_type": "display_data"
    }
   ],
   "source": [
    "scn.instrument_view(data, pixel_size=0.01)"
   ]
  },
  {
   "cell_type": "markdown",
   "id": "71d6611d-35ba-469f-8082-8ec4a1fbe59e",
   "metadata": {},
   "source": [
    "### Histograming data"
   ]
  },
  {
   "cell_type": "code",
   "execution_count": 60,
   "id": "13270566-e4e8-40f3-b0db-c53a3b2f3b1c",
   "metadata": {},
   "outputs": [],
   "source": [
    "tof_edges = sc.linspace(dim='tof', start=15, stop=99999956, num=100, unit='ns')\n",
    "histoigramed = sc.histogram(data, bins=tof_edges)"
   ]
  },
  {
   "cell_type": "code",
   "execution_count": 61,
   "id": "3d030837-1218-48a5-88be-f3b2ec120346",
   "metadata": {},
   "outputs": [
    {
     "data": {
      "application/vnd.jupyter.widget-view+json": {
       "model_id": "4391cd9758f647608168811247d35a23",
       "version_major": 2,
       "version_minor": 0
      },
      "text/plain": [
       "VBox(children=(HBox(children=(VBox(children=(Button(icon='home', layout=Layout(padding='0px 0px 0px 0px', widt…"
      ]
     },
     "metadata": {},
     "output_type": "display_data"
    }
   ],
   "source": [
    "scn.instrument_view(histoigramed, pixel_size=0.01)"
   ]
  },
  {
   "cell_type": "markdown",
   "id": "e2c1c759-3802-43a8-ad94-e035b84c3e32",
   "metadata": {},
   "source": [
    "## Sorting out monitors"
   ]
  },
  {
   "cell_type": "code",
   "execution_count": 62,
   "id": "d20b6489-336b-4b6f-b7d8-4d4e8cc76d3c",
   "metadata": {},
   "outputs": [],
   "source": [
    "monitors = {\n",
    "    'sample': {'incident': data.attrs[\"monitor_1\"].value,\n",
    "               'transmission': data.attrs[\"monitor_2\"].value}\n",
    "}"
   ]
  },
  {
   "cell_type": "code",
   "execution_count": null,
   "id": "0eec1240-34bb-45c8-8dad-93fd7d96add5",
   "metadata": {},
   "outputs": [],
   "source": []
  },
  {
   "cell_type": "code",
   "execution_count": 63,
   "id": "aa857ea1-da1e-46e9-92a0-8acfd552edcd",
   "metadata": {},
   "outputs": [],
   "source": [
    "monitors['sample']['incident'].coords['position'] = sc.vector(value = np.array([0, 0, 0.0]), unit = sc.units.m)\n",
    "monitors['sample']['incident'].coords['source_position'] = sc.vector(value = np.array([0, 0, -25.3]), unit = sc.units.m)\n",
    "monitors['sample']['transmission'].coords['position'] = sc.vector(value = np.array([0, 0, 0.0]), unit = sc.units.m)\n",
    "monitors['sample']['transmission'].coords['source_position'] = sc.vector(value = np.array([0, 0, -25.3]), unit = sc.units.m)"
   ]
  },
  {
   "cell_type": "code",
   "execution_count": 64,
   "id": "2e30d724-0ca6-4f23-8586-3a444b12b993",
   "metadata": {},
   "outputs": [],
   "source": [
    "tof_edges = sc.linspace(dim='tof', start=7291, stop=99999036, num=100, unit='ns')\n",
    "histogrammed_monitor1 = sc.histogram(monitors['sample']['incident'], bins=tof_edges)\n",
    "histogrammed_monitor2 = sc.histogram(monitors['sample']['transmission'], bins=tof_edges)"
   ]
  },
  {
   "cell_type": "code",
   "execution_count": 65,
   "id": "1f567c76-47eb-4132-93a4-72cae361a680",
   "metadata": {},
   "outputs": [
    {
     "data": {
      "application/vnd.jupyter.widget-view+json": {
       "model_id": "9e1ffd2abce9494292fd4de331da737a",
       "version_major": 2,
       "version_minor": 0
      },
      "text/plain": [
       "VBox(children=(HBox(children=(VBox(children=(Button(icon='home', layout=Layout(padding='0px 0px 0px 0px', widt…"
      ]
     },
     "metadata": {},
     "output_type": "display_data"
    }
   ],
   "source": [
    "sc.plot({'data': histoigramed.sum('detector_id'), 'monitor1':histogrammed_monitor1.sum('detector_id'), \n",
    "        'monitor2':histogrammed_monitor2.sum('detector_id')})"
   ]
  },
  {
   "cell_type": "markdown",
   "id": "8dc2a75a-618b-4403-a44b-f1e82566b089",
   "metadata": {},
   "source": [
    "### Troubleshooting"
   ]
  },
  {
   "cell_type": "code",
   "execution_count": 66,
   "id": "9cb440c6-4b40-47c7-9b5a-8fe5810da7db",
   "metadata": {},
   "outputs": [],
   "source": [
    "#path = 'Larmor_data'\n",
    "#scn.load(filename=f'{path}/2022-02-23_1100_detector_id.nxs', mantid_alg='LoadEventNexus')"
   ]
  },
  {
   "cell_type": "code",
   "execution_count": 67,
   "id": "2ce5bc0a-8c62-4dee-85c6-db563a21f3ab",
   "metadata": {},
   "outputs": [
    {
     "name": "stderr",
     "output_type": "stream",
     "text": [
      "/Users/wojciechpotrzebowski/opt/anaconda3/envs/ess_0.4/lib/python3.8/site-packages/scipp/plotting/figure1d.py:339: UserWarning: Attempting to set identical bottom == top == 383638.0 results in singular transformations; automatically expanding.\n",
      "  self.ax.set_ylim(vmin, vmax)\n"
     ]
    },
    {
     "data": {
      "application/vnd.jupyter.widget-view+json": {
       "model_id": "a2d90b99a57b4b7fae38ee5a2804b928",
       "version_major": 2,
       "version_minor": 0
      },
      "text/plain": [
       "VBox(children=(HBox(children=(VBox(children=(Button(icon='home', layout=Layout(padding='0px 0px 0px 0px', widt…"
      ]
     },
     "metadata": {},
     "output_type": "display_data"
    }
   ],
   "source": [
    "binned_data = data.bins.sum()\n",
    "scn.instrument_view(binned_data)\n",
    "binned_data.plot()\n",
    "binned_data\n",
    "binned_data.sum('detector_id').plot(marker='.')"
   ]
  },
  {
   "cell_type": "code",
   "execution_count": null,
   "id": "bf9b8695-ac41-447b-89a5-cb4ee566efc3",
   "metadata": {},
   "outputs": [],
   "source": []
  }
 ],
 "metadata": {
  "kernelspec": {
   "display_name": "Python 3 (ipykernel)",
   "language": "python",
   "name": "python3"
  },
  "language_info": {
   "codemirror_mode": {
    "name": "ipython",
    "version": 3
   },
   "file_extension": ".py",
   "mimetype": "text/x-python",
   "name": "python",
   "nbconvert_exporter": "python",
   "pygments_lexer": "ipython3",
   "version": "3.8.12"
  }
 },
 "nbformat": 4,
 "nbformat_minor": 5
}
