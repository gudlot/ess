{
 "cells": [
  {
   "cell_type": "code",
   "execution_count": 1,
   "id": "1fd3c280-083f-4eab-9609-68ac46f29692",
   "metadata": {},
   "outputs": [],
   "source": [
    "import scipp as sc\n",
    "import scippneutron as scn\n",
    "import numpy as np\n",
    "import h5py as h5\n",
    "from shutil import copyfile\n",
    "import sys\n",
    "from ipyfilechooser import FileChooser"
   ]
  },
  {
   "cell_type": "code",
   "execution_count": 2,
   "id": "b4294149-d9a5-49a2-bc28-80a58a034970",
   "metadata": {},
   "outputs": [],
   "source": [
    "def fix_nexus_scipp(infile, outfile):\n",
    "    \"\"\"\n",
    "    Currently there are some tweaks to make file working in scipp. This function won't be necessary in the future\n",
    "    \"\"\"\n",
    "\n",
    "    copyfile(infile, outfile)\n",
    "    with h5.File(outfile, 'r+') as f:\n",
    "         \n",
    "        group = f['entry/instrument']\n",
    "        for monitor_name in filter(lambda k: k.startswith('monitor'), group):\n",
    "            monitor_group = group[monitor_name]\n",
    "            monitor_event_group = monitor_group[f'{monitor_name}_events']\n",
    "            for key in list(monitor_event_group):\n",
    "                monitor_group[key] = monitor_event_group.pop(key)\n",
    "            del monitor_group[f'{monitor_name}_events']\n"
   ]
  },
  {
   "cell_type": "code",
   "execution_count": 3,
   "id": "84ae102b-84ef-4c64-9dc0-bb277d2ef9cb",
   "metadata": {},
   "outputs": [],
   "source": [
    "def fix_nexus_mantid(infile, outfile, didx):\n",
    "    \"\"\"\n",
    "    Additional tweaks for loading into Mantid\n",
    "    \"\"\"\n",
    "\n",
    "    copyfile(infile, outfile)\n",
    "    with h5.File(outfile, 'r+') as f:\n",
    "        \n",
    "        f['entry/instrument/name'] = 'LARMOR'\n",
    "\n",
    "        group_entry = f['entry']\n",
    "        nx_class = group_entry.create_group('sample')\n",
    "        nx_class.attrs[\"NX_class\"] = 'NXsample'\n",
    "       \n",
    "        f['entry/larmor_detector_events'] = f['entry/instrument/larmor_detector/larmor_detector_events']\n",
    "        \n",
    "        #TODO: Adding detector_id. Not sure if this is 100% correct\n",
    "        f['entry']['instrument']['monitor_1']['detector_id'] = np.array(didx+1)\n",
    "        f['entry']['instrument']['monitor_2']['detector_id'] = np.array(didx+2)\n",
    "        \n",
    "        group = f['entry/instrument']\n",
    "        for monitor_name in filter(lambda k: k.startswith('monitor'), group):\n",
    "            monitor_group = group[monitor_name]\n",
    "            monitor_event_group = monitor_group[f'{monitor_name}_events']\n",
    "            for key in list(monitor_event_group):\n",
    "                monitor_group[key] = monitor_event_group.pop(key)\n",
    "            del monitor_group[f'{monitor_name}_events']\n"
   ]
  },
  {
   "cell_type": "code",
   "execution_count": 4,
   "id": "5a37efeb-5294-41ed-a80c-b6f3e4bf68ef",
   "metadata": {},
   "outputs": [
    {
     "data": {
      "application/vnd.jupyter.widget-view+json": {
       "model_id": "4a406bd60ade4c9a8fa86c64a0d753f8",
       "version_major": 2,
       "version_minor": 0
      },
      "text/plain": [
       "FileChooser(path='/Users/wojciechpotrzebowski/SCIPP_SPACE/loki_detector_test/ess/docs/instruments/loki/Larmor_…"
      ]
     },
     "metadata": {},
     "output_type": "display_data"
    }
   ],
   "source": [
    "# Create and display a FileChooser widget\n",
    "fc = FileChooser('/Users/wojciechpotrzebowski/SCIPP_SPACE/loki_detector_test/ess/docs/instruments/loki/Larmor_data')\n",
    "display(fc)"
   ]
  },
  {
   "cell_type": "markdown",
   "id": "47c4fbf0-1bab-4c37-8e2a-c454f1168756",
   "metadata": {},
   "source": [
    "### Load and show data"
   ]
  },
  {
   "cell_type": "code",
   "execution_count": 12,
   "id": "64523d8e-d265-4598-8712-7d316f2c8a5e",
   "metadata": {},
   "outputs": [],
   "source": [
    "input_file = fc.selected\n",
    "fixed_file = f'{input_file[:-4]}_fixed.nxs'\n",
    "fixed_mantid_file = f'{input_file[:-4]}_mantid.nxs'"
   ]
  },
  {
   "cell_type": "code",
   "execution_count": 13,
   "id": "a8e6c586-deae-4afa-bae2-aee73792ff76",
   "metadata": {},
   "outputs": [],
   "source": [
    "fix_nexus_scipp(input_file, fixed_file)"
   ]
  },
  {
   "cell_type": "code",
   "execution_count": 14,
   "id": "83705f52-944c-4a8c-a2b6-67fe8cb80445",
   "metadata": {},
   "outputs": [],
   "source": [
    "data = scn.load_nexus(data_file=fixed_file)"
   ]
  },
  {
   "cell_type": "markdown",
   "id": "05f59779-afa7-4765-995a-302209891664",
   "metadata": {},
   "source": [
    "## Tweaking file so it works in Mantid"
   ]
  },
  {
   "cell_type": "code",
   "execution_count": 15,
   "id": "c241a833-f387-44cf-9d5e-66c22f2b8e91",
   "metadata": {},
   "outputs": [],
   "source": [
    "fix_nexus_mantid(input_file, fixed_mantid_file, len(data.coords['position']))"
   ]
  },
  {
   "cell_type": "code",
   "execution_count": null,
   "id": "ceca018d-6678-460f-930c-e89971d8e390",
   "metadata": {},
   "outputs": [],
   "source": [
    "#fix_nexus_mantid(input_file, fixed_mantid_file,458752)"
   ]
  },
  {
   "cell_type": "markdown",
   "id": "83ab3deb-26e2-4de2-9308-5b88c19a35e7",
   "metadata": {},
   "source": [
    "### Plot data and show how many events and pixels do we have"
   ]
  },
  {
   "cell_type": "code",
   "execution_count": 16,
   "id": "53639cd5-5b7c-423c-9e17-e4f648ae9712",
   "metadata": {},
   "outputs": [
    {
     "data": {
      "text/html": [
       "<div><!-- Original source from -->\n",
       "<!-- https://github.com/jsignell/xarray/blob/1d960933ab252e0f79f7e050e6c9261d55568057/xarray/static/html/icons-svg-inline.html -->\n",
       "<svg style=\"position: absolute; width: 0; height: 0; overflow: hidden\">\n",
       "<defs>\n",
       "<symbol id=\"icon-database\" viewBox=\"0 0 32 32\">\n",
       "<title>Show/Hide data repr</title>\n",
       "<path d=\"M16 0c-8.837 0-16 2.239-16 5v4c0 2.761 7.163 5 16 5s16-2.239 16-5v-4c0-2.761-7.163-5-16-5z\"></path>\n",
       "<path d=\"M16 17c-8.837 0-16-2.239-16-5v6c0 2.761 7.163 5 16 5s16-2.239 16-5v-6c0 2.761-7.163 5-16 5z\"></path>\n",
       "<path d=\"M16 26c-8.837 0-16-2.239-16-5v6c0 2.761 7.163 5 16 5s16-2.239 16-5v-6c0 2.761-7.163 5-16 5z\"></path>\n",
       "</symbol>\n",
       "<symbol id=\"icon-file-text2\" viewBox=\"0 0 32 32\">\n",
       "<title>Show/Hide attributes</title>\n",
       "<path d=\"M28.681 7.159c-0.694-0.947-1.662-2.053-2.724-3.116s-2.169-2.030-3.116-2.724c-1.612-1.182-2.393-1.319-2.841-1.319h-15.5c-1.378 0-2.5 1.121-2.5 2.5v27c0 1.378 1.122 2.5 2.5 2.5h23c1.378 0 2.5-1.122 2.5-2.5v-19.5c0-0.448-0.137-1.23-1.319-2.841zM24.543 5.457c0.959 0.959 1.712 1.825 2.268 2.543h-4.811v-4.811c0.718 0.556 1.584 1.309 2.543 2.268zM28 29.5c0 0.271-0.229 0.5-0.5 0.5h-23c-0.271 0-0.5-0.229-0.5-0.5v-27c0-0.271 0.229-0.5 0.5-0.5 0 0 15.499-0 15.5 0v7c0 0.552 0.448 1 1 1h7v19.5z\"></path>\n",
       "<path d=\"M23 26h-14c-0.552 0-1-0.448-1-1s0.448-1 1-1h14c0.552 0 1 0.448 1 1s-0.448 1-1 1z\"></path>\n",
       "<path d=\"M23 22h-14c-0.552 0-1-0.448-1-1s0.448-1 1-1h14c0.552 0 1 0.448 1 1s-0.448 1-1 1z\"></path>\n",
       "<path d=\"M23 18h-14c-0.552 0-1-0.448-1-1s0.448-1 1-1h14c0.552 0 1 0.448 1 1s-0.448 1-1 1z\"></path>\n",
       "</symbol>\n",
       "</defs>\n",
       "</svg><style id=\"scipp-style-sheet\">.sc-root{--sc-background-color0:var(--jp-layout-color0,#fff);--sc-background-color1:var(--jp-layout-color1,#fcfcfc);--sc-background-color2:var(--jp-layout-color2,#efefef);--sc-inverse-background-color0:var(--jp-inverse-layout-color4,#111);--sc-font-color0:var(--jp-content-font-color0,#000);--sc-font-color1:var(--jp-content-font-color1,#555);--sc-font-color2:var(--jp-content-font-color2,#888);--sc-font-color3:var(--jp-content-font-color3,#ccc);--sc-table-data-color:#f6d028;--sc-table-coords-color:#c6e590;--sc-table-masks-color:#c8c8c8;--sc-table-attrs-color:#ff5555;--sc-table-header-font-color:#111111;}.sc-wrap{font-size:14px;min-width:300px;max-width:800px;}.sc-var-attrs .sc-wrap{padding-left:3em;}.sc-header{padding-top:6px;padding-bottom:6px;margin-bottom:4px;border-bottom:solid 1px #ddd;}.sc-header > div,.sc-header > ul{display:inline;margin-top:0;margin-bottom:0;}.sc-obj-type,.sc-array-name{margin-left:2px;margin-right:10px;}.sc-obj-type{color:var(--sc-font-color1);}.sc-underlying-size{color:var(--sc-font-color2);}.sc-sections{padding-left:0 !important;display:grid;grid-template-columns:150px auto auto auto 1fr 20px 20px;}.sc-section-item{display:contents;}.sc-section-item input{display:none;}.sc-section-item input:enabled + label{cursor:pointer;color:var(--sc-font-color1);}.sc-section-item input:enabled + label:hover{color:var(--sc-font-color0);}.sc-section-summary{grid-column:1;font-weight:500;}.sc-section-summary > span{display:inline-block;padding-left:0.5em;}.sc-section-summary-in:disabled + label{color:var(--sc-font-color1);}.sc-section-summary-in + label:before{display:inline-block;content:'►';font-size:11px;width:15px;text-align:center;}.sc-section-summary-in:disabled + label:before{color:var(--sc-font-color3);}.sc-section-summary-in:checked + label:before{content:'▼';}.sc-section-summary-in:checked + label > span{display:none;}.sc-section-summary,.sc-section-inline-details{padding-top:4px;padding-bottom:4px;}.sc-section-inline-details{grid-column:2 / 6;}.sc-section-details{display:none;grid-column:1 / -1;margin-bottom:5px;}.sc-section-summary-in:checked ~ .sc-section-details{display:contents;}.sc-array-wrap{grid-column:1 / -1;display:grid;grid-template-columns:20px auto;}.sc-array-wrap > label{grid-column:1;vertical-align:top;}.sc-preview{color:var(--sc-font-color2);}.sc-array-preview,.sc-array-data{padding:0 5px !important;grid-column:2;}.sc-array-data,.sc-array-in:checked ~ .sc-array-preview{display:none;}.sc-array-in:checked ~ .sc-array-data,.sc-array-preview{display:inline-block;}.sc-dim-list{display:inline-block !important;list-style:none;padding:0 !important;margin:0;}.sc-dim-list li{display:inline-block;padding:0;margin:0!important;}.sc-dim-list:before{content:'(';}.sc-dim-list:after{content:')';}.sc-dim-list li:not(:last-child):after{content:',';padding-right:5px;}.sc-has-index{font-weight:bold;}.sc-var-list,.sc-var-item{display:contents;}.sc-var-item > div,.sc-var-item label,.sc-var-item > .sc-var-name span{background-color:var(--sc-background-color1);margin-bottom:0;}.sc-var-item > .sc-var-name:hover span{padding-right:5px;}.sc-var-list > li:nth-child(odd) > div,.sc-var-list > li:nth-child(odd) > label,.sc-var-list > li:nth-child(odd) > .sc-var-name span{background-color:var(--sc-background-color2);}.sc-var-name{grid-column:1;}.sc-var-dims{grid-column:2;}.sc-var-dtype{grid-column:3;text-align:right;color:var(--sc-font-color2);}.sc-var-unit{grid-column:4;text-align:left;color:var(--sc-font-color1);max-width:50pt;text-overflow:ellipsis;}.sc-value-preview{grid-column:5;}.sc-var-preview-variances{text-align:right;}.sc-sections .sc-section-item .sc-section-summary,.sc-sections .sc-section-item .sc-section-inline-details,.sc-section-item .sc-var-list .sc-var-item > div,.sc-section-item .sc-var-list .sc-var-item > label,.sc-section-details .sc-var-list .sc-var-item > div,.sc-section-details .sc-var-list .sc-var-item > label{margin-top:0;margin-bottom:0;}.sc-var-name,.sc-var-dims,.sc-var-dtype,.sc-var-unit,.sc-preview,.sc-attrs dt{white-space:nowrap;overflow:hidden;text-overflow:ellipsis;padding-right:10px;}.sc-var-name:hover,.sc-var-dims:hover,.sc-var-dtype:hover,.sc-var-unit:hover,.sc-attrs dt:hover{overflow:visible;width:auto;z-index:1;}.sc-var-attrs{display:block;}.sc-var-data{display:none;}.sc-var-attrs,.sc-var-data{background-color:var(--sc-background-color0) !important;padding-bottom:5px !important;}.sc-var-attrs-in:checked ~ .sc-var-attrs{display:none;}.sc-var-data-in:checked ~ .sc-var-data{display:block;}.sc-var-data > table{float:right;}.sc-var-name span,.sc-var-data{padding-left:25px !important;}.sc-var-attrs,.sc-var-data{grid-column:1 / -1;}dl.sc-attrs{padding:0;margin:0;display:grid;grid-template-columns:125px auto;}.sc-attrs dt,dd{padding:0;margin:0;float:left;padding-right:10px;width:auto;}.sc-attrs dt{font-weight:normal;grid-column:1;}.sc-attrs dt:hover span{display:inline-block;padding-right:10px;}.sc-attrs dd{grid-column:2;white-space:pre-wrap;word-break:break-all;}.sc-icon-database,.sc-icon-file-text2{display:inline-block;vertical-align:middle;width:1em;height:1.5em !important;stroke-width:0;stroke:currentColor;fill:currentColor;}label.sc-hide-icon svg{opacity:0;}.sc-standalone-var-name{grid-column:1/3;}.sc-standalone-var-name span{padding-left:25px;padding-right:10px;}.sc-table{border-collapse:collapse;}.sc-title{font-weight:bold;font-size:1.5em;}.sc-subtitle{font-weight:normal;font-style:italic;text-align:left;font-size:1.2em;padding:1px;}.sc-table th,.sc-table td{border:1px solid var(--sc-inverse-background-color0);padding:0 5px 0 5px;}.sc-table th{text-align:center;}.sc-table tr{background-color:var(--sc-background-color1);text-align:right;}.sc-table tr:hover{background-color:var(--sc-background-color2);}.sc-table th.sc-data{background-color:var(--sc-table-data-color);color:var(--sc-table-header-font-color);}.sc-table th.sc-coords{background-color:var(--sc-table-coords-color);color:var(--sc-table-header-font-color);}.sc-table th.sc-masks{background-color:var(--sc-table-masks-color);color:var(--sc-table-header-font-color);}.sc-table th.sc-attrs{background-color:var(--sc-table-attrs-color);color:var(--sc-table-header-font-color);}.sc-table th.sc-subheader{background-color:var(--sc-background-color2);}.sc-table td.sc-padding{background-color:var(--sc-background-color1);border:0 solid var(--sc-background-color1);height:1.2em;}.sc-label{fill:var(--sc-font-color0,#444444);text-anchor:middle;}.sc-name{fill:var(--sc-font-color0,#111111);}.sc-inset-line{stroke:var(--sc-font-color1);stroke-width:0.05;stroke-dasharray:0.2,0.2;}.sc-log-wrap{height:25ex;resize:vertical;overflow-y:scroll;display:flex;flex-direction:column-reverse;border:1px solid;border-color:var(--jp-border-color2);background-color:var(--sc-background-color1);}div.sc-log{line-height:2.5ex;}table.sc-log{table-layout:auto;border-collapse:collapse;}tr.sc-log:nth-child(even){background-color:var(--sc-background-color0);}tr.sc-log > td{vertical-align:top;padding-bottom:0.5ex;}.sc-log-time-stamp{min-width:22ch;font-family:var(--jp-code-font-family);color:var(--sc-font-color2);}.sc-log-level{min-width:10ch;}tr.sc-log-debug td.sc-log-level{color:var(--jp-accent-color1);}tr.sc-log-info td.sc-log-level{color:var(--jp-info-color1);}tr.sc-log-warning td.sc-log-level{color:var(--jp-warn-color1);}tr.sc-log-error td.sc-log-level{font-weight:bold;color:var(--jp-error-color2);}tr.sc-log-critical td.sc-log-level{font-weight:bold;color:var(--sc-background-color0);background-color:var(--jp-error-color1);}.sc-log-message{white-space:pre-wrap;width:100%;}.sc-log-html-payload{white-space:normal;}.sc-log-name{padding-right:0.5em;text-align:right;white-space:pre-wrap;color:var(--sc-font-color3);}</style><div class='sc-wrap sc-root'><div class='sc-header'><div class='sc-obj-type'>scipp.DataArray (129.12 MB)</div></div><ul class='sc-sections'><li class='sc-section-item'><input id='section-9dbf553a-a528-4564-8a74-627e7442fe1d' class='sc-section-summary-in' type='checkbox' disabled ><label for='section-9dbf553a-a528-4564-8a74-627e7442fe1d' class='sc-section-summary'  title='Expand/collapse section'>Dimensions:</label><div class='sc-section-inline-details'><ul class='sc-dim-list'><li><span class='sc-has-index'>detector_id</span>: 458752</li><li><span class='sc-has-index'>tof</span>: 1</li></ul></div><div class='sc-section-details'></div></li><li class='sc-section-item'><input id='section-72a10a03-133b-42ac-b429-7787a232627c' class='sc-section-summary-in' type='checkbox'  checked><label for='section-72a10a03-133b-42ac-b429-7787a232627c' class='sc-section-summary' >Coordinates: <span>(4)</span></label><div class='sc-section-inline-details'></div><div class='sc-section-details'><ul class='sc-var-list'><li class='sc-var-item'><div class='sc-var-name'><span class='sc-has-index'>detector_id</span></div><div class='sc-var-dims'>(detector_id)</div><div class='sc-var-dtype'>int32</div><div class='sc-var-unit'></div><div class='sc-value-preview sc-preview'><span><div>1, 2, ..., 458751, 458752</div></span></div><input id='attrs-7244d72a-9357-43fc-9bb9-e82c64bc45b7' class='sc-var-attrs-in' type='checkbox' disabled><label for='attrs-7244d72a-9357-43fc-9bb9-e82c64bc45b7' class='sc-hide-icon' title='Show/Hide attributes'><svg class='icon sc-icon-file-text2'><use xlink:href='#icon-file-text2'></use></svg></label><input id='data-2e6e79bf-3449-4f71-a799-7779aafc6bbb' class='sc-var-data-in' type='checkbox'><label for='data-2e6e79bf-3449-4f71-a799-7779aafc6bbb' title='Show/Hide data repr'><svg class='icon sc-icon-database'><use xlink:href='#icon-database'></use></svg></label><pre class='sc-var-data'>Values:<br>array([     1,      2,      3, ..., 458750, 458751, 458752], dtype=int32)</pre></span></li><li class='sc-var-item'><div class='sc-var-name'><span>position</span></div><div class='sc-var-dims'>(detector_id)</div><div class='sc-var-dtype'>vector3</div><div class='sc-var-unit'>m</div><div class='sc-value-preview sc-preview'><span><div>[-0.49902348  0.45325998  4.42332983], [-0.49707429  0.45325998  4.42332983], ..., [ 0.49506118 -0.44370004  4.51744683], [ 0.49701031 -0.44370004  4.51744683]</div></span></div><input id='attrs-3d61358d-efae-41a5-9a91-017068c8d96f' class='sc-var-attrs-in' type='checkbox' disabled><label for='attrs-3d61358d-efae-41a5-9a91-017068c8d96f' class='sc-hide-icon' title='Show/Hide attributes'><svg class='icon sc-icon-file-text2'><use xlink:href='#icon-file-text2'></use></svg></label><input id='data-0e8d3229-a03b-4afc-86b0-06502a400e6e' class='sc-var-data-in' type='checkbox'><label for='data-0e8d3229-a03b-4afc-86b0-06502a400e6e' title='Show/Hide data repr'><svg class='icon sc-icon-database'><use xlink:href='#icon-database'></use></svg></label><pre class='sc-var-data'>Values:<br>array([[-0.49902348,  0.45325998,  4.42332983],\n",
       "       [-0.49707429,  0.45325998,  4.42332983],\n",
       "       [-0.49512511,  0.45325998,  4.42332983],\n",
       "       ...,\n",
       "       [ 0.49311198, -0.44370004,  4.51744683],\n",
       "       [ 0.49506118, -0.44370004,  4.51744683],\n",
       "       [ 0.49701031, -0.44370004,  4.51744683]])</pre></span></li><li class='sc-var-item'><div class='sc-var-name'><span>source_position</span></div><div class='sc-var-dims'>()</div><div class='sc-var-dtype'>vector3</div><div class='sc-var-unit'>m</div><div class='sc-value-preview sc-preview'><span><div>[  0.           0.         -25.29999924]</div></span></div><input id='attrs-c7cca179-e14d-42f9-8a4d-6727b8174e54' class='sc-var-attrs-in' type='checkbox' disabled><label for='attrs-c7cca179-e14d-42f9-8a4d-6727b8174e54' class='sc-hide-icon' title='Show/Hide attributes'><svg class='icon sc-icon-file-text2'><use xlink:href='#icon-file-text2'></use></svg></label><input id='data-a538b809-fa35-43ee-9279-bd7da8cf4cbf' class='sc-var-data-in' type='checkbox'><label for='data-a538b809-fa35-43ee-9279-bd7da8cf4cbf' title='Show/Hide data repr'><svg class='icon sc-icon-database'><use xlink:href='#icon-database'></use></svg></label><pre class='sc-var-data'>Values:<br>array([  0.        ,   0.        , -25.29999924])</pre></span></li><li class='sc-var-item'><div class='sc-var-name'><span class='sc-has-index'>tof</span></div><div class='sc-var-dims'>(tof [bin-edge])</div><div class='sc-var-dtype'>int32</div><div class='sc-var-unit'>ns</div><div class='sc-value-preview sc-preview'><span><div>91, 100000046</div></span></div><input id='attrs-ad3029aa-d799-4864-8a21-873200edf9d4' class='sc-var-attrs-in' type='checkbox' disabled><label for='attrs-ad3029aa-d799-4864-8a21-873200edf9d4' class='sc-hide-icon' title='Show/Hide attributes'><svg class='icon sc-icon-file-text2'><use xlink:href='#icon-file-text2'></use></svg></label><input id='data-bca80844-ef16-49a3-bf02-156fb904de80' class='sc-var-data-in' type='checkbox'><label for='data-bca80844-ef16-49a3-bf02-156fb904de80' title='Show/Hide data repr'><svg class='icon sc-icon-database'><use xlink:href='#icon-database'></use></svg></label><pre class='sc-var-data'>Values:<br>array([       91, 100000046], dtype=int32)</pre></span></li></ul></div></li><li class='sc-section-item'><input id='section-5f39e9c3-0736-433b-987f-cf4ea6939420' class='sc-section-summary-in' type='checkbox'  checked><label for='section-5f39e9c3-0736-433b-987f-cf4ea6939420' class='sc-section-summary' >Data: <span>(1)</span></label><div class='sc-section-inline-details'></div><div class='sc-section-details'><ul class='sc-var-list'><li class='sc-var-item'><div class='sc-var-name'><span></span></div><div class='sc-var-dims'>(detector_id, tof)</div><div class='sc-var-dtype'>DataArrayView</div><div class='sc-var-unit'></div><div class='sc-value-preview sc-preview'><span><div>binned data [len=0, len=0, ..., len=0, len=0]</div></span></div><input id='attrs-b97c613d-2f1f-409c-9251-5b2adf077b12' class='sc-var-attrs-in' type='checkbox' disabled><label for='attrs-b97c613d-2f1f-409c-9251-5b2adf077b12' class='sc-hide-icon' title='Show/Hide attributes'><svg class='icon sc-icon-file-text2'><use xlink:href='#icon-file-text2'></use></svg></label><input id='data-4de4def2-7f76-487c-8f11-5c241dd8717d' class='sc-var-data-in' type='checkbox'><label for='data-4de4def2-7f76-487c-8f11-5c241dd8717d' title='Show/Hide data repr'><svg class='icon sc-icon-database'><use xlink:href='#icon-database'></use></svg></label><pre class='sc-var-data'>Values:<br>[&lt;scipp.DataArray&gt;\n",
       "Dimensions: Sizes[event:0, ]\n",
       "Coordinates:\n",
       "  pulse_time              datetime64             [ns]  (event)  []\n",
       "  tof                         int32             [ns]  (event)  []\n",
       "Data:\n",
       "                            float32         [counts]  (event)  []  []\n",
       "\n",
       ", &lt;scipp.DataArray&gt;\n",
       "Dimensions: Sizes[event:0, ]\n",
       "Coordinates:\n",
       "  pulse_time              datetime64             [ns]  (event)  []\n",
       "  tof                         int32             [ns]  (event)  []\n",
       "Data:\n",
       "                            float32         [counts]  (event)  []  []\n",
       "\n",
       ", ..., &lt;scipp.DataArray&gt;\n",
       "Dimensions: Sizes[event:0, ]\n",
       "Coordinates:\n",
       "  pulse_time              datetime64             [ns]  (event)  []\n",
       "  tof                         int32             [ns]  (event)  []\n",
       "Data:\n",
       "                            float32         [counts]  (event)  []  []\n",
       "\n",
       ", &lt;scipp.DataArray&gt;\n",
       "Dimensions: Sizes[event:0, ]\n",
       "Coordinates:\n",
       "  pulse_time              datetime64             [ns]  (event)  []\n",
       "  tof                         int32             [ns]  (event)  []\n",
       "Data:\n",
       "                            float32         [counts]  (event)  []  []\n",
       "\n",
       "]</pre></li></ul></div></li><li class='sc-section-item'><input id='section-fcb04dcc-06f5-4d49-ba75-20defaf223f5' class='sc-section-summary-in' type='checkbox'  checked><label for='section-fcb04dcc-06f5-4d49-ba75-20defaf223f5' class='sc-section-summary' >Attributes: <span>(9)</span></label><div class='sc-section-inline-details'></div><div class='sc-section-details'><ul class='sc-var-list'><li class='sc-var-item'><div class='sc-var-name'><span>base_position</span></div><div class='sc-var-dims'>(detector_id)</div><div class='sc-var-dtype'>vector3</div><div class='sc-var-unit'>m</div><div class='sc-value-preview sc-preview'><span><div>[ 0.      -0.00114 -0.00767], [ 0.00194919 -0.00114    -0.00767   ], ..., [ 0.99408466 -0.89810002  0.086447  ], [ 0.99603379 -0.89810002  0.086447  ]</div></span></div><input id='attrs-f142eaea-be23-4be7-bf40-a1eaab67d486' class='sc-var-attrs-in' type='checkbox' disabled><label for='attrs-f142eaea-be23-4be7-bf40-a1eaab67d486' class='sc-hide-icon' title='Show/Hide attributes'><svg class='icon sc-icon-file-text2'><use xlink:href='#icon-file-text2'></use></svg></label><input id='data-bc3f53cd-c2e9-48ca-b1a7-25428ccfc49d' class='sc-var-data-in' type='checkbox'><label for='data-bc3f53cd-c2e9-48ca-b1a7-25428ccfc49d' title='Show/Hide data repr'><svg class='icon sc-icon-database'><use xlink:href='#icon-database'></use></svg></label><pre class='sc-var-data'>Values:<br>array([[ 0.        , -0.00114   , -0.00767   ],\n",
       "       [ 0.00194919, -0.00114   , -0.00767   ],\n",
       "       [ 0.00389837, -0.00114   , -0.00767   ],\n",
       "       ...,\n",
       "       [ 0.99213547, -0.89810002,  0.086447  ],\n",
       "       [ 0.99408466, -0.89810002,  0.086447  ],\n",
       "       [ 0.99603379, -0.89810002,  0.086447  ]])</pre></li><li class='sc-var-item'><div class='sc-var-name'><span>end_time</span></div><div class='sc-var-dims'>()</div><div class='sc-var-dtype'>string</div><div class='sc-var-unit'></div><div class='sc-value-preview sc-preview'><span><div>2032-03-02T09:05:46.690Z</div></span></div><input id='attrs-21077054-c307-4ec9-9b9c-b1776801ed00' class='sc-var-attrs-in' type='checkbox' disabled><label for='attrs-21077054-c307-4ec9-9b9c-b1776801ed00' class='sc-hide-icon' title='Show/Hide attributes'><svg class='icon sc-icon-file-text2'><use xlink:href='#icon-file-text2'></use></svg></label><input id='data-8bd59036-8444-4355-8741-383eef324e81' class='sc-var-data-in' type='checkbox'><label for='data-8bd59036-8444-4355-8741-383eef324e81' title='Show/Hide data repr'><svg class='icon sc-icon-database'><use xlink:href='#icon-database'></use></svg></label><pre class='sc-var-data'>Values:<br>&#x27;2032-03-02T09:05:46.690Z&#x27;</pre></li><li class='sc-var-item'><div class='sc-var-name'><span>experiment_title</span></div><div class='sc-var-dims'>()</div><div class='sc-var-dtype'>string</div><div class='sc-var-unit'></div><div class='sc-value-preview sc-preview'><span><div>My experiment</div></span></div><input id='attrs-0a4568c6-7f73-41c9-845b-d3a339b4fa67' class='sc-var-attrs-in' type='checkbox' disabled><label for='attrs-0a4568c6-7f73-41c9-845b-d3a339b4fa67' class='sc-hide-icon' title='Show/Hide attributes'><svg class='icon sc-icon-file-text2'><use xlink:href='#icon-file-text2'></use></svg></label><input id='data-e9365866-303a-47cb-a95a-14c9fe414fb9' class='sc-var-data-in' type='checkbox'><label for='data-e9365866-303a-47cb-a95a-14c9fe414fb9' title='Show/Hide data repr'><svg class='icon sc-icon-database'><use xlink:href='#icon-database'></use></svg></label><pre class='sc-var-data'>Values:<br>&#x27;My experiment&#x27;</pre></li><li class='sc-var-item'><div class='sc-var-name'><span>monitor_1</span></div><div class='sc-var-dims'>()</div><div class='sc-var-dtype'>DataArray</div><div class='sc-var-unit'></div><div class='sc-value-preview sc-preview'><span><div>{dims=[detector_id: 1, tof: 1], unit=None, coords=[tof, detector_id]}</div></span></div><input id='attrs-a39d3e10-d397-4709-9781-de73e7a10db3' class='sc-var-attrs-in' type='checkbox' disabled><label for='attrs-a39d3e10-d397-4709-9781-de73e7a10db3' class='sc-hide-icon' title='Show/Hide attributes'><svg class='icon sc-icon-file-text2'><use xlink:href='#icon-file-text2'></use></svg></label><input id='data-1e95c983-8f7f-4c41-9280-b5021035585d' class='sc-var-data-in' type='checkbox'><label for='data-1e95c983-8f7f-4c41-9280-b5021035585d' title='Show/Hide data repr'><svg class='icon sc-icon-database'><use xlink:href='#icon-database'></use></svg></label><pre class='sc-var-data'>Values:<br>&lt;scipp.DataArray&gt;\n",
       "Dimensions: Sizes[detector_id:1, tof:1, ]\n",
       "Coordinates:\n",
       "  detector_id                 int32           [None]  (detector_id)  [1]\n",
       "  tof                         int32             [ns]  (tof [bin-edge])  [7291, 99999036]\n",
       "Data:\n",
       "                          DataArrayView           [None]  (detector_id, tof)  [&lt;scipp.DataArray&gt;\n",
       "Dimensions: Sizes[event:10930751, ]\n",
       "Coordinates:\n",
       "  pulse_time              datetime64             [ns]  (event)  [2022-03-02T21:05:46.106536566, 2022-03-02T21:05:46.106536566, ..., 2022-03-02T21:36:52.606456716, 2022-03-02T21:36:52.606456716]\n",
       "  tof                         int32             [ns]  (event)  [14857386, 14983095, ..., 32689554, 33205110]\n",
       "Data:\n",
       "                            float32         [counts]  (event)  [1, 1, ..., 1, 1]  [1, 1, ..., 1, 1]\n",
       "\n",
       "]\n",
       "\n",
       "</pre></li><li class='sc-var-item'><div class='sc-var-name'><span>monitor_2</span></div><div class='sc-var-dims'>()</div><div class='sc-var-dtype'>DataArray</div><div class='sc-var-unit'></div><div class='sc-value-preview sc-preview'><span><div>{dims=[detector_id: 1, tof: 1], unit=None, coords=[tof, detector_id]}</div></span></div><input id='attrs-5c63cbf1-a929-41f6-b2a2-29017989421c' class='sc-var-attrs-in' type='checkbox' disabled><label for='attrs-5c63cbf1-a929-41f6-b2a2-29017989421c' class='sc-hide-icon' title='Show/Hide attributes'><svg class='icon sc-icon-file-text2'><use xlink:href='#icon-file-text2'></use></svg></label><input id='data-2e6f6f5f-2740-4178-b190-659af08333eb' class='sc-var-data-in' type='checkbox'><label for='data-2e6f6f5f-2740-4178-b190-659af08333eb' title='Show/Hide data repr'><svg class='icon sc-icon-database'><use xlink:href='#icon-database'></use></svg></label><pre class='sc-var-data'>Values:<br>&lt;scipp.DataArray&gt;\n",
       "Dimensions: Sizes[detector_id:1, tof:1, ]\n",
       "Coordinates:\n",
       "  detector_id                 int32           [None]  (detector_id)  [2]\n",
       "  tof                         int32             [ns]  (tof [bin-edge])  [17388, 99998797]\n",
       "Data:\n",
       "                          DataArrayView           [None]  (detector_id, tof)  [&lt;scipp.DataArray&gt;\n",
       "Dimensions: Sizes[event:75397, ]\n",
       "Coordinates:\n",
       "  pulse_time              datetime64             [ns]  (event)  [2022-03-02T21:05:46.106536566, 2022-03-02T21:05:46.106536566, ..., 2022-03-02T21:36:52.606456716, 2022-03-02T21:36:52.606456716]\n",
       "  tof                         int32             [ns]  (event)  [22168104, 22493001, ..., 8892195, 11229652]\n",
       "Data:\n",
       "                            float32         [counts]  (event)  [1, 1, ..., 1, 1]  [1, 1, ..., 1, 1]\n",
       "\n",
       "]\n",
       "\n",
       "</pre></li><li class='sc-var-item'><div class='sc-var-name'><span>position_transformations</span></div><div class='sc-var-dims'>()</div><div class='sc-var-dtype'>Variable</div><div class='sc-var-unit'></div><div class='sc-value-preview sc-preview'><span><div>&lt;scipp.Variable&gt; ()  affine_transform3              [m]  [        1         0         0 -0.499023\n",
       "        0         1         0    0.4544\n",
       "        0         0         1     4.431\n",
       "        0         0         0         1]</div></span></div><input id='attrs-02e6ab3e-2c1d-4ed5-8378-7acbedd5213f' class='sc-var-attrs-in' type='checkbox' disabled><label for='attrs-02e6ab3e-2c1d-4ed5-8378-7acbedd5213f' class='sc-hide-icon' title='Show/Hide attributes'><svg class='icon sc-icon-file-text2'><use xlink:href='#icon-file-text2'></use></svg></label><input id='data-75e09728-1ef9-4c6b-96b4-93df6272b929' class='sc-var-data-in' type='checkbox'><label for='data-75e09728-1ef9-4c6b-96b4-93df6272b929' title='Show/Hide data repr'><svg class='icon sc-icon-database'><use xlink:href='#icon-database'></use></svg></label><pre class='sc-var-data'>Values:<br>&lt;scipp.Variable&gt; ()  affine_transform3              [m]  [        1         0         0 -0.499023\n",
       "        0         1         0    0.4544\n",
       "        0         0         1     4.431\n",
       "        0         0         0         1]</pre></li><li class='sc-var-item'><div class='sc-var-name'><span>source_base_position</span></div><div class='sc-var-dims'>()</div><div class='sc-var-dtype'>vector3</div><div class='sc-var-unit'>m</div><div class='sc-value-preview sc-preview'><span><div>[0. 0. 0.]</div></span></div><input id='attrs-8c791105-d52f-4aae-907e-1c4e6a13a9a2' class='sc-var-attrs-in' type='checkbox' disabled><label for='attrs-8c791105-d52f-4aae-907e-1c4e6a13a9a2' class='sc-hide-icon' title='Show/Hide attributes'><svg class='icon sc-icon-file-text2'><use xlink:href='#icon-file-text2'></use></svg></label><input id='data-a39ac910-3f97-4410-9c9c-4eea603c457a' class='sc-var-data-in' type='checkbox'><label for='data-a39ac910-3f97-4410-9c9c-4eea603c457a' title='Show/Hide data repr'><svg class='icon sc-icon-database'><use xlink:href='#icon-database'></use></svg></label><pre class='sc-var-data'>Values:<br>array([0., 0., 0.])</pre></li><li class='sc-var-item'><div class='sc-var-name'><span>source_transform</span></div><div class='sc-var-dims'>()</div><div class='sc-var-dtype'>Variable</div><div class='sc-var-unit'></div><div class='sc-value-preview sc-preview'><span><div>&lt;scipp.Variable&gt; ()  affine_transform3              [m]  [    1     0     0     0\n",
       "    0     1     0     0\n",
       "    0     0     1 -25.3\n",
       "    0     0     0     1]</div></span></div><input id='attrs-52c2bbb5-fe97-4569-a276-371ff9dbf6ec' class='sc-var-attrs-in' type='checkbox' disabled><label for='attrs-52c2bbb5-fe97-4569-a276-371ff9dbf6ec' class='sc-hide-icon' title='Show/Hide attributes'><svg class='icon sc-icon-file-text2'><use xlink:href='#icon-file-text2'></use></svg></label><input id='data-98419f7e-33c6-43b4-9c1d-093cfab8a2e4' class='sc-var-data-in' type='checkbox'><label for='data-98419f7e-33c6-43b4-9c1d-093cfab8a2e4' title='Show/Hide data repr'><svg class='icon sc-icon-database'><use xlink:href='#icon-database'></use></svg></label><pre class='sc-var-data'>Values:<br>&lt;scipp.Variable&gt; ()  affine_transform3              [m]  [    1     0     0     0\n",
       "    0     1     0     0\n",
       "    0     0     1 -25.3\n",
       "    0     0     0     1]</pre></li><li class='sc-var-item'><div class='sc-var-name'><span>start_time</span></div><div class='sc-var-dims'>()</div><div class='sc-var-dtype'>string</div><div class='sc-var-unit'></div><div class='sc-value-preview sc-preview'><span><div>2022-03-02T21:05:46.690Z</div></span></div><input id='attrs-354fd6a7-9bbf-429d-bc2d-65faef5b63a6' class='sc-var-attrs-in' type='checkbox' disabled><label for='attrs-354fd6a7-9bbf-429d-bc2d-65faef5b63a6' class='sc-hide-icon' title='Show/Hide attributes'><svg class='icon sc-icon-file-text2'><use xlink:href='#icon-file-text2'></use></svg></label><input id='data-a398b814-bbc4-44f6-8fe7-702f7d6169e4' class='sc-var-data-in' type='checkbox'><label for='data-a398b814-bbc4-44f6-8fe7-702f7d6169e4' title='Show/Hide data repr'><svg class='icon sc-icon-database'><use xlink:href='#icon-database'></use></svg></label><pre class='sc-var-data'>Values:<br>&#x27;2022-03-02T21:05:46.690Z&#x27;</pre></li></ul></div></li></ul></div></div>"
      ],
      "text/plain": [
       "<scipp.DataArray>\n",
       "Dimensions: Sizes[detector_id:458752, tof:1, ]\n",
       "Coordinates:\n",
       "  detector_id                 int32           [None]  (detector_id)  [1, 2, ..., 458751, 458752]\n",
       "  position                  vector3              [m]  (detector_id)  [(-0.499023, 0.45326, 4.42333), (-0.497074, 0.45326, 4.42333), ..., (0.495061, -0.4437, 4.51745), (0.49701, -0.4437, 4.51745)]\n",
       "  source_position           vector3              [m]  ()  [(0, 0, -25.3)]\n",
       "  tof                         int32             [ns]  (tof [bin-edge])  [91, 100000046]\n",
       "Data:\n",
       "                          DataArrayView           [None]  (detector_id, tof)  [<scipp.DataArray>\n",
       "Dimensions: Sizes[event:0, ]\n",
       "Coordinates:\n",
       "  pulse_time              datetime64             [ns]  (event)  []\n",
       "  tof                         int32             [ns]  (event)  []\n",
       "Data:\n",
       "                            float32         [counts]  (event)  []  []\n",
       "\n",
       ", <scipp.DataArray>\n",
       "Dimensions: Sizes[event:0, ]\n",
       "Coordinates:\n",
       "  pulse_time              datetime64             [ns]  (event)  []\n",
       "  tof                         int32             [ns]  (event)  []\n",
       "Data:\n",
       "                            float32         [counts]  (event)  []  []\n",
       "\n",
       ", ..., <scipp.DataArray>\n",
       "Dimensions: Sizes[event:0, ]\n",
       "Coordinates:\n",
       "  pulse_time              datetime64             [ns]  (event)  []\n",
       "  tof                         int32             [ns]  (event)  []\n",
       "Data:\n",
       "                            float32         [counts]  (event)  []  []\n",
       "\n",
       ", <scipp.DataArray>\n",
       "Dimensions: Sizes[event:0, ]\n",
       "Coordinates:\n",
       "  pulse_time              datetime64             [ns]  (event)  []\n",
       "  tof                         int32             [ns]  (event)  []\n",
       "Data:\n",
       "                            float32         [counts]  (event)  []  []\n",
       "\n",
       "]\n",
       "Attributes:\n",
       "  base_position             vector3              [m]  (detector_id)  [(0, -0.00114, -0.00767), (0.00194919, -0.00114, -0.00767), ..., (0.994085, -0.8981, 0.086447), (0.996034, -0.8981, 0.086447)]\n",
       "  end_time                   string           [None]  ()  [\"2032-03-02T09:05:46.690Z\"]\n",
       "  experiment_title           string           [None]  ()  [\"My experiment\"]\n",
       "  monitor_1               DataArray           [None]  ()  [<scipp.DataArray>\n",
       "Dimensions: Sizes[detector_id:1, tof:1, ]\n",
       "Coordinates:\n",
       "  detector_id                 int32           [None]  (detector_id)  [1]\n",
       "  tof                         int32             [ns]  (tof [bin-edge])  [7291, 99999036]\n",
       "Data:\n",
       "                          DataArrayView           [None]  (detector_id, tof)  [<scipp.DataArray>\n",
       "Dimensions: Sizes[event:10930751, ]\n",
       "Coordinates:\n",
       "  pulse_time              datetime64             [ns]  (event)  [2022-03-02T21:05:46.106536566, 2022-03-02T21:05:46.106536566, ..., 2022-03-02T21:36:52.606456716, 2022-03-02T21:36:52.606456716]\n",
       "  tof                         int32             [ns]  (event)  [14857386, 14983095, ..., 32689554, 33205110]\n",
       "Data:\n",
       "                            float32         [counts]  (event)  [1, 1, ..., 1, 1]  [1, 1, ..., 1, 1]\n",
       "\n",
       "]\n",
       "\n",
       "]\n",
       "  monitor_2               DataArray           [None]  ()  [<scipp.DataArray>\n",
       "Dimensions: Sizes[detector_id:1, tof:1, ]\n",
       "Coordinates:\n",
       "  detector_id                 int32           [None]  (detector_id)  [2]\n",
       "  tof                         int32             [ns]  (tof [bin-edge])  [17388, 99998797]\n",
       "Data:\n",
       "                          DataArrayView           [None]  (detector_id, tof)  [<scipp.DataArray>\n",
       "Dimensions: Sizes[event:75397, ]\n",
       "Coordinates:\n",
       "  pulse_time              datetime64             [ns]  (event)  [2022-03-02T21:05:46.106536566, 2022-03-02T21:05:46.106536566, ..., 2022-03-02T21:36:52.606456716, 2022-03-02T21:36:52.606456716]\n",
       "  tof                         int32             [ns]  (event)  [22168104, 22493001, ..., 8892195, 11229652]\n",
       "Data:\n",
       "                            float32         [counts]  (event)  [1, 1, ..., 1, 1]  [1, 1, ..., 1, 1]\n",
       "\n",
       "]\n",
       "\n",
       "]\n",
       "  position_transformations Variable           [None]  ()  [<scipp.Variable> ()  affine_transform3              [m]  [        1         0         0 -0.499023\n",
       "        0         1         0    0.4544\n",
       "        0         0         1     4.431\n",
       "        0         0         0         1]]\n",
       "  source_base_position      vector3              [m]  ()  [(0, 0, 0)]\n",
       "  source_transform         Variable           [None]  ()  [<scipp.Variable> ()  affine_transform3              [m]  [    1     0     0     0\n",
       "    0     1     0     0\n",
       "    0     0     1 -25.3\n",
       "    0     0     0     1]]\n",
       "  start_time                 string           [None]  ()  [\"2022-03-02T21:05:46.690Z\"]\n"
      ]
     },
     "execution_count": 16,
     "metadata": {},
     "output_type": "execute_result"
    }
   ],
   "source": [
    "data"
   ]
  },
  {
   "cell_type": "code",
   "execution_count": null,
   "id": "c7574278-b280-48d4-be5c-78fa010371ec",
   "metadata": {},
   "outputs": [],
   "source": [
    "sc.max(data.coords['position'].fields.z) - sc.min(data.coords['position'].fields.z)"
   ]
  },
  {
   "cell_type": "code",
   "execution_count": 45,
   "id": "a331db4f-3bd1-4656-ba6c-f5db345b8476",
   "metadata": {},
   "outputs": [
    {
     "data": {
      "application/vnd.jupyter.widget-view+json": {
       "model_id": "a74cfd4935394aa09015d846b52a4f24",
       "version_major": 2,
       "version_minor": 0
      },
      "text/plain": [
       "VBox(children=(HBox(children=(VBox(children=(Button(icon='home', layout=Layout(padding='0px 0px 0px 0px', widt…"
      ]
     },
     "metadata": {},
     "output_type": "display_data"
    }
   ],
   "source": [
    "data.plot(norm='log')"
   ]
  },
  {
   "cell_type": "code",
   "execution_count": 59,
   "id": "b313ca37-99ac-430a-ba07-de6ab74f1758",
   "metadata": {},
   "outputs": [
    {
     "data": {
      "text/html": [
       "<div><!-- Original source from -->\n",
       "<!-- https://github.com/jsignell/xarray/blob/1d960933ab252e0f79f7e050e6c9261d55568057/xarray/static/html/icons-svg-inline.html -->\n",
       "<svg style=\"position: absolute; width: 0; height: 0; overflow: hidden\">\n",
       "<defs>\n",
       "<symbol id=\"icon-database\" viewBox=\"0 0 32 32\">\n",
       "<title>Show/Hide data repr</title>\n",
       "<path d=\"M16 0c-8.837 0-16 2.239-16 5v4c0 2.761 7.163 5 16 5s16-2.239 16-5v-4c0-2.761-7.163-5-16-5z\"></path>\n",
       "<path d=\"M16 17c-8.837 0-16-2.239-16-5v6c0 2.761 7.163 5 16 5s16-2.239 16-5v-6c0 2.761-7.163 5-16 5z\"></path>\n",
       "<path d=\"M16 26c-8.837 0-16-2.239-16-5v6c0 2.761 7.163 5 16 5s16-2.239 16-5v-6c0 2.761-7.163 5-16 5z\"></path>\n",
       "</symbol>\n",
       "<symbol id=\"icon-file-text2\" viewBox=\"0 0 32 32\">\n",
       "<title>Show/Hide attributes</title>\n",
       "<path d=\"M28.681 7.159c-0.694-0.947-1.662-2.053-2.724-3.116s-2.169-2.030-3.116-2.724c-1.612-1.182-2.393-1.319-2.841-1.319h-15.5c-1.378 0-2.5 1.121-2.5 2.5v27c0 1.378 1.122 2.5 2.5 2.5h23c1.378 0 2.5-1.122 2.5-2.5v-19.5c0-0.448-0.137-1.23-1.319-2.841zM24.543 5.457c0.959 0.959 1.712 1.825 2.268 2.543h-4.811v-4.811c0.718 0.556 1.584 1.309 2.543 2.268zM28 29.5c0 0.271-0.229 0.5-0.5 0.5h-23c-0.271 0-0.5-0.229-0.5-0.5v-27c0-0.271 0.229-0.5 0.5-0.5 0 0 15.499-0 15.5 0v7c0 0.552 0.448 1 1 1h7v19.5z\"></path>\n",
       "<path d=\"M23 26h-14c-0.552 0-1-0.448-1-1s0.448-1 1-1h14c0.552 0 1 0.448 1 1s-0.448 1-1 1z\"></path>\n",
       "<path d=\"M23 22h-14c-0.552 0-1-0.448-1-1s0.448-1 1-1h14c0.552 0 1 0.448 1 1s-0.448 1-1 1z\"></path>\n",
       "<path d=\"M23 18h-14c-0.552 0-1-0.448-1-1s0.448-1 1-1h14c0.552 0 1 0.448 1 1s-0.448 1-1 1z\"></path>\n",
       "</symbol>\n",
       "</defs>\n",
       "</svg><style id=\"scipp-style-sheet\">.sc-root{--sc-background-color0:var(--jp-layout-color0,#fff);--sc-background-color1:var(--jp-layout-color1,#fcfcfc);--sc-background-color2:var(--jp-layout-color2,#efefef);--sc-inverse-background-color0:var(--jp-inverse-layout-color4,#111);--sc-font-color0:var(--jp-content-font-color0,#000);--sc-font-color1:var(--jp-content-font-color1,#555);--sc-font-color2:var(--jp-content-font-color2,#888);--sc-font-color3:var(--jp-content-font-color3,#ccc);--sc-table-data-color:#f6d028;--sc-table-coords-color:#c6e590;--sc-table-masks-color:#c8c8c8;--sc-table-attrs-color:#ff5555;--sc-table-header-font-color:#111111;}.sc-wrap{font-size:14px;min-width:300px;max-width:800px;}.sc-var-attrs .sc-wrap{padding-left:3em;}.sc-header{padding-top:6px;padding-bottom:6px;margin-bottom:4px;border-bottom:solid 1px #ddd;}.sc-header > div,.sc-header > ul{display:inline;margin-top:0;margin-bottom:0;}.sc-obj-type,.sc-array-name{margin-left:2px;margin-right:10px;}.sc-obj-type{color:var(--sc-font-color1);}.sc-underlying-size{color:var(--sc-font-color2);}.sc-sections{padding-left:0 !important;display:grid;grid-template-columns:150px auto auto auto 1fr 20px 20px;}.sc-section-item{display:contents;}.sc-section-item input{display:none;}.sc-section-item input:enabled + label{cursor:pointer;color:var(--sc-font-color1);}.sc-section-item input:enabled + label:hover{color:var(--sc-font-color0);}.sc-section-summary{grid-column:1;font-weight:500;}.sc-section-summary > span{display:inline-block;padding-left:0.5em;}.sc-section-summary-in:disabled + label{color:var(--sc-font-color1);}.sc-section-summary-in + label:before{display:inline-block;content:'►';font-size:11px;width:15px;text-align:center;}.sc-section-summary-in:disabled + label:before{color:var(--sc-font-color3);}.sc-section-summary-in:checked + label:before{content:'▼';}.sc-section-summary-in:checked + label > span{display:none;}.sc-section-summary,.sc-section-inline-details{padding-top:4px;padding-bottom:4px;}.sc-section-inline-details{grid-column:2 / 6;}.sc-section-details{display:none;grid-column:1 / -1;margin-bottom:5px;}.sc-section-summary-in:checked ~ .sc-section-details{display:contents;}.sc-array-wrap{grid-column:1 / -1;display:grid;grid-template-columns:20px auto;}.sc-array-wrap > label{grid-column:1;vertical-align:top;}.sc-preview{color:var(--sc-font-color2);}.sc-array-preview,.sc-array-data{padding:0 5px !important;grid-column:2;}.sc-array-data,.sc-array-in:checked ~ .sc-array-preview{display:none;}.sc-array-in:checked ~ .sc-array-data,.sc-array-preview{display:inline-block;}.sc-dim-list{display:inline-block !important;list-style:none;padding:0 !important;margin:0;}.sc-dim-list li{display:inline-block;padding:0;margin:0!important;}.sc-dim-list:before{content:'(';}.sc-dim-list:after{content:')';}.sc-dim-list li:not(:last-child):after{content:',';padding-right:5px;}.sc-has-index{font-weight:bold;}.sc-var-list,.sc-var-item{display:contents;}.sc-var-item > div,.sc-var-item label,.sc-var-item > .sc-var-name span{background-color:var(--sc-background-color1);margin-bottom:0;}.sc-var-item > .sc-var-name:hover span{padding-right:5px;}.sc-var-list > li:nth-child(odd) > div,.sc-var-list > li:nth-child(odd) > label,.sc-var-list > li:nth-child(odd) > .sc-var-name span{background-color:var(--sc-background-color2);}.sc-var-name{grid-column:1;}.sc-var-dims{grid-column:2;}.sc-var-dtype{grid-column:3;text-align:right;color:var(--sc-font-color2);}.sc-var-unit{grid-column:4;text-align:left;color:var(--sc-font-color1);max-width:50pt;text-overflow:ellipsis;}.sc-value-preview{grid-column:5;}.sc-var-preview-variances{text-align:right;}.sc-sections .sc-section-item .sc-section-summary,.sc-sections .sc-section-item .sc-section-inline-details,.sc-section-item .sc-var-list .sc-var-item > div,.sc-section-item .sc-var-list .sc-var-item > label,.sc-section-details .sc-var-list .sc-var-item > div,.sc-section-details .sc-var-list .sc-var-item > label{margin-top:0;margin-bottom:0;}.sc-var-name,.sc-var-dims,.sc-var-dtype,.sc-var-unit,.sc-preview,.sc-attrs dt{white-space:nowrap;overflow:hidden;text-overflow:ellipsis;padding-right:10px;}.sc-var-name:hover,.sc-var-dims:hover,.sc-var-dtype:hover,.sc-var-unit:hover,.sc-attrs dt:hover{overflow:visible;width:auto;z-index:1;}.sc-var-attrs{display:block;}.sc-var-data{display:none;}.sc-var-attrs,.sc-var-data{background-color:var(--sc-background-color0) !important;padding-bottom:5px !important;}.sc-var-attrs-in:checked ~ .sc-var-attrs{display:none;}.sc-var-data-in:checked ~ .sc-var-data{display:block;}.sc-var-data > table{float:right;}.sc-var-name span,.sc-var-data{padding-left:25px !important;}.sc-var-attrs,.sc-var-data{grid-column:1 / -1;}dl.sc-attrs{padding:0;margin:0;display:grid;grid-template-columns:125px auto;}.sc-attrs dt,dd{padding:0;margin:0;float:left;padding-right:10px;width:auto;}.sc-attrs dt{font-weight:normal;grid-column:1;}.sc-attrs dt:hover span{display:inline-block;padding-right:10px;}.sc-attrs dd{grid-column:2;white-space:pre-wrap;word-break:break-all;}.sc-icon-database,.sc-icon-file-text2{display:inline-block;vertical-align:middle;width:1em;height:1.5em !important;stroke-width:0;stroke:currentColor;fill:currentColor;}label.sc-hide-icon svg{opacity:0;}.sc-standalone-var-name{grid-column:1/3;}.sc-standalone-var-name span{padding-left:25px;padding-right:10px;}.sc-table{border-collapse:collapse;}.sc-title{font-weight:bold;font-size:1.5em;}.sc-subtitle{font-weight:normal;font-style:italic;text-align:left;font-size:1.2em;padding:1px;}.sc-table th,.sc-table td{border:1px solid var(--sc-inverse-background-color0);padding:0 5px 0 5px;}.sc-table th{text-align:center;}.sc-table tr{background-color:var(--sc-background-color1);text-align:right;}.sc-table tr:hover{background-color:var(--sc-background-color2);}.sc-table th.sc-data{background-color:var(--sc-table-data-color);color:var(--sc-table-header-font-color);}.sc-table th.sc-coords{background-color:var(--sc-table-coords-color);color:var(--sc-table-header-font-color);}.sc-table th.sc-masks{background-color:var(--sc-table-masks-color);color:var(--sc-table-header-font-color);}.sc-table th.sc-attrs{background-color:var(--sc-table-attrs-color);color:var(--sc-table-header-font-color);}.sc-table th.sc-subheader{background-color:var(--sc-background-color2);}.sc-table td.sc-padding{background-color:var(--sc-background-color1);border:0 solid var(--sc-background-color1);height:1.2em;}.sc-label{fill:var(--sc-font-color0,#444444);text-anchor:middle;}.sc-name{fill:var(--sc-font-color0,#111111);}.sc-inset-line{stroke:var(--sc-font-color1);stroke-width:0.05;stroke-dasharray:0.2,0.2;}.sc-log-wrap{height:25ex;resize:vertical;overflow-y:scroll;display:flex;flex-direction:column-reverse;border:1px solid;border-color:var(--jp-border-color2);background-color:var(--sc-background-color1);}div.sc-log{line-height:2.5ex;}table.sc-log{table-layout:auto;border-collapse:collapse;}tr.sc-log:nth-child(even){background-color:var(--sc-background-color0);}tr.sc-log > td{vertical-align:top;padding-bottom:0.5ex;}.sc-log-time-stamp{min-width:22ch;font-family:var(--jp-code-font-family);color:var(--sc-font-color2);}.sc-log-level{min-width:10ch;}tr.sc-log-debug td.sc-log-level{color:var(--jp-accent-color1);}tr.sc-log-info td.sc-log-level{color:var(--jp-info-color1);}tr.sc-log-warning td.sc-log-level{color:var(--jp-warn-color1);}tr.sc-log-error td.sc-log-level{font-weight:bold;color:var(--jp-error-color2);}tr.sc-log-critical td.sc-log-level{font-weight:bold;color:var(--sc-background-color0);background-color:var(--jp-error-color1);}.sc-log-message{white-space:pre-wrap;width:100%;}.sc-log-html-payload{white-space:normal;}.sc-log-name{padding-right:0.5em;text-align:right;white-space:pre-wrap;color:var(--sc-font-color3);}</style><div class='sc-wrap sc-root'><div class='sc-header'><div class='sc-obj-type'>scipp.Variable (4 Bytes <span class='sc-underlying-size'>out of 8 Bytes</span>)</div></div><ul class='sc-sections'><li class='sc-section-item'><ul class='sc-var-list'><li class='sc-var-item'><div class='sc-standalone-var-name'><span>()</span></div><div class='sc-var-dtype'>int32</div><div class='sc-var-unit'>ns</div><div class='sc-value-preview sc-preview'><span><div>100000046</div></span></div><input id='attrs-87cc26f1-9b32-4dcb-8b50-2364128a743f' class='sc-var-attrs-in' type='checkbox' disabled><label for='attrs-87cc26f1-9b32-4dcb-8b50-2364128a743f' class='sc-hide-icon' title='Show/Hide attributes'><svg class='icon sc-icon-file-text2'><use xlink:href='#icon-file-text2'></use></svg></label><input id='data-0930332c-d0d9-4392-aa50-779fac5670e5' class='sc-var-data-in' type='checkbox'><label for='data-0930332c-d0d9-4392-aa50-779fac5670e5' title='Show/Hide data repr'><svg class='icon sc-icon-database'><use xlink:href='#icon-database'></use></svg></label><pre class='sc-var-data'>Values:<br>array(100000046, dtype=int32)</pre></li></ul></li></ul></div></div>"
      ],
      "text/plain": [
       "<scipp.Variable> ()      int32             [ns]  [100000046]"
      ]
     },
     "execution_count": 59,
     "metadata": {},
     "output_type": "execute_result"
    }
   ],
   "source": [
    "data.coords['tof'][-1]"
   ]
  },
  {
   "cell_type": "code",
   "execution_count": 62,
   "id": "a264b120-e48c-4790-87c9-1294a3421614",
   "metadata": {},
   "outputs": [
    {
     "ename": "AttributeError",
     "evalue": "'dict' object has no attribute 'plot'",
     "output_type": "error",
     "traceback": [
      "\u001b[0;31m---------------------------------------------------------------------------\u001b[0m",
      "\u001b[0;31mAttributeError\u001b[0m                            Traceback (most recent call last)",
      "\u001b[0;32m/var/folders/q3/5vy4nct93wg03ynnn836g49m0000gq/T/ipykernel_46229/2027217543.py\u001b[0m in \u001b[0;36m<cell line: 1>\u001b[0;34m()\u001b[0m\n\u001b[0;32m----> 1\u001b[0;31m \u001b[0msc\u001b[0m\u001b[0;34m.\u001b[0m\u001b[0mcollapse\u001b[0m\u001b[0;34m(\u001b[0m\u001b[0mdata\u001b[0m\u001b[0;34m,\u001b[0m \u001b[0mkeep\u001b[0m\u001b[0;34m=\u001b[0m\u001b[0;34m'tof'\u001b[0m\u001b[0;34m)\u001b[0m\u001b[0;34m.\u001b[0m\u001b[0mplot\u001b[0m\u001b[0;34m(\u001b[0m\u001b[0;34m)\u001b[0m\u001b[0;34m\u001b[0m\u001b[0;34m\u001b[0m\u001b[0m\n\u001b[0m",
      "\u001b[0;31mAttributeError\u001b[0m: 'dict' object has no attribute 'plot'"
     ]
    }
   ],
   "source": [
    "sc.collapse(data, keep='tof').plot()"
   ]
  },
  {
   "cell_type": "markdown",
   "id": "309557e7-194d-4858-bae8-b4fa1b444af9",
   "metadata": {},
   "source": [
    "### Instrument view"
   ]
  },
  {
   "cell_type": "code",
   "execution_count": 46,
   "id": "1bfed756-515f-421e-b11c-106766a1eb6b",
   "metadata": {},
   "outputs": [
    {
     "data": {
      "application/vnd.jupyter.widget-view+json": {
       "model_id": "2c7f64b668f845a9b91858eaa1ee6bcb",
       "version_major": 2,
       "version_minor": 0
      },
      "text/plain": [
       "VBox(children=(HBox(children=(VBox(children=(Button(icon='home', layout=Layout(padding='0px 0px 0px 0px', widt…"
      ]
     },
     "metadata": {},
     "output_type": "display_data"
    }
   ],
   "source": [
    "scn.instrument_view(data, pixel_size=0.01, norm=\"log\")"
   ]
  },
  {
   "cell_type": "markdown",
   "id": "71d6611d-35ba-469f-8082-8ec4a1fbe59e",
   "metadata": {},
   "source": [
    "### Histograming data"
   ]
  },
  {
   "cell_type": "code",
   "execution_count": 77,
   "id": "b95703e4-d845-4241-970b-902672b823b4",
   "metadata": {},
   "outputs": [
    {
     "data": {
      "text/plain": [
       "array(91, dtype=int32)"
      ]
     },
     "execution_count": 77,
     "metadata": {},
     "output_type": "execute_result"
    }
   ],
   "source": [
    "data.coords['tof'][0].values"
   ]
  },
  {
   "cell_type": "code",
   "execution_count": 99,
   "id": "64d57a64-a03a-4a50-a134-668cf9a4f581",
   "metadata": {},
   "outputs": [
    {
     "data": {
      "text/plain": [
       "'91'"
      ]
     },
     "execution_count": 99,
     "metadata": {},
     "output_type": "execute_result"
    }
   ],
   "source": [
    "start_tof = data.coords['tof'][0].values\n",
    "f'{start_tof}'"
   ]
  },
  {
   "cell_type": "code",
   "execution_count": 95,
   "id": "1f93b3e3-75ba-4f2f-a6ab-c491c92fb0f9",
   "metadata": {},
   "outputs": [
    {
     "data": {
      "text/plain": [
       "5209954"
      ]
     },
     "execution_count": 95,
     "metadata": {},
     "output_type": "execute_result"
    }
   ],
   "source": [
    " len(data.bins.constituents['data'].values)"
   ]
  },
  {
   "cell_type": "code",
   "execution_count": 85,
   "id": "13270566-e4e8-40f3-b0db-c53a3b2f3b1c",
   "metadata": {},
   "outputs": [],
   "source": [
    "tof_edges = sc.linspace(dim='tof', start=data.coords['tof'][0].values, stop=data.coords['tof'][-1].values, num=100, unit='ns')\n",
    "histogrammed = sc.histogram(data, bins=tof_edges)"
   ]
  },
  {
   "cell_type": "code",
   "execution_count": 87,
   "id": "79dbad40-0fe2-45e3-9a1c-684c26353925",
   "metadata": {},
   "outputs": [],
   "source": []
  },
  {
   "cell_type": "code",
   "execution_count": 88,
   "id": "9209d597-fad1-4fa7-b4d9-2d7b9065dda9",
   "metadata": {},
   "outputs": [
    {
     "data": {
      "application/vnd.jupyter.widget-view+json": {
       "model_id": "50135bb275004864a2ff640db671d1bc",
       "version_major": 2,
       "version_minor": 0
      },
      "text/plain": [
       "VBox(children=(HBox(children=(VBox(children=(Button(icon='home', layout=Layout(padding='0px 0px 0px 0px', widt…"
      ]
     },
     "metadata": {},
     "output_type": "display_data"
    }
   ],
   "source": [
    "histogrammed.sum('detector_id').plot()"
   ]
  },
  {
   "cell_type": "code",
   "execution_count": null,
   "id": "dde8cf26-951b-46b0-9761-a883eb7788f4",
   "metadata": {},
   "outputs": [],
   "source": []
  },
  {
   "cell_type": "code",
   "execution_count": 57,
   "id": "1eaa5c9a-88ea-4bb7-bf9f-74f99e2ee1d2",
   "metadata": {},
   "outputs": [
    {
     "data": {
      "application/vnd.jupyter.widget-view+json": {
       "model_id": "1dc05351e8264c93b17165002b39c183",
       "version_major": 2,
       "version_minor": 0
      },
      "text/plain": [
       "VBox(children=(HBox(children=(VBox(children=(Button(icon='home', layout=Layout(padding='0px 0px 0px 0px', widt…"
      ]
     },
     "metadata": {},
     "output_type": "display_data"
    }
   ],
   "source": [
    "z = data.coords['position'].fields.z\n",
    "near = z.min()\n",
    "far = z.max()\n",
    "layer = ((z - near) * 800).astype('int32')\n",
    "layer.unit = ''\n",
    "layer.plot()"
   ]
  },
  {
   "cell_type": "code",
   "execution_count": null,
   "id": "3d030837-1218-48a5-88be-f3b2ec120346",
   "metadata": {},
   "outputs": [],
   "source": [
    "scn.instrument_view(histoigramed, pixel_size=0.01)"
   ]
  },
  {
   "cell_type": "markdown",
   "id": "e2c1c759-3802-43a8-ad94-e035b84c3e32",
   "metadata": {},
   "source": [
    "## Sorting out monitors"
   ]
  },
  {
   "cell_type": "code",
   "execution_count": null,
   "id": "d20b6489-336b-4b6f-b7d8-4d4e8cc76d3c",
   "metadata": {},
   "outputs": [],
   "source": [
    "monitors = {\n",
    "    'sample': {'incident': data.attrs[\"monitor_1\"].value,\n",
    "               'transmission': data.attrs[\"monitor_2\"].value}\n",
    "}"
   ]
  },
  {
   "cell_type": "code",
   "execution_count": null,
   "id": "aa857ea1-da1e-46e9-92a0-8acfd552edcd",
   "metadata": {},
   "outputs": [],
   "source": [
    "monitors['sample']['incident'].coords['position'] = sc.vector(value = np.array([0, 0, 0.0]), unit = sc.units.m)\n",
    "monitors['sample']['incident'].coords['source_position'] = sc.vector(value = np.array([0, 0, -25.3]), unit = sc.units.m)\n",
    "monitors['sample']['transmission'].coords['position'] = sc.vector(value = np.array([0, 0, 0.0]), unit = sc.units.m)\n",
    "monitors['sample']['transmission'].coords['source_position'] = sc.vector(value = np.array([0, 0, -25.3]), unit = sc.units.m)"
   ]
  },
  {
   "cell_type": "code",
   "execution_count": 36,
   "id": "2e30d724-0ca6-4f23-8586-3a444b12b993",
   "metadata": {},
   "outputs": [
    {
     "ename": "NameError",
     "evalue": "name 'monitors' is not defined",
     "output_type": "error",
     "traceback": [
      "\u001b[0;31m---------------------------------------------------------------------------\u001b[0m",
      "\u001b[0;31mNameError\u001b[0m                                 Traceback (most recent call last)",
      "\u001b[0;32m/var/folders/q3/5vy4nct93wg03ynnn836g49m0000gq/T/ipykernel_46229/1914746725.py\u001b[0m in \u001b[0;36m<cell line: 2>\u001b[0;34m()\u001b[0m\n\u001b[1;32m      1\u001b[0m \u001b[0mtof_edges\u001b[0m \u001b[0;34m=\u001b[0m \u001b[0msc\u001b[0m\u001b[0;34m.\u001b[0m\u001b[0mlinspace\u001b[0m\u001b[0;34m(\u001b[0m\u001b[0mdim\u001b[0m\u001b[0;34m=\u001b[0m\u001b[0;34m'tof'\u001b[0m\u001b[0;34m,\u001b[0m \u001b[0mstart\u001b[0m\u001b[0;34m=\u001b[0m\u001b[0;36m91\u001b[0m\u001b[0;34m,\u001b[0m \u001b[0mstop\u001b[0m\u001b[0;34m=\u001b[0m\u001b[0;36m100000046\u001b[0m\u001b[0;34m,\u001b[0m \u001b[0mnum\u001b[0m\u001b[0;34m=\u001b[0m\u001b[0;36m400\u001b[0m\u001b[0;34m,\u001b[0m \u001b[0munit\u001b[0m\u001b[0;34m=\u001b[0m\u001b[0;34m'ns'\u001b[0m\u001b[0;34m)\u001b[0m\u001b[0;34m\u001b[0m\u001b[0;34m\u001b[0m\u001b[0m\n\u001b[0;32m----> 2\u001b[0;31m \u001b[0mhistogrammed_monitor1\u001b[0m \u001b[0;34m=\u001b[0m \u001b[0msc\u001b[0m\u001b[0;34m.\u001b[0m\u001b[0mhistogram\u001b[0m\u001b[0;34m(\u001b[0m\u001b[0mmonitors\u001b[0m\u001b[0;34m[\u001b[0m\u001b[0;34m'sample'\u001b[0m\u001b[0;34m]\u001b[0m\u001b[0;34m[\u001b[0m\u001b[0;34m'incident'\u001b[0m\u001b[0;34m]\u001b[0m\u001b[0;34m,\u001b[0m \u001b[0mbins\u001b[0m\u001b[0;34m=\u001b[0m\u001b[0mtof_edges\u001b[0m\u001b[0;34m)\u001b[0m\u001b[0;34m\u001b[0m\u001b[0;34m\u001b[0m\u001b[0m\n\u001b[0m\u001b[1;32m      3\u001b[0m \u001b[0mhistogrammed_monitor2\u001b[0m \u001b[0;34m=\u001b[0m \u001b[0msc\u001b[0m\u001b[0;34m.\u001b[0m\u001b[0mhistogram\u001b[0m\u001b[0;34m(\u001b[0m\u001b[0mmonitors\u001b[0m\u001b[0;34m[\u001b[0m\u001b[0;34m'sample'\u001b[0m\u001b[0;34m]\u001b[0m\u001b[0;34m[\u001b[0m\u001b[0;34m'transmission'\u001b[0m\u001b[0;34m]\u001b[0m\u001b[0;34m,\u001b[0m \u001b[0mbins\u001b[0m\u001b[0;34m=\u001b[0m\u001b[0mtof_edges\u001b[0m\u001b[0;34m)\u001b[0m\u001b[0;34m\u001b[0m\u001b[0;34m\u001b[0m\u001b[0m\n",
      "\u001b[0;31mNameError\u001b[0m: name 'monitors' is not defined"
     ]
    }
   ],
   "source": [
    "tof_edges = sc.linspace(dim='tof', start=91, stop=100000046, num=400, unit='ns')\n",
    "histogrammed_monitor1 = sc.histogram(monitors['sample']['incident'], bins=tof_edges)\n",
    "histogrammed_monitor2 = sc.histogram(monitors['sample']['transmission'], bins=tof_edges)"
   ]
  },
  {
   "cell_type": "code",
   "execution_count": null,
   "id": "1f567c76-47eb-4132-93a4-72cae361a680",
   "metadata": {},
   "outputs": [],
   "source": [
    "#sc.plot({'monitor1':histogrammed_monitor1.sum('detector_id'), \n",
    "#        'monitor2':histogrammed_monitor2.sum('detector_id')})\n",
    "\n",
    "sc.plot({'monitor1':histogrammed_monitor1.sum('detector_id')})"
   ]
  },
  {
   "cell_type": "code",
   "execution_count": null,
   "id": "04ff93b4-840f-4e69-b67d-b660ff8d4b14",
   "metadata": {},
   "outputs": [],
   "source": [
    "sc.plot({ 'monitor2':histogrammed_monitor2.sum('detector_id')})"
   ]
  },
  {
   "cell_type": "code",
   "execution_count": null,
   "id": "0eff9268-3583-41c7-81ce-cfe61f40c842",
   "metadata": {},
   "outputs": [],
   "source": [
    "data.attrs[\"monitor_1\"].value"
   ]
  },
  {
   "cell_type": "code",
   "execution_count": null,
   "id": "44062d83-2732-46ef-b68a-b68812e50c8e",
   "metadata": {},
   "outputs": [],
   "source": [
    "histoigramed.sum('detector_id').plot()"
   ]
  },
  {
   "cell_type": "markdown",
   "id": "8dc2a75a-618b-4403-a44b-f1e82566b089",
   "metadata": {},
   "source": [
    "### Troubleshooting"
   ]
  },
  {
   "cell_type": "code",
   "execution_count": null,
   "id": "9cb440c6-4b40-47c7-9b5a-8fe5810da7db",
   "metadata": {},
   "outputs": [],
   "source": [
    "#path = 'Larmor_data'\n",
    "#scn.load(filename=f'{path}/2022-02-23_1100_detector_id.nxs', mantid_alg='LoadEventNexus')"
   ]
  },
  {
   "cell_type": "code",
   "execution_count": null,
   "id": "2ce5bc0a-8c62-4dee-85c6-db563a21f3ab",
   "metadata": {},
   "outputs": [],
   "source": [
    "binned_data = data.bins.sum()\n",
    "scn.instrument_view(binned_data)\n",
    "binned_data.plot()\n",
    "binned_data\n",
    "binned_data.sum('detector_id').plot(marker='.')"
   ]
  },
  {
   "cell_type": "code",
   "execution_count": null,
   "id": "bf9b8695-ac41-447b-89a5-cb4ee566efc3",
   "metadata": {},
   "outputs": [],
   "source": []
  }
 ],
 "metadata": {
  "kernelspec": {
   "display_name": "Python 3 (ipykernel)",
   "language": "python",
   "name": "python3"
  },
  "language_info": {
   "codemirror_mode": {
    "name": "ipython",
    "version": 3
   },
   "file_extension": ".py",
   "mimetype": "text/x-python",
   "name": "python",
   "nbconvert_exporter": "python",
   "pygments_lexer": "ipython3",
   "version": "3.8.12"
  }
 },
 "nbformat": 4,
 "nbformat_minor": 5
}
