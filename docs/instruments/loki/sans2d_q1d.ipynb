{
 "cells": [
  {
   "cell_type": "markdown",
   "id": "9a935df3-c816-4829-99c3-2afa979b7611",
   "metadata": {},
   "source": [
    "# SANS2D: Q1D workflow for a single run (sample)\n",
    "\n",
    "This notebook describes in detail the steps that are undertaken in the `sans.q1d` workflow. \n",
    "\n",
    "**Note:** It uses sample run for simplicity and it is not intended to describe complete data reduction pipeline. The complete pipeline is described in sans2d_reduction.ipynb.\n",
    "\n",
    "**Outline:**\n",
    "\n",
    "- We will begin by loading the data files containing the sample and the direct (empty sample holder) measurements.\n",
    "- We will then apply some corrections to beamline components specific to the SANS2D beamline.\n",
    "- This will be followed by some masking of some saturated or defect detector pixels\n",
    "- Both sample and direct measurement, as well as their monitors, will then be converted to wavelength\n",
    "- From the direct run, and the direct beam function, the normalization term will be computed\n",
    "- Both sample measurement and normalization term will be converted to $Q$\n",
    "- Finally, the sample counts (as a function of $Q$) will be divided by the normalization term (as a function of $Q$)"
   ]
  },
  {
   "cell_type": "code",
   "execution_count": null,
   "id": "8c7f7cf7-0582-4953-a772-a0f87d1cf0e2",
   "metadata": {},
   "outputs": [],
   "source": [
    "import scipp as sc\n",
    "from ess import loki, sans\n",
    "import scippneutron as scn"
   ]
  },
  {
   "cell_type": "markdown",
   "id": "bafd7ab4-d478-4c96-8196-69029fb221c4",
   "metadata": {},
   "source": [
    "## Loading data files\n",
    "\n",
    "We load a sample measurement file (`SANS2D00063114.nxs`) and a direct measurement file (`SANS2D00063091.nxs`).\n",
    "For both files, only the first quarter of pixels will be used, as the rest are used for monitoring."
   ]
  },
  {
   "cell_type": "code",
   "execution_count": null,
   "id": "0315d002-9cab-4ae4-8f63-c72a532f716b",
   "metadata": {},
   "outputs": [],
   "source": [
    "# Using only one-fourth of the full spectra 245760 (reserved for first detector)\n",
    "spectrum_size =  245760//4\n",
    "\n",
    "# Wavelength binning\n",
    "wavelength_bins = sc.linspace(dim='wavelength', start=2.0, stop=16.0, num=141, unit='angstrom')\n",
    "\n",
    "# Sample measurement\n",
    "sample = loki.io.load_sans2d(filename=loki.data.get_path('SANS2D00063114.nxs'),\n",
    "                             spectrum_size=spectrum_size)\n",
    "# Direct measurement is with the empty sample holder/cuvette\n",
    "direct = loki.io.load_sans2d(filename=loki.data.get_path('SANS2D00063091.nxs'),\n",
    "                             spectrum_size=spectrum_size)\n",
    "sample"
   ]
  },
  {
   "cell_type": "markdown",
   "id": "c4569a53-a19a-440e-8aa0-63df29f67d05",
   "metadata": {},
   "source": [
    "## Extract monitors\n",
    "\n",
    "From these two runs, we extract the data from the incident and transmission monitors,\n",
    "and place them in their own `dict`, as this will be useful further down."
   ]
  },
  {
   "cell_type": "code",
   "execution_count": null,
   "id": "b042699e-4061-4f04-87f0-d52ff3cbf3dc",
   "metadata": {},
   "outputs": [],
   "source": [
    "monitors = {'data_incident_monitor': sample.attrs[\"monitor2\"].value,\n",
    "            'data_transmission_monitor': sample.attrs[\"monitor4\"].value,\n",
    "            'direct_incident_monitor': direct.attrs[\"monitor2\"].value,\n",
    "            'direct_transmission_monitor': direct.attrs[\"monitor4\"].value}"
   ]
  },
  {
   "cell_type": "markdown",
   "id": "e3b0b991-85c4-40fe-a903-74b43716a155",
   "metadata": {},
   "source": [
    "## Apply offsets to pixel positions\n",
    "\n",
    "**Note:** for production ESS Nexus files are produced, this step should go away.\n",
    "\n",
    "Various positions for the sample holder, detector pixels, and monitors are incorrect in the Nexus files.\n",
    "The step below corrects this.\n",
    "We also add the shape of the pixels, which is missing from the geometry information,\n",
    "and is required to compute the solid angle for each detector pixel."
   ]
  },
  {
   "cell_type": "code",
   "execution_count": null,
   "id": "a6996c3e-a042-4758-a443-67bd805ec0b0",
   "metadata": {},
   "outputs": [],
   "source": [
    "# Custom SANS2D position offsets\n",
    "sample_pos_z_offset = 0.053 * sc.units.m\n",
    "bench_pos_y_offset = 0.001 * sc.units.m\n",
    "# There is some uncertainity here\n",
    "monitor4_pos_z_offset = -6.719 * sc.units.m\n",
    "\n",
    "# Geometry transformation\n",
    "x_offset = -0.09288 * sc.units.m\n",
    "y_offset = 0.08195 * sc.units.m"
   ]
  },
  {
   "cell_type": "code",
   "execution_count": null,
   "id": "0540c85f-46e5-4488-bcc1-3bda64dde6a7",
   "metadata": {},
   "outputs": [],
   "source": [
    "# Add pixel shapes\n",
    "sample.coords[\"pixel_width\"] = 0.0035 * sc.units.m\n",
    "sample.coords[\"pixel_height\"] = 0.002033984375 * sc.units.m\n",
    "\n",
    "# Change sample position\n",
    "sample.coords[\"sample_position\"].fields.z += sample_pos_z_offset\n",
    "# Apply bench offset to pixel positions\n",
    "sample.coords[\"position\"].fields.y += bench_pos_y_offset\n",
    "# Now shift pixels positions to get the correct beam center\n",
    "sample.coords['position'].fields.x += x_offset\n",
    "sample.coords['position'].fields.y += y_offset\n",
    "\n",
    "# Change transmission monitor position\n",
    "monitors['data_transmission_monitor'].coords[\"position\"].fields.z += monitor4_pos_z_offset\n",
    "monitors['direct_transmission_monitor'].coords[\"position\"].fields.z += monitor4_pos_z_offset"
   ]
  },
  {
   "cell_type": "markdown",
   "id": "eeb81dd1-078a-495b-8cff-49c474be65dd",
   "metadata": {},
   "source": [
    "## Masking\n",
    "\n",
    "The next step is to mask noisy and saturated pixels,\n",
    "as well as a time-of-flight range that contains spurious artifacts from the beamline components.\n",
    "\n",
    "### Mask bad pixels\n",
    "\n",
    "We mask the edges of the square-shaped detector panel with a simple distance relation.\n",
    "We also mask the region close to the beam center, where pixels are saturated."
   ]
  },
  {
   "cell_type": "code",
   "execution_count": null,
   "id": "e54e6899-4842-4b91-82ab-15c5ceef5edb",
   "metadata": {},
   "outputs": [],
   "source": [
    "mask_edges = (\n",
    "    (sc.abs(sample.coords['position'].fields.x - x_offset) > sc.scalar(0.48, unit='m')) |\n",
    "    (sc.abs(sample.coords['position'].fields.y - y_offset) > sc.scalar(0.45, unit='m')))\n",
    "\n",
    "mask_center = sc.sqrt(\n",
    "    sample.coords['position'].fields.x**2 +\n",
    "    sample.coords['position'].fields.y**2) < sc.scalar(0.04, unit='m')\n",
    "\n",
    "sample.masks['edges'] = mask_edges\n",
    "sample.masks['center'] = mask_center"
   ]
  },
  {
   "cell_type": "markdown",
   "id": "f0a455d3-c60a-4069-bab7-5aba9a67fbdd",
   "metadata": {},
   "source": [
    "A good sanity check is to view the masks on the instrument view:"
   ]
  },
  {
   "cell_type": "code",
   "execution_count": null,
   "id": "685b6317-3293-4cba-bef3-51cb797e6ed1",
   "metadata": {},
   "outputs": [],
   "source": [
    "scn.instrument_view(sample, pixel_size=0.0075)"
   ]
  },
  {
   "cell_type": "markdown",
   "id": "659fd42b-03e8-4ae0-9952-d5645ee9878d",
   "metadata": {},
   "source": [
    "### Mask Bragg peaks in tof\n",
    "\n",
    "We will now take out the time regions with Bragg peaks from the beam stop and detector window,\n",
    "although in reality the peaks appear only close to the beam stop,\n",
    "and will make little difference to $I(Q)$.\n",
    "\n",
    "This could be implemented as masking specific time bins for a specific region in space,\n",
    "but for now we keep it simple."
   ]
  },
  {
   "cell_type": "code",
   "execution_count": null,
   "id": "37664f8c-0004-4ecb-876b-52fc2a010c43",
   "metadata": {},
   "outputs": [],
   "source": [
    "mask_tof_min = sc.scalar(13000.0, unit='us')\n",
    "mask_tof_max = sc.scalar(15750.0, unit='us')\n",
    "tof_masked_region = sc.concat([sample.coords['tof']['tof', 0],\n",
    "                               mask_tof_min, mask_tof_max,\n",
    "                               sample.coords['tof']['tof', -1]], dim='tof')\n",
    "\n",
    "sample = sc.bin(sample, edges=[tof_masked_region])\n",
    "sample.masks['bragg_peaks'] = sc.array(dims=['tof'], values=[False, True, False])\n",
    "sample"
   ]
  },
  {
   "cell_type": "code",
   "execution_count": null,
   "id": "72b986f0-9392-40f4-873a-09dfdd62711e",
   "metadata": {},
   "outputs": [],
   "source": [
    "sc.plot(sample)"
   ]
  },
  {
   "cell_type": "markdown",
   "id": "79435dc5-e3a9-4c70-b6d2-ff486c500fd2",
   "metadata": {},
   "source": [
    "## Coordinate transformation graph\n",
    "\n",
    "To compute the wavelength $\\lambda$, the scattering angle $\\theta$, and the $Q$ vector for our data,\n",
    "we construct a coordinate transformation graph.\n",
    "\n",
    "It is based on classical conversions from `tof` and pixel `position` to $\\lambda$ (`wavelength`),\n",
    "$\\theta$ (`theta`) and $Q$ (`Q`),\n",
    "but takes into the Earth's gravitational field, which bends the flight path of the neutrons,\n",
    "to compute the scattering angle $\\theta$.\n",
    "\n",
    "The angle can be found using the following expression$^{[1]}$\n",
    "\n",
    "$$\\theta = \\frac{1}{2}\\sin^{-1}\\left(\\frac{\\sqrt{ x^{2} \\left( y + \\frac{g m_{\\rm n}}{2 h^{2}} \\lambda^{2} L_{2}^{2} \\right)^{2} } }{L_{2}}\\right)$$\n",
    "\n",
    "where $x$ and $y$ are the spatial coordinates of the pixels in the horizontal and vertical directions, respectively,\n",
    "$m_{\\rm n}$ is the neutron mass,\n",
    "$L_{2}$ is the distance between the sample and a detector pixel,\n",
    "$g$ is the acceleration due to gravity,\n",
    "and $h$ is Planck's constant.\n",
    "\n",
    "The conversion graph is defined in the `sans` module,\n",
    "and can be obtained via"
   ]
  },
  {
   "cell_type": "code",
   "execution_count": null,
   "id": "652aa470-74fe-4036-90e5-4eeead429831",
   "metadata": {},
   "outputs": [],
   "source": [
    "graph = sans.conversions.sans_elastic()\n",
    "sc.show_graph(graph, simplified=True)"
   ]
  },
  {
   "cell_type": "markdown",
   "id": "0d796fca-d5ae-4af7-96ca-10e186a38cd4",
   "metadata": {},
   "source": [
    "## Convert the data to wavelength\n",
    "\n",
    "To compute the wavelength of the neutrons,\n",
    "we request the `wavelength` coordinate from the `transform_coords` method by supplying our graph defined above\n",
    "(see [here](https://scipp.github.io/scippneutron/user-guide/coordinate-transformations.html)\n",
    "for more information about using `transform_coords`).\n",
    "\n",
    "We also make sure to `bin` the data to the requested wavelength range,\n",
    "to avoid having neutrons outside this range spuriously contributing to $Q$ bins further down."
   ]
  },
  {
   "cell_type": "code",
   "execution_count": null,
   "id": "4c2b0c90-a518-4982-8629-b2c09b4e29e0",
   "metadata": {},
   "outputs": [],
   "source": [
    "from scipp.constants import g\n",
    "sample.coords[\"gravity\"] = sc.vector(value=[0, -1, 0]) * g\n",
    "sample_wav = sample.transform_coords(\"wavelength\", graph=graph)\n",
    "\n",
    "# Bin the event data to the requested wavelength range\n",
    "sample_wav = sc.bin(sample_wav,\n",
    "                    edges=[sc.concat([wavelength_bins.min(), wavelength_bins.max()], dim='wavelength')])\n",
    "\n",
    "sample_wav"
   ]
  },
  {
   "cell_type": "markdown",
   "id": "f12ea370-1606-4123-aac6-f6dfda54dc75",
   "metadata": {},
   "source": [
    "### Convert monitors to wavelength\n",
    "\n",
    "We also convert the monitors to wavelength.\n",
    "The monitors require a slightly different conversion graph,\n",
    "as the flight path of the neutrons hitting them does not scatter through the sample,\n",
    "it links the source to the monitor with a straight line."
   ]
  },
  {
   "cell_type": "code",
   "execution_count": null,
   "id": "fba5db36-5e09-40b5-b128-8b8b858b0be7",
   "metadata": {},
   "outputs": [],
   "source": [
    "graph_monitor = sans.conversions.sans_monitor()\n",
    "for key in monitors:\n",
    "    monitors[key] = monitors[key].transform_coords(\"wavelength\", graph=graph_monitor)"
   ]
  },
  {
   "cell_type": "markdown",
   "id": "81211ca5-2b4e-46d7-8cea-e5915fc75c6d",
   "metadata": {},
   "source": [
    "## Compute normalization term\n",
    "\n",
    "In a SANS experiment, the scattering cross section $I(Q)$ is defined as$^{[2]}$\n",
    "\n",
    "$$ I(Q) = \\frac{\\partial\\Sigma{Q}}{\\partial\\Omega} = \\frac{A_{H} \\Sigma_{R,\\lambda\\subset Q} C(R, \\lambda)}{A_{M} t \\Sigma_{R,\\lambda\\subset Q}M(\\lambda)T(\\lambda)D(\\lambda)\\Omega(R)} $$\n",
    "\n",
    "where $A_{H}$ is the area of a mask (which avoids saturating the detector) placed between the monitor of area $A_{M}$ and the main detector.\n",
    "$\\Omega$ is the detector solid angle, and $C$ is the count rate on the main detector, which depends on the position $R$ and the wavelength.\n",
    "$t$ is the sample thickness, $M$ represents the incident monitor count rate, and $T$ is known as the transmission fraction.\n",
    "Finally, $D$ is the 'direct beam function', and is defined as\n",
    "\n",
    "$$ D(\\lambda) = \\frac{\\eta(\\lambda)}{\\eta_{M}(\\lambda)} \\frac{A_{H}}{A_{M}} $$\n",
    "\n",
    "where $\\eta$ and $\\eta_{M}$ are the detector and monitor efficiencies, respectively.\n",
    "\n",
    "Hence, in order to normalize the main detector counts $C$, we need compute the transmission fraction $T$,\n",
    "the direct beam function $D$ and the solid angle $\\Omega$.\n",
    "\n",
    "### Direct beam function\n",
    "\n",
    "The direct beam function is a parameter of the instrument that is well-know to the instrument scientist,\n",
    "and does not vary much over time.\n",
    "It is usually stored in a file, and updated a small number of times per year.\n",
    "\n",
    "Here, we load the direct beam function for the SANS2D instrument from file,\n",
    "and perform an interpolation so that it spans the same wavelength range as the one requested at the top of the notebook."
   ]
  },
  {
   "cell_type": "code",
   "execution_count": null,
   "id": "994533d8-2c49-48d7-9a1d-969368343c2c",
   "metadata": {},
   "outputs": [],
   "source": [
    "# Load direct beam function for main detector\n",
    "direct_beam = loki.io.load_rkh_wav(loki.data.get_path('DIRECT_SANS2D_REAR_34327_4m_8mm_16Feb16.dat'))\n",
    "\n",
    "# Interpolate the direct beam function to the requested binning.\n",
    "# WARNING: this removes the error bars on the direct beam function,\n",
    "# because interpolating error bars is ill-defined.\n",
    "from scipp.interpolate import interp1d\n",
    "func = interp1d(sc.values(direct_beam), 'wavelength')\n",
    "direct_beam = func(wavelength_bins, midpoints=True)\n",
    "\n",
    "sc.plot(direct_beam)"
   ]
  },
  {
   "cell_type": "markdown",
   "id": "b26c2f43-0867-40cc-aa38-46a06b2c5615",
   "metadata": {},
   "source": [
    "### Transmission fraction\n",
    "\n",
    "The transmission fraction is computed from the monitor counts.\n",
    "It essentially compares the neutron counts before the sample, and after the sample,\n",
    "to give an absorption profile of the sample as a function of wavelength.\n",
    "\n",
    "It is defined as the ratio of counts between on the transmission monitor to the counts on the incident monitor for the sample run,\n",
    "multiplied by the inverse ratio for the direct run, i.e.\n",
    "\n",
    "$$ T(\\lambda) = \\frac{M_{\\rm sample}^{\\rm transmission}}{M_{\\rm sample}^{\\rm incident}} \\frac{M_{\\rm direct}^{\\rm incident}}{M_{\\rm direct}^{\\rm transmission}} $$\n",
    "\n",
    "To compute the ratios, the monitor counts are first cleaned of background noise counts,\n",
    "which in this case are defined as any counts below a threshold of 30."
   ]
  },
  {
   "cell_type": "code",
   "execution_count": null,
   "id": "57de96c9-5d54-4bfc-ab89-a7b99861c592",
   "metadata": {},
   "outputs": [],
   "source": [
    "threshold = 30.0 * sc.units.counts # Change to a wavelength range instead of a threshold\n",
    "\n",
    "for key in monitors:\n",
    "    monitors[key] = sans.normalization.subtract_background_and_rebin(\n",
    "    monitors[key], wavelength_bins, threshold)"
   ]
  },
  {
   "cell_type": "markdown",
   "id": "94a6e0b6-c3b9-4f5b-9fa6-9efe68c1ef04",
   "metadata": {},
   "source": [
    "The transmission fraction is then computed by using "
   ]
  },
  {
   "cell_type": "code",
   "execution_count": null,
   "id": "3fd4314d-af44-41ea-b06c-b2c6dcf3c3ae",
   "metadata": {},
   "outputs": [],
   "source": [
    "transmission_fraction = sans.normalization.transmission_fraction(**monitors)\n",
    "transmission_fraction"
   ]
  },
  {
   "cell_type": "code",
   "execution_count": null,
   "id": "65c3a796-cb82-400b-adb7-1baa1d2b98f1",
   "metadata": {},
   "outputs": [],
   "source": [
    "transmission_fraction.plot()"
   ]
  },
  {
   "cell_type": "markdown",
   "id": "894e8329-8987-4565-b070-5d262af746d8",
   "metadata": {},
   "source": [
    "### Solid Angle\n",
    "\n",
    "The `sans.normalization` module also provides a utility to compute the solid angles of rectangular detector pixels:"
   ]
  },
  {
   "cell_type": "code",
   "execution_count": null,
   "id": "e126e749-3dad-4ad8-a6f9-2d446e0153e4",
   "metadata": {},
   "outputs": [],
   "source": [
    "solid_angle = sans.normalization.solid_angle(sample,\n",
    "                                             pixel_width=sample.coords['pixel_width'],\n",
    "                                             pixel_height=sample.coords['pixel_height'])\n",
    "solid_angle"
   ]
  },
  {
   "cell_type": "markdown",
   "id": "92b7cba6-c4aa-458f-8564-a0c265cf4332",
   "metadata": {},
   "source": [
    "### The denominator term\n",
    "\n",
    "We combine all the terms above into the `denominator`.\n",
    "We then attach to the denominator some coordinates required to perform the conversion to $Q$."
   ]
  },
  {
   "cell_type": "markdown",
   "id": "f5b76c78-2fd4-423d-ba57-54e20e5204fe",
   "metadata": {},
   "source": [
    "<div class=\"alert alert-info\">\n",
    "\n",
    "**Note**\n",
    "\n",
    "We keep the coordinate of the `direct_beam` term because it is bin centers,\n",
    "which enables us to use `histogram` further down.\n",
    "`data_incident_monitor` and `transmission_fraction` both have bin-edge coordinates.\n",
    "\n",
    "</div>"
   ]
  },
  {
   "cell_type": "code",
   "execution_count": null,
   "id": "30250d51-0d6f-4265-b372-881900a16e2a",
   "metadata": {},
   "outputs": [],
   "source": [
    "denominator = solid_angle * direct_beam * monitors['data_incident_monitor'] * transmission_fraction\n",
    "denominator.coords['position'] = sample.coords['position']\n",
    "denominator.coords['gravity'] = sample.coords['gravity']\n",
    "denominator.coords['sample_position'] = sample.coords['sample_position']\n",
    "denominator.coords['source_position'] = sample.coords['source_position']\n",
    "\n",
    "# Convert wavelength to bin midpoints.\n",
    "# TODO: once scipp-0.12 is released, use sc.midpoints()\n",
    "denominator.coords['wavelength'] = 0.5 * (denominator.coords['wavelength']['wavelength', 1:] +\n",
    "                                          denominator.coords['wavelength']['wavelength', :-1])\n",
    "denominator"
   ]
  },
  {
   "cell_type": "code",
   "execution_count": null,
   "id": "2405279b-3b7a-41f1-a3b0-86c732d5d01b",
   "metadata": {},
   "outputs": [],
   "source": [
    "sc.plot(denominator.sum('spectrum'), norm='log')"
   ]
  },
  {
   "cell_type": "markdown",
   "id": "bf70d4d7-024f-4663-952e-ec258578076d",
   "metadata": {},
   "source": [
    "## Convert to Q\n",
    "\n",
    "Using the coordinate transformation graph as above method,\n",
    "we can compute the momentum vector $Q$, which now depends on both detector position and wavelength."
   ]
  },
  {
   "cell_type": "code",
   "execution_count": null,
   "id": "4be0e428-ca1d-4840-a787-642e43dda383",
   "metadata": {},
   "outputs": [],
   "source": [
    "sample_q = sample_wav.transform_coords(\"Q\", graph=graph)\n",
    "sample_q"
   ]
  },
  {
   "cell_type": "code",
   "execution_count": null,
   "id": "04b3021b-ee8c-48bb-9202-bbf74d43bd42",
   "metadata": {},
   "outputs": [],
   "source": [
    "q_edges = sc.array(dims=['Q'], values=[0.01, 0.6], unit='1/angstrom')\n",
    "sample_q_binned = sc.bin(sample_q, edges=[q_edges])\n",
    "sample_q_binned"
   ]
  },
  {
   "cell_type": "code",
   "execution_count": null,
   "id": "8bf495f7-c60f-4b3c-bb58-c92574e04ac9",
   "metadata": {},
   "outputs": [],
   "source": [
    "sample_q_summed = sample_q_binned.bins.concat('spectrum')\n",
    "sample_q_summed"
   ]
  },
  {
   "cell_type": "code",
   "execution_count": null,
   "id": "25543ffd-82be-487b-8783-79e1d65b0dc9",
   "metadata": {},
   "outputs": [],
   "source": [
    "sc.plot(sample_q_summed, norm=\"log\")"
   ]
  },
  {
   "cell_type": "markdown",
   "id": "8aa0302c-08bb-4c15-b600-744d5496ebda",
   "metadata": {},
   "source": [
    "### Convert denominator to Q\n",
    "\n",
    "Converting the denominator to $Q$ is achieved in the same way"
   ]
  },
  {
   "cell_type": "code",
   "execution_count": null,
   "id": "47b82edf-589e-4119-b544-98f0cfe7d742",
   "metadata": {},
   "outputs": [],
   "source": [
    "denominator_q = denominator.transform_coords(\"Q\", graph=graph)\n",
    "denominator_q"
   ]
  },
  {
   "cell_type": "code",
   "execution_count": null,
   "id": "94c5d690-5b9a-43db-959f-e376ec436ec3",
   "metadata": {},
   "outputs": [],
   "source": [
    "hist = sc.histogram(denominator_q,\n",
    "                    bins=sc.linspace(dim='Q', start=0.01, stop=0.6, num=141, unit='1/angstrom'))\n",
    "den_q_summed = hist.sum('spectrum')\n",
    "den_q_summed.plot(norm='log')"
   ]
  },
  {
   "cell_type": "markdown",
   "id": "d5339095-3de4-4727-bcc5-6ca982f58b94",
   "metadata": {},
   "source": [
    "## Normalize the sample\n",
    "\n",
    "Finally, we normalize the sample with the denominator as a function of $Q$."
   ]
  },
  {
   "cell_type": "code",
   "execution_count": null,
   "id": "a1f82882-8142-4cdd-9c65-b2327eb445ba",
   "metadata": {},
   "outputs": [],
   "source": [
    "sample_normalized = sample_q_summed.bins / sc.lookup(func=den_q_summed, dim='Q')\n",
    "sample_normalized"
   ]
  },
  {
   "cell_type": "code",
   "execution_count": null,
   "id": "a82c11fe-ecfc-41d2-ac4e-f127ff358b11",
   "metadata": {},
   "outputs": [],
   "source": [
    "sc.plot(sample_normalized)"
   ]
  },
  {
   "cell_type": "markdown",
   "id": "20d7265d-370d-491b-973b-92066fb383a0",
   "metadata": {},
   "source": [
    "## References\n",
    "\n",
    "\\[1\\] P. A. Seeger and R. P. Hjelm Jnr, *Small-angle neutron scattering at pulsed spallation sources*, 1991, [J. Appl. Cryst., 24, 467-478](https://doi.org/10.1107/S0021889891004764)\n",
    "\n",
    "\\[2\\] R. K. Heenan, J. Penfold and S. M. King, *SANS at Pulsed Neutron Sources: Present and Future Prospects*, 1997, [J. Appl. Cryst., 30, 1140-1147](https://doi.org/10.1107/S0021889897002173)"
   ]
  }
 ],
 "metadata": {
  "kernelspec": {
   "display_name": "Python 3 (ipykernel)",
   "language": "python",
   "name": "python3"
  },
  "language_info": {
   "codemirror_mode": {
    "name": "ipython",
    "version": 3
   },
   "file_extension": ".py",
   "mimetype": "text/x-python",
   "name": "python",
   "nbconvert_exporter": "python",
   "pygments_lexer": "ipython3"
  }
 },
 "nbformat": 4,
 "nbformat_minor": 5
}
