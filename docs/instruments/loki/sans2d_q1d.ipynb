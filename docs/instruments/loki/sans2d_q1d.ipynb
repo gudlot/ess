{
 "cells": [
  {
   "cell_type": "markdown",
   "id": "9a935df3-c816-4829-99c3-2afa979b7611",
   "metadata": {},
   "source": [
    "# SANS2D: Q1D workflow for a single file"
   ]
  },
  {
   "cell_type": "code",
   "execution_count": null,
   "id": "8c7f7cf7-0582-4953-a772-a0f87d1cf0e2",
   "metadata": {},
   "outputs": [],
   "source": [
    "import scipp as sc\n",
    "from ess import loki, sans\n",
    "import scippneutron as scn"
   ]
  },
  {
   "cell_type": "markdown",
   "id": "bafd7ab4-d478-4c96-8196-69029fb221c4",
   "metadata": {},
   "source": [
    "## Loading data files"
   ]
  },
  {
   "cell_type": "code",
   "execution_count": null,
   "id": "0315d002-9cab-4ae4-8f63-c72a532f716b",
   "metadata": {},
   "outputs": [],
   "source": [
    "ds = sc.Dataset()\n",
    "\n",
    "#Using only one-forth of the full spectra 245760 (reserved for first detector)\n",
    "spectrum_size =  245760//4\n",
    "\n",
    "# Make common tof bins so that dataset items are aligned\n",
    "tof_bins = sc.linspace(dim='tof', start=0, stop=100000, num=2, unit='us')\n",
    "\n",
    "# Wavelength binning\n",
    "wavelength_bins = sc.linspace(dim='wavelength', start=2.0, stop=16.0, num=141, unit='angstrom')\n",
    "\n",
    "# Sample measurement\n",
    "ds['sample'] = loki.io.load_sans2d(filename=loki.data.get_path('SANS2D00063114.nxs'),\n",
    "                                   spectrum_size=spectrum_size, tof_bins=tof_bins)\n",
    "# Direct measurement is with the empty sample holder/cuvette\n",
    "ds['direct'] = loki.io.load_sans2d(filename=loki.data.get_path('SANS2D00063091.nxs'),\n",
    "                                   spectrum_size=spectrum_size, tof_bins=tof_bins)"
   ]
  },
  {
   "cell_type": "code",
   "execution_count": null,
   "id": "08d4991f-5dc7-4101-86b3-ba7085712153",
   "metadata": {},
   "outputs": [],
   "source": [
    "ds"
   ]
  },
  {
   "cell_type": "markdown",
   "id": "e3b0b991-85c4-40fe-a903-74b43716a155",
   "metadata": {},
   "source": [
    "## Apply offsets to pixel positions"
   ]
  },
  {
   "cell_type": "code",
   "execution_count": null,
   "id": "a6996c3e-a042-4758-a443-67bd805ec0b0",
   "metadata": {},
   "outputs": [],
   "source": [
    "# Custom SANS2D position offsets\n",
    "sample_pos_z_offset = 0.053 * sc.units.m\n",
    "bench_pos_y_offset = 0.001 * sc.units.m\n",
    "# There is some uncertainity here\n",
    "monitor4_pos_z_offset = -6.719 * sc.units.m\n",
    "\n",
    "# Geometry transformation\n",
    "x_offset = -0.09288 * sc.units.m\n",
    "y_offset = 0.08195 * sc.units.m\n",
    "# z_offset = 0.0 * sc.units.m"
   ]
  },
  {
   "cell_type": "code",
   "execution_count": null,
   "id": "b616d643-8504-4eda-ba7a-bb73b85e7b80",
   "metadata": {},
   "outputs": [],
   "source": [
    "ds.coords[\"pixel_width\"] = 0.0035 * sc.units.m\n",
    "ds.coords[\"pixel_height\"] = 0.002033984375 * sc.units.m\n",
    "\n",
    "# Change sample position\n",
    "ds.coords[\"sample_position\"].fields.z += sample_pos_z_offset\n",
    "# Apply bench offset to pixel positions\n",
    "ds.coords[\"position\"].fields.y += bench_pos_y_offset\n",
    "\n",
    "for key in ds:\n",
    "    ds[key].attrs[\"monitor4\"].value.coords[\"position\"].fields.z += monitor4_pos_z_offset\n",
    "\n",
    "# Now shift pixels positions to get the correct beam center\n",
    "ds.coords['position'].fields.x += x_offset\n",
    "ds.coords['position'].fields.y += y_offset"
   ]
  },
  {
   "cell_type": "markdown",
   "id": "eeb81dd1-078a-495b-8cff-49c474be65dd",
   "metadata": {},
   "source": [
    "## Mask bad pixels"
   ]
  },
  {
   "cell_type": "code",
   "execution_count": null,
   "id": "e54e6899-4842-4b91-82ab-15c5ceef5edb",
   "metadata": {},
   "outputs": [],
   "source": [
    "mask_edges = (\n",
    "    (sc.abs(ds.coords['position'].fields.x - x_offset) > sc.scalar(0.48, unit='m')) |\n",
    "    (sc.abs(ds.coords['position'].fields.y - y_offset) > sc.scalar(0.45, unit='m')))\n",
    "\n",
    "mask_center = sc.sqrt(\n",
    "    ds.coords['position'].fields.x**2 +\n",
    "    ds.coords['position'].fields.y**2) < sc.scalar(0.04, unit='m')\n",
    "# cylindrical_radius = sc.sqrt(\n",
    "#     ds.coords['position'].fields.x**2 +\n",
    "#     ds.coords['position'].fields.y**2)\n",
    "# mask_center = (cylindrical_radius < sc.scalar(0.04, unit='m')) | (cylindrical_radius > sc.scalar(0.4, unit='m'))\n",
    "\n",
    "for key in ds:\n",
    "    ds[key].masks['edges'] = mask_edges\n",
    "    ds[key].masks['center'] = mask_center"
   ]
  },
  {
   "cell_type": "code",
   "execution_count": null,
   "id": "685b6317-3293-4cba-bef3-51cb797e6ed1",
   "metadata": {},
   "outputs": [],
   "source": [
    "scn.instrument_view(ds['sample'], pixel_size=0.0075)"
   ]
  },
  {
   "cell_type": "markdown",
   "id": "79435dc5-e3a9-4c70-b6d2-ff486c500fd2",
   "metadata": {},
   "source": [
    "## Convert data to wavelength"
   ]
  },
  {
   "cell_type": "code",
   "execution_count": null,
   "id": "652aa470-74fe-4036-90e5-4eeead429831",
   "metadata": {},
   "outputs": [],
   "source": [
    "graph = sans.conversions.sans_elastic()\n",
    "sc.show_graph(graph, simplified=True)"
   ]
  },
  {
   "cell_type": "code",
   "execution_count": null,
   "id": "4c2b0c90-a518-4982-8629-b2c09b4e29e0",
   "metadata": {},
   "outputs": [],
   "source": [
    "from scipp.constants import g\n",
    "ds.coords[\"gravity\"] = sc.vector(value=[0, -1, 0]) * g\n",
    "ds_wav = ds.transform_coords(\"wavelength\", graph=graph)\n",
    "\n",
    "# Bin the event data to the requested wavelength range\n",
    "ds_wav = sc.Dataset(\n",
    "    data={key: sc.bin(ds_wav[key],\n",
    "                      edges=[sc.concat([wavelength_bins.min(), wavelength_bins.max()], dim='wavelength')])\n",
    "          for key in ds_wav})\n",
    "\n",
    "ds_wav"
   ]
  },
  {
   "cell_type": "code",
   "execution_count": null,
   "id": "fba5db36-5e09-40b5-b128-8b8b858b0be7",
   "metadata": {},
   "outputs": [],
   "source": [
    "graph_monitor = sans.conversions.sans_monitor()\n",
    "for key in ds:\n",
    "    for m in ['monitor2', 'monitor4']:\n",
    "        ds_wav[key].attrs[m].value = ds[key].attrs[m].value.transform_coords(\"wavelength\", graph=graph_monitor)"
   ]
  },
  {
   "cell_type": "markdown",
   "id": "81211ca5-2b4e-46d7-8cea-e5915fc75c6d",
   "metadata": {},
   "source": [
    "## Compute normalization term\n",
    "\n",
    "### Direct beam function"
   ]
  },
  {
   "cell_type": "code",
   "execution_count": null,
   "id": "ef3fc8b3-4f54-4632-9d38-618f5a6c0667",
   "metadata": {},
   "outputs": [],
   "source": [
    "# Load direct beam function for main detector\n",
    "direct_beam = loki.io.load_rkh_wav(loki.data.get_path('DIRECT_SANS2D_REAR_34327_4m_8mm_16Feb16.dat'))\n",
    "\n",
    "# Interpolate the direct beam function to the requested binning.\n",
    "# WARNING: this removes the error bars on the direct beam function,\n",
    "# because interpolating error bars is ill-defined.\n",
    "from scipp.interpolate import interp1d\n",
    "func = interp1d(sc.values(direct_beam), 'wavelength')\n",
    "direct_beam = func(wavelength_bins, midpoints=True)"
   ]
  },
  {
   "cell_type": "code",
   "execution_count": null,
   "id": "2e1a056f-ed80-4490-ba54-592ccf10786c",
   "metadata": {},
   "outputs": [],
   "source": [
    "sc.plot(direct_beam)"
   ]
  },
  {
   "cell_type": "markdown",
   "id": "bd3a2060-b8fc-457a-bb2a-7d35178e28b8",
   "metadata": {},
   "source": [
    "### Subtract background from monitors and align them to the same wavelength range"
   ]
  },
  {
   "cell_type": "code",
   "execution_count": null,
   "id": "4863eaea-00d7-49fd-90dd-e1804b4824f3",
   "metadata": {},
   "outputs": [],
   "source": [
    "threshold = 30.0 * sc.units.counts # Change to a wavelength range instead of a threshold\n",
    "\n",
    "sample_incident_monitor = sans.normalization.subtract_background_and_rebin(\n",
    "    ds_wav['sample'].attrs[\"monitor2\"].value, wavelength_bins, threshold)\n",
    "sample_transmission_monitor = sans.normalization.subtract_background_and_rebin(\n",
    "    ds_wav['sample'].attrs[\"monitor4\"].value, wavelength_bins, threshold)\n",
    "direct_incident_monitor = sans.normalization.subtract_background_and_rebin(\n",
    "    ds_wav['direct'].attrs[\"monitor2\"].value, wavelength_bins, threshold)\n",
    "direct_transmission_monitor = sans.normalization.subtract_background_and_rebin(\n",
    "    ds_wav['direct'].attrs[\"monitor4\"].value, wavelength_bins, threshold)"
   ]
  },
  {
   "cell_type": "markdown",
   "id": "b26c2f43-0867-40cc-aa38-46a06b2c5615",
   "metadata": {},
   "source": [
    "### Transmission fraction"
   ]
  },
  {
   "cell_type": "code",
   "execution_count": null,
   "id": "3d6f0dbf-dab0-440d-9456-905c48874183",
   "metadata": {},
   "outputs": [],
   "source": [
    "transmission_fraction = sans.normalization.transmission_fraction(\n",
    "    data_incident_monitor=sample_incident_monitor,\n",
    "    data_transmission_monitor=sample_transmission_monitor,\n",
    "    direct_incident_monitor=direct_incident_monitor,\n",
    "    direct_transmission_monitor=direct_transmission_monitor)\n",
    "transmission_fraction"
   ]
  },
  {
   "cell_type": "code",
   "execution_count": null,
   "id": "65c3a796-cb82-400b-adb7-1baa1d2b98f1",
   "metadata": {},
   "outputs": [],
   "source": [
    "transmission_fraction.plot()"
   ]
  },
  {
   "cell_type": "markdown",
   "id": "894e8329-8987-4565-b070-5d262af746d8",
   "metadata": {},
   "source": [
    "### Solid Angle"
   ]
  },
  {
   "cell_type": "code",
   "execution_count": null,
   "id": "e126e749-3dad-4ad8-a6f9-2d446e0153e4",
   "metadata": {},
   "outputs": [],
   "source": [
    "solid_angle = sans.normalization.solid_angle(ds['sample'],\n",
    "                                             pixel_width=ds.coords['pixel_width'],\n",
    "                                             pixel_height=ds.coords['pixel_height'])\n",
    "solid_angle"
   ]
  },
  {
   "cell_type": "markdown",
   "id": "bcb15a3f-530d-4c79-bc8a-47be24ebb9bb",
   "metadata": {},
   "source": [
    "### The denominator term\n",
    "\n",
    "We keep the coordinate of the `direct_beam` term because it is bin centers,\n",
    "which enables us to use `histogram` further down.\n",
    "`sample_incident_monitor` and `transmission_fraction` both have bin-edge coordinates."
   ]
  },
  {
   "cell_type": "code",
   "execution_count": null,
   "id": "30250d51-0d6f-4265-b372-881900a16e2a",
   "metadata": {},
   "outputs": [],
   "source": [
    "denominator = solid_angle * direct_beam * sample_incident_monitor * transmission_fraction\n",
    "denominator.coords['position'] = ds['sample'].coords['position']\n",
    "denominator.coords['gravity'] = ds['sample'].coords['gravity']\n",
    "denominator.coords['sample_position'] = ds['sample'].coords['sample_position']\n",
    "denominator.coords['source_position'] = ds['sample'].coords['source_position']\n",
    "\n",
    "from ess.wfm.tools import to_bin_centers\n",
    "denominator.coords['wavelength'] = to_bin_centers(denominator.coords['wavelength'],\n",
    "                                                  dim='wavelength')\n",
    "denominator"
   ]
  },
  {
   "cell_type": "code",
   "execution_count": null,
   "id": "2405279b-3b7a-41f1-a3b0-86c732d5d01b",
   "metadata": {},
   "outputs": [],
   "source": [
    "sc.plot(denominator.sum('spectrum'), norm='log')"
   ]
  },
  {
   "cell_type": "markdown",
   "id": "bf70d4d7-024f-4663-952e-ec258578076d",
   "metadata": {},
   "source": [
    "## Convert to Q"
   ]
  },
  {
   "cell_type": "code",
   "execution_count": null,
   "id": "4be0e428-ca1d-4840-a787-642e43dda383",
   "metadata": {},
   "outputs": [],
   "source": [
    "ds_q = ds_wav.transform_coords(\"Q\", graph=graph)\n",
    "ds_q"
   ]
  },
  {
   "cell_type": "code",
   "execution_count": null,
   "id": "04b3021b-ee8c-48bb-9202-bbf74d43bd42",
   "metadata": {},
   "outputs": [],
   "source": [
    "q_edges = sc.array(dims=['Q'], values=[0.01, 0.6], unit='1/angstrom')\n",
    "sample_q_binned = sc.bin(ds_q['sample'], edges=[q_edges])\n",
    "sample_q_binned"
   ]
  },
  {
   "cell_type": "code",
   "execution_count": null,
   "id": "8bf495f7-c60f-4b3c-bb58-c92574e04ac9",
   "metadata": {},
   "outputs": [],
   "source": [
    "sample_q_summed = sample_q_binned.bins.concat('spectrum')\n",
    "sample_q_summed"
   ]
  },
  {
   "cell_type": "code",
   "execution_count": null,
   "id": "25543ffd-82be-487b-8783-79e1d65b0dc9",
   "metadata": {},
   "outputs": [],
   "source": [
    "sc.plot(sample_q_summed, norm=\"log\")"
   ]
  },
  {
   "cell_type": "markdown",
   "id": "8aa0302c-08bb-4c15-b600-744d5496ebda",
   "metadata": {},
   "source": [
    "### Convert denominator to Q"
   ]
  },
  {
   "cell_type": "code",
   "execution_count": null,
   "id": "47b82edf-589e-4119-b544-98f0cfe7d742",
   "metadata": {},
   "outputs": [],
   "source": [
    "denominator_q = denominator.transform_coords(\"Q\", graph=graph)\n",
    "denominator_q"
   ]
  },
  {
   "cell_type": "code",
   "execution_count": null,
   "id": "94c5d690-5b9a-43db-959f-e376ec436ec3",
   "metadata": {},
   "outputs": [],
   "source": [
    "hist = sc.histogram(denominator_q,\n",
    "                    bins=sc.linspace(dim='Q', start=0.01, stop=0.6, num=141, unit='1/angstrom'))\n",
    "den_q_summed = hist.sum('spectrum')\n",
    "den_q_summed.plot(norm='log')"
   ]
  },
  {
   "cell_type": "markdown",
   "id": "d5339095-3de4-4727-bcc5-6ca982f58b94",
   "metadata": {},
   "source": [
    "## Normalize the sample"
   ]
  },
  {
   "cell_type": "code",
   "execution_count": null,
   "id": "a1f82882-8142-4cdd-9c65-b2327eb445ba",
   "metadata": {},
   "outputs": [],
   "source": [
    "sample_normalized = sample_q_summed.bins / sc.lookup(func=den_q_summed, dim='Q')\n",
    "sample_normalized"
   ]
  },
  {
   "cell_type": "code",
   "execution_count": null,
   "id": "a82c11fe-ecfc-41d2-ac4e-f127ff358b11",
   "metadata": {},
   "outputs": [],
   "source": [
    "sc.plot(sample_normalized)"
   ]
  }
 ],
 "metadata": {
  "kernelspec": {
   "display_name": "Python 3 (ipykernel)",
   "language": "python",
   "name": "python3"
  },
  "language_info": {
   "codemirror_mode": {
    "name": "ipython",
    "version": 3
   },
   "file_extension": ".py",
   "mimetype": "text/x-python",
   "name": "python",
   "nbconvert_exporter": "python",
   "pygments_lexer": "ipython3"
  }
 },
 "nbformat": 4,
 "nbformat_minor": 5
}
