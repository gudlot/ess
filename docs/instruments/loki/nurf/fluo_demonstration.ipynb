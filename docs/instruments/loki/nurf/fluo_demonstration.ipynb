{
 "cells": [
  {
   "cell_type": "code",
   "execution_count": 1,
   "metadata": {},
   "outputs": [],
   "source": [
    "from ess.loki.nurf import utils, fluo, plot\n",
    "from ess.loki.nurf import ill_auxilliary_funcs as ill \n",
    "\n",
    "# standard library imports\n",
    "import itertools\n",
    "import os\n",
    "from typing import Optional, Type, Union\n",
    "\n",
    "# related third party imports\n",
    "import numpy as np\n",
    "import matplotlib.pyplot as plt\n",
    "from matplotlib import cm\n",
    "import matplotlib.gridspec as gridspec\n",
    "from IPython.display import display, HTML\n",
    "from scipy.optimize import leastsq  # needed for fitting of turbidity\n",
    "\n",
    "# local application imports\n",
    "import scippnexus as snx\n",
    "import scipp as sc\n",
    "from scipp.ndimage import median_filter"
   ]
  },
  {
   "cell_type": "code",
   "execution_count": 2,
   "metadata": {},
   "outputs": [],
   "source": [
    "# Prepare for export to .dat for uv and fluo\n",
    "\n",
    "# path to LOKI-like files\n",
    "process_folder='/Users/gudlo523/Library/CloudStorage/OneDrive-LundUniversity/UU/ILL_947_June_2021/212/d22/exp_9-13-947/processed/ess_version'\n",
    "# change to folder\n",
    "os.chdir(process_folder)\n",
    "\n",
    "# export path for .dat files\n",
    "path_output='/Users/gudlo523/Library/CloudStorage/OneDrive-LundUniversity/UU/ILL_947_June_2021/212/d22/exp_9-13-947/processed/ess_version/dat-files'\n",
    "\n",
    "# experimental data sets\n",
    "exp5= [66017, 66020, 66023, 66026, 66029, 66032, 66034, 66037, 66040, 66043, 66046]\n",
    "exp6= [66050, 66053, 66056, 66059, 66062, 66065, 66068, 66071, 66074, 66077, 66080]\n",
    "\n",
    "exp2= [65925, 65927, 65930, 65933, 65936, 65939, 65942, 65945, 65948, 65951, 65954, 65957]\n",
    "exp3= [65962, 65965, 65968, 65971, 65974, 65977, 65980, 65983, 65986, 65989, 65992]\n",
    "\n",
    "exp7= [66083, 66086, 66089, 66092, 66095, 66098, 66101, 66104, 66107, 66110, 66113]\n",
    "exp8= [66116, 66119, 66122, 66125, 66128, 66131, 66134, 66137, 66140, 66143, 66146]"
   ]
  },
  {
   "cell_type": "markdown",
   "metadata": {},
   "source": [
    "Cell below shows how to load fluo spectra from a Loki.nxs file"
   ]
  },
  {
   "cell_type": "code",
   "execution_count": 3,
   "metadata": {},
   "outputs": [
    {
     "name": "stdout",
     "output_type": "stream",
     "text": [
      "This is the resulting dataarray\n"
     ]
    },
    {
     "data": {
      "text/html": [
       "<div><!-- Original source from -->\n",
       "<!-- https://github.com/jsignell/xarray/blob/1d960933ab252e0f79f7e050e6c9261d55568057/xarray/static/html/icons-svg-inline.html -->\n",
       "<svg style=\"position: absolute; width: 0; height: 0; overflow: hidden\">\n",
       "<defs>\n",
       "<symbol id=\"icon-database\" viewBox=\"0 0 32 32\">\n",
       "<title>Show/Hide data repr</title>\n",
       "<path d=\"M16 0c-8.837 0-16 2.239-16 5v4c0 2.761 7.163 5 16 5s16-2.239 16-5v-4c0-2.761-7.163-5-16-5z\"></path>\n",
       "<path d=\"M16 17c-8.837 0-16-2.239-16-5v6c0 2.761 7.163 5 16 5s16-2.239 16-5v-6c0 2.761-7.163 5-16 5z\"></path>\n",
       "<path d=\"M16 26c-8.837 0-16-2.239-16-5v6c0 2.761 7.163 5 16 5s16-2.239 16-5v-6c0 2.761-7.163 5-16 5z\"></path>\n",
       "</symbol>\n",
       "<symbol id=\"icon-file-text2\" viewBox=\"0 0 32 32\">\n",
       "<title>Show/Hide attributes</title>\n",
       "<path d=\"M28.681 7.159c-0.694-0.947-1.662-2.053-2.724-3.116s-2.169-2.030-3.116-2.724c-1.612-1.182-2.393-1.319-2.841-1.319h-15.5c-1.378 0-2.5 1.121-2.5 2.5v27c0 1.378 1.122 2.5 2.5 2.5h23c1.378 0 2.5-1.122 2.5-2.5v-19.5c0-0.448-0.137-1.23-1.319-2.841zM24.543 5.457c0.959 0.959 1.712 1.825 2.268 2.543h-4.811v-4.811c0.718 0.556 1.584 1.309 2.543 2.268zM28 29.5c0 0.271-0.229 0.5-0.5 0.5h-23c-0.271 0-0.5-0.229-0.5-0.5v-27c0-0.271 0.229-0.5 0.5-0.5 0 0 15.499-0 15.5 0v7c0 0.552 0.448 1 1 1h7v19.5z\"></path>\n",
       "<path d=\"M23 26h-14c-0.552 0-1-0.448-1-1s0.448-1 1-1h14c0.552 0 1 0.448 1 1s-0.448 1-1 1z\"></path>\n",
       "<path d=\"M23 22h-14c-0.552 0-1-0.448-1-1s0.448-1 1-1h14c0.552 0 1 0.448 1 1s-0.448 1-1 1z\"></path>\n",
       "<path d=\"M23 18h-14c-0.552 0-1-0.448-1-1s0.448-1 1-1h14c0.552 0 1 0.448 1 1s-0.448 1-1 1z\"></path>\n",
       "</symbol>\n",
       "</defs>\n",
       "</svg><style id=\"scipp-style-sheet\">.sc-root{--sc-background-color0:var(--jp-layout-color0,#fff);--sc-background-color1:var(--jp-layout-color1,#fcfcfc);--sc-background-color2:var(--jp-layout-color2,#efefef);--sc-inverse-background-color0:var(--jp-inverse-layout-color4,#111);--sc-font-color0:var(--jp-content-font-color0,#000);--sc-font-color1:var(--jp-content-font-color1,#555);--sc-font-color2:var(--jp-content-font-color2,#888);--sc-font-color3:var(--jp-content-font-color3,#ccc);--sc-table-data-color:#f6d028;--sc-table-coords-color:#c6e590;--sc-table-masks-color:#c8c8c8;--sc-table-attrs-color:#ff5555;--sc-table-header-font-color:#111111;}.sc-wrap{font-size:14px;min-width:300px;max-width:800px;}.sc-var-attrs .sc-wrap{padding-left:3em;}.sc-header{padding-top:6px;padding-bottom:6px;margin-bottom:4px;border-bottom:solid 1px #ddd;}.sc-header > div,.sc-header > ul{display:inline;margin-top:0;margin-bottom:0;}.sc-obj-type,.sc-array-name{margin-left:2px;margin-right:10px;}.sc-obj-type{color:var(--sc-font-color1);}.sc-underlying-size{color:var(--sc-font-color2);}.sc-sections,.reveal .sc-sections{padding-left:0 !important;display:grid;grid-template-columns:150px auto auto auto 1fr 20px 20px;}.sc-section-item{display:contents;}.sc-section-item input{display:none;}.sc-section-item input:enabled + label{cursor:pointer;color:var(--sc-font-color1);}.sc-section-item input:enabled + label:hover{color:var(--sc-font-color0);}.sc-section-summary{grid-column:1;font-weight:500;}.sc-section-summary > span{display:inline-block;padding-left:0.5em;}.sc-section-summary-in:disabled + label{color:var(--sc-font-color1);}.sc-section-summary-in + label:before{display:inline-block;content:'►';font-size:11px;width:15px;text-align:center;}.sc-section-summary-in:disabled + label:before{color:var(--sc-font-color3);}.sc-section-summary-in:checked + label:before{content:'▼';}.sc-section-summary-in:checked + label > span{display:none;}.sc-section-summary,.sc-section-inline-details{padding-top:4px;padding-bottom:4px;}.sc-section-inline-details{grid-column:2 / 6;}.sc-section-details{display:none;grid-column:1 / -1;margin-bottom:5px;}.sc-section-summary-in:checked ~ .sc-section-details{display:contents;}.sc-array-wrap{grid-column:1 / -1;display:grid;grid-template-columns:20px auto;}.sc-array-wrap > label{grid-column:1;vertical-align:top;}.sc-preview{color:var(--sc-font-color2);}.sc-array-preview,.sc-array-data{padding:0 5px !important;grid-column:2;}.sc-array-data,.sc-array-in:checked ~ .sc-array-preview{display:none;}.sc-array-in:checked ~ .sc-array-data,.sc-array-preview{display:inline-block;}.sc-dim-list{display:inline-block !important;list-style:none;padding:0 !important;margin:0;}.sc-dim-list li{display:inline-block;padding:0;margin:0!important;}.sc-dim-list:before{content:'(';}.sc-dim-list:after{content:')';}.sc-dim-list li:not(:last-child):after{content:',';padding-right:5px;}.sc-has-index{font-weight:bold;}.sc-var-list,.sc-var-item,.reveal .sc-var-list,.reveal .sc-var-item{display:contents;}.sc-var-item > div,.sc-var-item label,.sc-var-item > .sc-var-name span{background-color:var(--sc-background-color1);margin-bottom:0;}.sc-var-item > .sc-var-name:hover span{padding-right:5px;}.sc-var-list > li:nth-child(odd) > div,.sc-var-list > li:nth-child(odd) > label,.sc-var-list > li:nth-child(odd) > .sc-var-name span{background-color:var(--sc-background-color2);}.sc-var-name{grid-column:1;}.sc-var-dims{grid-column:2;}.sc-var-dtype{grid-column:3;text-align:right;color:var(--sc-font-color2);}.sc-var-unit{grid-column:4;text-align:left;color:var(--sc-font-color1);max-width:50pt;text-overflow:ellipsis;}.sc-value-preview{grid-column:5;}.sc-var-preview-variances{text-align:right;}.sc-sections .sc-section-item .sc-section-summary,.sc-sections .sc-section-item .sc-section-inline-details,.sc-section-item .sc-var-list .sc-var-item > div,.sc-section-item .sc-var-list .sc-var-item > label,.sc-section-details .sc-var-list .sc-var-item > div,.sc-section-details .sc-var-list .sc-var-item > label{margin-top:0;margin-bottom:0;}.sc-var-name,.sc-var-dims,.sc-var-dtype,.sc-var-unit,.sc-preview,.sc-attrs dt{white-space:nowrap;overflow:hidden;text-overflow:ellipsis;padding-right:10px;}.sc-var-name:hover,.sc-var-dims:hover,.sc-var-dtype:hover,.sc-var-unit:hover,.sc-attrs dt:hover{overflow:visible;width:auto;z-index:1;}.sc-var-attrs{display:block;}.sc-var-data,.reveal .sc-var-data{display:none;}.sc-var-attrs,.sc-var-data{background-color:var(--sc-background-color0) !important;padding-bottom:5px !important;}.sc-var-attrs-in:checked ~ .sc-var-attrs{display:none;}.sc-var-data-in:checked ~ .sc-var-data{display:block;}.sc-var-data > table{float:right;}.sc-var-name span,.sc-var-data{padding-left:25px !important;}.sc-var-attrs,.sc-var-data{grid-column:1 / -1;}dl.sc-attrs{padding:0;margin:0;display:grid;grid-template-columns:125px auto;}.sc-attrs dt,dd{padding:0;margin:0;float:left;padding-right:10px;width:auto;}.sc-attrs dt{font-weight:normal;grid-column:1;}.sc-attrs dt:hover span{display:inline-block;padding-right:10px;}.sc-attrs dd{grid-column:2;white-space:pre-wrap;word-break:break-all;}.sc-icon-database,.sc-icon-file-text2{display:inline-block;vertical-align:middle;width:1em;height:1.5em !important;stroke-width:0;stroke:currentColor;fill:currentColor;}label.sc-hide-icon svg{opacity:0;}.sc-standalone-var-name{grid-column:1/3;}.sc-standalone-var-name span{padding-left:25px;padding-right:10px;}.sc-table{border-collapse:collapse;}.sc-title{font-weight:bold;font-size:1.5em;}.sc-subtitle{font-weight:normal;font-style:italic;text-align:left;font-size:1.2em;padding:1px;}.sc-table th,.sc-table td{border:1px solid var(--sc-inverse-background-color0);padding:0 5px 0 5px;}.sc-table th{text-align:center;}.sc-table tr{background-color:var(--sc-background-color1);text-align:right;}.sc-table tr:hover{background-color:var(--sc-background-color2);}.sc-table th.sc-data{background-color:var(--sc-table-data-color);color:var(--sc-table-header-font-color);}.sc-table th.sc-coords{background-color:var(--sc-table-coords-color);color:var(--sc-table-header-font-color);}.sc-table th.sc-masks{background-color:var(--sc-table-masks-color);color:var(--sc-table-header-font-color);}.sc-table th.sc-attrs{background-color:var(--sc-table-attrs-color);color:var(--sc-table-header-font-color);}.sc-table th.sc-subheader{background-color:var(--sc-background-color2);}.sc-table td.sc-padding{background-color:var(--sc-background-color1);border:0 solid var(--sc-background-color1);height:1.2em;}.sc-label{fill:var(--sc-font-color0,#444444);text-anchor:middle;}.sc-name{fill:var(--sc-font-color0,#111111);}.sc-inset-line{stroke:var(--sc-font-color1);stroke-width:0.05;stroke-dasharray:0.2,0.2;}.sc-log-wrap{height:25ex;resize:vertical;overflow-y:scroll;display:flex;flex-direction:column-reverse;border:1px solid;border-color:var(--jp-border-color2);background-color:var(--sc-background-color1);}div.sc-log{line-height:2.5ex;}table.sc-log{table-layout:auto;border-collapse:collapse;}tr.sc-log:nth-child(even){background-color:var(--sc-background-color0);}tr.sc-log > td{vertical-align:top;padding-bottom:0.5ex;}.sc-log-time-stamp{min-width:22ch;font-family:var(--jp-code-font-family);color:var(--sc-font-color2);}.sc-log-level{min-width:10ch;}tr.sc-log-debug td.sc-log-level{color:var(--jp-accent-color1);}tr.sc-log-info td.sc-log-level{color:var(--jp-info-color1);}tr.sc-log-warning td.sc-log-level{color:var(--jp-warn-color1);}tr.sc-log-error td.sc-log-level{font-weight:bold;color:var(--jp-error-color2);}tr.sc-log-critical td.sc-log-level{font-weight:bold;color:var(--sc-background-color0);background-color:var(--jp-error-color1);}.sc-log-message{white-space:pre-wrap;width:100%;}.sc-log-html-payload{white-space:normal;}.sc-log-name{padding-right:0.5em;text-align:right;white-space:pre-wrap;color:var(--sc-font-color3);}</style><div class='sc-wrap sc-root'><div class='sc-header'><div class='sc-obj-type'>scipp.DataArray (56.29 KB)</div></div><ul class='sc-sections'><li class='sc-section-item'><input id='section-af03c6c9-4565-4463-9596-11bc5f5efa10' class='sc-section-summary-in' type='checkbox' disabled ><label for='section-af03c6c9-4565-4463-9596-11bc5f5efa10' class='sc-section-summary'  title='Expand/collapse section'>Dimensions:</label><div class='sc-section-inline-details'><ul class='sc-dim-list'><li><span>spectrum</span>: 12</li><li><span class='sc-has-index'>wavelength</span>: 1044</li></ul></div><div class='sc-section-details'></div></li><li class='sc-section-item'><input id='section-401d662b-0cc0-4b66-b8a3-bbcfbdc367ea' class='sc-section-summary-in' type='checkbox'  checked><label for='section-401d662b-0cc0-4b66-b8a3-bbcfbdc367ea' class='sc-section-summary' >Coordinates: <span>(7)</span></label><div class='sc-section-inline-details'></div><div class='sc-section-details'><ul class='sc-var-list'><li class='sc-var-item'><div class='sc-var-name'><span>integration_time</span></div><div class='sc-var-dims'>(spectrum)</div><div class='sc-var-dtype'>float32</div><div class='sc-var-unit'>µs</div><div class='sc-value-preview sc-preview'><span><div>50000000.0, 50000000.0, ..., 50000000.0, 50000000.0</div></span></div><input id='attrs-5742956e-aa2c-4408-a6a9-2e7e94de7f8c' class='sc-var-attrs-in' type='checkbox' disabled><label for='attrs-5742956e-aa2c-4408-a6a9-2e7e94de7f8c' class='sc-hide-icon' title='Show/Hide attributes'><svg class='icon sc-icon-file-text2'><use xlink:href='#icon-file-text2'></use></svg></label><input id='data-9ae175c3-447a-4634-a7db-639c878c4d83' class='sc-var-data-in' type='checkbox'><label for='data-9ae175c3-447a-4634-a7db-639c878c4d83' title='Show/Hide data repr'><svg class='icon sc-icon-database'><use xlink:href='#icon-database'></use></svg></label><pre class='sc-var-data'>Values:<br>array([50000000., 50000000., 50000000., 50000000., 50000000., 50000000.,\n",
       "       50000000., 50000000., 50000000., 50000000., 50000000., 50000000.],\n",
       "      dtype=float32)</pre></span></li><li class='sc-var-item'><div class='sc-var-name'><span>is_dark</span></div><div class='sc-var-dims'>(spectrum)</div><div class='sc-var-dtype'>bool</div><div class='sc-var-unit'></div><div class='sc-value-preview sc-preview'><span><div>False, False, ..., False, False</div></span></div><input id='attrs-7f30c9aa-7f4c-4029-803d-7c8f850585f3' class='sc-var-attrs-in' type='checkbox' disabled><label for='attrs-7f30c9aa-7f4c-4029-803d-7c8f850585f3' class='sc-hide-icon' title='Show/Hide attributes'><svg class='icon sc-icon-file-text2'><use xlink:href='#icon-file-text2'></use></svg></label><input id='data-eb370fe9-7e54-4c9d-a195-c9d161a58461' class='sc-var-data-in' type='checkbox'><label for='data-eb370fe9-7e54-4c9d-a195-c9d161a58461' title='Show/Hide data repr'><svg class='icon sc-icon-database'><use xlink:href='#icon-database'></use></svg></label><pre class='sc-var-data'>Values:<br>array([False, False, False, False, False, False, False, False, False,\n",
       "       False, False, False])</pre></span></li><li class='sc-var-item'><div class='sc-var-name'><span>is_data</span></div><div class='sc-var-dims'>(spectrum)</div><div class='sc-var-dtype'>bool</div><div class='sc-var-unit'></div><div class='sc-value-preview sc-preview'><span><div>True, True, ..., True, True</div></span></div><input id='attrs-95fa1471-7799-4e98-bb67-8b0c01203e24' class='sc-var-attrs-in' type='checkbox' disabled><label for='attrs-95fa1471-7799-4e98-bb67-8b0c01203e24' class='sc-hide-icon' title='Show/Hide attributes'><svg class='icon sc-icon-file-text2'><use xlink:href='#icon-file-text2'></use></svg></label><input id='data-3c7aa28d-1b84-4683-b72d-5811136fac0a' class='sc-var-data-in' type='checkbox'><label for='data-3c7aa28d-1b84-4683-b72d-5811136fac0a' title='Show/Hide data repr'><svg class='icon sc-icon-database'><use xlink:href='#icon-database'></use></svg></label><pre class='sc-var-data'>Values:<br>array([ True,  True,  True,  True,  True,  True,  True,  True,  True,\n",
       "        True,  True,  True])</pre></span></li><li class='sc-var-item'><div class='sc-var-name'><span>is_reference</span></div><div class='sc-var-dims'>(spectrum)</div><div class='sc-var-dtype'>bool</div><div class='sc-var-unit'></div><div class='sc-value-preview sc-preview'><span><div>False, False, ..., False, False</div></span></div><input id='attrs-d0098407-f956-4b14-80af-543d0ae98d3d' class='sc-var-attrs-in' type='checkbox' disabled><label for='attrs-d0098407-f956-4b14-80af-543d0ae98d3d' class='sc-hide-icon' title='Show/Hide attributes'><svg class='icon sc-icon-file-text2'><use xlink:href='#icon-file-text2'></use></svg></label><input id='data-08392942-2650-4886-a269-ca7e1ff6fd17' class='sc-var-data-in' type='checkbox'><label for='data-08392942-2650-4886-a269-ca7e1ff6fd17' title='Show/Hide data repr'><svg class='icon sc-icon-database'><use xlink:href='#icon-database'></use></svg></label><pre class='sc-var-data'>Values:<br>array([False, False, False, False, False, False, False, False, False,\n",
       "       False, False, False])</pre></span></li><li class='sc-var-item'><div class='sc-var-name'><span>monowavelengths</span></div><div class='sc-var-dims'>(spectrum)</div><div class='sc-var-dtype'>float32</div><div class='sc-var-unit'>nm</div><div class='sc-value-preview sc-preview'><span><div>295.0, 295.0, ..., 320.0, 320.0</div></span></div><input id='attrs-35baaefb-9108-4eed-83b9-66bceb6cf58c' class='sc-var-attrs-in' type='checkbox' disabled><label for='attrs-35baaefb-9108-4eed-83b9-66bceb6cf58c' class='sc-hide-icon' title='Show/Hide attributes'><svg class='icon sc-icon-file-text2'><use xlink:href='#icon-file-text2'></use></svg></label><input id='data-65b36cac-ee0f-40da-8f44-5a6a95bfa0db' class='sc-var-data-in' type='checkbox'><label for='data-65b36cac-ee0f-40da-8f44-5a6a95bfa0db' title='Show/Hide data repr'><svg class='icon sc-icon-database'><use xlink:href='#icon-database'></use></svg></label><pre class='sc-var-data'>Values:<br>array([295., 295., 295., 295., 320., 320., 320., 320., 295., 295., 320.,\n",
       "       320.], dtype=float32)</pre></span></li><li class='sc-var-item'><div class='sc-var-name'><span>time</span></div><div class='sc-var-dims'>(spectrum)</div><div class='sc-var-dtype'>int64</div><div class='sc-var-unit'>µs</div><div class='sc-value-preview sc-preview'><span><div>1655992257000000, 1655992257000000, ..., 1655992257000000, 1655992257000000</div></span></div><input id='attrs-8d05e68b-4c5b-4ade-83ca-a5be536eeccc' class='sc-var-attrs-in' type='checkbox' disabled><label for='attrs-8d05e68b-4c5b-4ade-83ca-a5be536eeccc' class='sc-hide-icon' title='Show/Hide attributes'><svg class='icon sc-icon-file-text2'><use xlink:href='#icon-file-text2'></use></svg></label><input id='data-cc0ab319-9a3c-4561-98c5-b233a19ff3a7' class='sc-var-data-in' type='checkbox'><label for='data-cc0ab319-9a3c-4561-98c5-b233a19ff3a7' title='Show/Hide data repr'><svg class='icon sc-icon-database'><use xlink:href='#icon-database'></use></svg></label><pre class='sc-var-data'>Values:<br>array([1655992257000000, 1655992257000000, 1655992257000000,\n",
       "       1655992257000000, 1655992257000000, 1655992257000000,\n",
       "       1655992257000000, 1655992257000000, 1655992257000000,\n",
       "       1655992257000000, 1655992257000000, 1655992257000000])</pre></span></li><li class='sc-var-item'><div class='sc-var-name'><span class='sc-has-index'>wavelength</span></div><div class='sc-var-dims'>(wavelength)</div><div class='sc-var-dtype'>float32</div><div class='sc-var-unit'>nm</div><div class='sc-value-preview sc-preview'><span><div>248.68408, 249.48499, ..., 1042.3112, 1043.0312</div></span></div><input id='attrs-5ba9d5a6-e9fc-48f4-bb4a-cf9a549f884f' class='sc-var-attrs-in' type='checkbox' disabled><label for='attrs-5ba9d5a6-e9fc-48f4-bb4a-cf9a549f884f' class='sc-hide-icon' title='Show/Hide attributes'><svg class='icon sc-icon-file-text2'><use xlink:href='#icon-file-text2'></use></svg></label><input id='data-a3def74f-a2cd-4788-a25b-31fff27e88f3' class='sc-var-data-in' type='checkbox'><label for='data-a3def74f-a2cd-4788-a25b-31fff27e88f3' title='Show/Hide data repr'><svg class='icon sc-icon-database'><use xlink:href='#icon-database'></use></svg></label><pre class='sc-var-data'>Values:<br>array([ 248.68408,  249.48499,  250.28581, ..., 1041.591  , 1042.3112 ,\n",
       "       1043.0312 ], dtype=float32)</pre></span></li></ul></div></li><li class='sc-section-item'><input id='section-8808f265-103a-47d9-bf34-bd72a6a66b92' class='sc-section-summary-in' type='checkbox'  checked><label for='section-8808f265-103a-47d9-bf34-bd72a6a66b92' class='sc-section-summary' >Data: <span>(1)</span></label><div class='sc-section-inline-details'></div><div class='sc-section-details'><ul class='sc-var-list'><li class='sc-var-item'><div class='sc-var-name'><span></span></div><div class='sc-var-dims'>(spectrum, wavelength)</div><div class='sc-var-dtype'>float32</div><div class='sc-var-unit'>counts</div><div class='sc-value-preview sc-preview'><span><div>6.0001184e-08, 1.1999873e-07, ..., 1.2000237e-07, 7.9999154e-08</div></span></div><input id='attrs-ba2a46f5-d499-4b47-8f1a-071da997212c' class='sc-var-attrs-in' type='checkbox' disabled><label for='attrs-ba2a46f5-d499-4b47-8f1a-071da997212c' class='sc-hide-icon' title='Show/Hide attributes'><svg class='icon sc-icon-file-text2'><use xlink:href='#icon-file-text2'></use></svg></label><input id='data-bbf86295-7e93-4b2a-9fc1-3cec6be12ec5' class='sc-var-data-in' type='checkbox'><label for='data-bbf86295-7e93-4b2a-9fc1-3cec6be12ec5' title='Show/Hide data repr'><svg class='icon sc-icon-database'><use xlink:href='#icon-database'></use></svg></label><pre class='sc-var-data'>Values:<br>array([[ 6.0001184e-08,  1.1999873e-07,  0.0000000e+00, ...,\n",
       "         1.0000076e-07,  6.0001184e-08,  5.9997546e-08],\n",
       "       [ 1.2000237e-07,  1.0000076e-07,  3.9999577e-08, ...,\n",
       "         3.9999577e-08,  7.9999154e-08,  0.0000000e+00],\n",
       "       [ 3.9999577e-08,  6.0001184e-08, -1.0000076e-07, ...,\n",
       "         7.9999154e-08,  7.9999154e-08,  1.9997970e-08],\n",
       "       ...,\n",
       "       [ 1.0000076e-07,  1.0000076e-07,  1.9997970e-08, ...,\n",
       "         1.0000076e-07, -1.9997970e-08,  7.9999154e-08],\n",
       "       [ 3.9999577e-08,  2.0001607e-08,  3.9999577e-08, ...,\n",
       "         3.9999577e-08,  6.0001184e-08,  1.1999873e-07],\n",
       "       [ 1.6000195e-07,  2.0001607e-08, -3.9999577e-08, ...,\n",
       "         6.0001184e-08,  1.2000237e-07,  7.9999154e-08]], dtype=float32)</pre></li></ul></div></li><li class='sc-section-item'><input id='section-74f577ef-5013-4949-baa2-34b041f8f1dc' class='sc-section-summary-in' type='checkbox'  checked><label for='section-74f577ef-5013-4949-baa2-34b041f8f1dc' class='sc-section-summary' >Attributes: <span>(1)</span></label><div class='sc-section-inline-details'></div><div class='sc-section-details'><ul class='sc-var-list'><li class='sc-var-item'><div class='sc-var-name'><span>source</span></div><div class='sc-var-dims'>(spectrum)</div><div class='sc-var-dtype'>string</div><div class='sc-var-unit'></div><div class='sc-value-preview sc-preview'><span><div>066017.nxs, 066017.nxs, ..., 066017.nxs, 066017.nxs</div></span></div><input id='attrs-7aa2f088-97d3-4f2a-852e-cf54a7a5e7e8' class='sc-var-attrs-in' type='checkbox' disabled><label for='attrs-7aa2f088-97d3-4f2a-852e-cf54a7a5e7e8' class='sc-hide-icon' title='Show/Hide attributes'><svg class='icon sc-icon-file-text2'><use xlink:href='#icon-file-text2'></use></svg></label><input id='data-fa2c4300-fe26-4938-8d1e-98fd0203fbcc' class='sc-var-data-in' type='checkbox'><label for='data-fa2c4300-fe26-4938-8d1e-98fd0203fbcc' title='Show/Hide data repr'><svg class='icon sc-icon-database'><use xlink:href='#icon-database'></use></svg></label><pre class='sc-var-data'>Values:<br>[&quot;066017.nxs&quot;, &quot;066017.nxs&quot;, ..., &quot;066017.nxs&quot;, &quot;066017.nxs&quot;]</pre></li></ul></div></li></ul></div></div>"
      ],
      "text/plain": [
       "<scipp.DataArray>\n",
       "Dimensions: Sizes[spectrum:12, wavelength:1044, ]\n",
       "Coordinates:\n",
       "  integration_time          float32            [µs]  (spectrum)  [5e+07, 5e+07, ..., 5e+07, 5e+07]\n",
       "  is_dark                      bool        <no unit>  (spectrum)  [False, False, ..., False, False]\n",
       "  is_data                      bool        <no unit>  (spectrum)  [True, True, ..., True, True]\n",
       "  is_reference                 bool        <no unit>  (spectrum)  [False, False, ..., False, False]\n",
       "  monowavelengths           float32             [nm]  (spectrum)  [295, 295, ..., 320, 320]\n",
       "  time                        int64            [µs]  (spectrum)  [1655992257000000, 1655992257000000, ..., 1655992257000000, 1655992257000000]\n",
       "  wavelength                float32             [nm]  (wavelength)  [248.684, 249.485, ..., 1042.31, 1043.03]\n",
       "Data:\n",
       "                            float32         [counts]  (spectrum, wavelength)  [6.00012e-08, 1.19999e-07, ..., 1.20002e-07, 7.99992e-08]\n",
       "Attributes:\n",
       "  source                     string        <no unit>  (spectrum)  [\"066017.nxs\", \"066017.nxs\", ..., \"066017.nxs\", \"066017.nxs\"]\n"
      ]
     },
     "metadata": {},
     "output_type": "display_data"
    },
    {
     "data": {
      "application/vnd.jupyter.widget-view+json": {
       "model_id": "8952851a14af49758563ee08f8efa5be",
       "version_major": 2,
       "version_minor": 0
      },
      "text/plain": [
       "VBox(children=(Image(value=b'\\x89PNG\\r\\n\\x1a\\n\\x00\\x00\\x00\\rIHDR\\x00\\x00\\x03\\x00\\x00\\x00\\x01\\x80\\x08\\x06\\x00\\x…"
      ]
     },
     "metadata": {},
     "output_type": "display_data"
    },
    {
     "data": {
      "text/html": [
       "<div><!-- Original source from -->\n",
       "<!-- https://github.com/jsignell/xarray/blob/1d960933ab252e0f79f7e050e6c9261d55568057/xarray/static/html/icons-svg-inline.html -->\n",
       "<svg style=\"position: absolute; width: 0; height: 0; overflow: hidden\">\n",
       "<defs>\n",
       "<symbol id=\"icon-database\" viewBox=\"0 0 32 32\">\n",
       "<title>Show/Hide data repr</title>\n",
       "<path d=\"M16 0c-8.837 0-16 2.239-16 5v4c0 2.761 7.163 5 16 5s16-2.239 16-5v-4c0-2.761-7.163-5-16-5z\"></path>\n",
       "<path d=\"M16 17c-8.837 0-16-2.239-16-5v6c0 2.761 7.163 5 16 5s16-2.239 16-5v-6c0 2.761-7.163 5-16 5z\"></path>\n",
       "<path d=\"M16 26c-8.837 0-16-2.239-16-5v6c0 2.761 7.163 5 16 5s16-2.239 16-5v-6c0 2.761-7.163 5-16 5z\"></path>\n",
       "</symbol>\n",
       "<symbol id=\"icon-file-text2\" viewBox=\"0 0 32 32\">\n",
       "<title>Show/Hide attributes</title>\n",
       "<path d=\"M28.681 7.159c-0.694-0.947-1.662-2.053-2.724-3.116s-2.169-2.030-3.116-2.724c-1.612-1.182-2.393-1.319-2.841-1.319h-15.5c-1.378 0-2.5 1.121-2.5 2.5v27c0 1.378 1.122 2.5 2.5 2.5h23c1.378 0 2.5-1.122 2.5-2.5v-19.5c0-0.448-0.137-1.23-1.319-2.841zM24.543 5.457c0.959 0.959 1.712 1.825 2.268 2.543h-4.811v-4.811c0.718 0.556 1.584 1.309 2.543 2.268zM28 29.5c0 0.271-0.229 0.5-0.5 0.5h-23c-0.271 0-0.5-0.229-0.5-0.5v-27c0-0.271 0.229-0.5 0.5-0.5 0 0 15.499-0 15.5 0v7c0 0.552 0.448 1 1 1h7v19.5z\"></path>\n",
       "<path d=\"M23 26h-14c-0.552 0-1-0.448-1-1s0.448-1 1-1h14c0.552 0 1 0.448 1 1s-0.448 1-1 1z\"></path>\n",
       "<path d=\"M23 22h-14c-0.552 0-1-0.448-1-1s0.448-1 1-1h14c0.552 0 1 0.448 1 1s-0.448 1-1 1z\"></path>\n",
       "<path d=\"M23 18h-14c-0.552 0-1-0.448-1-1s0.448-1 1-1h14c0.552 0 1 0.448 1 1s-0.448 1-1 1z\"></path>\n",
       "</symbol>\n",
       "</defs>\n",
       "</svg><style id=\"scipp-style-sheet\">.sc-root{--sc-background-color0:var(--jp-layout-color0,#fff);--sc-background-color1:var(--jp-layout-color1,#fcfcfc);--sc-background-color2:var(--jp-layout-color2,#efefef);--sc-inverse-background-color0:var(--jp-inverse-layout-color4,#111);--sc-font-color0:var(--jp-content-font-color0,#000);--sc-font-color1:var(--jp-content-font-color1,#555);--sc-font-color2:var(--jp-content-font-color2,#888);--sc-font-color3:var(--jp-content-font-color3,#ccc);--sc-table-data-color:#f6d028;--sc-table-coords-color:#c6e590;--sc-table-masks-color:#c8c8c8;--sc-table-attrs-color:#ff5555;--sc-table-header-font-color:#111111;}.sc-wrap{font-size:14px;min-width:300px;max-width:800px;}.sc-var-attrs .sc-wrap{padding-left:3em;}.sc-header{padding-top:6px;padding-bottom:6px;margin-bottom:4px;border-bottom:solid 1px #ddd;}.sc-header > div,.sc-header > ul{display:inline;margin-top:0;margin-bottom:0;}.sc-obj-type,.sc-array-name{margin-left:2px;margin-right:10px;}.sc-obj-type{color:var(--sc-font-color1);}.sc-underlying-size{color:var(--sc-font-color2);}.sc-sections,.reveal .sc-sections{padding-left:0 !important;display:grid;grid-template-columns:150px auto auto auto 1fr 20px 20px;}.sc-section-item{display:contents;}.sc-section-item input{display:none;}.sc-section-item input:enabled + label{cursor:pointer;color:var(--sc-font-color1);}.sc-section-item input:enabled + label:hover{color:var(--sc-font-color0);}.sc-section-summary{grid-column:1;font-weight:500;}.sc-section-summary > span{display:inline-block;padding-left:0.5em;}.sc-section-summary-in:disabled + label{color:var(--sc-font-color1);}.sc-section-summary-in + label:before{display:inline-block;content:'►';font-size:11px;width:15px;text-align:center;}.sc-section-summary-in:disabled + label:before{color:var(--sc-font-color3);}.sc-section-summary-in:checked + label:before{content:'▼';}.sc-section-summary-in:checked + label > span{display:none;}.sc-section-summary,.sc-section-inline-details{padding-top:4px;padding-bottom:4px;}.sc-section-inline-details{grid-column:2 / 6;}.sc-section-details{display:none;grid-column:1 / -1;margin-bottom:5px;}.sc-section-summary-in:checked ~ .sc-section-details{display:contents;}.sc-array-wrap{grid-column:1 / -1;display:grid;grid-template-columns:20px auto;}.sc-array-wrap > label{grid-column:1;vertical-align:top;}.sc-preview{color:var(--sc-font-color2);}.sc-array-preview,.sc-array-data{padding:0 5px !important;grid-column:2;}.sc-array-data,.sc-array-in:checked ~ .sc-array-preview{display:none;}.sc-array-in:checked ~ .sc-array-data,.sc-array-preview{display:inline-block;}.sc-dim-list{display:inline-block !important;list-style:none;padding:0 !important;margin:0;}.sc-dim-list li{display:inline-block;padding:0;margin:0!important;}.sc-dim-list:before{content:'(';}.sc-dim-list:after{content:')';}.sc-dim-list li:not(:last-child):after{content:',';padding-right:5px;}.sc-has-index{font-weight:bold;}.sc-var-list,.sc-var-item,.reveal .sc-var-list,.reveal .sc-var-item{display:contents;}.sc-var-item > div,.sc-var-item label,.sc-var-item > .sc-var-name span{background-color:var(--sc-background-color1);margin-bottom:0;}.sc-var-item > .sc-var-name:hover span{padding-right:5px;}.sc-var-list > li:nth-child(odd) > div,.sc-var-list > li:nth-child(odd) > label,.sc-var-list > li:nth-child(odd) > .sc-var-name span{background-color:var(--sc-background-color2);}.sc-var-name{grid-column:1;}.sc-var-dims{grid-column:2;}.sc-var-dtype{grid-column:3;text-align:right;color:var(--sc-font-color2);}.sc-var-unit{grid-column:4;text-align:left;color:var(--sc-font-color1);max-width:50pt;text-overflow:ellipsis;}.sc-value-preview{grid-column:5;}.sc-var-preview-variances{text-align:right;}.sc-sections .sc-section-item .sc-section-summary,.sc-sections .sc-section-item .sc-section-inline-details,.sc-section-item .sc-var-list .sc-var-item > div,.sc-section-item .sc-var-list .sc-var-item > label,.sc-section-details .sc-var-list .sc-var-item > div,.sc-section-details .sc-var-list .sc-var-item > label{margin-top:0;margin-bottom:0;}.sc-var-name,.sc-var-dims,.sc-var-dtype,.sc-var-unit,.sc-preview,.sc-attrs dt{white-space:nowrap;overflow:hidden;text-overflow:ellipsis;padding-right:10px;}.sc-var-name:hover,.sc-var-dims:hover,.sc-var-dtype:hover,.sc-var-unit:hover,.sc-attrs dt:hover{overflow:visible;width:auto;z-index:1;}.sc-var-attrs{display:block;}.sc-var-data,.reveal .sc-var-data{display:none;}.sc-var-attrs,.sc-var-data{background-color:var(--sc-background-color0) !important;padding-bottom:5px !important;}.sc-var-attrs-in:checked ~ .sc-var-attrs{display:none;}.sc-var-data-in:checked ~ .sc-var-data{display:block;}.sc-var-data > table{float:right;}.sc-var-name span,.sc-var-data{padding-left:25px !important;}.sc-var-attrs,.sc-var-data{grid-column:1 / -1;}dl.sc-attrs{padding:0;margin:0;display:grid;grid-template-columns:125px auto;}.sc-attrs dt,dd{padding:0;margin:0;float:left;padding-right:10px;width:auto;}.sc-attrs dt{font-weight:normal;grid-column:1;}.sc-attrs dt:hover span{display:inline-block;padding-right:10px;}.sc-attrs dd{grid-column:2;white-space:pre-wrap;word-break:break-all;}.sc-icon-database,.sc-icon-file-text2{display:inline-block;vertical-align:middle;width:1em;height:1.5em !important;stroke-width:0;stroke:currentColor;fill:currentColor;}label.sc-hide-icon svg{opacity:0;}.sc-standalone-var-name{grid-column:1/3;}.sc-standalone-var-name span{padding-left:25px;padding-right:10px;}.sc-table{border-collapse:collapse;}.sc-title{font-weight:bold;font-size:1.5em;}.sc-subtitle{font-weight:normal;font-style:italic;text-align:left;font-size:1.2em;padding:1px;}.sc-table th,.sc-table td{border:1px solid var(--sc-inverse-background-color0);padding:0 5px 0 5px;}.sc-table th{text-align:center;}.sc-table tr{background-color:var(--sc-background-color1);text-align:right;}.sc-table tr:hover{background-color:var(--sc-background-color2);}.sc-table th.sc-data{background-color:var(--sc-table-data-color);color:var(--sc-table-header-font-color);}.sc-table th.sc-coords{background-color:var(--sc-table-coords-color);color:var(--sc-table-header-font-color);}.sc-table th.sc-masks{background-color:var(--sc-table-masks-color);color:var(--sc-table-header-font-color);}.sc-table th.sc-attrs{background-color:var(--sc-table-attrs-color);color:var(--sc-table-header-font-color);}.sc-table th.sc-subheader{background-color:var(--sc-background-color2);}.sc-table td.sc-padding{background-color:var(--sc-background-color1);border:0 solid var(--sc-background-color1);height:1.2em;}.sc-label{fill:var(--sc-font-color0,#444444);text-anchor:middle;}.sc-name{fill:var(--sc-font-color0,#111111);}.sc-inset-line{stroke:var(--sc-font-color1);stroke-width:0.05;stroke-dasharray:0.2,0.2;}.sc-log-wrap{height:25ex;resize:vertical;overflow-y:scroll;display:flex;flex-direction:column-reverse;border:1px solid;border-color:var(--jp-border-color2);background-color:var(--sc-background-color1);}div.sc-log{line-height:2.5ex;}table.sc-log{table-layout:auto;border-collapse:collapse;}tr.sc-log:nth-child(even){background-color:var(--sc-background-color0);}tr.sc-log > td{vertical-align:top;padding-bottom:0.5ex;}.sc-log-time-stamp{min-width:22ch;font-family:var(--jp-code-font-family);color:var(--sc-font-color2);}.sc-log-level{min-width:10ch;}tr.sc-log-debug td.sc-log-level{color:var(--jp-accent-color1);}tr.sc-log-info td.sc-log-level{color:var(--jp-info-color1);}tr.sc-log-warning td.sc-log-level{color:var(--jp-warn-color1);}tr.sc-log-error td.sc-log-level{font-weight:bold;color:var(--jp-error-color2);}tr.sc-log-critical td.sc-log-level{font-weight:bold;color:var(--sc-background-color0);background-color:var(--jp-error-color1);}.sc-log-message{white-space:pre-wrap;width:100%;}.sc-log-html-payload{white-space:normal;}.sc-log-name{padding-right:0.5em;text-align:right;white-space:pre-wrap;color:var(--sc-font-color3);}</style><div class='sc-wrap sc-root'><div class='sc-header'><div class='sc-obj-type'>scipp.DataArray (56.29 KB)</div></div><ul class='sc-sections'><li class='sc-section-item'><input id='section-1fdacb34-2f7d-4638-bae8-ff72e65776d7' class='sc-section-summary-in' type='checkbox' disabled ><label for='section-1fdacb34-2f7d-4638-bae8-ff72e65776d7' class='sc-section-summary'  title='Expand/collapse section'>Dimensions:</label><div class='sc-section-inline-details'><ul class='sc-dim-list'><li><span>spectrum</span>: 12</li><li><span class='sc-has-index'>wavelength</span>: 1044</li></ul></div><div class='sc-section-details'></div></li><li class='sc-section-item'><input id='section-25d48c49-dba5-4980-abf8-71b3ba23c4f8' class='sc-section-summary-in' type='checkbox'  checked><label for='section-25d48c49-dba5-4980-abf8-71b3ba23c4f8' class='sc-section-summary' >Coordinates: <span>(7)</span></label><div class='sc-section-inline-details'></div><div class='sc-section-details'><ul class='sc-var-list'><li class='sc-var-item'><div class='sc-var-name'><span>integration_time</span></div><div class='sc-var-dims'>(spectrum)</div><div class='sc-var-dtype'>float32</div><div class='sc-var-unit'>µs</div><div class='sc-value-preview sc-preview'><span><div>50000000.0, 50000000.0, ..., 50000000.0, 50000000.0</div></span></div><input id='attrs-30865a01-1db8-4b28-b4c7-a96c86e5db8d' class='sc-var-attrs-in' type='checkbox' disabled><label for='attrs-30865a01-1db8-4b28-b4c7-a96c86e5db8d' class='sc-hide-icon' title='Show/Hide attributes'><svg class='icon sc-icon-file-text2'><use xlink:href='#icon-file-text2'></use></svg></label><input id='data-073fa65c-5d25-4075-b8e7-1d05db396752' class='sc-var-data-in' type='checkbox'><label for='data-073fa65c-5d25-4075-b8e7-1d05db396752' title='Show/Hide data repr'><svg class='icon sc-icon-database'><use xlink:href='#icon-database'></use></svg></label><pre class='sc-var-data'>Values:<br>array([50000000., 50000000., 50000000., 50000000., 50000000., 50000000.,\n",
       "       50000000., 50000000., 50000000., 50000000., 50000000., 50000000.],\n",
       "      dtype=float32)</pre></span></li><li class='sc-var-item'><div class='sc-var-name'><span>is_dark</span></div><div class='sc-var-dims'>(spectrum)</div><div class='sc-var-dtype'>bool</div><div class='sc-var-unit'></div><div class='sc-value-preview sc-preview'><span><div>False, False, ..., False, False</div></span></div><input id='attrs-7e94a38f-f08e-49d6-af7f-c9ddea96d75f' class='sc-var-attrs-in' type='checkbox' disabled><label for='attrs-7e94a38f-f08e-49d6-af7f-c9ddea96d75f' class='sc-hide-icon' title='Show/Hide attributes'><svg class='icon sc-icon-file-text2'><use xlink:href='#icon-file-text2'></use></svg></label><input id='data-e7683caa-470b-4c86-b636-cf3758cdda5b' class='sc-var-data-in' type='checkbox'><label for='data-e7683caa-470b-4c86-b636-cf3758cdda5b' title='Show/Hide data repr'><svg class='icon sc-icon-database'><use xlink:href='#icon-database'></use></svg></label><pre class='sc-var-data'>Values:<br>array([False, False, False, False, False, False, False, False, False,\n",
       "       False, False, False])</pre></span></li><li class='sc-var-item'><div class='sc-var-name'><span>is_data</span></div><div class='sc-var-dims'>(spectrum)</div><div class='sc-var-dtype'>bool</div><div class='sc-var-unit'></div><div class='sc-value-preview sc-preview'><span><div>True, True, ..., True, True</div></span></div><input id='attrs-9128eeb0-7680-4023-8a9a-1f6a81456fe4' class='sc-var-attrs-in' type='checkbox' disabled><label for='attrs-9128eeb0-7680-4023-8a9a-1f6a81456fe4' class='sc-hide-icon' title='Show/Hide attributes'><svg class='icon sc-icon-file-text2'><use xlink:href='#icon-file-text2'></use></svg></label><input id='data-0196e502-48e2-44a8-9071-6643dae1d686' class='sc-var-data-in' type='checkbox'><label for='data-0196e502-48e2-44a8-9071-6643dae1d686' title='Show/Hide data repr'><svg class='icon sc-icon-database'><use xlink:href='#icon-database'></use></svg></label><pre class='sc-var-data'>Values:<br>array([ True,  True,  True,  True,  True,  True,  True,  True,  True,\n",
       "        True,  True,  True])</pre></span></li><li class='sc-var-item'><div class='sc-var-name'><span>is_reference</span></div><div class='sc-var-dims'>(spectrum)</div><div class='sc-var-dtype'>bool</div><div class='sc-var-unit'></div><div class='sc-value-preview sc-preview'><span><div>False, False, ..., False, False</div></span></div><input id='attrs-4dfc4511-83a5-49d1-bdfe-5bd1df82da4e' class='sc-var-attrs-in' type='checkbox' disabled><label for='attrs-4dfc4511-83a5-49d1-bdfe-5bd1df82da4e' class='sc-hide-icon' title='Show/Hide attributes'><svg class='icon sc-icon-file-text2'><use xlink:href='#icon-file-text2'></use></svg></label><input id='data-bfeb149d-7ad2-48fb-95e9-d4bb624005ce' class='sc-var-data-in' type='checkbox'><label for='data-bfeb149d-7ad2-48fb-95e9-d4bb624005ce' title='Show/Hide data repr'><svg class='icon sc-icon-database'><use xlink:href='#icon-database'></use></svg></label><pre class='sc-var-data'>Values:<br>array([False, False, False, False, False, False, False, False, False,\n",
       "       False, False, False])</pre></span></li><li class='sc-var-item'><div class='sc-var-name'><span>monowavelengths</span></div><div class='sc-var-dims'>(spectrum)</div><div class='sc-var-dtype'>float32</div><div class='sc-var-unit'>nm</div><div class='sc-value-preview sc-preview'><span><div>295.0, 295.0, ..., 320.0, 320.0</div></span></div><input id='attrs-98ab5087-f36c-4257-a205-200a89632525' class='sc-var-attrs-in' type='checkbox' disabled><label for='attrs-98ab5087-f36c-4257-a205-200a89632525' class='sc-hide-icon' title='Show/Hide attributes'><svg class='icon sc-icon-file-text2'><use xlink:href='#icon-file-text2'></use></svg></label><input id='data-86aee88d-bd17-4f46-af57-98103cfa9c4e' class='sc-var-data-in' type='checkbox'><label for='data-86aee88d-bd17-4f46-af57-98103cfa9c4e' title='Show/Hide data repr'><svg class='icon sc-icon-database'><use xlink:href='#icon-database'></use></svg></label><pre class='sc-var-data'>Values:<br>array([295., 295., 295., 295., 320., 320., 320., 320., 295., 295., 320.,\n",
       "       320.], dtype=float32)</pre></span></li><li class='sc-var-item'><div class='sc-var-name'><span>time</span></div><div class='sc-var-dims'>(spectrum)</div><div class='sc-var-dtype'>int64</div><div class='sc-var-unit'>µs</div><div class='sc-value-preview sc-preview'><span><div>1655992257000000, 1655992257000000, ..., 1655992257000000, 1655992257000000</div></span></div><input id='attrs-7d707801-ed3a-42e1-919f-3a086098243b' class='sc-var-attrs-in' type='checkbox' disabled><label for='attrs-7d707801-ed3a-42e1-919f-3a086098243b' class='sc-hide-icon' title='Show/Hide attributes'><svg class='icon sc-icon-file-text2'><use xlink:href='#icon-file-text2'></use></svg></label><input id='data-e677df0c-8455-4468-bf48-fb19937f29cc' class='sc-var-data-in' type='checkbox'><label for='data-e677df0c-8455-4468-bf48-fb19937f29cc' title='Show/Hide data repr'><svg class='icon sc-icon-database'><use xlink:href='#icon-database'></use></svg></label><pre class='sc-var-data'>Values:<br>array([1655992257000000, 1655992257000000, 1655992257000000,\n",
       "       1655992257000000, 1655992257000000, 1655992257000000,\n",
       "       1655992257000000, 1655992257000000, 1655992257000000,\n",
       "       1655992257000000, 1655992257000000, 1655992257000000])</pre></span></li><li class='sc-var-item'><div class='sc-var-name'><span class='sc-has-index'>wavelength</span></div><div class='sc-var-dims'>(wavelength)</div><div class='sc-var-dtype'>float32</div><div class='sc-var-unit'>nm</div><div class='sc-value-preview sc-preview'><span><div>248.68408, 249.48499, ..., 1042.3112, 1043.0312</div></span></div><input id='attrs-258f8f74-1cc2-471b-958e-28cc535d041f' class='sc-var-attrs-in' type='checkbox' disabled><label for='attrs-258f8f74-1cc2-471b-958e-28cc535d041f' class='sc-hide-icon' title='Show/Hide attributes'><svg class='icon sc-icon-file-text2'><use xlink:href='#icon-file-text2'></use></svg></label><input id='data-fea8a30b-f3a8-45b2-acbc-9b99354c1d63' class='sc-var-data-in' type='checkbox'><label for='data-fea8a30b-f3a8-45b2-acbc-9b99354c1d63' title='Show/Hide data repr'><svg class='icon sc-icon-database'><use xlink:href='#icon-database'></use></svg></label><pre class='sc-var-data'>Values:<br>array([ 248.68408,  249.48499,  250.28581, ..., 1041.591  , 1042.3112 ,\n",
       "       1043.0312 ], dtype=float32)</pre></span></li></ul></div></li><li class='sc-section-item'><input id='section-b3490bdb-5c1e-40ee-becc-8c2c262193e3' class='sc-section-summary-in' type='checkbox'  checked><label for='section-b3490bdb-5c1e-40ee-becc-8c2c262193e3' class='sc-section-summary' >Data: <span>(1)</span></label><div class='sc-section-inline-details'></div><div class='sc-section-details'><ul class='sc-var-list'><li class='sc-var-item'><div class='sc-var-name'><span></span></div><div class='sc-var-dims'>(spectrum, wavelength)</div><div class='sc-var-dtype'>float32</div><div class='sc-var-unit'>counts</div><div class='sc-value-preview sc-preview'><span><div>6.0001184e-08, 1.1999873e-07, ..., 1.2000237e-07, 7.9999154e-08</div></span></div><input id='attrs-bd2ff90f-da84-4d72-a85c-cd4119297d6a' class='sc-var-attrs-in' type='checkbox' disabled><label for='attrs-bd2ff90f-da84-4d72-a85c-cd4119297d6a' class='sc-hide-icon' title='Show/Hide attributes'><svg class='icon sc-icon-file-text2'><use xlink:href='#icon-file-text2'></use></svg></label><input id='data-9a48848b-c1ab-478c-8926-5b80377c3a62' class='sc-var-data-in' type='checkbox'><label for='data-9a48848b-c1ab-478c-8926-5b80377c3a62' title='Show/Hide data repr'><svg class='icon sc-icon-database'><use xlink:href='#icon-database'></use></svg></label><pre class='sc-var-data'>Values:<br>array([[ 6.0001184e-08,  1.1999873e-07,  0.0000000e+00, ...,\n",
       "         1.0000076e-07,  6.0001184e-08,  5.9997546e-08],\n",
       "       [ 1.2000237e-07,  1.0000076e-07,  3.9999577e-08, ...,\n",
       "         3.9999577e-08,  7.9999154e-08,  0.0000000e+00],\n",
       "       [ 3.9999577e-08,  6.0001184e-08, -1.0000076e-07, ...,\n",
       "         7.9999154e-08,  7.9999154e-08,  1.9997970e-08],\n",
       "       ...,\n",
       "       [ 1.0000076e-07,  1.0000076e-07,  1.9997970e-08, ...,\n",
       "         1.0000076e-07, -1.9997970e-08,  7.9999154e-08],\n",
       "       [ 3.9999577e-08,  2.0001607e-08,  3.9999577e-08, ...,\n",
       "         3.9999577e-08,  6.0001184e-08,  1.1999873e-07],\n",
       "       [ 1.6000195e-07,  2.0001607e-08, -3.9999577e-08, ...,\n",
       "         6.0001184e-08,  1.2000237e-07,  7.9999154e-08]], dtype=float32)</pre></li></ul></div></li><li class='sc-section-item'><input id='section-3285389d-5c44-422d-8667-95fd66ff9674' class='sc-section-summary-in' type='checkbox'  checked><label for='section-3285389d-5c44-422d-8667-95fd66ff9674' class='sc-section-summary' >Attributes: <span>(1)</span></label><div class='sc-section-inline-details'></div><div class='sc-section-details'><ul class='sc-var-list'><li class='sc-var-item'><div class='sc-var-name'><span>source</span></div><div class='sc-var-dims'>(spectrum)</div><div class='sc-var-dtype'>string</div><div class='sc-var-unit'></div><div class='sc-value-preview sc-preview'><span><div>066017.nxs, 066017.nxs, ..., 066017.nxs, 066017.nxs</div></span></div><input id='attrs-35bb0f0a-d22f-44c0-9b23-b27cb73865b3' class='sc-var-attrs-in' type='checkbox' disabled><label for='attrs-35bb0f0a-d22f-44c0-9b23-b27cb73865b3' class='sc-hide-icon' title='Show/Hide attributes'><svg class='icon sc-icon-file-text2'><use xlink:href='#icon-file-text2'></use></svg></label><input id='data-c06254b4-63d0-4722-a061-f622c68f231a' class='sc-var-data-in' type='checkbox'><label for='data-c06254b4-63d0-4722-a061-f622c68f231a' title='Show/Hide data repr'><svg class='icon sc-icon-database'><use xlink:href='#icon-database'></use></svg></label><pre class='sc-var-data'>Values:<br>[&quot;066017.nxs&quot;, &quot;066017.nxs&quot;, ..., &quot;066017.nxs&quot;, &quot;066017.nxs&quot;]</pre></li></ul></div></li></ul></div></div>"
      ],
      "text/plain": [
       "<scipp.DataArray>\n",
       "Dimensions: Sizes[spectrum:12, wavelength:1044, ]\n",
       "Coordinates:\n",
       "  integration_time          float32            [µs]  (spectrum)  [5e+07, 5e+07, ..., 5e+07, 5e+07]\n",
       "  is_dark                      bool        <no unit>  (spectrum)  [False, False, ..., False, False]\n",
       "  is_data                      bool        <no unit>  (spectrum)  [True, True, ..., True, True]\n",
       "  is_reference                 bool        <no unit>  (spectrum)  [False, False, ..., False, False]\n",
       "  monowavelengths           float32             [nm]  (spectrum)  [295, 295, ..., 320, 320]\n",
       "  time                        int64            [µs]  (spectrum)  [1655992257000000, 1655992257000000, ..., 1655992257000000, 1655992257000000]\n",
       "  wavelength                float32             [nm]  (wavelength)  [248.684, 249.485, ..., 1042.31, 1043.03]\n",
       "Data:\n",
       "                            float32         [counts]  (spectrum, wavelength)  [6.00012e-08, 1.19999e-07, ..., 1.20002e-07, 7.99992e-08]\n",
       "Attributes:\n",
       "  source                     string        <no unit>  (spectrum)  [\"066017.nxs\", \"066017.nxs\", ..., \"066017.nxs\", \"066017.nxs\"]\n"
      ]
     },
     "metadata": {},
     "output_type": "display_data"
    },
    {
     "data": {
      "application/vnd.jupyter.widget-view+json": {
       "model_id": "0c57d823b8b641b5819d8241add7fd63",
       "version_major": 2,
       "version_minor": 0
      },
      "text/plain": [
       "VBox(children=(Image(value=b'\\x89PNG\\r\\n\\x1a\\n\\x00\\x00\\x00\\rIHDR\\x00\\x00\\x03\\x00\\x00\\x00\\x01\\x80\\x08\\x06\\x00\\x…"
      ]
     },
     "metadata": {},
     "output_type": "display_data"
    }
   ],
   "source": [
    "name='066017.nxs'\n",
    "exp_meth='fluorescence'\n",
    "legend_props = {\"show\": True, \"loc\": (1.04, 0)}\n",
    "figure_size = (8, 4)\n",
    "\n",
    "# load a file and caluclate fluo spectra within a LoKI.nxs file\n",
    "fluo_dict=utils.load_nurfloki_file(name,exp_meth)\n",
    "fluo_da=fluo.normalize_fluo(**fluo_dict)\n",
    "\n",
    "print(\"This is the resulting dataarray\")\n",
    "display(fluo_da)\n",
    "#if you want to view a quick plot\n",
    "display(sc.plot(sc.collapse(fluo_da, keep=\"wavelength\"), legend=legend_props, linestyle=\"dashed\",\n",
    "        grid=True,figsize=figure_size))\n",
    "\n",
    "\n",
    "# or in one line, preserves source attribute\n",
    "fluo_da2=fluo.load_and_normalize_fluo(name)\n",
    "\n",
    "display(fluo_da2)\n",
    "\n",
    "#plot result\n",
    "display(sc.plot(sc.collapse(fluo_da2, keep=\"wavelength\"), legend=legend_props, linestyle=\"dashed\",\n",
    "        grid=True,figsize=figure_size))\n"
   ]
  },
  {
   "cell_type": "markdown",
   "metadata": {},
   "source": [
    "The cell below shows how to plot the fluo content of a Loki file. Currently, the code differentiates between good and bad spectra because during the measurements at ILL technical problems occured."
   ]
  },
  {
   "cell_type": "code",
   "execution_count": 4,
   "metadata": {},
   "outputs": [
    {
     "data": {
      "application/vnd.jupyter.widget-view+json": {
       "model_id": "9ff9a86105a04249a84ff4b7d500ad63",
       "version_major": 2,
       "version_minor": 0
      },
      "text/plain": [
       "VBox(children=(Image(value=b'\\x89PNG\\r\\n\\x1a\\n\\x00\\x00\\x00\\rIHDR\\x00\\x00\\x03\\x00\\x00\\x00\\x01\\x80\\x08\\x06\\x00\\x…"
      ]
     },
     "metadata": {},
     "output_type": "display_data"
    },
    {
     "data": {
      "application/vnd.jupyter.widget-view+json": {
       "model_id": "a1574e19b542493aa3a9835e68f1db74",
       "version_major": 2,
       "version_minor": 0
      },
      "text/plain": [
       "VBox(children=(Image(value=b'\\x89PNG\\r\\n\\x1a\\n\\x00\\x00\\x00\\rIHDR\\x00\\x00\\x03\\xc0\\x00\\x00\\x02@\\x08\\x06\\x00\\x00\\…"
      ]
     },
     "metadata": {},
     "output_type": "display_data"
    },
    {
     "data": {
      "application/vnd.jupyter.widget-view+json": {
       "model_id": "3e2137bb2032494a8aaa783ab3f5a8e1",
       "version_major": 2,
       "version_minor": 0
      },
      "text/plain": [
       "VBox(children=(Image(value=b'\\x89PNG\\r\\n\\x1a\\n\\x00\\x00\\x00\\rIHDR\\x00\\x00\\x03\\x00\\x00\\x00\\x01\\x80\\x08\\x06\\x00\\x…"
      ]
     },
     "metadata": {},
     "output_type": "display_data"
    },
    {
     "data": {
      "application/vnd.jupyter.widget-view+json": {
       "model_id": "d33a229c083c41cebae7e242d1d10899",
       "version_major": 2,
       "version_minor": 0
      },
      "text/plain": [
       "VBox(children=(Image(value=b'\\x89PNG\\r\\n\\x1a\\n\\x00\\x00\\x00\\rIHDR\\x00\\x00\\x03\\x00\\x00\\x00\\x01\\x80\\x08\\x06\\x00\\x…"
      ]
     },
     "metadata": {},
     "output_type": "display_data"
    },
    {
     "data": {
      "application/vnd.jupyter.widget-view+json": {
       "model_id": "a931d08e160648d5be403e3c19d5bd01",
       "version_major": 2,
       "version_minor": 0
      },
      "text/plain": [
       "VBox(children=(Image(value=b'\\x89PNG\\r\\n\\x1a\\n\\x00\\x00\\x00\\rIHDR\\x00\\x00\\x03\\x00\\x00\\x00\\x01\\x80\\x08\\x06\\x00\\x…"
      ]
     },
     "metadata": {},
     "output_type": "display_data"
    },
    {
     "data": {
      "application/vnd.jupyter.widget-view+json": {
       "model_id": "594d7856705444e58fdc299206f6fc80",
       "version_major": 2,
       "version_minor": 0
      },
      "text/plain": [
       "VBox(children=(Image(value=b'\\x89PNG\\r\\n\\x1a\\n\\x00\\x00\\x00\\rIHDR\\x00\\x00\\x03\\x00\\x00\\x00\\x01\\x80\\x08\\x06\\x00\\x…"
      ]
     },
     "metadata": {},
     "output_type": "display_data"
    }
   ],
   "source": [
    "#How to plot fluo the fluo spectra contained in one LoKI.nxs file\n",
    "plot.plot_fluo(name)"
   ]
  },
  {
   "cell_type": "code",
   "execution_count": 6,
   "metadata": {},
   "outputs": [
    {
     "data": {
      "text/html": [
       "<div><!-- Original source from -->\n",
       "<!-- https://github.com/jsignell/xarray/blob/1d960933ab252e0f79f7e050e6c9261d55568057/xarray/static/html/icons-svg-inline.html -->\n",
       "<svg style=\"position: absolute; width: 0; height: 0; overflow: hidden\">\n",
       "<defs>\n",
       "<symbol id=\"icon-database\" viewBox=\"0 0 32 32\">\n",
       "<title>Show/Hide data repr</title>\n",
       "<path d=\"M16 0c-8.837 0-16 2.239-16 5v4c0 2.761 7.163 5 16 5s16-2.239 16-5v-4c0-2.761-7.163-5-16-5z\"></path>\n",
       "<path d=\"M16 17c-8.837 0-16-2.239-16-5v6c0 2.761 7.163 5 16 5s16-2.239 16-5v-6c0 2.761-7.163 5-16 5z\"></path>\n",
       "<path d=\"M16 26c-8.837 0-16-2.239-16-5v6c0 2.761 7.163 5 16 5s16-2.239 16-5v-6c0 2.761-7.163 5-16 5z\"></path>\n",
       "</symbol>\n",
       "<symbol id=\"icon-file-text2\" viewBox=\"0 0 32 32\">\n",
       "<title>Show/Hide attributes</title>\n",
       "<path d=\"M28.681 7.159c-0.694-0.947-1.662-2.053-2.724-3.116s-2.169-2.030-3.116-2.724c-1.612-1.182-2.393-1.319-2.841-1.319h-15.5c-1.378 0-2.5 1.121-2.5 2.5v27c0 1.378 1.122 2.5 2.5 2.5h23c1.378 0 2.5-1.122 2.5-2.5v-19.5c0-0.448-0.137-1.23-1.319-2.841zM24.543 5.457c0.959 0.959 1.712 1.825 2.268 2.543h-4.811v-4.811c0.718 0.556 1.584 1.309 2.543 2.268zM28 29.5c0 0.271-0.229 0.5-0.5 0.5h-23c-0.271 0-0.5-0.229-0.5-0.5v-27c0-0.271 0.229-0.5 0.5-0.5 0 0 15.499-0 15.5 0v7c0 0.552 0.448 1 1 1h7v19.5z\"></path>\n",
       "<path d=\"M23 26h-14c-0.552 0-1-0.448-1-1s0.448-1 1-1h14c0.552 0 1 0.448 1 1s-0.448 1-1 1z\"></path>\n",
       "<path d=\"M23 22h-14c-0.552 0-1-0.448-1-1s0.448-1 1-1h14c0.552 0 1 0.448 1 1s-0.448 1-1 1z\"></path>\n",
       "<path d=\"M23 18h-14c-0.552 0-1-0.448-1-1s0.448-1 1-1h14c0.552 0 1 0.448 1 1s-0.448 1-1 1z\"></path>\n",
       "</symbol>\n",
       "</defs>\n",
       "</svg><style id=\"scipp-style-sheet\">.sc-root{--sc-background-color0:var(--jp-layout-color0,#fff);--sc-background-color1:var(--jp-layout-color1,#fcfcfc);--sc-background-color2:var(--jp-layout-color2,#efefef);--sc-inverse-background-color0:var(--jp-inverse-layout-color4,#111);--sc-font-color0:var(--jp-content-font-color0,#000);--sc-font-color1:var(--jp-content-font-color1,#555);--sc-font-color2:var(--jp-content-font-color2,#888);--sc-font-color3:var(--jp-content-font-color3,#ccc);--sc-table-data-color:#f6d028;--sc-table-coords-color:#c6e590;--sc-table-masks-color:#c8c8c8;--sc-table-attrs-color:#ff5555;--sc-table-header-font-color:#111111;}.sc-wrap{font-size:14px;min-width:300px;max-width:800px;}.sc-var-attrs .sc-wrap{padding-left:3em;}.sc-header{padding-top:6px;padding-bottom:6px;margin-bottom:4px;border-bottom:solid 1px #ddd;}.sc-header > div,.sc-header > ul{display:inline;margin-top:0;margin-bottom:0;}.sc-obj-type,.sc-array-name{margin-left:2px;margin-right:10px;}.sc-obj-type{color:var(--sc-font-color1);}.sc-underlying-size{color:var(--sc-font-color2);}.sc-sections,.reveal .sc-sections{padding-left:0 !important;display:grid;grid-template-columns:150px auto auto auto 1fr 20px 20px;}.sc-section-item{display:contents;}.sc-section-item input{display:none;}.sc-section-item input:enabled + label{cursor:pointer;color:var(--sc-font-color1);}.sc-section-item input:enabled + label:hover{color:var(--sc-font-color0);}.sc-section-summary{grid-column:1;font-weight:500;}.sc-section-summary > span{display:inline-block;padding-left:0.5em;}.sc-section-summary-in:disabled + label{color:var(--sc-font-color1);}.sc-section-summary-in + label:before{display:inline-block;content:'►';font-size:11px;width:15px;text-align:center;}.sc-section-summary-in:disabled + label:before{color:var(--sc-font-color3);}.sc-section-summary-in:checked + label:before{content:'▼';}.sc-section-summary-in:checked + label > span{display:none;}.sc-section-summary,.sc-section-inline-details{padding-top:4px;padding-bottom:4px;}.sc-section-inline-details{grid-column:2 / 6;}.sc-section-details{display:none;grid-column:1 / -1;margin-bottom:5px;}.sc-section-summary-in:checked ~ .sc-section-details{display:contents;}.sc-array-wrap{grid-column:1 / -1;display:grid;grid-template-columns:20px auto;}.sc-array-wrap > label{grid-column:1;vertical-align:top;}.sc-preview{color:var(--sc-font-color2);}.sc-array-preview,.sc-array-data{padding:0 5px !important;grid-column:2;}.sc-array-data,.sc-array-in:checked ~ .sc-array-preview{display:none;}.sc-array-in:checked ~ .sc-array-data,.sc-array-preview{display:inline-block;}.sc-dim-list{display:inline-block !important;list-style:none;padding:0 !important;margin:0;}.sc-dim-list li{display:inline-block;padding:0;margin:0!important;}.sc-dim-list:before{content:'(';}.sc-dim-list:after{content:')';}.sc-dim-list li:not(:last-child):after{content:',';padding-right:5px;}.sc-has-index{font-weight:bold;}.sc-var-list,.sc-var-item,.reveal .sc-var-list,.reveal .sc-var-item{display:contents;}.sc-var-item > div,.sc-var-item label,.sc-var-item > .sc-var-name span{background-color:var(--sc-background-color1);margin-bottom:0;}.sc-var-item > .sc-var-name:hover span{padding-right:5px;}.sc-var-list > li:nth-child(odd) > div,.sc-var-list > li:nth-child(odd) > label,.sc-var-list > li:nth-child(odd) > .sc-var-name span{background-color:var(--sc-background-color2);}.sc-var-name{grid-column:1;}.sc-var-dims{grid-column:2;}.sc-var-dtype{grid-column:3;text-align:right;color:var(--sc-font-color2);}.sc-var-unit{grid-column:4;text-align:left;color:var(--sc-font-color1);max-width:50pt;text-overflow:ellipsis;}.sc-value-preview{grid-column:5;}.sc-var-preview-variances{text-align:right;}.sc-sections .sc-section-item .sc-section-summary,.sc-sections .sc-section-item .sc-section-inline-details,.sc-section-item .sc-var-list .sc-var-item > div,.sc-section-item .sc-var-list .sc-var-item > label,.sc-section-details .sc-var-list .sc-var-item > div,.sc-section-details .sc-var-list .sc-var-item > label{margin-top:0;margin-bottom:0;}.sc-var-name,.sc-var-dims,.sc-var-dtype,.sc-var-unit,.sc-preview,.sc-attrs dt{white-space:nowrap;overflow:hidden;text-overflow:ellipsis;padding-right:10px;}.sc-var-name:hover,.sc-var-dims:hover,.sc-var-dtype:hover,.sc-var-unit:hover,.sc-attrs dt:hover{overflow:visible;width:auto;z-index:1;}.sc-var-attrs{display:block;}.sc-var-data,.reveal .sc-var-data{display:none;}.sc-var-attrs,.sc-var-data{background-color:var(--sc-background-color0) !important;padding-bottom:5px !important;}.sc-var-attrs-in:checked ~ .sc-var-attrs{display:none;}.sc-var-data-in:checked ~ .sc-var-data{display:block;}.sc-var-data > table{float:right;}.sc-var-name span,.sc-var-data{padding-left:25px !important;}.sc-var-attrs,.sc-var-data{grid-column:1 / -1;}dl.sc-attrs{padding:0;margin:0;display:grid;grid-template-columns:125px auto;}.sc-attrs dt,dd{padding:0;margin:0;float:left;padding-right:10px;width:auto;}.sc-attrs dt{font-weight:normal;grid-column:1;}.sc-attrs dt:hover span{display:inline-block;padding-right:10px;}.sc-attrs dd{grid-column:2;white-space:pre-wrap;word-break:break-all;}.sc-icon-database,.sc-icon-file-text2{display:inline-block;vertical-align:middle;width:1em;height:1.5em !important;stroke-width:0;stroke:currentColor;fill:currentColor;}label.sc-hide-icon svg{opacity:0;}.sc-standalone-var-name{grid-column:1/3;}.sc-standalone-var-name span{padding-left:25px;padding-right:10px;}.sc-table{border-collapse:collapse;}.sc-title{font-weight:bold;font-size:1.5em;}.sc-subtitle{font-weight:normal;font-style:italic;text-align:left;font-size:1.2em;padding:1px;}.sc-table th,.sc-table td{border:1px solid var(--sc-inverse-background-color0);padding:0 5px 0 5px;}.sc-table th{text-align:center;}.sc-table tr{background-color:var(--sc-background-color1);text-align:right;}.sc-table tr:hover{background-color:var(--sc-background-color2);}.sc-table th.sc-data{background-color:var(--sc-table-data-color);color:var(--sc-table-header-font-color);}.sc-table th.sc-coords{background-color:var(--sc-table-coords-color);color:var(--sc-table-header-font-color);}.sc-table th.sc-masks{background-color:var(--sc-table-masks-color);color:var(--sc-table-header-font-color);}.sc-table th.sc-attrs{background-color:var(--sc-table-attrs-color);color:var(--sc-table-header-font-color);}.sc-table th.sc-subheader{background-color:var(--sc-background-color2);}.sc-table td.sc-padding{background-color:var(--sc-background-color1);border:0 solid var(--sc-background-color1);height:1.2em;}.sc-label{fill:var(--sc-font-color0,#444444);text-anchor:middle;}.sc-name{fill:var(--sc-font-color0,#111111);}.sc-inset-line{stroke:var(--sc-font-color1);stroke-width:0.05;stroke-dasharray:0.2,0.2;}.sc-log-wrap{height:25ex;resize:vertical;overflow-y:scroll;display:flex;flex-direction:column-reverse;border:1px solid;border-color:var(--jp-border-color2);background-color:var(--sc-background-color1);}div.sc-log{line-height:2.5ex;}table.sc-log{table-layout:auto;border-collapse:collapse;}tr.sc-log:nth-child(even){background-color:var(--sc-background-color0);}tr.sc-log > td{vertical-align:top;padding-bottom:0.5ex;}.sc-log-time-stamp{min-width:22ch;font-family:var(--jp-code-font-family);color:var(--sc-font-color2);}.sc-log-level{min-width:10ch;}tr.sc-log-debug td.sc-log-level{color:var(--jp-accent-color1);}tr.sc-log-info td.sc-log-level{color:var(--jp-info-color1);}tr.sc-log-warning td.sc-log-level{color:var(--jp-warn-color1);}tr.sc-log-error td.sc-log-level{font-weight:bold;color:var(--jp-error-color2);}tr.sc-log-critical td.sc-log-level{font-weight:bold;color:var(--sc-background-color0);background-color:var(--jp-error-color1);}.sc-log-message{white-space:pre-wrap;width:100%;}.sc-log-html-payload{white-space:normal;}.sc-log-name{padding-right:0.5em;text-align:right;white-space:pre-wrap;color:var(--sc-font-color3);}</style><div class='sc-wrap sc-root'><div class='sc-header'><div class='sc-obj-type'>scipp.DataArray (56.29 KB)</div></div><ul class='sc-sections'><li class='sc-section-item'><input id='section-61e6f5da-50a8-48d5-b6a3-fda844f5b9a9' class='sc-section-summary-in' type='checkbox' disabled ><label for='section-61e6f5da-50a8-48d5-b6a3-fda844f5b9a9' class='sc-section-summary'  title='Expand/collapse section'>Dimensions:</label><div class='sc-section-inline-details'><ul class='sc-dim-list'><li><span>spectrum</span>: 12</li><li><span class='sc-has-index'>wavelength</span>: 1044</li></ul></div><div class='sc-section-details'></div></li><li class='sc-section-item'><input id='section-5ced8f45-b119-42c3-9785-41ade4436229' class='sc-section-summary-in' type='checkbox'  checked><label for='section-5ced8f45-b119-42c3-9785-41ade4436229' class='sc-section-summary' >Coordinates: <span>(7)</span></label><div class='sc-section-inline-details'></div><div class='sc-section-details'><ul class='sc-var-list'><li class='sc-var-item'><div class='sc-var-name'><span>integration_time</span></div><div class='sc-var-dims'>(spectrum)</div><div class='sc-var-dtype'>float32</div><div class='sc-var-unit'>µs</div><div class='sc-value-preview sc-preview'><span><div>50000000.0, 50000000.0, ..., 50000000.0, 50000000.0</div></span></div><input id='attrs-fab5221a-ce95-4285-a0c6-3d836d4f09bd' class='sc-var-attrs-in' type='checkbox' disabled><label for='attrs-fab5221a-ce95-4285-a0c6-3d836d4f09bd' class='sc-hide-icon' title='Show/Hide attributes'><svg class='icon sc-icon-file-text2'><use xlink:href='#icon-file-text2'></use></svg></label><input id='data-4e77e13e-5e0a-4c57-b069-7d3d78ba2fd5' class='sc-var-data-in' type='checkbox'><label for='data-4e77e13e-5e0a-4c57-b069-7d3d78ba2fd5' title='Show/Hide data repr'><svg class='icon sc-icon-database'><use xlink:href='#icon-database'></use></svg></label><pre class='sc-var-data'>Values:<br>array([50000000., 50000000., 50000000., 50000000., 50000000., 50000000.,\n",
       "       50000000., 50000000., 50000000., 50000000., 50000000., 50000000.],\n",
       "      dtype=float32)</pre></span></li><li class='sc-var-item'><div class='sc-var-name'><span>is_dark</span></div><div class='sc-var-dims'>(spectrum)</div><div class='sc-var-dtype'>bool</div><div class='sc-var-unit'></div><div class='sc-value-preview sc-preview'><span><div>False, False, ..., False, False</div></span></div><input id='attrs-d5b741ab-b58d-48fe-87ec-f4c5e3684b90' class='sc-var-attrs-in' type='checkbox' disabled><label for='attrs-d5b741ab-b58d-48fe-87ec-f4c5e3684b90' class='sc-hide-icon' title='Show/Hide attributes'><svg class='icon sc-icon-file-text2'><use xlink:href='#icon-file-text2'></use></svg></label><input id='data-c36baf2e-13e6-460a-bf7a-159b91827263' class='sc-var-data-in' type='checkbox'><label for='data-c36baf2e-13e6-460a-bf7a-159b91827263' title='Show/Hide data repr'><svg class='icon sc-icon-database'><use xlink:href='#icon-database'></use></svg></label><pre class='sc-var-data'>Values:<br>array([False, False, False, False, False, False, False, False, False,\n",
       "       False, False, False])</pre></span></li><li class='sc-var-item'><div class='sc-var-name'><span>is_data</span></div><div class='sc-var-dims'>(spectrum)</div><div class='sc-var-dtype'>bool</div><div class='sc-var-unit'></div><div class='sc-value-preview sc-preview'><span><div>True, True, ..., True, True</div></span></div><input id='attrs-4e3f1c28-0ea7-4906-a93d-c7e88621304c' class='sc-var-attrs-in' type='checkbox' disabled><label for='attrs-4e3f1c28-0ea7-4906-a93d-c7e88621304c' class='sc-hide-icon' title='Show/Hide attributes'><svg class='icon sc-icon-file-text2'><use xlink:href='#icon-file-text2'></use></svg></label><input id='data-f55a3852-2128-4724-8947-a59489f54203' class='sc-var-data-in' type='checkbox'><label for='data-f55a3852-2128-4724-8947-a59489f54203' title='Show/Hide data repr'><svg class='icon sc-icon-database'><use xlink:href='#icon-database'></use></svg></label><pre class='sc-var-data'>Values:<br>array([ True,  True,  True,  True,  True,  True,  True,  True,  True,\n",
       "        True,  True,  True])</pre></span></li><li class='sc-var-item'><div class='sc-var-name'><span>is_reference</span></div><div class='sc-var-dims'>(spectrum)</div><div class='sc-var-dtype'>bool</div><div class='sc-var-unit'></div><div class='sc-value-preview sc-preview'><span><div>False, False, ..., False, False</div></span></div><input id='attrs-5dcd4b61-1d11-48d2-b97e-00b256065fc1' class='sc-var-attrs-in' type='checkbox' disabled><label for='attrs-5dcd4b61-1d11-48d2-b97e-00b256065fc1' class='sc-hide-icon' title='Show/Hide attributes'><svg class='icon sc-icon-file-text2'><use xlink:href='#icon-file-text2'></use></svg></label><input id='data-b20396ab-98e9-42d2-bf0b-c5adb95f2138' class='sc-var-data-in' type='checkbox'><label for='data-b20396ab-98e9-42d2-bf0b-c5adb95f2138' title='Show/Hide data repr'><svg class='icon sc-icon-database'><use xlink:href='#icon-database'></use></svg></label><pre class='sc-var-data'>Values:<br>array([False, False, False, False, False, False, False, False, False,\n",
       "       False, False, False])</pre></span></li><li class='sc-var-item'><div class='sc-var-name'><span>monowavelengths</span></div><div class='sc-var-dims'>(spectrum)</div><div class='sc-var-dtype'>float32</div><div class='sc-var-unit'>nm</div><div class='sc-value-preview sc-preview'><span><div>295.0, 295.0, ..., 320.0, 320.0</div></span></div><input id='attrs-af599804-acdf-42cd-9452-271e18039dc4' class='sc-var-attrs-in' type='checkbox' disabled><label for='attrs-af599804-acdf-42cd-9452-271e18039dc4' class='sc-hide-icon' title='Show/Hide attributes'><svg class='icon sc-icon-file-text2'><use xlink:href='#icon-file-text2'></use></svg></label><input id='data-6904dffe-6b6d-48f3-9bb5-191517bd3307' class='sc-var-data-in' type='checkbox'><label for='data-6904dffe-6b6d-48f3-9bb5-191517bd3307' title='Show/Hide data repr'><svg class='icon sc-icon-database'><use xlink:href='#icon-database'></use></svg></label><pre class='sc-var-data'>Values:<br>array([295., 295., 295., 295., 320., 320., 320., 320., 295., 295., 320.,\n",
       "       320.], dtype=float32)</pre></span></li><li class='sc-var-item'><div class='sc-var-name'><span>time</span></div><div class='sc-var-dims'>(spectrum)</div><div class='sc-var-dtype'>int64</div><div class='sc-var-unit'>µs</div><div class='sc-value-preview sc-preview'><span><div>1655992257000000, 1655992257000000, ..., 1655992257000000, 1655992257000000</div></span></div><input id='attrs-681ae1f6-b482-47a9-a26e-6523f56defb0' class='sc-var-attrs-in' type='checkbox' disabled><label for='attrs-681ae1f6-b482-47a9-a26e-6523f56defb0' class='sc-hide-icon' title='Show/Hide attributes'><svg class='icon sc-icon-file-text2'><use xlink:href='#icon-file-text2'></use></svg></label><input id='data-859e1c49-0954-4b56-b9fb-86acf95d1dc9' class='sc-var-data-in' type='checkbox'><label for='data-859e1c49-0954-4b56-b9fb-86acf95d1dc9' title='Show/Hide data repr'><svg class='icon sc-icon-database'><use xlink:href='#icon-database'></use></svg></label><pre class='sc-var-data'>Values:<br>array([1655992257000000, 1655992257000000, 1655992257000000,\n",
       "       1655992257000000, 1655992257000000, 1655992257000000,\n",
       "       1655992257000000, 1655992257000000, 1655992257000000,\n",
       "       1655992257000000, 1655992257000000, 1655992257000000])</pre></span></li><li class='sc-var-item'><div class='sc-var-name'><span class='sc-has-index'>wavelength</span></div><div class='sc-var-dims'>(wavelength)</div><div class='sc-var-dtype'>float32</div><div class='sc-var-unit'>nm</div><div class='sc-value-preview sc-preview'><span><div>248.68408, 249.48499, ..., 1042.3112, 1043.0312</div></span></div><input id='attrs-c9706bdb-5d9f-4a04-8713-13dda9b4dd3e' class='sc-var-attrs-in' type='checkbox' disabled><label for='attrs-c9706bdb-5d9f-4a04-8713-13dda9b4dd3e' class='sc-hide-icon' title='Show/Hide attributes'><svg class='icon sc-icon-file-text2'><use xlink:href='#icon-file-text2'></use></svg></label><input id='data-a9e704d7-bdcc-44da-a9ae-18b49d944672' class='sc-var-data-in' type='checkbox'><label for='data-a9e704d7-bdcc-44da-a9ae-18b49d944672' title='Show/Hide data repr'><svg class='icon sc-icon-database'><use xlink:href='#icon-database'></use></svg></label><pre class='sc-var-data'>Values:<br>array([ 248.68408,  249.48499,  250.28581, ..., 1041.591  , 1042.3112 ,\n",
       "       1043.0312 ], dtype=float32)</pre></span></li></ul></div></li><li class='sc-section-item'><input id='section-dc73bd2b-ed77-4119-af0f-f43be5c4272c' class='sc-section-summary-in' type='checkbox'  checked><label for='section-dc73bd2b-ed77-4119-af0f-f43be5c4272c' class='sc-section-summary' >Data: <span>(1)</span></label><div class='sc-section-inline-details'></div><div class='sc-section-details'><ul class='sc-var-list'><li class='sc-var-item'><div class='sc-var-name'><span></span></div><div class='sc-var-dims'>(spectrum, wavelength)</div><div class='sc-var-dtype'>float32</div><div class='sc-var-unit'>counts</div><div class='sc-value-preview sc-preview'><span><div>6.0001184e-08, 1.1999873e-07, ..., 1.2000237e-07, 7.9999154e-08</div></span></div><input id='attrs-29b6a75f-8f31-4b33-a120-d9134df14acd' class='sc-var-attrs-in' type='checkbox' disabled><label for='attrs-29b6a75f-8f31-4b33-a120-d9134df14acd' class='sc-hide-icon' title='Show/Hide attributes'><svg class='icon sc-icon-file-text2'><use xlink:href='#icon-file-text2'></use></svg></label><input id='data-39958406-09dc-4da3-8410-84241fe87502' class='sc-var-data-in' type='checkbox'><label for='data-39958406-09dc-4da3-8410-84241fe87502' title='Show/Hide data repr'><svg class='icon sc-icon-database'><use xlink:href='#icon-database'></use></svg></label><pre class='sc-var-data'>Values:<br>array([[ 6.0001184e-08,  1.1999873e-07,  0.0000000e+00, ...,\n",
       "         1.0000076e-07,  6.0001184e-08,  5.9997546e-08],\n",
       "       [ 1.2000237e-07,  1.0000076e-07,  3.9999577e-08, ...,\n",
       "         3.9999577e-08,  7.9999154e-08,  0.0000000e+00],\n",
       "       [ 3.9999577e-08,  6.0001184e-08, -1.0000076e-07, ...,\n",
       "         7.9999154e-08,  7.9999154e-08,  1.9997970e-08],\n",
       "       ...,\n",
       "       [ 1.0000076e-07,  1.0000076e-07,  1.9997970e-08, ...,\n",
       "         1.0000076e-07, -1.9997970e-08,  7.9999154e-08],\n",
       "       [ 3.9999577e-08,  2.0001607e-08,  3.9999577e-08, ...,\n",
       "         3.9999577e-08,  6.0001184e-08,  1.1999873e-07],\n",
       "       [ 1.6000195e-07,  2.0001607e-08, -3.9999577e-08, ...,\n",
       "         6.0001184e-08,  1.2000237e-07,  7.9999154e-08]], dtype=float32)</pre></li></ul></div></li><li class='sc-section-item'><input id='section-3053205f-4add-4a3d-9ba3-c50a3b3a1e0a' class='sc-section-summary-in' type='checkbox'  checked><label for='section-3053205f-4add-4a3d-9ba3-c50a3b3a1e0a' class='sc-section-summary' >Attributes: <span>(1)</span></label><div class='sc-section-inline-details'></div><div class='sc-section-details'><ul class='sc-var-list'><li class='sc-var-item'><div class='sc-var-name'><span>source</span></div><div class='sc-var-dims'>(spectrum)</div><div class='sc-var-dtype'>string</div><div class='sc-var-unit'></div><div class='sc-value-preview sc-preview'><span><div>066017.nxs, 066017.nxs, ..., 066017.nxs, 066017.nxs</div></span></div><input id='attrs-bfc59b09-fa9b-4fbe-8cf7-cb554d2ff84d' class='sc-var-attrs-in' type='checkbox' disabled><label for='attrs-bfc59b09-fa9b-4fbe-8cf7-cb554d2ff84d' class='sc-hide-icon' title='Show/Hide attributes'><svg class='icon sc-icon-file-text2'><use xlink:href='#icon-file-text2'></use></svg></label><input id='data-9379b3d1-5475-4900-a1cf-b6ae16586e97' class='sc-var-data-in' type='checkbox'><label for='data-9379b3d1-5475-4900-a1cf-b6ae16586e97' title='Show/Hide data repr'><svg class='icon sc-icon-database'><use xlink:href='#icon-database'></use></svg></label><pre class='sc-var-data'>Values:<br>[&quot;066017.nxs&quot;, &quot;066017.nxs&quot;, ..., &quot;066017.nxs&quot;, &quot;066017.nxs&quot;]</pre></li></ul></div></li></ul></div></div>"
      ],
      "text/plain": [
       "<scipp.DataArray>\n",
       "Dimensions: Sizes[spectrum:12, wavelength:1044, ]\n",
       "Coordinates:\n",
       "  integration_time          float32            [µs]  (spectrum)  [5e+07, 5e+07, ..., 5e+07, 5e+07]\n",
       "  is_dark                      bool        <no unit>  (spectrum)  [False, False, ..., False, False]\n",
       "  is_data                      bool        <no unit>  (spectrum)  [True, True, ..., True, True]\n",
       "  is_reference                 bool        <no unit>  (spectrum)  [False, False, ..., False, False]\n",
       "  monowavelengths           float32             [nm]  (spectrum)  [295, 295, ..., 320, 320]\n",
       "  time                        int64            [µs]  (spectrum)  [1655992257000000, 1655992257000000, ..., 1655992257000000, 1655992257000000]\n",
       "  wavelength                float32             [nm]  (wavelength)  [248.684, 249.485, ..., 1042.31, 1043.03]\n",
       "Data:\n",
       "                            float32         [counts]  (spectrum, wavelength)  [6.00012e-08, 1.19999e-07, ..., 1.20002e-07, 7.99992e-08]\n",
       "Attributes:\n",
       "  source                     string        <no unit>  (spectrum)  [\"066017.nxs\", \"066017.nxs\", ..., \"066017.nxs\", \"066017.nxs\"]\n"
      ]
     },
     "metadata": {},
     "output_type": "display_data"
    }
   ],
   "source": [
    "#How to load and normalize fluo spectra of one file in one go.\n",
    "fluo_da=fluo.load_and_normalize_fluo(name) \n",
    "display(fluo_da)"
   ]
  },
  {
   "cell_type": "markdown",
   "metadata": {},
   "source": [
    "How to apply a median filter. Let's use the new median_filter offered by scipp."
   ]
  },
  {
   "cell_type": "code",
   "execution_count": 7,
   "metadata": {},
   "outputs": [
    {
     "data": {
      "application/vnd.jupyter.widget-view+json": {
       "model_id": "ebbf3f1bbfe843a0be5612e30a1a7c65",
       "version_major": 2,
       "version_minor": 0
      },
      "text/plain": [
       "VBox(children=(Image(value=b'\\x89PNG\\r\\n\\x1a\\n\\x00\\x00\\x00\\rIHDR\\x00\\x00\\x02X\\x00\\x00\\x01\\x90\\x08\\x06\\x00\\x00\\…"
      ]
     },
     "metadata": {},
     "output_type": "display_data"
    },
    {
     "data": {
      "application/vnd.jupyter.widget-view+json": {
       "model_id": "1880f50bdd9e4230b356eb72ce95c080",
       "version_major": 2,
       "version_minor": 0
      },
      "text/plain": [
       "VBox(children=(Image(value=b'\\x89PNG\\r\\n\\x1a\\n\\x00\\x00\\x00\\rIHDR\\x00\\x00\\x02X\\x00\\x00\\x01\\x90\\x08\\x06\\x00\\x00\\…"
      ]
     },
     "metadata": {},
     "output_type": "display_data"
    }
   ],
   "source": [
    "#How to load and normalize fluo spectra of one file in one go.\n",
    "fluo_da=fluo.load_and_normalize_fluo(name) \n",
    "\n",
    "# prepare kernel\n",
    "kernel_size=15\n",
    "\n",
    "# apply median filter\n",
    "fluo_da_filt=utils.nurf_median_filter(fluo_da, kernel_size=kernel_size)\n",
    "\n",
    "#show effect of median_filter\n",
    "legend_props = {\"show\": True, \"loc\": (1.04, 0)}\n",
    "fig1=sc.plot(sc.collapse(fluo_da, keep='wavelength'), marker='.', title='before any median filter',legend=legend_props)\n",
    "fig2=sc.plot(sc.collapse(fluo_da_filt, keep='wavelength'), marker='.', title=f'after median filter - scipp, size={kernel_size} ',legend=legend_props)\n",
    "display(fig1,fig2)\n",
    "\n",
    "\n",
    "\n",
    "\n",
    "\n"
   ]
  },
  {
   "cell_type": "code",
   "execution_count": null,
   "metadata": {},
   "outputs": [],
   "source": []
  }
 ],
 "metadata": {
  "kernelspec": {
   "display_name": "Python 3.9.13 ('dev')",
   "language": "python",
   "name": "python3"
  },
  "language_info": {
   "codemirror_mode": {
    "name": "ipython",
    "version": 3
   },
   "file_extension": ".py",
   "mimetype": "text/x-python",
   "name": "python",
   "nbconvert_exporter": "python",
   "pygments_lexer": "ipython3",
   "version": "3.9.13"
  },
  "orig_nbformat": 4,
  "vscode": {
   "interpreter": {
    "hash": "4396f389b93e7269692bd3bea4c62813bbe379469bde939b058805f538feec11"
   }
  }
 },
 "nbformat": 4,
 "nbformat_minor": 2
}
