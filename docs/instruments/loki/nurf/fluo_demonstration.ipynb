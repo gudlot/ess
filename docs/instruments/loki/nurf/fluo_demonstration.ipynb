{
 "cells": [
  {
   "cell_type": "code",
   "execution_count": 1,
   "metadata": {},
   "outputs": [],
   "source": [
    "from ess.loki.nurf import utils, fluo, plot\n",
    "from ess.loki.nurf import ill_auxilliary_funcs as ill \n",
    "\n",
    "# standard library imports\n",
    "import itertools\n",
    "import os\n",
    "from typing import Optional, Type, Union\n",
    "\n",
    "# related third party imports\n",
    "import numpy as np\n",
    "import matplotlib.pyplot as plt\n",
    "from matplotlib import cm\n",
    "import matplotlib.gridspec as gridspec\n",
    "from IPython.display import display, HTML\n",
    "from scipy.optimize import leastsq  # needed for fitting of turbidity\n",
    "\n",
    "# local application imports\n",
    "import scippnexus as snx\n",
    "import scipp as sc\n",
    "from scipp.ndimage import median_filter"
   ]
  },
  {
   "cell_type": "code",
   "execution_count": 2,
   "metadata": {},
   "outputs": [],
   "source": [
    "# Prepare for export to .dat for uv and fluo\n",
    "\n",
    "# path to LOKI-like files\n",
    "process_folder='/Users/gudlo523/Library/CloudStorage/OneDrive-LundUniversity/UU/ILL_947_June_2021/212/d22/exp_9-13-947/processed/ess_version'\n",
    "# change to folder\n",
    "os.chdir(process_folder)\n",
    "\n",
    "# export path for .dat files\n",
    "path_output='/Users/gudlo523/Library/CloudStorage/OneDrive-LundUniversity/UU/ILL_947_June_2021/212/d22/exp_9-13-947/processed/ess_version/dat-files'\n",
    "\n",
    "# experimental data sets\n",
    "exp5= [66017, 66020, 66023, 66026, 66029, 66032, 66034, 66037, 66040, 66043, 66046]\n",
    "exp6= [66050, 66053, 66056, 66059, 66062, 66065, 66068, 66071, 66074, 66077, 66080]\n",
    "\n",
    "exp2= [65925, 65927, 65930, 65933, 65936, 65939, 65942, 65945, 65948, 65951, 65954, 65957]\n",
    "exp3= [65962, 65965, 65968, 65971, 65974, 65977, 65980, 65983, 65986, 65989, 65992]\n",
    "\n",
    "exp7= [66083, 66086, 66089, 66092, 66095, 66098, 66101, 66104, 66107, 66110, 66113]\n",
    "exp8= [66116, 66119, 66122, 66125, 66128, 66131, 66134, 66137, 66140, 66143, 66146]"
   ]
  },
  {
   "cell_type": "markdown",
   "metadata": {},
   "source": [
    "Cell below shows how to load fluo spectra from a Loki.nxs file"
   ]
  },
  {
   "cell_type": "code",
   "execution_count": 5,
   "metadata": {},
   "outputs": [
    {
     "name": "stdout",
     "output_type": "stream",
     "text": [
      "This is the resulting dataarray\n"
     ]
    },
    {
     "data": {
      "text/html": [
       "<div><!-- Original source from -->\n",
       "<!-- https://github.com/jsignell/xarray/blob/1d960933ab252e0f79f7e050e6c9261d55568057/xarray/static/html/icons-svg-inline.html -->\n",
       "<svg style=\"position: absolute; width: 0; height: 0; overflow: hidden\">\n",
       "<defs>\n",
       "<symbol id=\"icon-database\" viewBox=\"0 0 32 32\">\n",
       "<title>Show/Hide data repr</title>\n",
       "<path d=\"M16 0c-8.837 0-16 2.239-16 5v4c0 2.761 7.163 5 16 5s16-2.239 16-5v-4c0-2.761-7.163-5-16-5z\"></path>\n",
       "<path d=\"M16 17c-8.837 0-16-2.239-16-5v6c0 2.761 7.163 5 16 5s16-2.239 16-5v-6c0 2.761-7.163 5-16 5z\"></path>\n",
       "<path d=\"M16 26c-8.837 0-16-2.239-16-5v6c0 2.761 7.163 5 16 5s16-2.239 16-5v-6c0 2.761-7.163 5-16 5z\"></path>\n",
       "</symbol>\n",
       "<symbol id=\"icon-file-text2\" viewBox=\"0 0 32 32\">\n",
       "<title>Show/Hide attributes</title>\n",
       "<path d=\"M28.681 7.159c-0.694-0.947-1.662-2.053-2.724-3.116s-2.169-2.030-3.116-2.724c-1.612-1.182-2.393-1.319-2.841-1.319h-15.5c-1.378 0-2.5 1.121-2.5 2.5v27c0 1.378 1.122 2.5 2.5 2.5h23c1.378 0 2.5-1.122 2.5-2.5v-19.5c0-0.448-0.137-1.23-1.319-2.841zM24.543 5.457c0.959 0.959 1.712 1.825 2.268 2.543h-4.811v-4.811c0.718 0.556 1.584 1.309 2.543 2.268zM28 29.5c0 0.271-0.229 0.5-0.5 0.5h-23c-0.271 0-0.5-0.229-0.5-0.5v-27c0-0.271 0.229-0.5 0.5-0.5 0 0 15.499-0 15.5 0v7c0 0.552 0.448 1 1 1h7v19.5z\"></path>\n",
       "<path d=\"M23 26h-14c-0.552 0-1-0.448-1-1s0.448-1 1-1h14c0.552 0 1 0.448 1 1s-0.448 1-1 1z\"></path>\n",
       "<path d=\"M23 22h-14c-0.552 0-1-0.448-1-1s0.448-1 1-1h14c0.552 0 1 0.448 1 1s-0.448 1-1 1z\"></path>\n",
       "<path d=\"M23 18h-14c-0.552 0-1-0.448-1-1s0.448-1 1-1h14c0.552 0 1 0.448 1 1s-0.448 1-1 1z\"></path>\n",
       "</symbol>\n",
       "</defs>\n",
       "</svg><style id=\"scipp-style-sheet\">.sc-root{--sc-background-color0:var(--jp-layout-color0,#fff);--sc-background-color1:var(--jp-layout-color1,#fcfcfc);--sc-background-color2:var(--jp-layout-color2,#efefef);--sc-inverse-background-color0:var(--jp-inverse-layout-color4,#111);--sc-font-color0:var(--jp-content-font-color0,#000);--sc-font-color1:var(--jp-content-font-color1,#555);--sc-font-color2:var(--jp-content-font-color2,#888);--sc-font-color3:var(--jp-content-font-color3,#ccc);--sc-table-data-color:#f6d028;--sc-table-coords-color:#c6e590;--sc-table-masks-color:#c8c8c8;--sc-table-attrs-color:#ff5555;--sc-table-header-font-color:#111111;}.sc-wrap{font-size:14px;min-width:300px;max-width:800px;}.sc-var-attrs .sc-wrap{padding-left:3em;}.sc-header{padding-top:6px;padding-bottom:6px;margin-bottom:4px;border-bottom:solid 1px #ddd;}.sc-header > div,.sc-header > ul{display:inline;margin-top:0;margin-bottom:0;}.sc-obj-type,.sc-array-name{margin-left:2px;margin-right:10px;}.sc-obj-type{color:var(--sc-font-color1);}.sc-underlying-size{color:var(--sc-font-color2);}.sc-sections,.reveal .sc-sections{padding-left:0 !important;display:grid;grid-template-columns:150px auto auto auto 1fr 20px 20px;}.sc-section-item{display:contents;}.sc-section-item input{display:none;}.sc-section-item input:enabled + label{cursor:pointer;color:var(--sc-font-color1);}.sc-section-item input:enabled + label:hover{color:var(--sc-font-color0);}.sc-section-summary{grid-column:1;font-weight:500;}.sc-section-summary > span{display:inline-block;padding-left:0.5em;}.sc-section-summary-in:disabled + label{color:var(--sc-font-color1);}.sc-section-summary-in + label:before{display:inline-block;content:'►';font-size:11px;width:15px;text-align:center;}.sc-section-summary-in:disabled + label:before{color:var(--sc-font-color3);}.sc-section-summary-in:checked + label:before{content:'▼';}.sc-section-summary-in:checked + label > span{display:none;}.sc-section-summary,.sc-section-inline-details{padding-top:4px;padding-bottom:4px;}.sc-section-inline-details{grid-column:2 / 6;}.sc-section-details{display:none;grid-column:1 / -1;margin-bottom:5px;}.sc-section-summary-in:checked ~ .sc-section-details{display:contents;}.sc-array-wrap{grid-column:1 / -1;display:grid;grid-template-columns:20px auto;}.sc-array-wrap > label{grid-column:1;vertical-align:top;}.sc-preview{color:var(--sc-font-color2);}.sc-array-preview,.sc-array-data{padding:0 5px !important;grid-column:2;}.sc-array-data,.sc-array-in:checked ~ .sc-array-preview{display:none;}.sc-array-in:checked ~ .sc-array-data,.sc-array-preview{display:inline-block;}.sc-dim-list{display:inline-block !important;list-style:none;padding:0 !important;margin:0;}.sc-dim-list li{display:inline-block;padding:0;margin:0!important;}.sc-dim-list:before{content:'(';}.sc-dim-list:after{content:')';}.sc-dim-list li:not(:last-child):after{content:',';padding-right:5px;}.sc-has-index{font-weight:bold;}.sc-var-list,.sc-var-item,.reveal .sc-var-list,.reveal .sc-var-item{display:contents;}.sc-var-item > div,.sc-var-item label,.sc-var-item > .sc-var-name span{background-color:var(--sc-background-color1);margin-bottom:0;}.sc-var-item > .sc-var-name:hover span{padding-right:5px;}.sc-var-list > li:nth-child(odd) > div,.sc-var-list > li:nth-child(odd) > label,.sc-var-list > li:nth-child(odd) > .sc-var-name span{background-color:var(--sc-background-color2);}.sc-var-name{grid-column:1;}.sc-var-dims{grid-column:2;}.sc-var-dtype{grid-column:3;text-align:right;color:var(--sc-font-color2);}.sc-var-unit{grid-column:4;text-align:left;color:var(--sc-font-color1);max-width:50pt;text-overflow:ellipsis;}.sc-value-preview{grid-column:5;}.sc-var-preview-variances{text-align:right;}.sc-sections .sc-section-item .sc-section-summary,.sc-sections .sc-section-item .sc-section-inline-details,.sc-section-item .sc-var-list .sc-var-item > div,.sc-section-item .sc-var-list .sc-var-item > label,.sc-section-details .sc-var-list .sc-var-item > div,.sc-section-details .sc-var-list .sc-var-item > label{margin-top:0;margin-bottom:0;}.sc-var-name,.sc-var-dims,.sc-var-dtype,.sc-var-unit,.sc-preview,.sc-attrs dt{white-space:nowrap;overflow:hidden;text-overflow:ellipsis;padding-right:10px;}.sc-var-name:hover,.sc-var-dims:hover,.sc-var-dtype:hover,.sc-var-unit:hover,.sc-attrs dt:hover{overflow:visible;width:auto;z-index:1;}.sc-var-attrs{display:block;}.sc-var-data,.reveal .sc-var-data{display:none;}.sc-var-attrs,.sc-var-data{background-color:var(--sc-background-color0) !important;padding-bottom:5px !important;}.sc-var-attrs-in:checked ~ .sc-var-attrs{display:none;}.sc-var-data-in:checked ~ .sc-var-data{display:block;}.sc-var-data > table{float:right;}.sc-var-name span,.sc-var-data{padding-left:25px !important;}.sc-var-attrs,.sc-var-data{grid-column:1 / -1;}dl.sc-attrs{padding:0;margin:0;display:grid;grid-template-columns:125px auto;}.sc-attrs dt,dd{padding:0;margin:0;float:left;padding-right:10px;width:auto;}.sc-attrs dt{font-weight:normal;grid-column:1;}.sc-attrs dt:hover span{display:inline-block;padding-right:10px;}.sc-attrs dd{grid-column:2;white-space:pre-wrap;word-break:break-all;}.sc-icon-database,.sc-icon-file-text2{display:inline-block;vertical-align:middle;width:1em;height:1.5em !important;stroke-width:0;stroke:currentColor;fill:currentColor;}label.sc-hide-icon svg{opacity:0;}.sc-standalone-var-name{grid-column:1/3;}.sc-standalone-var-name span{padding-left:25px;padding-right:10px;}.sc-table{border-collapse:collapse;}.sc-title{font-weight:bold;font-size:1.5em;}.sc-subtitle{font-weight:normal;font-style:italic;text-align:left;font-size:1.2em;padding:1px;}.sc-table th,.sc-table td{border:1px solid var(--sc-inverse-background-color0);padding:0 5px 0 5px;}.sc-table th{text-align:center;}.sc-table tr{background-color:var(--sc-background-color1);text-align:right;}.sc-table tr:hover{background-color:var(--sc-background-color2);}.sc-table th.sc-data{background-color:var(--sc-table-data-color);color:var(--sc-table-header-font-color);}.sc-table th.sc-coords{background-color:var(--sc-table-coords-color);color:var(--sc-table-header-font-color);}.sc-table th.sc-masks{background-color:var(--sc-table-masks-color);color:var(--sc-table-header-font-color);}.sc-table th.sc-attrs{background-color:var(--sc-table-attrs-color);color:var(--sc-table-header-font-color);}.sc-table th.sc-subheader{background-color:var(--sc-background-color2);}.sc-table td.sc-padding{background-color:var(--sc-background-color1);border:0 solid var(--sc-background-color1);height:1.2em;}.sc-label{fill:var(--sc-font-color0,#444444);text-anchor:middle;}.sc-name{fill:var(--sc-font-color0,#111111);}.sc-inset-line{stroke:var(--sc-font-color1);stroke-width:0.05;stroke-dasharray:0.2,0.2;}.sc-log-wrap{height:25ex;resize:vertical;overflow-y:scroll;display:flex;flex-direction:column-reverse;border:1px solid;border-color:var(--jp-border-color2);background-color:var(--sc-background-color1);}div.sc-log{line-height:2.5ex;}table.sc-log{table-layout:auto;border-collapse:collapse;}tr.sc-log:nth-child(even){background-color:var(--sc-background-color0);}tr.sc-log > td{vertical-align:top;padding-bottom:0.5ex;}.sc-log-time-stamp{min-width:22ch;font-family:var(--jp-code-font-family);color:var(--sc-font-color2);}.sc-log-level{min-width:10ch;}tr.sc-log-debug td.sc-log-level{color:var(--jp-accent-color1);}tr.sc-log-info td.sc-log-level{color:var(--jp-info-color1);}tr.sc-log-warning td.sc-log-level{color:var(--jp-warn-color1);}tr.sc-log-error td.sc-log-level{font-weight:bold;color:var(--jp-error-color2);}tr.sc-log-critical td.sc-log-level{font-weight:bold;color:var(--sc-background-color0);background-color:var(--jp-error-color1);}.sc-log-message{white-space:pre-wrap;width:100%;}.sc-log-html-payload{white-space:normal;}.sc-log-name{padding-right:0.5em;text-align:right;white-space:pre-wrap;color:var(--sc-font-color3);}</style><div class='sc-wrap sc-root'><div class='sc-header'><div class='sc-obj-type'>scipp.DataArray (56.29 KB)</div></div><ul class='sc-sections'><li class='sc-section-item'><input id='section-c8a1790e-3674-427e-b480-ad2955f5bf4c' class='sc-section-summary-in' type='checkbox' disabled ><label for='section-c8a1790e-3674-427e-b480-ad2955f5bf4c' class='sc-section-summary'  title='Expand/collapse section'>Dimensions:</label><div class='sc-section-inline-details'><ul class='sc-dim-list'><li><span>spectrum</span>: 12</li><li><span class='sc-has-index'>wavelength</span>: 1044</li></ul></div><div class='sc-section-details'></div></li><li class='sc-section-item'><input id='section-41f858d7-4ae4-4154-9e7b-b6896dada42b' class='sc-section-summary-in' type='checkbox'  checked><label for='section-41f858d7-4ae4-4154-9e7b-b6896dada42b' class='sc-section-summary' >Coordinates: <span>(7)</span></label><div class='sc-section-inline-details'></div><div class='sc-section-details'><ul class='sc-var-list'><li class='sc-var-item'><div class='sc-var-name'><span>integration_time</span></div><div class='sc-var-dims'>(spectrum)</div><div class='sc-var-dtype'>float32</div><div class='sc-var-unit'>µs</div><div class='sc-value-preview sc-preview'><span><div>50000000.0, 50000000.0, ..., 50000000.0, 50000000.0</div></span></div><input id='attrs-95b010c7-f5ea-414f-9caf-401627b7866d' class='sc-var-attrs-in' type='checkbox' disabled><label for='attrs-95b010c7-f5ea-414f-9caf-401627b7866d' class='sc-hide-icon' title='Show/Hide attributes'><svg class='icon sc-icon-file-text2'><use xlink:href='#icon-file-text2'></use></svg></label><input id='data-4cec624d-ca1e-4dfa-a357-5a71f8257811' class='sc-var-data-in' type='checkbox'><label for='data-4cec624d-ca1e-4dfa-a357-5a71f8257811' title='Show/Hide data repr'><svg class='icon sc-icon-database'><use xlink:href='#icon-database'></use></svg></label><pre class='sc-var-data'>Values:<br>array([50000000., 50000000., 50000000., 50000000., 50000000., 50000000.,\n",
       "       50000000., 50000000., 50000000., 50000000., 50000000., 50000000.],\n",
       "      dtype=float32)</pre></span></li><li class='sc-var-item'><div class='sc-var-name'><span>is_dark</span></div><div class='sc-var-dims'>(spectrum)</div><div class='sc-var-dtype'>bool</div><div class='sc-var-unit'></div><div class='sc-value-preview sc-preview'><span><div>False, False, ..., False, False</div></span></div><input id='attrs-cd40947f-f579-40b7-a827-76377eac4ec2' class='sc-var-attrs-in' type='checkbox' disabled><label for='attrs-cd40947f-f579-40b7-a827-76377eac4ec2' class='sc-hide-icon' title='Show/Hide attributes'><svg class='icon sc-icon-file-text2'><use xlink:href='#icon-file-text2'></use></svg></label><input id='data-bc1c9679-275e-4fc6-a0d5-045f488a6668' class='sc-var-data-in' type='checkbox'><label for='data-bc1c9679-275e-4fc6-a0d5-045f488a6668' title='Show/Hide data repr'><svg class='icon sc-icon-database'><use xlink:href='#icon-database'></use></svg></label><pre class='sc-var-data'>Values:<br>array([False, False, False, False, False, False, False, False, False,\n",
       "       False, False, False])</pre></span></li><li class='sc-var-item'><div class='sc-var-name'><span>is_data</span></div><div class='sc-var-dims'>(spectrum)</div><div class='sc-var-dtype'>bool</div><div class='sc-var-unit'></div><div class='sc-value-preview sc-preview'><span><div>True, True, ..., True, True</div></span></div><input id='attrs-307b2dfc-1952-4a22-80a4-bd8fdb668497' class='sc-var-attrs-in' type='checkbox' disabled><label for='attrs-307b2dfc-1952-4a22-80a4-bd8fdb668497' class='sc-hide-icon' title='Show/Hide attributes'><svg class='icon sc-icon-file-text2'><use xlink:href='#icon-file-text2'></use></svg></label><input id='data-752bf752-26aa-4817-b20d-4c9438ab4545' class='sc-var-data-in' type='checkbox'><label for='data-752bf752-26aa-4817-b20d-4c9438ab4545' title='Show/Hide data repr'><svg class='icon sc-icon-database'><use xlink:href='#icon-database'></use></svg></label><pre class='sc-var-data'>Values:<br>array([ True,  True,  True,  True,  True,  True,  True,  True,  True,\n",
       "        True,  True,  True])</pre></span></li><li class='sc-var-item'><div class='sc-var-name'><span>is_reference</span></div><div class='sc-var-dims'>(spectrum)</div><div class='sc-var-dtype'>bool</div><div class='sc-var-unit'></div><div class='sc-value-preview sc-preview'><span><div>False, False, ..., False, False</div></span></div><input id='attrs-072984b1-92ae-44e6-ae1a-1da8142ad508' class='sc-var-attrs-in' type='checkbox' disabled><label for='attrs-072984b1-92ae-44e6-ae1a-1da8142ad508' class='sc-hide-icon' title='Show/Hide attributes'><svg class='icon sc-icon-file-text2'><use xlink:href='#icon-file-text2'></use></svg></label><input id='data-a241c16e-2f38-4484-8a85-c871619e69a1' class='sc-var-data-in' type='checkbox'><label for='data-a241c16e-2f38-4484-8a85-c871619e69a1' title='Show/Hide data repr'><svg class='icon sc-icon-database'><use xlink:href='#icon-database'></use></svg></label><pre class='sc-var-data'>Values:<br>array([False, False, False, False, False, False, False, False, False,\n",
       "       False, False, False])</pre></span></li><li class='sc-var-item'><div class='sc-var-name'><span>monowavelengths</span></div><div class='sc-var-dims'>(spectrum)</div><div class='sc-var-dtype'>float32</div><div class='sc-var-unit'>nm</div><div class='sc-value-preview sc-preview'><span><div>295.0, 295.0, ..., 320.0, 320.0</div></span></div><input id='attrs-11b91938-f3b5-4761-931a-c5b1cbcd3c1a' class='sc-var-attrs-in' type='checkbox' disabled><label for='attrs-11b91938-f3b5-4761-931a-c5b1cbcd3c1a' class='sc-hide-icon' title='Show/Hide attributes'><svg class='icon sc-icon-file-text2'><use xlink:href='#icon-file-text2'></use></svg></label><input id='data-e10539be-8348-4d30-a599-94aca904bf1c' class='sc-var-data-in' type='checkbox'><label for='data-e10539be-8348-4d30-a599-94aca904bf1c' title='Show/Hide data repr'><svg class='icon sc-icon-database'><use xlink:href='#icon-database'></use></svg></label><pre class='sc-var-data'>Values:<br>array([295., 295., 295., 295., 320., 320., 320., 320., 295., 295., 320.,\n",
       "       320.], dtype=float32)</pre></span></li><li class='sc-var-item'><div class='sc-var-name'><span>time</span></div><div class='sc-var-dims'>(spectrum)</div><div class='sc-var-dtype'>int64</div><div class='sc-var-unit'>µs</div><div class='sc-value-preview sc-preview'><span><div>1655992257000000, 1655992257000000, ..., 1655992257000000, 1655992257000000</div></span></div><input id='attrs-5b48a598-56b6-45e7-bee1-46aa5eb6866e' class='sc-var-attrs-in' type='checkbox' disabled><label for='attrs-5b48a598-56b6-45e7-bee1-46aa5eb6866e' class='sc-hide-icon' title='Show/Hide attributes'><svg class='icon sc-icon-file-text2'><use xlink:href='#icon-file-text2'></use></svg></label><input id='data-e016b135-d7fd-4e5a-9af7-0c380eab8082' class='sc-var-data-in' type='checkbox'><label for='data-e016b135-d7fd-4e5a-9af7-0c380eab8082' title='Show/Hide data repr'><svg class='icon sc-icon-database'><use xlink:href='#icon-database'></use></svg></label><pre class='sc-var-data'>Values:<br>array([1655992257000000, 1655992257000000, 1655992257000000,\n",
       "       1655992257000000, 1655992257000000, 1655992257000000,\n",
       "       1655992257000000, 1655992257000000, 1655992257000000,\n",
       "       1655992257000000, 1655992257000000, 1655992257000000])</pre></span></li><li class='sc-var-item'><div class='sc-var-name'><span class='sc-has-index'>wavelength</span></div><div class='sc-var-dims'>(wavelength)</div><div class='sc-var-dtype'>float32</div><div class='sc-var-unit'>nm</div><div class='sc-value-preview sc-preview'><span><div>248.68408, 249.48499, ..., 1042.3112, 1043.0312</div></span></div><input id='attrs-eacf8898-be74-471f-bc5d-58cf2aaeb7f6' class='sc-var-attrs-in' type='checkbox' disabled><label for='attrs-eacf8898-be74-471f-bc5d-58cf2aaeb7f6' class='sc-hide-icon' title='Show/Hide attributes'><svg class='icon sc-icon-file-text2'><use xlink:href='#icon-file-text2'></use></svg></label><input id='data-7c379868-4051-4135-9de5-9d09679c4f31' class='sc-var-data-in' type='checkbox'><label for='data-7c379868-4051-4135-9de5-9d09679c4f31' title='Show/Hide data repr'><svg class='icon sc-icon-database'><use xlink:href='#icon-database'></use></svg></label><pre class='sc-var-data'>Values:<br>array([ 248.68408,  249.48499,  250.28581, ..., 1041.591  , 1042.3112 ,\n",
       "       1043.0312 ], dtype=float32)</pre></span></li></ul></div></li><li class='sc-section-item'><input id='section-782281b9-2b3e-4a4d-9f25-516328fa1a77' class='sc-section-summary-in' type='checkbox'  checked><label for='section-782281b9-2b3e-4a4d-9f25-516328fa1a77' class='sc-section-summary' >Data: <span>(1)</span></label><div class='sc-section-inline-details'></div><div class='sc-section-details'><ul class='sc-var-list'><li class='sc-var-item'><div class='sc-var-name'><span></span></div><div class='sc-var-dims'>(spectrum, wavelength)</div><div class='sc-var-dtype'>float32</div><div class='sc-var-unit'>counts</div><div class='sc-value-preview sc-preview'><span><div>6.0001184e-08, 1.1999873e-07, ..., 1.2000237e-07, 7.9999154e-08</div></span></div><input id='attrs-301f3595-cf84-4157-aab0-f9bcb5099b4b' class='sc-var-attrs-in' type='checkbox' disabled><label for='attrs-301f3595-cf84-4157-aab0-f9bcb5099b4b' class='sc-hide-icon' title='Show/Hide attributes'><svg class='icon sc-icon-file-text2'><use xlink:href='#icon-file-text2'></use></svg></label><input id='data-f60ee681-7576-4697-826b-f9a03cd11356' class='sc-var-data-in' type='checkbox'><label for='data-f60ee681-7576-4697-826b-f9a03cd11356' title='Show/Hide data repr'><svg class='icon sc-icon-database'><use xlink:href='#icon-database'></use></svg></label><pre class='sc-var-data'>Values:<br>array([[ 6.0001184e-08,  1.1999873e-07,  0.0000000e+00, ...,\n",
       "         1.0000076e-07,  6.0001184e-08,  5.9997546e-08],\n",
       "       [ 1.2000237e-07,  1.0000076e-07,  3.9999577e-08, ...,\n",
       "         3.9999577e-08,  7.9999154e-08,  0.0000000e+00],\n",
       "       [ 3.9999577e-08,  6.0001184e-08, -1.0000076e-07, ...,\n",
       "         7.9999154e-08,  7.9999154e-08,  1.9997970e-08],\n",
       "       ...,\n",
       "       [ 1.0000076e-07,  1.0000076e-07,  1.9997970e-08, ...,\n",
       "         1.0000076e-07, -1.9997970e-08,  7.9999154e-08],\n",
       "       [ 3.9999577e-08,  2.0001607e-08,  3.9999577e-08, ...,\n",
       "         3.9999577e-08,  6.0001184e-08,  1.1999873e-07],\n",
       "       [ 1.6000195e-07,  2.0001607e-08, -3.9999577e-08, ...,\n",
       "         6.0001184e-08,  1.2000237e-07,  7.9999154e-08]], dtype=float32)</pre></li></ul></div></li><li class='sc-section-item'><input id='section-b05fdff5-c7f3-49f5-9a2d-b9215379c962' class='sc-section-summary-in' type='checkbox'  checked><label for='section-b05fdff5-c7f3-49f5-9a2d-b9215379c962' class='sc-section-summary' >Attributes: <span>(1)</span></label><div class='sc-section-inline-details'></div><div class='sc-section-details'><ul class='sc-var-list'><li class='sc-var-item'><div class='sc-var-name'><span>source</span></div><div class='sc-var-dims'>(spectrum)</div><div class='sc-var-dtype'>string</div><div class='sc-var-unit'></div><div class='sc-value-preview sc-preview'><span><div>066017.nxs, 066017.nxs, ..., 066017.nxs, 066017.nxs</div></span></div><input id='attrs-fb320bf8-d56c-4080-89b5-c3d43ccb6358' class='sc-var-attrs-in' type='checkbox' disabled><label for='attrs-fb320bf8-d56c-4080-89b5-c3d43ccb6358' class='sc-hide-icon' title='Show/Hide attributes'><svg class='icon sc-icon-file-text2'><use xlink:href='#icon-file-text2'></use></svg></label><input id='data-5bacb022-560f-4064-aeae-42d0877c7d97' class='sc-var-data-in' type='checkbox'><label for='data-5bacb022-560f-4064-aeae-42d0877c7d97' title='Show/Hide data repr'><svg class='icon sc-icon-database'><use xlink:href='#icon-database'></use></svg></label><pre class='sc-var-data'>Values:<br>[&quot;066017.nxs&quot;, &quot;066017.nxs&quot;, ..., &quot;066017.nxs&quot;, &quot;066017.nxs&quot;]</pre></li></ul></div></li></ul></div></div>"
      ],
      "text/plain": [
       "<scipp.DataArray>\n",
       "Dimensions: Sizes[spectrum:12, wavelength:1044, ]\n",
       "Coordinates:\n",
       "  integration_time          float32            [µs]  (spectrum)  [5e+07, 5e+07, ..., 5e+07, 5e+07]\n",
       "  is_dark                      bool        <no unit>  (spectrum)  [False, False, ..., False, False]\n",
       "  is_data                      bool        <no unit>  (spectrum)  [True, True, ..., True, True]\n",
       "  is_reference                 bool        <no unit>  (spectrum)  [False, False, ..., False, False]\n",
       "  monowavelengths           float32             [nm]  (spectrum)  [295, 295, ..., 320, 320]\n",
       "  time                        int64            [µs]  (spectrum)  [1655992257000000, 1655992257000000, ..., 1655992257000000, 1655992257000000]\n",
       "  wavelength                float32             [nm]  (wavelength)  [248.684, 249.485, ..., 1042.31, 1043.03]\n",
       "Data:\n",
       "                            float32         [counts]  (spectrum, wavelength)  [6.00012e-08, 1.19999e-07, ..., 1.20002e-07, 7.99992e-08]\n",
       "Attributes:\n",
       "  source                     string        <no unit>  (spectrum)  [\"066017.nxs\", \"066017.nxs\", ..., \"066017.nxs\", \"066017.nxs\"]\n"
      ]
     },
     "metadata": {},
     "output_type": "display_data"
    },
    {
     "data": {
      "application/vnd.jupyter.widget-view+json": {
       "model_id": "5667a93c54704f3bae0806b8d7ca42fc",
       "version_major": 2,
       "version_minor": 0
      },
      "text/plain": [
       "VBox(children=(Image(value=b'\\x89PNG\\r\\n\\x1a\\n\\x00\\x00\\x00\\rIHDR\\x00\\x00\\x02X\\x00\\x00\\x01\\x90\\x08\\x06\\x00\\x00\\…"
      ]
     },
     "metadata": {},
     "output_type": "display_data"
    },
    {
     "data": {
      "text/html": [
       "<div><!-- Original source from -->\n",
       "<!-- https://github.com/jsignell/xarray/blob/1d960933ab252e0f79f7e050e6c9261d55568057/xarray/static/html/icons-svg-inline.html -->\n",
       "<svg style=\"position: absolute; width: 0; height: 0; overflow: hidden\">\n",
       "<defs>\n",
       "<symbol id=\"icon-database\" viewBox=\"0 0 32 32\">\n",
       "<title>Show/Hide data repr</title>\n",
       "<path d=\"M16 0c-8.837 0-16 2.239-16 5v4c0 2.761 7.163 5 16 5s16-2.239 16-5v-4c0-2.761-7.163-5-16-5z\"></path>\n",
       "<path d=\"M16 17c-8.837 0-16-2.239-16-5v6c0 2.761 7.163 5 16 5s16-2.239 16-5v-6c0 2.761-7.163 5-16 5z\"></path>\n",
       "<path d=\"M16 26c-8.837 0-16-2.239-16-5v6c0 2.761 7.163 5 16 5s16-2.239 16-5v-6c0 2.761-7.163 5-16 5z\"></path>\n",
       "</symbol>\n",
       "<symbol id=\"icon-file-text2\" viewBox=\"0 0 32 32\">\n",
       "<title>Show/Hide attributes</title>\n",
       "<path d=\"M28.681 7.159c-0.694-0.947-1.662-2.053-2.724-3.116s-2.169-2.030-3.116-2.724c-1.612-1.182-2.393-1.319-2.841-1.319h-15.5c-1.378 0-2.5 1.121-2.5 2.5v27c0 1.378 1.122 2.5 2.5 2.5h23c1.378 0 2.5-1.122 2.5-2.5v-19.5c0-0.448-0.137-1.23-1.319-2.841zM24.543 5.457c0.959 0.959 1.712 1.825 2.268 2.543h-4.811v-4.811c0.718 0.556 1.584 1.309 2.543 2.268zM28 29.5c0 0.271-0.229 0.5-0.5 0.5h-23c-0.271 0-0.5-0.229-0.5-0.5v-27c0-0.271 0.229-0.5 0.5-0.5 0 0 15.499-0 15.5 0v7c0 0.552 0.448 1 1 1h7v19.5z\"></path>\n",
       "<path d=\"M23 26h-14c-0.552 0-1-0.448-1-1s0.448-1 1-1h14c0.552 0 1 0.448 1 1s-0.448 1-1 1z\"></path>\n",
       "<path d=\"M23 22h-14c-0.552 0-1-0.448-1-1s0.448-1 1-1h14c0.552 0 1 0.448 1 1s-0.448 1-1 1z\"></path>\n",
       "<path d=\"M23 18h-14c-0.552 0-1-0.448-1-1s0.448-1 1-1h14c0.552 0 1 0.448 1 1s-0.448 1-1 1z\"></path>\n",
       "</symbol>\n",
       "</defs>\n",
       "</svg><style id=\"scipp-style-sheet\">.sc-root{--sc-background-color0:var(--jp-layout-color0,#fff);--sc-background-color1:var(--jp-layout-color1,#fcfcfc);--sc-background-color2:var(--jp-layout-color2,#efefef);--sc-inverse-background-color0:var(--jp-inverse-layout-color4,#111);--sc-font-color0:var(--jp-content-font-color0,#000);--sc-font-color1:var(--jp-content-font-color1,#555);--sc-font-color2:var(--jp-content-font-color2,#888);--sc-font-color3:var(--jp-content-font-color3,#ccc);--sc-table-data-color:#f6d028;--sc-table-coords-color:#c6e590;--sc-table-masks-color:#c8c8c8;--sc-table-attrs-color:#ff5555;--sc-table-header-font-color:#111111;}.sc-wrap{font-size:14px;min-width:300px;max-width:800px;}.sc-var-attrs .sc-wrap{padding-left:3em;}.sc-header{padding-top:6px;padding-bottom:6px;margin-bottom:4px;border-bottom:solid 1px #ddd;}.sc-header > div,.sc-header > ul{display:inline;margin-top:0;margin-bottom:0;}.sc-obj-type,.sc-array-name{margin-left:2px;margin-right:10px;}.sc-obj-type{color:var(--sc-font-color1);}.sc-underlying-size{color:var(--sc-font-color2);}.sc-sections,.reveal .sc-sections{padding-left:0 !important;display:grid;grid-template-columns:150px auto auto auto 1fr 20px 20px;}.sc-section-item{display:contents;}.sc-section-item input{display:none;}.sc-section-item input:enabled + label{cursor:pointer;color:var(--sc-font-color1);}.sc-section-item input:enabled + label:hover{color:var(--sc-font-color0);}.sc-section-summary{grid-column:1;font-weight:500;}.sc-section-summary > span{display:inline-block;padding-left:0.5em;}.sc-section-summary-in:disabled + label{color:var(--sc-font-color1);}.sc-section-summary-in + label:before{display:inline-block;content:'►';font-size:11px;width:15px;text-align:center;}.sc-section-summary-in:disabled + label:before{color:var(--sc-font-color3);}.sc-section-summary-in:checked + label:before{content:'▼';}.sc-section-summary-in:checked + label > span{display:none;}.sc-section-summary,.sc-section-inline-details{padding-top:4px;padding-bottom:4px;}.sc-section-inline-details{grid-column:2 / 6;}.sc-section-details{display:none;grid-column:1 / -1;margin-bottom:5px;}.sc-section-summary-in:checked ~ .sc-section-details{display:contents;}.sc-array-wrap{grid-column:1 / -1;display:grid;grid-template-columns:20px auto;}.sc-array-wrap > label{grid-column:1;vertical-align:top;}.sc-preview{color:var(--sc-font-color2);}.sc-array-preview,.sc-array-data{padding:0 5px !important;grid-column:2;}.sc-array-data,.sc-array-in:checked ~ .sc-array-preview{display:none;}.sc-array-in:checked ~ .sc-array-data,.sc-array-preview{display:inline-block;}.sc-dim-list{display:inline-block !important;list-style:none;padding:0 !important;margin:0;}.sc-dim-list li{display:inline-block;padding:0;margin:0!important;}.sc-dim-list:before{content:'(';}.sc-dim-list:after{content:')';}.sc-dim-list li:not(:last-child):after{content:',';padding-right:5px;}.sc-has-index{font-weight:bold;}.sc-var-list,.sc-var-item,.reveal .sc-var-list,.reveal .sc-var-item{display:contents;}.sc-var-item > div,.sc-var-item label,.sc-var-item > .sc-var-name span{background-color:var(--sc-background-color1);margin-bottom:0;}.sc-var-item > .sc-var-name:hover span{padding-right:5px;}.sc-var-list > li:nth-child(odd) > div,.sc-var-list > li:nth-child(odd) > label,.sc-var-list > li:nth-child(odd) > .sc-var-name span{background-color:var(--sc-background-color2);}.sc-var-name{grid-column:1;}.sc-var-dims{grid-column:2;}.sc-var-dtype{grid-column:3;text-align:right;color:var(--sc-font-color2);}.sc-var-unit{grid-column:4;text-align:left;color:var(--sc-font-color1);max-width:50pt;text-overflow:ellipsis;}.sc-value-preview{grid-column:5;}.sc-var-preview-variances{text-align:right;}.sc-sections .sc-section-item .sc-section-summary,.sc-sections .sc-section-item .sc-section-inline-details,.sc-section-item .sc-var-list .sc-var-item > div,.sc-section-item .sc-var-list .sc-var-item > label,.sc-section-details .sc-var-list .sc-var-item > div,.sc-section-details .sc-var-list .sc-var-item > label{margin-top:0;margin-bottom:0;}.sc-var-name,.sc-var-dims,.sc-var-dtype,.sc-var-unit,.sc-preview,.sc-attrs dt{white-space:nowrap;overflow:hidden;text-overflow:ellipsis;padding-right:10px;}.sc-var-name:hover,.sc-var-dims:hover,.sc-var-dtype:hover,.sc-var-unit:hover,.sc-attrs dt:hover{overflow:visible;width:auto;z-index:1;}.sc-var-attrs{display:block;}.sc-var-data,.reveal .sc-var-data{display:none;}.sc-var-attrs,.sc-var-data{background-color:var(--sc-background-color0) !important;padding-bottom:5px !important;}.sc-var-attrs-in:checked ~ .sc-var-attrs{display:none;}.sc-var-data-in:checked ~ .sc-var-data{display:block;}.sc-var-data > table{float:right;}.sc-var-name span,.sc-var-data{padding-left:25px !important;}.sc-var-attrs,.sc-var-data{grid-column:1 / -1;}dl.sc-attrs{padding:0;margin:0;display:grid;grid-template-columns:125px auto;}.sc-attrs dt,dd{padding:0;margin:0;float:left;padding-right:10px;width:auto;}.sc-attrs dt{font-weight:normal;grid-column:1;}.sc-attrs dt:hover span{display:inline-block;padding-right:10px;}.sc-attrs dd{grid-column:2;white-space:pre-wrap;word-break:break-all;}.sc-icon-database,.sc-icon-file-text2{display:inline-block;vertical-align:middle;width:1em;height:1.5em !important;stroke-width:0;stroke:currentColor;fill:currentColor;}label.sc-hide-icon svg{opacity:0;}.sc-standalone-var-name{grid-column:1/3;}.sc-standalone-var-name span{padding-left:25px;padding-right:10px;}.sc-table{border-collapse:collapse;}.sc-title{font-weight:bold;font-size:1.5em;}.sc-subtitle{font-weight:normal;font-style:italic;text-align:left;font-size:1.2em;padding:1px;}.sc-table th,.sc-table td{border:1px solid var(--sc-inverse-background-color0);padding:0 5px 0 5px;}.sc-table th{text-align:center;}.sc-table tr{background-color:var(--sc-background-color1);text-align:right;}.sc-table tr:hover{background-color:var(--sc-background-color2);}.sc-table th.sc-data{background-color:var(--sc-table-data-color);color:var(--sc-table-header-font-color);}.sc-table th.sc-coords{background-color:var(--sc-table-coords-color);color:var(--sc-table-header-font-color);}.sc-table th.sc-masks{background-color:var(--sc-table-masks-color);color:var(--sc-table-header-font-color);}.sc-table th.sc-attrs{background-color:var(--sc-table-attrs-color);color:var(--sc-table-header-font-color);}.sc-table th.sc-subheader{background-color:var(--sc-background-color2);}.sc-table td.sc-padding{background-color:var(--sc-background-color1);border:0 solid var(--sc-background-color1);height:1.2em;}.sc-label{fill:var(--sc-font-color0,#444444);text-anchor:middle;}.sc-name{fill:var(--sc-font-color0,#111111);}.sc-inset-line{stroke:var(--sc-font-color1);stroke-width:0.05;stroke-dasharray:0.2,0.2;}.sc-log-wrap{height:25ex;resize:vertical;overflow-y:scroll;display:flex;flex-direction:column-reverse;border:1px solid;border-color:var(--jp-border-color2);background-color:var(--sc-background-color1);}div.sc-log{line-height:2.5ex;}table.sc-log{table-layout:auto;border-collapse:collapse;}tr.sc-log:nth-child(even){background-color:var(--sc-background-color0);}tr.sc-log > td{vertical-align:top;padding-bottom:0.5ex;}.sc-log-time-stamp{min-width:22ch;font-family:var(--jp-code-font-family);color:var(--sc-font-color2);}.sc-log-level{min-width:10ch;}tr.sc-log-debug td.sc-log-level{color:var(--jp-accent-color1);}tr.sc-log-info td.sc-log-level{color:var(--jp-info-color1);}tr.sc-log-warning td.sc-log-level{color:var(--jp-warn-color1);}tr.sc-log-error td.sc-log-level{font-weight:bold;color:var(--jp-error-color2);}tr.sc-log-critical td.sc-log-level{font-weight:bold;color:var(--sc-background-color0);background-color:var(--jp-error-color1);}.sc-log-message{white-space:pre-wrap;width:100%;}.sc-log-html-payload{white-space:normal;}.sc-log-name{padding-right:0.5em;text-align:right;white-space:pre-wrap;color:var(--sc-font-color3);}</style><div class='sc-wrap sc-root'><div class='sc-header'><div class='sc-obj-type'>scipp.DataArray (56.29 KB)</div></div><ul class='sc-sections'><li class='sc-section-item'><input id='section-98bcccdc-7241-4e95-8d83-39174d4b0718' class='sc-section-summary-in' type='checkbox' disabled ><label for='section-98bcccdc-7241-4e95-8d83-39174d4b0718' class='sc-section-summary'  title='Expand/collapse section'>Dimensions:</label><div class='sc-section-inline-details'><ul class='sc-dim-list'><li><span>spectrum</span>: 12</li><li><span class='sc-has-index'>wavelength</span>: 1044</li></ul></div><div class='sc-section-details'></div></li><li class='sc-section-item'><input id='section-b552e8d3-61c2-4dda-a7cd-cae0b17d02cb' class='sc-section-summary-in' type='checkbox'  checked><label for='section-b552e8d3-61c2-4dda-a7cd-cae0b17d02cb' class='sc-section-summary' >Coordinates: <span>(7)</span></label><div class='sc-section-inline-details'></div><div class='sc-section-details'><ul class='sc-var-list'><li class='sc-var-item'><div class='sc-var-name'><span>integration_time</span></div><div class='sc-var-dims'>(spectrum)</div><div class='sc-var-dtype'>float32</div><div class='sc-var-unit'>µs</div><div class='sc-value-preview sc-preview'><span><div>50000000.0, 50000000.0, ..., 50000000.0, 50000000.0</div></span></div><input id='attrs-b4d56a80-4bae-43f3-bc5b-bc6b691d01e7' class='sc-var-attrs-in' type='checkbox' disabled><label for='attrs-b4d56a80-4bae-43f3-bc5b-bc6b691d01e7' class='sc-hide-icon' title='Show/Hide attributes'><svg class='icon sc-icon-file-text2'><use xlink:href='#icon-file-text2'></use></svg></label><input id='data-f3f27965-c13f-4bb2-a30a-b5bcb01fca57' class='sc-var-data-in' type='checkbox'><label for='data-f3f27965-c13f-4bb2-a30a-b5bcb01fca57' title='Show/Hide data repr'><svg class='icon sc-icon-database'><use xlink:href='#icon-database'></use></svg></label><pre class='sc-var-data'>Values:<br>array([50000000., 50000000., 50000000., 50000000., 50000000., 50000000.,\n",
       "       50000000., 50000000., 50000000., 50000000., 50000000., 50000000.],\n",
       "      dtype=float32)</pre></span></li><li class='sc-var-item'><div class='sc-var-name'><span>is_dark</span></div><div class='sc-var-dims'>(spectrum)</div><div class='sc-var-dtype'>bool</div><div class='sc-var-unit'></div><div class='sc-value-preview sc-preview'><span><div>False, False, ..., False, False</div></span></div><input id='attrs-0465d51f-b641-4805-a608-8844bb208a10' class='sc-var-attrs-in' type='checkbox' disabled><label for='attrs-0465d51f-b641-4805-a608-8844bb208a10' class='sc-hide-icon' title='Show/Hide attributes'><svg class='icon sc-icon-file-text2'><use xlink:href='#icon-file-text2'></use></svg></label><input id='data-1133125c-2cfe-4881-969a-d7edf5d221d8' class='sc-var-data-in' type='checkbox'><label for='data-1133125c-2cfe-4881-969a-d7edf5d221d8' title='Show/Hide data repr'><svg class='icon sc-icon-database'><use xlink:href='#icon-database'></use></svg></label><pre class='sc-var-data'>Values:<br>array([False, False, False, False, False, False, False, False, False,\n",
       "       False, False, False])</pre></span></li><li class='sc-var-item'><div class='sc-var-name'><span>is_data</span></div><div class='sc-var-dims'>(spectrum)</div><div class='sc-var-dtype'>bool</div><div class='sc-var-unit'></div><div class='sc-value-preview sc-preview'><span><div>True, True, ..., True, True</div></span></div><input id='attrs-08e31b26-f997-45d4-99da-ec8a23c1ba7a' class='sc-var-attrs-in' type='checkbox' disabled><label for='attrs-08e31b26-f997-45d4-99da-ec8a23c1ba7a' class='sc-hide-icon' title='Show/Hide attributes'><svg class='icon sc-icon-file-text2'><use xlink:href='#icon-file-text2'></use></svg></label><input id='data-8c230d84-a751-4c9e-bb8c-6034f5c81c89' class='sc-var-data-in' type='checkbox'><label for='data-8c230d84-a751-4c9e-bb8c-6034f5c81c89' title='Show/Hide data repr'><svg class='icon sc-icon-database'><use xlink:href='#icon-database'></use></svg></label><pre class='sc-var-data'>Values:<br>array([ True,  True,  True,  True,  True,  True,  True,  True,  True,\n",
       "        True,  True,  True])</pre></span></li><li class='sc-var-item'><div class='sc-var-name'><span>is_reference</span></div><div class='sc-var-dims'>(spectrum)</div><div class='sc-var-dtype'>bool</div><div class='sc-var-unit'></div><div class='sc-value-preview sc-preview'><span><div>False, False, ..., False, False</div></span></div><input id='attrs-38b0ebe9-ffe4-484b-ae62-67467da1f5fa' class='sc-var-attrs-in' type='checkbox' disabled><label for='attrs-38b0ebe9-ffe4-484b-ae62-67467da1f5fa' class='sc-hide-icon' title='Show/Hide attributes'><svg class='icon sc-icon-file-text2'><use xlink:href='#icon-file-text2'></use></svg></label><input id='data-c4e85693-53bd-4513-ac01-2b68baadd351' class='sc-var-data-in' type='checkbox'><label for='data-c4e85693-53bd-4513-ac01-2b68baadd351' title='Show/Hide data repr'><svg class='icon sc-icon-database'><use xlink:href='#icon-database'></use></svg></label><pre class='sc-var-data'>Values:<br>array([False, False, False, False, False, False, False, False, False,\n",
       "       False, False, False])</pre></span></li><li class='sc-var-item'><div class='sc-var-name'><span>monowavelengths</span></div><div class='sc-var-dims'>(spectrum)</div><div class='sc-var-dtype'>float32</div><div class='sc-var-unit'>nm</div><div class='sc-value-preview sc-preview'><span><div>295.0, 295.0, ..., 320.0, 320.0</div></span></div><input id='attrs-d46d0477-f50c-45cb-8dfb-281ba6296a75' class='sc-var-attrs-in' type='checkbox' disabled><label for='attrs-d46d0477-f50c-45cb-8dfb-281ba6296a75' class='sc-hide-icon' title='Show/Hide attributes'><svg class='icon sc-icon-file-text2'><use xlink:href='#icon-file-text2'></use></svg></label><input id='data-41e749af-adec-490e-8fba-d1af7b6d793b' class='sc-var-data-in' type='checkbox'><label for='data-41e749af-adec-490e-8fba-d1af7b6d793b' title='Show/Hide data repr'><svg class='icon sc-icon-database'><use xlink:href='#icon-database'></use></svg></label><pre class='sc-var-data'>Values:<br>array([295., 295., 295., 295., 320., 320., 320., 320., 295., 295., 320.,\n",
       "       320.], dtype=float32)</pre></span></li><li class='sc-var-item'><div class='sc-var-name'><span>time</span></div><div class='sc-var-dims'>(spectrum)</div><div class='sc-var-dtype'>int64</div><div class='sc-var-unit'>µs</div><div class='sc-value-preview sc-preview'><span><div>1655992257000000, 1655992257000000, ..., 1655992257000000, 1655992257000000</div></span></div><input id='attrs-912d91f3-1524-4de1-9b27-bc84c62c56fb' class='sc-var-attrs-in' type='checkbox' disabled><label for='attrs-912d91f3-1524-4de1-9b27-bc84c62c56fb' class='sc-hide-icon' title='Show/Hide attributes'><svg class='icon sc-icon-file-text2'><use xlink:href='#icon-file-text2'></use></svg></label><input id='data-94a5d387-1b3b-425a-aa53-fe8419501e78' class='sc-var-data-in' type='checkbox'><label for='data-94a5d387-1b3b-425a-aa53-fe8419501e78' title='Show/Hide data repr'><svg class='icon sc-icon-database'><use xlink:href='#icon-database'></use></svg></label><pre class='sc-var-data'>Values:<br>array([1655992257000000, 1655992257000000, 1655992257000000,\n",
       "       1655992257000000, 1655992257000000, 1655992257000000,\n",
       "       1655992257000000, 1655992257000000, 1655992257000000,\n",
       "       1655992257000000, 1655992257000000, 1655992257000000])</pre></span></li><li class='sc-var-item'><div class='sc-var-name'><span class='sc-has-index'>wavelength</span></div><div class='sc-var-dims'>(wavelength)</div><div class='sc-var-dtype'>float32</div><div class='sc-var-unit'>nm</div><div class='sc-value-preview sc-preview'><span><div>248.68408, 249.48499, ..., 1042.3112, 1043.0312</div></span></div><input id='attrs-144a8343-69ce-4c29-adeb-2f26c214e715' class='sc-var-attrs-in' type='checkbox' disabled><label for='attrs-144a8343-69ce-4c29-adeb-2f26c214e715' class='sc-hide-icon' title='Show/Hide attributes'><svg class='icon sc-icon-file-text2'><use xlink:href='#icon-file-text2'></use></svg></label><input id='data-f6e62aff-681a-4c88-bf1a-23c50f6bb1fe' class='sc-var-data-in' type='checkbox'><label for='data-f6e62aff-681a-4c88-bf1a-23c50f6bb1fe' title='Show/Hide data repr'><svg class='icon sc-icon-database'><use xlink:href='#icon-database'></use></svg></label><pre class='sc-var-data'>Values:<br>array([ 248.68408,  249.48499,  250.28581, ..., 1041.591  , 1042.3112 ,\n",
       "       1043.0312 ], dtype=float32)</pre></span></li></ul></div></li><li class='sc-section-item'><input id='section-f4825e86-bede-45e3-ac37-0c8c00afd254' class='sc-section-summary-in' type='checkbox'  checked><label for='section-f4825e86-bede-45e3-ac37-0c8c00afd254' class='sc-section-summary' >Data: <span>(1)</span></label><div class='sc-section-inline-details'></div><div class='sc-section-details'><ul class='sc-var-list'><li class='sc-var-item'><div class='sc-var-name'><span></span></div><div class='sc-var-dims'>(spectrum, wavelength)</div><div class='sc-var-dtype'>float32</div><div class='sc-var-unit'>counts</div><div class='sc-value-preview sc-preview'><span><div>6.0001184e-08, 1.1999873e-07, ..., 1.2000237e-07, 7.9999154e-08</div></span></div><input id='attrs-01f92091-4717-40b9-8cc9-7fd70ff5ff01' class='sc-var-attrs-in' type='checkbox' disabled><label for='attrs-01f92091-4717-40b9-8cc9-7fd70ff5ff01' class='sc-hide-icon' title='Show/Hide attributes'><svg class='icon sc-icon-file-text2'><use xlink:href='#icon-file-text2'></use></svg></label><input id='data-8ed37c77-76f2-4266-9944-90333354886d' class='sc-var-data-in' type='checkbox'><label for='data-8ed37c77-76f2-4266-9944-90333354886d' title='Show/Hide data repr'><svg class='icon sc-icon-database'><use xlink:href='#icon-database'></use></svg></label><pre class='sc-var-data'>Values:<br>array([[ 6.0001184e-08,  1.1999873e-07,  0.0000000e+00, ...,\n",
       "         1.0000076e-07,  6.0001184e-08,  5.9997546e-08],\n",
       "       [ 1.2000237e-07,  1.0000076e-07,  3.9999577e-08, ...,\n",
       "         3.9999577e-08,  7.9999154e-08,  0.0000000e+00],\n",
       "       [ 3.9999577e-08,  6.0001184e-08, -1.0000076e-07, ...,\n",
       "         7.9999154e-08,  7.9999154e-08,  1.9997970e-08],\n",
       "       ...,\n",
       "       [ 1.0000076e-07,  1.0000076e-07,  1.9997970e-08, ...,\n",
       "         1.0000076e-07, -1.9997970e-08,  7.9999154e-08],\n",
       "       [ 3.9999577e-08,  2.0001607e-08,  3.9999577e-08, ...,\n",
       "         3.9999577e-08,  6.0001184e-08,  1.1999873e-07],\n",
       "       [ 1.6000195e-07,  2.0001607e-08, -3.9999577e-08, ...,\n",
       "         6.0001184e-08,  1.2000237e-07,  7.9999154e-08]], dtype=float32)</pre></li></ul></div></li><li class='sc-section-item'><input id='section-6dd11b45-104d-4ff4-8b9a-4bb81a05763e' class='sc-section-summary-in' type='checkbox'  checked><label for='section-6dd11b45-104d-4ff4-8b9a-4bb81a05763e' class='sc-section-summary' >Attributes: <span>(1)</span></label><div class='sc-section-inline-details'></div><div class='sc-section-details'><ul class='sc-var-list'><li class='sc-var-item'><div class='sc-var-name'><span>source</span></div><div class='sc-var-dims'>(spectrum)</div><div class='sc-var-dtype'>string</div><div class='sc-var-unit'></div><div class='sc-value-preview sc-preview'><span><div>066017.nxs, 066017.nxs, ..., 066017.nxs, 066017.nxs</div></span></div><input id='attrs-ecd515b5-cd62-4968-8d94-37bc8486f683' class='sc-var-attrs-in' type='checkbox' disabled><label for='attrs-ecd515b5-cd62-4968-8d94-37bc8486f683' class='sc-hide-icon' title='Show/Hide attributes'><svg class='icon sc-icon-file-text2'><use xlink:href='#icon-file-text2'></use></svg></label><input id='data-bbd1b444-5dbb-40c7-b6f4-8b84e3ca1320' class='sc-var-data-in' type='checkbox'><label for='data-bbd1b444-5dbb-40c7-b6f4-8b84e3ca1320' title='Show/Hide data repr'><svg class='icon sc-icon-database'><use xlink:href='#icon-database'></use></svg></label><pre class='sc-var-data'>Values:<br>[&quot;066017.nxs&quot;, &quot;066017.nxs&quot;, ..., &quot;066017.nxs&quot;, &quot;066017.nxs&quot;]</pre></li></ul></div></li></ul></div></div>"
      ],
      "text/plain": [
       "<scipp.DataArray>\n",
       "Dimensions: Sizes[spectrum:12, wavelength:1044, ]\n",
       "Coordinates:\n",
       "  integration_time          float32            [µs]  (spectrum)  [5e+07, 5e+07, ..., 5e+07, 5e+07]\n",
       "  is_dark                      bool        <no unit>  (spectrum)  [False, False, ..., False, False]\n",
       "  is_data                      bool        <no unit>  (spectrum)  [True, True, ..., True, True]\n",
       "  is_reference                 bool        <no unit>  (spectrum)  [False, False, ..., False, False]\n",
       "  monowavelengths           float32             [nm]  (spectrum)  [295, 295, ..., 320, 320]\n",
       "  time                        int64            [µs]  (spectrum)  [1655992257000000, 1655992257000000, ..., 1655992257000000, 1655992257000000]\n",
       "  wavelength                float32             [nm]  (wavelength)  [248.684, 249.485, ..., 1042.31, 1043.03]\n",
       "Data:\n",
       "                            float32         [counts]  (spectrum, wavelength)  [6.00012e-08, 1.19999e-07, ..., 1.20002e-07, 7.99992e-08]\n",
       "Attributes:\n",
       "  source                     string        <no unit>  (spectrum)  [\"066017.nxs\", \"066017.nxs\", ..., \"066017.nxs\", \"066017.nxs\"]\n"
      ]
     },
     "metadata": {},
     "output_type": "display_data"
    },
    {
     "data": {
      "application/vnd.jupyter.widget-view+json": {
       "model_id": "9c20bc2f485f4c81849ab47394bc936e",
       "version_major": 2,
       "version_minor": 0
      },
      "text/plain": [
       "VBox(children=(Image(value=b'\\x89PNG\\r\\n\\x1a\\n\\x00\\x00\\x00\\rIHDR\\x00\\x00\\x02X\\x00\\x00\\x01\\x90\\x08\\x06\\x00\\x00\\…"
      ]
     },
     "metadata": {},
     "output_type": "display_data"
    }
   ],
   "source": [
    "name='066017.nxs'\n",
    "exp_meth='fluorescence'\n",
    "\n",
    "# load a file and caluclate fluo spectra within a LoKI.nxs file\n",
    "fluo_dict=utils.load_nurfloki_file(name,exp_meth)\n",
    "fluo_da=fluo.normalize_fluo(**fluo_dict)\n",
    "\n",
    "print(\"This is the resulting dataarray\")\n",
    "display(fluo_da)\n",
    "#if you want to view a quick plot\n",
    "display(sc.plot(sc.collapse(fluo_da, keep=\"wavelength\")))\n",
    "\n",
    "\n",
    "# or in one line, preserves source attribute\n",
    "fluo_da2=fluo.load_and_normalize_fluo(name)\n",
    "\n",
    "display(fluo_da2)\n",
    "\n",
    "#plot result\n",
    "display(sc.plot(sc.collapse(fluo_da2, keep=\"wavelength\")))\n"
   ]
  },
  {
   "cell_type": "markdown",
   "metadata": {},
   "source": [
    "The cell below shows how to plot the fluo content of a Loki file. Currently, the code differentiates between good and bad spectra because during the measurements at ILL technical problems occured."
   ]
  },
  {
   "cell_type": "code",
   "execution_count": 6,
   "metadata": {},
   "outputs": [
    {
     "data": {
      "application/vnd.jupyter.widget-view+json": {
       "model_id": "962437d3ee984df99a58946672a3d8d9",
       "version_major": 2,
       "version_minor": 0
      },
      "text/plain": [
       "VBox(children=(Image(value=b'\\x89PNG\\r\\n\\x1a\\n\\x00\\x00\\x00\\rIHDR\\x00\\x00\\x03\\x00\\x00\\x00\\x01\\x80\\x08\\x06\\x00\\x…"
      ]
     },
     "metadata": {},
     "output_type": "display_data"
    },
    {
     "ename": "TypeError",
     "evalue": "builder() got an unexpected keyword argument 'legend'",
     "output_type": "error",
     "traceback": [
      "\u001b[0;31m---------------------------------------------------------------------------\u001b[0m",
      "\u001b[0;31mTypeError\u001b[0m                                 Traceback (most recent call last)",
      "\u001b[1;32m/Users/gudlo523/Library/CloudStorage/OneDrive-LundUniversity/UU/ESS-scipp/ess/docs/instruments/loki/nurf/fluo_demonstration.ipynb Cell 6\u001b[0m in \u001b[0;36m<cell line: 2>\u001b[0;34m()\u001b[0m\n\u001b[1;32m      <a href='vscode-notebook-cell:/Users/gudlo523/Library/CloudStorage/OneDrive-LundUniversity/UU/ESS-scipp/ess/docs/instruments/loki/nurf/fluo_demonstration.ipynb#W5sZmlsZQ%3D%3D?line=0'>1</a>\u001b[0m \u001b[39m#How to plot fluo the fluo spectra contained in one LoKI.nxs file\u001b[39;00m\n\u001b[0;32m----> <a href='vscode-notebook-cell:/Users/gudlo523/Library/CloudStorage/OneDrive-LundUniversity/UU/ESS-scipp/ess/docs/instruments/loki/nurf/fluo_demonstration.ipynb#W5sZmlsZQ%3D%3D?line=1'>2</a>\u001b[0m plot\u001b[39m.\u001b[39;49mplot_fluo(name)\n",
      "File \u001b[0;32m~/Library/CloudStorage/OneDrive-LundUniversity/UU/ESS-scipp/ess/docs/instruments/loki/nurf/ess/loki/nurf/plot.py:954\u001b[0m, in \u001b[0;36mplot_fluo\u001b[0;34m(name)\u001b[0m\n\u001b[1;32m    951\u001b[0m display(out1)\n\u001b[1;32m    953\u001b[0m \u001b[39m# plot raw and dark spectra for fluo part\u001b[39;00m\n\u001b[0;32m--> 954\u001b[0m out2 \u001b[39m=\u001b[39m sc\u001b[39m.\u001b[39;49mplot(\n\u001b[1;32m    955\u001b[0m     {\u001b[39m\"\u001b[39;49m\u001b[39mdark\u001b[39;49m\u001b[39m\"\u001b[39;49m: fluo_dict[\u001b[39m\"\u001b[39;49m\u001b[39mdark\u001b[39;49m\u001b[39m\"\u001b[39;49m], \u001b[39m\"\u001b[39;49m\u001b[39mreference\u001b[39;49m\u001b[39m\"\u001b[39;49m: fluo_dict[\u001b[39m\"\u001b[39;49m\u001b[39mreference\u001b[39;49m\u001b[39m\"\u001b[39;49m]},\n\u001b[1;32m    956\u001b[0m     linestyle\u001b[39m=\u001b[39;49m\u001b[39m\"\u001b[39;49m\u001b[39mdashed\u001b[39;49m\u001b[39m\"\u001b[39;49m,\n\u001b[1;32m    957\u001b[0m     grid\u001b[39m=\u001b[39;49m\u001b[39mTrue\u001b[39;49;00m,\n\u001b[1;32m    958\u001b[0m     legend\u001b[39m=\u001b[39;49mlegend_props,\n\u001b[1;32m    959\u001b[0m     figsize\u001b[39m=\u001b[39;49mfigure_size,\n\u001b[1;32m    960\u001b[0m     title\u001b[39m=\u001b[39;49m\u001b[39mf\u001b[39;49m\u001b[39m\"\u001b[39;49m\u001b[39m{\u001b[39;49;00mname\u001b[39m}\u001b[39;49;00m\u001b[39m, dark and reference\u001b[39;49m\u001b[39m\"\u001b[39;49m,\n\u001b[1;32m    961\u001b[0m )  \n\u001b[1;32m    962\u001b[0m display(out2)\n\u001b[1;32m    964\u001b[0m \u001b[39m# specific for ILL data, every second sppectrum good, pay attention to range() where\u001b[39;00m\n\u001b[1;32m    965\u001b[0m \u001b[39m#  the selection takes place\u001b[39;00m\n",
      "File \u001b[0;32m/opt/anaconda3/envs/dev/lib/python3.9/site-packages/scipp/plotting/__init__.py:171\u001b[0m, in \u001b[0;36mplot\u001b[0;34m(*args, **kwargs)\u001b[0m\n\u001b[1;32m    169\u001b[0m \u001b[39mglobal\u001b[39;00m _backend\n\u001b[1;32m    170\u001b[0m \u001b[39mif\u001b[39;00m _backend \u001b[39m==\u001b[39m \u001b[39m'\u001b[39m\u001b[39mstable\u001b[39m\u001b[39m'\u001b[39m:\n\u001b[0;32m--> 171\u001b[0m     \u001b[39mreturn\u001b[39;00m plot_stable(\u001b[39m*\u001b[39;49margs, \u001b[39m*\u001b[39;49m\u001b[39m*\u001b[39;49mkwargs)\n\u001b[1;32m    172\u001b[0m \u001b[39melif\u001b[39;00m _backend \u001b[39m==\u001b[39m \u001b[39m'\u001b[39m\u001b[39mexperimental\u001b[39m\u001b[39m'\u001b[39m:\n\u001b[1;32m    173\u001b[0m     \u001b[39mfrom\u001b[39;00m \u001b[39m.\u001b[39;00m\u001b[39m.\u001b[39;00m\u001b[39mexperimental\u001b[39;00m\u001b[39m.\u001b[39;00m\u001b[39mplotting\u001b[39;00m \u001b[39mimport\u001b[39;00m plot \u001b[39mas\u001b[39;00m plot_experimental\n",
      "File \u001b[0;32m/opt/anaconda3/envs/dev/lib/python3.9/site-packages/scipp/plotting/__init__.py:151\u001b[0m, in \u001b[0;36mplot_stable\u001b[0;34m(*args, **kwargs)\u001b[0m\n\u001b[1;32m    148\u001b[0m     plt\u001b[39m.\u001b[39mioff()\n\u001b[1;32m    149\u001b[0m     interactive_on \u001b[39m=\u001b[39m \u001b[39mTrue\u001b[39;00m\n\u001b[0;32m--> 151\u001b[0m output \u001b[39m=\u001b[39m _plot(\u001b[39m*\u001b[39;49margs, \u001b[39m*\u001b[39;49m\u001b[39m*\u001b[39;49mkwargs)\n\u001b[1;32m    153\u001b[0m \u001b[39mif\u001b[39;00m (output \u001b[39mis\u001b[39;00m \u001b[39mnot\u001b[39;00m \u001b[39mNone\u001b[39;00m) \u001b[39mand\u001b[39;00m is_static():\n\u001b[1;32m    154\u001b[0m     output\u001b[39m.\u001b[39mhide_widgets()\n",
      "File \u001b[0;32m/opt/anaconda3/envs/dev/lib/python3.9/site-packages/scipp/plotting/plot.py:173\u001b[0m, in \u001b[0;36mplot\u001b[0;34m(scipp_obj, projection, color, marker, linestyle, linewidth, **kwargs)\u001b[0m\n\u001b[1;32m    171\u001b[0m output \u001b[39m=\u001b[39m PlotDict()\n\u001b[1;32m    172\u001b[0m \u001b[39mfor\u001b[39;00m key, val \u001b[39min\u001b[39;00m tobeplotted\u001b[39m.\u001b[39mitems():\n\u001b[0;32m--> 173\u001b[0m     output\u001b[39m.\u001b[39m_items[key] \u001b[39m=\u001b[39m dispatch(scipp_obj_dict\u001b[39m=\u001b[39;49mval[\u001b[39m\"\u001b[39;49m\u001b[39mscipp_obj_dict\u001b[39;49m\u001b[39m\"\u001b[39;49m],\n\u001b[1;32m    174\u001b[0m                                   ndim\u001b[39m=\u001b[39;49mval[\u001b[39m\"\u001b[39;49m\u001b[39mndims\u001b[39;49m\u001b[39m\"\u001b[39;49m],\n\u001b[1;32m    175\u001b[0m                                   projection\u001b[39m=\u001b[39;49mprojection,\n\u001b[1;32m    176\u001b[0m                                   mpl_line_params\u001b[39m=\u001b[39;49mval[\u001b[39m\"\u001b[39;49m\u001b[39mmpl_line_params\u001b[39;49m\u001b[39m\"\u001b[39;49m],\n\u001b[1;32m    177\u001b[0m                                   \u001b[39m*\u001b[39;49m\u001b[39m*\u001b[39;49mkwargs)\n\u001b[1;32m    179\u001b[0m \u001b[39mif\u001b[39;00m \u001b[39mlen\u001b[39m(output) \u001b[39m>\u001b[39m \u001b[39m1\u001b[39m:\n\u001b[1;32m    180\u001b[0m     \u001b[39mreturn\u001b[39;00m output\n",
      "File \u001b[0;32m/opt/anaconda3/envs/dev/lib/python3.9/site-packages/scipp/plotting/dispatch.py:29\u001b[0m, in \u001b[0;36mdispatch\u001b[0;34m(scipp_obj_dict, ndim, projection, mpl_line_params, **kwargs)\u001b[0m\n\u001b[1;32m     27\u001b[0m \u001b[39melif\u001b[39;00m projection \u001b[39m==\u001b[39m \u001b[39m\"\u001b[39m\u001b[39m2d\u001b[39m\u001b[39m\"\u001b[39m:\n\u001b[1;32m     28\u001b[0m     \u001b[39mfrom\u001b[39;00m \u001b[39m.\u001b[39;00m\u001b[39mplot2d\u001b[39;00m \u001b[39mimport\u001b[39;00m plot2d\n\u001b[0;32m---> 29\u001b[0m     \u001b[39mreturn\u001b[39;00m plot2d(scipp_obj_dict, \u001b[39m*\u001b[39;49m\u001b[39m*\u001b[39;49mkwargs)\n\u001b[1;32m     30\u001b[0m \u001b[39melif\u001b[39;00m projection \u001b[39m==\u001b[39m \u001b[39m\"\u001b[39m\u001b[39m3d\u001b[39m\u001b[39m\"\u001b[39m:\n\u001b[1;32m     31\u001b[0m     \u001b[39mfrom\u001b[39;00m \u001b[39m.\u001b[39;00m\u001b[39mplot3d\u001b[39;00m \u001b[39mimport\u001b[39;00m plot3d\n",
      "File \u001b[0;32m/opt/anaconda3/envs/dev/lib/python3.9/site-packages/scipp/plotting/plot2d.py:73\u001b[0m, in \u001b[0;36mplot2d\u001b[0;34m(scipp_obj_dict, **kwargs)\u001b[0m\n\u001b[1;32m     57\u001b[0m     out[\u001b[39m'\u001b[39m\u001b[39mfigure\u001b[39m\u001b[39m'\u001b[39m] \u001b[39m=\u001b[39m PlotFigure2d(ax\u001b[39m=\u001b[39max,\n\u001b[1;32m     58\u001b[0m                                  cax\u001b[39m=\u001b[39mcax,\n\u001b[1;32m     59\u001b[0m                                  figsize\u001b[39m=\u001b[39mfigsize,\n\u001b[0;32m   (...)\u001b[0m\n\u001b[1;32m     69\u001b[0m                                  ylabel\u001b[39m=\u001b[39mylabel,\n\u001b[1;32m     70\u001b[0m                                  grid\u001b[39m=\u001b[39mgrid)\n\u001b[1;32m     71\u001b[0m     \u001b[39mreturn\u001b[39;00m out\n\u001b[0;32m---> 73\u001b[0m \u001b[39mreturn\u001b[39;00m make_plot(builder, scipp_obj_dict, \u001b[39m*\u001b[39;49m\u001b[39m*\u001b[39;49mkwargs)\n",
      "File \u001b[0;32m/opt/anaconda3/envs/dev/lib/python3.9/site-packages/scipp/plotting/objects.py:384\u001b[0m, in \u001b[0;36mmake_plot\u001b[0;34m(builder, scipp_obj_dict, filename, labels, errorbars, norm, resampling_mode, scale, resolution, **kwargs)\u001b[0m\n\u001b[1;32m    372\u001b[0m \u001b[39mdef\u001b[39;00m \u001b[39mmake_plot\u001b[39m(builder,\n\u001b[1;32m    373\u001b[0m               scipp_obj_dict,\n\u001b[1;32m    374\u001b[0m               filename\u001b[39m=\u001b[39m\u001b[39mNone\u001b[39;00m,\n\u001b[0;32m   (...)\u001b[0m\n\u001b[1;32m    380\u001b[0m               resolution\u001b[39m=\u001b[39m\u001b[39mNone\u001b[39;00m,\n\u001b[1;32m    381\u001b[0m               \u001b[39m*\u001b[39m\u001b[39m*\u001b[39mkwargs):\n\u001b[1;32m    382\u001b[0m     dims \u001b[39m=\u001b[39m \u001b[39mnext\u001b[39m(\u001b[39miter\u001b[39m(scipp_obj_dict\u001b[39m.\u001b[39mvalues()))\u001b[39m.\u001b[39mdims\n\u001b[1;32m    383\u001b[0m     sp \u001b[39m=\u001b[39m Plot(scipp_obj_dict\u001b[39m=\u001b[39mscipp_obj_dict,\n\u001b[0;32m--> 384\u001b[0m               \u001b[39m*\u001b[39m\u001b[39m*\u001b[39mbuilder(dims\u001b[39m=\u001b[39;49mdims, norm\u001b[39m=\u001b[39;49mnorm, \u001b[39m*\u001b[39;49m\u001b[39m*\u001b[39;49mkwargs),\n\u001b[1;32m    385\u001b[0m               errorbars\u001b[39m=\u001b[39merrorbars,\n\u001b[1;32m    386\u001b[0m               labels\u001b[39m=\u001b[39mlabels,\n\u001b[1;32m    387\u001b[0m               resolution\u001b[39m=\u001b[39mresolution,\n\u001b[1;32m    388\u001b[0m               norm\u001b[39m=\u001b[39mnorm,\n\u001b[1;32m    389\u001b[0m               resampling_mode\u001b[39m=\u001b[39mresampling_mode,\n\u001b[1;32m    390\u001b[0m               scale\u001b[39m=\u001b[39mscale)\n\u001b[1;32m    391\u001b[0m     \u001b[39mif\u001b[39;00m filename \u001b[39mis\u001b[39;00m \u001b[39mnot\u001b[39;00m \u001b[39mNone\u001b[39;00m:\n\u001b[1;32m    392\u001b[0m         sp\u001b[39m.\u001b[39msavefig(filename)\n",
      "\u001b[0;31mTypeError\u001b[0m: builder() got an unexpected keyword argument 'legend'"
     ]
    }
   ],
   "source": [
    "#How to plot fluo the fluo spectra contained in one LoKI.nxs file\n",
    "plot.plot_fluo(name)"
   ]
  },
  {
   "cell_type": "code",
   "execution_count": 15,
   "metadata": {},
   "outputs": [
    {
     "data": {
      "application/vnd.jupyter.widget-view+json": {
       "model_id": "90b2994e0159428c812b203b5a2ef318",
       "version_major": 2,
       "version_minor": 0
      },
      "text/plain": [
       "VBox(children=(Image(value=b'\\x89PNG\\r\\n\\x1a\\n\\x00\\x00\\x00\\rIHDR\\x00\\x00\\x03\\x00\\x00\\x00\\x01\\x80\\x08\\x06\\x00\\x…"
      ]
     },
     "metadata": {},
     "output_type": "display_data"
    },
    {
     "name": "stdout",
     "output_type": "stream",
     "text": [
      "(12, 1044)\n",
      "2\n",
      "(12, 1044)\n",
      "2\n"
     ]
    },
    {
     "data": {
      "application/vnd.jupyter.widget-view+json": {
       "model_id": "4bc15bc6179f435f85e9a4bd82455efb",
       "version_major": 2,
       "version_minor": 0
      },
      "text/plain": [
       "VBox(children=(Image(value=b'\\x89PNG\\r\\n\\x1a\\n\\x00\\x00\\x00\\rIHDR\\x00\\x00\\x03\\xc0\\x00\\x00\\x02@\\x08\\x06\\x00\\x00\\…"
      ]
     },
     "execution_count": 15,
     "metadata": {},
     "output_type": "execute_result"
    }
   ],
   "source": [
    "fluo_dict=utils.load_nurfloki_file(name,'fluorescence')  \n",
    "final_fluo = fluo.normalize_fluo(**fluo_dict) \n",
    "\n",
    "# set figure size and legend props\n",
    "figure_size = (8, 4)\n",
    "legend_props = {\"show\": True, \"loc\": (1.04, 0)}\n",
    "\n",
    "# plot all fluo raw spectra\n",
    "out1 = sc.plot(\n",
    "    sc.collapse(fluo_dict[\"sample\"][\"spectrum\", :], keep=\"wavelength\"),\n",
    "    linestyle=\"dashed\",\n",
    "    grid=True,\n",
    "    legend=legend_props,\n",
    "    figsize=figure_size,\n",
    "    title=f\"{name}, raw fluo spectrum - all\",\n",
    ")  # legend={\"show\": True, \"loc\": (1.0, 1.0)} #figsize=(width, height)\n",
    "display(out1)\n",
    "\n",
    "\n",
    "print(fluo_dict[\"dark\"].shape)\n",
    "print(fluo_dict[\"dark\"].ndim)\n",
    "print(fluo_dict[\"reference\"].shape)\n",
    "print(fluo_dict[\"reference\"].ndim)\n",
    "\n",
    "#display(fluo_dict[\"reference\"])\n",
    "#sc.plot(sc.collapse(fluo_dict[\"reference\"][\"spectrum\", :],keep=\"wavelength\"))\n",
    "#sc.plot(sc.collapse(fluo_dict[\"dark\"][\"spectrum\", :],keep=\"wavelength\"))\n",
    "\n",
    "figure_size = (10, 6)\n",
    "legend_props = {\"show\": True, \"loc\": (1.04, 0)}\n",
    "to_plot = {}\n",
    "for group in ('dark', 'reference'):\n",
    "    for key, da in sc.collapse(fluo_dict[group][\"spectrum\", :], keep=\"wavelength\").items():\n",
    "        to_plot[f'{group}-{key}'] = da\n",
    "sc.plot(to_plot, linestyle=\"dashed\",\n",
    "        grid=True,\n",
    "        legend=legend_props,\n",
    "        figsize=figure_size,)"
   ]
  },
  {
   "cell_type": "code",
   "execution_count": null,
   "metadata": {},
   "outputs": [],
   "source": [
    "#How to load and normalize fluo spectra of one file in one go.\n",
    "fluo_da=fluo.load_and_normalize_fluo(name) \n",
    "display(fluo_da)"
   ]
  },
  {
   "cell_type": "markdown",
   "metadata": {},
   "source": [
    "How to apply a median filter. Let's use the new median_filter offered by scipp."
   ]
  },
  {
   "cell_type": "code",
   "execution_count": null,
   "metadata": {},
   "outputs": [],
   "source": [
    "#How to load and normalize fluo spectra of one file in one go.\n",
    "fluo_da=fluo.load_and_normalize_fluo(name) \n",
    "\n",
    "# prepare kernel\n",
    "kernel_size=15\n",
    "\n",
    "# apply median filter\n",
    "fluo_da_filt=utils.nurf_median_filter(fluo_da, kernel_size=kernel_size)\n",
    "\n",
    "#show effect of median_filter\n",
    "legend_props = {\"show\": True, \"loc\": 1}\n",
    "fig1=sc.plot(sc.collapse(fluo_da, keep='wavelength'), marker='.', title='before any median filter',legend=legend_props)\n",
    "fig2=sc.plot(sc.collapse(fluo_da_filt, keep='wavelength'), marker='.', title=f'after median filter - scipp, size={kernel_size} ',legend=legend_props)\n",
    "display(fig1,fig2)\n",
    "\n",
    "\n",
    "\n",
    "\n",
    "\n"
   ]
  },
  {
   "cell_type": "code",
   "execution_count": null,
   "metadata": {},
   "outputs": [],
   "source": []
  }
 ],
 "metadata": {
  "kernelspec": {
   "display_name": "Python 3.9.13 ('dev')",
   "language": "python",
   "name": "python3"
  },
  "language_info": {
   "codemirror_mode": {
    "name": "ipython",
    "version": 3
   },
   "file_extension": ".py",
   "mimetype": "text/x-python",
   "name": "python",
   "nbconvert_exporter": "python",
   "pygments_lexer": "ipython3",
   "version": "3.9.13"
  },
  "orig_nbformat": 4,
  "vscode": {
   "interpreter": {
    "hash": "4396f389b93e7269692bd3bea4c62813bbe379469bde939b058805f538feec11"
   }
  }
 },
 "nbformat": 4,
 "nbformat_minor": 2
}
