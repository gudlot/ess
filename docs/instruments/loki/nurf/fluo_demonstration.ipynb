{
 "cells": [
  {
   "cell_type": "code",
   "execution_count": 1,
   "metadata": {},
   "outputs": [],
   "source": [
    "from ess.loki.nurf import utils, fluo, plot\n",
    "from ess.loki.nurf import ill_auxilliary_funcs as ill \n",
    "\n",
    "# standard library imports\n",
    "import itertools\n",
    "import os\n",
    "from typing import Optional, Type, Union\n",
    "\n",
    "# related third party imports\n",
    "import numpy as np\n",
    "import matplotlib.pyplot as plt\n",
    "from matplotlib import cm\n",
    "import matplotlib.gridspec as gridspec\n",
    "from IPython.display import display, HTML\n",
    "from scipy.optimize import leastsq  # needed for fitting of turbidity\n",
    "\n",
    "# local application imports\n",
    "import scippnexus as snx\n",
    "import scipp as sc\n",
    "from scipp.ndimage import median_filter"
   ]
  },
  {
   "cell_type": "code",
   "execution_count": 2,
   "metadata": {},
   "outputs": [],
   "source": [
    "# Prepare for export to .dat for uv and fluo\n",
    "\n",
    "# path to LOKI-like files\n",
    "process_folder='/Users/gudlo523/Library/CloudStorage/OneDrive-LundUniversity/UU/ILL_947_June_2021/212/d22/exp_9-13-947/processed/ess_version'\n",
    "# change to folder\n",
    "os.chdir(process_folder)\n",
    "\n",
    "# export path for .dat files\n",
    "path_output='/Users/gudlo523/Library/CloudStorage/OneDrive-LundUniversity/UU/ILL_947_June_2021/212/d22/exp_9-13-947/processed/ess_version/dat-files'\n",
    "\n",
    "# experimental data sets\n",
    "exp5= [66017, 66020, 66023, 66026, 66029, 66032, 66034, 66037, 66040, 66043, 66046]\n",
    "exp6= [66050, 66053, 66056, 66059, 66062, 66065, 66068, 66071, 66074, 66077, 66080]\n",
    "\n",
    "exp2= [65925, 65927, 65930, 65933, 65936, 65939, 65942, 65945, 65948, 65951, 65954, 65957]\n",
    "exp3= [65962, 65965, 65968, 65971, 65974, 65977, 65980, 65983, 65986, 65989, 65992]\n",
    "\n",
    "exp7= [66083, 66086, 66089, 66092, 66095, 66098, 66101, 66104, 66107, 66110, 66113]\n",
    "exp8= [66116, 66119, 66122, 66125, 66128, 66131, 66134, 66137, 66140, 66143, 66146]"
   ]
  },
  {
   "cell_type": "markdown",
   "metadata": {},
   "source": [
    "Cell below shows how to load fluo spectra from a Loki.nxs file"
   ]
  },
  {
   "cell_type": "code",
   "execution_count": 5,
   "metadata": {},
   "outputs": [
    {
     "name": "stdout",
     "output_type": "stream",
     "text": [
      "This is the resulting dataarray\n"
     ]
    },
    {
     "data": {
      "text/html": [
       "<div><!-- Original source from -->\n",
       "<!-- https://github.com/jsignell/xarray/blob/1d960933ab252e0f79f7e050e6c9261d55568057/xarray/static/html/icons-svg-inline.html -->\n",
       "<svg style=\"position: absolute; width: 0; height: 0; overflow: hidden\">\n",
       "<defs>\n",
       "<symbol id=\"icon-database\" viewBox=\"0 0 32 32\">\n",
       "<title>Show/Hide data repr</title>\n",
       "<path d=\"M16 0c-8.837 0-16 2.239-16 5v4c0 2.761 7.163 5 16 5s16-2.239 16-5v-4c0-2.761-7.163-5-16-5z\"></path>\n",
       "<path d=\"M16 17c-8.837 0-16-2.239-16-5v6c0 2.761 7.163 5 16 5s16-2.239 16-5v-6c0 2.761-7.163 5-16 5z\"></path>\n",
       "<path d=\"M16 26c-8.837 0-16-2.239-16-5v6c0 2.761 7.163 5 16 5s16-2.239 16-5v-6c0 2.761-7.163 5-16 5z\"></path>\n",
       "</symbol>\n",
       "<symbol id=\"icon-file-text2\" viewBox=\"0 0 32 32\">\n",
       "<title>Show/Hide attributes</title>\n",
       "<path d=\"M28.681 7.159c-0.694-0.947-1.662-2.053-2.724-3.116s-2.169-2.030-3.116-2.724c-1.612-1.182-2.393-1.319-2.841-1.319h-15.5c-1.378 0-2.5 1.121-2.5 2.5v27c0 1.378 1.122 2.5 2.5 2.5h23c1.378 0 2.5-1.122 2.5-2.5v-19.5c0-0.448-0.137-1.23-1.319-2.841zM24.543 5.457c0.959 0.959 1.712 1.825 2.268 2.543h-4.811v-4.811c0.718 0.556 1.584 1.309 2.543 2.268zM28 29.5c0 0.271-0.229 0.5-0.5 0.5h-23c-0.271 0-0.5-0.229-0.5-0.5v-27c0-0.271 0.229-0.5 0.5-0.5 0 0 15.499-0 15.5 0v7c0 0.552 0.448 1 1 1h7v19.5z\"></path>\n",
       "<path d=\"M23 26h-14c-0.552 0-1-0.448-1-1s0.448-1 1-1h14c0.552 0 1 0.448 1 1s-0.448 1-1 1z\"></path>\n",
       "<path d=\"M23 22h-14c-0.552 0-1-0.448-1-1s0.448-1 1-1h14c0.552 0 1 0.448 1 1s-0.448 1-1 1z\"></path>\n",
       "<path d=\"M23 18h-14c-0.552 0-1-0.448-1-1s0.448-1 1-1h14c0.552 0 1 0.448 1 1s-0.448 1-1 1z\"></path>\n",
       "</symbol>\n",
       "</defs>\n",
       "</svg><style id=\"scipp-style-sheet\">.sc-root{--sc-background-color0:var(--jp-layout-color0,#fff);--sc-background-color1:var(--jp-layout-color1,#fcfcfc);--sc-background-color2:var(--jp-layout-color2,#efefef);--sc-inverse-background-color0:var(--jp-inverse-layout-color4,#111);--sc-font-color0:var(--jp-content-font-color0,#000);--sc-font-color1:var(--jp-content-font-color1,#555);--sc-font-color2:var(--jp-content-font-color2,#888);--sc-font-color3:var(--jp-content-font-color3,#ccc);--sc-table-data-color:#f6d028;--sc-table-coords-color:#c6e590;--sc-table-masks-color:#c8c8c8;--sc-table-attrs-color:#ff5555;--sc-table-header-font-color:#111111;}.sc-wrap{font-size:14px;min-width:300px;max-width:800px;}.sc-var-attrs .sc-wrap{padding-left:3em;}.sc-header{padding-top:6px;padding-bottom:6px;margin-bottom:4px;border-bottom:solid 1px #ddd;}.sc-header > div,.sc-header > ul{display:inline;margin-top:0;margin-bottom:0;}.sc-obj-type,.sc-array-name{margin-left:2px;margin-right:10px;}.sc-obj-type{color:var(--sc-font-color1);}.sc-underlying-size{color:var(--sc-font-color2);}.sc-sections,.reveal .sc-sections{padding-left:0 !important;display:grid;grid-template-columns:150px auto auto auto 1fr 20px 20px;}.sc-section-item{display:contents;}.sc-section-item input{display:none;}.sc-section-item input:enabled + label{cursor:pointer;color:var(--sc-font-color1);}.sc-section-item input:enabled + label:hover{color:var(--sc-font-color0);}.sc-section-summary{grid-column:1;font-weight:500;}.sc-section-summary > span{display:inline-block;padding-left:0.5em;}.sc-section-summary-in:disabled + label{color:var(--sc-font-color1);}.sc-section-summary-in + label:before{display:inline-block;content:'►';font-size:11px;width:15px;text-align:center;}.sc-section-summary-in:disabled + label:before{color:var(--sc-font-color3);}.sc-section-summary-in:checked + label:before{content:'▼';}.sc-section-summary-in:checked + label > span{display:none;}.sc-section-summary,.sc-section-inline-details{padding-top:4px;padding-bottom:4px;}.sc-section-inline-details{grid-column:2 / 6;}.sc-section-details{display:none;grid-column:1 / -1;margin-bottom:5px;}.sc-section-summary-in:checked ~ .sc-section-details{display:contents;}.sc-array-wrap{grid-column:1 / -1;display:grid;grid-template-columns:20px auto;}.sc-array-wrap > label{grid-column:1;vertical-align:top;}.sc-preview{color:var(--sc-font-color2);}.sc-array-preview,.sc-array-data{padding:0 5px !important;grid-column:2;}.sc-array-data,.sc-array-in:checked ~ .sc-array-preview{display:none;}.sc-array-in:checked ~ .sc-array-data,.sc-array-preview{display:inline-block;}.sc-dim-list{display:inline-block !important;list-style:none;padding:0 !important;margin:0;}.sc-dim-list li{display:inline-block;padding:0;margin:0!important;}.sc-dim-list:before{content:'(';}.sc-dim-list:after{content:')';}.sc-dim-list li:not(:last-child):after{content:',';padding-right:5px;}.sc-has-index{font-weight:bold;}.sc-var-list,.sc-var-item,.reveal .sc-var-list,.reveal .sc-var-item{display:contents;}.sc-var-item > div,.sc-var-item label,.sc-var-item > .sc-var-name span{background-color:var(--sc-background-color1);margin-bottom:0;}.sc-var-item > .sc-var-name:hover span{padding-right:5px;}.sc-var-list > li:nth-child(odd) > div,.sc-var-list > li:nth-child(odd) > label,.sc-var-list > li:nth-child(odd) > .sc-var-name span{background-color:var(--sc-background-color2);}.sc-var-name{grid-column:1;}.sc-var-dims{grid-column:2;}.sc-var-dtype{grid-column:3;text-align:right;color:var(--sc-font-color2);}.sc-var-unit{grid-column:4;text-align:left;color:var(--sc-font-color1);max-width:50pt;text-overflow:ellipsis;}.sc-value-preview{grid-column:5;}.sc-var-preview-variances{text-align:right;}.sc-sections .sc-section-item .sc-section-summary,.sc-sections .sc-section-item .sc-section-inline-details,.sc-section-item .sc-var-list .sc-var-item > div,.sc-section-item .sc-var-list .sc-var-item > label,.sc-section-details .sc-var-list .sc-var-item > div,.sc-section-details .sc-var-list .sc-var-item > label{margin-top:0;margin-bottom:0;}.sc-var-name,.sc-var-dims,.sc-var-dtype,.sc-var-unit,.sc-preview,.sc-attrs dt{white-space:nowrap;overflow:hidden;text-overflow:ellipsis;padding-right:10px;}.sc-var-name:hover,.sc-var-dims:hover,.sc-var-dtype:hover,.sc-var-unit:hover,.sc-attrs dt:hover{overflow:visible;width:auto;z-index:1;}.sc-var-attrs{display:block;}.sc-var-data,.reveal .sc-var-data{display:none;}.sc-var-attrs,.sc-var-data{background-color:var(--sc-background-color0) !important;padding-bottom:5px !important;}.sc-var-attrs-in:checked ~ .sc-var-attrs{display:none;}.sc-var-data-in:checked ~ .sc-var-data{display:block;}.sc-var-data > table{float:right;}.sc-var-name span,.sc-var-data{padding-left:25px !important;}.sc-var-attrs,.sc-var-data{grid-column:1 / -1;}dl.sc-attrs{padding:0;margin:0;display:grid;grid-template-columns:125px auto;}.sc-attrs dt,dd{padding:0;margin:0;float:left;padding-right:10px;width:auto;}.sc-attrs dt{font-weight:normal;grid-column:1;}.sc-attrs dt:hover span{display:inline-block;padding-right:10px;}.sc-attrs dd{grid-column:2;white-space:pre-wrap;word-break:break-all;}.sc-icon-database,.sc-icon-file-text2{display:inline-block;vertical-align:middle;width:1em;height:1.5em !important;stroke-width:0;stroke:currentColor;fill:currentColor;}label.sc-hide-icon svg{opacity:0;}.sc-standalone-var-name{grid-column:1/3;}.sc-standalone-var-name span{padding-left:25px;padding-right:10px;}.sc-table{border-collapse:collapse;}.sc-title{font-weight:bold;font-size:1.5em;}.sc-subtitle{font-weight:normal;font-style:italic;text-align:left;font-size:1.2em;padding:1px;}.sc-table th,.sc-table td{border:1px solid var(--sc-inverse-background-color0);padding:0 5px 0 5px;}.sc-table th{text-align:center;}.sc-table tr{background-color:var(--sc-background-color1);text-align:right;}.sc-table tr:hover{background-color:var(--sc-background-color2);}.sc-table th.sc-data{background-color:var(--sc-table-data-color);color:var(--sc-table-header-font-color);}.sc-table th.sc-coords{background-color:var(--sc-table-coords-color);color:var(--sc-table-header-font-color);}.sc-table th.sc-masks{background-color:var(--sc-table-masks-color);color:var(--sc-table-header-font-color);}.sc-table th.sc-attrs{background-color:var(--sc-table-attrs-color);color:var(--sc-table-header-font-color);}.sc-table th.sc-subheader{background-color:var(--sc-background-color2);}.sc-table td.sc-padding{background-color:var(--sc-background-color1);border:0 solid var(--sc-background-color1);height:1.2em;}.sc-label{fill:var(--sc-font-color0,#444444);text-anchor:middle;}.sc-name{fill:var(--sc-font-color0,#111111);}.sc-inset-line{stroke:var(--sc-font-color1);stroke-width:0.05;stroke-dasharray:0.2,0.2;}.sc-log-wrap{height:25ex;resize:vertical;overflow-y:scroll;display:flex;flex-direction:column-reverse;border:1px solid;border-color:var(--jp-border-color2);background-color:var(--sc-background-color1);}div.sc-log{line-height:2.5ex;}table.sc-log{table-layout:auto;border-collapse:collapse;}tr.sc-log:nth-child(even){background-color:var(--sc-background-color0);}tr.sc-log > td{vertical-align:top;padding-bottom:0.5ex;}.sc-log-time-stamp{min-width:22ch;font-family:var(--jp-code-font-family);color:var(--sc-font-color2);}.sc-log-level{min-width:10ch;}tr.sc-log-debug td.sc-log-level{color:var(--jp-accent-color1);}tr.sc-log-info td.sc-log-level{color:var(--jp-info-color1);}tr.sc-log-warning td.sc-log-level{color:var(--jp-warn-color1);}tr.sc-log-error td.sc-log-level{font-weight:bold;color:var(--jp-error-color2);}tr.sc-log-critical td.sc-log-level{font-weight:bold;color:var(--sc-background-color0);background-color:var(--jp-error-color1);}.sc-log-message{white-space:pre-wrap;width:100%;}.sc-log-html-payload{white-space:normal;}.sc-log-name{padding-right:0.5em;text-align:right;white-space:pre-wrap;color:var(--sc-font-color3);}</style><div class='sc-wrap sc-root'><div class='sc-header'><div class='sc-obj-type'>scipp.DataArray (53.52 KB)</div></div><ul class='sc-sections'><li class='sc-section-item'><input id='section-a5d3f910-6049-4c8a-8633-402ca999ff11' class='sc-section-summary-in' type='checkbox' disabled ><label for='section-a5d3f910-6049-4c8a-8633-402ca999ff11' class='sc-section-summary'  title='Expand/collapse section'>Dimensions:</label><div class='sc-section-inline-details'><ul class='sc-dim-list'><li><span>spectrum</span>: 12</li><li><span class='sc-has-index'>wavelength</span>: 1044</li></ul></div><div class='sc-section-details'></div></li><li class='sc-section-item'><input id='section-f8f0b7fc-b19e-44a1-ac97-45fe4e57acdf' class='sc-section-summary-in' type='checkbox'  checked><label for='section-f8f0b7fc-b19e-44a1-ac97-45fe4e57acdf' class='sc-section-summary' >Coordinates: <span>(7)</span></label><div class='sc-section-inline-details'></div><div class='sc-section-details'><ul class='sc-var-list'><li class='sc-var-item'><div class='sc-var-name'><span>integration_time</span></div><div class='sc-var-dims'>(spectrum)</div><div class='sc-var-dtype'>float32</div><div class='sc-var-unit'>µs</div><div class='sc-value-preview sc-preview'><span><div>50000000.0, 50000000.0, ..., 50000000.0, 50000000.0</div></span></div><input id='attrs-bc30fee6-7124-4c5a-9621-c04d61401ed8' class='sc-var-attrs-in' type='checkbox' disabled><label for='attrs-bc30fee6-7124-4c5a-9621-c04d61401ed8' class='sc-hide-icon' title='Show/Hide attributes'><svg class='icon sc-icon-file-text2'><use xlink:href='#icon-file-text2'></use></svg></label><input id='data-32e42f4e-fa0a-4a67-98cb-1ed1305d88b2' class='sc-var-data-in' type='checkbox'><label for='data-32e42f4e-fa0a-4a67-98cb-1ed1305d88b2' title='Show/Hide data repr'><svg class='icon sc-icon-database'><use xlink:href='#icon-database'></use></svg></label><pre class='sc-var-data'>Values:<br>array([50000000., 50000000., 50000000., 50000000., 50000000., 50000000.,\n",
       "       50000000., 50000000., 50000000., 50000000., 50000000., 50000000.],\n",
       "      dtype=float32)</pre></span></li><li class='sc-var-item'><div class='sc-var-name'><span>is_dark</span></div><div class='sc-var-dims'>(spectrum)</div><div class='sc-var-dtype'>bool</div><div class='sc-var-unit'></div><div class='sc-value-preview sc-preview'><span><div>False, False, ..., False, False</div></span></div><input id='attrs-357604d5-ae6f-4953-af5b-b262f4bf0541' class='sc-var-attrs-in' type='checkbox' disabled><label for='attrs-357604d5-ae6f-4953-af5b-b262f4bf0541' class='sc-hide-icon' title='Show/Hide attributes'><svg class='icon sc-icon-file-text2'><use xlink:href='#icon-file-text2'></use></svg></label><input id='data-9fef11d5-752a-41ae-a74b-a7a192eb9fdb' class='sc-var-data-in' type='checkbox'><label for='data-9fef11d5-752a-41ae-a74b-a7a192eb9fdb' title='Show/Hide data repr'><svg class='icon sc-icon-database'><use xlink:href='#icon-database'></use></svg></label><pre class='sc-var-data'>Values:<br>array([False, False, False, False, False, False, False, False, False,\n",
       "       False, False, False])</pre></span></li><li class='sc-var-item'><div class='sc-var-name'><span>is_data</span></div><div class='sc-var-dims'>(spectrum)</div><div class='sc-var-dtype'>bool</div><div class='sc-var-unit'></div><div class='sc-value-preview sc-preview'><span><div>True, True, ..., True, True</div></span></div><input id='attrs-02ac7429-2c04-44da-8eec-b19a36cc6395' class='sc-var-attrs-in' type='checkbox' disabled><label for='attrs-02ac7429-2c04-44da-8eec-b19a36cc6395' class='sc-hide-icon' title='Show/Hide attributes'><svg class='icon sc-icon-file-text2'><use xlink:href='#icon-file-text2'></use></svg></label><input id='data-194fa805-bf02-4775-8c9a-413859ebd359' class='sc-var-data-in' type='checkbox'><label for='data-194fa805-bf02-4775-8c9a-413859ebd359' title='Show/Hide data repr'><svg class='icon sc-icon-database'><use xlink:href='#icon-database'></use></svg></label><pre class='sc-var-data'>Values:<br>array([ True,  True,  True,  True,  True,  True,  True,  True,  True,\n",
       "        True,  True,  True])</pre></span></li><li class='sc-var-item'><div class='sc-var-name'><span>is_reference</span></div><div class='sc-var-dims'>(spectrum)</div><div class='sc-var-dtype'>bool</div><div class='sc-var-unit'></div><div class='sc-value-preview sc-preview'><span><div>False, False, ..., False, False</div></span></div><input id='attrs-124b598e-695b-4bcd-9621-b488e1d27ee9' class='sc-var-attrs-in' type='checkbox' disabled><label for='attrs-124b598e-695b-4bcd-9621-b488e1d27ee9' class='sc-hide-icon' title='Show/Hide attributes'><svg class='icon sc-icon-file-text2'><use xlink:href='#icon-file-text2'></use></svg></label><input id='data-37bcbf8c-9542-4f95-834c-46d175027f16' class='sc-var-data-in' type='checkbox'><label for='data-37bcbf8c-9542-4f95-834c-46d175027f16' title='Show/Hide data repr'><svg class='icon sc-icon-database'><use xlink:href='#icon-database'></use></svg></label><pre class='sc-var-data'>Values:<br>array([False, False, False, False, False, False, False, False, False,\n",
       "       False, False, False])</pre></span></li><li class='sc-var-item'><div class='sc-var-name'><span>monowavelengths</span></div><div class='sc-var-dims'>(spectrum)</div><div class='sc-var-dtype'>float32</div><div class='sc-var-unit'>nm</div><div class='sc-value-preview sc-preview'><span><div>295.0, 295.0, ..., 320.0, 320.0</div></span></div><input id='attrs-cb554276-efee-48fe-b7c8-a9de8a5c72bf' class='sc-var-attrs-in' type='checkbox' disabled><label for='attrs-cb554276-efee-48fe-b7c8-a9de8a5c72bf' class='sc-hide-icon' title='Show/Hide attributes'><svg class='icon sc-icon-file-text2'><use xlink:href='#icon-file-text2'></use></svg></label><input id='data-9e9e4997-4fc9-4054-ae7c-19feec8cf395' class='sc-var-data-in' type='checkbox'><label for='data-9e9e4997-4fc9-4054-ae7c-19feec8cf395' title='Show/Hide data repr'><svg class='icon sc-icon-database'><use xlink:href='#icon-database'></use></svg></label><pre class='sc-var-data'>Values:<br>array([295., 295., 295., 295., 320., 320., 320., 320., 295., 295., 320.,\n",
       "       320.], dtype=float32)</pre></span></li><li class='sc-var-item'><div class='sc-var-name'><span>time</span></div><div class='sc-var-dims'>(spectrum)</div><div class='sc-var-dtype'>int64</div><div class='sc-var-unit'>µs</div><div class='sc-value-preview sc-preview'><span><div>1655992257000000, 1655992257000000, ..., 1655992257000000, 1655992257000000</div></span></div><input id='attrs-30016fc1-b4e1-4c45-a583-88cfa7c4f165' class='sc-var-attrs-in' type='checkbox' disabled><label for='attrs-30016fc1-b4e1-4c45-a583-88cfa7c4f165' class='sc-hide-icon' title='Show/Hide attributes'><svg class='icon sc-icon-file-text2'><use xlink:href='#icon-file-text2'></use></svg></label><input id='data-b51865be-90df-44d1-83d8-02d47155f87c' class='sc-var-data-in' type='checkbox'><label for='data-b51865be-90df-44d1-83d8-02d47155f87c' title='Show/Hide data repr'><svg class='icon sc-icon-database'><use xlink:href='#icon-database'></use></svg></label><pre class='sc-var-data'>Values:<br>array([1655992257000000, 1655992257000000, 1655992257000000,\n",
       "       1655992257000000, 1655992257000000, 1655992257000000,\n",
       "       1655992257000000, 1655992257000000, 1655992257000000,\n",
       "       1655992257000000, 1655992257000000, 1655992257000000])</pre></span></li><li class='sc-var-item'><div class='sc-var-name'><span class='sc-has-index'>wavelength</span></div><div class='sc-var-dims'>(wavelength)</div><div class='sc-var-dtype'>float32</div><div class='sc-var-unit'>nm</div><div class='sc-value-preview sc-preview'><span><div>248.68408, 249.48499, ..., 1042.3112, 1043.0312</div></span></div><input id='attrs-cc7ba53c-b063-438f-84db-71c3b3b9fbae' class='sc-var-attrs-in' type='checkbox' disabled><label for='attrs-cc7ba53c-b063-438f-84db-71c3b3b9fbae' class='sc-hide-icon' title='Show/Hide attributes'><svg class='icon sc-icon-file-text2'><use xlink:href='#icon-file-text2'></use></svg></label><input id='data-f4b80829-d722-4366-b403-8aa0785292ff' class='sc-var-data-in' type='checkbox'><label for='data-f4b80829-d722-4366-b403-8aa0785292ff' title='Show/Hide data repr'><svg class='icon sc-icon-database'><use xlink:href='#icon-database'></use></svg></label><pre class='sc-var-data'>Values:<br>array([ 248.68408,  249.48499,  250.28581, ..., 1041.591  , 1042.3112 ,\n",
       "       1043.0312 ], dtype=float32)</pre></span></li></ul></div></li><li class='sc-section-item'><input id='section-8e5ee971-613c-4e62-aafc-9064d37b218f' class='sc-section-summary-in' type='checkbox'  checked><label for='section-8e5ee971-613c-4e62-aafc-9064d37b218f' class='sc-section-summary' >Data: <span>(1)</span></label><div class='sc-section-inline-details'></div><div class='sc-section-details'><ul class='sc-var-list'><li class='sc-var-item'><div class='sc-var-name'><span></span></div><div class='sc-var-dims'>(spectrum, wavelength)</div><div class='sc-var-dtype'>float32</div><div class='sc-var-unit'>counts</div><div class='sc-value-preview sc-preview'><span><div>6.0001184e-08, 1.1999873e-07, ..., 1.2000237e-07, 7.9999154e-08</div></span></div><input id='attrs-ce0cd21e-6069-4c84-849c-f23c184faffc' class='sc-var-attrs-in' type='checkbox' disabled><label for='attrs-ce0cd21e-6069-4c84-849c-f23c184faffc' class='sc-hide-icon' title='Show/Hide attributes'><svg class='icon sc-icon-file-text2'><use xlink:href='#icon-file-text2'></use></svg></label><input id='data-f55cf1dc-fbe4-4e79-808a-9398951f25ad' class='sc-var-data-in' type='checkbox'><label for='data-f55cf1dc-fbe4-4e79-808a-9398951f25ad' title='Show/Hide data repr'><svg class='icon sc-icon-database'><use xlink:href='#icon-database'></use></svg></label><pre class='sc-var-data'>Values:<br>array([[ 6.0001184e-08,  1.1999873e-07,  0.0000000e+00, ...,\n",
       "         1.0000076e-07,  6.0001184e-08,  5.9997546e-08],\n",
       "       [ 1.2000237e-07,  1.0000076e-07,  3.9999577e-08, ...,\n",
       "         3.9999577e-08,  7.9999154e-08,  0.0000000e+00],\n",
       "       [ 3.9999577e-08,  6.0001184e-08, -1.0000076e-07, ...,\n",
       "         7.9999154e-08,  7.9999154e-08,  1.9997970e-08],\n",
       "       ...,\n",
       "       [ 1.0000076e-07,  1.0000076e-07,  1.9997970e-08, ...,\n",
       "         1.0000076e-07, -1.9997970e-08,  7.9999154e-08],\n",
       "       [ 3.9999577e-08,  2.0001607e-08,  3.9999577e-08, ...,\n",
       "         3.9999577e-08,  6.0001184e-08,  1.1999873e-07],\n",
       "       [ 1.6000195e-07,  2.0001607e-08, -3.9999577e-08, ...,\n",
       "         6.0001184e-08,  1.2000237e-07,  7.9999154e-08]], dtype=float32)</pre></li></ul></div></li><li class='sc-section-item'><input id='section-5e9a594b-5dc5-405b-a4d6-dd8a1dbccb21' class='sc-section-summary-in' type='checkbox'  checked><label for='section-5e9a594b-5dc5-405b-a4d6-dd8a1dbccb21' class='sc-section-summary' >Attributes: <span>(1)</span></label><div class='sc-section-inline-details'></div><div class='sc-section-details'><ul class='sc-var-list'><li class='sc-var-item'><div class='sc-var-name'><span>source</span></div><div class='sc-var-dims'>(spectrum)</div><div class='sc-var-dtype'>string</div><div class='sc-var-unit'></div><div class='sc-value-preview sc-preview'><span><div>066017.nxs, 066017.nxs, ..., 066017.nxs, 066017.nxs</div></span></div><input id='attrs-2b69246c-79b1-482d-8056-30248a01e42c' class='sc-var-attrs-in' type='checkbox' disabled><label for='attrs-2b69246c-79b1-482d-8056-30248a01e42c' class='sc-hide-icon' title='Show/Hide attributes'><svg class='icon sc-icon-file-text2'><use xlink:href='#icon-file-text2'></use></svg></label><input id='data-62a25ae6-675e-497f-97d1-8fb991baf9e5' class='sc-var-data-in' type='checkbox'><label for='data-62a25ae6-675e-497f-97d1-8fb991baf9e5' title='Show/Hide data repr'><svg class='icon sc-icon-database'><use xlink:href='#icon-database'></use></svg></label><pre class='sc-var-data'>Values:<br>[&quot;066017.nxs&quot;, &quot;066017.nxs&quot;, ..., &quot;066017.nxs&quot;, &quot;066017.nxs&quot;]</pre></li></ul></div></li></ul></div></div>"
      ],
      "text/plain": [
       "<scipp.DataArray>\n",
       "Dimensions: Sizes[spectrum:12, wavelength:1044, ]\n",
       "Coordinates:\n",
       "  integration_time          float32            [µs]  (spectrum)  [5e+07, 5e+07, ..., 5e+07, 5e+07]\n",
       "  is_dark                      bool        <no unit>  (spectrum)  [False, False, ..., False, False]\n",
       "  is_data                      bool        <no unit>  (spectrum)  [True, True, ..., True, True]\n",
       "  is_reference                 bool        <no unit>  (spectrum)  [False, False, ..., False, False]\n",
       "  monowavelengths           float32             [nm]  (spectrum)  [295, 295, ..., 320, 320]\n",
       "  time                        int64            [µs]  (spectrum)  [1655992257000000, 1655992257000000, ..., 1655992257000000, 1655992257000000]\n",
       "  wavelength                float32             [nm]  (wavelength)  [248.684, 249.485, ..., 1042.31, 1043.03]\n",
       "Data:\n",
       "                            float32         [counts]  (spectrum, wavelength)  [6.00012e-08, 1.19999e-07, ..., 1.20002e-07, 7.99992e-08]\n",
       "Attributes:\n",
       "  source                     string        <no unit>  (spectrum)  [\"066017.nxs\", \"066017.nxs\", ..., \"066017.nxs\", \"066017.nxs\"]\n"
      ]
     },
     "metadata": {},
     "output_type": "display_data"
    },
    {
     "data": {
      "application/vnd.jupyter.widget-view+json": {
       "model_id": "15b275a8a717480f81f1870de176bb1e",
       "version_major": 2,
       "version_minor": 0
      },
      "text/plain": [
       "VBox(children=(HBox(children=(VBox(children=(Button(icon='home', layout=Layout(padding='0px 0px 0px 0px', widt…"
      ]
     },
     "metadata": {},
     "output_type": "display_data"
    },
    {
     "data": {
      "text/html": [
       "<div><!-- Original source from -->\n",
       "<!-- https://github.com/jsignell/xarray/blob/1d960933ab252e0f79f7e050e6c9261d55568057/xarray/static/html/icons-svg-inline.html -->\n",
       "<svg style=\"position: absolute; width: 0; height: 0; overflow: hidden\">\n",
       "<defs>\n",
       "<symbol id=\"icon-database\" viewBox=\"0 0 32 32\">\n",
       "<title>Show/Hide data repr</title>\n",
       "<path d=\"M16 0c-8.837 0-16 2.239-16 5v4c0 2.761 7.163 5 16 5s16-2.239 16-5v-4c0-2.761-7.163-5-16-5z\"></path>\n",
       "<path d=\"M16 17c-8.837 0-16-2.239-16-5v6c0 2.761 7.163 5 16 5s16-2.239 16-5v-6c0 2.761-7.163 5-16 5z\"></path>\n",
       "<path d=\"M16 26c-8.837 0-16-2.239-16-5v6c0 2.761 7.163 5 16 5s16-2.239 16-5v-6c0 2.761-7.163 5-16 5z\"></path>\n",
       "</symbol>\n",
       "<symbol id=\"icon-file-text2\" viewBox=\"0 0 32 32\">\n",
       "<title>Show/Hide attributes</title>\n",
       "<path d=\"M28.681 7.159c-0.694-0.947-1.662-2.053-2.724-3.116s-2.169-2.030-3.116-2.724c-1.612-1.182-2.393-1.319-2.841-1.319h-15.5c-1.378 0-2.5 1.121-2.5 2.5v27c0 1.378 1.122 2.5 2.5 2.5h23c1.378 0 2.5-1.122 2.5-2.5v-19.5c0-0.448-0.137-1.23-1.319-2.841zM24.543 5.457c0.959 0.959 1.712 1.825 2.268 2.543h-4.811v-4.811c0.718 0.556 1.584 1.309 2.543 2.268zM28 29.5c0 0.271-0.229 0.5-0.5 0.5h-23c-0.271 0-0.5-0.229-0.5-0.5v-27c0-0.271 0.229-0.5 0.5-0.5 0 0 15.499-0 15.5 0v7c0 0.552 0.448 1 1 1h7v19.5z\"></path>\n",
       "<path d=\"M23 26h-14c-0.552 0-1-0.448-1-1s0.448-1 1-1h14c0.552 0 1 0.448 1 1s-0.448 1-1 1z\"></path>\n",
       "<path d=\"M23 22h-14c-0.552 0-1-0.448-1-1s0.448-1 1-1h14c0.552 0 1 0.448 1 1s-0.448 1-1 1z\"></path>\n",
       "<path d=\"M23 18h-14c-0.552 0-1-0.448-1-1s0.448-1 1-1h14c0.552 0 1 0.448 1 1s-0.448 1-1 1z\"></path>\n",
       "</symbol>\n",
       "</defs>\n",
       "</svg><style id=\"scipp-style-sheet\">.sc-root{--sc-background-color0:var(--jp-layout-color0,#fff);--sc-background-color1:var(--jp-layout-color1,#fcfcfc);--sc-background-color2:var(--jp-layout-color2,#efefef);--sc-inverse-background-color0:var(--jp-inverse-layout-color4,#111);--sc-font-color0:var(--jp-content-font-color0,#000);--sc-font-color1:var(--jp-content-font-color1,#555);--sc-font-color2:var(--jp-content-font-color2,#888);--sc-font-color3:var(--jp-content-font-color3,#ccc);--sc-table-data-color:#f6d028;--sc-table-coords-color:#c6e590;--sc-table-masks-color:#c8c8c8;--sc-table-attrs-color:#ff5555;--sc-table-header-font-color:#111111;}.sc-wrap{font-size:14px;min-width:300px;max-width:800px;}.sc-var-attrs .sc-wrap{padding-left:3em;}.sc-header{padding-top:6px;padding-bottom:6px;margin-bottom:4px;border-bottom:solid 1px #ddd;}.sc-header > div,.sc-header > ul{display:inline;margin-top:0;margin-bottom:0;}.sc-obj-type,.sc-array-name{margin-left:2px;margin-right:10px;}.sc-obj-type{color:var(--sc-font-color1);}.sc-underlying-size{color:var(--sc-font-color2);}.sc-sections,.reveal .sc-sections{padding-left:0 !important;display:grid;grid-template-columns:150px auto auto auto 1fr 20px 20px;}.sc-section-item{display:contents;}.sc-section-item input{display:none;}.sc-section-item input:enabled + label{cursor:pointer;color:var(--sc-font-color1);}.sc-section-item input:enabled + label:hover{color:var(--sc-font-color0);}.sc-section-summary{grid-column:1;font-weight:500;}.sc-section-summary > span{display:inline-block;padding-left:0.5em;}.sc-section-summary-in:disabled + label{color:var(--sc-font-color1);}.sc-section-summary-in + label:before{display:inline-block;content:'►';font-size:11px;width:15px;text-align:center;}.sc-section-summary-in:disabled + label:before{color:var(--sc-font-color3);}.sc-section-summary-in:checked + label:before{content:'▼';}.sc-section-summary-in:checked + label > span{display:none;}.sc-section-summary,.sc-section-inline-details{padding-top:4px;padding-bottom:4px;}.sc-section-inline-details{grid-column:2 / 6;}.sc-section-details{display:none;grid-column:1 / -1;margin-bottom:5px;}.sc-section-summary-in:checked ~ .sc-section-details{display:contents;}.sc-array-wrap{grid-column:1 / -1;display:grid;grid-template-columns:20px auto;}.sc-array-wrap > label{grid-column:1;vertical-align:top;}.sc-preview{color:var(--sc-font-color2);}.sc-array-preview,.sc-array-data{padding:0 5px !important;grid-column:2;}.sc-array-data,.sc-array-in:checked ~ .sc-array-preview{display:none;}.sc-array-in:checked ~ .sc-array-data,.sc-array-preview{display:inline-block;}.sc-dim-list{display:inline-block !important;list-style:none;padding:0 !important;margin:0;}.sc-dim-list li{display:inline-block;padding:0;margin:0!important;}.sc-dim-list:before{content:'(';}.sc-dim-list:after{content:')';}.sc-dim-list li:not(:last-child):after{content:',';padding-right:5px;}.sc-has-index{font-weight:bold;}.sc-var-list,.sc-var-item,.reveal .sc-var-list,.reveal .sc-var-item{display:contents;}.sc-var-item > div,.sc-var-item label,.sc-var-item > .sc-var-name span{background-color:var(--sc-background-color1);margin-bottom:0;}.sc-var-item > .sc-var-name:hover span{padding-right:5px;}.sc-var-list > li:nth-child(odd) > div,.sc-var-list > li:nth-child(odd) > label,.sc-var-list > li:nth-child(odd) > .sc-var-name span{background-color:var(--sc-background-color2);}.sc-var-name{grid-column:1;}.sc-var-dims{grid-column:2;}.sc-var-dtype{grid-column:3;text-align:right;color:var(--sc-font-color2);}.sc-var-unit{grid-column:4;text-align:left;color:var(--sc-font-color1);max-width:50pt;text-overflow:ellipsis;}.sc-value-preview{grid-column:5;}.sc-var-preview-variances{text-align:right;}.sc-sections .sc-section-item .sc-section-summary,.sc-sections .sc-section-item .sc-section-inline-details,.sc-section-item .sc-var-list .sc-var-item > div,.sc-section-item .sc-var-list .sc-var-item > label,.sc-section-details .sc-var-list .sc-var-item > div,.sc-section-details .sc-var-list .sc-var-item > label{margin-top:0;margin-bottom:0;}.sc-var-name,.sc-var-dims,.sc-var-dtype,.sc-var-unit,.sc-preview,.sc-attrs dt{white-space:nowrap;overflow:hidden;text-overflow:ellipsis;padding-right:10px;}.sc-var-name:hover,.sc-var-dims:hover,.sc-var-dtype:hover,.sc-var-unit:hover,.sc-attrs dt:hover{overflow:visible;width:auto;z-index:1;}.sc-var-attrs{display:block;}.sc-var-data,.reveal .sc-var-data{display:none;}.sc-var-attrs,.sc-var-data{background-color:var(--sc-background-color0) !important;padding-bottom:5px !important;}.sc-var-attrs-in:checked ~ .sc-var-attrs{display:none;}.sc-var-data-in:checked ~ .sc-var-data{display:block;}.sc-var-data > table{float:right;}.sc-var-name span,.sc-var-data{padding-left:25px !important;}.sc-var-attrs,.sc-var-data{grid-column:1 / -1;}dl.sc-attrs{padding:0;margin:0;display:grid;grid-template-columns:125px auto;}.sc-attrs dt,dd{padding:0;margin:0;float:left;padding-right:10px;width:auto;}.sc-attrs dt{font-weight:normal;grid-column:1;}.sc-attrs dt:hover span{display:inline-block;padding-right:10px;}.sc-attrs dd{grid-column:2;white-space:pre-wrap;word-break:break-all;}.sc-icon-database,.sc-icon-file-text2{display:inline-block;vertical-align:middle;width:1em;height:1.5em !important;stroke-width:0;stroke:currentColor;fill:currentColor;}label.sc-hide-icon svg{opacity:0;}.sc-standalone-var-name{grid-column:1/3;}.sc-standalone-var-name span{padding-left:25px;padding-right:10px;}.sc-table{border-collapse:collapse;}.sc-title{font-weight:bold;font-size:1.5em;}.sc-subtitle{font-weight:normal;font-style:italic;text-align:left;font-size:1.2em;padding:1px;}.sc-table th,.sc-table td{border:1px solid var(--sc-inverse-background-color0);padding:0 5px 0 5px;}.sc-table th{text-align:center;}.sc-table tr{background-color:var(--sc-background-color1);text-align:right;}.sc-table tr:hover{background-color:var(--sc-background-color2);}.sc-table th.sc-data{background-color:var(--sc-table-data-color);color:var(--sc-table-header-font-color);}.sc-table th.sc-coords{background-color:var(--sc-table-coords-color);color:var(--sc-table-header-font-color);}.sc-table th.sc-masks{background-color:var(--sc-table-masks-color);color:var(--sc-table-header-font-color);}.sc-table th.sc-attrs{background-color:var(--sc-table-attrs-color);color:var(--sc-table-header-font-color);}.sc-table th.sc-subheader{background-color:var(--sc-background-color2);}.sc-table td.sc-padding{background-color:var(--sc-background-color1);border:0 solid var(--sc-background-color1);height:1.2em;}.sc-label{fill:var(--sc-font-color0,#444444);text-anchor:middle;}.sc-name{fill:var(--sc-font-color0,#111111);}.sc-inset-line{stroke:var(--sc-font-color1);stroke-width:0.05;stroke-dasharray:0.2,0.2;}.sc-log-wrap{height:25ex;resize:vertical;overflow-y:scroll;display:flex;flex-direction:column-reverse;border:1px solid;border-color:var(--jp-border-color2);background-color:var(--sc-background-color1);}div.sc-log{line-height:2.5ex;}table.sc-log{table-layout:auto;border-collapse:collapse;}tr.sc-log:nth-child(even){background-color:var(--sc-background-color0);}tr.sc-log > td{vertical-align:top;padding-bottom:0.5ex;}.sc-log-time-stamp{min-width:22ch;font-family:var(--jp-code-font-family);color:var(--sc-font-color2);}.sc-log-level{min-width:10ch;}tr.sc-log-debug td.sc-log-level{color:var(--jp-accent-color1);}tr.sc-log-info td.sc-log-level{color:var(--jp-info-color1);}tr.sc-log-warning td.sc-log-level{color:var(--jp-warn-color1);}tr.sc-log-error td.sc-log-level{font-weight:bold;color:var(--jp-error-color2);}tr.sc-log-critical td.sc-log-level{font-weight:bold;color:var(--sc-background-color0);background-color:var(--jp-error-color1);}.sc-log-message{white-space:pre-wrap;width:100%;}.sc-log-html-payload{white-space:normal;}.sc-log-name{padding-right:0.5em;text-align:right;white-space:pre-wrap;color:var(--sc-font-color3);}</style><div class='sc-wrap sc-root'><div class='sc-header'><div class='sc-obj-type'>scipp.DataArray (53.52 KB)</div></div><ul class='sc-sections'><li class='sc-section-item'><input id='section-3b9db413-c1f9-4e33-976f-c17f7e091b4d' class='sc-section-summary-in' type='checkbox' disabled ><label for='section-3b9db413-c1f9-4e33-976f-c17f7e091b4d' class='sc-section-summary'  title='Expand/collapse section'>Dimensions:</label><div class='sc-section-inline-details'><ul class='sc-dim-list'><li><span>spectrum</span>: 12</li><li><span class='sc-has-index'>wavelength</span>: 1044</li></ul></div><div class='sc-section-details'></div></li><li class='sc-section-item'><input id='section-d1bff502-eedd-4ca8-98bf-868814dc465d' class='sc-section-summary-in' type='checkbox'  checked><label for='section-d1bff502-eedd-4ca8-98bf-868814dc465d' class='sc-section-summary' >Coordinates: <span>(7)</span></label><div class='sc-section-inline-details'></div><div class='sc-section-details'><ul class='sc-var-list'><li class='sc-var-item'><div class='sc-var-name'><span>integration_time</span></div><div class='sc-var-dims'>(spectrum)</div><div class='sc-var-dtype'>float32</div><div class='sc-var-unit'>µs</div><div class='sc-value-preview sc-preview'><span><div>50000000.0, 50000000.0, ..., 50000000.0, 50000000.0</div></span></div><input id='attrs-744f6d06-6505-4698-a042-2525bb5cbef7' class='sc-var-attrs-in' type='checkbox' disabled><label for='attrs-744f6d06-6505-4698-a042-2525bb5cbef7' class='sc-hide-icon' title='Show/Hide attributes'><svg class='icon sc-icon-file-text2'><use xlink:href='#icon-file-text2'></use></svg></label><input id='data-486d664b-057c-42a8-b5ff-4670868c3044' class='sc-var-data-in' type='checkbox'><label for='data-486d664b-057c-42a8-b5ff-4670868c3044' title='Show/Hide data repr'><svg class='icon sc-icon-database'><use xlink:href='#icon-database'></use></svg></label><pre class='sc-var-data'>Values:<br>array([50000000., 50000000., 50000000., 50000000., 50000000., 50000000.,\n",
       "       50000000., 50000000., 50000000., 50000000., 50000000., 50000000.],\n",
       "      dtype=float32)</pre></span></li><li class='sc-var-item'><div class='sc-var-name'><span>is_dark</span></div><div class='sc-var-dims'>(spectrum)</div><div class='sc-var-dtype'>bool</div><div class='sc-var-unit'></div><div class='sc-value-preview sc-preview'><span><div>False, False, ..., False, False</div></span></div><input id='attrs-f3725ca7-fb4e-4153-8e45-b11a024d7482' class='sc-var-attrs-in' type='checkbox' disabled><label for='attrs-f3725ca7-fb4e-4153-8e45-b11a024d7482' class='sc-hide-icon' title='Show/Hide attributes'><svg class='icon sc-icon-file-text2'><use xlink:href='#icon-file-text2'></use></svg></label><input id='data-67d15f49-b1de-4b10-8d09-6b6c3cd1b759' class='sc-var-data-in' type='checkbox'><label for='data-67d15f49-b1de-4b10-8d09-6b6c3cd1b759' title='Show/Hide data repr'><svg class='icon sc-icon-database'><use xlink:href='#icon-database'></use></svg></label><pre class='sc-var-data'>Values:<br>array([False, False, False, False, False, False, False, False, False,\n",
       "       False, False, False])</pre></span></li><li class='sc-var-item'><div class='sc-var-name'><span>is_data</span></div><div class='sc-var-dims'>(spectrum)</div><div class='sc-var-dtype'>bool</div><div class='sc-var-unit'></div><div class='sc-value-preview sc-preview'><span><div>True, True, ..., True, True</div></span></div><input id='attrs-595ae823-deaf-4cae-a742-b7898d23bfe7' class='sc-var-attrs-in' type='checkbox' disabled><label for='attrs-595ae823-deaf-4cae-a742-b7898d23bfe7' class='sc-hide-icon' title='Show/Hide attributes'><svg class='icon sc-icon-file-text2'><use xlink:href='#icon-file-text2'></use></svg></label><input id='data-4c7736b6-8f18-4a82-ada1-b64b1604b504' class='sc-var-data-in' type='checkbox'><label for='data-4c7736b6-8f18-4a82-ada1-b64b1604b504' title='Show/Hide data repr'><svg class='icon sc-icon-database'><use xlink:href='#icon-database'></use></svg></label><pre class='sc-var-data'>Values:<br>array([ True,  True,  True,  True,  True,  True,  True,  True,  True,\n",
       "        True,  True,  True])</pre></span></li><li class='sc-var-item'><div class='sc-var-name'><span>is_reference</span></div><div class='sc-var-dims'>(spectrum)</div><div class='sc-var-dtype'>bool</div><div class='sc-var-unit'></div><div class='sc-value-preview sc-preview'><span><div>False, False, ..., False, False</div></span></div><input id='attrs-870613e4-e51f-4b37-99d5-290cfafc689c' class='sc-var-attrs-in' type='checkbox' disabled><label for='attrs-870613e4-e51f-4b37-99d5-290cfafc689c' class='sc-hide-icon' title='Show/Hide attributes'><svg class='icon sc-icon-file-text2'><use xlink:href='#icon-file-text2'></use></svg></label><input id='data-d5024c77-c3e2-49b5-8491-2926a31197b2' class='sc-var-data-in' type='checkbox'><label for='data-d5024c77-c3e2-49b5-8491-2926a31197b2' title='Show/Hide data repr'><svg class='icon sc-icon-database'><use xlink:href='#icon-database'></use></svg></label><pre class='sc-var-data'>Values:<br>array([False, False, False, False, False, False, False, False, False,\n",
       "       False, False, False])</pre></span></li><li class='sc-var-item'><div class='sc-var-name'><span>monowavelengths</span></div><div class='sc-var-dims'>(spectrum)</div><div class='sc-var-dtype'>float32</div><div class='sc-var-unit'>nm</div><div class='sc-value-preview sc-preview'><span><div>295.0, 295.0, ..., 320.0, 320.0</div></span></div><input id='attrs-39af3ee1-6e55-463a-8158-006d409df617' class='sc-var-attrs-in' type='checkbox' disabled><label for='attrs-39af3ee1-6e55-463a-8158-006d409df617' class='sc-hide-icon' title='Show/Hide attributes'><svg class='icon sc-icon-file-text2'><use xlink:href='#icon-file-text2'></use></svg></label><input id='data-f1f663b6-786a-4805-83fd-83a1686d672d' class='sc-var-data-in' type='checkbox'><label for='data-f1f663b6-786a-4805-83fd-83a1686d672d' title='Show/Hide data repr'><svg class='icon sc-icon-database'><use xlink:href='#icon-database'></use></svg></label><pre class='sc-var-data'>Values:<br>array([295., 295., 295., 295., 320., 320., 320., 320., 295., 295., 320.,\n",
       "       320.], dtype=float32)</pre></span></li><li class='sc-var-item'><div class='sc-var-name'><span>time</span></div><div class='sc-var-dims'>(spectrum)</div><div class='sc-var-dtype'>int64</div><div class='sc-var-unit'>µs</div><div class='sc-value-preview sc-preview'><span><div>1655992257000000, 1655992257000000, ..., 1655992257000000, 1655992257000000</div></span></div><input id='attrs-da4b7d81-cd9a-4c02-a9f8-8198f35a565e' class='sc-var-attrs-in' type='checkbox' disabled><label for='attrs-da4b7d81-cd9a-4c02-a9f8-8198f35a565e' class='sc-hide-icon' title='Show/Hide attributes'><svg class='icon sc-icon-file-text2'><use xlink:href='#icon-file-text2'></use></svg></label><input id='data-3c49fb53-b25f-417e-a83e-5f3365a1b6c7' class='sc-var-data-in' type='checkbox'><label for='data-3c49fb53-b25f-417e-a83e-5f3365a1b6c7' title='Show/Hide data repr'><svg class='icon sc-icon-database'><use xlink:href='#icon-database'></use></svg></label><pre class='sc-var-data'>Values:<br>array([1655992257000000, 1655992257000000, 1655992257000000,\n",
       "       1655992257000000, 1655992257000000, 1655992257000000,\n",
       "       1655992257000000, 1655992257000000, 1655992257000000,\n",
       "       1655992257000000, 1655992257000000, 1655992257000000])</pre></span></li><li class='sc-var-item'><div class='sc-var-name'><span class='sc-has-index'>wavelength</span></div><div class='sc-var-dims'>(wavelength)</div><div class='sc-var-dtype'>float32</div><div class='sc-var-unit'>nm</div><div class='sc-value-preview sc-preview'><span><div>248.68408, 249.48499, ..., 1042.3112, 1043.0312</div></span></div><input id='attrs-fe4d1466-7d02-4f9e-aa26-d0bc3f038afe' class='sc-var-attrs-in' type='checkbox' disabled><label for='attrs-fe4d1466-7d02-4f9e-aa26-d0bc3f038afe' class='sc-hide-icon' title='Show/Hide attributes'><svg class='icon sc-icon-file-text2'><use xlink:href='#icon-file-text2'></use></svg></label><input id='data-8044911a-1e83-4370-9701-d180077f30d0' class='sc-var-data-in' type='checkbox'><label for='data-8044911a-1e83-4370-9701-d180077f30d0' title='Show/Hide data repr'><svg class='icon sc-icon-database'><use xlink:href='#icon-database'></use></svg></label><pre class='sc-var-data'>Values:<br>array([ 248.68408,  249.48499,  250.28581, ..., 1041.591  , 1042.3112 ,\n",
       "       1043.0312 ], dtype=float32)</pre></span></li></ul></div></li><li class='sc-section-item'><input id='section-1fab96e8-5ea2-4221-9d69-0c4123f90730' class='sc-section-summary-in' type='checkbox'  checked><label for='section-1fab96e8-5ea2-4221-9d69-0c4123f90730' class='sc-section-summary' >Data: <span>(1)</span></label><div class='sc-section-inline-details'></div><div class='sc-section-details'><ul class='sc-var-list'><li class='sc-var-item'><div class='sc-var-name'><span></span></div><div class='sc-var-dims'>(spectrum, wavelength)</div><div class='sc-var-dtype'>float32</div><div class='sc-var-unit'>counts</div><div class='sc-value-preview sc-preview'><span><div>6.0001184e-08, 1.1999873e-07, ..., 1.2000237e-07, 7.9999154e-08</div></span></div><input id='attrs-ebbc0583-3709-4f79-95bd-b397d89a19a5' class='sc-var-attrs-in' type='checkbox' disabled><label for='attrs-ebbc0583-3709-4f79-95bd-b397d89a19a5' class='sc-hide-icon' title='Show/Hide attributes'><svg class='icon sc-icon-file-text2'><use xlink:href='#icon-file-text2'></use></svg></label><input id='data-e0501502-a3e7-443f-8ec5-98a5667c19c5' class='sc-var-data-in' type='checkbox'><label for='data-e0501502-a3e7-443f-8ec5-98a5667c19c5' title='Show/Hide data repr'><svg class='icon sc-icon-database'><use xlink:href='#icon-database'></use></svg></label><pre class='sc-var-data'>Values:<br>array([[ 6.0001184e-08,  1.1999873e-07,  0.0000000e+00, ...,\n",
       "         1.0000076e-07,  6.0001184e-08,  5.9997546e-08],\n",
       "       [ 1.2000237e-07,  1.0000076e-07,  3.9999577e-08, ...,\n",
       "         3.9999577e-08,  7.9999154e-08,  0.0000000e+00],\n",
       "       [ 3.9999577e-08,  6.0001184e-08, -1.0000076e-07, ...,\n",
       "         7.9999154e-08,  7.9999154e-08,  1.9997970e-08],\n",
       "       ...,\n",
       "       [ 1.0000076e-07,  1.0000076e-07,  1.9997970e-08, ...,\n",
       "         1.0000076e-07, -1.9997970e-08,  7.9999154e-08],\n",
       "       [ 3.9999577e-08,  2.0001607e-08,  3.9999577e-08, ...,\n",
       "         3.9999577e-08,  6.0001184e-08,  1.1999873e-07],\n",
       "       [ 1.6000195e-07,  2.0001607e-08, -3.9999577e-08, ...,\n",
       "         6.0001184e-08,  1.2000237e-07,  7.9999154e-08]], dtype=float32)</pre></li></ul></div></li><li class='sc-section-item'><input id='section-26943d02-16ec-41cf-b929-59df630a31dc' class='sc-section-summary-in' type='checkbox'  checked><label for='section-26943d02-16ec-41cf-b929-59df630a31dc' class='sc-section-summary' >Attributes: <span>(1)</span></label><div class='sc-section-inline-details'></div><div class='sc-section-details'><ul class='sc-var-list'><li class='sc-var-item'><div class='sc-var-name'><span>source</span></div><div class='sc-var-dims'>(spectrum)</div><div class='sc-var-dtype'>string</div><div class='sc-var-unit'></div><div class='sc-value-preview sc-preview'><span><div>066017.nxs, 066017.nxs, ..., 066017.nxs, 066017.nxs</div></span></div><input id='attrs-4f53c57d-37c3-4aec-80b2-feee41c97ece' class='sc-var-attrs-in' type='checkbox' disabled><label for='attrs-4f53c57d-37c3-4aec-80b2-feee41c97ece' class='sc-hide-icon' title='Show/Hide attributes'><svg class='icon sc-icon-file-text2'><use xlink:href='#icon-file-text2'></use></svg></label><input id='data-4bedd160-0650-49c9-a7a5-2afad71c935e' class='sc-var-data-in' type='checkbox'><label for='data-4bedd160-0650-49c9-a7a5-2afad71c935e' title='Show/Hide data repr'><svg class='icon sc-icon-database'><use xlink:href='#icon-database'></use></svg></label><pre class='sc-var-data'>Values:<br>[&quot;066017.nxs&quot;, &quot;066017.nxs&quot;, ..., &quot;066017.nxs&quot;, &quot;066017.nxs&quot;]</pre></li></ul></div></li></ul></div></div>"
      ],
      "text/plain": [
       "<scipp.DataArray>\n",
       "Dimensions: Sizes[spectrum:12, wavelength:1044, ]\n",
       "Coordinates:\n",
       "  integration_time          float32            [µs]  (spectrum)  [5e+07, 5e+07, ..., 5e+07, 5e+07]\n",
       "  is_dark                      bool        <no unit>  (spectrum)  [False, False, ..., False, False]\n",
       "  is_data                      bool        <no unit>  (spectrum)  [True, True, ..., True, True]\n",
       "  is_reference                 bool        <no unit>  (spectrum)  [False, False, ..., False, False]\n",
       "  monowavelengths           float32             [nm]  (spectrum)  [295, 295, ..., 320, 320]\n",
       "  time                        int64            [µs]  (spectrum)  [1655992257000000, 1655992257000000, ..., 1655992257000000, 1655992257000000]\n",
       "  wavelength                float32             [nm]  (wavelength)  [248.684, 249.485, ..., 1042.31, 1043.03]\n",
       "Data:\n",
       "                            float32         [counts]  (spectrum, wavelength)  [6.00012e-08, 1.19999e-07, ..., 1.20002e-07, 7.99992e-08]\n",
       "Attributes:\n",
       "  source                     string        <no unit>  (spectrum)  [\"066017.nxs\", \"066017.nxs\", ..., \"066017.nxs\", \"066017.nxs\"]\n"
      ]
     },
     "metadata": {},
     "output_type": "display_data"
    },
    {
     "data": {
      "application/vnd.jupyter.widget-view+json": {
       "model_id": "11e5dec2077047279226f1a5580f858d",
       "version_major": 2,
       "version_minor": 0
      },
      "text/plain": [
       "VBox(children=(HBox(children=(VBox(children=(Button(icon='home', layout=Layout(padding='0px 0px 0px 0px', widt…"
      ]
     },
     "metadata": {},
     "output_type": "display_data"
    }
   ],
   "source": [
    "name='066017.nxs'\n",
    "exp_meth='fluorescence'\n",
    "\n",
    "# load a file and caluclate fluo spectra within a LoKI.nxs file\n",
    "fluo_dict=utils.load_nurfloki_file(name,exp_meth)\n",
    "fluo_da=fluo.normalize_fluo(**fluo_dict)\n",
    "\n",
    "print(\"This is the resulting dataarray\")\n",
    "display(fluo_da)\n",
    "#if you want to view a quick plot\n",
    "display(sc.plot(sc.collapse(fluo_da, keep=\"wavelength\")))\n",
    "\n",
    "\n",
    "# or in one line, preserves source attribute\n",
    "fluo_da2=fluo.load_and_normalize_fluo(name)\n",
    "\n",
    "display(fluo_da2)\n",
    "\n",
    "#plot result\n",
    "display(sc.plot(sc.collapse(fluo_da2, keep=\"wavelength\")))\n"
   ]
  },
  {
   "cell_type": "markdown",
   "metadata": {},
   "source": [
    "The cell below shows how to plot the fluo content of a Loki file. Currently, the code differentiates between good and bad spectra because during the measurements at ILL technical problems occured."
   ]
  },
  {
   "cell_type": "code",
   "execution_count": null,
   "metadata": {},
   "outputs": [],
   "source": [
    "#How to plot fluo the fluo spectra contained in one LoKI.nxs file\n",
    "plot.plot_fluo(name)"
   ]
  },
  {
   "cell_type": "code",
   "execution_count": null,
   "metadata": {},
   "outputs": [],
   "source": [
    "#How to load and normalize fluo spectra of one file in one go.\n",
    "fluo_da=fluo.load_and_normalize_fluo(name) \n",
    "display(fluo_da)"
   ]
  },
  {
   "cell_type": "markdown",
   "metadata": {},
   "source": [
    "How to apply a median filter. Let's use the new median_filter offered by scipp."
   ]
  },
  {
   "cell_type": "code",
   "execution_count": null,
   "metadata": {},
   "outputs": [],
   "source": [
    "#How to load and normalize fluo spectra of one file in one go.\n",
    "fluo_da=fluo.load_and_normalize_fluo(name) \n",
    "\n",
    "# prepare kernel\n",
    "kernel_size=15\n",
    "\n",
    "# apply median filter\n",
    "fluo_da_filt=utils.nur\n",
    "\n",
    "\n",
    "\n",
    "\n",
    "\n",
    "fluo_da_filt=median_filter(fluo_da, size=kernel_size_scipp)\n",
    "#show effect of median_filter\n",
    "legend_props = {\"show\": True, \"loc\": 1}\n",
    "fig1=sc.plot(sc.collapse(fluo_da, keep='wavelength'), marker='.', title='before any median filter',legend=legend_props)\n",
    "fig2=sc.plot(sc.collapse(fluo_da_filt, keep='wavelength'), marker='.', title=f'after median filter - scipp, size={kernel_size_scipp} ',legend=legend_props)\n",
    "display(fig1,fig2)\n",
    "\n",
    "\n",
    "\n",
    "\n",
    "\n"
   ]
  },
  {
   "cell_type": "code",
   "execution_count": null,
   "metadata": {},
   "outputs": [],
   "source": [
    "fluo_peak_int(\n",
    "    fluo_da: sc.DataArray,\n",
    "    wllim=None,\n",
    "    wulim=None,\n",
    "    wl_unit=None,\n",
    "    medfilter=True,\n",
    "    kernel_size=None,\n",
    "):\n",
    "\n",
    "w\n",
    "fluo.fluo_peak_int"
   ]
  }
 ],
 "metadata": {
  "kernelspec": {
   "display_name": "Python 3.8.12 ('scippneutron')",
   "language": "python",
   "name": "python3"
  },
  "language_info": {
   "codemirror_mode": {
    "name": "ipython",
    "version": 3
   },
   "file_extension": ".py",
   "mimetype": "text/x-python",
   "name": "python",
   "nbconvert_exporter": "python",
   "pygments_lexer": "ipython3",
   "version": "3.8.12"
  },
  "orig_nbformat": 4,
  "vscode": {
   "interpreter": {
    "hash": "410bfb39d85b3112e66f48ab3e53bb74ad7e7b3fb364f756ca860b5a3cf79ca2"
   }
  }
 },
 "nbformat": 4,
 "nbformat_minor": 2
}
