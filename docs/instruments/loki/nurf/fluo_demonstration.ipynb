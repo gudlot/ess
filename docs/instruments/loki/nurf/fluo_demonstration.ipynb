{
 "cells": [
  {
   "cell_type": "code",
   "execution_count": null,
   "metadata": {},
   "outputs": [],
   "source": [
    "from ess.loki.nurf import utils, fluo, plot\n",
    "from ess.loki.nurf import ill_auxilliary_funcs as ill \n",
    "\n",
    "# standard library imports\n",
    "import itertools\n",
    "import os\n",
    "from typing import Optional, Type, Union\n",
    "\n",
    "# related third party imports\n",
    "import numpy as np\n",
    "import matplotlib.pyplot as plt\n",
    "from matplotlib import cm\n",
    "import matplotlib.gridspec as gridspec\n",
    "from IPython.display import display, HTML\n",
    "from scipy.optimize import leastsq  # needed for fitting of turbidity\n",
    "\n",
    "# local application imports\n",
    "import scippnexus as snx\n",
    "import scipp as sc\n",
    "from scipp.ndimage import median_filter\n",
    "\n"
   ]
  },
  {
   "cell_type": "code",
   "execution_count": null,
   "metadata": {},
   "outputs": [],
   "source": [
    "# Prepare for export to .dat for uv and fluo\n",
    "\n",
    "# path to LOKI-like files\n",
    "process_folder='/Users/gudlo523/Library/CloudStorage/OneDrive-LundUniversity/UU/ILL_947_June_2021/212/d22/exp_9-13-947/processed/ess_version'\n",
    "# change to folder\n",
    "os.chdir(process_folder)\n",
    "\n",
    "# export path for .dat files\n",
    "path_output='/Users/gudlo523/Library/CloudStorage/OneDrive-LundUniversity/UU/ILL_947_June_2021/212/d22/exp_9-13-947/processed/ess_version/dat-files'\n",
    "\n",
    "# experimental data sets\n",
    "exp5= [66017, 66020, 66023, 66026, 66029, 66032, 66034, 66037, 66040, 66043, 66046]\n",
    "exp6= [66050, 66053, 66056, 66059, 66062, 66065, 66068, 66071, 66074, 66077, 66080]\n",
    "\n",
    "exp2= [65925, 65927, 65930, 65933, 65936, 65939, 65942, 65945, 65948, 65951, 65954, 65957]\n",
    "exp3= [65962, 65965, 65968, 65971, 65974, 65977, 65980, 65983, 65986, 65989, 65992]\n",
    "\n",
    "exp7= [66083, 66086, 66089, 66092, 66095, 66098, 66101, 66104, 66107, 66110, 66113]\n",
    "exp8= [66116, 66119, 66122, 66125, 66128, 66131, 66134, 66137, 66140, 66143, 66146]"
   ]
  },
  {
   "cell_type": "code",
   "execution_count": null,
   "metadata": {},
   "outputs": [],
   "source": [
    "name='066017.nxs'\n",
    "exp_meth='fluorescence'\n",
    "\n",
    "# load a file and caluclate fluo spectra within a LoKI.nxs file\n",
    "fluo_dict=utils.load_nurfloki_file(name,exp_meth)\n",
    "fluo_da=fluo.normalize_fluo(**fluo_dict)\n",
    "\n",
    "display(fluo_da)"
   ]
  },
  {
   "cell_type": "markdown",
   "metadata": {},
   "source": [
    "The cell below shows how to plot the fluo content of a Loki file. Currently, the code differentiates between good and bad spectra because during the measurements at ILL technical problems occured."
   ]
  },
  {
   "cell_type": "code",
   "execution_count": null,
   "metadata": {},
   "outputs": [],
   "source": [
    "#How to plot fluo the fluo spectra contained in one LoKI.nxs file\n",
    "plot.plot_fluo(name)"
   ]
  },
  {
   "cell_type": "code",
   "execution_count": null,
   "metadata": {},
   "outputs": [],
   "source": [
    "#How to load and normalize fluo spectra of one file in one go.\n",
    "fluo_da=fluo.load_and_normalize_fluo(name) \n",
    "display(fluo_da)"
   ]
  },
  {
   "cell_type": "markdown",
   "metadata": {},
   "source": [
    "How to apply a median filter. Let's use the new median_filter offered by scipp."
   ]
  },
  {
   "cell_type": "code",
   "execution_count": null,
   "metadata": {},
   "outputs": [],
   "source": [
    "#How to load and normalize fluo spectra of one file in one go.\n",
    "fluo_da=fluo.load_and_normalize_fluo(name) \n",
    "\n",
    "# prepare kernel\n",
    "kernel_size=15\n",
    "kernel_size_scipp={'spectrum':1, 'wavelength':kernel_size}\n",
    "fluo_da_filt=median_filter(fluo_da, size=kernel_size_scipp)\n",
    "#show effect of median_filter\n",
    "legend_props = {\"show\": True, \"loc\": 1}\n",
    "fig1=sc.plot(sc.collapse(fluo_da, keep='wavelength'), marker='.', title='before any median filter',legend=legend_props)\n",
    "fig2=sc.plot(sc.collapse(fluo_da_filt, keep='wavelength'), marker='.', title=f'after median filter - scipp, size={kernel_size_scipp} ',legend=legend_props)\n",
    "display(fig1,fig2)\n"
   ]
  },
  {
   "cell_type": "code",
   "execution_count": null,
   "metadata": {},
   "outputs": [],
   "source": [
    "fluo_peak_int(\n",
    "    fluo_da: sc.DataArray,\n",
    "    wllim=None,\n",
    "    wulim=None,\n",
    "    wl_unit=None,\n",
    "    medfilter=True,\n",
    "    kernel_size=None,\n",
    "):\n",
    "\n",
    "w\n",
    "fluo.fluo_peak_int"
   ]
  }
 ],
 "metadata": {
  "kernelspec": {
   "display_name": "Python 3.8.12 ('scippneutron')",
   "language": "python",
   "name": "python3"
  },
  "language_info": {
   "codemirror_mode": {
    "name": "ipython",
    "version": 3
   },
   "file_extension": ".py",
   "mimetype": "text/x-python",
   "name": "python",
   "nbconvert_exporter": "python",
   "pygments_lexer": "ipython3",
   "version": "3.8.12"
  },
  "orig_nbformat": 4,
  "vscode": {
   "interpreter": {
    "hash": "410bfb39d85b3112e66f48ab3e53bb74ad7e7b3fb364f756ca860b5a3cf79ca2"
   }
  }
 },
 "nbformat": 4,
 "nbformat_minor": 2
}
