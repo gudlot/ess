{
 "cells": [
  {
   "cell_type": "code",
   "execution_count": 33,
   "metadata": {},
   "outputs": [],
   "source": [
    "from ess.loki.nurf import ill_auxilliary_funcs as ill \n",
    "\n",
    "# standard library imports\n",
    "import itertools\n",
    "import os\n",
    "from typing import Optional, Type, Union\n",
    "\n",
    "\n",
    "# related third party imports\n",
    "import numpy as np\n",
    "import matplotlib.pyplot as plt\n",
    "from matplotlib import cm\n",
    "import matplotlib as mpl\n",
    "import matplotlib.gridspec as gridspec\n",
    "from IPython.display import display, HTML\n",
    "\n",
    "import pandas as pd\n",
    "\n",
    "\n",
    "# local application imports\n",
    "import scipp as sc"
   ]
  },
  {
   "cell_type": "code",
   "execution_count": 59,
   "metadata": {},
   "outputs": [
    {
     "name": "stdout",
     "output_type": "stream",
     "text": [
      "          c0        c1        c2        c3\n",
      "0   0.020322  0.342963  0.001091  0.002585\n",
      "1   0.021896  0.328155  0.001032  0.002607\n",
      "2   0.023440  0.315496  0.000998  0.002630\n",
      "3   0.024809  0.304067  0.001064  0.002617\n",
      "4   0.026086  0.294889  0.000986  0.002641\n",
      "..       ...       ...       ...       ...\n",
      "74  0.183263  0.014833  0.000230  0.007737\n",
      "75  0.187244  0.014312  0.000216  0.007899\n",
      "76  0.191380  0.013891  0.000212  0.008066\n",
      "77  0.195446  0.012842  0.000211  0.008229\n",
      "78  0.199358  0.012320  0.000209  0.008387\n",
      "\n",
      "[79 rows x 4 columns]\n"
     ]
    },
    {
     "data": {
      "text/html": [
       "<div><!-- Original source from -->\n",
       "<!-- https://github.com/jsignell/xarray/blob/1d960933ab252e0f79f7e050e6c9261d55568057/xarray/static/html/icons-svg-inline.html -->\n",
       "<svg style=\"position: absolute; width: 0; height: 0; overflow: hidden\">\n",
       "<defs>\n",
       "<symbol id=\"icon-database\" viewBox=\"0 0 32 32\">\n",
       "<title>Show/Hide data repr</title>\n",
       "<path d=\"M16 0c-8.837 0-16 2.239-16 5v4c0 2.761 7.163 5 16 5s16-2.239 16-5v-4c0-2.761-7.163-5-16-5z\"></path>\n",
       "<path d=\"M16 17c-8.837 0-16-2.239-16-5v6c0 2.761 7.163 5 16 5s16-2.239 16-5v-6c0 2.761-7.163 5-16 5z\"></path>\n",
       "<path d=\"M16 26c-8.837 0-16-2.239-16-5v6c0 2.761 7.163 5 16 5s16-2.239 16-5v-6c0 2.761-7.163 5-16 5z\"></path>\n",
       "</symbol>\n",
       "<symbol id=\"icon-file-text2\" viewBox=\"0 0 32 32\">\n",
       "<title>Show/Hide attributes</title>\n",
       "<path d=\"M28.681 7.159c-0.694-0.947-1.662-2.053-2.724-3.116s-2.169-2.030-3.116-2.724c-1.612-1.182-2.393-1.319-2.841-1.319h-15.5c-1.378 0-2.5 1.121-2.5 2.5v27c0 1.378 1.122 2.5 2.5 2.5h23c1.378 0 2.5-1.122 2.5-2.5v-19.5c0-0.448-0.137-1.23-1.319-2.841zM24.543 5.457c0.959 0.959 1.712 1.825 2.268 2.543h-4.811v-4.811c0.718 0.556 1.584 1.309 2.543 2.268zM28 29.5c0 0.271-0.229 0.5-0.5 0.5h-23c-0.271 0-0.5-0.229-0.5-0.5v-27c0-0.271 0.229-0.5 0.5-0.5 0 0 15.499-0 15.5 0v7c0 0.552 0.448 1 1 1h7v19.5z\"></path>\n",
       "<path d=\"M23 26h-14c-0.552 0-1-0.448-1-1s0.448-1 1-1h14c0.552 0 1 0.448 1 1s-0.448 1-1 1z\"></path>\n",
       "<path d=\"M23 22h-14c-0.552 0-1-0.448-1-1s0.448-1 1-1h14c0.552 0 1 0.448 1 1s-0.448 1-1 1z\"></path>\n",
       "<path d=\"M23 18h-14c-0.552 0-1-0.448-1-1s0.448-1 1-1h14c0.552 0 1 0.448 1 1s-0.448 1-1 1z\"></path>\n",
       "</symbol>\n",
       "</defs>\n",
       "</svg><style id=\"scipp-style-sheet\">.sc-root{--sc-background-color0:var(--jp-layout-color0,#fff);--sc-background-color1:var(--jp-layout-color1,#fcfcfc);--sc-background-color2:var(--jp-layout-color2,#efefef);--sc-inverse-background-color0:var(--jp-inverse-layout-color4,#111);--sc-font-color0:var(--jp-content-font-color0,#000);--sc-font-color1:var(--jp-content-font-color1,#555);--sc-font-color2:var(--jp-content-font-color2,#888);--sc-font-color3:var(--jp-content-font-color3,#ccc);--sc-table-data-color:#f6d028;--sc-table-coords-color:#c6e590;--sc-table-masks-color:#c8c8c8;--sc-table-attrs-color:#ff5555;--sc-table-header-font-color:#111111;}.sc-wrap{font-size:14px;min-width:300px;max-width:800px;}.sc-var-attrs .sc-wrap{padding-left:3em;}.sc-header{padding-top:6px;padding-bottom:6px;margin-bottom:4px;border-bottom:solid 1px #ddd;}.sc-header > div,.sc-header > ul{display:inline;margin-top:0;margin-bottom:0;}.sc-obj-type,.sc-array-name{margin-left:2px;margin-right:10px;}.sc-obj-type{color:var(--sc-font-color1);}.sc-underlying-size{color:var(--sc-font-color2);}.sc-sections,.reveal .sc-sections{padding-left:0 !important;display:grid;grid-template-columns:150px auto auto auto 1fr 20px 20px;}.sc-section-item{display:contents;}.sc-section-item input{display:none;}.sc-section-item input:enabled + label{cursor:pointer;color:var(--sc-font-color1);}.sc-section-item input:enabled + label:hover{color:var(--sc-font-color0);}.sc-section-summary{grid-column:1;font-weight:500;}.sc-section-summary > span{display:inline-block;padding-left:0.5em;}.sc-section-summary-in:disabled + label{color:var(--sc-font-color1);}.sc-section-summary-in + label:before{display:inline-block;content:'►';font-size:11px;width:15px;text-align:center;}.sc-section-summary-in:disabled + label:before{color:var(--sc-font-color3);}.sc-section-summary-in:checked + label:before{content:'▼';}.sc-section-summary-in:checked + label > span{display:none;}.sc-section-summary,.sc-section-inline-details{padding-top:4px;padding-bottom:4px;}.sc-section-inline-details{grid-column:2 / 6;}.sc-section-details{display:none;grid-column:1 / -1;margin-bottom:5px;}.sc-section-summary-in:checked ~ .sc-section-details{display:contents;}.sc-array-wrap{grid-column:1 / -1;display:grid;grid-template-columns:20px auto;}.sc-array-wrap > label{grid-column:1;vertical-align:top;}.sc-preview{color:var(--sc-font-color2);}.sc-array-preview,.sc-array-data{padding:0 5px !important;grid-column:2;}.sc-array-data,.sc-array-in:checked ~ .sc-array-preview{display:none;}.sc-array-in:checked ~ .sc-array-data,.sc-array-preview{display:inline-block;}.sc-dim-list{display:inline-block !important;list-style:none;padding:0 !important;margin:0;}.sc-dim-list li{display:inline-block;padding:0;margin:0!important;}.sc-dim-list:before{content:'(';}.sc-dim-list:after{content:')';}.sc-dim-list li:not(:last-child):after{content:',';padding-right:5px;}.sc-has-index{font-weight:bold;}.sc-var-list,.sc-var-item,.reveal .sc-var-list,.reveal .sc-var-item{display:contents;}.sc-var-item > div,.sc-var-item label,.sc-var-item > .sc-var-name span{background-color:var(--sc-background-color1);margin-bottom:0;}.sc-var-item > .sc-var-name:hover span{padding-right:5px;}.sc-var-list > li:nth-child(odd) > div,.sc-var-list > li:nth-child(odd) > label,.sc-var-list > li:nth-child(odd) > .sc-var-name span{background-color:var(--sc-background-color2);}.sc-var-name{grid-column:1;}.sc-var-dims{grid-column:2;}.sc-var-dtype{grid-column:3;text-align:right;color:var(--sc-font-color2);}.sc-var-unit{grid-column:4;text-align:left;color:var(--sc-font-color1);max-width:50pt;text-overflow:ellipsis;}.sc-value-preview{grid-column:5;}.sc-var-preview-variances{text-align:right;}.sc-sections .sc-section-item .sc-section-summary,.sc-sections .sc-section-item .sc-section-inline-details,.sc-section-item .sc-var-list .sc-var-item > div,.sc-section-item .sc-var-list .sc-var-item > label,.sc-section-details .sc-var-list .sc-var-item > div,.sc-section-details .sc-var-list .sc-var-item > label{margin-top:0;margin-bottom:0;}.sc-var-name,.sc-var-dims,.sc-var-dtype,.sc-var-unit,.sc-preview,.sc-attrs dt{white-space:nowrap;overflow:hidden;text-overflow:ellipsis;padding-right:10px;}.sc-var-name:hover,.sc-var-dims:hover,.sc-var-dtype:hover,.sc-var-unit:hover,.sc-attrs dt:hover{overflow:visible;width:auto;z-index:1;}.sc-var-attrs{display:block;}.sc-var-data,.reveal .sc-var-data{display:none;}.sc-var-attrs,.sc-var-data{background-color:var(--sc-background-color0) !important;padding-bottom:5px !important;}.sc-var-attrs-in:checked ~ .sc-var-attrs{display:none;}.sc-var-data-in:checked ~ .sc-var-data{display:block;}.sc-var-data > table{float:right;}.sc-var-name span,.sc-var-data{padding-left:25px !important;}.sc-var-attrs,.sc-var-data{grid-column:1 / -1;}dl.sc-attrs{padding:0;margin:0;display:grid;grid-template-columns:125px auto;}.sc-attrs dt,dd{padding:0;margin:0;float:left;padding-right:10px;width:auto;}.sc-attrs dt{font-weight:normal;grid-column:1;}.sc-attrs dt:hover span{display:inline-block;padding-right:10px;}.sc-attrs dd{grid-column:2;white-space:pre-wrap;word-break:break-all;}.sc-icon-database,.sc-icon-file-text2{display:inline-block;vertical-align:middle;width:1em;height:1.5em !important;stroke-width:0;stroke:currentColor;fill:currentColor;}label.sc-hide-icon svg{opacity:0;}.sc-standalone-var-name{grid-column:1/3;}.sc-standalone-var-name span{padding-left:25px;padding-right:10px;}.sc-table{border-collapse:collapse;}.sc-title{font-weight:bold;font-size:1.5em;}.sc-subtitle{font-weight:normal;font-style:italic;text-align:left;font-size:1.2em;padding:1px;}.sc-table th,.sc-table td{border:1px solid var(--sc-inverse-background-color0);padding:0 5px 0 5px;}.sc-table th{text-align:center;}.sc-table tr{background-color:var(--sc-background-color1);text-align:right;}.sc-table tr:hover{background-color:var(--sc-background-color2);}.sc-table th.sc-data{background-color:var(--sc-table-data-color);color:var(--sc-table-header-font-color);}.sc-table th.sc-coords{background-color:var(--sc-table-coords-color);color:var(--sc-table-header-font-color);}.sc-table th.sc-masks{background-color:var(--sc-table-masks-color);color:var(--sc-table-header-font-color);}.sc-table th.sc-attrs{background-color:var(--sc-table-attrs-color);color:var(--sc-table-header-font-color);}.sc-table th.sc-subheader{background-color:var(--sc-background-color2);}.sc-table td.sc-padding{background-color:var(--sc-background-color1);border:0 solid var(--sc-background-color1);height:1.2em;}.sc-label{fill:var(--sc-font-color0,#444444);text-anchor:middle;}.sc-name{fill:var(--sc-font-color0,#111111);}.sc-inset-line{stroke:var(--sc-font-color1);stroke-width:0.05;stroke-dasharray:0.2,0.2;}.sc-log-wrap{height:25ex;resize:vertical;overflow-y:scroll;display:flex;flex-direction:column-reverse;border:1px solid;border-color:var(--jp-border-color2);background-color:var(--sc-background-color1);}div.sc-log{line-height:2.5ex;}table.sc-log{table-layout:auto;border-collapse:collapse;}tr.sc-log:nth-child(even){background-color:var(--sc-background-color0);}tr.sc-log > td{vertical-align:top;padding-bottom:0.5ex;}.sc-log-time-stamp{min-width:22ch;font-family:var(--jp-code-font-family);color:var(--sc-font-color2);}.sc-log-level{min-width:10ch;}tr.sc-log-debug td.sc-log-level{color:var(--jp-accent-color1);}tr.sc-log-info td.sc-log-level{color:var(--jp-info-color1);}tr.sc-log-warning td.sc-log-level{color:var(--jp-warn-color1);}tr.sc-log-error td.sc-log-level{font-weight:bold;color:var(--jp-error-color2);}tr.sc-log-critical td.sc-log-level{font-weight:bold;color:var(--sc-background-color0);background-color:var(--jp-error-color1);}.sc-log-message{white-space:pre-wrap;width:100%;}.sc-log-html-payload{white-space:normal;}.sc-log-name{padding-right:0.5em;text-align:right;white-space:pre-wrap;color:var(--sc-font-color3);}</style><div class='sc-wrap sc-root'><div class='sc-header'><div class='sc-obj-type'>scipp.DataArray (2.25 KB)</div></div><ul class='sc-sections'><li class='sc-section-item'><input id='section-1ed84df9-5da7-46dc-85c3-9d2acfe8ff84' class='sc-section-summary-in' type='checkbox' disabled ><label for='section-1ed84df9-5da7-46dc-85c3-9d2acfe8ff84' class='sc-section-summary'  title='Expand/collapse section'>Dimensions:</label><div class='sc-section-inline-details'><ul class='sc-dim-list'><li><span class='sc-has-index'>row</span>: 79</li></ul></div><div class='sc-section-details'></div></li><li class='sc-section-item'><input id='section-28486426-e896-49ec-8f70-f6a07fea92c1' class='sc-section-summary-in' type='checkbox'  checked><label for='section-28486426-e896-49ec-8f70-f6a07fea92c1' class='sc-section-summary' >Coordinates: <span>(1)</span></label><div class='sc-section-inline-details'></div><div class='sc-section-details'><ul class='sc-var-list'><li class='sc-var-item'><div class='sc-var-name'><span class='sc-has-index'>row</span></div><div class='sc-var-dims'>(row)</div><div class='sc-var-dtype'>int64</div><div class='sc-var-unit'>𝟙</div><div class='sc-value-preview sc-preview'><span><div>0, 1, ..., 77, 78</div></span></div><input id='attrs-eb400ce1-074d-41ff-9c68-ab6535f385d0' class='sc-var-attrs-in' type='checkbox' disabled><label for='attrs-eb400ce1-074d-41ff-9c68-ab6535f385d0' class='sc-hide-icon' title='Show/Hide attributes'><svg class='icon sc-icon-file-text2'><use xlink:href='#icon-file-text2'></use></svg></label><input id='data-ddfaee16-3e28-4d38-a433-b5ec9b09ff77' class='sc-var-data-in' type='checkbox'><label for='data-ddfaee16-3e28-4d38-a433-b5ec9b09ff77' title='Show/Hide data repr'><svg class='icon sc-icon-database'><use xlink:href='#icon-database'></use></svg></label><pre class='sc-var-data'>Values:<br>array([ 0,  1,  2,  3,  4,  5,  6,  7,  8,  9, 10, 11, 12, 13, 14, 15, 16,\n",
       "       17, 18, 19, 20, 21, 22, 23, 24, 25, 26, 27, 28, 29, 30, 31, 32, 33,\n",
       "       34, 35, 36, 37, 38, 39, 40, 41, 42, 43, 44, 45, 46, 47, 48, 49, 50,\n",
       "       51, 52, 53, 54, 55, 56, 57, 58, 59, 60, 61, 62, 63, 64, 65, 66, 67,\n",
       "       68, 69, 70, 71, 72, 73, 74, 75, 76, 77, 78])</pre></span></li></ul></div></li><li class='sc-section-item'><input id='section-ea6609fd-69ae-42b3-9780-5c523ff26f3b' class='sc-section-summary-in' type='checkbox'  checked><label for='section-ea6609fd-69ae-42b3-9780-5c523ff26f3b' class='sc-section-summary' >Data: <span>(1)</span></label><div class='sc-section-inline-details'></div><div class='sc-section-details'><ul class='sc-var-list'><li class='sc-var-item'><div class='sc-var-name'><span></span></div><div class='sc-var-dims'>(row)</div><div class='sc-var-dtype'>float64</div><div class='sc-var-unit'>𝟙</div><div class='sc-value-preview sc-preview'><span><div>0.020, 0.022, ..., 0.195, 0.199</div></span></div><input id='attrs-cbfcfc59-84d1-4663-9715-2e578f2279ed' class='sc-var-attrs-in' type='checkbox' disabled><label for='attrs-cbfcfc59-84d1-4663-9715-2e578f2279ed' class='sc-hide-icon' title='Show/Hide attributes'><svg class='icon sc-icon-file-text2'><use xlink:href='#icon-file-text2'></use></svg></label><input id='data-d3ec3113-0758-4e6c-b017-3401a385f7a4' class='sc-var-data-in' type='checkbox'><label for='data-d3ec3113-0758-4e6c-b017-3401a385f7a4' title='Show/Hide data repr'><svg class='icon sc-icon-database'><use xlink:href='#icon-database'></use></svg></label><pre class='sc-var-data'>Values:<br>array([0.02032233, 0.02189554, 0.02343984, 0.0248088 , 0.02608623,\n",
       "       0.02753742, 0.02898937, 0.030363  , 0.03171719, 0.03306899,\n",
       "       0.03444166, 0.03584431, 0.03727536, 0.03868965, 0.04017379,\n",
       "       0.04175552, 0.04327853, 0.0447506 , 0.04636735, 0.04803119,\n",
       "       0.04959319, 0.05120615, 0.05295579, 0.05465637, 0.05629012,\n",
       "       0.05797994, 0.0596601 , 0.0613057 , 0.06298381, 0.06468231,\n",
       "       0.06649156, 0.0683203 , 0.07009735, 0.07192273, 0.07377572,\n",
       "       0.07575358, 0.07777531, 0.07973853, 0.08168701, 0.08366319,\n",
       "       0.0856807 , 0.08779045, 0.08995344, 0.09205211, 0.09421828,\n",
       "       0.09636504, 0.09857414, 0.1008354 , 0.1031344 , 0.1054915 ,\n",
       "       0.1078596 , 0.1102874 , 0.1127562 , 0.1152636 , 0.1178115 ,\n",
       "       0.1203749 , 0.1231055 , 0.1258573 , 0.1286158 , 0.1318636 ,\n",
       "       0.1346532 , 0.1380484 , 0.1409381 , 0.1442771 , 0.147645  ,\n",
       "       0.1506514 , 0.154258  , 0.1575617 , 0.1609244 , 0.1647824 ,\n",
       "       0.1682103 , 0.171739  , 0.1757483 , 0.1795882 , 0.1832626 ,\n",
       "       0.1872437 , 0.1913803 , 0.1954465 , 0.1993579 ])</pre></li></ul></div></li></ul></div></div>"
      ],
      "text/plain": [
       "<scipp.DataArray>\n",
       "Dimensions: Sizes[row:79, ]\n",
       "Coordinates:\n",
       "  row                         int64  [dimensionless]  (row)  [0, 1, ..., 77, 78]\n",
       "Data:\n",
       "  c0                        float64  [dimensionless]  (row)  [0.0203223, 0.0218955, ..., 0.195446, 0.199358]\n"
      ]
     },
     "metadata": {},
     "output_type": "display_data"
    }
   ],
   "source": [
    "#we have to simply life a bit. I copied all bg_substracted.txt into one folder\n",
    "top_path='/Users/gudlo523/Library/CloudStorage/OneDrive-LundUniversity/UU/ILL_947_June_2021/212/d22/exp_9-13-947/processed/SANSData&Analysis/all_bg_subtracted/'\n",
    "os.chdir(top_path)\n",
    "#!ls\n",
    "\n",
    "def complete_SANS_fname(scan_numbers, ext='_bg_subtracted.txt'):\n",
    "    if isinstance(scan_numbers, int):\n",
    "        flist_num = f\"{str(scan_numbers).zfill(6)}{ext}\"\n",
    "\n",
    "    if isinstance(scan_numbers, list):\n",
    "        # convert a list of input numbers to real filename\n",
    "        flist_num = [str(i).zfill(6) + ext for i in scan_numbers]\n",
    "\n",
    "    return flist_num\n",
    "\n",
    "\n",
    "def load_SANStxt(name, path):\n",
    "\n",
    "    if (isinstance(name, list) and len(name)==1):\n",
    "        name=(lambda x: x)(*name)\n",
    "    elif isinstance(name, str):\n",
    "        pass\n",
    "\n",
    "    else:\n",
    "        raise ValueError('Only one filename possible!')\n",
    "\n",
    "    abs_file_path= os.path.join(path, name)\n",
    "\n",
    "    # get the Pandas data frame\n",
    "    col_names=[\"c0\", \"c1\", \"c2\", \"c3\"]\n",
    "    df = pd.read_csv(abs_file_path, header = None, delim_whitespace=True, names=col_names) \n",
    "\n",
    "    print(df)\n",
    "\n",
    "\n",
    "    # convert it to numpy array\n",
    "    #data=df.to_numpy()\n",
    "    data=sc.compat.from_pandas(df[\"c0\"])\n",
    "\n",
    "    return data\n",
    "    #return df\n",
    "\n",
    "def load_multiple_SANStxt(filelist, path):\n",
    "\n",
    "    data_dict={}\n",
    "\n",
    "    if isinstance(filelist, list):\n",
    "        for fname in filelist:\n",
    "\n",
    "            data=load_SANStxt(fname, path)\n",
    "\n",
    "            data_dict[fname]=data\n",
    "\n",
    "    return data_dict\n",
    "\n",
    "\n",
    "exp=[ 65887]#, 65985]\n",
    "\n",
    "filelist_fullname=complete_SANS_fname(exp)\n",
    "\n",
    "df=load_SANStxt(filelist_fullname, top_path)\n",
    "display(df)\n",
    "\n",
    "\n",
    "\n",
    "#file_dict=load_multiple_SANStxt(filelist_fullname, top_path)\n",
    "#test=sc.from_dict(file_dict)\n",
    "#print(test)\n",
    "\n",
    "#def plot_SANSfiles(file_dict):\n",
    "\n",
    "\n",
    "\n",
    "    \n",
    "\n",
    "\n",
    "\n",
    "\n",
    "\n",
    "\n",
    "\n",
    "\n"
   ]
  },
  {
   "cell_type": "code",
   "execution_count": 11,
   "metadata": {},
   "outputs": [
    {
     "name": "stdout",
     "output_type": "stream",
     "text": [
      "/Users/gudlo523/Library/CloudStorage/OneDrive-LundUniversity/UU/ILL_947_June_2021/212/d22/exp_9-13-947/processed/SANSData&Analysis/all_bg_subtracted/065985_bg_subtracted.txt\n"
     ]
    }
   ],
   "source": [
    "abs_file_path=os.path.join(top_path, '065985_bg_subtracted.txt')\n",
    "print(abs_file_path)"
   ]
  },
  {
   "cell_type": "code",
   "execution_count": null,
   "metadata": {},
   "outputs": [],
   "source": []
  }
 ],
 "metadata": {
  "kernelspec": {
   "display_name": "Python 3.9.13 ('dev')",
   "language": "python",
   "name": "python3"
  },
  "language_info": {
   "codemirror_mode": {
    "name": "ipython",
    "version": 3
   },
   "file_extension": ".py",
   "mimetype": "text/x-python",
   "name": "python",
   "nbconvert_exporter": "python",
   "pygments_lexer": "ipython3",
   "version": "3.9.13"
  },
  "orig_nbformat": 4,
  "vscode": {
   "interpreter": {
    "hash": "4396f389b93e7269692bd3bea4c62813bbe379469bde939b058805f538feec11"
   }
  }
 },
 "nbformat": 4,
 "nbformat_minor": 2
}
