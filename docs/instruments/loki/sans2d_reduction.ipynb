{
 "cells": [
  {
   "cell_type": "markdown",
   "id": "9a935df3-c816-4829-99c3-2afa979b7611",
   "metadata": {},
   "source": [
    "# SANS2D data reduction"
   ]
  },
  {
   "cell_type": "code",
   "execution_count": null,
   "id": "8c7f7cf7-0582-4953-a772-a0f87d1cf0e2",
   "metadata": {},
   "outputs": [],
   "source": [
    "import scipp as sc\n",
    "from ess import loki, sans\n",
    "import scippneutron as scn\n",
    "# from ess.loki.load_sans2d import load_isis, load_rkh_q, load_rkh_wav#, load_and_apply_masks, apply_tof_mask\n",
    "# from ess.loki.sans2d.transform_coordinates import setup_offsets, setup_geometry\n",
    "# from ess import sans\n",
    "# from scippneutron.tof.conversions import beamline, elastic_Q"
   ]
  },
  {
   "cell_type": "markdown",
   "id": "bafd7ab4-d478-4c96-8196-69029fb221c4",
   "metadata": {},
   "source": [
    "## Loading data files"
   ]
  },
  {
   "cell_type": "code",
   "execution_count": null,
   "id": "c4fb75ff-683b-4e35-a228-6955ad159efd",
   "metadata": {},
   "outputs": [],
   "source": [
    "path = 'SANS2D_data'\n",
    "\n",
    "sample_run_number = 63114\n",
    "background_run_number = 63159\n",
    "direct_run_number = 63091"
   ]
  },
  {
   "cell_type": "code",
   "execution_count": null,
   "id": "0315d002-9cab-4ae4-8f63-c72a532f716b",
   "metadata": {},
   "outputs": [],
   "source": [
    "ds = sc.Dataset()\n",
    "\n",
    "#Using only one-forth of the full spectra 245760 (reserved for first detector)\n",
    "spectrum_size =  245760//4\n",
    "\n",
    "# Make common tof bins so that dataset items are aligned\n",
    "tof_bins = sc.linspace(dim='tof', start=0, stop=100000, num=2, unit='us')\n",
    "\n",
    "# Sample measurement\n",
    "ds['sample'] = loki.io.load_sans2d(filename=f'{path}/SANS2D000{sample_run_number}.nxs',\n",
    "                                   spectrum_size=spectrum_size, tof_bins=tof_bins)\n",
    "# Background is a measurement with the solvent which the sample is placed in\n",
    "ds['background'] = loki.io.load_sans2d(filename=f'{path}/SANS2D000{background_run_number}.nxs',\n",
    "                                       spectrum_size=spectrum_size, tof_bins=tof_bins)\n",
    "# Direct measurement is with the empty sample holder/cuvette\n",
    "ds['direct'] = loki.io.load_sans2d(filename=f'{path}/SANS2D000{direct_run_number}.nxs',\n",
    "                                   spectrum_size=spectrum_size, tof_bins=tof_bins)"
   ]
  },
  {
   "cell_type": "code",
   "execution_count": null,
   "id": "08d4991f-5dc7-4101-86b3-ba7085712153",
   "metadata": {},
   "outputs": [],
   "source": [
    "ds"
   ]
  },
  {
   "cell_type": "markdown",
   "id": "e3b0b991-85c4-40fe-a903-74b43716a155",
   "metadata": {},
   "source": [
    "## Apply offsets to pixel positions"
   ]
  },
  {
   "cell_type": "code",
   "execution_count": null,
   "id": "a6996c3e-a042-4758-a443-67bd805ec0b0",
   "metadata": {},
   "outputs": [],
   "source": [
    "# Solid angle values\n",
    "pixel_size = 0.0035 * sc.units.m\n",
    "pixel_length = 0.002033984375 * sc.units.m\n",
    "\n",
    "# Coordinate trasnformation\n",
    "sample_pos_z_offset = 0.053 * sc.units.m\n",
    "bench_pos_y_offset = 0.001 * sc.units.m\n",
    "# There is some uncertainity here\n",
    "monitor4_pos_z_offset = -6.719 * sc.units.m\n",
    "\n",
    "# Geometry transformation\n",
    "x_offset = -0.09288 * sc.units.m\n",
    "y_offset = 0.08195 * sc.units.m\n",
    "# z_offset = 0.0 * sc.units.m"
   ]
  },
  {
   "cell_type": "code",
   "execution_count": null,
   "id": "b616d643-8504-4eda-ba7a-bb73b85e7b80",
   "metadata": {},
   "outputs": [],
   "source": [
    "# Change sample position\n",
    "ds.coords[\"sample_position\"].fields.z += sample_pos_z_offset\n",
    "# Apply bench offset to pixel positions\n",
    "ds.coords[\"position\"].fields.y += bench_pos_y_offset\n",
    "\n",
    "for key in ds:\n",
    "    ds[key].attrs[\"monitor4\"].value.coords[\"position\"].fields.z += monitor4_pos_z_offset\n",
    "\n",
    "# Now shift pixels positions to get the correct beam center\n",
    "ds.coords['position'].fields.x += x_offset\n",
    "ds.coords['position'].fields.y += y_offset"
   ]
  },
  {
   "cell_type": "code",
   "execution_count": null,
   "id": "9125c7ef-aa4d-49a8-885d-e6bf02523dcf",
   "metadata": {},
   "outputs": [],
   "source": [
    "# scn.instrument_view(ds['sample'], pixel_size=0.0075)"
   ]
  },
  {
   "cell_type": "markdown",
   "id": "eeb81dd1-078a-495b-8cff-49c474be65dd",
   "metadata": {},
   "source": [
    "## Mask bad pixels"
   ]
  },
  {
   "cell_type": "code",
   "execution_count": null,
   "id": "e54e6899-4842-4b91-82ab-15c5ceef5edb",
   "metadata": {},
   "outputs": [],
   "source": [
    "mask_edges = (\n",
    "    (sc.abs(ds.coords['position'].fields.x - x_offset) > sc.scalar(0.48, unit='m')) |\n",
    "    (sc.abs(ds.coords['position'].fields.y - y_offset) > sc.scalar(0.45, unit='m')))\n",
    "\n",
    "mask_center = sc.sqrt(\n",
    "    ds.coords['position'].fields.x**2 +\n",
    "    ds.coords['position'].fields.y**2) < sc.scalar(0.04, unit='m')\n",
    "# cylindrical_radius = sc.sqrt(\n",
    "#     ds.coords['position'].fields.x**2 +\n",
    "#     ds.coords['position'].fields.y**2)\n",
    "# mask_center = (cylindrical_radius < sc.scalar(0.04, unit='m')) | (cylindrical_radius > sc.scalar(0.4, unit='m'))\n",
    "\n",
    "for key in ds:\n",
    "    ds[key].masks['edges'] = mask_edges\n",
    "    ds[key].masks['center'] = mask_center"
   ]
  },
  {
   "cell_type": "code",
   "execution_count": null,
   "id": "685b6317-3293-4cba-bef3-51cb797e6ed1",
   "metadata": {},
   "outputs": [],
   "source": [
    "scn.instrument_view(ds['sample'], pixel_size=0.0075)"
   ]
  },
  {
   "cell_type": "markdown",
   "id": "79435dc5-e3a9-4c70-b6d2-ff486c500fd2",
   "metadata": {},
   "source": [
    "## Convert data to wavelength"
   ]
  },
  {
   "cell_type": "code",
   "execution_count": null,
   "id": "652aa470-74fe-4036-90e5-4eeead429831",
   "metadata": {},
   "outputs": [],
   "source": [
    "graph = sans.conversions.sans_elastic()\n",
    "sc.show_graph(graph, simplified=True)"
   ]
  },
  {
   "cell_type": "code",
   "execution_count": null,
   "id": "4c2b0c90-a518-4982-8629-b2c09b4e29e0",
   "metadata": {},
   "outputs": [],
   "source": [
    "from scipp.constants import g\n",
    "ds.coords[\"gravity\"] = sc.vector(value=[0, -1, 0]) * g\n",
    "ds_wav = ds.transform_coords(\"wavelength\", graph=graph)\n",
    "ds_wav"
   ]
  },
  {
   "cell_type": "code",
   "execution_count": null,
   "id": "fba5db36-5e09-40b5-b128-8b8b858b0be7",
   "metadata": {},
   "outputs": [],
   "source": [
    "graph_monitor = sans.conversions.sans_monitor()\n",
    "for key in ds:\n",
    "    for m in ['monitor2', 'monitor4']:\n",
    "        ds_wav[key].attrs[m].value = ds[key].attrs[m].value.transform_coords(\"wavelength\", graph=graph_monitor)\n",
    "ds_wav"
   ]
  },
  {
   "cell_type": "markdown",
   "id": "81211ca5-2b4e-46d7-8cea-e5915fc75c6d",
   "metadata": {},
   "source": [
    "## Compute normalization term\n",
    "\n",
    "### Detector efficiency"
   ]
  },
  {
   "cell_type": "code",
   "execution_count": null,
   "id": "2cf8ec38-1236-486f-86aa-bc10479d604e",
   "metadata": {},
   "outputs": [],
   "source": [
    "from ess.wfm.tools import to_bin_edges\n",
    "\n",
    "# Load efficency correction for main detector\n",
    "detector_efficiency_file = 'DIRECT_SANS2D_REAR_34327_4m_8mm_16Feb16.dat'\n",
    "detector_efficiency = loki.io.load_rkh_wav(filename=f'{path}/{detector_efficiency_file}')\n",
    "\n",
    "detector_efficiency.coords['wavelength'] = to_bin_edges(detector_efficiency.coords['wavelength'], 'wavelength')\n",
    "wavelength_min = sc.scalar(2.0, unit='angstrom')\n",
    "wavelength_max = sc.scalar(16.0, unit='angstrom')\n",
    "detector_efficiency = detector_efficiency['wavelength', wavelength_min:wavelength_max].copy(deep=True)"
   ]
  },
  {
   "cell_type": "code",
   "execution_count": null,
   "id": "2e1a056f-ed80-4490-ba54-592ccf10786c",
   "metadata": {},
   "outputs": [],
   "source": [
    "sc.plot(detector_efficiency)"
   ]
  },
  {
   "cell_type": "markdown",
   "id": "bd3a2060-b8fc-457a-bb2a-7d35178e28b8",
   "metadata": {},
   "source": [
    "### Subtract background from monitors and align them to the same wavelength range"
   ]
  },
  {
   "cell_type": "code",
   "execution_count": null,
   "id": "4863eaea-00d7-49fd-90dd-e1804b4824f3",
   "metadata": {},
   "outputs": [],
   "source": [
    "wavelength_bins = detector_efficiency.coords['wavelength']\n",
    "threshold = 30.0 * sc.units.counts\n",
    "\n",
    "sample_incident = sans.normalization.subtract_background_and_rebin(\n",
    "    ds['sample'].attrs[\"monitor2\"].value, wavelength_bins, threshold)\n",
    "sample_transmission = sans.normalization.subtract_background_and_rebin(\n",
    "    ds['sample'].attrs[\"monitor4\"].value, wavelength_bins, threshold)\n",
    "direct_incident = sans.normalization.subtract_background_and_rebin(\n",
    "    ds['direct'].attrs[\"monitor2\"].value, wavelength_bins, threshold)\n",
    "direct_transmission = sans.normalization.subtract_background_and_rebin(\n",
    "    ds['direct'].attrs[\"monitor4\"].value, wavelength_bins, threshold)"
   ]
  },
  {
   "cell_type": "markdown",
   "id": "b26c2f43-0867-40cc-aa38-46a06b2c5615",
   "metadata": {},
   "source": [
    "### Transmission fraction"
   ]
  },
  {
   "cell_type": "code",
   "execution_count": null,
   "id": "3d6f0dbf-dab0-440d-9456-905c48874183",
   "metadata": {},
   "outputs": [],
   "source": [
    "transmission_fraction = sans.normalization.transmission_fraction(\n",
    "    sample_incident=sample_incident, sample_transmission=sample_transmission,\n",
    "    direct_incident=direct_incident, direct_transmission=direct_transmission)\n",
    "transmission_fraction"
   ]
  },
  {
   "cell_type": "code",
   "execution_count": null,
   "id": "65c3a796-cb82-400b-adb7-1baa1d2b98f1",
   "metadata": {},
   "outputs": [],
   "source": [
    "transmission_fraction.plot()"
   ]
  },
  {
   "cell_type": "markdown",
   "id": "894e8329-8987-4565-b070-5d262af746d8",
   "metadata": {},
   "source": [
    "### Solid Angle"
   ]
  },
  {
   "cell_type": "code",
   "execution_count": null,
   "id": "e126e749-3dad-4ad8-a6f9-2d446e0153e4",
   "metadata": {},
   "outputs": [],
   "source": [
    "solid_angle = sans.normalization.solid_angle(ds['sample'], pixel_size=pixel_size, pixel_length=pixel_length)\n",
    "solid_angle"
   ]
  },
  {
   "cell_type": "markdown",
   "id": "bcb15a3f-530d-4c79-bc8a-47be24ebb9bb",
   "metadata": {},
   "source": [
    "### The denominator term"
   ]
  },
  {
   "cell_type": "code",
   "execution_count": null,
   "id": "30250d51-0d6f-4265-b372-881900a16e2a",
   "metadata": {},
   "outputs": [],
   "source": [
    "denominator = solid_angle * (sample_incident * transmission_fraction) * detector_efficiency.data\n",
    "denominator.coords['position'] = ds['sample'].coords['position']\n",
    "denominator.coords['gravity'] = ds['sample'].coords['gravity']\n",
    "denominator"
   ]
  },
  {
   "cell_type": "markdown",
   "id": "bf70d4d7-024f-4663-952e-ec258578076d",
   "metadata": {},
   "source": [
    "## Convert to Q"
   ]
  },
  {
   "cell_type": "code",
   "execution_count": null,
   "id": "4be0e428-ca1d-4840-a787-642e43dda383",
   "metadata": {},
   "outputs": [],
   "source": [
    "ds_q = ds_wav.transform_coords(\"Q\", graph=graph)\n",
    "ds_q"
   ]
  },
  {
   "cell_type": "code",
   "execution_count": null,
   "id": "04b3021b-ee8c-48bb-9202-bbf74d43bd42",
   "metadata": {},
   "outputs": [],
   "source": [
    "q_edges = sc.array(dims=['Q'], values=[0.01, 0.6], unit='1/angstrom')\n",
    "sample_q_binned = sc.bin(ds_q['sample'], edges=[q_edges])\n",
    "sample_q_binned"
   ]
  },
  {
   "cell_type": "code",
   "execution_count": null,
   "id": "948548e0-3467-43d4-aefb-07581ffa8e1b",
   "metadata": {},
   "outputs": [],
   "source": [
    "sample_q_summed = sample_q_binned.bins.concat('spectrum')"
   ]
  },
  {
   "cell_type": "code",
   "execution_count": null,
   "id": "25543ffd-82be-487b-8783-79e1d65b0dc9",
   "metadata": {},
   "outputs": [],
   "source": [
    "sc.plot(sample_q_summed[\"wavelength\", 0], norm=\"log\")"
   ]
  },
  {
   "cell_type": "markdown",
   "id": "8aa0302c-08bb-4c15-b600-744d5496ebda",
   "metadata": {},
   "source": [
    "### Convert denominator to Q"
   ]
  },
  {
   "cell_type": "code",
   "execution_count": null,
   "id": "47b82edf-589e-4119-b544-98f0cfe7d742",
   "metadata": {},
   "outputs": [],
   "source": [
    "denominator_q = denominator.transform_coords(\"Q\", graph=graph)\n",
    "denominator_q"
   ]
  },
  {
   "cell_type": "code",
   "execution_count": null,
   "id": "94c5d690-5b9a-43db-959f-e376ec436ec3",
   "metadata": {},
   "outputs": [],
   "source": [
    "den_q_summed = denominator_q.sum('spectrum')\n",
    "den_q_summed.plot()"
   ]
  },
  {
   "cell_type": "markdown",
   "id": "d5339095-3de4-4727-bcc5-6ca982f58b94",
   "metadata": {},
   "source": [
    "## Normalize the sample"
   ]
  },
  {
   "cell_type": "code",
   "execution_count": null,
   "id": "a1f82882-8142-4cdd-9c65-b2327eb445ba",
   "metadata": {},
   "outputs": [],
   "source": [
    "sample_normalized = sample_q_summed.bins / sc.lookup(func=den_q_summed, dim='wavelength')\n",
    "sample_normalized"
   ]
  },
  {
   "cell_type": "code",
   "execution_count": null,
   "id": "a82c11fe-ecfc-41d2-ac4e-f127ff358b11",
   "metadata": {},
   "outputs": [],
   "source": [
    "sc.plot(sample_normalized['wavelength', 0], norm='log')"
   ]
  },
  {
   "cell_type": "markdown",
   "id": "c9accad9-0a3f-4edc-8478-a47b2da152ce",
   "metadata": {},
   "source": [
    "### Process the background run"
   ]
  },
  {
   "cell_type": "code",
   "execution_count": null,
   "id": "e84aa226-040e-4d41-b2a1-cbcc41e5a06d",
   "metadata": {},
   "outputs": [],
   "source": [
    "transmission_fraction_background = sansnorm.transmission_fraction(\n",
    "    sample=ds['background'],\n",
    "    direct=ds['direct'],\n",
    "    wavelength_bins=wavelength_bins,\n",
    "    threshold=threshold)\n",
    "transmission_fraction_background.plot()"
   ]
  },
  {
   "cell_type": "code",
   "execution_count": null,
   "id": "1fe2bc2a-d476-40af-a2dd-b4cf0f294157",
   "metadata": {},
   "outputs": [],
   "source": [
    "monitor_background = sansnorm.substract_background_and_rebin(\n",
    "    ds['background'].attrs['monitor2'].value, wavelength_bins, threshold).copy(deep=True)\n",
    "norm_background = (monitor_background * transmission_fraction_background) * efficiency_cropped.data\n",
    "denominator_background = solid_angle * norm_background\n",
    "denominator_background.coords['position'] = ds.coords['position']\n",
    "denominator_background.coords['gravity'] = ds.coords['gravity']\n",
    "denominator_background"
   ]
  },
  {
   "cell_type": "code",
   "execution_count": null,
   "id": "86765946-1fe4-4dec-9382-9d4b7f90f6de",
   "metadata": {},
   "outputs": [],
   "source": [
    "q_edges = sc.array(dims=['Q'], values=[0.01, 0.6], unit='1/angstrom')\n",
    "background_q_binned = sc.bin(ds_q['background'], edges=[q_edges])\n",
    "background_q_binned"
   ]
  },
  {
   "cell_type": "code",
   "execution_count": null,
   "id": "2bc2059b-31a0-4001-9aa9-1ba61494d476",
   "metadata": {},
   "outputs": [],
   "source": [
    "background_q_summed = background_q_binned.bins.concat('spectrum')"
   ]
  },
  {
   "cell_type": "code",
   "execution_count": null,
   "id": "65a959d3-f22f-4105-bc6a-a59928d50703",
   "metadata": {},
   "outputs": [],
   "source": [
    "denominator_background_q = denominator_background.transform_coords(\"Q\", graph=graph)\n",
    "denominator_background_q"
   ]
  },
  {
   "cell_type": "code",
   "execution_count": null,
   "id": "16aaf17a-1314-44a6-b74a-5af61bceb73f",
   "metadata": {},
   "outputs": [],
   "source": [
    "den_back_q_summed = denominator_background_q.sum('spectrum')\n",
    "den_back_q_summed.plot()"
   ]
  },
  {
   "cell_type": "code",
   "execution_count": null,
   "id": "428f04dd-aa6b-412c-869e-53d22e599fca",
   "metadata": {},
   "outputs": [],
   "source": [
    "background_normalized = background_q_summed.bins / sc.lookup(func=den_back_q_summed, dim='wavelength')\n",
    "background_normalized"
   ]
  },
  {
   "cell_type": "code",
   "execution_count": null,
   "id": "a53bca9f-8f51-4f79-82ba-343c6291b4c2",
   "metadata": {},
   "outputs": [],
   "source": [
    "sc.plot(background_normalized['wavelength', 0], norm='log')"
   ]
  },
  {
   "cell_type": "markdown",
   "id": "0cca35b6-c36f-4c84-8246-2d11230dc855",
   "metadata": {},
   "source": [
    "## Subtract background"
   ]
  },
  {
   "cell_type": "code",
   "execution_count": null,
   "id": "88d58d24-7c67-4553-b45b-295531367c0a",
   "metadata": {},
   "outputs": [],
   "source": [
    "q_edges = sc.linspace(dim='Q', start=0.01, stop=0.6, num=201, unit='1/angstrom')\n",
    "reduced = sc.bin(sample_normalized['wavelength', 0], edges=[q_edges]).bins.sum() - sc.bin(\n",
    "    background_normalized['wavelength', 0], edges=[q_edges]).bins.sum()"
   ]
  },
  {
   "cell_type": "code",
   "execution_count": null,
   "id": "2aefa670-f5bb-4887-b63f-07f05d908921",
   "metadata": {},
   "outputs": [],
   "source": [
    "reduced"
   ]
  },
  {
   "cell_type": "code",
   "execution_count": null,
   "id": "dcbfc601-95cb-4642-879a-8e3bf49cb0f4",
   "metadata": {},
   "outputs": [],
   "source": [
    "reduced.plot()"
   ]
  },
  {
   "cell_type": "code",
   "execution_count": null,
   "id": "66e05b87-97a7-45bc-9840-547bdd393d2a",
   "metadata": {},
   "outputs": [],
   "source": [
    "reduced.plot(norm='log')"
   ]
  },
  {
   "cell_type": "markdown",
   "id": "00480fcf-5985-4fdc-9608-7fe858275350",
   "metadata": {},
   "source": [
    "## Wavelength slices"
   ]
  },
  {
   "cell_type": "code",
   "execution_count": null,
   "id": "f3f508ea-f43f-47a6-90bb-1c76c131a89a",
   "metadata": {},
   "outputs": [],
   "source": [
    "wav_edges = sc.linspace(dim='wavelength', start=2.0, stop=16.0, num=11, unit='angstrom')"
   ]
  },
  {
   "cell_type": "code",
   "execution_count": null,
   "id": "1d96a535-bf43-4939-97f1-9bdec0289f48",
   "metadata": {},
   "outputs": [],
   "source": [
    "sample_q_summed"
   ]
  },
  {
   "cell_type": "code",
   "execution_count": null,
   "id": "e6193ca3-a527-49f5-8b0e-5896dea31f2d",
   "metadata": {},
   "outputs": [],
   "source": [
    "sample_q_summed.bins.coords['wavelength'] = sample_q_summed.bins.attrs.pop('wavelength')"
   ]
  },
  {
   "cell_type": "code",
   "execution_count": null,
   "id": "6077f889-9a69-4a13-90e0-52b816a61a64",
   "metadata": {},
   "outputs": [],
   "source": [
    "sample_slices = sc.bin(sample_q_summed, edges=[wav_edges])"
   ]
  },
  {
   "cell_type": "code",
   "execution_count": null,
   "id": "cd7b08f2-e7d1-497c-8ca0-536ea8e823c7",
   "metadata": {},
   "outputs": [],
   "source": [
    "sample_slices"
   ]
  },
  {
   "cell_type": "code",
   "execution_count": null,
   "id": "d2114791-ea6c-4b55-b121-ce692fda7f4e",
   "metadata": {},
   "outputs": [],
   "source": [
    "sc.plot(sc.collapse(sample_slices, keep='Q'), norm='log')"
   ]
  },
  {
   "cell_type": "markdown",
   "id": "b24e982b-ec04-4ab4-a7c1-80639db59781",
   "metadata": {},
   "source": [
    "### Normalize"
   ]
  },
  {
   "cell_type": "code",
   "execution_count": null,
   "id": "b901ea16-85a0-4f5a-9a5d-70e027092e58",
   "metadata": {},
   "outputs": [],
   "source": [
    "sample_slices_normalized = sample_slices.bins / sc.lookup(func=den_q_summed, dim='wavelength')\n",
    "sample_slices_normalized"
   ]
  },
  {
   "cell_type": "code",
   "execution_count": null,
   "id": "8c238bee-4169-4e66-bdbd-0863d8323f8d",
   "metadata": {},
   "outputs": [],
   "source": [
    "sc.plot(sc.collapse(sample_slices_normalized, keep='Q'), norm='log')"
   ]
  },
  {
   "cell_type": "markdown",
   "id": "4a665986-2008-494a-844f-a1781e334df6",
   "metadata": {},
   "source": [
    "### Subtract background"
   ]
  },
  {
   "cell_type": "code",
   "execution_count": null,
   "id": "b10f1ab3-d6af-4eff-af5a-65ae110cb718",
   "metadata": {},
   "outputs": [],
   "source": [
    "background_q_summed.bins.coords['wavelength'] = background_q_summed.bins.attrs.pop('wavelength')\n",
    "background_slices = sc.bin(background_q_summed, edges=[wav_edges])\n",
    "background_slices_normalized = background_slices.bins / sc.lookup(func=den_back_q_summed, dim='wavelength')"
   ]
  },
  {
   "cell_type": "code",
   "execution_count": null,
   "id": "ecba9eaf-0c9c-41a5-b1fc-9818acafc85c",
   "metadata": {},
   "outputs": [],
   "source": [
    "q_bins = sc.linspace(dim='Q', start=0.01, stop=0.6, num=201, unit='1/angstrom')\n",
    "reduced_slices = sc.histogram(sample_slices_normalized, bins=q_bins) - sc.histogram(\n",
    "    background_slices_normalized, bins=q_bins)\n",
    "reduced_slices"
   ]
  },
  {
   "cell_type": "code",
   "execution_count": null,
   "id": "8e388f50-9e60-4393-9198-c34bd0655cbf",
   "metadata": {},
   "outputs": [],
   "source": [
    "sc.plot(sc.collapse(reduced_slices, keep='Q'), norm='log')"
   ]
  },
  {
   "cell_type": "code",
   "execution_count": null,
   "id": "8fb15f29-cb17-4f13-b350-c6f853afe6e3",
   "metadata": {},
   "outputs": [],
   "source": [
    "sc.plot(sc.collapse(reduced_slices, keep='Q'))"
   ]
  },
  {
   "cell_type": "code",
   "execution_count": null,
   "id": "f7bb968a-0fa7-4e5f-84e5-7dd4c21c100f",
   "metadata": {},
   "outputs": [],
   "source": [
    "p = sc.plot(sc.collapse(reduced_slices, keep='Q'), norm='log', scale={'Q': 'log'})\n",
    "p.ax.set_xlim(0.01, 0.6)\n",
    "p"
   ]
  },
  {
   "cell_type": "markdown",
   "id": "fc40e876-8e81-4e57-8f12-516f47def5dc",
   "metadata": {},
   "source": [
    "## Wavelength slices take 2"
   ]
  },
  {
   "cell_type": "code",
   "execution_count": null,
   "id": "0bc72168-60df-45cc-a877-6fa7b12a5f26",
   "metadata": {},
   "outputs": [],
   "source": [
    "ds_q"
   ]
  },
  {
   "cell_type": "code",
   "execution_count": null,
   "id": "b0772f36-0551-43b7-b8b7-be19eeff1738",
   "metadata": {},
   "outputs": [],
   "source": [
    "sample_slices = sc.bin(ds_wav['sample'], edges=[wav_edges])\n",
    "sample_slices"
   ]
  },
  {
   "cell_type": "code",
   "execution_count": null,
   "id": "0a2366aa-1fa8-4b6d-8221-3353bc88a63b",
   "metadata": {},
   "outputs": [],
   "source": [
    "q_slices = sample_slices.transform_coords(\"Q\", graph=graph)\n",
    "# q_slices = q_slices.rename_dims({\"wavelength\": \"Q\"})\n",
    "q_slices"
   ]
  },
  {
   "cell_type": "code",
   "execution_count": null,
   "id": "270c3a58-df73-4ac4-990c-ad1855c1304d",
   "metadata": {},
   "outputs": [],
   "source": [
    "q_slices_summed = q_slices.bins.concat('spectrum')\n",
    "q_slices_summed"
   ]
  },
  {
   "cell_type": "code",
   "execution_count": null,
   "id": "0675f63a-6d30-4752-a861-c56def0a6628",
   "metadata": {},
   "outputs": [],
   "source": []
  }
 ],
 "metadata": {
  "kernelspec": {
   "display_name": "Python 3 (ipykernel)",
   "language": "python",
   "name": "python3"
  },
  "language_info": {
   "codemirror_mode": {
    "name": "ipython",
    "version": 3
   },
   "file_extension": ".py",
   "mimetype": "text/x-python",
   "name": "python",
   "nbconvert_exporter": "python",
   "pygments_lexer": "ipython3",
   "version": "3.9.5"
  }
 },
 "nbformat": 4,
 "nbformat_minor": 5
}
