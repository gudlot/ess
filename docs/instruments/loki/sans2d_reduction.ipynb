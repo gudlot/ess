{
 "cells": [
  {
   "cell_type": "markdown",
   "id": "9a935df3-c816-4829-99c3-2afa979b7611",
   "metadata": {},
   "source": [
    "# SANS2D: reducing measurement and backgroud to Q"
   ]
  },
  {
   "cell_type": "code",
   "execution_count": null,
   "id": "8c7f7cf7-0582-4953-a772-a0f87d1cf0e2",
   "metadata": {},
   "outputs": [],
   "source": [
    "import scipp as sc\n",
    "from ess import loki, sans\n",
    "import scippneutron as scn"
   ]
  },
  {
   "cell_type": "markdown",
   "id": "bafd7ab4-d478-4c96-8196-69029fb221c4",
   "metadata": {},
   "source": [
    "## Loading data files"
   ]
  },
  {
   "cell_type": "code",
   "execution_count": null,
   "id": "c4fb75ff-683b-4e35-a228-6955ad159efd",
   "metadata": {},
   "outputs": [],
   "source": [
    "path = 'SANS2D_data'\n",
    "\n",
    "sample_run_number = 63114\n",
    "direct_run_number = 63091\n",
    "background_run_number = 63159"
   ]
  },
  {
   "cell_type": "code",
   "execution_count": null,
   "id": "0315d002-9cab-4ae4-8f63-c72a532f716b",
   "metadata": {},
   "outputs": [],
   "source": [
    "ds = sc.Dataset()\n",
    "\n",
    "#Using only one-forth of the full spectra 245760 (reserved for first detector)\n",
    "spectrum_size =  245760//4\n",
    "\n",
    "# Make common tof bins so that dataset items are aligned\n",
    "tof_bins = sc.linspace(dim='tof', start=0, stop=100000, num=2, unit='us')\n",
    "wavelength_bins = sc.linspace(dim='wavelength', start=2.0, stop=16.0, num=141, unit='angstrom')\n",
    "q_bins = sc.linspace(dim='Q', start=0.01, stop=0.6, num=141, unit='1/angstrom')\n",
    "\n",
    "# Sample measurement\n",
    "ds['sample'] = loki.io.load_sans2d(filename=f'{path}/SANS2D000{sample_run_number}.nxs',\n",
    "                                   spectrum_size=spectrum_size, tof_bins=tof_bins)\n",
    "# Direct measurement is with the empty sample holder/cuvette\n",
    "ds['direct'] = loki.io.load_sans2d(filename=f'{path}/SANS2D000{direct_run_number}.nxs',\n",
    "                                   spectrum_size=spectrum_size, tof_bins=tof_bins)\n",
    "# Background is a measurement with the solvent which the sample is placed in\n",
    "ds['background'] = loki.io.load_sans2d(filename=f'{path}/SANS2D000{background_run_number}.nxs',\n",
    "                                       spectrum_size=spectrum_size, tof_bins=tof_bins)"
   ]
  },
  {
   "cell_type": "code",
   "execution_count": null,
   "id": "08d4991f-5dc7-4101-86b3-ba7085712153",
   "metadata": {},
   "outputs": [],
   "source": [
    "ds"
   ]
  },
  {
   "cell_type": "markdown",
   "id": "e3b0b991-85c4-40fe-a903-74b43716a155",
   "metadata": {},
   "source": [
    "## Apply offsets to pixel positions"
   ]
  },
  {
   "cell_type": "code",
   "execution_count": null,
   "id": "a6996c3e-a042-4758-a443-67bd805ec0b0",
   "metadata": {},
   "outputs": [],
   "source": [
    "# Custom SANS2D position offsets\n",
    "sample_pos_z_offset = 0.053 * sc.units.m\n",
    "bench_pos_y_offset = 0.001 * sc.units.m\n",
    "# There is some uncertainity here\n",
    "monitor4_pos_z_offset = -6.719 * sc.units.m\n",
    "\n",
    "# Geometry transformation\n",
    "x_offset = -0.09288 * sc.units.m\n",
    "y_offset = 0.08195 * sc.units.m\n",
    "# z_offset = 0.0 * sc.units.m"
   ]
  },
  {
   "cell_type": "code",
   "execution_count": null,
   "id": "b616d643-8504-4eda-ba7a-bb73b85e7b80",
   "metadata": {},
   "outputs": [],
   "source": [
    "ds.coords[\"pixel_width\"] = 0.0035 * sc.units.m\n",
    "ds.coords[\"pixel_height\"] = 0.002033984375 * sc.units.m\n",
    "\n",
    "# Change sample position\n",
    "ds.coords[\"sample_position\"].fields.z += sample_pos_z_offset\n",
    "# Apply bench offset to pixel positions\n",
    "ds.coords[\"position\"].fields.y += bench_pos_y_offset\n",
    "\n",
    "for key in ds:\n",
    "    ds[key].attrs[\"monitor4\"].value.coords[\"position\"].fields.z += monitor4_pos_z_offset\n",
    "\n",
    "# Now shift pixels positions to get the correct beam center\n",
    "ds.coords['position'].fields.x += x_offset\n",
    "ds.coords['position'].fields.y += y_offset"
   ]
  },
  {
   "cell_type": "markdown",
   "id": "eeb81dd1-078a-495b-8cff-49c474be65dd",
   "metadata": {},
   "source": [
    "## Mask bad pixels"
   ]
  },
  {
   "cell_type": "code",
   "execution_count": null,
   "id": "e54e6899-4842-4b91-82ab-15c5ceef5edb",
   "metadata": {},
   "outputs": [],
   "source": [
    "mask_edges = (\n",
    "    (sc.abs(ds.coords['position'].fields.x - x_offset) > sc.scalar(0.48, unit='m')) |\n",
    "    (sc.abs(ds.coords['position'].fields.y - y_offset) > sc.scalar(0.45, unit='m')))\n",
    "\n",
    "mask_center = sc.sqrt(\n",
    "    ds.coords['position'].fields.x**2 +\n",
    "    ds.coords['position'].fields.y**2) < sc.scalar(0.04, unit='m')\n",
    "# cylindrical_radius = sc.sqrt(\n",
    "#     ds.coords['position'].fields.x**2 +\n",
    "#     ds.coords['position'].fields.y**2)\n",
    "# mask_center = (cylindrical_radius < sc.scalar(0.04, unit='m')) | (cylindrical_radius > sc.scalar(0.4, unit='m'))\n",
    "\n",
    "for key in ds:\n",
    "    ds[key].masks['edges'] = mask_edges\n",
    "    ds[key].masks['center'] = mask_center"
   ]
  },
  {
   "cell_type": "code",
   "execution_count": null,
   "id": "685b6317-3293-4cba-bef3-51cb797e6ed1",
   "metadata": {},
   "outputs": [],
   "source": [
    "scn.instrument_view(ds['sample'], pixel_size=0.0075)"
   ]
  },
  {
   "cell_type": "markdown",
   "id": "6c5546ab-f30b-4c6a-97db-56965604bfaa",
   "metadata": {},
   "source": [
    "## Load detector efficiency function (measured from direct beam)"
   ]
  },
  {
   "cell_type": "code",
   "execution_count": null,
   "id": "a3a3af2e-4b91-4121-99e2-060fc65d51a6",
   "metadata": {},
   "outputs": [],
   "source": [
    "# Load efficency correction for main detector\n",
    "detector_efficiency_file = 'DIRECT_SANS2D_REAR_34327_4m_8mm_16Feb16.dat'\n",
    "detector_efficiency = loki.io.load_rkh_wav(filename=f'{path}/{detector_efficiency_file}')\n",
    "# Crop (or rebin?) to relevant range\n",
    "detector_efficiency = detector_efficiency['wavelength', wavelength_bins.min():wavelength_bins.max()].copy(deep=True)\n",
    "#\n",
    "# for attr in list(detector_efficiency.attrs.keys()):\n",
    "#     del detector_efficiency.attrs[attr]"
   ]
  },
  {
   "cell_type": "markdown",
   "id": "79435dc5-e3a9-4c70-b6d2-ff486c500fd2",
   "metadata": {},
   "source": [
    "## Use Q1D workflow"
   ]
  },
  {
   "cell_type": "code",
   "execution_count": null,
   "id": "652aa470-74fe-4036-90e5-4eeead429831",
   "metadata": {},
   "outputs": [],
   "source": [
    "sample_q = sans.q1d(data=ds['sample'],\n",
    "        data_incident_monitor=ds['sample'].attrs[\"monitor2\"].value,\n",
    "        data_transmission_monitor=ds['sample'].attrs[\"monitor4\"].value,\n",
    "        direct_incident_monitor=ds['direct'].attrs[\"monitor2\"].value,\n",
    "        direct_transmission_monitor=ds['direct'].attrs[\"monitor4\"].value,\n",
    "        detector_efficiency=detector_efficiency,\n",
    "        wavelength_bins=wavelength_bins,\n",
    "        q_bins=q_bins,\n",
    "        monitor_background_threshold=sc.scalar(30.0, unit='counts'))\n",
    "sample_q"
   ]
  },
  {
   "cell_type": "code",
   "execution_count": null,
   "id": "c767a46d-0067-4996-90da-c5bf467aeacb",
   "metadata": {},
   "outputs": [],
   "source": [
    "sc.plot(sample_q)"
   ]
  },
  {
   "cell_type": "code",
   "execution_count": null,
   "id": "ae389891-984d-4f14-a212-7bb000909177",
   "metadata": {},
   "outputs": [],
   "source": [
    "background_q = sans.q1d(data=ds['background'],\n",
    "        data_incident_monitor=ds['background'].attrs[\"monitor2\"].value,\n",
    "        data_transmission_monitor=ds['background'].attrs[\"monitor4\"].value,\n",
    "        direct_incident_monitor=ds['direct'].attrs[\"monitor2\"].value,\n",
    "        direct_transmission_monitor=ds['direct'].attrs[\"monitor4\"].value,\n",
    "        detector_efficiency=detector_efficiency,\n",
    "        wavelength_bins=wavelength_bins,\n",
    "        q_bins=q_bins,\n",
    "        monitor_background_threshold=sc.scalar(30.0, unit='counts'))"
   ]
  },
  {
   "cell_type": "code",
   "execution_count": null,
   "id": "55e47fc2-cdee-41fd-9400-e17513559c97",
   "metadata": {},
   "outputs": [],
   "source": [
    "background_q.plot()"
   ]
  },
  {
   "cell_type": "code",
   "execution_count": null,
   "id": "27c20c95-0e10-4831-99fa-a0ea4d44e8f2",
   "metadata": {},
   "outputs": [],
   "source": []
  }
 ],
 "metadata": {
  "kernelspec": {
   "display_name": "Python 3 (ipykernel)",
   "language": "python",
   "name": "python3"
  },
  "language_info": {
   "codemirror_mode": {
    "name": "ipython",
    "version": 3
   },
   "file_extension": ".py",
   "mimetype": "text/x-python",
   "name": "python",
   "nbconvert_exporter": "python",
   "pygments_lexer": "ipython3",
   "version": "3.9.5"
  }
 },
 "nbformat": 4,
 "nbformat_minor": 5
}
