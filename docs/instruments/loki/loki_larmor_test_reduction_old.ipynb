{
 "cells": [
  {
   "cell_type": "code",
   "execution_count": 1,
   "metadata": {},
   "outputs": [],
   "source": [
    "import scipp as sc\n",
    "import scippneutron as scn\n",
    "import numpy as np"
   ]
  },
  {
   "cell_type": "code",
   "execution_count": 2,
   "metadata": {},
   "outputs": [],
   "source": [
    "def midpoints(var, dim):\n",
    "    \"\"\"\n",
    "    Utility function for finding middle points of variable\n",
    "    \"\"\"\n",
    "    return 0.5 * (var[dim, 1:] + var[dim, :-1])\n",
    "\n",
    "\n",
    "def to_bin_centers(d, dim):\n",
    "    \"\"\"\n",
    "    Utility function for setting centers of bins\n",
    "    \"\"\"\n",
    "    d.coords[dim] = midpoints(d.coords[dim], dim)\n",
    "    \n",
    "def to_bin_edges(d, dim):\n",
    "    \"\"\"\n",
    "    Utility function for setting bin edges\n",
    "    \"\"\"\n",
    "    centers = d.coords[dim]\n",
    "    del d.coords[dim]\n",
    "    first = 1.5 * centers[dim, 0] - 0.5 * centers[dim, 1]\n",
    "    last = 1.5 * centers[dim, -1] - 0.5 * centers[dim, -2]\n",
    "    bulk = midpoints(centers, dim)\n",
    "    edges = sc.concatenate(first, bulk, dim)\n",
    "    edges = sc.concatenate(edges, last, dim)\n",
    "    d.coords[dim] = edges\n",
    "\n",
    "\n",
    "def map_to_bins(data, dim, edges):\n",
    "    \"\"\"\n",
    "    Utility function for binning data according to preset edges\n",
    "    \"\"\"\n",
    "    data = data.copy()\n",
    "    to_bin_edges(data, dim)\n",
    "    bin_width = data.coords[dim][dim, 1:] - data.coords[dim][dim, :-1]\n",
    "    bin_width.unit = sc.units.one\n",
    "    data *= bin_width\n",
    "    data = sc.rebin(data, dim, edges)\n",
    "    bin_width = edges[dim, 1:] - edges[dim, :-1]\n",
    "    bin_width.unit = sc.units.one\n",
    "    data /= bin_width\n",
    "    return data"
   ]
  },
  {
   "cell_type": "code",
   "execution_count": 3,
   "metadata": {},
   "outputs": [],
   "source": [
    "path = 'Larmor_data'\n",
    "direct_beam_file = 'DirectBeam_20feb_full_v3.dat'\n",
    "moderator_file = 'ModeratorStdDev_TS2_SANS_LETexptl_07Aug2015.txt'\n",
    "sample_run_number = 49338\n",
    "sample_transmission_run_number = 49339\n",
    "background_run_number = 49334\n",
    "background_transmission_run_number = 49335\n",
    "\n",
    "l_collimation = 5.0 * sc.units.m\n",
    "r2 = 4.0824829046386295/1000 *sc.units.m # sample aperture radius\n",
    "r1 = 14.433756729740645/1000 * sc.units.m # source aperture radius\n",
    "dr = 8.0/1000 * sc.units.m # virtual ring width on detector\n",
    "    \n",
    "def load_larmor(run_number):\n",
    "    return scn.load(filename=f'{path}/LARMOR000{run_number}.nxs')\n",
    "\n",
    "def load_rkh(filename):\n",
    "    return sc.neutron.load(\n",
    "           filename=filename,\n",
    "           mantid_alg='LoadRKH',\n",
    "           mantid_args={'FirstColumnValue':'Wavelength'})"
   ]
  },
  {
   "cell_type": "code",
   "execution_count": 4,
   "metadata": {},
   "outputs": [
    {
     "name": "stdout",
     "output_type": "stream",
     "text": [
      "FrameworkManager-[Notice] Welcome to Mantid 6.0.20210412.848\n",
      "FrameworkManager-[Notice] Please cite: http://dx.doi.org/10.1016/j.nima.2014.07.029 and this release: http://dx.doi.org/10.5286/Software/Mantid\n",
      "CheckMantidVersion-[Notice] A new version of Mantid(6.3.0) is available for download from https://download.mantidproject.org\n",
      "DownloadInstrument-[Notice] All instrument definitions up to date\n",
      "Load-[Notice] Load started\n",
      "Load-[Notice] Load successful, Duration 0.84 seconds\n",
      "DeleteWorkspace-[Notice] DeleteWorkspace started\n",
      "DeleteWorkspace-[Notice] DeleteWorkspace successful, Duration 0.00 seconds\n"
     ]
    },
    {
     "name": "stderr",
     "output_type": "stream",
     "text": [
      "Workspace run log 'good_frames' has unrecognised units: 'frames'\n",
      "Workspace run log 'raw_frames' has unrecognised units: 'frames'\n"
     ]
    },
    {
     "name": "stdout",
     "output_type": "stream",
     "text": [
      "Load-[Notice] Load started\n",
      "Load-[Notice] Load successful, Duration 12.80 seconds\n",
      "ExtractMonitors-[Notice] ExtractMonitors started\n",
      "ExtractMonitors-[Notice] ExtractMonitors successful, Duration 0.23 seconds\n"
     ]
    },
    {
     "name": "stderr",
     "output_type": "stream",
     "text": [
      "Workspace run log 'good_frames' has unrecognised units: 'frames'\n",
      "Workspace run log 'raw_frames' has unrecognised units: 'frames'\n"
     ]
    },
    {
     "name": "stdout",
     "output_type": "stream",
     "text": [
      "ExtractSpectra-[Notice] ExtractSpectra started\n",
      "ExtractSpectra-[Notice] ExtractSpectra successful, Duration 0.00 seconds\n",
      "DeleteWorkspace-[Notice] DeleteWorkspace started\n",
      "DeleteWorkspace-[Notice] DeleteWorkspace successful, Duration 0.00 seconds\n",
      "ExtractSpectra-[Notice] ExtractSpectra started\n",
      "ExtractSpectra-[Notice] ExtractSpectra successful, Duration 0.00 seconds\n",
      "DeleteWorkspace-[Notice] DeleteWorkspace started\n",
      "DeleteWorkspace-[Notice] DeleteWorkspace successful, Duration 0.00 seconds\n",
      "ExtractSpectra-[Notice] ExtractSpectra started\n",
      "ExtractSpectra-[Notice] ExtractSpectra successful, Duration 0.00 seconds\n",
      "DeleteWorkspace-[Notice] DeleteWorkspace started\n",
      "DeleteWorkspace-[Notice] DeleteWorkspace successful, Duration 0.00 seconds\n",
      "ExtractSpectra-[Notice] ExtractSpectra started\n",
      "ExtractSpectra-[Notice] ExtractSpectra successful, Duration 0.00 seconds\n",
      "DeleteWorkspace-[Notice] DeleteWorkspace started\n",
      "DeleteWorkspace-[Notice] DeleteWorkspace successful, Duration 0.00 seconds\n",
      "ExtractSpectra-[Notice] ExtractSpectra started\n",
      "ExtractSpectra-[Notice] ExtractSpectra successful, Duration 0.00 seconds\n",
      "DeleteWorkspace-[Notice] DeleteWorkspace started\n",
      "DeleteWorkspace-[Notice] DeleteWorkspace successful, Duration 0.00 seconds\n",
      "ExtractSpectra-[Notice] ExtractSpectra started\n",
      "ExtractSpectra-[Notice] ExtractSpectra successful, Duration 0.00 seconds\n",
      "DeleteWorkspace-[Notice] DeleteWorkspace started\n",
      "DeleteWorkspace-[Notice] DeleteWorkspace successful, Duration 0.00 seconds\n",
      "ExtractSpectra-[Notice] ExtractSpectra started\n",
      "ExtractSpectra-[Notice] ExtractSpectra successful, Duration 0.00 seconds\n",
      "DeleteWorkspace-[Notice] DeleteWorkspace started\n",
      "DeleteWorkspace-[Notice] DeleteWorkspace successful, Duration 0.00 seconds\n",
      "ExtractSpectra-[Notice] ExtractSpectra started\n",
      "ExtractSpectra-[Notice] ExtractSpectra successful, Duration 0.00 seconds\n",
      "DeleteWorkspace-[Notice] DeleteWorkspace started\n",
      "DeleteWorkspace-[Notice] DeleteWorkspace successful, Duration 0.00 seconds\n",
      "ExtractSpectra-[Notice] ExtractSpectra started\n",
      "ExtractSpectra-[Notice] ExtractSpectra successful, Duration 0.00 seconds\n",
      "DeleteWorkspace-[Notice] DeleteWorkspace started\n",
      "DeleteWorkspace-[Notice] DeleteWorkspace successful, Duration 0.00 seconds\n",
      "ExtractSpectra-[Notice] ExtractSpectra started\n",
      "ExtractSpectra-[Notice] ExtractSpectra successful, Duration 0.00 seconds\n",
      "DeleteWorkspace-[Notice] DeleteWorkspace started\n",
      "DeleteWorkspace-[Notice] DeleteWorkspace successful, Duration 0.00 seconds\n",
      "DeleteWorkspace-[Notice] DeleteWorkspace started\n",
      "DeleteWorkspace-[Notice] DeleteWorkspace successful, Duration 0.00 seconds\n",
      "DeleteWorkspace-[Notice] DeleteWorkspace started\n",
      "DeleteWorkspace-[Notice] DeleteWorkspace successful, Duration 0.00 seconds\n",
      "DeleteWorkspace-[Notice] DeleteWorkspace started\n",
      "DeleteWorkspace-[Notice] DeleteWorkspace successful, Duration 0.00 seconds\n",
      "Load-[Notice] Load started\n",
      "Load-[Notice] Load successful, Duration 0.16 seconds\n",
      "DeleteWorkspace-[Notice] DeleteWorkspace started\n",
      "DeleteWorkspace-[Notice] DeleteWorkspace successful, Duration 0.00 seconds\n"
     ]
    },
    {
     "name": "stderr",
     "output_type": "stream",
     "text": [
      "Workspace run log 'good_frames' has unrecognised units: 'frames'\n",
      "Workspace run log 'raw_frames' has unrecognised units: 'frames'\n"
     ]
    },
    {
     "name": "stdout",
     "output_type": "stream",
     "text": [
      "Load-[Notice] Load started\n",
      "Load-[Notice] Load successful, Duration 10.14 seconds\n",
      "ExtractMonitors-[Notice] ExtractMonitors started\n",
      "ExtractMonitors-[Notice] ExtractMonitors successful, Duration 0.16 seconds\n"
     ]
    },
    {
     "name": "stderr",
     "output_type": "stream",
     "text": [
      "Workspace run log 'good_frames' has unrecognised units: 'frames'\n",
      "Workspace run log 'raw_frames' has unrecognised units: 'frames'\n"
     ]
    },
    {
     "name": "stdout",
     "output_type": "stream",
     "text": [
      "ExtractSpectra-[Notice] ExtractSpectra started\n",
      "ExtractSpectra-[Notice] ExtractSpectra successful, Duration 0.00 seconds\n",
      "DeleteWorkspace-[Notice] DeleteWorkspace started\n",
      "DeleteWorkspace-[Notice] DeleteWorkspace successful, Duration 0.00 seconds\n",
      "ExtractSpectra-[Notice] ExtractSpectra started\n",
      "ExtractSpectra-[Notice] ExtractSpectra successful, Duration 0.00 seconds\n",
      "DeleteWorkspace-[Notice] DeleteWorkspace started\n",
      "DeleteWorkspace-[Notice] DeleteWorkspace successful, Duration 0.00 seconds\n",
      "ExtractSpectra-[Notice] ExtractSpectra started\n",
      "ExtractSpectra-[Notice] ExtractSpectra successful, Duration 0.00 seconds\n",
      "DeleteWorkspace-[Notice] DeleteWorkspace started\n",
      "DeleteWorkspace-[Notice] DeleteWorkspace successful, Duration 0.00 seconds\n",
      "ExtractSpectra-[Notice] ExtractSpectra started\n",
      "ExtractSpectra-[Notice] ExtractSpectra successful, Duration 0.00 seconds\n",
      "DeleteWorkspace-[Notice] DeleteWorkspace started\n",
      "DeleteWorkspace-[Notice] DeleteWorkspace successful, Duration 0.00 seconds\n",
      "ExtractSpectra-[Notice] ExtractSpectra started\n",
      "ExtractSpectra-[Notice] ExtractSpectra successful, Duration 0.00 seconds\n",
      "DeleteWorkspace-[Notice] DeleteWorkspace started\n",
      "DeleteWorkspace-[Notice] DeleteWorkspace successful, Duration 0.00 seconds\n",
      "ExtractSpectra-[Notice] ExtractSpectra started\n",
      "ExtractSpectra-[Notice] ExtractSpectra successful, Duration 0.00 seconds\n",
      "DeleteWorkspace-[Notice] DeleteWorkspace started\n",
      "DeleteWorkspace-[Notice] DeleteWorkspace successful, Duration 0.00 seconds\n",
      "ExtractSpectra-[Notice] ExtractSpectra started\n",
      "ExtractSpectra-[Notice] ExtractSpectra successful, Duration 0.00 seconds\n",
      "DeleteWorkspace-[Notice] DeleteWorkspace started\n",
      "DeleteWorkspace-[Notice] DeleteWorkspace successful, Duration 0.00 seconds\n",
      "ExtractSpectra-[Notice] ExtractSpectra started\n",
      "ExtractSpectra-[Notice] ExtractSpectra successful, Duration 0.00 seconds\n",
      "DeleteWorkspace-[Notice] DeleteWorkspace started\n",
      "DeleteWorkspace-[Notice] DeleteWorkspace successful, Duration 0.00 seconds\n",
      "ExtractSpectra-[Notice] ExtractSpectra started\n",
      "ExtractSpectra-[Notice] ExtractSpectra successful, Duration 0.00 seconds\n",
      "DeleteWorkspace-[Notice] DeleteWorkspace started\n",
      "DeleteWorkspace-[Notice] DeleteWorkspace successful, Duration 0.00 seconds\n",
      "ExtractSpectra-[Notice] ExtractSpectra started\n",
      "ExtractSpectra-[Notice] ExtractSpectra successful, Duration 0.00 seconds\n",
      "DeleteWorkspace-[Notice] DeleteWorkspace started\n",
      "DeleteWorkspace-[Notice] DeleteWorkspace successful, Duration 0.00 seconds\n",
      "DeleteWorkspace-[Notice] DeleteWorkspace started\n",
      "DeleteWorkspace-[Notice] DeleteWorkspace successful, Duration 0.00 seconds\n",
      "DeleteWorkspace-[Notice] DeleteWorkspace started\n",
      "DeleteWorkspace-[Notice] DeleteWorkspace successful, Duration 0.00 seconds\n",
      "DeleteWorkspace-[Notice] DeleteWorkspace started\n",
      "DeleteWorkspace-[Notice] DeleteWorkspace successful, Duration 0.00 seconds\n",
      "CPU times: user 37.4 s, sys: 15.9 s, total: 53.3 s\n",
      "Wall time: 38.2 s\n"
     ]
    }
   ],
   "source": [
    "%%time\n",
    "sample_trans = load_larmor(sample_transmission_run_number)\n",
    "sample = load_larmor(sample_run_number)\n",
    "background_trans = load_larmor(background_transmission_run_number)\n",
    "background = load_larmor(background_run_number)"
   ]
  },
  {
   "cell_type": "code",
   "execution_count": 5,
   "metadata": {},
   "outputs": [
    {
     "name": "stdout",
     "output_type": "stream",
     "text": [
      "CPU times: user 8.65 ms, sys: 29.7 ms, total: 38.4 ms\n",
      "Wall time: 11.6 ms\n"
     ]
    }
   ],
   "source": [
    "%%time\n",
    "sample_pos_z_offset = 0.3053 * sc.units.m\n",
    "bench_pos_y_offset = 0.001 * sc.units.m\n",
    "\n",
    "for item in [sample, sample_trans, background, background_trans]:\n",
    "    item.coords['sample_position'].fields.z += sample_pos_z_offset\n",
    "    item.coords['position'].fields.y += bench_pos_y_offset"
   ]
  },
  {
   "cell_type": "code",
   "execution_count": 6,
   "metadata": {},
   "outputs": [
    {
     "name": "stdout",
     "output_type": "stream",
     "text": [
      "CPU times: user 1.58 ms, sys: 4.88 ms, total: 6.47 ms\n",
      "Wall time: 1.63 ms\n"
     ]
    }
   ],
   "source": [
    "%%time\n",
    "wavelength_bins = sc.geomspace(dim='wavelength', start=0.9, stop=13.5, num=110,\n",
    "                              unit='angstrom')\n",
    "\n",
    "q_bins = sc.geomspace(dim='Q', start=0.008, stop=0.6, num=55, unit='1/angstrom')\n"
   ]
  },
  {
   "cell_type": "code",
   "execution_count": 7,
   "metadata": {},
   "outputs": [],
   "source": [
    "def apply_masks(data):\n",
    "    tof = data.coords['tof']\n",
    "    data.masks['bins'] = sc.less(tof['tof',1:], 1500.0 * sc.units.us) | \\\n",
    "                         (sc.greater(tof['tof',:-1], 17500.0 * sc.units.us) & \\\n",
    "                          sc.less(tof['tof',1:], 19000.0 * sc.units.us))\n",
    "    x = data.coords['position'].fields.x\n",
    "    y = data.coords['position'].fields.y\n",
    "    data.masks['beam-stop'] = sc.less(sc.sqrt(x*x+y*y), 0.045 * sc.units.m)\n",
    "    data.masks['tube-ends'] = sc.greater(sc.abs(x), 0.36 * sc.units.m) # roughly all det IDs listed in original\n",
    "    #MaskDetectorsInShape(Workspace=maskWs, ShapeXML=self.maskingPlaneXML) # irrelevant tiny wedge?"
   ]
  },
  {
   "cell_type": "code",
   "execution_count": 8,
   "metadata": {},
   "outputs": [],
   "source": [
    "def transmission_fraction(incident_beam, transmission):\n",
    "    # Approximation based on equations in CalculateTransmission documentation\n",
    "    # TODO proper implementation of mantid.CalculateTransmission\n",
    "    return (transmission / transmission) * (incident_beam / incident_beam)\n",
    "    #CalculateTransmission(SampleRunWorkspace=transWsTmp,\n",
    "    #                      DirectRunWorkspace=transWsTmp,\n",
    "    #                      OutputWorkspace=outWsName,\n",
    "    #                      IncidentBeamMonitor=1,\n",
    "    #                      TransmissionMonitor=4, RebinParams='0.9,-0.025,13.5',\n",
    "    #                      FitMethod='Polynomial',\n",
    "    #                      PolynomialOrder=3, OutputUnfittedData=True)"
   ]
  },
  {
   "cell_type": "code",
   "execution_count": 9,
   "metadata": {},
   "outputs": [],
   "source": [
    "def extract_monitor_background(data, wavelength_bins, begin, end):\n",
    "    \"\"\"\n",
    "    Convertining and rebinning shifted data\n",
    "    \"\"\"\n",
    "    transformed = data - sc.mean(data[\"tof\", begin:end], \"tof\")\n",
    "    transformed = scn.convert(transformed, \"tof\", \"wavelength\", scatter=False)\n",
    "    transformed = sc.rebin(transformed, \"wavelength\", wavelength_bins)\n",
    "    return transformed\n",
    "\n",
    "def setup_transmission(data):\n",
    "    incident_beam = extract_monitor_background(data['spectrum', 0], wavelength_bins, 40000.0*sc.units.us, 99000.0*sc.units.us)\n",
    "    transmission = extract_monitor_background(data['spectrum', 3], wavelength_bins, 88000.0*sc.units.us, 98000.0*sc.units.us)\n",
    "    return transmission_fraction(incident_beam, transmission)"
   ]
  },
  {
   "cell_type": "code",
   "execution_count": 10,
   "metadata": {},
   "outputs": [],
   "source": [
    "def solid_angle(data):\n",
    "    # TODO proper solid angle\n",
    "    # [0.0117188,0.0075,0.0075] bounding box size\n",
    "    pixel_size = 0.0075 * sc.units.m \n",
    "    pixel_length = 0.0117188 * sc.units.m\n",
    "    L2 = scn.L2(data)\n",
    "    return (pixel_size * pixel_length) / (L2 * L2)"
   ]
  },
  {
   "cell_type": "code",
   "execution_count": 11,
   "metadata": {},
   "outputs": [],
   "source": [
    "def q_resolution(lam_edges, moderator, d, l_collimation, r1, r2, dr):\n",
    "    moderator = sc.rebin(moderator, 'wavelength', lam_edges)\n",
    "    \n",
    "    d_lam = lam_edges['wavelength', 1:] - lam_edges['wavelength', :-1] # bin widths\n",
    "    lam = 0.5 * (lam_edges['wavelength', 1:] + lam_edges['wavelength', :-1]) # bin centres\n",
    "    \n",
    "    l2 = scn.L2(d)\n",
    "    theta = scn.scattering_angle(d)  \n",
    "    inv_l3 = (l_collimation + l2) / (l_collimation * l2)\n",
    "    \n",
    "    # Terms in Mildner and Carpenter equation.\n",
    "    # See https://docs.mantidproject.org/nightly/algorithms/TOFSANSResolutionByPixel-v1.html\n",
    "    a1 = (r1/l_collimation)*(r1/l_collimation) * 3.0\n",
    "    a2 = (r2*inv_l3)*(r2*inv_l3) * 3.0\n",
    "    a3 = (dr/l2) * (dr/l2) \n",
    "    q_sq = 4.0 * np.pi * sc.sin(theta) * sc.reciprocal(lam) # keep in wav dim to prevent broadcast\n",
    "    q_sq *= q_sq\n",
    "    \n",
    "    tof = moderator.data.copy()\n",
    "    tof.variances = None # shortcoming of Mantid or Mantid converter?\n",
    "    tof.rename_dims({'wavelength':'tof'}) # TODO overly restrictive check in convert (rename)\n",
    "    tof.unit = sc.units.us\n",
    "    mod = sc.Dataset(coords={\n",
    "      'tof':tof,\n",
    "      'position':sample.coords['position'],\n",
    "      'source_position':sample.coords['source_position'],\n",
    "      'sample_position':sample.coords['sample_position']})\n",
    "    s = scn.convert(mod, 'tof', 'wavelength', scatter='False').coords['wavelength']\n",
    "    \n",
    "    std_dev_lam_sq = (d_lam * d_lam)/12 + s * s\n",
    "    std_dev_lam_sq *= sc.reciprocal(lam * lam)\n",
    "    f = (4 * np.pi * np.pi) * sc.reciprocal(12 * lam * lam)\n",
    "   \n",
    "    return sc.DataArray(f * (a1 + a2 + a3) + (q_sq * std_dev_lam_sq),\n",
    "                        coords={'wavelength':lam, 'spectrum':d.coords['spectrum'].copy()})"
   ]
  },
  {
   "cell_type": "code",
   "execution_count": 12,
   "metadata": {},
   "outputs": [],
   "source": [
    "def q1d(data, transmission, l_collimation, r1, r2, dr, wavelength_bands=None):\n",
    "    transmission = setup_transmission(transmission)\n",
    "    data = data.copy()\n",
    "    apply_masks(data)\n",
    "    data = scn.convert(data, 'tof', 'wavelength', scatter='True')\n",
    "    data = sc.rebin(data, 'wavelength', bins = wavelength_bins)\n",
    "    \n",
    "    monitor = data.coords['monitor1'].value\n",
    "    monitor = extract_monitor_background(\n",
    "        monitor, wavelength_bins, 40000.0*sc.units.us, 99000.0*sc.units.us)\n",
    "        \n",
    "    # this factor seems to be a fudge factor. Explanation pending.\n",
    "    data *= 100.0 / 176.71458676442586\n",
    "\n",
    "    # Setup direct beam and normalise to monitor. I.e. adjust for efficiency of detector across the wavelengths.\n",
    "    direct_beam = load_rkh(filename=f'{path}/{direct_beam_file}')\n",
    "    # This would work assuming that there is a least one wavelength point per bin\n",
    "    #direct_beam = sc.groupby(direct_beam, 'wavelength', bins=monitor.coords['wavelength']).mean('wavelength')\n",
    "    direct_beam = map_to_bins(direct_beam, 'wavelength', monitor.coords['wavelength'])\n",
    "    direct_beam = monitor * transmission * direct_beam\n",
    "\n",
    "    # Estimate qresolution function\n",
    "    moderator = load_rkh(filename=f'{path}/{moderator_file}')\n",
    "    to_bin_edges(moderator, 'wavelength')\n",
    "    \n",
    "    \n",
    "    d = sc.Dataset({'data':data, 'norm':solid_angle(data)*direct_beam})\n",
    "    \n",
    "    if wavelength_bands is None:\n",
    "\n",
    "        #dq_sq = q_resolution(_d.coords['wavelength'], moderator, d, l_collimation, r1, r2, dr)\n",
    "        to_bin_centers(d, 'wavelength')\n",
    "        d = scn.convert(d, 'wavelength', 'Q', out=d, scatter='False') # TODO no gravity yet\n",
    "    \n",
    "        d = sc.histogram(d, q_bins)\n",
    "        d = sc.sum(d, 'spectrum')\n",
    "        I = d['data']/d['norm']\n",
    "    else:\n",
    "       \n",
    "        # Reduce by wavelength slice\n",
    "        n_band = int(wavelength_bands)\n",
    "        high = sc.nanmax(wavelength_bins)\n",
    "        low = sc.nanmin(wavelength_bins)\n",
    "        step = (high.value-low.value)/n_band\n",
    "        range_edges = np.arange(low.value, high.value + step, step)\n",
    "        slices = [slice(sc.Variable(value=i, unit=sc.units.angstrom), sc.Variable(value=j, unit=sc.units.angstrom)) for i, j in zip(range_edges[:-1:], range_edges[1::])]\n",
    "        bands = None\n",
    "        for slc in slices:\n",
    "            _d = d['wavelength', slc].copy()\n",
    "            to_bin_centers(_d, 'wavelength')\n",
    "            _d = sc.neutron.convert(_d, 'wavelength', 'Q', out=_d) # TODO no gravity yet\n",
    "            #dq_sq = q_resolution(_d.coords['wavelength'], moderator, d, l_collimation, r1, r2, dr)\n",
    "            band = sc.histogram(_d, q_bins) # TODO fix scipp to avoid need for copy\n",
    "            band = sc.sum(band, 'spectrum')\n",
    "            bands = sc.concatenate(bands, band, 'wavelength') if bands is not None else band\n",
    "        bands.coords['wavelength'] = sc.Variable(['wavelength'], values=range_edges, unit=sc.units.angstrom)\n",
    "        I = bands['data']/bands['norm']\n",
    "\n",
    "    return I"
   ]
  },
  {
   "cell_type": "code",
   "execution_count": 13,
   "metadata": {},
   "outputs": [
    {
     "ename": "BinEdgeError",
     "evalue": "The input does not have coordinates with bin-edges.",
     "output_type": "error",
     "traceback": [
      "\u001b[0;31m---------------------------------------------------------------------------\u001b[0m",
      "\u001b[0;31mBinEdgeError\u001b[0m                              Traceback (most recent call last)",
      "\u001b[0;32m<timed exec>\u001b[0m in \u001b[0;36m<module>\u001b[0;34m\u001b[0m\n",
      "\u001b[0;32m/var/folders/q3/5vy4nct93wg03ynnn836g49m0000gq/T/ipykernel_9090/1742546000.py\u001b[0m in \u001b[0;36mq1d\u001b[0;34m(data, transmission, l_collimation, r1, r2, dr, wavelength_bands)\u001b[0m\n\u001b[1;32m      4\u001b[0m     \u001b[0mapply_masks\u001b[0m\u001b[0;34m(\u001b[0m\u001b[0mdata\u001b[0m\u001b[0;34m)\u001b[0m\u001b[0;34m\u001b[0m\u001b[0;34m\u001b[0m\u001b[0m\n\u001b[1;32m      5\u001b[0m     \u001b[0mdata\u001b[0m \u001b[0;34m=\u001b[0m \u001b[0mscn\u001b[0m\u001b[0;34m.\u001b[0m\u001b[0mconvert\u001b[0m\u001b[0;34m(\u001b[0m\u001b[0mdata\u001b[0m\u001b[0;34m,\u001b[0m \u001b[0;34m'tof'\u001b[0m\u001b[0;34m,\u001b[0m \u001b[0;34m'wavelength'\u001b[0m\u001b[0;34m,\u001b[0m \u001b[0mscatter\u001b[0m\u001b[0;34m=\u001b[0m\u001b[0;34m'True'\u001b[0m\u001b[0;34m)\u001b[0m\u001b[0;34m\u001b[0m\u001b[0;34m\u001b[0m\u001b[0m\n\u001b[0;32m----> 6\u001b[0;31m     \u001b[0mdata\u001b[0m \u001b[0;34m=\u001b[0m \u001b[0msc\u001b[0m\u001b[0;34m.\u001b[0m\u001b[0mrebin\u001b[0m\u001b[0;34m(\u001b[0m\u001b[0mdata\u001b[0m\u001b[0;34m,\u001b[0m \u001b[0;34m'wavelength'\u001b[0m\u001b[0;34m,\u001b[0m \u001b[0mbins\u001b[0m \u001b[0;34m=\u001b[0m \u001b[0mwavelength_bins\u001b[0m\u001b[0;34m)\u001b[0m\u001b[0;34m\u001b[0m\u001b[0;34m\u001b[0m\u001b[0m\n\u001b[0m\u001b[1;32m      7\u001b[0m \u001b[0;34m\u001b[0m\u001b[0m\n\u001b[1;32m      8\u001b[0m     \u001b[0mmonitor\u001b[0m \u001b[0;34m=\u001b[0m \u001b[0mdata\u001b[0m\u001b[0;34m.\u001b[0m\u001b[0mcoords\u001b[0m\u001b[0;34m[\u001b[0m\u001b[0;34m'monitor1'\u001b[0m\u001b[0;34m]\u001b[0m\u001b[0;34m.\u001b[0m\u001b[0mvalue\u001b[0m\u001b[0;34m\u001b[0m\u001b[0;34m\u001b[0m\u001b[0m\n",
      "\u001b[0;32m~/opt/anaconda3/envs/ess/lib/python3.8/site-packages/scipp/core/operations.py\u001b[0m in \u001b[0;36mrebin\u001b[0;34m(x, dim, bins)\u001b[0m\n\u001b[1;32m    153\u001b[0m     \u001b[0;34m:\u001b[0m\u001b[0;32mreturn\u001b[0m\u001b[0;34m:\u001b[0m \u001b[0mData\u001b[0m \u001b[0mrebinned\u001b[0m \u001b[0maccording\u001b[0m \u001b[0mto\u001b[0m \u001b[0mthe\u001b[0m \u001b[0mnew\u001b[0m \u001b[0mbin\u001b[0m \u001b[0medges\u001b[0m\u001b[0;34m.\u001b[0m\u001b[0;34m\u001b[0m\u001b[0;34m\u001b[0m\u001b[0m\n\u001b[1;32m    154\u001b[0m     \"\"\"\n\u001b[0;32m--> 155\u001b[0;31m     \u001b[0;32mreturn\u001b[0m \u001b[0m_call_cpp_func\u001b[0m\u001b[0;34m(\u001b[0m\u001b[0m_cpp\u001b[0m\u001b[0;34m.\u001b[0m\u001b[0mrebin\u001b[0m\u001b[0;34m,\u001b[0m \u001b[0mx\u001b[0m\u001b[0;34m,\u001b[0m \u001b[0mdim\u001b[0m\u001b[0;34m,\u001b[0m \u001b[0mbins\u001b[0m\u001b[0;34m)\u001b[0m\u001b[0;34m\u001b[0m\u001b[0;34m\u001b[0m\u001b[0m\n\u001b[0m\u001b[1;32m    156\u001b[0m \u001b[0;34m\u001b[0m\u001b[0m\n\u001b[1;32m    157\u001b[0m \u001b[0;34m\u001b[0m\u001b[0m\n",
      "\u001b[0;32m~/opt/anaconda3/envs/ess/lib/python3.8/site-packages/scipp/core/_cpp_wrapper_util.py\u001b[0m in \u001b[0;36mcall_func\u001b[0;34m(func, out, *args, **kwargs)\u001b[0m\n\u001b[1;32m      6\u001b[0m \u001b[0;32mdef\u001b[0m \u001b[0mcall_func\u001b[0m\u001b[0;34m(\u001b[0m\u001b[0mfunc\u001b[0m\u001b[0;34m,\u001b[0m \u001b[0;34m*\u001b[0m\u001b[0margs\u001b[0m\u001b[0;34m,\u001b[0m \u001b[0mout\u001b[0m\u001b[0;34m=\u001b[0m\u001b[0;32mNone\u001b[0m\u001b[0;34m,\u001b[0m \u001b[0;34m**\u001b[0m\u001b[0mkwargs\u001b[0m\u001b[0;34m)\u001b[0m\u001b[0;34m:\u001b[0m\u001b[0;34m\u001b[0m\u001b[0;34m\u001b[0m\u001b[0m\n\u001b[1;32m      7\u001b[0m     \u001b[0;32mif\u001b[0m \u001b[0mout\u001b[0m \u001b[0;32mis\u001b[0m \u001b[0;32mNone\u001b[0m\u001b[0;34m:\u001b[0m\u001b[0;34m\u001b[0m\u001b[0;34m\u001b[0m\u001b[0m\n\u001b[0;32m----> 8\u001b[0;31m         \u001b[0;32mreturn\u001b[0m \u001b[0mfunc\u001b[0m\u001b[0;34m(\u001b[0m\u001b[0;34m*\u001b[0m\u001b[0margs\u001b[0m\u001b[0;34m,\u001b[0m \u001b[0;34m**\u001b[0m\u001b[0mkwargs\u001b[0m\u001b[0;34m)\u001b[0m\u001b[0;34m\u001b[0m\u001b[0;34m\u001b[0m\u001b[0m\n\u001b[0m\u001b[1;32m      9\u001b[0m     \u001b[0;32melse\u001b[0m\u001b[0;34m:\u001b[0m\u001b[0;34m\u001b[0m\u001b[0;34m\u001b[0m\u001b[0m\n\u001b[1;32m     10\u001b[0m         \u001b[0;32mreturn\u001b[0m \u001b[0mfunc\u001b[0m\u001b[0;34m(\u001b[0m\u001b[0;34m*\u001b[0m\u001b[0margs\u001b[0m\u001b[0;34m,\u001b[0m \u001b[0;34m**\u001b[0m\u001b[0mkwargs\u001b[0m\u001b[0;34m,\u001b[0m \u001b[0mout\u001b[0m\u001b[0;34m=\u001b[0m\u001b[0mout\u001b[0m\u001b[0;34m)\u001b[0m\u001b[0;34m\u001b[0m\u001b[0;34m\u001b[0m\u001b[0m\n",
      "\u001b[0;31mBinEdgeError\u001b[0m: The input does not have coordinates with bin-edges."
     ]
    }
   ],
   "source": [
    "%%time\n",
    "sample_q1d = q1d(data=sample, transmission=sample_trans, \n",
    "                 l_collimation=l_collimation, r1=r1, r2=r2, dr=dr, wavelength_bands=None)\n",
    "background_q1d = q1d(data=background, transmission=background_trans,\n",
    "                     l_collimation=l_collimation, r1=r1, r2=r2, dr=dr,  wavelength_bands=None)\n",
    "reduced = sample_q1d - background_q1d\n",
    "\n",
    "reduced.coords['UserFile'] = sc.Variable(\n",
    "    value='USER_Raspino_191E_BCSLarmor_24Feb2020_v1.txt')\n",
    "reduced.coords['Transmission'] = sc.Variable(\n",
    "    value=f'{sample_transmission_run_number}_trans_sample_0.9_13.5_unfitted')\n",
    "reduced.coords['TransmissionCan'] = sc.Variable(\n",
    "    value=f'{background_transmission_run_number}_trans_can_0.9_13.5_unfitted')"
   ]
  },
  {
   "cell_type": "code",
   "execution_count": null,
   "metadata": {},
   "outputs": [],
   "source": [
    "reduced"
   ]
  },
  {
   "cell_type": "code",
   "execution_count": null,
   "metadata": {},
   "outputs": [],
   "source": [
    "from scipp.plot import plot\n",
    "values, stddev = np.loadtxt(\"mantid_reduced.txt\")\n",
    "q = np.loadtxt(\"mantid_reduced_q.txt\")\n",
    "\n",
    "mantid = sc.DataArray(data=sc.Variable(['Q'],\n",
    "                                       values=values,\n",
    "                                       variances=stddev*stddev),\n",
    "                      coords={'Q': sc.Variable(['Q'], unit=sc.units.one/sc.units.angstrom, values=q)})\n",
    "mantid = sc.rebin(mantid, 'Q', reduced.coords['Q'])\n",
    "\n",
    "ds = sc.Dataset({'mantid': mantid, 'scipp': reduced})\n",
    "plot(ds, logy=True)"
   ]
  },
  {
   "cell_type": "code",
   "execution_count": null,
   "metadata": {},
   "outputs": [],
   "source": [
    "%%time\n",
    "sample_q1d = q1d(data=sample,l_collimation=l_collimation, r1=r1, r2=r2, dr=dr, transmission=sample_trans, wavelength_bands=7)\n",
    "background_q1d = q1d(data=background, l_collimation=l_collimation, r1=r1, r2=r2, dr=dr, transmission=background_trans, wavelength_bands=7)\n",
    "reduced = sample_q1d - background_q1d"
   ]
  },
  {
   "cell_type": "code",
   "execution_count": null,
   "metadata": {},
   "outputs": [],
   "source": [
    "reduced"
   ]
  },
  {
   "cell_type": "code",
   "execution_count": null,
   "metadata": {},
   "outputs": [],
   "source": [
    "plot(sc.collapse(reduced, 'Q'), logy=True)\n",
    "plot(reduced, logxy=False) # TODO log plot with NANs, and fix https://github.com/scipp/scipp/issues/1112"
   ]
  }
 ],
 "metadata": {
  "kernelspec": {
   "display_name": "Python 3 (ipykernel)",
   "language": "python",
   "name": "python3"
  },
  "language_info": {
   "codemirror_mode": {
    "name": "ipython",
    "version": 3
   },
   "file_extension": ".py",
   "mimetype": "text/x-python",
   "name": "python",
   "nbconvert_exporter": "python",
   "pygments_lexer": "ipython3",
   "version": "3.8.12"
  }
 },
 "nbformat": 4,
 "nbformat_minor": 4
}
