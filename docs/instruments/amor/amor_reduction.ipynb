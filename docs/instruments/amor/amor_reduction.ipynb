{
 "cells": [
  {
   "cell_type": "markdown",
   "id": "cdf89542-fd5b-4657-8a55-0315ba4e6263",
   "metadata": {},
   "source": [
    "# Data reduction for Amor\n",
    "\n",
    "In this notebook, we will look at the reduction workflow for reflectometry data collected from the PSI\n",
    "[Amor](https://www.psi.ch/en/sinq/amor) instrument.\n",
    "This is a living document and there are plans to update this as necessary with changes in the data reduction methodology and code.\n",
    "\n",
    "We will begin by importing the modules that are necessary for this notebook and loading the data.\n",
    "The `sample.nxs` file is the experimental data file of interest,\n",
    "while `reference.nxs` is the reference measurement of the neutron supermirror."
   ]
  },
  {
   "cell_type": "code",
   "execution_count": null,
   "id": "c55f69ba-80db-4cf7-9b32-3865f952a13d",
   "metadata": {},
   "outputs": [],
   "source": [
    "import scipp as sc\n",
    "import scippneutron as scn\n",
    "from scippneutron.tof import conversions\n",
    "from ess import amor, reflectometry as refl"
   ]
  },
  {
   "cell_type": "markdown",
   "id": "cad22ac0-e9e3-41dc-a428-37c2d459e0f0",
   "metadata": {},
   "source": [
    "## Loading the data\n",
    "\n",
    "We first load the `sample.nxs` file and perform some early preprocessing using the `amor.io.load` function."
   ]
  },
  {
   "cell_type": "code",
   "execution_count": null,
   "id": "ff2c2c9a-ac1f-404a-bef7-559ae85b91af",
   "metadata": {},
   "outputs": [],
   "source": [
    "sample = amor.load(amor.data.get_path(\"sample.nxs\"))\n",
    "sample"
   ]
  },
  {
   "cell_type": "markdown",
   "id": "7d30344d-fc38-483b-a2ff-872c4727dfa2",
   "metadata": {},
   "source": [
    "By simply plotting the data, we get a first glimpse into the data contents."
   ]
  },
  {
   "cell_type": "code",
   "execution_count": null,
   "id": "4d58db96-96bb-4f02-9ed4-c227b778eb8f",
   "metadata": {},
   "outputs": [],
   "source": [
    "sc.plot(sample)"
   ]
  },
  {
   "cell_type": "markdown",
   "id": "61ba61d0-aa66-405a-82a1-44377236c239",
   "metadata": {},
   "source": [
    "It is also possible to show the instrument view using"
   ]
  },
  {
   "cell_type": "code",
   "execution_count": null,
   "id": "77c70704-b45f-4131-aa84-63765a99668a",
   "metadata": {},
   "outputs": [],
   "source": [
    "scn.instrument_view(sample)"
   ]
  },
  {
   "cell_type": "markdown",
   "id": "5844965c-2d8a-4dd8-a080-855945e47ad0",
   "metadata": {},
   "source": [
    "## Coordinate transformation graph\n",
    "\n",
    "We begin by defining the convention for naming angles in our set-up.\n",
    "We use the Fig. 5 from the paper by [Stahn & Glavic (2016)](https://doi.org/10.1016/j.nima.2016.03.007),\n",
    "which is reproduced below (along with its caption).\n",
    "\n",
    "![Figure5](https://ars.els-cdn.com/content/image/1-s2.0-S0168900216300250-gr5.jpg)\n",
    "\n",
    "The yellow area shows the incoming and reflected beam, both with the divergence $\\Delta \\theta$.\n",
    "The inclination of the sample relative to the centre of the incoming beam (here identical to the instrument horizon) is called $\\omega$,\n",
    "and the respective angle of the reflected beam relative to the same axis is $\\gamma$.\n",
    "In general the detector centre is located at $\\gamma_{\\rm D} = 2\\omega$.\n",
    "These are instrument coordinates and should not be confused with the situation on the sample,\n",
    "where the take-off angle of an individual neutron trajectory is called $\\theta$.\n",
    "\n",
    "To compute the `wavelength`, scattering angles `omega` and `theta`, and the `Q` vector for our data,\n",
    "we construct a coordinate transformation graph.\n",
    "\n",
    "It is based on classical conversions from `tof` and pixel `position` to `wavelength`, `two_theta` and `Q`,\n",
    "but comprises a number of modifications.\n",
    "\n",
    "The computation of the scattering angle `omega` ignores the $x$ component of the scattered beam ($L_{2}$) vector,\n",
    "and includes a correction for the Earth's gravitational field which bends the flight path of the neutrons.\n",
    "The angle can be found using the following\n",
    "[expression](https://docs.mantidproject.org/v3.9.0/algorithms/Q1D-v2.html#algm-q1d)\n",
    "\n",
    "$$\\omega = \\frac{1}{2}\\arcsin\\left(\\frac{\\sqrt{x^{2} + \\left(y + \\frac{g m_{\\rm n}}{2 h^{2}} \\lambda^{2} L_{2}^{2}\\right)^{2}}}{L_{2}}\\right)$$\n",
    "\n",
    "where $m_{\\rm n}$ is the neutron mass,\n",
    "$g$ is the acceleration due to gravity,\n",
    "and $h$ is Planck's constant\n",
    "(this assumes the neutrons are all travelling horizontally at the position of the sample).\n",
    "\n",
    "The conversion graph is defined in the reflectometry module,\n",
    "and can be obtained via"
   ]
  },
  {
   "cell_type": "code",
   "execution_count": null,
   "id": "71b31e8c-7138-45a5-a9c1-8eb4e9727b09",
   "metadata": {},
   "outputs": [],
   "source": [
    "graph = refl.conversions.reflectometry_graph()\n",
    "graph"
   ]
  },
  {
   "cell_type": "code",
   "execution_count": null,
   "id": "9f175ada-6ab3-4b2f-a65d-8cbb0abe2d1e",
   "metadata": {},
   "outputs": [],
   "source": [
    "sc.show_graph(graph, simplified=True)"
   ]
  },
  {
   "cell_type": "markdown",
   "id": "e1163c27-a355-432f-b060-f45f8b8bf215",
   "metadata": {},
   "source": [
    "## Computing the wavelength\n",
    "\n",
    "To compute the wavelength of the neutrons,\n",
    "we request the `wavelength` coordinate from the `transform_coords` method by supplying our graph defined above\n",
    "(see [here](https://scipp.github.io/scippneutron/user-guide/coordinate-transformations.html)\n",
    "for more information about using `transform_coords`)"
   ]
  },
  {
   "cell_type": "code",
   "execution_count": null,
   "id": "9a8dade8-11c0-4b43-a8a4-ff431801f7b9",
   "metadata": {},
   "outputs": [],
   "source": [
    "wavelength = sample.transform_coords([\"wavelength\"], graph=graph)\n",
    "wavelength"
   ]
  },
  {
   "cell_type": "code",
   "execution_count": null,
   "id": "c7e4ecca-bb23-4b6c-a056-ebb9dcfa579d",
   "metadata": {},
   "outputs": [],
   "source": [
    "wavelength.bins.concatenate('detector_id').plot()"
   ]
  },
  {
   "cell_type": "markdown",
   "id": "64a6b838-c594-48bc-a85f-3ba9a40088a6",
   "metadata": {},
   "source": [
    "## Compute the Q vector\n",
    "\n",
    "Using the same method, we can compute the $Q$ vector,\n",
    "which now depends on both detector position (id) and wavelength"
   ]
  },
  {
   "cell_type": "code",
   "execution_count": null,
   "id": "8bc2a9e3-ca17-4724-a47e-9bcd22c6919a",
   "metadata": {},
   "outputs": [],
   "source": [
    "q_with_gravity = sample.transform_coords([\"Q\"], graph=graph)\n",
    "q_with_gravity"
   ]
  },
  {
   "cell_type": "code",
   "execution_count": null,
   "id": "6e558e72-2585-4670-bee1-d95de2dfb5aa",
   "metadata": {},
   "outputs": [],
   "source": [
    "q_edges = sc.linspace(dim='Q', start=0.008, stop=0.08,\n",
    "                      num=201, unit='1/angstrom')\n",
    "q_binned_with_g = sc.bin(q_with_gravity, edges=[q_edges])\n",
    "q_summed_with_g = q_binned_with_g.sum('detector_id')\n",
    "sc.plot(q_summed_with_g[\"wavelength\", 0], norm=\"log\")"
   ]
  },
  {
   "cell_type": "markdown",
   "id": "cc8f2bdc-c47f-4c74-80b2-0689ddbda590",
   "metadata": {},
   "source": [
    "## Normalize by the supermirror"
   ]
  },
  {
   "cell_type": "code",
   "execution_count": null,
   "id": "7d88e47d-c0bc-4878-ad95-488cf286d666",
   "metadata": {},
   "outputs": [],
   "source": [
    "reference = amor.load(amor.data.get_path(\"reference.nxs\"))\n",
    "reference"
   ]
  },
  {
   "cell_type": "code",
   "execution_count": null,
   "id": "a085f3e6-7351-4779-96ce-60600a988cf0",
   "metadata": {},
   "outputs": [],
   "source": [
    "ref_wavelength = reference.transform_coords([\"wavelength\"], graph=graph)\n",
    "ref_wavelength.bins.concatenate('detector_id').plot()"
   ]
  },
  {
   "cell_type": "code",
   "execution_count": null,
   "id": "7fd3e32e-cfdf-47fd-a575-87707b55db4c",
   "metadata": {},
   "outputs": [],
   "source": [
    "q_ref = reference.transform_coords([\"Q\"], graph=graph)\n",
    "q_ref"
   ]
  },
  {
   "cell_type": "code",
   "execution_count": null,
   "id": "555477b7-a2be-41c8-b17c-b9053606949c",
   "metadata": {},
   "outputs": [],
   "source": [
    "q_ref_binned = sc.bin(q_ref, edges=[q_edges])\n",
    "q_ref_summed = q_ref_binned.sum('detector_id')\n",
    "sc.plot(q_ref_summed[\"wavelength\", 0], norm=\"log\")"
   ]
  },
  {
   "cell_type": "code",
   "execution_count": null,
   "id": "784c11db-f6d8-4959-8777-3be98aa8ba16",
   "metadata": {},
   "outputs": [],
   "source": [
    "sc.plot(q_summed_with_g[\"wavelength\", 0] / q_ref_summed[\"wavelength\", 0], norm=\"log\")"
   ]
  },
  {
   "cell_type": "markdown",
   "id": "0fc6d74e-e97e-415d-8d1f-6a6396c0e8eb",
   "metadata": {},
   "source": [
    "## Compute the $\\theta$ angle"
   ]
  },
  {
   "cell_type": "code",
   "execution_count": null,
   "id": "30d0d9dd-b4ec-4d57-8314-2c81c9e727d9",
   "metadata": {},
   "outputs": [],
   "source": [
    "sample_theta = sample.transform_coords([\"theta\", \"wavelength\"], graph=graph)\n",
    "sample_theta"
   ]
  },
  {
   "cell_type": "code",
   "execution_count": null,
   "id": "466687c7-7603-40a5-ab8d-f3e23ecdab0a",
   "metadata": {},
   "outputs": [],
   "source": [
    "nbins = 51\n",
    "theta_edges = sc.linspace(dim='theta', start=0.55, stop=1.3, num=nbins, unit='deg')\n",
    "wavelength_edges = sc.linspace(dim='wavelength', start=1.0, stop=15.0, num=nbins, unit='angstrom')\n",
    "binned = sc.bin(sample_theta, edges=[sc.to_unit(theta_edges, 'rad'), wavelength_edges])\n",
    "binned"
   ]
  },
  {
   "cell_type": "code",
   "execution_count": null,
   "id": "87ba276f-d15f-4f51-aafe-748544d5c65a",
   "metadata": {},
   "outputs": [],
   "source": [
    "binned.bins.sum().sum('detector_id').plot()"
   ]
  },
  {
   "cell_type": "code",
   "execution_count": null,
   "id": "791afc0b-ea1e-47e2-a358-32517c4ffa9a",
   "metadata": {},
   "outputs": [],
   "source": []
  }
 ],
 "metadata": {
  "kernelspec": {
   "display_name": "Python 3 (ipykernel)",
   "language": "python",
   "name": "python3"
  },
  "language_info": {
   "codemirror_mode": {
    "name": "ipython",
    "version": 3
   },
   "file_extension": ".py",
   "mimetype": "text/x-python",
   "name": "python",
   "nbconvert_exporter": "python",
   "pygments_lexer": "ipython3",
   "version": "3.9.5"
  }
 },
 "nbformat": 4,
 "nbformat_minor": 5
}
