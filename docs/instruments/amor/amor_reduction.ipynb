{
 "cells": [
  {
   "cell_type": "markdown",
   "id": "cdf89542-fd5b-4657-8a55-0315ba4e6263",
   "metadata": {},
   "source": [
    "# Divergent data reduction for Amor\n",
    "\n",
    "In this notebook, we will look at the reduction workflow for reflectometry data collected from the PSI instrument\n",
    "[Amor](https://www.psi.ch/en/sinq/amor) in [divergent beam mode](https://www.psi.ch/en/sinq/amor/selene).\n",
    "This is a living document and there are plans to update this as necessary with changes in the data reduction methodology and code.\n",
    "\n",
    "We will begin by importing the modules that are necessary for this notebook."
   ]
  },
  {
   "cell_type": "code",
   "execution_count": 1,
   "id": "455b7a61-5a5d-4d94-993c-02fe41c84e50",
   "metadata": {},
   "outputs": [],
   "source": [
    "import scipp as sc\n",
    "from ess import amor, reflectometry\n",
    "from orsopy import fileio\n",
    "import ess"
   ]
  },
  {
   "cell_type": "code",
   "execution_count": 2,
   "id": "1c89f088-0663-49ce-a999-8be271f2e24a",
   "metadata": {},
   "outputs": [
    {
     "data": {
      "application/vnd.jupyter.widget-view+json": {
       "model_id": "260634229aa74ccd90787111f8df9b16",
       "version_major": 2,
       "version_minor": 0
      },
      "text/plain": [
       "VBox(children=(HTML(value='<style id=\"scipp-style-sheet\">.sc-root{--sc-background-color0:var(--jp-layout-color…"
      ]
     },
     "metadata": {},
     "output_type": "display_data"
    }
   ],
   "source": [
    "logger = ess.logging.configure_workflow('amor_reduction',\n",
    "                                        filename='amor.log')"
   ]
  },
  {
   "cell_type": "markdown",
   "id": "dde6c61a-39ed-4e85-af6e-0915baf3ad1b",
   "metadata": {},
   "source": [
    "## The Amor beamline\n",
    "\n",
    "Before we can load the data, we need to define the parameters of the beamline and briefly discuss the measurement philosophy.\n",
    "We begin by defining the convention for naming angles in our set-up.\n",
    "We use the Fig. 5 from the paper by [Stahn & Glavic (2016)](#stahn2016), which is reproduced below (along with its caption).\n",
    "\n",
    "![Figure5](https://ars.els-cdn.com/content/image/1-s2.0-S0168900216300250-gr5.jpg)\n",
    "\n",
    "The yellow area shows the incoming and reflected beam, both with the divergence $\\Delta \\theta$.\n",
    "The inclination of the sample relative to the centre of the incoming beam (here identical to the instrument horizon) is called $\\omega$, and the respective angle of the reflected beam relative to the same axis is $\\gamma$.\n",
    "\n",
    "In general the detector centre is located at $\\gamma_{\\rm D} = 2\\omega$.\n",
    "These are instrument coordinates and should not be confused with the situation on the sample, where the take-off angle of an individual neutron trajectory is called $\\theta$.\n",
    "\n",
    "### The supermirror reference\n",
    "\n",
    "The normalisation of data from the Amor instrument in divergent mode requires a reference measurement of a neutron supermirror.\n",
    "The supermirror is not a perfect supermirror, and is described with some properties, an $m$-value, a critical edge, and an $\\alpha$, from which we can calibrate the supermirror. \n",
    "This reference measurement facilitates two normalisations on our data:\n",
    "- normalisation of neutron count per unit time, assuming that the instrument flux is constant between the supermirror measurement and our sample measurement,\n",
    "- normalisation over the detector pixels, to account for differences in pixel efficiency.\n",
    "It is important when this normalisation is performed that the differences in count time and beam footprint are accounted for such that the measurements are commensurate.\n",
    "\n",
    "The `amor` module provides a helper function that generates the default beamline parameters.\n",
    "This function requires the sample rotation angle ($\\omega$) as an input to fully define the beamline.\n",
    "In the future, all these beamline parameters (including the sample rotation) will be included in the file meta data.\n",
    "For now, we must define this manually, and the rotation is different for the sample and reference files."
   ]
  },
  {
   "cell_type": "code",
   "execution_count": 3,
   "id": "f7f0a7b0-39b5-43d4-bf36-a2dada783eed",
   "metadata": {},
   "outputs": [],
   "source": [
    "sample_rotation = sc.scalar(0.7989, unit='deg')\n",
    "sample_beamline = amor.make_beamline(sample_rotation=sample_rotation)\n",
    "reference_rotation = sc.scalar(0.7589, unit='deg')\n",
    "reference_beamline = amor.make_beamline(sample_rotation=reference_rotation)"
   ]
  },
  {
   "cell_type": "markdown",
   "id": "4d50fbee-cc27-4347-b5bc-48850d954041",
   "metadata": {},
   "source": [
    "## Loading the data\n",
    "\n",
    "The `sample.nxs` file is the experimental data file of interest,\n",
    "while `reference.nxs` is the reference measurement of the neutron supermirror.\n",
    "The `amor.load` function can be used to load these files and perform some early preprocessing:\n",
    "\n",
    "- The `tof` values are converted from nanoseconds to microseconds.\n",
    "- The raw data contains events coming from two pulses, and these get folded into a single `tof` range.\n",
    "\n",
    "We show and plot the resulting `scipp.DataArray` for just the `sample` below. "
   ]
  },
  {
   "cell_type": "code",
   "execution_count": 4,
   "id": "ff2c2c9a-ac1f-404a-bef7-559ae85b91af",
   "metadata": {},
   "outputs": [
    {
     "data": {
      "text/html": [
       "<div><!-- Original source from -->\n",
       "<!-- https://github.com/jsignell/xarray/blob/1d960933ab252e0f79f7e050e6c9261d55568057/xarray/static/html/icons-svg-inline.html -->\n",
       "<svg style=\"position: absolute; width: 0; height: 0; overflow: hidden\">\n",
       "<defs>\n",
       "<symbol id=\"icon-database\" viewBox=\"0 0 32 32\">\n",
       "<title>Show/Hide data repr</title>\n",
       "<path d=\"M16 0c-8.837 0-16 2.239-16 5v4c0 2.761 7.163 5 16 5s16-2.239 16-5v-4c0-2.761-7.163-5-16-5z\"></path>\n",
       "<path d=\"M16 17c-8.837 0-16-2.239-16-5v6c0 2.761 7.163 5 16 5s16-2.239 16-5v-6c0 2.761-7.163 5-16 5z\"></path>\n",
       "<path d=\"M16 26c-8.837 0-16-2.239-16-5v6c0 2.761 7.163 5 16 5s16-2.239 16-5v-6c0 2.761-7.163 5-16 5z\"></path>\n",
       "</symbol>\n",
       "<symbol id=\"icon-file-text2\" viewBox=\"0 0 32 32\">\n",
       "<title>Show/Hide attributes</title>\n",
       "<path d=\"M28.681 7.159c-0.694-0.947-1.662-2.053-2.724-3.116s-2.169-2.030-3.116-2.724c-1.612-1.182-2.393-1.319-2.841-1.319h-15.5c-1.378 0-2.5 1.121-2.5 2.5v27c0 1.378 1.122 2.5 2.5 2.5h23c1.378 0 2.5-1.122 2.5-2.5v-19.5c0-0.448-0.137-1.23-1.319-2.841zM24.543 5.457c0.959 0.959 1.712 1.825 2.268 2.543h-4.811v-4.811c0.718 0.556 1.584 1.309 2.543 2.268zM28 29.5c0 0.271-0.229 0.5-0.5 0.5h-23c-0.271 0-0.5-0.229-0.5-0.5v-27c0-0.271 0.229-0.5 0.5-0.5 0 0 15.499-0 15.5 0v7c0 0.552 0.448 1 1 1h7v19.5z\"></path>\n",
       "<path d=\"M23 26h-14c-0.552 0-1-0.448-1-1s0.448-1 1-1h14c0.552 0 1 0.448 1 1s-0.448 1-1 1z\"></path>\n",
       "<path d=\"M23 22h-14c-0.552 0-1-0.448-1-1s0.448-1 1-1h14c0.552 0 1 0.448 1 1s-0.448 1-1 1z\"></path>\n",
       "<path d=\"M23 18h-14c-0.552 0-1-0.448-1-1s0.448-1 1-1h14c0.552 0 1 0.448 1 1s-0.448 1-1 1z\"></path>\n",
       "</symbol>\n",
       "</defs>\n",
       "</svg><style id=\"scipp-style-sheet\">.sc-root{--sc-background-color0:var(--jp-layout-color0,#fff);--sc-background-color1:var(--jp-layout-color1,#fcfcfc);--sc-background-color2:var(--jp-layout-color2,#efefef);--sc-inverse-background-color0:var(--jp-inverse-layout-color4,#111);--sc-font-color0:var(--jp-content-font-color0,#000);--sc-font-color1:var(--jp-content-font-color1,#555);--sc-font-color2:var(--jp-content-font-color2,#888);--sc-font-color3:var(--jp-content-font-color3,#ccc);--sc-table-data-color:#f6d028;--sc-table-coords-color:#c6e590;--sc-table-masks-color:#c8c8c8;--sc-table-attrs-color:#ff5555;--sc-table-header-font-color:#111111;}.sc-wrap{font-size:14px;min-width:300px;max-width:800px;}.sc-var-attrs .sc-wrap{padding-left:3em;}.sc-header{padding-top:6px;padding-bottom:6px;margin-bottom:4px;border-bottom:solid 1px #ddd;}.sc-header > div,.sc-header > ul{display:inline;margin-top:0;margin-bottom:0;}.sc-obj-type,.sc-array-name{margin-left:2px;margin-right:10px;}.sc-obj-type{color:var(--sc-font-color1);}.sc-underlying-size{color:var(--sc-font-color2);}.sc-sections,.reveal .sc-sections{padding-left:0 !important;display:grid;grid-template-columns:150px auto auto auto 1fr 20px 20px;}.sc-section-item{display:contents;}.sc-section-item input{display:none;}.sc-section-item input:enabled + label{cursor:pointer;color:var(--sc-font-color1);}.sc-section-item input:enabled + label:hover{color:var(--sc-font-color0);}.sc-section-summary{grid-column:1;font-weight:500;}.sc-section-summary > span{display:inline-block;padding-left:0.5em;}.sc-section-summary-in:disabled + label{color:var(--sc-font-color1);}.sc-section-summary-in + label:before{display:inline-block;content:'►';font-size:11px;width:15px;text-align:center;}.sc-section-summary-in:disabled + label:before{color:var(--sc-font-color3);}.sc-section-summary-in:checked + label:before{content:'▼';}.sc-section-summary-in:checked + label > span{display:none;}.sc-section-summary,.sc-section-inline-details{padding-top:4px;padding-bottom:4px;}.sc-section-inline-details{grid-column:2 / 6;}.sc-section-details{display:none;grid-column:1 / -1;margin-bottom:5px;}.sc-section-summary-in:checked ~ .sc-section-details{display:contents;}.sc-array-wrap{grid-column:1 / -1;display:grid;grid-template-columns:20px auto;}.sc-array-wrap > label{grid-column:1;vertical-align:top;}.sc-preview{color:var(--sc-font-color2);}.sc-array-preview,.sc-array-data{padding:0 5px !important;grid-column:2;}.sc-array-data,.sc-array-in:checked ~ .sc-array-preview{display:none;}.sc-array-in:checked ~ .sc-array-data,.sc-array-preview{display:inline-block;}.sc-dim-list{display:inline-block !important;list-style:none;padding:0 !important;margin:0;}.sc-dim-list li{display:inline-block;padding:0;margin:0!important;}.sc-dim-list:before{content:'(';}.sc-dim-list:after{content:')';}.sc-dim-list li:not(:last-child):after{content:',';padding-right:5px;}.sc-has-index{font-weight:bold;}.sc-var-list,.sc-var-item,.reveal .sc-var-list,.reveal .sc-var-item{display:contents;}.sc-var-item > div,.sc-var-item label,.sc-var-item > .sc-var-name span{background-color:var(--sc-background-color1);margin-bottom:0;}.sc-var-item > .sc-var-name:hover span{padding-right:5px;}.sc-var-list > li:nth-child(odd) > div,.sc-var-list > li:nth-child(odd) > label,.sc-var-list > li:nth-child(odd) > .sc-var-name span{background-color:var(--sc-background-color2);}.sc-var-name{grid-column:1;}.sc-var-dims{grid-column:2;}.sc-var-dtype{grid-column:3;text-align:right;color:var(--sc-font-color2);}.sc-var-unit{grid-column:4;text-align:left;color:var(--sc-font-color1);max-width:50pt;text-overflow:ellipsis;}.sc-value-preview{grid-column:5;}.sc-var-preview-variances{text-align:right;}.sc-sections .sc-section-item .sc-section-summary,.sc-sections .sc-section-item .sc-section-inline-details,.sc-section-item .sc-var-list .sc-var-item > div,.sc-section-item .sc-var-list .sc-var-item > label,.sc-section-details .sc-var-list .sc-var-item > div,.sc-section-details .sc-var-list .sc-var-item > label{margin-top:0;margin-bottom:0;}.sc-var-name,.sc-var-dims,.sc-var-dtype,.sc-var-unit,.sc-preview,.sc-attrs dt{white-space:nowrap;overflow:hidden;text-overflow:ellipsis;padding-right:10px;}.sc-var-name:hover,.sc-var-dims:hover,.sc-var-dtype:hover,.sc-var-unit:hover,.sc-attrs dt:hover{overflow:visible;width:auto;z-index:1;}.sc-var-attrs{display:block;}.sc-var-data,.reveal .sc-var-data{display:none;}.sc-var-attrs,.sc-var-data{background-color:var(--sc-background-color0) !important;padding-bottom:5px !important;}.sc-var-attrs-in:checked ~ .sc-var-attrs{display:none;}.sc-var-data-in:checked ~ .sc-var-data{display:block;}.sc-var-data > table{float:right;}.sc-var-name span,.sc-var-data{padding-left:25px !important;}.sc-var-attrs,.sc-var-data{grid-column:1 / -1;}dl.sc-attrs{padding:0;margin:0;display:grid;grid-template-columns:125px auto;}.sc-attrs dt,dd{padding:0;margin:0;float:left;padding-right:10px;width:auto;}.sc-attrs dt{font-weight:normal;grid-column:1;}.sc-attrs dt:hover span{display:inline-block;padding-right:10px;}.sc-attrs dd{grid-column:2;white-space:pre-wrap;word-break:break-all;}.sc-icon-database,.sc-icon-file-text2{display:inline-block;vertical-align:middle;width:1em;height:1.5em !important;stroke-width:0;stroke:currentColor;fill:currentColor;}label.sc-hide-icon svg{opacity:0;}.sc-standalone-var-name{grid-column:1/3;}.sc-standalone-var-name span{padding-left:25px;padding-right:10px;}.sc-table{border-collapse:collapse;}.sc-title{font-weight:bold;font-size:1.5em;}.sc-subtitle{font-weight:normal;font-style:italic;text-align:left;font-size:1.2em;padding:1px;}.sc-table th,.sc-table td{border:1px solid var(--sc-inverse-background-color0);padding:0 5px 0 5px;}.sc-table th{text-align:center;}.sc-table tr{background-color:var(--sc-background-color1);text-align:right;}.sc-table tr:hover{background-color:var(--sc-background-color2);}.sc-table th.sc-data{background-color:var(--sc-table-data-color);color:var(--sc-table-header-font-color);}.sc-table th.sc-coords{background-color:var(--sc-table-coords-color);color:var(--sc-table-header-font-color);}.sc-table th.sc-masks{background-color:var(--sc-table-masks-color);color:var(--sc-table-header-font-color);}.sc-table th.sc-attrs{background-color:var(--sc-table-attrs-color);color:var(--sc-table-header-font-color);}.sc-table th.sc-subheader{background-color:var(--sc-background-color2);}.sc-table td.sc-padding{background-color:var(--sc-background-color1);border:0 solid var(--sc-background-color1);height:1.2em;}.sc-label{fill:var(--sc-font-color0,#444444);text-anchor:middle;}.sc-name{fill:var(--sc-font-color0,#111111);}.sc-inset-line{stroke:var(--sc-font-color1);stroke-width:0.05;stroke-dasharray:0.2,0.2;}.sc-log-wrap{height:25ex;resize:vertical;overflow-y:scroll;display:flex;flex-direction:column-reverse;border:1px solid;border-color:var(--jp-border-color2);background-color:var(--sc-background-color1);}div.sc-log{line-height:2.5ex;}table.sc-log{table-layout:auto;border-collapse:collapse;}tr.sc-log:nth-child(even){background-color:var(--sc-background-color0);}tr.sc-log > td{vertical-align:top;padding-bottom:0.5ex;}.sc-log-time-stamp{min-width:22ch;font-family:var(--jp-code-font-family);color:var(--sc-font-color2);}.sc-log-level{min-width:10ch;}tr.sc-log-debug td.sc-log-level{color:var(--jp-accent-color1);}tr.sc-log-info td.sc-log-level{color:var(--jp-info-color1);}tr.sc-log-warning td.sc-log-level{color:var(--jp-warn-color1);}tr.sc-log-error td.sc-log-level{font-weight:bold;color:var(--jp-error-color2);}tr.sc-log-critical td.sc-log-level{font-weight:bold;color:var(--sc-background-color0);background-color:var(--jp-error-color1);}.sc-log-message{white-space:pre-wrap;width:100%;}.sc-log-html-payload{white-space:normal;}.sc-log-name{padding-right:0.5em;text-align:right;white-space:pre-wrap;color:var(--sc-font-color3);}</style><div class='sc-wrap sc-root'><div class='sc-header'><div class='sc-obj-type'>scipp.DataArray (6.59 MB)</div></div><ul class='sc-sections'><li class='sc-section-item'><input id='section-18f103bd-37c4-4e8d-9dc1-37dbb2ea3df2' class='sc-section-summary-in' type='checkbox' disabled ><label for='section-18f103bd-37c4-4e8d-9dc1-37dbb2ea3df2' class='sc-section-summary'  title='Expand/collapse section'>Dimensions:</label><div class='sc-section-inline-details'><ul class='sc-dim-list'><li><span class='sc-has-index'>detector_id</span>: 9216</li><li><span class='sc-has-index'>tof</span>: 1</li></ul></div><div class='sc-section-details'></div></li><li class='sc-section-item'><input id='section-79ae8c87-d2aa-4f64-a073-864065b0ad6d' class='sc-section-summary-in' type='checkbox'  checked><label for='section-79ae8c87-d2aa-4f64-a073-864065b0ad6d' class='sc-section-summary' >Coordinates: <span>(12)</span></label><div class='sc-section-inline-details'></div><div class='sc-section-details'><ul class='sc-var-list'><li class='sc-var-item'><div class='sc-var-name'><span>beam_size</span></div><div class='sc-var-dims'>()</div><div class='sc-var-dtype'>float64</div><div class='sc-var-unit'>mm</div><div class='sc-value-preview sc-preview'><span><div>2.0</div></span></div><input id='attrs-3a79a326-9ad8-4c6f-8bac-adc89518a7ea' class='sc-var-attrs-in' type='checkbox' disabled><label for='attrs-3a79a326-9ad8-4c6f-8bac-adc89518a7ea' class='sc-hide-icon' title='Show/Hide attributes'><svg class='icon sc-icon-file-text2'><use xlink:href='#icon-file-text2'></use></svg></label><input id='data-9c54b351-4525-47a9-9441-271a5db0cfad' class='sc-var-data-in' type='checkbox'><label for='data-9c54b351-4525-47a9-9441-271a5db0cfad' title='Show/Hide data repr'><svg class='icon sc-icon-database'><use xlink:href='#icon-database'></use></svg></label><pre class='sc-var-data'>Values:<br>array(2.)</pre></span></li><li class='sc-var-item'><div class='sc-var-name'><span>chopper_chopper_distance</span></div><div class='sc-var-dims'>()</div><div class='sc-var-dtype'>float64</div><div class='sc-var-unit'>m</div><div class='sc-value-preview sc-preview'><span><div>0.49</div></span></div><input id='attrs-f258f5bc-f006-43ed-80f9-a07cba9b92fe' class='sc-var-attrs-in' type='checkbox' disabled><label for='attrs-f258f5bc-f006-43ed-80f9-a07cba9b92fe' class='sc-hide-icon' title='Show/Hide attributes'><svg class='icon sc-icon-file-text2'><use xlink:href='#icon-file-text2'></use></svg></label><input id='data-cbcf0cad-34b4-4ee8-8f91-c4cec93de8ee' class='sc-var-data-in' type='checkbox'><label for='data-cbcf0cad-34b4-4ee8-8f91-c4cec93de8ee' title='Show/Hide data repr'><svg class='icon sc-icon-database'><use xlink:href='#icon-database'></use></svg></label><pre class='sc-var-data'>Values:<br>array(0.49)</pre></span></li><li class='sc-var-item'><div class='sc-var-name'><span class='sc-has-index'>detector_id</span></div><div class='sc-var-dims'>(detector_id)</div><div class='sc-var-dtype'>int32</div><div class='sc-var-unit'></div><div class='sc-value-preview sc-preview'><span><div>1, 2, ..., 9215, 9216</div></span></div><input id='attrs-58917072-68cc-41ae-b3ad-3342e8fa4f00' class='sc-var-attrs-in' type='checkbox' disabled><label for='attrs-58917072-68cc-41ae-b3ad-3342e8fa4f00' class='sc-hide-icon' title='Show/Hide attributes'><svg class='icon sc-icon-file-text2'><use xlink:href='#icon-file-text2'></use></svg></label><input id='data-db034cf2-ac61-4c87-befa-cab559eda4f8' class='sc-var-data-in' type='checkbox'><label for='data-db034cf2-ac61-4c87-befa-cab559eda4f8' title='Show/Hide data repr'><svg class='icon sc-icon-database'><use xlink:href='#icon-database'></use></svg></label><pre class='sc-var-data'>Values:<br>array([   1,    2,    3, ..., 9214, 9215, 9216], dtype=int32)</pre></span></li><li class='sc-var-item'><div class='sc-var-name'><span>detector_spatial_resolution</span></div><div class='sc-var-dims'>()</div><div class='sc-var-dtype'>float64</div><div class='sc-var-unit'>m</div><div class='sc-value-preview sc-preview'><span><div>0.0025</div></span></div><input id='attrs-7288c52f-9abe-4d03-b380-8e65487df7d5' class='sc-var-attrs-in' type='checkbox' disabled><label for='attrs-7288c52f-9abe-4d03-b380-8e65487df7d5' class='sc-hide-icon' title='Show/Hide attributes'><svg class='icon sc-icon-file-text2'><use xlink:href='#icon-file-text2'></use></svg></label><input id='data-13e0924f-4c48-440b-b285-0f3fcdbc2c46' class='sc-var-data-in' type='checkbox'><label for='data-13e0924f-4c48-440b-b285-0f3fcdbc2c46' title='Show/Hide data repr'><svg class='icon sc-icon-database'><use xlink:href='#icon-database'></use></svg></label><pre class='sc-var-data'>Values:<br>array(0.0025)</pre></span></li><li class='sc-var-item'><div class='sc-var-name'><span>gravity</span></div><div class='sc-var-dims'>()</div><div class='sc-var-dtype'>vector3</div><div class='sc-var-unit'>m/s^2</div><div class='sc-value-preview sc-preview'><span><div>[ 0.      -9.80665  0.     ]</div></span></div><input id='attrs-353e57b3-ef17-4398-9f3a-4f244743e323' class='sc-var-attrs-in' type='checkbox' disabled><label for='attrs-353e57b3-ef17-4398-9f3a-4f244743e323' class='sc-hide-icon' title='Show/Hide attributes'><svg class='icon sc-icon-file-text2'><use xlink:href='#icon-file-text2'></use></svg></label><input id='data-cd9fa7ec-b0f7-4803-a955-be300438a821' class='sc-var-data-in' type='checkbox'><label for='data-cd9fa7ec-b0f7-4803-a955-be300438a821' title='Show/Hide data repr'><svg class='icon sc-icon-database'><use xlink:href='#icon-database'></use></svg></label><pre class='sc-var-data'>Values:<br>array([ 0.     , -9.80665,  0.     ])</pre></span></li><li class='sc-var-item'><div class='sc-var-name'><span>position</span></div><div class='sc-var-dims'>(detector_id)</div><div class='sc-var-dtype'>vector3</div><div class='sc-var-unit'>m</div><div class='sc-value-preview sc-preview'><span><div>[-0.064       0.09459759  4.12644383], [-0.05987097  0.09459759  4.12644383], ..., [0.05987097 0.         4.        ], [0.064 0.    4.   ]</div></span></div><input id='attrs-0dc56b8a-244e-4cb0-8076-5a5b4d3247ea' class='sc-var-attrs-in' type='checkbox' disabled><label for='attrs-0dc56b8a-244e-4cb0-8076-5a5b4d3247ea' class='sc-hide-icon' title='Show/Hide attributes'><svg class='icon sc-icon-file-text2'><use xlink:href='#icon-file-text2'></use></svg></label><input id='data-45af9129-7ee6-4244-859e-6cdf6bb4a555' class='sc-var-data-in' type='checkbox'><label for='data-45af9129-7ee6-4244-859e-6cdf6bb4a555' title='Show/Hide data repr'><svg class='icon sc-icon-database'><use xlink:href='#icon-database'></use></svg></label><pre class='sc-var-data'>Values:<br>array([[-0.064     ,  0.09459759,  4.12644383],\n",
       "       [-0.05987097,  0.09459759,  4.12644383],\n",
       "       [-0.05574194,  0.09459759,  4.12644383],\n",
       "       ...,\n",
       "       [ 0.05574194,  0.        ,  4.        ],\n",
       "       [ 0.05987097,  0.        ,  4.        ],\n",
       "       [ 0.064     ,  0.        ,  4.        ]])</pre></span></li><li class='sc-var-item'><div class='sc-var-name'><span>sample_position</span></div><div class='sc-var-dims'>()</div><div class='sc-var-dtype'>vector3</div><div class='sc-var-unit'>m</div><div class='sc-value-preview sc-preview'><span><div>[0. 0. 0.]</div></span></div><input id='attrs-d423148b-5ea1-4c34-880c-53da67df7841' class='sc-var-attrs-in' type='checkbox' disabled><label for='attrs-d423148b-5ea1-4c34-880c-53da67df7841' class='sc-hide-icon' title='Show/Hide attributes'><svg class='icon sc-icon-file-text2'><use xlink:href='#icon-file-text2'></use></svg></label><input id='data-6c829907-dff3-4a3c-9537-c64a65c2c865' class='sc-var-data-in' type='checkbox'><label for='data-6c829907-dff3-4a3c-9537-c64a65c2c865' title='Show/Hide data repr'><svg class='icon sc-icon-database'><use xlink:href='#icon-database'></use></svg></label><pre class='sc-var-data'>Values:<br>array([0., 0., 0.])</pre></span></li><li class='sc-var-item'><div class='sc-var-name'><span>sample_rotation</span></div><div class='sc-var-dims'>()</div><div class='sc-var-dtype'>float64</div><div class='sc-var-unit'>deg</div><div class='sc-value-preview sc-preview'><span><div>0.7989</div></span></div><input id='attrs-6e1340bd-5449-446a-a6a7-0ab88282c3c4' class='sc-var-attrs-in' type='checkbox' disabled><label for='attrs-6e1340bd-5449-446a-a6a7-0ab88282c3c4' class='sc-hide-icon' title='Show/Hide attributes'><svg class='icon sc-icon-file-text2'><use xlink:href='#icon-file-text2'></use></svg></label><input id='data-a8594bc8-0e15-4469-b942-ec09f7f132ba' class='sc-var-data-in' type='checkbox'><label for='data-a8594bc8-0e15-4469-b942-ec09f7f132ba' title='Show/Hide data repr'><svg class='icon sc-icon-database'><use xlink:href='#icon-database'></use></svg></label><pre class='sc-var-data'>Values:<br>array(0.7989)</pre></span></li><li class='sc-var-item'><div class='sc-var-name'><span>sample_size</span></div><div class='sc-var-dims'>()</div><div class='sc-var-dtype'>float64</div><div class='sc-var-unit'>mm</div><div class='sc-value-preview sc-preview'><span><div>10.0</div></span></div><input id='attrs-e3977a39-ea5b-4f8c-8da7-b6dc1c179c55' class='sc-var-attrs-in' type='checkbox' disabled><label for='attrs-e3977a39-ea5b-4f8c-8da7-b6dc1c179c55' class='sc-hide-icon' title='Show/Hide attributes'><svg class='icon sc-icon-file-text2'><use xlink:href='#icon-file-text2'></use></svg></label><input id='data-0bc94aa9-87f4-4bd8-aeb0-cbf7dee29a61' class='sc-var-data-in' type='checkbox'><label for='data-0bc94aa9-87f4-4bd8-aeb0-cbf7dee29a61' title='Show/Hide data repr'><svg class='icon sc-icon-database'><use xlink:href='#icon-database'></use></svg></label><pre class='sc-var-data'>Values:<br>array(10.)</pre></span></li><li class='sc-var-item'><div class='sc-var-name'><span>source_chopper</span></div><div class='sc-var-dims'>()</div><div class='sc-var-dtype'>Dataset</div><div class='sc-var-unit'></div><div class='sc-value-preview sc-preview'><span><div>&lt;scipp.Dataset&gt;\n",
       "Dimensions: Sizes[]\n",
       "Data:\n",
       "  frequency                 float64             [Hz]  ()  [6.66667]\n",
       "  phase                     float64            [deg]  ()  [-8]\n",
       "  position                  vector3              [m]  ()  [(0, 0, -15)]\n",
       "\n",
       "</div></span></div><input id='attrs-b1ac5b7b-6a0a-4780-ba4b-9dc3ec9559fd' class='sc-var-attrs-in' type='checkbox' disabled><label for='attrs-b1ac5b7b-6a0a-4780-ba4b-9dc3ec9559fd' class='sc-hide-icon' title='Show/Hide attributes'><svg class='icon sc-icon-file-text2'><use xlink:href='#icon-file-text2'></use></svg></label><input id='data-de8aeef1-6a40-47e0-bf7b-2fc5950d5743' class='sc-var-data-in' type='checkbox'><label for='data-de8aeef1-6a40-47e0-bf7b-2fc5950d5743' title='Show/Hide data repr'><svg class='icon sc-icon-database'><use xlink:href='#icon-database'></use></svg></label><pre class='sc-var-data'>Values:<br>&lt;scipp.Dataset&gt;\n",
       "Dimensions: Sizes[]\n",
       "Data:\n",
       "  frequency                 float64             [Hz]  ()  [6.66667]\n",
       "  phase                     float64            [deg]  ()  [-8]\n",
       "  position                  vector3              [m]  ()  [(0, 0, -15)]\n",
       "\n",
       "</pre></span></li><li class='sc-var-item'><div class='sc-var-name'><span>source_position</span></div><div class='sc-var-dims'>()</div><div class='sc-var-dtype'>vector3</div><div class='sc-var-unit'>m</div><div class='sc-value-preview sc-preview'><span><div>[ 0.  0. 30.]</div></span></div><input id='attrs-2b6b1523-6724-4cb5-aeff-2f07029f4dde' class='sc-var-attrs-in' type='checkbox' disabled><label for='attrs-2b6b1523-6724-4cb5-aeff-2f07029f4dde' class='sc-hide-icon' title='Show/Hide attributes'><svg class='icon sc-icon-file-text2'><use xlink:href='#icon-file-text2'></use></svg></label><input id='data-8ce66630-df47-4426-a0f1-f07d1bbfa032' class='sc-var-data-in' type='checkbox'><label for='data-8ce66630-df47-4426-a0f1-f07d1bbfa032' title='Show/Hide data repr'><svg class='icon sc-icon-database'><use xlink:href='#icon-database'></use></svg></label><pre class='sc-var-data'>Values:<br>array([ 0.,  0., 30.])</pre></span></li><li class='sc-var-item'><div class='sc-var-name'><span class='sc-has-index'>tof</span></div><div class='sc-var-dims'>(tof [bin-edge])</div><div class='sc-var-dtype'>float64</div><div class='sc-var-unit'>µs</div><div class='sc-value-preview sc-preview'><span><div>0.0, 7.500e+04</div></span></div><input id='attrs-220b2b40-16e6-4f5b-bc01-9e7e220cf5d4' class='sc-var-attrs-in' type='checkbox' disabled><label for='attrs-220b2b40-16e6-4f5b-bc01-9e7e220cf5d4' class='sc-hide-icon' title='Show/Hide attributes'><svg class='icon sc-icon-file-text2'><use xlink:href='#icon-file-text2'></use></svg></label><input id='data-96803af5-eb6f-4fd2-9f1c-784d04cb9489' class='sc-var-data-in' type='checkbox'><label for='data-96803af5-eb6f-4fd2-9f1c-784d04cb9489' title='Show/Hide data repr'><svg class='icon sc-icon-database'><use xlink:href='#icon-database'></use></svg></label><pre class='sc-var-data'>Values:<br>array([    0., 75000.])</pre></span></li></ul></div></li><li class='sc-section-item'><input id='section-935f0d8b-f5a9-484d-a06f-47ce05b207e9' class='sc-section-summary-in' type='checkbox'  checked><label for='section-935f0d8b-f5a9-484d-a06f-47ce05b207e9' class='sc-section-summary' >Data: <span>(1)</span></label><div class='sc-section-inline-details'></div><div class='sc-section-details'><ul class='sc-var-list'><li class='sc-var-item'><div class='sc-var-name'><span></span></div><div class='sc-var-dims'>(detector_id, tof)</div><div class='sc-var-dtype'>DataArrayView</div><div class='sc-var-unit'></div><div class='sc-value-preview sc-preview'><span><div>binned data [len=0, len=0, ..., len=0, len=0]</div></span></div><input id='attrs-37954da0-6c5e-4be0-8653-5316dd116830' class='sc-var-attrs-in' type='checkbox' disabled><label for='attrs-37954da0-6c5e-4be0-8653-5316dd116830' class='sc-hide-icon' title='Show/Hide attributes'><svg class='icon sc-icon-file-text2'><use xlink:href='#icon-file-text2'></use></svg></label><input id='data-e26a958a-f3d1-4af2-a687-8e9dc61ce895' class='sc-var-data-in' type='checkbox'><label for='data-e26a958a-f3d1-4af2-a687-8e9dc61ce895' title='Show/Hide data repr'><svg class='icon sc-icon-database'><use xlink:href='#icon-database'></use></svg></label><pre class='sc-var-data'>Values:<br>[&lt;scipp.DataArray&gt;\n",
       "Dimensions: Sizes[event:0, ]\n",
       "Coordinates:\n",
       "  pulse_time              datetime64             [ns]  (event)  []\n",
       "  tof                       float64            [µs]  (event)  []\n",
       "Data:\n",
       "                            float32         [counts]  (event)  []  []\n",
       "\n",
       ", &lt;scipp.DataArray&gt;\n",
       "Dimensions: Sizes[event:0, ]\n",
       "Coordinates:\n",
       "  pulse_time              datetime64             [ns]  (event)  []\n",
       "  tof                       float64            [µs]  (event)  []\n",
       "Data:\n",
       "                            float32         [counts]  (event)  []  []\n",
       "\n",
       ", ..., &lt;scipp.DataArray&gt;\n",
       "Dimensions: Sizes[event:0, ]\n",
       "Coordinates:\n",
       "  pulse_time              datetime64             [ns]  (event)  []\n",
       "  tof                       float64            [µs]  (event)  []\n",
       "Data:\n",
       "                            float32         [counts]  (event)  []  []\n",
       "\n",
       ", &lt;scipp.DataArray&gt;\n",
       "Dimensions: Sizes[event:0, ]\n",
       "Coordinates:\n",
       "  pulse_time              datetime64             [ns]  (event)  []\n",
       "  tof                       float64            [µs]  (event)  []\n",
       "Data:\n",
       "                            float32         [counts]  (event)  []  []\n",
       "\n",
       "]</pre></li></ul></div></li><li class='sc-section-item'><input id='section-14920fc3-40db-4d8b-9f47-0b57ad44432a' class='sc-section-summary-in' type='checkbox'  ><label for='section-14920fc3-40db-4d8b-9f47-0b57ad44432a' class='sc-section-summary' >Attributes: <span>(14)</span></label><div class='sc-section-inline-details'></div><div class='sc-section-details'><ul class='sc-var-list'><li class='sc-var-item'><div class='sc-var-name'><span>base_position</span></div><div class='sc-var-dims'>(detector_id)</div><div class='sc-var-dtype'>vector3</div><div class='sc-var-unit'>m</div><div class='sc-value-preview sc-preview'><span><div>[-0.064       0.09459759  4.12644383], [-0.05987097  0.09459759  4.12644383], ..., [0.05987097 0.         4.        ], [0.064 0.    4.   ]</div></span></div><input id='attrs-6281b424-0376-41a0-ad67-cc8be3069c67' class='sc-var-attrs-in' type='checkbox' disabled><label for='attrs-6281b424-0376-41a0-ad67-cc8be3069c67' class='sc-hide-icon' title='Show/Hide attributes'><svg class='icon sc-icon-file-text2'><use xlink:href='#icon-file-text2'></use></svg></label><input id='data-07db8123-a2d1-4e38-9b65-6256c2bf7879' class='sc-var-data-in' type='checkbox'><label for='data-07db8123-a2d1-4e38-9b65-6256c2bf7879' title='Show/Hide data repr'><svg class='icon sc-icon-database'><use xlink:href='#icon-database'></use></svg></label><pre class='sc-var-data'>Values:<br>array([[-0.064     ,  0.09459759,  4.12644383],\n",
       "       [-0.05987097,  0.09459759,  4.12644383],\n",
       "       [-0.05574194,  0.09459759,  4.12644383],\n",
       "       ...,\n",
       "       [ 0.05574194,  0.        ,  4.        ],\n",
       "       [ 0.05987097,  0.        ,  4.        ],\n",
       "       [ 0.064     ,  0.        ,  4.        ]])</pre></li><li class='sc-var-item'><div class='sc-var-name'><span>com</span></div><div class='sc-var-dims'>()</div><div class='sc-var-dtype'>DataArray</div><div class='sc-var-unit'></div><div class='sc-value-preview sc-preview'><span><div>{dims=[time: 1, dim_1: 1], unit=None, coords=[time, alarm_time, alarm_status, alarm_severity]}</div></span></div><input id='attrs-4207180a-f2fe-464a-9ad9-ca00ca9bd995' class='sc-var-attrs-in' type='checkbox' disabled><label for='attrs-4207180a-f2fe-464a-9ad9-ca00ca9bd995' class='sc-hide-icon' title='Show/Hide attributes'><svg class='icon sc-icon-file-text2'><use xlink:href='#icon-file-text2'></use></svg></label><input id='data-45dd8d50-c25e-43b8-8b7a-b95f7eec8ee9' class='sc-var-data-in' type='checkbox'><label for='data-45dd8d50-c25e-43b8-8b7a-b95f7eec8ee9' title='Show/Hide data repr'><svg class='icon sc-icon-database'><use xlink:href='#icon-database'></use></svg></label><pre class='sc-var-data'>Values:<br>&lt;scipp.DataArray&gt;\n",
       "Dimensions: Sizes[time:1, dim_1:1, ]\n",
       "Coordinates:\n",
       "  alarm_severity             string           [None]  ()  [&quot;NO_ALARM&quot;]\n",
       "  alarm_status               string           [None]  ()  [&quot;NO_ALARM&quot;]\n",
       "  alarm_time                  int64             [ns]  ()  [1606316395427112960]\n",
       "  time                    datetime64             [ns]  (time)  [2020-11-25T14:59:55.427112960]\n",
       "Data:\n",
       "                            float64           [None]  (time, dim_1)  [-1.599]\n",
       "\n",
       "</pre></li><li class='sc-var-item'><div class='sc-var-name'><span>coz</span></div><div class='sc-var-dims'>()</div><div class='sc-var-dtype'>DataArray</div><div class='sc-var-unit'></div><div class='sc-value-preview sc-preview'><span><div>{dims=[time: 1, dim_1: 1], unit=None, coords=[time, alarm_time, alarm_status, alarm_severity]}</div></span></div><input id='attrs-ac30cdb8-e1c9-4f31-a549-a60ec9a74369' class='sc-var-attrs-in' type='checkbox' disabled><label for='attrs-ac30cdb8-e1c9-4f31-a549-a60ec9a74369' class='sc-hide-icon' title='Show/Hide attributes'><svg class='icon sc-icon-file-text2'><use xlink:href='#icon-file-text2'></use></svg></label><input id='data-39c9f44d-fc4d-4e57-994f-f53d3aba347d' class='sc-var-data-in' type='checkbox'><label for='data-39c9f44d-fc4d-4e57-994f-f53d3aba347d' title='Show/Hide data repr'><svg class='icon sc-icon-database'><use xlink:href='#icon-database'></use></svg></label><pre class='sc-var-data'>Values:<br>&lt;scipp.DataArray&gt;\n",
       "Dimensions: Sizes[time:1, dim_1:1, ]\n",
       "Coordinates:\n",
       "  alarm_severity             string           [None]  ()  [&quot;NO_ALARM&quot;]\n",
       "  alarm_status               string           [None]  ()  [&quot;NO_ALARM&quot;]\n",
       "  alarm_time                  int64             [ns]  ()  [1606316397533574144]\n",
       "  time                    datetime64             [ns]  (time)  [2020-11-25T14:59:57.533574144]\n",
       "Data:\n",
       "                            float64           [None]  (time, dim_1)  [114.52]\n",
       "\n",
       "</pre></li><li class='sc-var-item'><div class='sc-var-name'><span>experiment_title</span></div><div class='sc-var-dims'>()</div><div class='sc-var-dtype'>string</div><div class='sc-var-unit'></div><div class='sc-value-preview sc-preview'><span><div>commissioning</div></span></div><input id='attrs-1a6f52bb-d717-4710-9716-ef430a81e82e' class='sc-var-attrs-in' type='checkbox' disabled><label for='attrs-1a6f52bb-d717-4710-9716-ef430a81e82e' class='sc-hide-icon' title='Show/Hide attributes'><svg class='icon sc-icon-file-text2'><use xlink:href='#icon-file-text2'></use></svg></label><input id='data-5741cf58-5160-456a-9646-c3e06548751b' class='sc-var-data-in' type='checkbox'><label for='data-5741cf58-5160-456a-9646-c3e06548751b' title='Show/Hide data repr'><svg class='icon sc-icon-database'><use xlink:href='#icon-database'></use></svg></label><pre class='sc-var-data'>Values:<br>&#x27;commissioning&#x27;</pre></li><li class='sc-var-item'><div class='sc-var-name'><span>horizontal</span></div><div class='sc-var-dims'>()</div><div class='sc-var-dtype'>DataArray</div><div class='sc-var-unit'></div><div class='sc-value-preview sc-preview'><span><div>{dims=[time: 0, dim_1: 1], unit=None, coords=[cue_timestamp_zero, alarm_time, cue_index, time, alarm_status, alarm_severity]}</div></span></div><input id='attrs-789caf36-50d3-412c-b618-98393f61d103' class='sc-var-attrs-in' type='checkbox' disabled><label for='attrs-789caf36-50d3-412c-b618-98393f61d103' class='sc-hide-icon' title='Show/Hide attributes'><svg class='icon sc-icon-file-text2'><use xlink:href='#icon-file-text2'></use></svg></label><input id='data-45534bf5-d39e-43bf-9f44-f5fce5ef902a' class='sc-var-data-in' type='checkbox'><label for='data-45534bf5-d39e-43bf-9f44-f5fce5ef902a' title='Show/Hide data repr'><svg class='icon sc-icon-database'><use xlink:href='#icon-database'></use></svg></label><pre class='sc-var-data'>Values:<br>&lt;scipp.DataArray&gt;\n",
       "Dimensions: Sizes[time:0, dim_1:1, ]\n",
       "Coordinates:\n",
       "  alarm_severity             string           [None]  (time)  []\n",
       "  alarm_status               string           [None]  (time)  []\n",
       "  alarm_time                  int64             [ns]  (time)  []\n",
       "  cue_index                   int32           [None]  (time)  []\n",
       "  cue_timestamp_zero          int64             [ns]  (time)  []\n",
       "  time                    datetime64             [ns]  (time)  []\n",
       "Data:\n",
       "                            float64           [None]  (time, dim_1)  []\n",
       "\n",
       "</pre></li><li class='sc-var-item'><div class='sc-var-name'><span>instrument_name</span></div><div class='sc-var-dims'>()</div><div class='sc-var-dtype'>string</div><div class='sc-var-unit'></div><div class='sc-value-preview sc-preview'><span><div>AMOR</div></span></div><input id='attrs-a5fe17f6-34ac-441f-8544-954657f62cf1' class='sc-var-attrs-in' type='checkbox' disabled><label for='attrs-a5fe17f6-34ac-441f-8544-954657f62cf1' class='sc-hide-icon' title='Show/Hide attributes'><svg class='icon sc-icon-file-text2'><use xlink:href='#icon-file-text2'></use></svg></label><input id='data-f5cf290d-88ec-423c-a691-f2ec3f67931a' class='sc-var-data-in' type='checkbox'><label for='data-f5cf290d-88ec-423c-a691-f2ec3f67931a' title='Show/Hide data repr'><svg class='icon sc-icon-database'><use xlink:href='#icon-database'></use></svg></label><pre class='sc-var-data'>Values:<br>&#x27;AMOR&#x27;</pre></li><li class='sc-var-item'><div class='sc-var-name'><span>orso</span></div><div class='sc-var-dims'>()</div><div class='sc-var-dtype'>PyObject</div><div class='sc-var-unit'></div><div class='sc-value-preview sc-preview'><span><div>Orso(\n",
       "     data_source=DataSource(\n",
       "                            owner=Person(name=&#x27;Jochen Stahn&#x27;, affiliation=&#x27;Paul Scherrer Institut&#x27;, contact=&#x27;jochen.stahn@psi.ch&#x27;),\n",
       "                            experiment=Experiment(title=&#x27;commissioning&#x27;, instrument=&#x27;AMOR&#x27;, start_date=&#x27;2020-11-25&#x27;, probe=&#x27;neutrons&#x27;, facility=&#x27;Paul Scherrer Institut&#x27;),\n",
       "                            sample=Sample(name=&#x27;Ni/Ti Multilayer&#x27;, category=&#x27;gas/solid&#x27;, composition=&#x27;air | (Ni | Ti) * 5 | Si&#x27;),\n",
       "                            measurement=Measurement(\n",
       "                                                    instrument_settings=InstrumentSettings(\n",
       "                                                                                           incident_angle=Value(magnitude=None),\n",
       "                                                                                           wavelength=Value(magnitude=None),\n",
       "                                                                                           polarization=&#x27;unpolarized&#x27;,\n",
       "                                                                                           ),\n",
       "                                                    data_files=[&#x27;/Users/andrewmccluskey/Library/Caches/ess/amor/1/sample.nxs&#x27;],\n",
       "                                                    scheme=&#x27;angle- and energy-dispersive&#x27;,\n",
       "                                                    ),\n",
       "                            ),\n",
       "     reduction=Reduction(\n",
       "                         software=Software(name=&#x27;scipp-ess&#x27;, version=&#x27;0.13.0&#x27;, platform=&#x27;macOS-10.15.7-x86_64-i386-64bit&#x27;),\n",
       "                         creator=Person(name=&#x27;Andrew R. McCluskey&#x27;, affiliation=&#x27;European Spallation Source&#x27;, contact=&#x27;andrew.mccluskey@ess.eu&#x27;),\n",
       "                         corrections=[&#x27;chopper ToF correction&#x27;],\n",
       "                         computer=&#x27;CIN-716286&#x27;,\n",
       "                         script=&#x27;amor_reduction.ipynb&#x27;,\n",
       "                         ),\n",
       "     columns=[Column(name=&#x27;Qz&#x27;, unit=&#x27;1/angstrom&#x27;, dimension=&#x27;wavevector transfer&#x27;), Column(name=&#x27;R&#x27;, dimension=&#x27;reflectivity&#x27;), Column(name=&#x27;sR&#x27;, dimension=&#x27;standard deivation of reflectivity&#x27;), Column(name=&#x27;sQz&#x27;, unit=&#x27;1/angstrom&#x27;, dimension=&#x27;standard deviation of wavevector transfer resolution&#x27;)],\n",
       "     )</div></span></div><input id='attrs-ee822558-3957-4c2f-8311-c5c333667196' class='sc-var-attrs-in' type='checkbox' disabled><label for='attrs-ee822558-3957-4c2f-8311-c5c333667196' class='sc-hide-icon' title='Show/Hide attributes'><svg class='icon sc-icon-file-text2'><use xlink:href='#icon-file-text2'></use></svg></label><input id='data-b4b31474-189f-4141-b060-cb7bbd09dc1a' class='sc-var-data-in' type='checkbox'><label for='data-b4b31474-189f-4141-b060-cb7bbd09dc1a' title='Show/Hide data repr'><svg class='icon sc-icon-database'><use xlink:href='#icon-database'></use></svg></label><pre class='sc-var-data'>Values:<br>Orso(\n",
       "     data_source=DataSource(\n",
       "                            owner=Person(name=&#x27;Jochen Stahn&#x27;, affiliation=&#x27;Paul Scherrer Institut&#x27;, contact=&#x27;jochen.stahn@psi.ch&#x27;),\n",
       "                            experiment=Experiment(title=&#x27;commissioning&#x27;, instrument=&#x27;AMOR&#x27;, start_date=&#x27;2020-11-25&#x27;, probe=&#x27;neutrons&#x27;, facility=&#x27;Paul Scherrer Institut&#x27;),\n",
       "                            sample=Sample(name=&#x27;Ni/Ti Multilayer&#x27;, category=&#x27;gas/solid&#x27;, composition=&#x27;air | (Ni | Ti) * 5 | Si&#x27;),\n",
       "                            measurement=Measurement(\n",
       "                                                    instrument_settings=InstrumentSettings(\n",
       "                                                                                           incident_angle=Value(magnitude=None),\n",
       "                                                                                           wavelength=Value(magnitude=None),\n",
       "                                                                                           polarization=&#x27;unpolarized&#x27;,\n",
       "                                                                                           ),\n",
       "                                                    data_files=[&#x27;/Users/andrewmccluskey/Library/Caches/ess/amor/1/sample.nxs&#x27;],\n",
       "                                                    scheme=&#x27;angle- and energy-dispersive&#x27;,\n",
       "                                                    ),\n",
       "                            ),\n",
       "     reduction=Reduction(\n",
       "                         software=Software(name=&#x27;scipp-ess&#x27;, version=&#x27;0.13.0&#x27;, platform=&#x27;macOS-10.15.7-x86_64-i386-64bit&#x27;),\n",
       "                         creator=Person(name=&#x27;Andrew R. McCluskey&#x27;, affiliation=&#x27;European Spallation Source&#x27;, contact=&#x27;andrew.mccluskey@ess.eu&#x27;),\n",
       "                         corrections=[&#x27;chopper ToF correction&#x27;],\n",
       "                         computer=&#x27;CIN-716286&#x27;,\n",
       "                         script=&#x27;amor_reduction.ipynb&#x27;,\n",
       "                         ),\n",
       "     columns=[Column(name=&#x27;Qz&#x27;, unit=&#x27;1/angstrom&#x27;, dimension=&#x27;wavevector transfer&#x27;), Column(name=&#x27;R&#x27;, dimension=&#x27;reflectivity&#x27;), Column(name=&#x27;sR&#x27;, dimension=&#x27;standard deivation of reflectivity&#x27;), Column(name=&#x27;sQz&#x27;, unit=&#x27;1/angstrom&#x27;, dimension=&#x27;standard deviation of wavevector transfer resolution&#x27;)],\n",
       "     )</pre></li><li class='sc-var-item'><div class='sc-var-name'><span>sample</span></div><div class='sc-var-dims'>()</div><div class='sc-var-dtype'>Dataset</div><div class='sc-var-unit'></div><div class='sc-value-preview sc-preview'><span><div>&lt;scipp.Dataset&gt;\n",
       "Dimensions: Sizes[]\n",
       "\n",
       "</div></span></div><input id='attrs-40dcd143-11cb-4793-8be8-946de029adc7' class='sc-var-attrs-in' type='checkbox' disabled><label for='attrs-40dcd143-11cb-4793-8be8-946de029adc7' class='sc-hide-icon' title='Show/Hide attributes'><svg class='icon sc-icon-file-text2'><use xlink:href='#icon-file-text2'></use></svg></label><input id='data-ce64a66e-c4dc-4d70-8c59-845a1f973097' class='sc-var-data-in' type='checkbox'><label for='data-ce64a66e-c4dc-4d70-8c59-845a1f973097' title='Show/Hide data repr'><svg class='icon sc-icon-database'><use xlink:href='#icon-database'></use></svg></label><pre class='sc-var-data'>Values:<br>&lt;scipp.Dataset&gt;\n",
       "Dimensions: Sizes[]\n",
       "\n",
       "</pre></li><li class='sc-var-item'><div class='sc-var-name'><span>slot</span></div><div class='sc-var-dims'>()</div><div class='sc-var-dtype'>DataArray</div><div class='sc-var-unit'></div><div class='sc-value-preview sc-preview'><span><div>{dims=[time: 0, dim_1: 1], unit=None, coords=[cue_timestamp_zero, alarm_time, cue_index, time, alarm_status, alarm_severity]}</div></span></div><input id='attrs-303c98b6-f235-40ea-926d-b37dd4febadd' class='sc-var-attrs-in' type='checkbox' disabled><label for='attrs-303c98b6-f235-40ea-926d-b37dd4febadd' class='sc-hide-icon' title='Show/Hide attributes'><svg class='icon sc-icon-file-text2'><use xlink:href='#icon-file-text2'></use></svg></label><input id='data-119c77f0-e80b-48e8-8855-60bdbf8afe42' class='sc-var-data-in' type='checkbox'><label for='data-119c77f0-e80b-48e8-8855-60bdbf8afe42' title='Show/Hide data repr'><svg class='icon sc-icon-database'><use xlink:href='#icon-database'></use></svg></label><pre class='sc-var-data'>Values:<br>&lt;scipp.DataArray&gt;\n",
       "Dimensions: Sizes[time:0, dim_1:1, ]\n",
       "Coordinates:\n",
       "  alarm_severity             string           [None]  (time)  []\n",
       "  alarm_status               string           [None]  (time)  []\n",
       "  alarm_time                  int64             [ns]  (time)  []\n",
       "  cue_index                   int32           [None]  (time)  []\n",
       "  cue_timestamp_zero          int64             [ns]  (time)  []\n",
       "  time                    datetime64             [ns]  (time)  []\n",
       "Data:\n",
       "                            float64           [None]  (time, dim_1)  []\n",
       "\n",
       "</pre></li><li class='sc-var-item'><div class='sc-var-name'><span>som</span></div><div class='sc-var-dims'>()</div><div class='sc-var-dtype'>DataArray</div><div class='sc-var-unit'></div><div class='sc-value-preview sc-preview'><span><div>{dims=[time: 1, dim_1: 1], unit=None, coords=[time, alarm_time, alarm_status, alarm_severity]}</div></span></div><input id='attrs-013e2d37-5b27-47db-a794-b9c818850ff6' class='sc-var-attrs-in' type='checkbox' disabled><label for='attrs-013e2d37-5b27-47db-a794-b9c818850ff6' class='sc-hide-icon' title='Show/Hide attributes'><svg class='icon sc-icon-file-text2'><use xlink:href='#icon-file-text2'></use></svg></label><input id='data-eabfe276-d14d-46a8-9f62-9fece6f2cdc7' class='sc-var-data-in' type='checkbox'><label for='data-eabfe276-d14d-46a8-9f62-9fece6f2cdc7' title='Show/Hide data repr'><svg class='icon sc-icon-database'><use xlink:href='#icon-database'></use></svg></label><pre class='sc-var-data'>Values:<br>&lt;scipp.DataArray&gt;\n",
       "Dimensions: Sizes[time:1, dim_1:1, ]\n",
       "Coordinates:\n",
       "  alarm_severity             string           [None]  ()  [&quot;NO_ALARM&quot;]\n",
       "  alarm_status               string           [None]  ()  [&quot;NO_ALARM&quot;]\n",
       "  alarm_time                  int64             [ns]  ()  [1606316394339492096]\n",
       "  time                    datetime64             [ns]  (time)  [2020-11-25T14:59:54.339492096]\n",
       "Data:\n",
       "                            float64           [None]  (time, dim_1)  [0.799]\n",
       "\n",
       "</pre></li><li class='sc-var-item'><div class='sc-var-name'><span>source</span></div><div class='sc-var-dims'>()</div><div class='sc-var-dtype'>Dataset</div><div class='sc-var-unit'></div><div class='sc-value-preview sc-preview'><span><div>&lt;scipp.Dataset&gt;\n",
       "Dimensions: Sizes[]\n",
       "Coordinates:\n",
       "  depends_on              affine_transform3              [m]  ()  [ 1  0  0  0\n",
       " 0  1  0  0\n",
       " 0  0  1 30\n",
       " 0  0  0  1]\n",
       "\n",
       "</div></span></div><input id='attrs-85dc0277-0972-4d18-9b56-9a80f3ebd805' class='sc-var-attrs-in' type='checkbox' disabled><label for='attrs-85dc0277-0972-4d18-9b56-9a80f3ebd805' class='sc-hide-icon' title='Show/Hide attributes'><svg class='icon sc-icon-file-text2'><use xlink:href='#icon-file-text2'></use></svg></label><input id='data-d3b15cff-e51c-4579-ab39-cd4fb2b74a9b' class='sc-var-data-in' type='checkbox'><label for='data-d3b15cff-e51c-4579-ab39-cd4fb2b74a9b' title='Show/Hide data repr'><svg class='icon sc-icon-database'><use xlink:href='#icon-database'></use></svg></label><pre class='sc-var-data'>Values:<br>&lt;scipp.Dataset&gt;\n",
       "Dimensions: Sizes[]\n",
       "Coordinates:\n",
       "  depends_on              affine_transform3              [m]  ()  [ 1  0  0  0\n",
       " 0  1  0  0\n",
       " 0  0  1 30\n",
       " 0  0  0  1]\n",
       "\n",
       "</pre></li><li class='sc-var-item'><div class='sc-var-name'><span>soz</span></div><div class='sc-var-dims'>()</div><div class='sc-var-dtype'>DataArray</div><div class='sc-var-unit'></div><div class='sc-value-preview sc-preview'><span><div>{dims=[time: 1, dim_1: 1], unit=None, coords=[time, alarm_time, alarm_status, alarm_severity]}</div></span></div><input id='attrs-68d5f726-cb16-4b13-9022-4c34086a90c9' class='sc-var-attrs-in' type='checkbox' disabled><label for='attrs-68d5f726-cb16-4b13-9022-4c34086a90c9' class='sc-hide-icon' title='Show/Hide attributes'><svg class='icon sc-icon-file-text2'><use xlink:href='#icon-file-text2'></use></svg></label><input id='data-75726d0c-ff75-4c39-b526-3fc4b171c75b' class='sc-var-data-in' type='checkbox'><label for='data-75726d0c-ff75-4c39-b526-3fc4b171c75b' title='Show/Hide data repr'><svg class='icon sc-icon-database'><use xlink:href='#icon-database'></use></svg></label><pre class='sc-var-data'>Values:<br>&lt;scipp.DataArray&gt;\n",
       "Dimensions: Sizes[time:1, dim_1:1, ]\n",
       "Coordinates:\n",
       "  alarm_severity             string           [None]  ()  [&quot;NO_ALARM&quot;]\n",
       "  alarm_status               string           [None]  ()  [&quot;NO_ALARM&quot;]\n",
       "  alarm_time                  int64             [ns]  ()  [1606295072611630848]\n",
       "  time                    datetime64             [ns]  (time)  [2020-11-25T09:04:32.611630848]\n",
       "Data:\n",
       "                            float64           [None]  (time, dim_1)  [-0.2]\n",
       "\n",
       "</pre></li><li class='sc-var-item'><div class='sc-var-name'><span>start_time</span></div><div class='sc-var-dims'>()</div><div class='sc-var-dtype'>string</div><div class='sc-var-unit'></div><div class='sc-value-preview sc-preview'><span><div>2020-11-25T16:03:10.000000000</div></span></div><input id='attrs-49035e36-e256-4c34-bc40-a2ce1d9e0c0a' class='sc-var-attrs-in' type='checkbox' disabled><label for='attrs-49035e36-e256-4c34-bc40-a2ce1d9e0c0a' class='sc-hide-icon' title='Show/Hide attributes'><svg class='icon sc-icon-file-text2'><use xlink:href='#icon-file-text2'></use></svg></label><input id='data-1c34243c-3f2b-4f46-bfca-b1ca25d74c5e' class='sc-var-data-in' type='checkbox'><label for='data-1c34243c-3f2b-4f46-bfca-b1ca25d74c5e' title='Show/Hide data repr'><svg class='icon sc-icon-database'><use xlink:href='#icon-database'></use></svg></label><pre class='sc-var-data'>Values:<br>&#x27;2020-11-25T16:03:10.000000000&#x27;</pre></li><li class='sc-var-item'><div class='sc-var-name'><span>vertical</span></div><div class='sc-var-dims'>()</div><div class='sc-var-dtype'>DataArray</div><div class='sc-var-unit'></div><div class='sc-value-preview sc-preview'><span><div>{dims=[time: 0, dim_1: 1], unit=None, coords=[cue_timestamp_zero, alarm_time, cue_index, time, alarm_status, alarm_severity]}</div></span></div><input id='attrs-8c151961-4153-47db-90f0-e0e078ef69f1' class='sc-var-attrs-in' type='checkbox' disabled><label for='attrs-8c151961-4153-47db-90f0-e0e078ef69f1' class='sc-hide-icon' title='Show/Hide attributes'><svg class='icon sc-icon-file-text2'><use xlink:href='#icon-file-text2'></use></svg></label><input id='data-0cef44cd-f641-4bc5-ba0c-eea78d682abf' class='sc-var-data-in' type='checkbox'><label for='data-0cef44cd-f641-4bc5-ba0c-eea78d682abf' title='Show/Hide data repr'><svg class='icon sc-icon-database'><use xlink:href='#icon-database'></use></svg></label><pre class='sc-var-data'>Values:<br>&lt;scipp.DataArray&gt;\n",
       "Dimensions: Sizes[time:0, dim_1:1, ]\n",
       "Coordinates:\n",
       "  alarm_severity             string           [None]  (time)  []\n",
       "  alarm_status               string           [None]  (time)  []\n",
       "  alarm_time                  int64             [ns]  (time)  []\n",
       "  cue_index                   int32           [None]  (time)  []\n",
       "  cue_timestamp_zero          int64             [ns]  (time)  []\n",
       "  time                    datetime64             [ns]  (time)  []\n",
       "Data:\n",
       "                            float64           [None]  (time, dim_1)  []\n",
       "\n",
       "</pre></li></ul></div></li></ul></div></div>"
      ],
      "text/plain": [
       "<scipp.DataArray>\n",
       "Dimensions: Sizes[detector_id:9216, tof:1, ]\n",
       "Coordinates:\n",
       "  beam_size                 float64             [mm]  ()  [2]\n",
       "  chopper_chopper_distance  float64              [m]  ()  [0.49]\n",
       "  detector_id                 int32           [None]  (detector_id)  [1, 2, ..., 9215, 9216]\n",
       "  detector_spatial_resolution  float64              [m]  ()  [0.0025]\n",
       "  gravity                   vector3          [m/s^2]  ()  [(0, -9.80665, 0)]\n",
       "  position                  vector3              [m]  (detector_id)  [(-0.064, 0.0945976, 4.12644), (-0.059871, 0.0945976, 4.12644), ..., (0.059871, 0, 4), (0.064, 0, 4)]\n",
       "  sample_position           vector3              [m]  ()  [(0, 0, 0)]\n",
       "  sample_rotation           float64            [deg]  ()  [0.7989]\n",
       "  sample_size               float64             [mm]  ()  [10]\n",
       "  source_chopper            Dataset           [None]  ()  [<scipp.Dataset>\n",
       "Dimensions: Sizes[]\n",
       "Data:\n",
       "  frequency                 float64             [Hz]  ()  [6.66667]\n",
       "  phase                     float64            [deg]  ()  [-8]\n",
       "  position                  vector3              [m]  ()  [(0, 0, -15)]\n",
       "\n",
       "]\n",
       "  source_position           vector3              [m]  ()  [(0, 0, 30)]\n",
       "  tof                       float64            [µs]  (tof [bin-edge])  [0, 75000]\n",
       "Data:\n",
       "                          DataArrayView           [None]  (detector_id, tof)  [<scipp.DataArray>\n",
       "Dimensions: Sizes[event:0, ]\n",
       "Coordinates:\n",
       "  pulse_time              datetime64             [ns]  (event)  []\n",
       "  tof                       float64            [µs]  (event)  []\n",
       "Data:\n",
       "                            float32         [counts]  (event)  []  []\n",
       "\n",
       ", <scipp.DataArray>\n",
       "Dimensions: Sizes[event:0, ]\n",
       "Coordinates:\n",
       "  pulse_time              datetime64             [ns]  (event)  []\n",
       "  tof                       float64            [µs]  (event)  []\n",
       "Data:\n",
       "                            float32         [counts]  (event)  []  []\n",
       "\n",
       ", ..., <scipp.DataArray>\n",
       "Dimensions: Sizes[event:0, ]\n",
       "Coordinates:\n",
       "  pulse_time              datetime64             [ns]  (event)  []\n",
       "  tof                       float64            [µs]  (event)  []\n",
       "Data:\n",
       "                            float32         [counts]  (event)  []  []\n",
       "\n",
       ", <scipp.DataArray>\n",
       "Dimensions: Sizes[event:0, ]\n",
       "Coordinates:\n",
       "  pulse_time              datetime64             [ns]  (event)  []\n",
       "  tof                       float64            [µs]  (event)  []\n",
       "Data:\n",
       "                            float32         [counts]  (event)  []  []\n",
       "\n",
       "]\n",
       "Attributes:\n",
       "  base_position             vector3              [m]  (detector_id)  [(-0.064, 0.0945976, 4.12644), (-0.059871, 0.0945976, 4.12644), ..., (0.059871, 0, 4), (0.064, 0, 4)]\n",
       "  com                     DataArray           [None]  ()  [<scipp.DataArray>\n",
       "Dimensions: Sizes[time:1, dim_1:1, ]\n",
       "Coordinates:\n",
       "  alarm_severity             string           [None]  ()  [\"NO_ALARM\"]\n",
       "  alarm_status               string           [None]  ()  [\"NO_ALARM\"]\n",
       "  alarm_time                  int64             [ns]  ()  [1606316395427112960]\n",
       "  time                    datetime64             [ns]  (time)  [2020-11-25T14:59:55.427112960]\n",
       "Data:\n",
       "                            float64           [None]  (time, dim_1)  [-1.599]\n",
       "\n",
       "]\n",
       "  coz                     DataArray           [None]  ()  [<scipp.DataArray>\n",
       "Dimensions: Sizes[time:1, dim_1:1, ]\n",
       "Coordinates:\n",
       "  alarm_severity             string           [None]  ()  [\"NO_ALARM\"]\n",
       "  alarm_status               string           [None]  ()  [\"NO_ALARM\"]\n",
       "  alarm_time                  int64             [ns]  ()  [1606316397533574144]\n",
       "  time                    datetime64             [ns]  (time)  [2020-11-25T14:59:57.533574144]\n",
       "Data:\n",
       "                            float64           [None]  (time, dim_1)  [114.52]\n",
       "\n",
       "]\n",
       "  experiment_title           string           [None]  ()  [\"commissioning\"]\n",
       "  horizontal              DataArray           [None]  ()  [<scipp.DataArray>\n",
       "Dimensions: Sizes[time:0, dim_1:1, ]\n",
       "Coordinates:\n",
       "  alarm_severity             string           [None]  (time)  []\n",
       "  alarm_status               string           [None]  (time)  []\n",
       "  alarm_time                  int64             [ns]  (time)  []\n",
       "  cue_index                   int32           [None]  (time)  []\n",
       "  cue_timestamp_zero          int64             [ns]  (time)  []\n",
       "  time                    datetime64             [ns]  (time)  []\n",
       "Data:\n",
       "                            float64           [None]  (time, dim_1)  []\n",
       "\n",
       "]\n",
       "  instrument_name            string           [None]  ()  [\"AMOR\"]\n",
       "  orso                     PyObject           [None]  ()  [Orso(\n",
       "     data_source=DataSource(\n",
       "                            owner=Person(name='Jochen Stahn', affiliation='Paul Scherrer Institut', contact='jochen.stahn@psi.ch'),\n",
       "                            experiment=Experiment(title='commissioning', instrument='AMOR', start_date='2020-11-25', probe='neutrons', facility='Paul Scherrer Institut'),\n",
       "                            sample=Sample(name='Ni/Ti Multilayer', category='gas/solid', composition='air | (Ni | Ti) * 5 | Si'),\n",
       "                            measurement=Measurement(\n",
       "                                                    instrument_settings=InstrumentSettings(\n",
       "                                                                                           incident_angle=Value(magnitude=None),\n",
       "                                                                                           wavelength=Value(magnitude=None),\n",
       "                                                                                           polarization='unpolarized',\n",
       "                                                                                           ),\n",
       "                                                    data_files=['/Users/andrewmccluskey/Library/Caches/ess/amor/1/sample.nxs'],\n",
       "                                                    scheme='angle- and energy-dispersive',\n",
       "                                                    ),\n",
       "                            ),\n",
       "     reduction=Reduction(\n",
       "                         software=Software(name='scipp-ess', version='0.13.0', platform='macOS-10.15.7-x86_64-i386-64bit'),\n",
       "                         creator=Person(name='Andrew R. McCluskey', affiliation='European Spallation Source', contact='andrew.mccluskey@ess.eu'),\n",
       "                         corrections=['chopper ToF correction'],\n",
       "                         computer='CIN-716286',\n",
       "                         script='amor_reduction.ipynb',\n",
       "                         ),\n",
       "     columns=[Column(name='Qz', unit='1/angstrom', dimension='wavevector transfer'), Column(name='R', dimension='reflectivity'), Column(name='sR', dimension='standard deivation of reflectivity'), Column(name='sQz', unit='1/angstrom', dimension='standard deviation of wavevector transfer resolution')],\n",
       "     )]\n",
       "  sample                    Dataset           [None]  ()  [<scipp.Dataset>\n",
       "Dimensions: Sizes[]\n",
       "\n",
       "]\n",
       "  slot                    DataArray           [None]  ()  [<scipp.DataArray>\n",
       "Dimensions: Sizes[time:0, dim_1:1, ]\n",
       "Coordinates:\n",
       "  alarm_severity             string           [None]  (time)  []\n",
       "  alarm_status               string           [None]  (time)  []\n",
       "  alarm_time                  int64             [ns]  (time)  []\n",
       "  cue_index                   int32           [None]  (time)  []\n",
       "  cue_timestamp_zero          int64             [ns]  (time)  []\n",
       "  time                    datetime64             [ns]  (time)  []\n",
       "Data:\n",
       "                            float64           [None]  (time, dim_1)  []\n",
       "\n",
       "]\n",
       "  som                     DataArray           [None]  ()  [<scipp.DataArray>\n",
       "Dimensions: Sizes[time:1, dim_1:1, ]\n",
       "Coordinates:\n",
       "  alarm_severity             string           [None]  ()  [\"NO_ALARM\"]\n",
       "  alarm_status               string           [None]  ()  [\"NO_ALARM\"]\n",
       "  alarm_time                  int64             [ns]  ()  [1606316394339492096]\n",
       "  time                    datetime64             [ns]  (time)  [2020-11-25T14:59:54.339492096]\n",
       "Data:\n",
       "                            float64           [None]  (time, dim_1)  [0.799]\n",
       "\n",
       "]\n",
       "  source                    Dataset           [None]  ()  [<scipp.Dataset>\n",
       "Dimensions: Sizes[]\n",
       "Coordinates:\n",
       "  depends_on              affine_transform3              [m]  ()  [ 1  0  0  0\n",
       " 0  1  0  0\n",
       " 0  0  1 30\n",
       " 0  0  0  1]\n",
       "\n",
       "]\n",
       "  soz                     DataArray           [None]  ()  [<scipp.DataArray>\n",
       "Dimensions: Sizes[time:1, dim_1:1, ]\n",
       "Coordinates:\n",
       "  alarm_severity             string           [None]  ()  [\"NO_ALARM\"]\n",
       "  alarm_status               string           [None]  ()  [\"NO_ALARM\"]\n",
       "  alarm_time                  int64             [ns]  ()  [1606295072611630848]\n",
       "  time                    datetime64             [ns]  (time)  [2020-11-25T09:04:32.611630848]\n",
       "Data:\n",
       "                            float64           [None]  (time, dim_1)  [-0.2]\n",
       "\n",
       "]\n",
       "  start_time                 string           [None]  ()  [\"2020-11-25T16:03:10.000000000\"]\n",
       "  vertical                DataArray           [None]  ()  [<scipp.DataArray>\n",
       "Dimensions: Sizes[time:0, dim_1:1, ]\n",
       "Coordinates:\n",
       "  alarm_severity             string           [None]  (time)  []\n",
       "  alarm_status               string           [None]  (time)  []\n",
       "  alarm_time                  int64             [ns]  (time)  []\n",
       "  cue_index                   int32           [None]  (time)  []\n",
       "  cue_timestamp_zero          int64             [ns]  (time)  []\n",
       "  time                    datetime64             [ns]  (time)  []\n",
       "Data:\n",
       "                            float64           [None]  (time, dim_1)  []\n",
       "\n",
       "]\n"
      ]
     },
     "execution_count": 4,
     "metadata": {},
     "output_type": "execute_result"
    }
   ],
   "source": [
    "owner = fileio.base.Person('Jochen Stahn', 'Paul Scherrer Institut', 'jochen.stahn@psi.ch')\n",
    "sample = fileio.data_source.Sample('Ni/Ti Multilayer', 'gas/solid', 'air | (Ni | Ti) * 5 | Si')\n",
    "creator = fileio.base.Person('Andrew R. McCluskey', 'European Spallation Source', 'andrew.mccluskey@ess.eu')\n",
    "\n",
    "sample = amor.load(amor.data.get_path(\"sample.nxs\"), owner, sample, creator, 'amor_reduction.ipynb', \n",
    "                   beamline=sample_beamline)\n",
    "reference = amor.load(amor.data.get_path(\"reference.nxs\"), owner, sample, creator, 'amor_reduction.ipynb', \n",
    "                      beamline=reference_beamline)\n",
    "sample"
   ]
  },
  {
   "cell_type": "markdown",
   "id": "7d30344d-fc38-483b-a2ff-872c4727dfa2",
   "metadata": {},
   "source": [
    "By simply plotting the data, we get a first glimpse into the data contents."
   ]
  },
  {
   "cell_type": "code",
   "execution_count": 5,
   "id": "4d58db96-96bb-4f02-9ed4-c227b778eb8f",
   "metadata": {},
   "outputs": [
    {
     "data": {
      "application/vnd.jupyter.widget-view+json": {
       "model_id": "2b55d3c0eb6e48878eba065ff553c799",
       "version_major": 2,
       "version_minor": 0
      },
      "text/plain": [
       "VBox(children=(HBox(children=(VBox(children=(Button(icon='home', layout=Layout(padding='0px 0px 0px 0px', widt…"
      ]
     },
     "metadata": {},
     "output_type": "display_data"
    }
   ],
   "source": [
    "sc.plot(sample)"
   ]
  },
  {
   "cell_type": "markdown",
   "id": "d5b8ab01-4924-451e-95fb-a04365373c54",
   "metadata": {},
   "source": [
    "The resolution function for these measurements involves combining a few contributing elements. \n",
    "The first is the resolution arising from the distance between the two choppers that make up the double blind chopper system, $d_{\\text{CC}}$.\n",
    "\n",
    "$$ \\frac{\\sigma\\lambda}{\\lambda} = \\frac{d_{\\text{CC}}}{2 d_{\\text{CD}} \\sqrt{2\\ln{2}}},$$\n",
    "\n",
    "where, $d_{\\text{CD}}$ is the chopper to detector distance, and the full width half maximum is converted to the standard deviation. "
   ]
  },
  {
   "cell_type": "code",
   "execution_count": null,
   "id": "149c05ea-b5b5-44f1-9b1b-177d79ad1b70",
   "metadata": {},
   "outputs": [],
   "source": [
    "sample.coords['sigma_lambda_by_lambda'] = amor.tools.fwhm_to_std(\n",
    "    sample.coords['chopper_chopper_distance'] / (\n",
    "        sample.coords['position'].fields.z - sample.coords['source_chopper'].value['position'].data.fields.z))"
   ]
  },
  {
   "cell_type": "markdown",
   "id": "e4ab7835-1dbe-4cf0-b6c3-deb953ccc595",
   "metadata": {},
   "source": [
    "There is also a resolution component based on projected footprint on the the sample size, $x_{\\text{s}}$, "
   ]
  },
  {
   "cell_type": "code",
   "execution_count": null,
   "id": "87829723-a265-4a4d-ba8e-ecd903eb4197",
   "metadata": {},
   "outputs": [],
   "source": [
    "sample.coords['sample_size_resolution'] = sc.scalar(0.18) * sc.to_unit(sample.coords['sample_size'], 'm') / sample.coords['position'].fields.z"
   ]
  },
  {
   "cell_type": "markdown",
   "id": "9a43dee7-fea3-4de9-9426-d3fe9741249d",
   "metadata": {
    "tags": []
   },
   "source": [
    "### Correcting the position of the detector pixels\n",
    "\n",
    "**Note:** once new Nexus files are produced, this step should go away. \n",
    "\n",
    "The pixel positions are wrong in the `sample.nxs` and `reference.nxs` files, and require an ad-hoc correction.\n",
    "We apply an arbitrary shift in the vertical (`y`) direction.\n",
    "We first move the pixels down by 0.955 degrees,\n",
    "so that the centre of the beam goes through the centre of the top half of the detector blades\n",
    "(the bottom half of the detectors was turned off).\n",
    "Next, we move all the pixels so that the centre of the top half of the detector pixels lies at an angle of $2 \\omega$,\n",
    "as described in the beamline diagram."
   ]
  },
  {
   "cell_type": "code",
   "execution_count": null,
   "id": "77bc292a-6cd9-4f55-9479-1b5b2c6b57ac",
   "metadata": {},
   "outputs": [],
   "source": [
    "logger.info(\"Correcting pixel positions in 'sample.nxs'\")\n",
    "def pixel_position_correction(data: sc.DataArray):\n",
    "    return data.coords['position'].fields.z * sc.tan(2.0 *\n",
    "                                                     data.coords['sample_rotation'] -\n",
    "                                                     (0.955 * sc.units.deg))\n",
    "sample.coords['position'].fields.y += pixel_position_correction(sample)\n",
    "reference.coords['position'].fields.y += pixel_position_correction(reference)\n",
    "sample.attrs['orso'].value.data_source.measurement.comment = 'Pixel positions corrected'\n",
    "reference.attrs['orso'].value.data_source.measurement.comment = 'Pixel positions corrected'"
   ]
  },
  {
   "cell_type": "markdown",
   "id": "5746a0e8-6e90-459b-a8cf-37af826686f9",
   "metadata": {},
   "source": [
    "We now check that the detector pixels are in the correct position by showing the instrument view"
   ]
  },
  {
   "cell_type": "code",
   "execution_count": null,
   "id": "77c70704-b45f-4131-aa84-63765a99668a",
   "metadata": {},
   "outputs": [],
   "source": [
    "amor.instrument_view(sample)"
   ]
  },
  {
   "cell_type": "markdown",
   "id": "5844965c-2d8a-4dd8-a080-855945e47ad0",
   "metadata": {},
   "source": [
    "## Coordinate transformation graph\n",
    "\n",
    "To compute the wavelength $\\lambda$, the scattering angle $\\theta$, and the $Q$ vector for our data,\n",
    "we construct a coordinate transformation graph.\n",
    "\n",
    "It is based on classical conversions from `tof` and pixel `position` to $\\lambda$ (`wavelength`),\n",
    "$\\theta$ (`theta`) and $Q$ (`Q`),\n",
    "but comprises a number of modifications.\n",
    "\n",
    "The computation of the scattering angle $\\theta$ includes a correction for the Earth's gravitational field which bends the flight path of the neutrons.\n",
    "The angle can be found using the following expression\n",
    "\n",
    "$$\\theta = \\sin^{-1}\\left(\\frac{\\left\\lvert y + \\frac{g m_{\\rm n}}{2 h^{2}} \\lambda^{2} L_{2}^{2} \\right\\rvert }{L_{2}}\\right) - \\omega$$\n",
    "\n",
    "where $m_{\\rm n}$ is the neutron mass,\n",
    "$g$ is the acceleration due to gravity,\n",
    "and $h$ is Planck's constant.\n",
    "\n",
    "For a graphical representation of the above expression,\n",
    "we consider once again the situation with a convergent beam onto an inclined sample.\n",
    "\n",
    "![specular_reflection](amor_specular_reflection.png)\n",
    "\n",
    "The detector (in green), whose center is located at an angle $\\gamma_{\\rm D}$ from the horizontal plane,\n",
    "has a physical extent and is measuring counts at multiple scattering angles at the same time.\n",
    "We consider two possible paths for neutrons.\n",
    "The first path (cyan) is travelling horizontally from the source to the sample and subsequently,\n",
    "following specular reflection, hits the detector at $\\gamma_{\\rm D}$ from the horizontal plane.\n",
    "From the symmetry of Bragg's law, the scattering angle for this path is $\\theta_{1} = \\gamma_{\\rm D} - \\omega$.\n",
    "\n",
    "The second path (red) is hitting the bottom edge of the detector.\n",
    "Assuming that all reflections are specular,\n",
    "the only way the detector can record neutron events at this location is if the neutron originated from the bottom part of the convergent beam.\n",
    "Using the same symmetry argument as above, the scattering angle is $\\theta_{2} = \\gamma_{2} - \\omega$. \n",
    "\n",
    "This expression differs slightly from the equation found in the computation of the $\\theta$ angle in other techniques such as\n",
    "[SANS](https://docs.mantidproject.org/nightly/algorithms/Q1D-v2.html#q-unit-conversion),\n",
    "in that the horizontal $x$ term is absent,\n",
    "because we assume a planar symmetry and only consider the vertical $y$ component of the displacement.\n",
    "\n",
    "The conversion graph is defined in the reflectometry module,\n",
    "and can be obtained via"
   ]
  },
  {
   "cell_type": "code",
   "execution_count": null,
   "id": "71b31e8c-7138-45a5-a9c1-8eb4e9727b09",
   "metadata": {},
   "outputs": [],
   "source": [
    "graph = amor.conversions.specular_reflection()\n",
    "sc.show_graph(graph, simplified=True)"
   ]
  },
  {
   "cell_type": "markdown",
   "id": "e1163c27-a355-432f-b060-f45f8b8bf215",
   "metadata": {},
   "source": [
    "## Computing the wavelength\n",
    "\n",
    "To compute the wavelength of the neutrons,\n",
    "we request the `wavelength` coordinate from the `transform_coords` method by supplying our graph defined above\n",
    "(see [here](https://scipp.github.io/scippneutron/user-guide/coordinate-transformations.html)\n",
    "for more information about using `transform_coords`).\n",
    "\n",
    "We also exclude all neutrons with a wavelength lower than 2.4 &#8491;."
   ]
  },
  {
   "cell_type": "code",
   "execution_count": null,
   "id": "9a8dade8-11c0-4b43-a8a4-ff431801f7b9",
   "metadata": {},
   "outputs": [],
   "source": [
    "sample_wav = sample.transform_coords([\"wavelength\"], graph=graph)\n",
    "wavelength_edges = sc.array(dims=['wavelength'], values=[2.4, 16.0], unit='angstrom')\n",
    "sample_wav = sc.bin(sample_wav, edges=[wavelength_edges])\n",
    "sample_wav.attrs['orso'].value.data_source.measurement.instrument_settings.wavelength = fileio.base.ValueRange(\n",
    "    wavelength_edges.min().value, wavelength_edges.max().value, 'angstrom')\n",
    "sample_wav"
   ]
  },
  {
   "cell_type": "code",
   "execution_count": null,
   "id": "c7e4ecca-bb23-4b6c-a056-ebb9dcfa579d",
   "metadata": {},
   "outputs": [],
   "source": [
    "sample_wav.bins.concatenate('detector_id').plot()"
   ]
  },
  {
   "cell_type": "code",
   "execution_count": null,
   "id": "0361b1c0-64e4-4b68-b290-9f64960613ee",
   "metadata": {},
   "outputs": [],
   "source": [
    "reference_wav = reference.transform_coords([\"wavelength\"], graph=graph)\n",
    "reference_wav = sc.bin(reference_wav, edges=[wavelength_edges])\n",
    "reference_wav.attrs['orso'].value.data_source.measurement.instrument_settings.wavelength = fileio.base.ValueRange(\n",
    "    wavelength_edges.min().value, wavelength_edges.max().value, 'angstrom')"
   ]
  },
  {
   "cell_type": "markdown",
   "id": "a7d127db-c648-4f9b-be31-57cc5a1880b4",
   "metadata": {},
   "source": [
    "## Compute the angle and perform the footprint correction\n",
    "\n",
    "Using the same method, we can compute the angle of reflectance ($\\theta$) and therefore correct for the footprint of the beam. "
   ]
  },
  {
   "cell_type": "code",
   "execution_count": null,
   "id": "80fd2381-6b96-472e-8500-038e217bd6fe",
   "metadata": {},
   "outputs": [],
   "source": [
    "sample_theta = sample_wav.transform_coords(['theta'], graph=graph)\n",
    "sample_theta.attrs['orso'].value.data_source.measurement.instrument_settings.incident_angle = fileio.base.ValueRange(\n",
    "    sample_theta.coords['theta'].min().value, sample_theta.coords['theta'].max().value, 'deg')"
   ]
  },
  {
   "cell_type": "markdown",
   "id": "3df82217-8c2b-475d-ae75-c05f83e2f1b9",
   "metadata": {},
   "source": [
    "The final part of the resolution to consider is that from the spatial resolution of the detector pixels, $\\Delta z$, which depends on the angle of incidence. \n",
    "\n",
    "$$ \\frac{\\sigma_{\\gamma}}{\\theta} = \\frac{1}{2\\sqrt{2\\ln{2}}} \\arctan{\\frac{\\Delta z}{d_{\\text{SD}}}}, $$\n",
    "\n",
    "where, $d_{\\text{SD}}$ is the same to detector distance. "
   ]
  },
  {
   "cell_type": "code",
   "execution_count": null,
   "id": "7fb63c73-3507-4e87-b2f4-6882d49f43ca",
   "metadata": {},
   "outputs": [],
   "source": [
    "sample_theta.bins.coords['sigma_gamma_by_theta'] = amor.tools.fwhm_to_std(\n",
    "    sc.atan(\n",
    "            sample_theta.coords['detector_spatial_resolution'] / sample.coords['position'].fields.z)) / sample_theta.bins.coords['theta']"
   ]
  },
  {
   "cell_type": "markdown",
   "id": "a0acf73c-3dd1-4d5e-b929-ac61a90ee273",
   "metadata": {},
   "source": [
    "From the theta values, we can calculate the footprint of the beam on the sample."
   ]
  },
  {
   "cell_type": "code",
   "execution_count": null,
   "id": "85332ec5-b41b-4778-8a51-398e39873485",
   "metadata": {},
   "outputs": [],
   "source": [
    "beam_on_sample = sample_theta.coords['beam_size'] / sc.sin(sample_theta.bins.coords['theta'])"
   ]
  },
  {
   "cell_type": "markdown",
   "id": "baf66666-c97d-46a0-b6ba-0f0dd2e085f6",
   "metadata": {},
   "source": [
    "Then we can determine the footprint scaling factor for the given theta angle as follows. "
   ]
  },
  {
   "cell_type": "code",
   "execution_count": null,
   "id": "856b38c4-cc74-4a00-ae19-fbc3e9d2bda9",
   "metadata": {},
   "outputs": [],
   "source": [
    "footprint_scale = sc.erf(amor.tools.fwhm_to_std(sample_theta.coords['sample_size'] / beam_on_sample))"
   ]
  },
  {
   "cell_type": "markdown",
   "id": "53501b59-63a4-4e62-a42d-80c85f7a6178",
   "metadata": {},
   "source": [
    "This footprint scale factor accounts for the fact that the illuminated area of the sample depends on the angle of incidence (which as we noted previously may be different for the sample and the reference)."
   ]
  },
  {
   "cell_type": "code",
   "execution_count": null,
   "id": "3583f74f-b439-4944-9094-55643ad5eb4e",
   "metadata": {},
   "outputs": [],
   "source": [
    "sample_theta /= footprint_scale.squeeze()\n",
    "sample_theta.attrs['orso'].value.reduction.corrections += ['footprint correction']"
   ]
  },
  {
   "cell_type": "markdown",
   "id": "a5532b22-51e0-4531-99f8-f02b4ba1b085",
   "metadata": {},
   "source": [
    "Then we repeat this process for the reference."
   ]
  },
  {
   "cell_type": "code",
   "execution_count": null,
   "id": "4e00af16-f26f-4df0-b478-d4ef0cc51b18",
   "metadata": {},
   "outputs": [],
   "source": [
    "reference_theta = reference_wav.transform_coords(['theta'], graph=graph)\n",
    "reference_theta.attrs['orso'].value.data_source.measurement.instrument_settings.incident_angle = fileio.base.ValueRange(\n",
    "    reference_theta.coords['theta'].min().value, reference_theta.coords['theta'].max().value, 'deg')\n",
    "beam_on_sample = reference_theta.coords['beam_size'] / sc.sin(reference_theta.bins.coords['theta'])\n",
    "footprint_scale = sc.erf(amor.tools.fwhm_to_std(reference_theta.coords['sample_size'] / beam_on_sample))\n",
    "reference_theta /= footprint_scale.squeeze()\n",
    "reference_theta.attrs['orso'].value.reduction.corrections += ['footprint correction']"
   ]
  },
  {
   "cell_type": "markdown",
   "id": "64a6b838-c594-48bc-a85f-3ba9a40088a6",
   "metadata": {},
   "source": [
    "## Compute the Q vector\n",
    "\n",
    "Once again using the same method, we can compute the $Q$ vector,\n",
    "which now depends on both detector position (id) and wavelength"
   ]
  },
  {
   "cell_type": "code",
   "execution_count": null,
   "id": "55daab88-10c1-4b2e-97de-b97e8317ad8e",
   "metadata": {},
   "outputs": [],
   "source": [
    "sample_q = sample_theta.transform_coords([\"Q\"], graph=graph)\n",
    "sample_q.attrs['orso'].value.reduction.corrections += ['gravity correction']\n",
    "reference_q = reference_theta.transform_coords([\"Q\"], graph=graph)\n",
    "reference_q.attrs['orso'].value.reduction.corrections += ['gravity correction']\n",
    "q_edges = sc.geomspace(dim='Q', start=0.008, stop=0.08, num=201, unit='1/angstrom')\n",
    "sample_q_binned = sc.bin(sample_q, edges=[q_edges])\n",
    "reference_q_binned = sc.bin(reference_q, edges=[q_edges])\n",
    "sc.plot({'sample': sample_q_binned.sum('detector_id'), 'uncalibrated reference': reference_q_binned.sum('detector_id')}, norm=\"log\")"
   ]
  },
  {
   "cell_type": "markdown",
   "id": "1442495d-f78f-436b-ad00-f369a01ba9ca",
   "metadata": {},
   "source": [
    "## Calibration of the super-mirror\n",
    "\n",
    "In order to normalise the data to give reflectivity data, as mentioned above, we use a measurement from a neutron super-mirror. \n",
    "However, first we must calibrate the super-mirror measurement. \n",
    "The calibration of the super-mirror depends on the properties of the super-mirror, and follows the equation below, \n",
    "\n",
    "$$ n(q) = \n",
    "  \\begin{cases}\n",
    "    1, & \\text{where } q < c_{\\mathrm{sm}} \\\\\n",
    "    [1-\\alpha(q - c_{\\mathrm{sm}})]^{-1}, & \\text{where } c_{\\mathrm{sm}} \\leq q \\leq mc_{\\mathrm{sm}} \\\\\n",
    "    0, & \\text{where } q > mc_{\\mathrm{sm}},\n",
    "  \\end{cases}  \n",
    "$$\n",
    "\n",
    "where $\\alpha$, $m$, and $c_{\\mathrm{sm}}$ are super-mirror properties. \n",
    "\n",
    "The number of counts in each of the detector/$Q$ bins are then summed and the calibration factor is found and the two are divided. "
   ]
  },
  {
   "cell_type": "code",
   "execution_count": null,
   "id": "daf577ef-55c0-4556-aeb0-685a339db05e",
   "metadata": {},
   "outputs": [],
   "source": [
    "reference_q_summed = reference_q_binned.bins.sum()\n",
    "calibration_factor = amor.calibrations.supermirror_calibration(reference_q_summed.coords['Q'])\n",
    "reference_q_summed_cal = reference_q_summed * calibration_factor\n",
    "reference_q_summed_cal.attrs['orso'].value.reduction.corrections += ['supermirror calibration']"
   ]
  },
  {
   "cell_type": "markdown",
   "id": "5ced652c-3536-49fb-88bc-1fc7bbfe20c7",
   "metadata": {},
   "source": [
    "The effect on the reference measurement can be seen in the plot below. "
   ]
  },
  {
   "cell_type": "code",
   "execution_count": null,
   "id": "a321a29b-3a6a-4ec4-ac35-fd8beb3474ea",
   "metadata": {},
   "outputs": [],
   "source": [
    "sc.plot({'Uncalibrated': reference_q_summed.sum('detector_id'), \n",
    "         'Calibrated': reference_q_summed_cal.sum('detector_id')}, \n",
    "        norm='log')"
   ]
  },
  {
   "cell_type": "markdown",
   "id": "a3af2ec5-f4ec-400d-ab89-a483262daf34",
   "metadata": {},
   "source": [
    "## Normalization by the super-mirror\n",
    "\n",
    "For each of the measurements, we should determine the number of counts in each bins and normalise this by the total number of counts in the measurement."
   ]
  },
  {
   "cell_type": "code",
   "execution_count": null,
   "id": "6110caf5-4b88-4019-bea7-f07070413678",
   "metadata": {},
   "outputs": [],
   "source": [
    "sample_q_summed = sample_q_binned.bins.sum()\n",
    "sample_q_summed.coords['sigma_gamma_by_theta'] = sample_q_binned.bins.coords['sigma_gamma_by_theta'].max('detector_id')\n",
    "\n",
    "sample_ncounts = sample_q_summed.sum()\n",
    "sample_norm = sample_q_summed / sample_ncounts\n",
    "sample_norm.attrs['orso'].value.reduction.corrections += ['total counts']\n",
    "reference_ncounts = reference_q_summed_cal.sum()\n",
    "reference_norm = reference_q_summed_cal / reference_ncounts\n",
    "reference_norm.attrs['orso'].value.reduction.corrections += ['total counts']"
   ]
  },
  {
   "cell_type": "markdown",
   "id": "f2d37d31-c1cd-433a-bacb-7c33076691b1",
   "metadata": {},
   "source": [
    "Now, we should obtain the final normalised data by dividing the two datasets. "
   ]
  },
  {
   "cell_type": "code",
   "execution_count": null,
   "id": "784c11db-f6d8-4959-8777-3be98aa8ba16",
   "metadata": {},
   "outputs": [],
   "source": [
    "normalized = sample_norm / reference_norm\n",
    "normalized.attrs['orso'] = sample_norm.attrs['orso']\n",
    "normalized.attrs['orso'].value.reduction.corrections = list(\n",
    "    set(sample_norm.attrs['orso'].value.reduction.corrections + reference_norm.attrs['orso'].value.reduction.corrections))\n",
    "normalized.attrs['orso'].value.data_source.measurement.reference = reference_norm.attrs['orso'].value.data_source.measurement.data_files"
   ]
  },
  {
   "cell_type": "markdown",
   "id": "03cc3513-a372-4d79-bcec-abf44a48cda4",
   "metadata": {},
   "source": [
    "The plot below shows the reflecivity as a function of `'detector_id'` and `'Q'`.\n",
    "Here, we note that there are a large number of pixels, where there was no neutrons detected in the reference measurements, leading to values of `nan` and `inf` in the normalised data.\n",
    "Therefore, we should mask these pixels before finding the mean along the `'detector_id'` dimension. "
   ]
  },
  {
   "cell_type": "code",
   "execution_count": null,
   "id": "7b26b666-4a61-4e9e-b361-9089e62658f6",
   "metadata": {},
   "outputs": [],
   "source": [
    "sc.plot(normalized, resolution={'y': 1000, 'x': 201}, norm='log')"
   ]
  },
  {
   "cell_type": "markdown",
   "id": "39042665-1bd0-45fd-b788-401b6efe76bd",
   "metadata": {},
   "source": [
    "The reference is assumed to be a perfect scatterer, therefore where there is no reflectivity in the reference measurement is it taken to be a region of `'Q'` space that cannot be accessed by the instrument. \n",
    "This leads to the number of detectors feeding data into each $Q$-bin being variable, this is particularly noticable at low-$Q$, there there are only a few pixels detecting neutrons. \n",
    "Therefore, in order to account for this variability as a function of $Q$, we mask those pixels where no neutrons were detected and perform an average over the remaining `'detector_id'` to reduce the data. "
   ]
  },
  {
   "cell_type": "code",
   "execution_count": null,
   "id": "8b176b7b-e1e2-496b-8241-9a8203faac30",
   "metadata": {},
   "outputs": [],
   "source": [
    "normalized.masks['no_reference_neutrons'] = (reference_norm == sc.scalar(0)).data\n",
    "sc.plot(normalized.mean('detector_id'), norm='log')"
   ]
  },
  {
   "cell_type": "markdown",
   "id": "95a9365b-e133-4d50-9baa-d5fde49ff72e",
   "metadata": {},
   "source": [
    "To obtain the final resolution as a function of $Q$, the three components of the resolution function are combined. "
   ]
  },
  {
   "cell_type": "code",
   "execution_count": null,
   "id": "eb2ef19e-2388-40f6-91b2-bb58b83c3246",
   "metadata": {},
   "outputs": [],
   "source": [
    "normalized.coords['sigma_Q_by_Q'] = sc.sqrt(\n",
    "    normalized.coords['sigma_gamma_by_theta'] ** 2 + \\\n",
    "    normalized.coords['sigma_lambda_by_lambda'] ** 2 + \\\n",
    "    normalized.coords['sample_size_resolution'] ** 2)"
   ]
  },
  {
   "cell_type": "markdown",
   "id": "18bcf758-ab6c-4333-84b3-e9268e0b1318",
   "metadata": {
    "tags": []
   },
   "source": [
    "## Writing to a file\n",
    "\n",
    "Having completed the data reduction process, it is then possible to write the data to a `.ort` format file. \n",
    "This [file format](https://github.com/reflectivity/file_format/blob/master/specification.md) has been developed for reduction reflectometry data by [ORSO](https://www.reflectometry.org). "
   ]
  },
  {
   "cell_type": "code",
   "execution_count": null,
   "id": "0dfa7962-e494-4948-bd0c-32d9603bdc2a",
   "metadata": {},
   "outputs": [],
   "source": [
    "reflectometry.save(normalized, 'amor.ort')"
   ]
  },
  {
   "cell_type": "markdown",
   "id": "71042c4a-798e-4249-a75b-3ddcbc7652ca",
   "metadata": {},
   "source": [
    "This file will be rich in metadata that has been included during the reduction process. "
   ]
  },
  {
   "cell_type": "code",
   "execution_count": null,
   "id": "23140806-9d56-40de-b1e2-9e4d909c6f85",
   "metadata": {},
   "outputs": [],
   "source": [
    "!head amor.ort"
   ]
  },
  {
   "cell_type": "markdown",
   "id": "0fc6d74e-e97e-415d-8d1f-6a6396c0e8eb",
   "metadata": {
    "tags": []
   },
   "source": [
    "## Make a $(\\lambda, \\theta)$ map\n",
    "\n",
    "A good sanity check is to create a two-dimensional map of the counts in $\\lambda$ and $\\theta$ bins.\n",
    "To achieve this, we request two output coordinates from the `transform_coords` method."
   ]
  },
  {
   "cell_type": "code",
   "execution_count": null,
   "id": "30d0d9dd-b4ec-4d57-8314-2c81c9e727d9",
   "metadata": {},
   "outputs": [],
   "source": [
    "sample_theta = sample.transform_coords([\"theta\", \"wavelength\"], graph=graph)"
   ]
  },
  {
   "cell_type": "markdown",
   "id": "d6e51845-09ef-4596-b0b8-593eafddf5f2",
   "metadata": {},
   "source": [
    "Then, we concatenate all the events in the `detector_id` dimension"
   ]
  },
  {
   "cell_type": "code",
   "execution_count": null,
   "id": "69e2de29-2f6c-459e-9521-177a3c0887f5",
   "metadata": {},
   "outputs": [],
   "source": [
    "sample_theta = sample_theta.bins.concatenate('detector_id')"
   ]
  },
  {
   "cell_type": "markdown",
   "id": "417b0c29-6f96-4a19-9828-5dbce9df6124",
   "metadata": {},
   "source": [
    "Finally, we bin into the existing `theta` dimension, and into a new `wavelength` dimension,\n",
    "to create a 2D output"
   ]
  },
  {
   "cell_type": "code",
   "execution_count": null,
   "id": "466687c7-7603-40a5-ab8d-f3e23ecdab0a",
   "metadata": {},
   "outputs": [],
   "source": [
    "nbins = 165\n",
    "theta_edges = sc.linspace(dim='theta', start=0.0, stop=1.2, num=nbins, unit='deg')\n",
    "wavelength_edges = sc.linspace(dim='wavelength', start=0, stop=15.0, num=nbins, unit='angstrom')\n",
    "binned = sc.bin(sample_theta, edges=[sc.to_unit(theta_edges, 'rad'), wavelength_edges])\n",
    "binned"
   ]
  },
  {
   "cell_type": "code",
   "execution_count": null,
   "id": "87ba276f-d15f-4f51-aafe-748544d5c65a",
   "metadata": {},
   "outputs": [],
   "source": [
    "binned.bins.sum().plot()"
   ]
  },
  {
   "cell_type": "markdown",
   "id": "b4ccc717-7b2d-491e-b202-3f16f0a825af",
   "metadata": {},
   "source": [
    "This plot can be used to check if the value of the sample rotation angle $\\omega$ is correct.\n",
    "The bright triangles should be pointing back to the origin $\\lambda = \\theta = 0$."
   ]
  },
  {
   "cell_type": "markdown",
   "id": "db1a9cf1-dc47-4b1f-b459-db5b701b558d",
   "metadata": {},
   "source": [
    "## References"
   ]
  },
  {
   "cell_type": "markdown",
   "id": "ac7196da-a78d-4f50-b4f5-62e9119bc2b9",
   "metadata": {},
   "source": [
    "<div id='stahn2016'></div>\n",
    "Stahn J., Glavic A., **2016**,\n",
    "*Focusing neutron reflectometry: Implementation and experience on the TOF-reflectometer Amor*,\n",
    "[Nuclear Instruments and Methods in Physics Research Section A: Accelerators, Spectrometers, Detectors and Associated Equipment, 821, 44-54](https://doi.org/10.1016/j.nima.2016.03.007)"
   ]
  }
 ],
 "metadata": {
  "kernelspec": {
   "display_name": "Python 3 (ipykernel)",
   "language": "python",
   "name": "python3"
  },
  "language_info": {
   "codemirror_mode": {
    "name": "ipython",
    "version": 3
   },
   "file_extension": ".py",
   "mimetype": "text/x-python",
   "name": "python",
   "nbconvert_exporter": "python",
   "pygments_lexer": "ipython3",
   "version": "3.8.12"
  }
 },
 "nbformat": 4,
 "nbformat_minor": 5
}
