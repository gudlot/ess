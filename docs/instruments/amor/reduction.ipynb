{
 "cells": [
  {
   "cell_type": "code",
   "execution_count": null,
   "id": "c55f69ba-80db-4cf7-9b32-3865f952a13d",
   "metadata": {},
   "outputs": [],
   "source": [
    "import os\n",
    "import scipp as sc\n",
    "import scippneutron as scn\n",
    "from scippneutron.tof import conversions\n",
    "from ess import amor, reflectometry as refl"
   ]
  },
  {
   "cell_type": "code",
   "execution_count": null,
   "id": "ff2c2c9a-ac1f-404a-bef7-559ae85b91af",
   "metadata": {},
   "outputs": [],
   "source": [
    "local_data_path = os.path.join('ess-notebooks', 'amor')\n",
    "data_dir = os.path.join('data', local_data_path)\n",
    "data_file = os.path.join(data_dir, 'sample.nxs')\n",
    "\n",
    "sample = amor.io.load(data_file)\n",
    "sample"
   ]
  },
  {
   "cell_type": "code",
   "execution_count": null,
   "id": "4d58db96-96bb-4f02-9ed4-c227b778eb8f",
   "metadata": {},
   "outputs": [],
   "source": [
    "sc.plot(sample)"
   ]
  },
  {
   "cell_type": "code",
   "execution_count": null,
   "id": "71b31e8c-7138-45a5-a9c1-8eb4e9727b09",
   "metadata": {},
   "outputs": [],
   "source": [
    "graph = refl.conversions.reflectometry_graph()\n",
    "graph"
   ]
  },
  {
   "cell_type": "code",
   "execution_count": null,
   "id": "9f175ada-6ab3-4b2f-a65d-8cbb0abe2d1e",
   "metadata": {},
   "outputs": [],
   "source": [
    "sc.show_graph(graph, simplified=True)"
   ]
  },
  {
   "cell_type": "code",
   "execution_count": null,
   "id": "ac0ce58e-2b0b-4931-8899-d7a9dd41971c",
   "metadata": {},
   "outputs": [],
   "source": [
    "sample.coords[\"gravity\"] = sc.vector(value=[0, -1, 0]) * sc.constants.g\n",
    "sample"
   ]
  },
  {
   "cell_type": "code",
   "execution_count": null,
   "id": "8bc2a9e3-ca17-4724-a47e-9bcd22c6919a",
   "metadata": {},
   "outputs": [],
   "source": [
    "q_with_gravity = sample.transform_coords([\"Q\"], graph=graph)\n",
    "q_with_gravity"
   ]
  },
  {
   "cell_type": "code",
   "execution_count": null,
   "id": "6e558e72-2585-4670-bee1-d95de2dfb5aa",
   "metadata": {},
   "outputs": [],
   "source": [
    "q_edges = sc.linspace(dim='Q', start=0.008, stop=0.08,\n",
    "                      num=201, unit='1/angstrom')\n",
    "q_binned_with_g = sc.bin(q_with_gravity, edges=[q_edges])\n",
    "q_summed_with_g = q_binned_with_g.sum('detector_id')\n",
    "sc.plot(q_summed_with_g[\"wavelength\", 0], norm=\"log\")"
   ]
  }
 ],
 "metadata": {
  "kernelspec": {
   "display_name": "Python 3",
   "language": "python",
   "name": "python3"
  },
  "language_info": {
   "codemirror_mode": {
    "name": "ipython",
    "version": 3
   },
   "file_extension": ".py",
   "mimetype": "text/x-python",
   "name": "python",
   "nbconvert_exporter": "python",
   "pygments_lexer": "ipython3",
   "version": "3.7.10"
  }
 },
 "nbformat": 4,
 "nbformat_minor": 5
}
