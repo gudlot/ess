{
 "cells": [
  {
   "cell_type": "code",
   "execution_count": null,
   "id": "b58104c6-a196-4576-b3f0-9fb6fb1216e9",
   "metadata": {},
   "outputs": [],
   "source": [
    "import scipp as sc\n",
    "import scippneutron as scn\n",
    "from ess.diffraction.powder import calibration, conversions, normalization\n",
    "import ess\n",
    "import numpy as np"
   ]
  },
  {
   "cell_type": "code",
   "execution_count": null,
   "id": "c1d52d95-727c-4d67-b1f9-dc8c4e345d15",
   "metadata": {},
   "outputs": [],
   "source": [
    "sample = scn.load(ess.powgen.data.sample_file(),\n",
    "                  advanced_geometry=True,\n",
    "                  load_pulse_times=False,\n",
    "                  mantid_args={'LoadMonitors': True})"
   ]
  },
  {
   "cell_type": "code",
   "execution_count": null,
   "id": "1ca5395a-4a43-4eaa-85fa-f43e6ac1a576",
   "metadata": {},
   "outputs": [],
   "source": [
    "cal = calibration.load_calibration(\n",
    "    ess.powgen.data.calibration_file(),\n",
    "    mantid_args={'InstrumentFilename': 'POWGEN_Definition_2011-02-25.xml'})"
   ]
  },
  {
   "cell_type": "code",
   "execution_count": null,
   "id": "d9b964ee-43b3-4bc1-b079-dfede08d3208",
   "metadata": {},
   "outputs": [],
   "source": [
    "cal = ess.powgen.beamline.map_detector_to_spectrum(cal, detector_info=sample.coords['detector_info'].value)"
   ]
  },
  {
   "cell_type": "code",
   "execution_count": null,
   "id": "723704af-1dc1-4cce-a396-77a754b19d77",
   "metadata": {},
   "outputs": [],
   "source": [
    "sample"
   ]
  },
  {
   "cell_type": "markdown",
   "id": "ebfdcccc-7638-4dbb-94f4-cf070d9ed28d",
   "metadata": {},
   "source": [
    "Normalize by proton charge"
   ]
  },
  {
   "cell_type": "code",
   "execution_count": null,
   "id": "85bd7848-a7db-42c6-974a-1eb5bf3e9860",
   "metadata": {},
   "outputs": [],
   "source": [
    "sample /= sample.attrs['gd_prtn_chrg'].values"
   ]
  },
  {
   "cell_type": "code",
   "execution_count": null,
   "id": "69388346-24ab-4035-b18d-b10bf274e4c4",
   "metadata": {},
   "outputs": [],
   "source": [
    "sample_dspacing = conversions.to_dspacing_with_calibration(sample, calibration=cal)"
   ]
  },
  {
   "cell_type": "markdown",
   "id": "f670ce66-38cf-44ff-ad7c-d5dd30e3b09e",
   "metadata": {},
   "source": [
    "Vanadium"
   ]
  },
  {
   "cell_type": "code",
   "execution_count": null,
   "id": "bded4225-b9b5-4ef5-a769-a3d03ab5426a",
   "metadata": {},
   "outputs": [],
   "source": [
    "def load_auxilliary_as_wavelength(filename):\n",
    "    da = scn.load(filename,\n",
    "                  advanced_geometry=True,\n",
    "                  load_pulse_times=False,\n",
    "                  mantid_args={'LoadMonitors': True})\n",
    "    return da.transform_coords('wavelength',\n",
    "                               graph={\n",
    "                                   **scn.tof.conversions.beamline(scatter=True),\n",
    "                                   **scn.tof.conversions.elastic(\"tof\")\n",
    "                               })"
   ]
  },
  {
   "cell_type": "code",
   "execution_count": null,
   "id": "e5d8103f-0953-4f9a-850c-3642692b59aa",
   "metadata": {},
   "outputs": [],
   "source": [
    "vana = load_auxilliary_as_wavelength(ess.powgen.data.vanadium_file())"
   ]
  },
  {
   "cell_type": "code",
   "execution_count": null,
   "id": "227d71f0-521e-4934-b4cc-50fc006f50a7",
   "metadata": {},
   "outputs": [],
   "source": [
    "empty_instr = load_auxilliary_as_wavelength(ess.powgen.data.empty_instrument_file())"
   ]
  },
  {
   "cell_type": "code",
   "execution_count": null,
   "id": "7175017b-0b54-4b73-9e48-a798c974123e",
   "metadata": {},
   "outputs": [],
   "source": [
    "vana = normalization.subtract_empty_instrument(vana, empty_instr)\n",
    "del empty_instr"
   ]
  },
  {
   "cell_type": "code",
   "execution_count": null,
   "id": "03105e85-f66c-45b4-9b50-adb9192763a1",
   "metadata": {},
   "outputs": [],
   "source": [
    "vana_dspacing = conversions.to_dspacing_with_calibration(vana, calibration=cal)"
   ]
  },
  {
   "cell_type": "code",
   "execution_count": null,
   "id": "70fd1e76-a16d-4b6d-94d0-fb1284cb26a4",
   "metadata": {},
   "outputs": [],
   "source": [
    "vana_dspacing"
   ]
  },
  {
   "cell_type": "code",
   "execution_count": null,
   "id": "ba9ab7db-5752-4130-8cfb-ec00c70feed8",
   "metadata": {},
   "outputs": [],
   "source": [
    "v = vana_dspacing.bins.concat('spectrum')\n",
    "min_dspacing = sc.min(v.coords['dspacing']).value\n",
    "max_dspacing = sc.max(v.coords['dspacing']).value\n",
    "dspacing_edges = sc.linspace('dspacing',\n",
    "                             min_dspacing,\n",
    "                             max_dspacing,\n",
    "                             200,\n",
    "                             unit=v.coords['dspacing'].unit)\n",
    "vana_histo = sc.histogram(v, bins=dspacing_edges)"
   ]
  },
  {
   "cell_type": "code",
   "execution_count": null,
   "id": "5bd287a8-d26e-4134-b1b5-3ed686cca417",
   "metadata": {},
   "outputs": [],
   "source": [
    "s = sample_dspacing.bins.concat('spectrum')\n",
    "sample_corrected = s.bins / sc.lookup(vana_histo, dim='dspacing')\n",
    "sample_corrected = sc.histogram(sample_corrected, bins=dspacing_edges)"
   ]
  },
  {
   "cell_type": "code",
   "execution_count": null,
   "id": "5ef778f1-e23a-492f-9a08-9a08e889ad83",
   "metadata": {},
   "outputs": [],
   "source": [
    "sample_corrected.plot()"
   ]
  },
  {
   "cell_type": "code",
   "execution_count": null,
   "id": "a412534e-06e5-4723-9856-37e652dfacf7",
   "metadata": {},
   "outputs": [],
   "source": []
  }
 ],
 "metadata": {
  "kernelspec": {
   "display_name": "Python 3 (ipykernel)",
   "language": "python",
   "name": "python3"
  },
  "language_info": {
   "codemirror_mode": {
    "name": "ipython",
    "version": 3
   },
   "file_extension": ".py",
   "mimetype": "text/x-python",
   "name": "python",
   "nbconvert_exporter": "python",
   "pygments_lexer": "ipython3",
   "version": "3.9.10"
  }
 },
 "nbformat": 4,
 "nbformat_minor": 5
}
