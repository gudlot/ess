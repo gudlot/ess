{
 "cells": [
  {
   "cell_type": "code",
   "execution_count": null,
   "id": "b58104c6-a196-4576-b3f0-9fb6fb1216e9",
   "metadata": {},
   "outputs": [],
   "source": [
    "import scipp as sc\n",
    "import scippneutron as scn\n",
    "from ess.diffraction import powder\n",
    "from ess import powgen\n",
    "import ess\n",
    "import numpy as np"
   ]
  },
  {
   "cell_type": "code",
   "execution_count": null,
   "id": "c1d52d95-727c-4d67-b1f9-dc8c4e345d15",
   "metadata": {},
   "outputs": [],
   "source": [
    "sample = scn.load(ess.powgen.data.sample_file(),\n",
    "                  advanced_geometry=True,\n",
    "                  load_pulse_times=False,\n",
    "                  mantid_args={'LoadMonitors': True})"
   ]
  },
  {
   "cell_type": "code",
   "execution_count": null,
   "id": "1ca5395a-4a43-4eaa-85fa-f43e6ac1a576",
   "metadata": {},
   "outputs": [],
   "source": [
    "cal = powder.load_calibration(\n",
    "    ess.powgen.data.calibration_file(),\n",
    "    mantid_args={'InstrumentFilename': 'POWGEN_Definition_2011-02-25.xml'})"
   ]
  },
  {
   "cell_type": "code",
   "execution_count": null,
   "id": "d9b964ee-43b3-4bc1-b079-dfede08d3208",
   "metadata": {},
   "outputs": [],
   "source": [
    "cal = powgen.beamline.map_detector_to_spectrum(cal, detector_info=sample.coords['detector_info'].value)"
   ]
  },
  {
   "cell_type": "code",
   "execution_count": null,
   "id": "723704af-1dc1-4cce-a396-77a754b19d77",
   "metadata": {},
   "outputs": [],
   "source": [
    "sample"
   ]
  },
  {
   "cell_type": "markdown",
   "id": "ebfdcccc-7638-4dbb-94f4-cf070d9ed28d",
   "metadata": {},
   "source": [
    "Normalize by proton charge"
   ]
  },
  {
   "cell_type": "code",
   "execution_count": null,
   "id": "85bd7848-a7db-42c6-974a-1eb5bf3e9860",
   "metadata": {},
   "outputs": [],
   "source": [
    "sample /= sample.attrs['gd_prtn_chrg'].values"
   ]
  },
  {
   "cell_type": "code",
   "execution_count": null,
   "id": "69388346-24ab-4035-b18d-b10bf274e4c4",
   "metadata": {},
   "outputs": [],
   "source": [
    "sample_dspacing = powder.to_dspacing_with_calibration(sample, calibration=cal)"
   ]
  },
  {
   "cell_type": "markdown",
   "id": "f670ce66-38cf-44ff-ad7c-d5dd30e3b09e",
   "metadata": {},
   "source": [
    "Vanadium"
   ]
  },
  {
   "cell_type": "code",
   "execution_count": null,
   "id": "b9494f15-1fb2-4236-95a7-800a04896e2f",
   "metadata": {},
   "outputs": [],
   "source": [
    "vana = powder.load_vanadium(powgen.data.vanadium_file(), powgen.data.empty_instrument_file())"
   ]
  },
  {
   "cell_type": "code",
   "execution_count": null,
   "id": "03105e85-f66c-45b4-9b50-adb9192763a1",
   "metadata": {},
   "outputs": [],
   "source": [
    "vana_dspacing = powder.to_dspacing_with_calibration(vana, calibration=cal)"
   ]
  },
  {
   "cell_type": "code",
   "execution_count": null,
   "id": "70fd1e76-a16d-4b6d-94d0-fb1284cb26a4",
   "metadata": {},
   "outputs": [],
   "source": [
    "vana_dspacing"
   ]
  },
  {
   "cell_type": "code",
   "execution_count": null,
   "id": "ba9ab7db-5752-4130-8cfb-ec00c70feed8",
   "metadata": {},
   "outputs": [],
   "source": [
    "v = vana_dspacing.bins.concat('spectrum')\n",
    "min_dspacing = sc.min(v.coords['dspacing']).value\n",
    "max_dspacing = sc.max(v.coords['dspacing']).value\n",
    "dspacing_edges = sc.linspace('dspacing',\n",
    "                             min_dspacing,\n",
    "                             max_dspacing,\n",
    "                             200,\n",
    "                             unit=v.coords['dspacing'].unit)\n",
    "vana_histo = sc.histogram(v, bins=dspacing_edges)"
   ]
  },
  {
   "cell_type": "code",
   "execution_count": null,
   "id": "5bd287a8-d26e-4134-b1b5-3ed686cca417",
   "metadata": {},
   "outputs": [],
   "source": [
    "s = sample_dspacing.bins.concat('spectrum')\n",
    "sample_corrected = s.bins / sc.lookup(vana_histo, dim='dspacing')\n",
    "sample_corrected = sc.histogram(sample_corrected, bins=dspacing_edges)"
   ]
  },
  {
   "cell_type": "code",
   "execution_count": null,
   "id": "5ef778f1-e23a-492f-9a08-9a08e889ad83",
   "metadata": {},
   "outputs": [],
   "source": [
    "sample_corrected.plot()"
   ]
  },
  {
   "cell_type": "code",
   "execution_count": null,
   "id": "ec337c3d-ee33-4d4a-9d5c-99c1127a0d54",
   "metadata": {},
   "outputs": [],
   "source": [
    "sample_dspacing.coords['two_theta'] = scn.two_theta(sample_dspacing)\n",
    "vana_dspacing.coords['two_theta'] = scn.two_theta(vana_dspacing)"
   ]
  },
  {
   "cell_type": "code",
   "execution_count": null,
   "id": "a412534e-06e5-4723-9856-37e652dfacf7",
   "metadata": {},
   "outputs": [],
   "source": [
    "two_theta = sc.linspace(dim='two_theta', unit='rad', start=0.0, stop=np.pi, num=16)\n",
    "sample_focussed = sc.groupby(sample_dspacing, 'two_theta', bins=two_theta).bins.concat('spectrum')\n",
    "vana_focussed = sc.groupby(sample_dspacing, 'two_theta', bins=two_theta).bins.concat('spectrum')"
   ]
  },
  {
   "cell_type": "code",
   "execution_count": null,
   "id": "0532df2d-a907-40ed-8271-2dc3a71b04ee",
   "metadata": {},
   "outputs": [],
   "source": [
    "norm = vana_histo = sc.histogram(vana_focussed, bins=dspacing_edges)\n",
    "sample_focussed.bins /= sc.lookup(norm, dim='dspacing')\n",
    "normalized = sc.histogram(sample_focussed, bins=dspacing_edges)"
   ]
  },
  {
   "cell_type": "code",
   "execution_count": null,
   "id": "e66a78f7-e91c-4f81-a3ad-e77f6a4c05ae",
   "metadata": {},
   "outputs": [],
   "source": [
    "normalized.plot(vmin=sc.scalar(0), vmax=sc.scalar(0.8))"
   ]
  },
  {
   "cell_type": "code",
   "execution_count": null,
   "id": "f68c3020-fb91-4fe0-befa-8cd0f34a529a",
   "metadata": {},
   "outputs": [],
   "source": [
    "normalized"
   ]
  },
  {
   "cell_type": "code",
   "execution_count": null,
   "id": "694c8d66-58ea-4645-adca-b33d95f81d23",
   "metadata": {},
   "outputs": [],
   "source": [
    "angle = normalized.coords['two_theta'].values\n",
    "angle = 0.5 * (angle[1:] + angle[:-1])\n",
    "results = {\n",
    "    f'{round(angle[group], 3)} rad': normalized['dspacing', :100]['two_theta', group]\n",
    "    for group in range(2, 6)\n",
    "}\n",
    "sc.plot(results)"
   ]
  },
  {
   "cell_type": "code",
   "execution_count": null,
   "id": "26c3694a-8fbd-40c7-b30a-d20ca83ac407",
   "metadata": {},
   "outputs": [],
   "source": []
  }
 ],
 "metadata": {
  "kernelspec": {
   "display_name": "Python 3 (ipykernel)",
   "language": "python",
   "name": "python3"
  },
  "language_info": {
   "codemirror_mode": {
    "name": "ipython",
    "version": 3
   },
   "file_extension": ".py",
   "mimetype": "text/x-python",
   "name": "python",
   "nbconvert_exporter": "python",
   "pygments_lexer": "ipython3",
   "version": "3.9.10"
  }
 },
 "nbformat": 4,
 "nbformat_minor": 5
}
