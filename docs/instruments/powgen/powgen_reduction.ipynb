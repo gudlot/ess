{
 "cells": [
  {
   "cell_type": "markdown",
   "id": "386ff2b7-10eb-4a7d-8c65-e59b17a53d36",
   "metadata": {},
   "source": [
    "# POWGEN Reduction\n",
    "\n",
    "A simple reduction workflow for the [POWGEN](https://sns.gov/powgen) beamline."
   ]
  },
  {
   "cell_type": "code",
   "execution_count": null,
   "id": "b58104c6-a196-4576-b3f0-9fb6fb1216e9",
   "metadata": {},
   "outputs": [],
   "source": [
    "import scipp as sc\n",
    "import scippneutron as scn\n",
    "from ess import diffraction\n",
    "from ess import powgen\n",
    "import ess\n",
    "import numpy as np"
   ]
  },
  {
   "cell_type": "code",
   "execution_count": null,
   "id": "c88d48df-272a-4f83-8b4a-43450a365b1f",
   "metadata": {},
   "outputs": [],
   "source": [
    "logger = ess.logging.configure_workflow('powgen_reduction',\n",
    "                                        filename='powgen.log')"
   ]
  },
  {
   "cell_type": "markdown",
   "id": "da4040e8-681e-4eb7-a205-af6a88539ffa",
   "metadata": {},
   "source": [
    "## Load Data"
   ]
  },
  {
   "cell_type": "markdown",
   "id": "8db8e21f-f19c-4498-a4d1-d34142b2ba02",
   "metadata": {},
   "source": [
    "Load the sample data."
   ]
  },
  {
   "cell_type": "code",
   "execution_count": null,
   "id": "c1d52d95-727c-4d67-b1f9-dc8c4e345d15",
   "metadata": {},
   "outputs": [],
   "source": [
    "sample = scn.load(ess.powgen.data.sample_file(),\n",
    "                  advanced_geometry=True,\n",
    "                  load_pulse_times=False,\n",
    "                  mantid_args={'LoadMonitors': True})"
   ]
  },
  {
   "cell_type": "code",
   "execution_count": null,
   "id": "723704af-1dc1-4cce-a396-77a754b19d77",
   "metadata": {},
   "outputs": [],
   "source": [
    "sample"
   ]
  },
  {
   "cell_type": "markdown",
   "id": "ebfdcccc-7638-4dbb-94f4-cf070d9ed28d",
   "metadata": {},
   "source": [
    "Normalize by proton charge"
   ]
  },
  {
   "cell_type": "code",
   "execution_count": null,
   "id": "85bd7848-a7db-42c6-974a-1eb5bf3e9860",
   "metadata": {},
   "outputs": [],
   "source": [
    "sample /= sample.attrs['gd_prtn_chrg'].values"
   ]
  },
  {
   "cell_type": "markdown",
   "id": "52e9d8d7-474c-423b-baf4-e9e135f6e46d",
   "metadata": {},
   "source": [
    "## Calibration"
   ]
  },
  {
   "cell_type": "markdown",
   "id": "d9291753-2b26-4d5d-8396-f4d3a2a9abfc",
   "metadata": {},
   "source": [
    "Load calibration data.\n",
    "We need to specify an instrument definition that Mantid udnerstands."
   ]
  },
  {
   "cell_type": "code",
   "execution_count": null,
   "id": "1ca5395a-4a43-4eaa-85fa-f43e6ac1a576",
   "metadata": {},
   "outputs": [],
   "source": [
    "cal = diffraction.load_calibration(\n",
    "    ess.powgen.data.calibration_file(),\n",
    "    instrument_filename='POWGEN_Definition_2011-02-25.xml')"
   ]
  },
  {
   "cell_type": "markdown",
   "id": "02c9608f-7b1d-412b-a4f0-df064b340916",
   "metadata": {},
   "source": [
    "The calibration is loaded with a 'detector' dimension.\n",
    "Compute the corresponding spectrum indices using the detector info."
   ]
  },
  {
   "cell_type": "code",
   "execution_count": null,
   "id": "d9b964ee-43b3-4bc1-b079-dfede08d3208",
   "metadata": {},
   "outputs": [],
   "source": [
    "cal = powgen.beamline.map_detector_to_spectrum(cal, detector_info=sample.coords['detector_info'].value)"
   ]
  },
  {
   "cell_type": "code",
   "execution_count": null,
   "id": "59566cfb-e175-44ea-bd09-bd2324514405",
   "metadata": {},
   "outputs": [],
   "source": [
    "cal"
   ]
  },
  {
   "cell_type": "code",
   "execution_count": null,
   "id": "69388346-24ab-4035-b18d-b10bf274e4c4",
   "metadata": {},
   "outputs": [],
   "source": [
    "sample_dspacing = diffraction.to_dspacing_with_calibration(sample, calibration=cal)"
   ]
  },
  {
   "cell_type": "markdown",
   "id": "bc226f10-71fe-4571-8391-db35028c4c76",
   "metadata": {},
   "source": [
    "## Vanadium Correction"
   ]
  },
  {
   "cell_type": "markdown",
   "id": "f670ce66-38cf-44ff-ad7c-d5dd30e3b09e",
   "metadata": {},
   "source": [
    "Vanadium"
   ]
  },
  {
   "cell_type": "code",
   "execution_count": null,
   "id": "b9494f15-1fb2-4236-95a7-800a04896e2f",
   "metadata": {},
   "outputs": [],
   "source": [
    "vana = diffraction.load_vanadium(powgen.data.vanadium_file(), powgen.data.empty_instrument_file())"
   ]
  },
  {
   "cell_type": "code",
   "execution_count": null,
   "id": "03105e85-f66c-45b4-9b50-adb9192763a1",
   "metadata": {},
   "outputs": [],
   "source": [
    "vana_dspacing = diffraction.to_dspacing_with_calibration(vana, calibration=cal)"
   ]
  },
  {
   "cell_type": "code",
   "execution_count": null,
   "id": "70fd1e76-a16d-4b6d-94d0-fb1284cb26a4",
   "metadata": {},
   "outputs": [],
   "source": [
    "vana_dspacing"
   ]
  },
  {
   "cell_type": "markdown",
   "id": "dd2ef840-a5aa-45dd-aaea-c426dea00a3d",
   "metadata": {},
   "source": [
    "We need to histogram the vanadium events in order to normalize our data.\n",
    "For consistency, we use these bin edges for both vanadium and later the sample data."
   ]
  },
  {
   "cell_type": "code",
   "execution_count": null,
   "id": "ba9ab7db-5752-4130-8cfb-ec00c70feed8",
   "metadata": {},
   "outputs": [],
   "source": [
    "d = vana_dspacing.coords['dspacing']\n",
    "dspacing_edges = sc.linspace('dspacing',\n",
    "                             d.min().value,\n",
    "                             d.max().value,\n",
    "                             200,\n",
    "                             unit=d.unit)"
   ]
  },
  {
   "cell_type": "markdown",
   "id": "2278a3db-6b79-4421-a1ff-2628226f4166",
   "metadata": {},
   "source": [
    "### Combine all Spectra"
   ]
  },
  {
   "cell_type": "markdown",
   "id": "84aac5f6-38bd-4246-974b-2a94c2dd80d0",
   "metadata": {},
   "source": [
    "First, compute a corrected d-spacing distribution for all spectra at once."
   ]
  },
  {
   "cell_type": "code",
   "execution_count": null,
   "id": "5bd287a8-d26e-4134-b1b5-3ed686cca417",
   "metadata": {},
   "outputs": [],
   "source": [
    "normalized = diffraction.normalize_by_vanadium(sample_dspacing.bins.concat('spectrum'),\n",
    "                                          vanadium=vana_dspacing.bins.concat('spectrum'),\n",
    "                                          edges=dspacing_edges)"
   ]
  },
  {
   "cell_type": "code",
   "execution_count": null,
   "id": "5ef778f1-e23a-492f-9a08-9a08e889ad83",
   "metadata": {},
   "outputs": [],
   "source": [
    "normalized.plot()"
   ]
  },
  {
   "cell_type": "markdown",
   "id": "df5f7a70-ac69-47dc-b0c1-1139728d2878",
   "metadata": {},
   "source": [
    "### Focus into $2\\theta$ Bins"
   ]
  },
  {
   "cell_type": "markdown",
   "id": "fb474efb-692f-4f2d-9243-23ff9319dd76",
   "metadata": {},
   "source": [
    "For better resolution, focus the sample and vanadium data into a number of bins in the scattering angle $2\\theta$.\n",
    "And normalize afterwards."
   ]
  },
  {
   "cell_type": "code",
   "execution_count": null,
   "id": "a412534e-06e5-4723-9856-37e652dfacf7",
   "metadata": {},
   "outputs": [],
   "source": [
    "two_theta = sc.linspace(dim='two_theta', unit='rad', start=0.0, stop=np.pi, num=16)\n",
    "sample_focussed = diffraction.focus_by_two_theta(sample_dspacing, edges=two_theta)\n",
    "vana_focussed = diffraction.focus_by_two_theta(vana_dspacing, edges=two_theta)"
   ]
  },
  {
   "cell_type": "code",
   "execution_count": null,
   "id": "0532df2d-a907-40ed-8271-2dc3a71b04ee",
   "metadata": {},
   "outputs": [],
   "source": [
    "normalized = diffraction.normalize_by_vanadium(sample_focussed, vanadium=vana_focussed, edges=dspacing_edges)"
   ]
  },
  {
   "cell_type": "code",
   "execution_count": null,
   "id": "e66a78f7-e91c-4f81-a3ad-e77f6a4c05ae",
   "metadata": {},
   "outputs": [],
   "source": [
    "normalized.plot()"
   ]
  },
  {
   "cell_type": "markdown",
   "id": "336a7157-1832-4616-b97f-1372fdad3c50",
   "metadata": {},
   "source": [
    "We can also inspect d-spacing for specific ranges of scattering angles."
   ]
  },
  {
   "cell_type": "code",
   "execution_count": null,
   "id": "694c8d66-58ea-4645-adca-b33d95f81d23",
   "metadata": {},
   "outputs": [],
   "source": [
    "angle = normalized.coords['two_theta'].values\n",
    "angle = 0.5 * (angle[1:] + angle[:-1])\n",
    "results = {\n",
    "    f'{round(angle[group], 3)} rad': normalized['dspacing', :100]['two_theta', group]\n",
    "    for group in range(2, 6)\n",
    "}\n",
    "sc.plot(results)"
   ]
  }
 ],
 "metadata": {
  "kernelspec": {
   "display_name": "Python 3 (ipykernel)",
   "language": "python",
   "name": "python3"
  },
  "language_info": {
   "codemirror_mode": {
    "name": "ipython",
    "version": 3
   },
   "file_extension": ".py",
   "mimetype": "text/x-python",
   "name": "python",
   "nbconvert_exporter": "python",
   "pygments_lexer": "ipython3",
   "version": "3.9.10"
  }
 },
 "nbformat": 4,
 "nbformat_minor": 5
}
