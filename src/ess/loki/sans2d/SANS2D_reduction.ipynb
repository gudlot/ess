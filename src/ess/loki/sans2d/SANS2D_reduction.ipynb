{
 "cells": [
  {
   "cell_type": "markdown",
   "metadata": {},
   "source": [
    "## SANS2D reduction\n",
    "This is a notebook to reduce data from SANS2D. \n",
    "\n",
    "### Basic components \n",
    "* File loading: sample, sample trans, background, background trans, directbeam, directbeam trans (ess.loki)\n",
    "* Transform coordinates: sample, bench, monitor position offsets (ess.loki.larmor, consider ess.loki.sans2d, dedicated loader,  helper functions)\n",
    "* Masking (for file or programatically, ess.loki, masks applied as a part of loader da = ess.loki.load(file) or manually, da.masks['beam_stop'] = ess.loki.sans2d.make_beamstop_mask(da) or ess.loki.mask_beamstop(da)). Paths (not files) to mask to ess.loki.sans2d \n",
    "* Instrument geometry offset ess.loki.sans2d.load(.., offset = {position:monitor})\n",
    "* Define wavelenght and q bins (wavelenght bands) geomspace is fine for the moment\n",
    "* Reduction (regular full wavelenght range) - ess.sans\n",
    "* Reduction by wavelenght (reduction by wavelenght through the same fucntion, ess.sans provided loki/sans2d specific functions are removed). groupby argument is LoKI specific. To be looked at\n",
    "* Normalize and subtract (ess.sans) make more sense to be part of top-level function, both should be fine\n",
    "\n",
    "\n",
    "### The notebook uses sans.py module that contains\n",
    "\n",
    "* project_xy don't include \n",
    "* solid_angle (ess.loki.larmor and ess.loki.sans2d) -> candidate for scippneutron\n",
    "* subtract_background_mean\n",
    "* transmission_fraction - generic function taking monitors as arguments in ess.sans to be called from ess.loki.sans2d. Preprocessing of monitors can be excluded from the main function (independent helper)\n",
    "* to_wavelength - rebinning may not be required, norm term may be provided as histogram. Lines 87-92 can be moved outside and the call monitor\n",
    "* reduce uses groupby layer at the moment but may be different argument. Has some specific features of instrument. Spectrum may not be the only choice. ess.loki.sans2d. Eventually can be moved to ess.sans\n",
    "* reduce_by_wavelength\n",
    "* q resolution small clean-up (global sample variable)\n",
    "* gravity - look at the issue\n",
    "\n",
    "### sans.py calls another module contrib.py\n",
    "\n",
    "* midpoints \n",
    "* to_bin_centers candidate for scipp, copy for now\n",
    "* to_bin_edges candidate for scipp, copy for now\n",
    "* map_to_bins - may be better way to implement it, copy for now\n",
    "* select_bins (not used?)\n",
    "* make_slices may be nicer way to implement it now\n"
   ]
  },
  {
   "cell_type": "code",
   "execution_count": null,
   "metadata": {},
   "outputs": [],
   "source": [
    "import scipp as sc\n",
    "import scippneutron as scn\n",
    "from scipp.plotting import plot\n",
    "from load_files import load_isis, load_rkh_q, load_rkh_wav, load_masks\n",
    "from transform_coordinates import setup_offsets, setup_geometry\n",
    "import sans"
   ]
  },
  {
   "cell_type": "code",
   "execution_count": null,
   "metadata": {},
   "outputs": [],
   "source": [
    "sc.__version__"
   ]
  },
  {
   "cell_type": "code",
   "execution_count": null,
   "metadata": {},
   "outputs": [],
   "source": [
    "scn.__version__"
   ]
  },
  {
   "cell_type": "markdown",
   "metadata": {},
   "source": [
    "## Loading files"
   ]
  },
  {
   "cell_type": "code",
   "execution_count": null,
   "metadata": {},
   "outputs": [],
   "source": [
    "try:\n",
    "    import dataconfig # run make_config.py to create this\n",
    "except:\n",
    "    print(\"ERROR: dataconfig.py not find please run `make_config.py`\\n\")\n",
    "    !python make_config.py -h # change to `-f path` or run in terminal\n",
    "\n",
    "path = dataconfig.data_root\n",
    "direct_beam_file = 'DIRECT_SANS2D_REAR_34327_4m_8mm_16Feb16.dat'\n",
    "#TODO: Are we using moderator file?\n",
    "moderator_file = 'ModeratorStdDev_TS2_SANS_LETexptl_07Aug2015.txt'\n",
    "\n",
    "sample_run_number = 63114\n",
    "sample_transmission_run_number = 63114\n",
    "background_run_number = 63159\n",
    "background_transmission_run_number = 63159 \n",
    "directbeam_run_number = 63091\n",
    "directbeam_transmission_run_number = 63091\n",
    "\n",
    "mask_1 = f'{path}/MASK_SANS2D_REAR_Edges_16Mar2015.xml'\n",
    "mask_2 = f'{path}/MASK_SANS2D_FRONT_Edges_16Mar2015.xml'\n",
    "mask_3 = f'{path}/MASK_SANS2D_BOTH_Extras_24Mar2015.xml'\n",
    "mask_4 = f'{path}/MASK_SANS2D_REAR_Bottom_3_tubes_16May2014.xml'\n",
    "mask_5 = f'{path}/MASK_SANS2D_beam_stop_4m_x_100mm_2July2015_medium_beamstop.xml'\n",
    "mask_6 = f'{path}/MASK_SANS2D_REAR_module2_tube12.xml'\n",
    "mask_7 = f'{path}/MASK_SANS2D_FRONT_module3_tube14_module5_tube6_tube7.xml'\n",
    "mask_8 = f'{path}/MASK_SANS2D_FRONT_module2_tube18.xml'\n",
    "mask_9 = f'{path}/MASK_SANS2D_FRONT_module5_tube20.xml'\n",
    "\n",
    "idf_filename = f'{path}/SANS2D_Definition_Tubes.xml'\n",
    "\n",
    "#TODO: where are these used?\n",
    "l_collimation = sc.Variable(value=4.0, unit=sc.units.m)\n",
    "r2 = sc.Variable(value=4.0/1000, unit=sc.units.m) # sample aperture radius\n",
    "r1 = sc.Variable(value=10.0/1000, unit=sc.units.m) # source aperture radius (in user file its diameter)  \n",
    "dr = sc.Variable(value=8.0/1000, unit=sc.units.m) # virtual ring width on detector"
   ]
  },
  {
   "cell_type": "code",
   "execution_count": null,
   "metadata": {
    "tags": []
   },
   "outputs": [],
   "source": [
    "%%time\n",
    "direct_beam = load_rkh_wav(filename=f'{path}/{direct_beam_file}')\n",
    "\n",
    "#TODO: SANS2D data needs to be trimmed (to be confirmed what is required range spectrum_size =  245760//2 or spectrum_size = 122880//2)\n",
    "spectrum_size = 245760//2\n",
    "tof_bins = sc.linspace(dim = 'tof', start = 110, stop = 100000, num = 501, unit=sc.units.us)\n",
    "sample = load_isis(filename=f'{path}/SANS2D000{sample_run_number}.nxs', spectrum_size = spectrum_size, tof_bins = tof_bins)\n",
    "background = load_isis(filename=f'{path}/SANS2D000{background_run_number}.nxs', spectrum_size = spectrum_size, tof_bins = tof_bins)\n",
    "direct_beam_trans = load_isis(filename=f'{path}/SANS2D000{directbeam_run_number}.nxs', spectrum_size = spectrum_size, tof_bins = tof_bins)\n",
    "sample_trans = load_isis(filename=f'{path}/SANS2D000{sample_transmission_run_number}.nxs', spectrum_size = spectrum_size, tof_bins = tof_bins)\n",
    "background_trans = load_isis(filename=f'{path}/SANS2D000{background_transmission_run_number}.nxs', spectrum_size =  spectrum_size, tof_bins = tof_bins)\n"
   ]
  },
  {
   "cell_type": "code",
   "execution_count": null,
   "metadata": {
    "tags": []
   },
   "outputs": [],
   "source": [
    "sample"
   ]
  },
  {
   "cell_type": "markdown",
   "metadata": {},
   "source": [
    "## Setting up masks and geometries"
   ]
  },
  {
   "cell_type": "code",
   "execution_count": null,
   "metadata": {},
   "outputs": [],
   "source": [
    "#TODO: resolve this. Wasn't able to transform coordinates without doing this \n",
    "spectrum_size = 122880//2\n",
    "\n",
    "sample = sample['spectrum', 0:spectrum_size].copy()\n",
    "background = background['spectrum', 0:spectrum_size].copy()\n",
    "sample_trans = sample_trans['spectrum', 0:spectrum_size].copy()\n",
    "background_trans = background_trans['spectrum', 0:spectrum_size].copy()\n",
    "direct_beam_trans = direct_beam_trans['spectrum', 0:spectrum_size].copy()"
   ]
  },
  {
   "cell_type": "code",
   "execution_count": null,
   "metadata": {},
   "outputs": [],
   "source": [
    "mask_files = [mask_1, mask_2, mask_3, mask_4, mask_5, mask_6, mask_7, mask_8, mask_9]\n",
    "load_and_apply_masks(idf_filename, mask_files, sample, background, spectrum_size)                                                           \n",
    "    \n",
    "#PRINT masking off beamstop arm 15mm wide at 20 degrees\n",
    "#!PRINT not masking beam stop arm, M4 out\n",
    "#mask/line 15 20"
   ]
  },
  {
   "cell_type": "markdown",
   "metadata": {},
   "source": [
    "## Defining parameters for data reduction "
   ]
  },
  {
   "cell_type": "code",
   "execution_count": null,
   "metadata": {},
   "outputs": [],
   "source": [
    "q_bins = sc.linspace(dim = 'Q', start = 0.0075, stop = 0.5225, num = 104, unit = sc.units.one/sc.units.angstrom)\n",
    "wavelength_bins = sc.linspace(dim = 'wavelength', start = 2, stop = 10, num = 118, unit=sc.units.angstrom)\n",
    "wavelength_bands = sc.linspace(dim = 'wavelength', start = 2, stop = 10, num = 9, unit=sc.units.angstrom)\n",
    "min_bin = 85000.0 * sc.units.us\n",
    "max_bin = 98000.0 * sc.units.us\n",
    "\n",
    "#Solid angle values\n",
    "pixel_size = 0.00405 * sc.units.m\n",
    "pixel_length = 0.002033984375 * sc.units.m\n",
    "\n",
    "#Coordinate trasnformation\n",
    "sample_pos_z_offset = 0.053 * sc.units.m\n",
    "bench_pos_y_offset = 0.001 * sc.units.m\n",
    "monitor4_pos_z_offset = -0.055 * sc.units.m\n",
    "\n",
    "#Geometry transformation\n",
    "x_offset = -0.09288 * sc.units.m\n",
    "y_offset = 0.08195 * sc.units.m\n",
    "z_offset = 0.0 * sc.units.m"
   ]
  },
  {
   "cell_type": "markdown",
   "metadata": {},
   "source": [
    "### Do coordinate transformations"
   ]
  },
  {
   "cell_type": "code",
   "execution_count": null,
   "metadata": {},
   "outputs": [],
   "source": [
    "setup_offsets(sample, sample_trans, background, background_trans, direct_beam_trans, sample_pos_z_offset, bench_pos_y_offset, monitor4_pos_z_offset)"
   ]
  },
  {
   "cell_type": "code",
   "execution_count": null,
   "metadata": {},
   "outputs": [],
   "source": [
    "setup_geometry(sample, background, x_offset, y_offset, z_offset)"
   ]
  },
  {
   "cell_type": "code",
   "execution_count": null,
   "metadata": {},
   "outputs": [],
   "source": [
    "scn.instrument_view(sample)"
   ]
  },
  {
   "cell_type": "markdown",
   "metadata": {},
   "source": [
    "\n",
    "\n",
    "sample_q_reduce = sans.to_q(data=sample,\n",
    "                        transmission=sample_trans,\n",
    "                        direct_beam=direct_beam,\n",
    "                        direct_beam_transmission=direct_beam_trans, # note: background_trans\n",
    "                        masks=sample.masks,\n",
    "                        q_bins = q_bins,\n",
    "                        wavelength_bins = wavelength_bins)\n",
    "\n",
    "background_q_reduce = sans.to_q(data=background,\n",
    "                            transmission=background_trans,\n",
    "                            direct_beam=direct_beam,\n",
    "                            direct_beam_transmission=direct_beam_trans, # note: background_trans\n",
    "                            masks=background.masks,\n",
    "                            q_bins = q_bins,\n",
    "                            wavelength_bins = wavelength_bins)\n",
    "\n",
    "reduced = sans.normalize_and_subtract(sample_q_reduce, background_q_reduce)\n",
    "\n",
    "sample.coords['position'] = sample.coords['base_position']\n",
    "background.coords['position'] = background.coords['base_position']\n",
    "\n",
    "mantid_q1d_file = '63114_rear_1D_1.75_16.5.txt'\n",
    "mantid_q1d = load_rkh_q(filename=f'{path}/{mantid_q1d_file}')\n",
    "reduced_scaled = sc.scalar(0.68) * reduced\n",
    "plot({'scipp': reduced_scaled, 'mantid':mantid_q1d})"
   ]
  },
  {
   "cell_type": "markdown",
   "metadata": {},
   "source": [
    "## Reduction (full spectra)"
   ]
  },
  {
   "cell_type": "code",
   "execution_count": null,
   "metadata": {},
   "outputs": [],
   "source": [
    "%%time\n",
    "sample_q_reduce = sans.to_q(data=sample,\n",
    "                        background = background, \n",
    "                        transmission=sample_trans,\n",
    "                        direct_beam=direct_beam,\n",
    "                        direct_beam_transmission=direct_beam_trans,\n",
    "                        masks=sample.masks,\n",
    "                        q_bins = q_bins,\n",
    "                        min_bin = min_bin, \n",
    "                        max_bin = max_bin,\n",
    "                        pixel_size = pixel_size, \n",
    "                        pixel_length = pixel_length,\n",
    "                        wavelength_bins = wavelength_bins)"
   ]
  },
  {
   "cell_type": "code",
   "execution_count": null,
   "metadata": {},
   "outputs": [],
   "source": [
    "%%time\n",
    "background_q_reduce = sans.to_q(data=background,\n",
    "                            background = background, \n",
    "                            transmission=background_trans,\n",
    "                            direct_beam=direct_beam,\n",
    "                            direct_beam_transmission=direct_beam_trans, # note: background_trans\n",
    "                            masks=background.masks,\n",
    "                            q_bins = q_bins,\n",
    "                            min_bin = min_bin, \n",
    "                            max_bin = max_bin,\n",
    "                            pixel_size = pixel_size, \n",
    "                            pixel_length = pixel_length,\n",
    "                            wavelength_bins = wavelength_bins)"
   ]
  },
  {
   "cell_type": "code",
   "execution_count": null,
   "metadata": {},
   "outputs": [],
   "source": [
    "reduced = sans.normalize_and_subtract(sample_q_reduce, background_q_reduce)"
   ]
  },
  {
   "cell_type": "markdown",
   "metadata": {},
   "source": [
    "## Reduction by wavelength"
   ]
  },
  {
   "cell_type": "code",
   "execution_count": null,
   "metadata": {},
   "outputs": [],
   "source": [
    "%%time\n",
    "sample_q_lambda = sans.to_q(data=sample,\n",
    "                            background = background, \n",
    "                                         transmission=sample_trans,\n",
    "                                         direct_beam=direct_beam,\n",
    "                                         direct_beam_transmission=direct_beam_trans, # note: background_trans\n",
    "                                         masks=sample.masks,\n",
    "                                         q_bins = q_bins,\n",
    "                                         min_bin = min_bin, \n",
    "                                         max_bin = max_bin,\n",
    "                                         pixel_size = pixel_size, \n",
    "                                         pixel_length = pixel_length,\n",
    "                                         wavelength_bins = wavelength_bins,\n",
    "                                         wavelength_bands = wavelength_bands)"
   ]
  },
  {
   "cell_type": "code",
   "execution_count": null,
   "metadata": {},
   "outputs": [],
   "source": [
    "%%time\n",
    "background_q_lambda = sans.to_q(data=background,\n",
    "                                background = background, \n",
    "                                transmission=background_trans,\n",
    "                                direct_beam=direct_beam,\n",
    "                                direct_beam_transmission=direct_beam_trans, # note: same as transmission\n",
    "                                masks=background.masks,\n",
    "                                q_bins = q_bins,\n",
    "                                min_bin = min_bin, \n",
    "                                max_bin = max_bin,\n",
    "                                pixel_size = pixel_size, \n",
    "                                pixel_length = pixel_length,\n",
    "                                wavelength_bins = wavelength_bins,\n",
    "                                wavelength_bands = wavelength_bands)"
   ]
  },
  {
   "cell_type": "code",
   "execution_count": null,
   "metadata": {},
   "outputs": [],
   "source": [
    "sample_q_reduce_wav = sc.sum(sample_q_lambda, 'wavelength')\n",
    "background_q_reduce_wav = sc.sum(background_q_lambda, 'wavelength')"
   ]
  },
  {
   "cell_type": "code",
   "execution_count": null,
   "metadata": {},
   "outputs": [],
   "source": [
    "reduced_by_wavelength = sans.normalize_and_subtract(sample_q_reduce_wav, background_q_reduce_wav)"
   ]
  },
  {
   "cell_type": "markdown",
   "metadata": {},
   "source": [
    "## Comoparison reduced vs reduced_by_wavelength"
   ]
  },
  {
   "cell_type": "code",
   "execution_count": null,
   "metadata": {},
   "outputs": [],
   "source": [
    "plot({'reduced': reduced, 'reduced_by_wavelength':reduced_by_wavelength})"
   ]
  },
  {
   "cell_type": "code",
   "execution_count": null,
   "metadata": {},
   "outputs": [],
   "source": [
    "#sc.plot(sc.collapse(sample_q_lambda, keep='Q'))"
   ]
  },
  {
   "cell_type": "code",
   "execution_count": null,
   "metadata": {},
   "outputs": [],
   "source": [
    "reduced_lambda = sans.normalize_and_subtract(sample_q_lambda, background_q_lambda)\n",
    "sc.plot(sc.collapse(reduced_lambda, keep='Q'))"
   ]
  },
  {
   "cell_type": "markdown",
   "metadata": {},
   "source": [
    "scipp_sample_count = sc.collapse(sample_q_lambda['data'], keep='Q')\n",
    "scipp_sample_count = {f'scipp:{key}':val for key, val in scipp_sample_count.items()}\n",
    "\n",
    "scipp_sample_norm = sc.collapse(sample_q_lambda['norm'], keep='Q')\n",
    "scipp_sample_norm = {f'scipp:{key}':val for key, val in scipp_sample_norm.items()}\n",
    "\n",
    "scipp_background_count = sc.collapse(background_q_lambda['data'], keep='Q')\n",
    "scipp_background_count = {f'scipp:{key}':val for key, val in scipp_background_count.items()}\n",
    "\n",
    "scipp_background_norm = sc.collapse(background_q_lambda['norm'], keep='Q')\n",
    "scipp_background_norm = {f'scipp:{key}':val for key, val in scipp_background_norm.items()}\n",
    "\n",
    "norm_substract = scipp_sample_count['scipp:wavelength:0']/scipp_sample_norm['scipp:wavelength:0'] \n",
    "background_norm = scipp_background_count['scipp:wavelength:0']/scipp_background_norm['scipp:wavelength:0']\n",
    "\n",
    "sc.plot(scipp_background_count['scipp:wavelength:0'])\n"
   ]
  },
  {
   "cell_type": "markdown",
   "metadata": {
    "tags": []
   },
   "source": [
    "import numpy as np\n",
    "import matplotlib.pyplot as plt\n",
    "\n",
    "mantid_q1d_file_wav = '63114_rear_1D_2.0_3.0_lab_can_count.dat'\n",
    "filename=f'{path}/{mantid_q1d_file_wav}'\n",
    "q, I_mantid_count, e = np.loadtxt(filename, unpack=True, skiprows=2)\n",
    "\n",
    "mantid_q1d_file_wav = '63114_rear_1D_2.0_3.0_lab_can_count.dat'\n",
    "filename=f'{path}/{mantid_q1d_file_wav}'\n",
    "q, I_mantid_norm, e = np.loadtxt(filename, unpack=True, skiprows=2)\n",
    "\n",
    "#var = sc.array(dims=['Q', 'I'], values=np.array(x,y))\n",
    "#scipp_q_lambda_count['scipp:wavelength:0']\n",
    "I_scipp = scipp_background_count['scipp:wavelength:0'].values\n",
    "#sc.plot(scipp_sample_count['scipp:wavelength:0']/scipp_sample_norm['scipp:wavelength:0'])\n",
    "\n",
    "line1, = plt.plot(0.5*(q_bins.values[1:] + q_bins.values[:-1]), I_scipp, label='scipp (2.0-3.0)')\n",
    "line2, = plt.plot(q, 12*I_mantid_count, label='mantid (2.0-3.0)')\n",
    "#plt.yscale('log')\n",
    "\n",
    "plt.xlabel('q [ 1/Å ]')\n",
    "plt.ylabel('I(q) [a.u.]')\n",
    "plt.legend(loc=\"upper right\")\n",
    "plt.show()\n"
   ]
  },
  {
   "cell_type": "markdown",
   "metadata": {},
   "source": [
    "## Comparison with Mantid"
   ]
  },
  {
   "cell_type": "code",
   "execution_count": null,
   "metadata": {
    "tags": []
   },
   "outputs": [],
   "source": [
    "#scale factor at the end 0.02364 (from mantid)\n",
    "mantid_q1d_file = '63114_rear_1D_2.0_10.0.txt'\n",
    "mantid_q1d = load_rkh_q(filename=f'{path}/{mantid_q1d_file}')\n",
    "reduced_scaled = sc.scalar(1) * reduced\n",
    "plot({'scipp': reduced_scaled, 'mantid':mantid_q1d})"
   ]
  },
  {
   "cell_type": "code",
   "execution_count": null,
   "metadata": {},
   "outputs": [],
   "source": [
    "mantid_q1d_file_wav = '63114_rear_1D_2.0_3.0.txt'\n",
    "mantid_q1d_wav_1 = load_rkh_q(filename=f'{path}/{mantid_q1d_file_wav}')\n",
    "mantid_q1d_file_wav = '63114_rear_1D_3.0_4.0.txt'\n",
    "mantid_q1d_wav_2 = load_rkh_q(filename=f'{path}/{mantid_q1d_file_wav}')\n",
    "mantid_q1d_file_wav = '63114_rear_1D_4.0_5.0.txt'\n",
    "mantid_q1d_wav_3 = load_rkh_q(filename=f'{path}/{mantid_q1d_file_wav}')\n",
    "mantid_q1d_file_wav = '63114_rear_1D_5.0_6.0.txt'\n",
    "mantid_q1d_wav_4 = load_rkh_q(filename=f'{path}/{mantid_q1d_file_wav}')\n",
    "mantid_q1d_file_wav = '63114_rear_1D_6.0_7.0.txt'\n",
    "mantid_q1d_wav_5 = load_rkh_q(filename=f'{path}/{mantid_q1d_file_wav}')\n",
    "mantid_q1d_file_wav = '63114_rear_1D_7.0_8.0.txt'\n",
    "mantid_q1d_wav_6 = load_rkh_q(filename=f'{path}/{mantid_q1d_file_wav}')\n",
    "mantid_q1d_file_wav = '63114_rear_1D_8.0_9.0.txt'\n",
    "mantid_q1d_wav_7 = load_rkh_q(filename=f'{path}/{mantid_q1d_file_wav}')\n",
    "mantid_q1d_file_wav = '63114_rear_1D_9.0_10.0.txt'\n",
    "mantid_q1d_wav_8 = load_rkh_q(filename=f'{path}/{mantid_q1d_file_wav}')\n",
    "\n",
    "\n",
    "scipp_q1d_wav = sc.collapse(reduced_lambda, keep='Q')\n",
    "scipp_q1d_wav = {f'scipp:{key}':val for key, val in scipp_q1d_wav.items()}\n"
   ]
  },
  {
   "cell_type": "code",
   "execution_count": null,
   "metadata": {},
   "outputs": [],
   "source": [
    "scipp_q1d_wav['mantid_0'] = sc.scalar(1.0)*mantid_q1d_wav_1\n",
    "plot({'mantid 2.0-3.0' : scipp_q1d_wav['mantid_0'], 'scipp 2.0-3.0': scipp_q1d_wav['scipp:wavelength:0']})"
   ]
  },
  {
   "cell_type": "code",
   "execution_count": null,
   "metadata": {},
   "outputs": [],
   "source": [
    "scipp_q1d_wav['mantid_1'] = sc.scalar(1.0)*mantid_q1d_wav_2\n",
    "plot({'mantid 3.0-4.0' : scipp_q1d_wav['mantid_1'], 'scipp 3.0-4.0': scipp_q1d_wav['scipp:wavelength:1']})"
   ]
  },
  {
   "cell_type": "code",
   "execution_count": null,
   "metadata": {},
   "outputs": [],
   "source": [
    "scipp_q1d_wav['mantid_2'] = sc.scalar(1.0)*mantid_q1d_wav_3\n",
    "plot({'mantid 4.0-5.0:' : scipp_q1d_wav['mantid_2'], 'scipp 4.0-5.0': scipp_q1d_wav['scipp:wavelength:2']})"
   ]
  },
  {
   "cell_type": "code",
   "execution_count": null,
   "metadata": {},
   "outputs": [],
   "source": [
    "scipp_q1d_wav['mantid_3'] = sc.scalar(1.0)*mantid_q1d_wav_4\n",
    "plot({'mantid 5.0-6.0:' : scipp_q1d_wav['mantid_3'], 'scipp 5.0-6.0': scipp_q1d_wav['scipp:wavelength:3']})"
   ]
  },
  {
   "cell_type": "code",
   "execution_count": null,
   "metadata": {},
   "outputs": [],
   "source": [
    "scipp_q1d_wav['mantid_4'] = sc.scalar(1.0)*mantid_q1d_wav_5\n",
    "plot({'mantid 6.0-7.0:' : scipp_q1d_wav['mantid_4'], 'scipp 6.0-7.0': scipp_q1d_wav['scipp:wavelength:4']})"
   ]
  },
  {
   "cell_type": "code",
   "execution_count": null,
   "metadata": {},
   "outputs": [],
   "source": [
    "scipp_q1d_wav['mantid_5'] = sc.scalar(1.0)*mantid_q1d_wav_6\n",
    "plot({'mantid 7.0-8.0:' : scipp_q1d_wav['mantid_5'], 'scipp 7.0-8.0': scipp_q1d_wav['scipp:wavelength:5']})"
   ]
  },
  {
   "cell_type": "code",
   "execution_count": null,
   "metadata": {},
   "outputs": [],
   "source": [
    "scipp_q1d_wav['mantid_6'] = sc.scalar(1.0)*mantid_q1d_wav_7\n",
    "plot({'mantid 8.0-9.0:' : scipp_q1d_wav['mantid_6'], 'scipp 8.0-9.0': scipp_q1d_wav['scipp:wavelength:6']})"
   ]
  },
  {
   "cell_type": "code",
   "execution_count": null,
   "metadata": {},
   "outputs": [],
   "source": [
    "scipp_q1d_wav['mantid_7'] = sc.scalar(1.0)*mantid_q1d_wav_8\n",
    "plot({'mantid 9.0-10.0:' : scipp_q1d_wav['mantid_7'], 'scipp 9.0-10.0': scipp_q1d_wav['scipp:wavelength:7']})"
   ]
  },
  {
   "cell_type": "code",
   "execution_count": null,
   "metadata": {},
   "outputs": [],
   "source": [
    "help(sc.geometry.position)"
   ]
  },
  {
   "cell_type": "code",
   "execution_count": null,
   "metadata": {},
   "outputs": [],
   "source": []
  },
  {
   "cell_type": "code",
   "execution_count": null,
   "metadata": {},
   "outputs": [],
   "source": []
  }
 ],
 "metadata": {
  "kernelspec": {
   "display_name": "Python 3 (ipykernel)",
   "language": "python",
   "name": "python3"
  },
  "language_info": {
   "codemirror_mode": {
    "name": "ipython",
    "version": 3
   },
   "file_extension": ".py",
   "mimetype": "text/x-python",
   "name": "python",
   "nbconvert_exporter": "python",
   "pygments_lexer": "ipython3",
   "version": "3.8.12"
  },
  "varInspector": {
   "cols": {
    "lenName": 16,
    "lenType": 16,
    "lenVar": 40
   },
   "kernels_config": {
    "python": {
     "delete_cmd_postfix": "",
     "delete_cmd_prefix": "del ",
     "library": "var_list.py",
     "varRefreshCmd": "print(var_dic_list())"
    },
    "r": {
     "delete_cmd_postfix": ") ",
     "delete_cmd_prefix": "rm(",
     "library": "var_list.r",
     "varRefreshCmd": "cat(var_dic_list()) "
    }
   },
   "types_to_exclude": [
    "module",
    "function",
    "builtin_function_or_method",
    "instance",
    "_Feature"
   ],
   "window_display": false
  }
 },
 "nbformat": 4,
 "nbformat_minor": 4
}
