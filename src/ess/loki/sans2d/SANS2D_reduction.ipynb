{
 "cells": [
  {
   "cell_type": "markdown",
   "metadata": {},
   "source": [
    "## SANS2D reduction\n",
    "This is a notebook to reduce data from SANS2D. "
   ]
  },
  {
   "cell_type": "code",
   "execution_count": null,
   "metadata": {},
   "outputs": [],
   "source": [
    "import scipp as sc\n",
    "import scippneutron as scn\n",
    "from scipp.plotting import plot\n",
    "from ess.loki.load_files import load_isis, load_rkh_q, load_rkh_wav, load_and_apply_masks\n",
    "from transform_coordinates import setup_offsets, setup_geometry\n",
    "from ess.sans import sans"
   ]
  },
  {
   "cell_type": "markdown",
   "metadata": {},
   "source": [
    "## Loading files"
   ]
  },
  {
   "cell_type": "code",
   "execution_count": null,
   "metadata": {},
   "outputs": [],
   "source": [
    "try:\n",
    "    import dataconfig # run make_config.py to create this\n",
    "except:\n",
    "    print(\"ERROR: dataconfig.py not find please run `make_config.py`\\n\")\n",
    "    !python make_config.py -h # change to `-f path` or run in terminal\n",
    "\n",
    "path = dataconfig.data_root\n",
    "direct_beam_file = 'DIRECT_SANS2D_REAR_34327_4m_8mm_16Feb16.dat'\n",
    "#TODO: Are we using moderator file?\n",
    "moderator_file = 'ModeratorStdDev_TS2_SANS_LETexptl_07Aug2015.txt'\n",
    "\n",
    "sample_run_number = 63114\n",
    "sample_transmission_run_number = 63114\n",
    "background_run_number = 63159\n",
    "background_transmission_run_number = 63159 \n",
    "direct_run_number = 63091\n",
    "\n",
    "mask_1 = f'{path}/MASK_SANS2D_REAR_Edges_16Mar2015.xml'\n",
    "mask_2 = f'{path}/MASK_SANS2D_FRONT_Edges_16Mar2015.xml'\n",
    "mask_3 = f'{path}/MASK_SANS2D_BOTH_Extras_24Mar2015.xml'\n",
    "mask_4 = f'{path}/MASK_SANS2D_REAR_Bottom_3_tubes_16May2014.xml'\n",
    "mask_5 = f'{path}/MASK_SANS2D_beam_stop_4m_x_100mm_2July2015_medium_beamstop.xml'\n",
    "mask_6 = f'{path}/MASK_SANS2D_REAR_module2_tube12.xml'\n",
    "mask_7 = f'{path}/MASK_SANS2D_FRONT_module3_tube14_module5_tube6_tube7.xml'\n",
    "mask_8 = f'{path}/MASK_SANS2D_FRONT_module2_tube18.xml'\n",
    "mask_9 = f'{path}/MASK_SANS2D_FRONT_module5_tube20.xml'\n",
    "\n",
    "idf_filename = f'{path}/SANS2D_Definition_Tubes.xml'\n",
    "\n",
    "#TODO: where are these used?\n",
    "l_collimation = sc.Variable(value=4.0, unit=sc.units.m)\n",
    "r2 = sc.Variable(value=4.0/1000, unit=sc.units.m) # sample aperture radius\n",
    "r1 = sc.Variable(value=10.0/1000, unit=sc.units.m) # source aperture radius (in user file its diameter)  \n",
    "dr = sc.Variable(value=8.0/1000, unit=sc.units.m) # virtual ring width on detector"
   ]
  },
  {
   "cell_type": "code",
   "execution_count": null,
   "metadata": {
    "tags": []
   },
   "outputs": [],
   "source": [
    "%%time\n",
    "direct_beam = load_rkh_wav(filename=f'{path}/{direct_beam_file}')\n",
    "\n",
    "#TODO: SANS2D data needs to be trimmed (to be confirmed what is required range spectrum_size =  245760//2 or spectrum_size = 122880//2)\n",
    "spectrum_size = 245760//2\n",
    "tof_bins = sc.linspace(dim = 'tof', start = 110, stop = 100000, num = 501, unit=sc.units.us)\n",
    "sample = load_isis(filename=f'{path}/SANS2D000{sample_run_number}.nxs', spectrum_size = spectrum_size, tof_bins = tof_bins)\n",
    "background = load_isis(filename=f'{path}/SANS2D000{background_run_number}.nxs', spectrum_size = spectrum_size, tof_bins = tof_bins)\n",
    "direct = load_isis(filename=f'{path}/SANS2D000{direct_run_number}.nxs', spectrum_size = spectrum_size, tof_bins = tof_bins)\n",
    "sample_trans = load_isis(filename=f'{path}/SANS2D000{sample_transmission_run_number}.nxs', spectrum_size = spectrum_size, tof_bins = tof_bins)\n",
    "background_trans = load_isis(filename=f'{path}/SANS2D000{background_transmission_run_number}.nxs', spectrum_size =  spectrum_size, tof_bins = tof_bins)\n"
   ]
  },
  {
   "cell_type": "code",
   "execution_count": null,
   "metadata": {
    "tags": []
   },
   "outputs": [],
   "source": [
    "sample"
   ]
  },
  {
   "cell_type": "markdown",
   "metadata": {},
   "source": [
    "## Setting up masks and geometries"
   ]
  },
  {
   "cell_type": "code",
   "execution_count": null,
   "metadata": {},
   "outputs": [],
   "source": [
    "#TODO: resolve this. Wasn't able to transform coordinates without doing this \n",
    "spectrum_size = 122880//2\n",
    "\n",
    "sample = sample['spectrum', 0:spectrum_size].copy()\n",
    "background = background['spectrum', 0:spectrum_size].copy()\n",
    "sample_trans = sample_trans['spectrum', 0:spectrum_size].copy()\n",
    "background_trans = background_trans['spectrum', 0:spectrum_size].copy()\n",
    "direct = direct['spectrum', 0:spectrum_size].copy()"
   ]
  },
  {
   "cell_type": "code",
   "execution_count": null,
   "metadata": {},
   "outputs": [],
   "source": [
    "mask_files = [mask_1, mask_2, mask_3, mask_4, mask_5, mask_6, mask_7, mask_8, mask_9]\n",
    "load_and_apply_masks(idf_filename, mask_files, sample, background, spectrum_size)                                                           \n",
    "    \n",
    "#PRINT masking off beamstop arm 15mm wide at 20 degrees\n",
    "#!PRINT not masking beam stop arm, M4 out\n",
    "#mask/line 15 20"
   ]
  },
  {
   "cell_type": "markdown",
   "metadata": {},
   "source": [
    "## Defining parameters for data reduction "
   ]
  },
  {
   "cell_type": "code",
   "execution_count": null,
   "metadata": {},
   "outputs": [],
   "source": [
    "q_bins = sc.linspace(dim = 'Q', start = 0.0075, stop = 0.5225, num = 104, unit = sc.units.one/sc.units.angstrom)\n",
    "wavelength_bins = sc.linspace(dim = 'wavelength', start = 2, stop = 10, num = 118, unit=sc.units.angstrom)\n",
    "wavelength_bands = sc.linspace(dim = 'wavelength', start = 2, stop = 10, num = 9, unit=sc.units.angstrom)\n",
    "#Min and Max bins for M2 (incident) monitor \n",
    "min_bin_mon2 = 85000.0 * sc.units.us\n",
    "max_bin_mon2 = 98000.0 * sc.units.us\n",
    "min_bin_mon4 = 85000.0 * sc.units.us\n",
    "max_bin_mon4 = 98000.0 * sc.units.us\n",
    "tof_bins_monitors = [min_bin_mon_incident, max_bin_mon_incident, \n",
    "                     min_bin_mon_transmission, max_bin_mon_transmission] \n",
    "#Solid angle values\n",
    "pixel_size = 0.00405 * sc.units.m\n",
    "pixel_length = 0.002033984375 * sc.units.m\n",
    "\n",
    "#Coordinate transformation\n",
    "sample_pos_z_offset = 0.053 * sc.units.m\n",
    "bench_pos_y_offset = 0.001 * sc.units.m\n",
    "monitor4_pos_z_offset = -0.055 * sc.units.m\n",
    "\n",
    "#Geometry transformation\n",
    "x_offset = -0.09288 * sc.units.m\n",
    "y_offset = 0.08195 * sc.units.m\n",
    "z_offset = 0.0 * sc.units.m"
   ]
  },
  {
   "cell_type": "markdown",
   "metadata": {},
   "source": [
    "### Do coordinate transformations"
   ]
  },
  {
   "cell_type": "code",
   "execution_count": null,
   "metadata": {},
   "outputs": [],
   "source": [
    "setup_offsets(sample, sample_trans, background, background_trans, direct, sample_pos_z_offset, bench_pos_y_offset, monitor4_pos_z_offset)"
   ]
  },
  {
   "cell_type": "code",
   "execution_count": null,
   "metadata": {},
   "outputs": [],
   "source": [
    "setup_geometry(sample, background, direct, x_offset, y_offset, z_offset)"
   ]
  },
  {
   "cell_type": "markdown",
   "metadata": {},
   "source": [
    "## Reduction (full spectra)"
   ]
  },
  {
   "cell_type": "code",
   "execution_count": null,
   "metadata": {},
   "outputs": [],
   "source": [
    "%%time\n",
    "sample_q_reduce = sans.to_q(data=sample,\n",
    "                        transmission=sample_trans,\n",
    "                        direct_beam=direct_beam,\n",
    "                        direct = direct, \n",
    "                        masks=sample.masks,\n",
    "                        q_bins = q_bins,\n",
    "                        tof_bins_monitors = tof_bins_monitors,\n",
    "                        pixel_size = pixel_size, \n",
    "                        pixel_length = pixel_length,\n",
    "                        wavelength_bins = wavelength_bins)"
   ]
  },
  {
   "cell_type": "code",
   "execution_count": null,
   "metadata": {},
   "outputs": [],
   "source": [
    "%%time\n",
    "background_q_reduce = sans.to_q(data=background,\n",
    "                            transmission=background_trans,\n",
    "                            direct_beam=direct_beam,\n",
    "                            direct = direct, # note: background_trans\n",
    "                            masks=background.masks,\n",
    "                            q_bins = q_bins,\n",
    "                            tof_bins_monitors = tof_bins_monitors,\n",
    "                            pixel_size = pixel_size, \n",
    "                            pixel_length = pixel_length,\n",
    "                            wavelength_bins = wavelength_bins)"
   ]
  },
  {
   "cell_type": "code",
   "execution_count": null,
   "metadata": {},
   "outputs": [],
   "source": [
    "reduced = sans.normalize_and_subtract(sample_q_reduce, background_q_reduce)"
   ]
  },
  {
   "cell_type": "markdown",
   "metadata": {},
   "source": [
    "## Reduction by wavelength"
   ]
  },
  {
   "cell_type": "code",
   "execution_count": null,
   "metadata": {},
   "outputs": [],
   "source": [
    "%%time\n",
    "sample_q_lambda = sans.to_q(data=sample,\n",
    "                                         transmission=sample_trans,\n",
    "                                         direct_beam=direct_beam,\n",
    "                                         direct = direct, # note: background_trans\n",
    "                                         masks=sample.masks,\n",
    "                                         q_bins = q_bins,\n",
    "                                         tof_bins_monitors = tof_bins_monitors,\n",
    "                                         pixel_size = pixel_size, \n",
    "                                         pixel_length = pixel_length,\n",
    "                                         wavelength_bins = wavelength_bins,\n",
    "                                         wavelength_bands = wavelength_bands)"
   ]
  },
  {
   "cell_type": "code",
   "execution_count": null,
   "metadata": {},
   "outputs": [],
   "source": [
    "%%time\n",
    "background_q_lambda = sans.to_q(data=background,\n",
    "                                transmission=background_trans,\n",
    "                                direct_beam=direct_beam,\n",
    "                                direct = direct, # note: same as transmission\n",
    "                                masks=background.masks,\n",
    "                                q_bins = q_bins,\n",
    "                                tof_bins_monitors = tof_bins_monitors,\n",
    "                                pixel_size = pixel_size, \n",
    "                                pixel_length = pixel_length,\n",
    "                                wavelength_bins = wavelength_bins,\n",
    "                                wavelength_bands = wavelength_bands)"
   ]
  },
  {
   "cell_type": "code",
   "execution_count": null,
   "metadata": {},
   "outputs": [],
   "source": [
    "sample_q_reduce_wav = sc.sum(sample_q_lambda, 'wavelength')\n",
    "background_q_reduce_wav = sc.sum(background_q_lambda, 'wavelength')"
   ]
  },
  {
   "cell_type": "code",
   "execution_count": null,
   "metadata": {},
   "outputs": [],
   "source": [
    "reduced_by_wavelength = sans.normalize_and_subtract(sample_q_reduce_wav, background_q_reduce_wav)"
   ]
  },
  {
   "cell_type": "markdown",
   "metadata": {},
   "source": [
    "## Comparison reduced vs reduced_by_wavelength"
   ]
  },
  {
   "cell_type": "code",
   "execution_count": null,
   "metadata": {},
   "outputs": [],
   "source": [
    "plot({'reduced': reduced, 'reduced_by_wavelength':reduced_by_wavelength})"
   ]
  },
  {
   "cell_type": "code",
   "execution_count": null,
   "metadata": {},
   "outputs": [],
   "source": [
    "reduced_lambda = sans.normalize_and_subtract(sample_q_lambda, background_q_lambda)\n",
    "sc.plot(sc.collapse(reduced_lambda, keep='Q'))"
   ]
  }
 ],
 "metadata": {
  "kernelspec": {
   "display_name": "Python 3 (ipykernel)",
   "language": "python",
   "name": "python3"
  },
  "language_info": {
   "codemirror_mode": {
    "name": "ipython",
    "version": 3
   },
   "file_extension": ".py",
   "mimetype": "text/x-python",
   "name": "python",
   "nbconvert_exporter": "python",
   "pygments_lexer": "ipython3",
   "version": "3.8.12"
  },
  "varInspector": {
   "cols": {
    "lenName": 16,
    "lenType": 16,
    "lenVar": 40
   },
   "kernels_config": {
    "python": {
     "delete_cmd_postfix": "",
     "delete_cmd_prefix": "del ",
     "library": "var_list.py",
     "varRefreshCmd": "print(var_dic_list())"
    },
    "r": {
     "delete_cmd_postfix": ") ",
     "delete_cmd_prefix": "rm(",
     "library": "var_list.r",
     "varRefreshCmd": "cat(var_dic_list()) "
    }
   },
   "types_to_exclude": [
    "module",
    "function",
    "builtin_function_or_method",
    "instance",
    "_Feature"
   ],
   "window_display": false
  }
 },
 "nbformat": 4,
 "nbformat_minor": 4
}
